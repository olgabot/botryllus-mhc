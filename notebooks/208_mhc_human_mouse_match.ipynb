{
 "cells": [
  {
   "cell_type": "markdown",
   "id": "913feaae-5220-43a7-a5a1-9e2d860829f2",
   "metadata": {
    "tags": []
   },
   "source": [
    "# Imports and data loading"
   ]
  },
  {
   "cell_type": "code",
   "execution_count": 1,
   "id": "3828732d-1c2c-496e-b8ee-1c506aadf32f",
   "metadata": {},
   "outputs": [],
   "source": [
    "import gtfparse\n",
    "import os\n",
    "import re\n",
    "import numpy as np\n",
    "import pandas as pd\n",
    "\n",
    "\n",
    "import seaborn as sns\n",
    "import glob\n",
    "from tqdm import tqdm\n",
    "from joblib import Parallel, delayed\n",
    "\n",
    "from kmer_utils import get_encoded_kmer_hashvals\n",
    "\n",
    "%load_ext autoreload\n",
    "%autoreload 2"
   ]
  },
  {
   "cell_type": "code",
   "execution_count": 2,
   "id": "69acd381-dc94-440a-8b2f-be634884e0f1",
   "metadata": {},
   "outputs": [],
   "source": [
    "def format_integer(integer):\n",
    "    return f'{integer:,d}'\n",
    "\n",
    "def print_shape(df):\n",
    "    height, width = df.shape\n",
    "    df"
   ]
  },
  {
   "cell_type": "code",
   "execution_count": 3,
   "id": "de226719-910b-4bde-9380-080a702b2b5b",
   "metadata": {},
   "outputs": [],
   "source": [
    "outdir = '/Users/olgabot/botryllus/adhoc-analysis/2022-apr--gather-botryllus-in-human-mouse-with-kmers/'\n",
    "# ! mkdir $outdir"
   ]
  },
  {
   "cell_type": "code",
   "execution_count": 4,
   "id": "cca3ce81-5a43-49db-bccb-e87d82ec9fcc",
   "metadata": {},
   "outputs": [
    {
     "name": "stdout",
     "output_type": "stream",
     "text": [
      "<generator object <genexpr> at 0x1b638a5e0>\n",
      "CPU times: user 29.4 s, sys: 33.4 s, total: 1min 2s\n",
      "Wall time: 1min 3s\n"
     ]
    },
    {
     "data": {
      "text/html": [
       "<div>\n",
       "<style scoped>\n",
       "    .dataframe tbody tr th:only-of-type {\n",
       "        vertical-align: middle;\n",
       "    }\n",
       "\n",
       "    .dataframe tbody tr th {\n",
       "        vertical-align: top;\n",
       "    }\n",
       "\n",
       "    .dataframe thead th {\n",
       "        text-align: right;\n",
       "    }\n",
       "</style>\n",
       "<table border=\"1\" class=\"dataframe\">\n",
       "  <thead>\n",
       "    <tr style=\"text-align: right;\">\n",
       "      <th></th>\n",
       "      <th>i_query</th>\n",
       "      <th>kmer_query</th>\n",
       "      <th>kmer_hp</th>\n",
       "      <th>hashval</th>\n",
       "      <th>name_query</th>\n",
       "      <th>i_found</th>\n",
       "      <th>kmer_found</th>\n",
       "      <th>name_found</th>\n",
       "      <th>n_kmers</th>\n",
       "      <th>intersect_bp</th>\n",
       "      <th>containment</th>\n",
       "      <th>symbol</th>\n",
       "      <th>species</th>\n",
       "      <th>found_i</th>\n",
       "      <th>homolog_group</th>\n",
       "      <th>genomic_coord</th>\n",
       "      <th>all_homologs_found</th>\n",
       "      <th>transcript_id</th>\n",
       "    </tr>\n",
       "  </thead>\n",
       "  <tbody>\n",
       "    <tr>\n",
       "      <th>0</th>\n",
       "      <td>623</td>\n",
       "      <td>DVNLRDQQGKSPIFYAEEQNNLDV</td>\n",
       "      <td>phphpppphpphhhhhppppphph</td>\n",
       "      <td>9053272763448756255</td>\n",
       "      <td>g22187.t1 frame:1</td>\n",
       "      <td>30</td>\n",
       "      <td>RGHLCRTRPTDLVFVVDSSRSVRP</td>\n",
       "      <td>ENST00000373765.5 gene_id=ENSG00000162510.6;tr...</td>\n",
       "      <td>4</td>\n",
       "      <td>20</td>\n",
       "      <td>0.023529</td>\n",
       "      <td>MATN1</td>\n",
       "      <td>human</td>\n",
       "      <td>0</td>\n",
       "      <td>MATN1---Matn1</td>\n",
       "      <td>Chr1:30711277-30723585(-)</td>\n",
       "      <td>True</td>\n",
       "      <td>ENST00000373765.5</td>\n",
       "    </tr>\n",
       "    <tr>\n",
       "      <th>1</th>\n",
       "      <td>624</td>\n",
       "      <td>VNLRDQQGKSPIFYAEEQNNLDVM</td>\n",
       "      <td>hphpppphpphhhhhppppphphh</td>\n",
       "      <td>1654375679729437405</td>\n",
       "      <td>g22187.t1 frame:1</td>\n",
       "      <td>31</td>\n",
       "      <td>GHLCRTRPTDLVFVVDSSRSVRPV</td>\n",
       "      <td>ENST00000373765.5 gene_id=ENSG00000162510.6;tr...</td>\n",
       "      <td>4</td>\n",
       "      <td>20</td>\n",
       "      <td>0.023529</td>\n",
       "      <td>MATN1</td>\n",
       "      <td>human</td>\n",
       "      <td>0</td>\n",
       "      <td>MATN1---Matn1</td>\n",
       "      <td>Chr1:30711277-30723585(-)</td>\n",
       "      <td>True</td>\n",
       "      <td>ENST00000373765.5</td>\n",
       "    </tr>\n",
       "    <tr>\n",
       "      <th>2</th>\n",
       "      <td>625</td>\n",
       "      <td>NLRDQQGKSPIFYAEEQNNLDVMK</td>\n",
       "      <td>phpppphpphhhhhppppphphhp</td>\n",
       "      <td>2361844746549016494</td>\n",
       "      <td>g22187.t1 frame:1</td>\n",
       "      <td>32</td>\n",
       "      <td>HLCRTRPTDLVFVVDSSRSVRPVE</td>\n",
       "      <td>ENST00000373765.5 gene_id=ENSG00000162510.6;tr...</td>\n",
       "      <td>4</td>\n",
       "      <td>20</td>\n",
       "      <td>0.023529</td>\n",
       "      <td>MATN1</td>\n",
       "      <td>human</td>\n",
       "      <td>0</td>\n",
       "      <td>MATN1---Matn1</td>\n",
       "      <td>Chr1:30711277-30723585(-)</td>\n",
       "      <td>True</td>\n",
       "      <td>ENST00000373765.5</td>\n",
       "    </tr>\n",
       "    <tr>\n",
       "      <th>3</th>\n",
       "      <td>626</td>\n",
       "      <td>LRDQQGKSPIFYAEEQNNLDVMKY</td>\n",
       "      <td>hpppphpphhhhhppppphphhph</td>\n",
       "      <td>8601332297558688433</td>\n",
       "      <td>g22187.t1 frame:1</td>\n",
       "      <td>33</td>\n",
       "      <td>LCRTRPTDLVFVVDSSRSVRPVEF</td>\n",
       "      <td>ENST00000373765.5 gene_id=ENSG00000162510.6;tr...</td>\n",
       "      <td>4</td>\n",
       "      <td>20</td>\n",
       "      <td>0.023529</td>\n",
       "      <td>MATN1</td>\n",
       "      <td>human</td>\n",
       "      <td>0</td>\n",
       "      <td>MATN1---Matn1</td>\n",
       "      <td>Chr1:30711277-30723585(-)</td>\n",
       "      <td>True</td>\n",
       "      <td>ENST00000373765.5</td>\n",
       "    </tr>\n",
       "    <tr>\n",
       "      <th>4</th>\n",
       "      <td>308</td>\n",
       "      <td>GKEKGTKKSPEIADDVSDNDKADA</td>\n",
       "      <td>hppphpppphphhpphppppphph</td>\n",
       "      <td>4814295539498208365</td>\n",
       "      <td>g22187.t1 frame:1</td>\n",
       "      <td>265</td>\n",
       "      <td>INKRLSKSSATLWNSPSRNRSLQL</td>\n",
       "      <td>ENST00000474796.2 gene_id=ENSG00000116871.16;t...</td>\n",
       "      <td>7</td>\n",
       "      <td>35</td>\n",
       "      <td>0.010204</td>\n",
       "      <td>MAP7D1</td>\n",
       "      <td>human</td>\n",
       "      <td>1</td>\n",
       "      <td>MAP7D1---Map7d1</td>\n",
       "      <td>Chr1:36155965-36180849(+)</td>\n",
       "      <td>True</td>\n",
       "      <td>ENST00000474796.2</td>\n",
       "    </tr>\n",
       "  </tbody>\n",
       "</table>\n",
       "</div>"
      ],
      "text/plain": [
       "   i_query                kmer_query                   kmer_hp  \\\n",
       "0      623  DVNLRDQQGKSPIFYAEEQNNLDV  phphpppphpphhhhhppppphph   \n",
       "1      624  VNLRDQQGKSPIFYAEEQNNLDVM  hphpppphpphhhhhppppphphh   \n",
       "2      625  NLRDQQGKSPIFYAEEQNNLDVMK  phpppphpphhhhhppppphphhp   \n",
       "3      626  LRDQQGKSPIFYAEEQNNLDVMKY  hpppphpphhhhhppppphphhph   \n",
       "4      308  GKEKGTKKSPEIADDVSDNDKADA  hppphpppphphhpphppppphph   \n",
       "\n",
       "               hashval         name_query  i_found                kmer_found  \\\n",
       "0  9053272763448756255  g22187.t1 frame:1       30  RGHLCRTRPTDLVFVVDSSRSVRP   \n",
       "1  1654375679729437405  g22187.t1 frame:1       31  GHLCRTRPTDLVFVVDSSRSVRPV   \n",
       "2  2361844746549016494  g22187.t1 frame:1       32  HLCRTRPTDLVFVVDSSRSVRPVE   \n",
       "3  8601332297558688433  g22187.t1 frame:1       33  LCRTRPTDLVFVVDSSRSVRPVEF   \n",
       "4  4814295539498208365  g22187.t1 frame:1      265  INKRLSKSSATLWNSPSRNRSLQL   \n",
       "\n",
       "                                          name_found  n_kmers  intersect_bp  \\\n",
       "0  ENST00000373765.5 gene_id=ENSG00000162510.6;tr...        4            20   \n",
       "1  ENST00000373765.5 gene_id=ENSG00000162510.6;tr...        4            20   \n",
       "2  ENST00000373765.5 gene_id=ENSG00000162510.6;tr...        4            20   \n",
       "3  ENST00000373765.5 gene_id=ENSG00000162510.6;tr...        4            20   \n",
       "4  ENST00000474796.2 gene_id=ENSG00000116871.16;t...        7            35   \n",
       "\n",
       "   containment  symbol species  found_i    homolog_group  \\\n",
       "0     0.023529   MATN1   human        0    MATN1---Matn1   \n",
       "1     0.023529   MATN1   human        0    MATN1---Matn1   \n",
       "2     0.023529   MATN1   human        0    MATN1---Matn1   \n",
       "3     0.023529   MATN1   human        0    MATN1---Matn1   \n",
       "4     0.010204  MAP7D1   human        1  MAP7D1---Map7d1   \n",
       "\n",
       "               genomic_coord all_homologs_found      transcript_id  \n",
       "0  Chr1:30711277-30723585(-)               True  ENST00000373765.5  \n",
       "1  Chr1:30711277-30723585(-)               True  ENST00000373765.5  \n",
       "2  Chr1:30711277-30723585(-)               True  ENST00000373765.5  \n",
       "3  Chr1:30711277-30723585(-)               True  ENST00000373765.5  \n",
       "4  Chr1:36155965-36180849(+)               True  ENST00000474796.2  "
      ]
     },
     "execution_count": 4,
     "metadata": {},
     "output_type": "execute_result"
    }
   ],
   "source": [
    "%%time\n",
    "\n",
    "mhc_parquet =  os.path.join(outdir, \"botryllus_gather_mouse_human_results_mhc.parquet\")\n",
    "\n",
    "\n",
    "gather_results_mhc = pd.read_parquet(mhc_parquet\n",
    ")\n",
    "print((format_integer(x) for x in gather_results_mhc.shape))\n",
    "gather_results_mhc.head()"
   ]
  },
  {
   "cell_type": "markdown",
   "id": "a7523e56-5263-4b59-9448-4e5681380d3b",
   "metadata": {
    "tags": []
   },
   "source": [
    "### What does BHF match to?"
   ]
  },
  {
   "cell_type": "code",
   "execution_count": 23,
   "id": "f3fc71a2-9976-43e7-9263-288de71b8e18",
   "metadata": {},
   "outputs": [
    {
     "data": {
      "text/html": [
       "<div>\n",
       "<style scoped>\n",
       "    .dataframe tbody tr th:only-of-type {\n",
       "        vertical-align: middle;\n",
       "    }\n",
       "\n",
       "    .dataframe tbody tr th {\n",
       "        vertical-align: top;\n",
       "    }\n",
       "\n",
       "    .dataframe thead th {\n",
       "        text-align: right;\n",
       "    }\n",
       "</style>\n",
       "<table border=\"1\" class=\"dataframe\">\n",
       "  <thead>\n",
       "    <tr style=\"text-align: right;\">\n",
       "      <th></th>\n",
       "      <th>i_query</th>\n",
       "      <th>kmer_query</th>\n",
       "      <th>kmer_hp</th>\n",
       "      <th>hashval</th>\n",
       "      <th>name_query</th>\n",
       "      <th>i_found</th>\n",
       "      <th>kmer_found</th>\n",
       "      <th>name_found</th>\n",
       "      <th>n_kmers</th>\n",
       "      <th>intersect_bp</th>\n",
       "      <th>containment</th>\n",
       "      <th>symbol</th>\n",
       "      <th>species</th>\n",
       "      <th>found_i</th>\n",
       "      <th>homolog_group</th>\n",
       "      <th>genomic_coord</th>\n",
       "      <th>all_homologs_found</th>\n",
       "    </tr>\n",
       "  </thead>\n",
       "  <tbody>\n",
       "  </tbody>\n",
       "</table>\n",
       "</div>"
      ],
      "text/plain": [
       "Empty DataFrame\n",
       "Columns: [i_query, kmer_query, kmer_hp, hashval, name_query, i_found, kmer_found, name_found, n_kmers, intersect_bp, containment, symbol, species, found_i, homolog_group, genomic_coord, all_homologs_found]\n",
       "Index: []"
      ]
     },
     "execution_count": 23,
     "metadata": {},
     "output_type": "execute_result"
    }
   ],
   "source": [
    "gather_results_mhc.query('name_query == \"BHF\"')"
   ]
  },
  {
   "cell_type": "code",
   "execution_count": 21,
   "id": "8e46fe61-ce9c-48b2-a200-f76cc782d3e9",
   "metadata": {},
   "outputs": [
    {
     "name": "stderr",
     "output_type": "stream",
     "text": [
      "/Users/olgabot/opt/miniconda3/envs/botryllus/lib/python3.10/site-packages/seaborn/distributions.py:2619: FutureWarning: `distplot` is a deprecated function and will be removed in a future version. Please adapt your code to use either `displot` (a figure-level function with similar flexibility) or `histplot` (an axes-level function for histograms).\n",
      "  warnings.warn(msg, FutureWarning)\n"
     ]
    },
    {
     "data": {
      "text/plain": [
       "<AxesSubplot:xlabel='homolog_group', ylabel='Density'>"
      ]
     },
     "execution_count": 21,
     "metadata": {},
     "output_type": "execute_result"
    },
    {
     "data": {
      "image/png": "[encoded data removed]",
      "text/plain": [
       "<Figure size 432x288 with 1 Axes>"
      ]
     },
     "metadata": {
      "needs_background": "light"
     },
     "output_type": "display_data"
    }
   ],
   "source": [
    "sns.distplot(gather_results_mhc.groupby('name_query').homolog_group.nunique())"
   ]
  },
  {
   "cell_type": "code",
   "execution_count": 17,
   "id": "0500ae82-17c8-42d5-86d4-09028d7db87f",
   "metadata": {},
   "outputs": [
    {
     "name": "stdout",
     "output_type": "stream",
     "text": [
      "['14,353,955', '17']\n"
     ]
    }
   ],
   "source": [
    "print([format_integer(x) for x in gather_results_mhc.shape])\n"
   ]
  },
  {
   "cell_type": "code",
   "execution_count": 12,
   "id": "22f441c1-60cd-4c93-8fa4-10679a11d5e1",
   "metadata": {},
   "outputs": [
    {
     "name": "stdout",
     "output_type": "stream",
     "text": [
      "14,353,955\n"
     ]
    }
   ],
   "source": [
    "print(f'{14353955:,d}')"
   ]
  },
  {
   "cell_type": "code",
   "execution_count": 4,
   "id": "6c17d21c-cb0e-4075-9fd7-42ab73a5a025",
   "metadata": {},
   "outputs": [
    {
     "data": {
      "text/plain": [
       "name_query\n",
       "g10002.t1 frame:1      283\n",
       "g1005.t1 frame:1       106\n",
       "g10097.t1 frame:1        0\n",
       "g10107.t1 frame:1       57\n",
       "g10108.t1 frame:1    60564\n",
       "                     ...  \n",
       "g9842.t1 frame:1       141\n",
       "g9843.t1 frame:1        20\n",
       "g994.t1 frame:1        104\n",
       "g9944.t1 frame:1        45\n",
       "mFuHC                 1024\n",
       "Name: all_homologs_found, Length: 1314, dtype: object"
      ]
     },
     "execution_count": 4,
     "metadata": {},
     "output_type": "execute_result"
    }
   ],
   "source": [
    "gather_results_mhc.groupby('name_query').all_homologs_found.sum()"
   ]
  },
  {
   "cell_type": "code",
   "execution_count": 13,
   "id": "9fbdc12a-86ce-4bb0-8aef-0e373ec2e957",
   "metadata": {},
   "outputs": [
    {
     "name": "stdout",
     "output_type": "stream",
     "text": [
      "(11723358, 17)\n",
      "CPU times: user 19 s, sys: 2.41 s, total: 21.4 s\n",
      "Wall time: 22.1 s\n"
     ]
    },
    {
     "data": {
      "text/html": [
       "<div>\n",
       "<style scoped>\n",
       "    .dataframe tbody tr th:only-of-type {\n",
       "        vertical-align: middle;\n",
       "    }\n",
       "\n",
       "    .dataframe tbody tr th {\n",
       "        vertical-align: top;\n",
       "    }\n",
       "\n",
       "    .dataframe thead th {\n",
       "        text-align: right;\n",
       "    }\n",
       "</style>\n",
       "<table border=\"1\" class=\"dataframe\">\n",
       "  <thead>\n",
       "    <tr style=\"text-align: right;\">\n",
       "      <th></th>\n",
       "      <th>i_query</th>\n",
       "      <th>kmer_query</th>\n",
       "      <th>kmer_hp</th>\n",
       "      <th>hashval</th>\n",
       "      <th>name_query</th>\n",
       "      <th>i_found</th>\n",
       "      <th>kmer_found</th>\n",
       "      <th>name_found</th>\n",
       "      <th>n_kmers</th>\n",
       "      <th>intersect_bp</th>\n",
       "      <th>containment</th>\n",
       "      <th>symbol</th>\n",
       "      <th>species</th>\n",
       "      <th>found_i</th>\n",
       "      <th>homolog_group</th>\n",
       "      <th>genomic_coord</th>\n",
       "      <th>all_homologs_found</th>\n",
       "    </tr>\n",
       "  </thead>\n",
       "  <tbody>\n",
       "    <tr>\n",
       "      <th>42</th>\n",
       "      <td>133</td>\n",
       "      <td>ILAECEKKQKKSGEQQSTKKGKQN</td>\n",
       "      <td>hhhppppppppphppppppphppp</td>\n",
       "      <td>15018598761705965234</td>\n",
       "      <td>g3710.t1 frame:1</td>\n",
       "      <td>547</td>\n",
       "      <td>PAGDEEEEEEEELSSSCEEEGEED</td>\n",
       "      <td>ENST00000376621.8 gene_id=ENSG00000204590.13;t...</td>\n",
       "      <td>7</td>\n",
       "      <td>35</td>\n",
       "      <td>0.02521</td>\n",
       "      <td>GNL1</td>\n",
       "      <td>human</td>\n",
       "      <td>7</td>\n",
       "      <td>GNL1---Gnl1</td>\n",
       "      <td>Chr6:30541377-30557594(-)</td>\n",
       "      <td>True</td>\n",
       "    </tr>\n",
       "    <tr>\n",
       "      <th>43</th>\n",
       "      <td>134</td>\n",
       "      <td>LAECEKKQKKSGEQQSTKKGKQNR</td>\n",
       "      <td>hhppppppppphppppppphpppp</td>\n",
       "      <td>12562551768375708943</td>\n",
       "      <td>g3710.t1 frame:1</td>\n",
       "      <td>548</td>\n",
       "      <td>AGDEEEEEEEELSSSCEEEGEEDR</td>\n",
       "      <td>ENST00000376621.8 gene_id=ENSG00000204590.13;t...</td>\n",
       "      <td>7</td>\n",
       "      <td>35</td>\n",
       "      <td>0.02521</td>\n",
       "      <td>GNL1</td>\n",
       "      <td>human</td>\n",
       "      <td>7</td>\n",
       "      <td>GNL1---Gnl1</td>\n",
       "      <td>Chr6:30541377-30557594(-)</td>\n",
       "      <td>True</td>\n",
       "    </tr>\n",
       "    <tr>\n",
       "      <th>44</th>\n",
       "      <td>135</td>\n",
       "      <td>AECEKKQKKSGEQQSTKKGKQNRE</td>\n",
       "      <td>hppppppppphppppppphppppp</td>\n",
       "      <td>865309860413608026</td>\n",
       "      <td>g3710.t1 frame:1</td>\n",
       "      <td>549</td>\n",
       "      <td>GDEEEEEEEELSSSCEEEGEEDRD</td>\n",
       "      <td>ENST00000376621.8 gene_id=ENSG00000204590.13;t...</td>\n",
       "      <td>7</td>\n",
       "      <td>35</td>\n",
       "      <td>0.02521</td>\n",
       "      <td>GNL1</td>\n",
       "      <td>human</td>\n",
       "      <td>7</td>\n",
       "      <td>GNL1---Gnl1</td>\n",
       "      <td>Chr6:30541377-30557594(-)</td>\n",
       "      <td>True</td>\n",
       "    </tr>\n",
       "    <tr>\n",
       "      <th>45</th>\n",
       "      <td>136</td>\n",
       "      <td>ECEKKQKKSGEQQSTKKGKQNREP</td>\n",
       "      <td>ppppppppphppppppphppppph</td>\n",
       "      <td>2819077766837459866</td>\n",
       "      <td>g3710.t1 frame:1</td>\n",
       "      <td>550</td>\n",
       "      <td>DEEEEEEEELSSSCEEEGEEDRDA</td>\n",
       "      <td>ENST00000376621.8 gene_id=ENSG00000204590.13;t...</td>\n",
       "      <td>7</td>\n",
       "      <td>35</td>\n",
       "      <td>0.02521</td>\n",
       "      <td>GNL1</td>\n",
       "      <td>human</td>\n",
       "      <td>7</td>\n",
       "      <td>GNL1---Gnl1</td>\n",
       "      <td>Chr6:30541377-30557594(-)</td>\n",
       "      <td>True</td>\n",
       "    </tr>\n",
       "    <tr>\n",
       "      <th>46</th>\n",
       "      <td>137</td>\n",
       "      <td>CEKKQKKSGEQQSTKKGKQNREPE</td>\n",
       "      <td>pppppppphppppppphppppphp</td>\n",
       "      <td>15048812499418908875</td>\n",
       "      <td>g3710.t1 frame:1</td>\n",
       "      <td>551</td>\n",
       "      <td>EEEEEEEELSSSCEEEGEEDRDAD</td>\n",
       "      <td>ENST00000376621.8 gene_id=ENSG00000204590.13;t...</td>\n",
       "      <td>7</td>\n",
       "      <td>35</td>\n",
       "      <td>0.02521</td>\n",
       "      <td>GNL1</td>\n",
       "      <td>human</td>\n",
       "      <td>7</td>\n",
       "      <td>GNL1---Gnl1</td>\n",
       "      <td>Chr6:30541377-30557594(-)</td>\n",
       "      <td>True</td>\n",
       "    </tr>\n",
       "  </tbody>\n",
       "</table>\n",
       "</div>"
      ],
      "text/plain": [
       "    i_query                kmer_query                   kmer_hp  \\\n",
       "42      133  ILAECEKKQKKSGEQQSTKKGKQN  hhhppppppppphppppppphppp   \n",
       "43      134  LAECEKKQKKSGEQQSTKKGKQNR  hhppppppppphppppppphpppp   \n",
       "44      135  AECEKKQKKSGEQQSTKKGKQNRE  hppppppppphppppppphppppp   \n",
       "45      136  ECEKKQKKSGEQQSTKKGKQNREP  ppppppppphppppppphppppph   \n",
       "46      137  CEKKQKKSGEQQSTKKGKQNREPE  pppppppphppppppphppppphp   \n",
       "\n",
       "                 hashval        name_query  i_found                kmer_found  \\\n",
       "42  15018598761705965234  g3710.t1 frame:1      547  PAGDEEEEEEEELSSSCEEEGEED   \n",
       "43  12562551768375708943  g3710.t1 frame:1      548  AGDEEEEEEEELSSSCEEEGEEDR   \n",
       "44    865309860413608026  g3710.t1 frame:1      549  GDEEEEEEEELSSSCEEEGEEDRD   \n",
       "45   2819077766837459866  g3710.t1 frame:1      550  DEEEEEEEELSSSCEEEGEEDRDA   \n",
       "46  15048812499418908875  g3710.t1 frame:1      551  EEEEEEEELSSSCEEEGEEDRDAD   \n",
       "\n",
       "                                           name_found  n_kmers  intersect_bp  \\\n",
       "42  ENST00000376621.8 gene_id=ENSG00000204590.13;t...        7            35   \n",
       "43  ENST00000376621.8 gene_id=ENSG00000204590.13;t...        7            35   \n",
       "44  ENST00000376621.8 gene_id=ENSG00000204590.13;t...        7            35   \n",
       "45  ENST00000376621.8 gene_id=ENSG00000204590.13;t...        7            35   \n",
       "46  ENST00000376621.8 gene_id=ENSG00000204590.13;t...        7            35   \n",
       "\n",
       "    containment symbol species  found_i homolog_group  \\\n",
       "42      0.02521   GNL1   human        7   GNL1---Gnl1   \n",
       "43      0.02521   GNL1   human        7   GNL1---Gnl1   \n",
       "44      0.02521   GNL1   human        7   GNL1---Gnl1   \n",
       "45      0.02521   GNL1   human        7   GNL1---Gnl1   \n",
       "46      0.02521   GNL1   human        7   GNL1---Gnl1   \n",
       "\n",
       "                genomic_coord all_homologs_found  \n",
       "42  Chr6:30541377-30557594(-)               True  \n",
       "43  Chr6:30541377-30557594(-)               True  \n",
       "44  Chr6:30541377-30557594(-)               True  \n",
       "45  Chr6:30541377-30557594(-)               True  \n",
       "46  Chr6:30541377-30557594(-)               True  "
      ]
     },
     "execution_count": 13,
     "metadata": {},
     "output_type": "execute_result"
    }
   ],
   "source": [
    "%%time\n",
    "both_homologs = gather_results_mhc.groupby([\"name_query\", \"homolog_group\"]).filter(\n",
    "    lambda x: x.all_homologs_found.sum() > 0\n",
    ")\n",
    "print(both_homologs.shape)\n",
    "both_homologs.head()"
   ]
  },
  {
   "cell_type": "markdown",
   "id": "cda1ff44-fcdf-44e8-a143-7750dae1992f",
   "metadata": {},
   "source": [
    "### How many matches per botryllus gene"
   ]
  },
  {
   "cell_type": "code",
   "execution_count": 18,
   "id": "4703e27e-436e-42ed-8184-b94f73a194ae",
   "metadata": {},
   "outputs": [
    {
     "data": {
      "text/plain": [
       "name_query\n",
       "g10002.t1 frame:1     14\n",
       "g1005.t1 frame:1       6\n",
       "g10107.t1 frame:1      3\n",
       "g10108.t1 frame:1    162\n",
       "g10118.t1 frame:1      1\n",
       "                    ... \n",
       "g9842.t1 frame:1      11\n",
       "g9843.t1 frame:1       3\n",
       "g994.t1 frame:1        6\n",
       "g9944.t1 frame:1       4\n",
       "mFuHC                 26\n",
       "Name: homolog_group, Length: 1215, dtype: int64"
      ]
     },
     "execution_count": 18,
     "metadata": {},
     "output_type": "execute_result"
    }
   ],
   "source": [
    "both_homologs.groupby('name_query').homolog_group.nunique()"
   ]
  },
  {
   "cell_type": "code",
   "execution_count": 22,
   "id": "973122f8-b1b2-466e-a4f8-b47161feaf38",
   "metadata": {},
   "outputs": [
    {
     "data": {
      "text/html": [
       "<div>\n",
       "<style scoped>\n",
       "    .dataframe tbody tr th:only-of-type {\n",
       "        vertical-align: middle;\n",
       "    }\n",
       "\n",
       "    .dataframe tbody tr th {\n",
       "        vertical-align: top;\n",
       "    }\n",
       "\n",
       "    .dataframe thead th {\n",
       "        text-align: right;\n",
       "    }\n",
       "</style>\n",
       "<table border=\"1\" class=\"dataframe\">\n",
       "  <thead>\n",
       "    <tr style=\"text-align: right;\">\n",
       "      <th></th>\n",
       "      <th>i_query</th>\n",
       "      <th>kmer_query</th>\n",
       "      <th>kmer_hp</th>\n",
       "      <th>hashval</th>\n",
       "      <th>name_query</th>\n",
       "      <th>i_found</th>\n",
       "      <th>kmer_found</th>\n",
       "      <th>name_found</th>\n",
       "      <th>n_kmers</th>\n",
       "      <th>intersect_bp</th>\n",
       "      <th>containment</th>\n",
       "      <th>symbol</th>\n",
       "      <th>species</th>\n",
       "      <th>found_i</th>\n",
       "      <th>homolog_group</th>\n",
       "      <th>genomic_coord</th>\n",
       "      <th>all_homologs_found</th>\n",
       "    </tr>\n",
       "  </thead>\n",
       "  <tbody>\n",
       "  </tbody>\n",
       "</table>\n",
       "</div>"
      ],
      "text/plain": [
       "Empty DataFrame\n",
       "Columns: [i_query, kmer_query, kmer_hp, hashval, name_query, i_found, kmer_found, name_found, n_kmers, intersect_bp, containment, symbol, species, found_i, homolog_group, genomic_coord, all_homologs_found]\n",
       "Index: []"
      ]
     },
     "execution_count": 22,
     "metadata": {},
     "output_type": "execute_result"
    }
   ],
   "source": [
    "both_homologs.query('name_query == \"BHF\"')"
   ]
  },
  {
   "cell_type": "code",
   "execution_count": null,
   "id": "bebcd1c9-7dee-462d-9bb0-c39439ad72de",
   "metadata": {},
   "outputs": [],
   "source": []
  },
  {
   "cell_type": "code",
   "execution_count": 14,
   "id": "56c8330f-db71-4344-987f-dca0a4a1ee4f",
   "metadata": {},
   "outputs": [],
   "source": []
  },
  {
   "cell_type": "code",
   "execution_count": null,
   "id": "74d29eeb-adcb-450c-af9e-75fc57ea20e4",
   "metadata": {},
   "outputs": [],
   "source": [
    "gather_results_mhc"
   ]
  }
 ],
 "metadata": {
  "kernelspec": {
   "display_name": "Python [conda env:botryllus]",
   "language": "python",
   "name": "conda-env-botryllus-py"
  },
  "language_info": {
   "codemirror_mode": {
    "name": "ipython",
    "version": 3
   },
   "file_extension": ".py",
   "mimetype": "text/x-python",
   "name": "python",
   "nbconvert_exporter": "python",
   "pygments_lexer": "ipython3",
   "version": "3.10.0"
  }
 },
 "nbformat": 4,
 "nbformat_minor": 5
}
