{
 "cells": [
  {
   "cell_type": "code",
   "execution_count": 90,
   "id": "d11a92a3-dae3-4073-928a-f2c7f6547828",
   "metadata": {},
   "outputs": [],
   "source": [
    "import sourmash\n",
    "import screed\n",
    "import os\n",
    "\n",
    "from tqdm import tqdm\n",
    "\n",
    "from kmer_utils import get_encoded_kmer_hashvals"
   ]
  },
  {
   "cell_type": "code",
   "execution_count": 1,
   "id": "6761b108-82f0-478e-9177-3065fb1281e6",
   "metadata": {},
   "outputs": [
    {
     "name": "stdout",
     "output_type": "stream",
     "text": [
      "/Users/olgabot/botryllus/pipeline-results/kmermaid/april2021-singleton-fewer-species/sketches_peptide/molecule-protein,dayhoff,hp__ksize-30,51,72,81__scaled-10__track_abundance-true/sigs\n"
     ]
    }
   ],
   "source": [
    "cd  ~/botryllus/pipeline-results/kmermaid/april2021-singleton-fewer-species/sketches_peptide/molecule-protein,dayhoff,hp__ksize-30,51,72,81__scaled-10__track_abundance-true/sigs \n"
   ]
  },
  {
   "cell_type": "code",
   "execution_count": 2,
   "id": "385a1e02-87ff-4348-92af-f52243e61227",
   "metadata": {},
   "outputs": [
    {
     "name": "stdout",
     "output_type": "stream",
     "text": [
      "Arabidopsis_thaliana.TAIR10.pep.all.fa__molecule-protein,dayhoff,hp__ksize-30,51,72,81__scaled-10__track_abundance-true.sig\n",
      "Bs_proteins.fa__molecule-protein,dayhoff,hp__ksize-30,51,72,81__scaled-10__track_abundance-true.sig\n",
      "Caenorhabditis_elegans.WBcel235.pep.all.fa__molecule-protein,dayhoff,hp__ksize-30,51,72,81__scaled-10__track_abundance-true.sig\n",
      "Danio_rerio.GRCz11.pep.abinitio.fa__molecule-protein,dayhoff,hp__ksize-30,51,72,81__scaled-10__track_abundance-true.sig\n",
      "Danio_rerio.GRCz11.pep.all.fa__molecule-protein,dayhoff,hp__ksize-30,51,72,81__scaled-10__track_abundance-true.sig\n",
      "Homo_sapiens.GRCh38.pep.all.chr6.fa__molecule-protein,dayhoff,hp__ksize-30,51,72,81__scaled-10__track_abundance-true.sig\n",
      "Mus_musculus.GRCm39.pep.all.chr17.fa__molecule-protein,dayhoff,hp__ksize-30,51,72,81__scaled-10__track_abundance-true.sig\n",
      "Petromyzon_marinus.Pmarinus_7.0.pep.abinitio.fa__molecule-protein,dayhoff,hp__ksize-30,51,72,81__scaled-10__track_abundance-true.sig\n",
      "botryllus_bhf.sig\n",
      "\u001b[1m\u001b[36mhuman_mouse\u001b[m\u001b[m/\n"
     ]
    }
   ],
   "source": [
    "ls"
   ]
  },
  {
   "cell_type": "code",
   "execution_count": 37,
   "id": "635cc56a-01ca-4f33-83f4-baf511a59fd7",
   "metadata": {},
   "outputs": [],
   "source": [
    "human_gencode_dir = '/Users/olgabot/botryllus/data/gencode/v38/'\n",
    "mouse_gencode_dir = '/Users/olgabot/botryllus/data/gencode/M28/'"
   ]
  },
  {
   "cell_type": "code",
   "execution_count": 41,
   "id": "063d3c23-b894-4776-97e9-e4da16d4d051",
   "metadata": {},
   "outputs": [],
   "source": [
    "human_sigfile = os.path.join(\n",
    "    human_gencode_dir, \"gencode.v38.basic.annotation.protein.fa.hp.k24.scale5.sig\"\n",
    ")\n",
    "mouse_sigfile = os.path.join(\n",
    "    mouse_gencode_dir, \"gencode.vM28.basic.annotation.protein.fa.hp.k24.scale5.sig\"\n",
    ")"
   ]
  },
  {
   "cell_type": "markdown",
   "id": "1154a385-0430-41a3-99ba-8d1f456d8d74",
   "metadata": {},
   "source": [
    "## Assign outdir"
   ]
  },
  {
   "cell_type": "code",
   "execution_count": 42,
   "id": "20605298-d908-4fb9-b487-b0ba9c77ca82",
   "metadata": {},
   "outputs": [],
   "source": [
    "outdir = '/Users/olgabot/botryllus/adhoc-analysis/2022-jan--redo-human-mouse-search-gencode'"
   ]
  },
  {
   "cell_type": "code",
   "execution_count": 43,
   "id": "8f395a7b-e9dd-47f6-bca1-695fc8e0ba2e",
   "metadata": {},
   "outputs": [
    {
     "name": "stdout",
     "output_type": "stream",
     "text": [
      "\u001b[K\n",
      "== This is sourmash version 4.2.2. ==\n",
      "\u001b[K== Please cite Brown and Irber (2016), doi:10.21105/joss.00027. ==\n",
      "\n"
     ]
    }
   ],
   "source": [
    "! sourmash search --hp --threshold 0.01 \\\n",
    "    -o $outdir/human_search_mouse.csv $human_sigfile $mouse_sigfile"
   ]
  },
  {
   "cell_type": "markdown",
   "id": "4d41d2d4-199b-4e98-aac5-dec39492a452",
   "metadata": {},
   "source": [
    "## Load and index human signatures, "
   ]
  },
  {
   "cell_type": "code",
   "execution_count": 44,
   "id": "c7912921-045c-4e7a-a190-16d1e5fb9c47",
   "metadata": {},
   "outputs": [],
   "source": [
    "human_sigfile_hp_k24 = 'Homo_sapiens.GRCh38.pep.all.chr6__hp.k24.scaled10.sig'"
   ]
  },
  {
   "cell_type": "code",
   "execution_count": 47,
   "id": "a89af313-cf4f-467c-928d-e0d6759b5fa3",
   "metadata": {},
   "outputs": [],
   "source": [
    "# ! sourmash sig extract -o $human_sigfile_hp_k24 --hp -k 24 $human_sigfile"
   ]
  },
  {
   "cell_type": "code",
   "execution_count": 48,
   "id": "941cb7b5-b31e-419c-a660-8374c93ca565",
   "metadata": {},
   "outputs": [
    {
     "data": {
      "text/plain": [
       "<sourmash.index.MultiIndex at 0x1a1605f00>"
      ]
     },
     "execution_count": 48,
     "metadata": {},
     "output_type": "execute_result"
    }
   ],
   "source": [
    "human_index = sourmash.load_file_as_index(human_sigfile)\n",
    "human_index"
   ]
  },
  {
   "cell_type": "markdown",
   "id": "350507ac-0865-4a35-87db-b1b254de1113",
   "metadata": {},
   "source": [
    "## Read mouse signatures"
   ]
  },
  {
   "cell_type": "code",
   "execution_count": 49,
   "id": "40d57371-d94b-4980-9ea5-f14f5d973b51",
   "metadata": {},
   "outputs": [],
   "source": [
    "mouse_sigs = sourmash.load_file_as_signatures(mouse_sigfile, select_moltype='hp', ksize=24)"
   ]
  },
  {
   "cell_type": "markdown",
   "id": "c58747e8-a20b-4c8c-8008-a60390a69490",
   "metadata": {},
   "source": [
    "## Load mouse and human protein fasta files to get the underlying overlapping k-mers"
   ]
  },
  {
   "cell_type": "code",
   "execution_count": 50,
   "id": "1ec395f2-e154-4a88-8bcd-3cac5ced7031",
   "metadata": {},
   "outputs": [],
   "source": [
    "human_fasta = os.path.join(human_gencode_dir, \"gencode.v38.basic.annotation.protein.fa\")\n",
    "mouse_fasta = os.path.join(\n",
    "    mouse_gencode_dir, \"gencode.vM28.basic.annotation.protein.fa\"\n",
    ")"
   ]
  },
  {
   "cell_type": "code",
   "execution_count": 51,
   "id": "b1ccfbfc-afdc-4e00-9412-708db0eeea48",
   "metadata": {},
   "outputs": [],
   "source": [
    "mouse_seqs = {record['name']: record['sequence'] for record in screed.open(mouse_fasta)}\n",
    "human_seqs = {record['name']: record['sequence'] for record in screed.open(human_fasta)}"
   ]
  },
  {
   "cell_type": "code",
   "execution_count": 52,
   "id": "c457fc62-f4d2-4d46-a542-b67eb626a338",
   "metadata": {},
   "outputs": [
    {
     "data": {
      "text/plain": [
       "46083"
      ]
     },
     "execution_count": 52,
     "metadata": {},
     "output_type": "execute_result"
    }
   ],
   "source": [
    "len(mouse_seqs)"
   ]
  },
  {
   "cell_type": "code",
   "execution_count": 53,
   "id": "eec68d7e-f0ce-460a-810e-ac4788a47720",
   "metadata": {},
   "outputs": [
    {
     "data": {
      "text/plain": [
       "61543"
      ]
     },
     "execution_count": 53,
     "metadata": {},
     "output_type": "execute_result"
    }
   ],
   "source": [
    "len(human_seqs)"
   ]
  },
  {
   "cell_type": "markdown",
   "id": "29bb99fe-0cb9-4a97-b092-8dd18e08b89d",
   "metadata": {},
   "source": [
    "# Iterate over mouse signatures"
   ]
  },
  {
   "cell_type": "code",
   "execution_count": 89,
   "id": "53bbf9ad-3363-4a67-a56b-11c4a239f87d",
   "metadata": {},
   "outputs": [
    {
     "data": {
      "text/plain": [
       "\u001b[0;31mSignature:\u001b[0m\n",
       "\u001b[0mmouse_sig\u001b[0m\u001b[0;34m.\u001b[0m\u001b[0mminhash\u001b[0m\u001b[0;34m.\u001b[0m\u001b[0mseq_to_hashes\u001b[0m\u001b[0;34m(\u001b[0m\u001b[0;34m\u001b[0m\n",
       "\u001b[0;34m\u001b[0m    \u001b[0msequence\u001b[0m\u001b[0;34m,\u001b[0m\u001b[0;34m\u001b[0m\n",
       "\u001b[0;34m\u001b[0m    \u001b[0;34m*\u001b[0m\u001b[0;34m,\u001b[0m\u001b[0;34m\u001b[0m\n",
       "\u001b[0;34m\u001b[0m    \u001b[0mforce\u001b[0m\u001b[0;34m=\u001b[0m\u001b[0;32mFalse\u001b[0m\u001b[0;34m,\u001b[0m\u001b[0;34m\u001b[0m\n",
       "\u001b[0;34m\u001b[0m    \u001b[0mbad_kmers_as_zeroes\u001b[0m\u001b[0;34m=\u001b[0m\u001b[0;32mFalse\u001b[0m\u001b[0;34m,\u001b[0m\u001b[0;34m\u001b[0m\n",
       "\u001b[0;34m\u001b[0m    \u001b[0mis_protein\u001b[0m\u001b[0;34m=\u001b[0m\u001b[0;32mFalse\u001b[0m\u001b[0;34m,\u001b[0m\u001b[0;34m\u001b[0m\n",
       "\u001b[0;34m\u001b[0m\u001b[0;34m)\u001b[0m\u001b[0;34m\u001b[0m\u001b[0;34m\u001b[0m\u001b[0m\n",
       "\u001b[0;31mDocstring:\u001b[0m\n",
       "Convert sequence to hashes without adding to the sketch.\n",
       "\n",
       "If input sequence is DNA and this is a protein, dayhoff, or hp\n",
       "MinHash, translate the DNA appropriately before hashing.\n",
       "\n",
       "If input sequence is protein, set is_protein=True.\n",
       "\n",
       "If `force = True` and `bad_kmers_as_zeroes = True`,\n",
       "invalid kmers hashes will be represented as `0`.\n",
       "\u001b[0;31mFile:\u001b[0m      ~/opt/miniconda3/envs/botryllus/lib/python3.10/site-packages/sourmash/minhash.py\n",
       "\u001b[0;31mType:\u001b[0m      method\n"
      ]
     },
     "metadata": {},
     "output_type": "display_data"
    }
   ],
   "source": [
    "mouse_sig.minhash.seq_to_hashes?"
   ]
  },
  {
   "cell_type": "code",
   "execution_count": 92,
   "id": "172b8574-6c58-46f2-8999-7e83730c6f02",
   "metadata": {},
   "outputs": [
    {
     "name": "stdout",
     "output_type": "stream",
     "text": [
      "CPU times: user 2 µs, sys: 0 ns, total: 2 µs\n",
      "Wall time: 5.96 µs\n"
     ]
    },
    {
     "name": "stderr",
     "output_type": "stream",
     "text": [
      "46077it [72:56:51,  5.70s/it]   \n"
     ]
    },
    {
     "ename": "NameError",
     "evalue": "name 'pd' is not defined",
     "output_type": "error",
     "traceback": [
      "\u001b[0;31m---------------------------------------------------------------------------\u001b[0m",
      "\u001b[0;31mNameError\u001b[0m                                 Traceback (most recent call last)",
      "\u001b[0;32m/var/folders/7z/r1593ybs1sj2ks5zzl9vy8840000gn/T/ipykernel_25397/3388833503.py\u001b[0m in \u001b[0;36m<module>\u001b[0;34m\u001b[0m\n\u001b[1;32m     19\u001b[0m         \u001b[0moverlapping_kmer_dfs\u001b[0m\u001b[0;34m.\u001b[0m\u001b[0mappend\u001b[0m\u001b[0;34m(\u001b[0m\u001b[0moverlapping_kmers\u001b[0m\u001b[0;34m)\u001b[0m\u001b[0;34m\u001b[0m\u001b[0;34m\u001b[0m\u001b[0m\n\u001b[1;32m     20\u001b[0m \u001b[0;34m\u001b[0m\u001b[0m\n\u001b[0;32m---> 21\u001b[0;31m \u001b[0msimilarity_results\u001b[0m \u001b[0;34m=\u001b[0m \u001b[0mpd\u001b[0m\u001b[0;34m.\u001b[0m\u001b[0mDataFrame\u001b[0m\u001b[0;34m(\u001b[0m\u001b[0msimilarity_lines\u001b[0m\u001b[0;34m,\u001b[0m \u001b[0mcolumns\u001b[0m\u001b[0;34m=\u001b[0m\u001b[0;34m[\u001b[0m\u001b[0;34m'mouse_gencode'\u001b[0m\u001b[0;34m,\u001b[0m \u001b[0;34m'similarity'\u001b[0m\u001b[0;34m,\u001b[0m \u001b[0;34m'human_gencode'\u001b[0m\u001b[0;34m]\u001b[0m\u001b[0;34m)\u001b[0m\u001b[0;34m\u001b[0m\u001b[0;34m\u001b[0m\u001b[0m\n\u001b[0m\u001b[1;32m     22\u001b[0m \u001b[0mprint\u001b[0m\u001b[0;34m(\u001b[0m\u001b[0msimilarity_results\u001b[0m\u001b[0;34m.\u001b[0m\u001b[0mshape\u001b[0m\u001b[0;34m)\u001b[0m\u001b[0;34m\u001b[0m\u001b[0;34m\u001b[0m\u001b[0m\n\u001b[1;32m     23\u001b[0m \u001b[0msimilarity_results\u001b[0m\u001b[0;34m.\u001b[0m\u001b[0mhead\u001b[0m\u001b[0;34m(\u001b[0m\u001b[0;34m)\u001b[0m\u001b[0;34m\u001b[0m\u001b[0;34m\u001b[0m\u001b[0m\n",
      "\u001b[0;31mNameError\u001b[0m: name 'pd' is not defined"
     ]
    }
   ],
   "source": [
    "%time\n",
    "\n",
    "overlapping_kmer_dfs = []\n",
    "similarity_lines = []\n",
    "\n",
    "for mouse_sig in tqdm(mouse_sigs):\n",
    "    results = human_index.search_abund(mouse_sig, threshold=0.01)\n",
    "    mouse_seq = mouse_seqs[mouse_sig.name]\n",
    "    mouse_kmers = get_encoded_kmer_hashvals(mouse_seq, mouse_sig.name, sigobj=mouse_sig)\n",
    "    for result in results:\n",
    "        # Add a line to the similarity dataframe\n",
    "        similarity_line = [mouse_sig.name, result.score, result.signature.name]\n",
    "        similarity_lines.append(similarity_line)\n",
    "        \n",
    "        # Get overlapping k-mers\n",
    "        human_seq = human_seqs[result.signature.name]\n",
    "        human_kmers = get_encoded_kmer_hashvals(human_seq, mouse_sig.name, sigobj=mouse_sig)\n",
    "        overlapping_kmers = human_kmers.merge(mouse_kmers, on=['kmer', 'hashval'], suffixes=('_human', '_mouse'))\n",
    "        overlapping_kmer_dfs.append(overlapping_kmers)\n",
    "\n",
    "similarity_results = pd.DataFrame(similarity_lines, columns=['mouse_gencode', 'similarity', 'human_gencode'])\n",
    "print(similarity_results.shape)\n",
    "similarity_results.head()"
   ]
  },
  {
   "cell_type": "code",
   "execution_count": null,
   "id": "0cad354d-9bd5-48e7-a92e-3c2368b4231f",
   "metadata": {},
   "outputs": [],
   "source": [
    "overlapping_kmer_results = pd.concat(overlapping_kmer_dfs, ignore_index=True)\n",
    "print(overlapping_kmer_results.shape)\n",
    "overlapping_kmer_results.head()"
   ]
  },
  {
   "cell_type": "code",
   "execution_count": 86,
   "id": "a124b9a2-ccbc-4805-9710-3544557437ea",
   "metadata": {},
   "outputs": [
    {
     "data": {
      "text/plain": [
       "Result(score=0.07060555345730624, signature=SourmashSignature('ENST00000297316.5 gene_id=ENSG00000164736.6;transcript_id=ENST00000297316.5;gene_type=protein_coding;gene_name=SOX17;transcript_type=protein_coding;transcript_name=SOX17-201;level=2;protein_id=ENSP00000297316.4;transcript_support_level=1;hgnc_id=HGNC:18122;tag=basic,Ensembl_canonical,MANE_Select,appris_principal_1,CCDS;ccdsid=CCDS6159.1;havana_gene=OTTHUMG00000164377.3;havana_transcript=OTTHUMT00000378526.3', 8b23329d), location=None)"
      ]
     },
     "execution_count": 86,
     "metadata": {},
     "output_type": "execute_result"
    }
   ],
   "source": [
    "results[0]"
   ]
  },
  {
   "cell_type": "code",
   "execution_count": 87,
   "id": "e659ec34-e2ac-4e0b-946b-5d544e921b41",
   "metadata": {},
   "outputs": [],
   "source": [
    "result = results[0]"
   ]
  },
  {
   "cell_type": "code",
   "execution_count": 88,
   "id": "3b35bea0-34c8-4554-b137-43ee8a8497fd",
   "metadata": {},
   "outputs": [
    {
     "data": {
      "text/plain": [
       "Result(score=0.07060555345730624, signature=SourmashSignature('ENST00000297316.5 gene_id=ENSG00000164736.6;transcript_id=ENST00000297316.5;gene_type=protein_coding;gene_name=SOX17;transcript_type=protein_coding;transcript_name=SOX17-201;level=2;protein_id=ENSP00000297316.4;transcript_support_level=1;hgnc_id=HGNC:18122;tag=basic,Ensembl_canonical,MANE_Select,appris_principal_1,CCDS;ccdsid=CCDS6159.1;havana_gene=OTTHUMG00000164377.3;havana_transcript=OTTHUMT00000378526.3', 8b23329d), location=None)"
      ]
     },
     "execution_count": 88,
     "metadata": {},
     "output_type": "execute_result"
    }
   ],
   "source": [
    "result."
   ]
  },
  {
   "cell_type": "code",
   "execution_count": 82,
   "id": "97683251-b2eb-433d-87f5-5b24ed39968b",
   "metadata": {},
   "outputs": [
    {
     "data": {
      "text/html": [
       "<div>\n",
       "<style scoped>\n",
       "    .dataframe tbody tr th:only-of-type {\n",
       "        vertical-align: middle;\n",
       "    }\n",
       "\n",
       "    .dataframe tbody tr th {\n",
       "        vertical-align: top;\n",
       "    }\n",
       "\n",
       "    .dataframe thead th {\n",
       "        text-align: right;\n",
       "    }\n",
       "</style>\n",
       "<table border=\"1\" class=\"dataframe\">\n",
       "  <thead>\n",
       "    <tr style=\"text-align: right;\">\n",
       "      <th></th>\n",
       "      <th>i</th>\n",
       "      <th>kmer</th>\n",
       "      <th>kmer_hp</th>\n",
       "      <th>hashval</th>\n",
       "      <th>name</th>\n",
       "    </tr>\n",
       "  </thead>\n",
       "  <tbody>\n",
       "    <tr>\n",
       "      <th>0</th>\n",
       "      <td>0</td>\n",
       "      <td>MSSPDAGYASDDQSQTQSALPAVM</td>\n",
       "      <td>hpphphhhhppppppppphhhhhh</td>\n",
       "      <td>12803979974930755435</td>\n",
       "      <td>ENSMUST00000195555.2 gene_id=ENSMUSG0000002590...</td>\n",
       "    </tr>\n",
       "    <tr>\n",
       "      <th>1</th>\n",
       "      <td>1</td>\n",
       "      <td>SSPDAGYASDDQSQTQSALPAVMA</td>\n",
       "      <td>pphphhhhppppppppphhhhhhh</td>\n",
       "      <td>7379593282333811979</td>\n",
       "      <td>ENSMUST00000195555.2 gene_id=ENSMUSG0000002590...</td>\n",
       "    </tr>\n",
       "    <tr>\n",
       "      <th>2</th>\n",
       "      <td>2</td>\n",
       "      <td>SPDAGYASDDQSQTQSALPAVMAG</td>\n",
       "      <td>phphhhhppppppppphhhhhhhh</td>\n",
       "      <td>5799147356561468663</td>\n",
       "      <td>ENSMUST00000195555.2 gene_id=ENSMUSG0000002590...</td>\n",
       "    </tr>\n",
       "    <tr>\n",
       "      <th>3</th>\n",
       "      <td>3</td>\n",
       "      <td>PDAGYASDDQSQTQSALPAVMAGL</td>\n",
       "      <td>hphhhhppppppppphhhhhhhhh</td>\n",
       "      <td>13507419260536542374</td>\n",
       "      <td>ENSMUST00000195555.2 gene_id=ENSMUSG0000002590...</td>\n",
       "    </tr>\n",
       "    <tr>\n",
       "      <th>4</th>\n",
       "      <td>4</td>\n",
       "      <td>DAGYASDDQSQTQSALPAVMAGLG</td>\n",
       "      <td>phhhhppppppppphhhhhhhhhh</td>\n",
       "      <td>6604397787272783784</td>\n",
       "      <td>ENSMUST00000195555.2 gene_id=ENSMUSG0000002590...</td>\n",
       "    </tr>\n",
       "  </tbody>\n",
       "</table>\n",
       "</div>"
      ],
      "text/plain": [
       "   i                      kmer                   kmer_hp  \\\n",
       "0  0  MSSPDAGYASDDQSQTQSALPAVM  hpphphhhhppppppppphhhhhh   \n",
       "1  1  SSPDAGYASDDQSQTQSALPAVMA  pphphhhhppppppppphhhhhhh   \n",
       "2  2  SPDAGYASDDQSQTQSALPAVMAG  phphhhhppppppppphhhhhhhh   \n",
       "3  3  PDAGYASDDQSQTQSALPAVMAGL  hphhhhppppppppphhhhhhhhh   \n",
       "4  4  DAGYASDDQSQTQSALPAVMAGLG  phhhhppppppppphhhhhhhhhh   \n",
       "\n",
       "                hashval                                               name  \n",
       "0  12803979974930755435  ENSMUST00000195555.2 gene_id=ENSMUSG0000002590...  \n",
       "1   7379593282333811979  ENSMUST00000195555.2 gene_id=ENSMUSG0000002590...  \n",
       "2   5799147356561468663  ENSMUST00000195555.2 gene_id=ENSMUSG0000002590...  \n",
       "3  13507419260536542374  ENSMUST00000195555.2 gene_id=ENSMUSG0000002590...  \n",
       "4   6604397787272783784  ENSMUST00000195555.2 gene_id=ENSMUSG0000002590...  "
      ]
     },
     "execution_count": 82,
     "metadata": {},
     "output_type": "execute_result"
    }
   ],
   "source": [
    "human_kmers.head()"
   ]
  },
  {
   "cell_type": "code",
   "execution_count": 85,
   "id": "03cb22c6-56fc-492a-ba06-856d4c5e81df",
   "metadata": {},
   "outputs": [
    {
     "data": {
      "text/html": [
       "<div>\n",
       "<style scoped>\n",
       "    .dataframe tbody tr th:only-of-type {\n",
       "        vertical-align: middle;\n",
       "    }\n",
       "\n",
       "    .dataframe tbody tr th {\n",
       "        vertical-align: top;\n",
       "    }\n",
       "\n",
       "    .dataframe thead th {\n",
       "        text-align: right;\n",
       "    }\n",
       "</style>\n",
       "<table border=\"1\" class=\"dataframe\">\n",
       "  <thead>\n",
       "    <tr style=\"text-align: right;\">\n",
       "      <th></th>\n",
       "      <th>i_human</th>\n",
       "      <th>kmer</th>\n",
       "      <th>kmer_hp_human</th>\n",
       "      <th>hashval</th>\n",
       "      <th>name_human</th>\n",
       "      <th>i_mouse</th>\n",
       "      <th>kmer_hp_mouse</th>\n",
       "      <th>name_mouse</th>\n",
       "    </tr>\n",
       "  </thead>\n",
       "  <tbody>\n",
       "    <tr>\n",
       "      <th>0</th>\n",
       "      <td>389</td>\n",
       "      <td>DSHGAISSVVSDASSAVYYCNYPD</td>\n",
       "      <td>ppphhhpphhpphpphhhhpphhp</td>\n",
       "      <td>4488222948142703667</td>\n",
       "      <td>ENSMUST00000195555.2 gene_id=ENSMUSG0000002590...</td>\n",
       "      <td>266</td>\n",
       "      <td>ppphhhpphhpphpphhhhpphhp</td>\n",
       "      <td>ENSMUST00000195555.2 gene_id=ENSMUSG0000002590...</td>\n",
       "    </tr>\n",
       "  </tbody>\n",
       "</table>\n",
       "</div>"
      ],
      "text/plain": [
       "   i_human                      kmer             kmer_hp_human  \\\n",
       "0      389  DSHGAISSVVSDASSAVYYCNYPD  ppphhhpphhpphpphhhhpphhp   \n",
       "\n",
       "               hashval                                         name_human  \\\n",
       "0  4488222948142703667  ENSMUST00000195555.2 gene_id=ENSMUSG0000002590...   \n",
       "\n",
       "   i_mouse             kmer_hp_mouse  \\\n",
       "0      266  ppphhhpphhpphpphhhhpphhp   \n",
       "\n",
       "                                          name_mouse  \n",
       "0  ENSMUST00000195555.2 gene_id=ENSMUSG0000002590...  "
      ]
     },
     "execution_count": 85,
     "metadata": {},
     "output_type": "execute_result"
    }
   ],
   "source": []
  },
  {
   "cell_type": "code",
   "execution_count": 77,
   "id": "df1aed53-c492-45cb-99ee-2b421d769501",
   "metadata": {},
   "outputs": [
    {
     "data": {
      "text/html": [
       "<div>\n",
       "<style scoped>\n",
       "    .dataframe tbody tr th:only-of-type {\n",
       "        vertical-align: middle;\n",
       "    }\n",
       "\n",
       "    .dataframe tbody tr th {\n",
       "        vertical-align: top;\n",
       "    }\n",
       "\n",
       "    .dataframe thead th {\n",
       "        text-align: right;\n",
       "    }\n",
       "</style>\n",
       "<table border=\"1\" class=\"dataframe\">\n",
       "  <thead>\n",
       "    <tr style=\"text-align: right;\">\n",
       "      <th></th>\n",
       "      <th>i</th>\n",
       "      <th>kmer</th>\n",
       "      <th>kmer_hp</th>\n",
       "      <th>hashval</th>\n",
       "      <th>name</th>\n",
       "    </tr>\n",
       "  </thead>\n",
       "  <tbody>\n",
       "    <tr>\n",
       "      <th>0</th>\n",
       "      <td>0</td>\n",
       "      <td>MQDHPNYKYRPRRRKQVKRMKRVE</td>\n",
       "      <td>hppphphphphppppphpphpphp</td>\n",
       "      <td>4675538599979812702</td>\n",
       "      <td>ENSMUST00000195555.2 gene_id=ENSMUSG0000002590...</td>\n",
       "    </tr>\n",
       "    <tr>\n",
       "      <th>1</th>\n",
       "      <td>1</td>\n",
       "      <td>QDHPNYKYRPRRRKQVKRMKRVEG</td>\n",
       "      <td>ppphphphphppppphpphpphph</td>\n",
       "      <td>16787700624938120076</td>\n",
       "      <td>ENSMUST00000195555.2 gene_id=ENSMUSG0000002590...</td>\n",
       "    </tr>\n",
       "    <tr>\n",
       "      <th>2</th>\n",
       "      <td>2</td>\n",
       "      <td>DHPNYKYRPRRRKQVKRMKRVEGG</td>\n",
       "      <td>pphphphphppppphpphpphphh</td>\n",
       "      <td>10958952744925319120</td>\n",
       "      <td>ENSMUST00000195555.2 gene_id=ENSMUSG0000002590...</td>\n",
       "    </tr>\n",
       "    <tr>\n",
       "      <th>3</th>\n",
       "      <td>3</td>\n",
       "      <td>HPNYKYRPRRRKQVKRMKRVEGGF</td>\n",
       "      <td>phphphphppppphpphpphphhh</td>\n",
       "      <td>11073673144508362015</td>\n",
       "      <td>ENSMUST00000195555.2 gene_id=ENSMUSG0000002590...</td>\n",
       "    </tr>\n",
       "    <tr>\n",
       "      <th>4</th>\n",
       "      <td>4</td>\n",
       "      <td>PNYKYRPRRRKQVKRMKRVEGGFL</td>\n",
       "      <td>hphphphppppphpphpphphhhh</td>\n",
       "      <td>3458521422108452682</td>\n",
       "      <td>ENSMUST00000195555.2 gene_id=ENSMUSG0000002590...</td>\n",
       "    </tr>\n",
       "    <tr>\n",
       "      <th>...</th>\n",
       "      <td>...</td>\n",
       "      <td>...</td>\n",
       "      <td>...</td>\n",
       "      <td>...</td>\n",
       "      <td>...</td>\n",
       "    </tr>\n",
       "    <tr>\n",
       "      <th>263</th>\n",
       "      <td>263</td>\n",
       "      <td>NLSDSHGAISSVVSDASSAVYYCN</td>\n",
       "      <td>phpppphhhpphhpphpphhhhpp</td>\n",
       "      <td>4800405316494767242</td>\n",
       "      <td>ENSMUST00000195555.2 gene_id=ENSMUSG0000002590...</td>\n",
       "    </tr>\n",
       "    <tr>\n",
       "      <th>264</th>\n",
       "      <td>264</td>\n",
       "      <td>LSDSHGAISSVVSDASSAVYYCNY</td>\n",
       "      <td>hpppphhhpphhpphpphhhhpph</td>\n",
       "      <td>12758218761529981668</td>\n",
       "      <td>ENSMUST00000195555.2 gene_id=ENSMUSG0000002590...</td>\n",
       "    </tr>\n",
       "    <tr>\n",
       "      <th>265</th>\n",
       "      <td>265</td>\n",
       "      <td>SDSHGAISSVVSDASSAVYYCNYP</td>\n",
       "      <td>pppphhhpphhpphpphhhhpphh</td>\n",
       "      <td>15172368290909897604</td>\n",
       "      <td>ENSMUST00000195555.2 gene_id=ENSMUSG0000002590...</td>\n",
       "    </tr>\n",
       "    <tr>\n",
       "      <th>266</th>\n",
       "      <td>266</td>\n",
       "      <td>DSHGAISSVVSDASSAVYYCNYPD</td>\n",
       "      <td>ppphhhpphhpphpphhhhpphhp</td>\n",
       "      <td>4488222948142703667</td>\n",
       "      <td>ENSMUST00000195555.2 gene_id=ENSMUSG0000002590...</td>\n",
       "    </tr>\n",
       "    <tr>\n",
       "      <th>267</th>\n",
       "      <td>267</td>\n",
       "      <td>SHGAISSVVSDASSAVYYCNYPDI</td>\n",
       "      <td>pphhhpphhpphpphhhhpphhph</td>\n",
       "      <td>3770514431666722752</td>\n",
       "      <td>ENSMUST00000195555.2 gene_id=ENSMUSG0000002590...</td>\n",
       "    </tr>\n",
       "  </tbody>\n",
       "</table>\n",
       "<p>268 rows × 5 columns</p>\n",
       "</div>"
      ],
      "text/plain": [
       "       i                      kmer                   kmer_hp  \\\n",
       "0      0  MQDHPNYKYRPRRRKQVKRMKRVE  hppphphphphppppphpphpphp   \n",
       "1      1  QDHPNYKYRPRRRKQVKRMKRVEG  ppphphphphppppphpphpphph   \n",
       "2      2  DHPNYKYRPRRRKQVKRMKRVEGG  pphphphphppppphpphpphphh   \n",
       "3      3  HPNYKYRPRRRKQVKRMKRVEGGF  phphphphppppphpphpphphhh   \n",
       "4      4  PNYKYRPRRRKQVKRMKRVEGGFL  hphphphppppphpphpphphhhh   \n",
       "..   ...                       ...                       ...   \n",
       "263  263  NLSDSHGAISSVVSDASSAVYYCN  phpppphhhpphhpphpphhhhpp   \n",
       "264  264  LSDSHGAISSVVSDASSAVYYCNY  hpppphhhpphhpphpphhhhpph   \n",
       "265  265  SDSHGAISSVVSDASSAVYYCNYP  pppphhhpphhpphpphhhhpphh   \n",
       "266  266  DSHGAISSVVSDASSAVYYCNYPD  ppphhhpphhpphpphhhhpphhp   \n",
       "267  267  SHGAISSVVSDASSAVYYCNYPDI  pphhhpphhpphpphhhhpphhph   \n",
       "\n",
       "                  hashval                                               name  \n",
       "0     4675538599979812702  ENSMUST00000195555.2 gene_id=ENSMUSG0000002590...  \n",
       "1    16787700624938120076  ENSMUST00000195555.2 gene_id=ENSMUSG0000002590...  \n",
       "2    10958952744925319120  ENSMUST00000195555.2 gene_id=ENSMUSG0000002590...  \n",
       "3    11073673144508362015  ENSMUST00000195555.2 gene_id=ENSMUSG0000002590...  \n",
       "4     3458521422108452682  ENSMUST00000195555.2 gene_id=ENSMUSG0000002590...  \n",
       "..                    ...                                                ...  \n",
       "263   4800405316494767242  ENSMUST00000195555.2 gene_id=ENSMUSG0000002590...  \n",
       "264  12758218761529981668  ENSMUST00000195555.2 gene_id=ENSMUSG0000002590...  \n",
       "265  15172368290909897604  ENSMUST00000195555.2 gene_id=ENSMUSG0000002590...  \n",
       "266   4488222948142703667  ENSMUST00000195555.2 gene_id=ENSMUSG0000002590...  \n",
       "267   3770514431666722752  ENSMUST00000195555.2 gene_id=ENSMUSG0000002590...  \n",
       "\n",
       "[268 rows x 5 columns]"
      ]
     },
     "execution_count": 77,
     "metadata": {},
     "output_type": "execute_result"
    }
   ],
   "source": [
    "mouse_kmers"
   ]
  },
  {
   "cell_type": "code",
   "execution_count": 70,
   "id": "2b471bff-430f-4c3e-80df-efcc67c9de7c",
   "metadata": {},
   "outputs": [
    {
     "data": {
      "text/plain": [
       "'MSSPDAGYASDDQSQPRSAQPAVMAGLGPCPWAESLSPLGDVKVKGEVVASSGAPAGTSGRAKAESRIRRPMNAFMVWAKDERKRLAQQNPDLHNAELSKMLGKSWKALTLAEKRPFVEEAERLRVQHMQDHPNYKYRPRRRKQVKRMKRVEGGFLHALVEPQAGALGPEGGRVAMDGLGLPFPEPGYPAGPPLMSPHMGPHYRDCQGLGAPALDGYPLPTPDTSPLDGVEQDPAFFAAPLPGDCPAAGTYTYAPVSDYAVSVEPPAGPMRVGPDPSGPAMPGILAPPSALHLYYGAMGSPAASAGRGFHAQPQQPLQPQAPPPPPQQQHPAHGPGQPSPPPEALPCRDGTESNQPTELLGEVDRTEFEQYLPFVYKPEMGLPYQGHDCGVNLSDSHGAISSVVSDASSAVYYCNYPDI'"
      ]
     },
     "execution_count": 70,
     "metadata": {},
     "output_type": "execute_result"
    }
   ],
   "source": [
    "mouse_seq = mouse_seqs[mouse_sig.name]\n",
    "mouse_seq"
   ]
  },
  {
   "cell_type": "code",
   "execution_count": 71,
   "id": "0e08c56a-1abd-4e3c-8a7d-39a1341e0603",
   "metadata": {},
   "outputs": [
    {
     "data": {
      "text/plain": [
       "'ENSMUST00000027035.10 gene_id=ENSMUSG00000025902.14;transcript_id=ENSMUST00000027035.10;gene_type=protein_coding;gene_name=Sox17;transcript_type=protein_coding;transcript_name=Sox17-201;level=2;protein_id=ENSMUSP00000027035.4;transcript_support_level=1;mgi_id=MGI:107543;tag=basic,appris_principal_1,CCDS;ccdsid=CCDS14805.1;havana_gene=OTTMUSG00000050014.7;havana_transcript=OTTMUST00000127245.2'"
      ]
     },
     "execution_count": 71,
     "metadata": {},
     "output_type": "execute_result"
    }
   ],
   "source": [
    "mouse_sig.name"
   ]
  },
  {
   "cell_type": "code",
   "execution_count": 72,
   "id": "3ee03ee8-3e6d-40e7-bba5-446165d8e4d6",
   "metadata": {},
   "outputs": [
    {
     "data": {
      "text/plain": [
       "[Result(score=0.17478066219902832, signature=SourmashSignature('ENST00000297316.5 gene_id=ENSG00000164736.6;transcript_id=ENST00000297316.5;gene_type=protein_coding;gene_name=SOX17;transcript_type=protein_coding;transcript_name=SOX17-201;level=2;protein_id=ENSP00000297316.4;transcript_support_level=1;hgnc_id=HGNC:18122;tag=basic,Ensembl_canonical,MANE_Select,appris_principal_1,CCDS;ccdsid=CCDS6159.1;havana_gene=OTTHUMG00000164377.3;havana_transcript=OTTHUMT00000378526.3', 8b23329d), location=None),\n",
       " Result(score=0.05203771602417573, signature=SourmashSignature('ENST00000527137.2 gene_id=ENSG00000090581.11;transcript_id=ENST00000527137.2;gene_type=protein_coding;gene_name=GNPTG;transcript_type=protein_coding;transcript_name=GNPTG-204;level=2;protein_id=ENSP00000480060.1;transcript_support_level=2;hgnc_id=HGNC:23026;tag=basic;havana_gene=OTTHUMG00000047835.7;havana_transcript=OTTHUMT00000395320.2', 01fa4f12), location=None),\n",
       " Result(score=0.049991927179489415, signature=SourmashSignature('ENST00000340356.9 gene_id=ENSG00000203883.7;transcript_id=ENST00000340356.9;gene_type=protein_coding;gene_name=SOX18;transcript_type=protein_coding;transcript_name=SOX18-201;level=2;protein_id=ENSP00000341815.7;transcript_support_level=1;hgnc_id=HGNC:11194;tag=basic,Ensembl_canonical,MANE_Select,appris_principal_1,CCDS;ccdsid=CCDS13552.1;havana_gene=OTTHUMG00000033017.3;havana_transcript=OTTHUMT00000080265.3', dce22f72), location=None),\n",
       " Result(score=0.02641333548560243, signature=SourmashSignature('ENST00000378478.5 gene_id=ENSG00000152954.12;transcript_id=ENST00000378478.5;gene_type=protein_coding;gene_name=NRSN1;transcript_type=protein_coding;transcript_name=NRSN1-203;level=3;protein_id=ENSP00000367739.2;transcript_support_level=1;hgnc_id=HGNC:17881;tag=basic,appris_principal_1,CCDS;ccdsid=CCDS4549.1;havana_gene=OTTHUMG00000016406.4', 3069efc9), location=None),\n",
       " Result(score=0.02641333548560243, signature=SourmashSignature('ENST00000378491.9 gene_id=ENSG00000152954.12;transcript_id=ENST00000378491.9;gene_type=protein_coding;gene_name=NRSN1;transcript_type=protein_coding;transcript_name=NRSN1-204;level=2;protein_id=ENSP00000367752.4;transcript_support_level=1;hgnc_id=HGNC:17881;tag=basic,Ensembl_canonical,MANE_Select,appris_principal_1,CCDS;ccdsid=CCDS4549.1;havana_gene=OTTHUMG00000016406.4;havana_transcript=OTTHUMT00000043866.2', 3069efc9), location=None),\n",
       " Result(score=0.02417592029057858, signature=SourmashSignature('ENST00000610351.1 gene_id=ENSG00000186994.11;transcript_id=ENST00000610351.1;gene_type=protein_coding;gene_name=KANK3;transcript_type=protein_coding;transcript_name=KANK3-205;level=3;protein_id=ENSP00000484877.1;transcript_support_level=5;hgnc_id=HGNC:24796;tag=basic;havana_gene=OTTHUMG00000182461.3', e234980f), location=None),\n",
       " Result(score=0.021449280478051835, signature=SourmashSignature('ENST00000347404.10 gene_id=ENSG00000049130.16;transcript_id=ENST00000347404.10;gene_type=protein_coding;gene_name=KITLG;transcript_type=protein_coding;transcript_name=KITLG-201;level=2;protein_id=ENSP00000054216.5;transcript_support_level=1;hgnc_id=HGNC:6343;tag=basic,CCDS;ccdsid=CCDS31867.1;havana_gene=OTTHUMG00000169888.6;havana_transcript=OTTHUMT00000406425.1', 5deab621), location=None),\n",
       " Result(score=0.021006817476276196, signature=SourmashSignature('ENST00000579732.5 gene_id=ENSG00000133195.11;transcript_id=ENST00000579732.5;gene_type=protein_coding;gene_name=SLC39A11;transcript_type=protein_coding;transcript_name=SLC39A11-207;level=1;protein_id=ENSP00000464525.1;transcript_support_level=2;hgnc_id=HGNC:14463;tag=basic,exp_conf;havana_gene=OTTHUMG00000178306.5;havana_transcript=OTTHUMT00000441492.1', 940a6017), location=None),\n",
       " Result(score=0.020391636528328316, signature=SourmashSignature('ENST00000571456.2 gene_id=ENSG00000141252.21;transcript_id=ENST00000571456.2;gene_type=protein_coding;gene_name=VPS53;transcript_type=protein_coding;transcript_name=VPS53-210;level=2;protein_id=ENSP00000506589.1;transcript_support_level=3;hgnc_id=HGNC:25608;tag=RNA_Seq_supported_partial,basic;havana_gene=OTTHUMG00000177441.12;havana_transcript=OTTHUMT00000437097.1', 8e924d22), location=None),\n",
       " Result(score=0.020198281317790556, signature=SourmashSignature('ENST00000204679.9 gene_id=ENSG00000090581.11;transcript_id=ENST00000204679.9;gene_type=protein_coding;gene_name=GNPTG;transcript_type=protein_coding;transcript_name=GNPTG-201;level=2;protein_id=ENSP00000204679.4;transcript_support_level=1;hgnc_id=HGNC:23026;tag=basic,Ensembl_canonical,MANE_Select,appris_principal_2,CCDS;ccdsid=CCDS10436.1;havana_gene=OTTHUMG00000047835.7;havana_transcript=OTTHUMT00000109058.4', c22b75f1), location=None),\n",
       " Result(score=0.020010324050650397, signature=SourmashSignature('ENST00000246104.7 gene_id=ENSG00000215397.4;transcript_id=ENST00000246104.7;gene_type=protein_coding;gene_name=SCRT2;transcript_type=protein_coding;transcript_name=SCRT2-201;level=2;protein_id=ENSP00000246104.5;transcript_support_level=1;hgnc_id=HGNC:15952;tag=basic,Ensembl_canonical,MANE_Select,appris_principal_1,CCDS;ccdsid=CCDS13006.1;havana_gene=OTTHUMG00000130829.3;havana_transcript=OTTHUMT00000253383.3', 7b74096a), location=None),\n",
       " Result(score=0.019649632537020234, signature=SourmashSignature('ENST00000574029.6 gene_id=ENSG00000141252.21;transcript_id=ENST00000574029.6;gene_type=protein_coding;gene_name=VPS53;transcript_type=protein_coding;transcript_name=VPS53-216;level=2;protein_id=ENSP00000459159.2;transcript_support_level=4;hgnc_id=HGNC:25608;tag=retained_intron_final,RNA_Seq_supported_only,basic;havana_gene=OTTHUMG00000177441.12', 511c983e), location=None),\n",
       " Result(score=0.019649632537020234, signature=SourmashSignature('ENST00000679865.1 gene_id=ENSG00000141252.21;transcript_id=ENST00000679865.1;gene_type=protein_coding;gene_name=VPS53;transcript_type=protein_coding;transcript_name=VPS53-226;level=2;protein_id=ENSP00000504898.1;hgnc_id=HGNC:25608;tag=RNA_Seq_supported_partial,basic;havana_gene=OTTHUMG00000177441.12', 3a024d19), location=None),\n",
       " Result(score=0.01947645037203294, signature=SourmashSignature('ENST00000683887.1 gene_id=ENSG00000090581.11;transcript_id=ENST00000683887.1;gene_type=protein_coding;gene_name=GNPTG;transcript_type=protein_coding;transcript_name=GNPTG-211;level=2;protein_id=ENSP00000506886.1;hgnc_id=HGNC:23026;tag=basic,appris_alternative_2;havana_gene=OTTHUMG00000047835.7', 654e0989), location=None),\n",
       " Result(score=0.0193077679736241, signature=SourmashSignature('ENST00000312298.1 gene_id=ENSG00000174957.1;transcript_id=ENST00000312298.1;gene_type=protein_coding;gene_name=OR5J2;transcript_type=protein_coding;transcript_name=OR5J2-201;level=2;protein_id=ENSP00000310788.1;transcript_support_level=NA;hgnc_id=HGNC:19612;tag=basic,Ensembl_canonical,MANE_Select,appris_principal_1,CCDS;ccdsid=CCDS31522.1;havana_gene=OTTHUMG00000166835.2;havana_transcript=OTTHUMT00000391544.2', 38715e49), location=None),\n",
       " Result(score=0.018380183253626337, signature=SourmashSignature('ENST00000682305.1 gene_id=ENSG00000150433.10;transcript_id=ENST00000682305.1;gene_type=protein_coding;gene_name=TMEM218;transcript_type=protein_coding;transcript_name=TMEM218-218;level=2;protein_id=ENSP00000506979.1;hgnc_id=HGNC:27344;tag=basic,Ensembl_canonical,MANE_Select,appris_principal_1,CCDS;ccdsid=CCDS31715.1;havana_gene=OTTHUMG00000165880.2', 4b148c32), location=None),\n",
       " Result(score=0.018380183253626337, signature=SourmashSignature('ENST00000531909.5 gene_id=ENSG00000150433.10;transcript_id=ENST00000531909.5;gene_type=protein_coding;gene_name=TMEM218;transcript_type=protein_coding;transcript_name=TMEM218-213;level=2;protein_id=ENSP00000436596.1;transcript_support_level=1;hgnc_id=HGNC:27344;tag=basic,appris_principal_1,CCDS;ccdsid=CCDS31715.1;havana_gene=OTTHUMG00000165880.2;havana_transcript=OTTHUMT00000386842.1', 4b148c32), location=None),\n",
       " Result(score=0.018380183253626337, signature=SourmashSignature('ENST00000279968.8 gene_id=ENSG00000150433.10;transcript_id=ENST00000279968.8;gene_type=protein_coding;gene_name=TMEM218;transcript_type=protein_coding;transcript_name=TMEM218-201;level=1;protein_id=ENSP00000279968.4;transcript_support_level=1;hgnc_id=HGNC:27344;tag=alternative_5_UTR,basic,appris_principal_1,exp_conf,CCDS;ccdsid=CCDS31715.1;havana_gene=OTTHUMG00000165880.2;havana_transcript=OTTHUMT00000386849.1', 4b148c32), location=None),\n",
       " Result(score=0.018380183253626337, signature=SourmashSignature('ENST00000532407.5 gene_id=ENSG00000150433.10;transcript_id=ENST00000532407.5;gene_type=protein_coding;gene_name=TMEM218;transcript_type=protein_coding;transcript_name=TMEM218-215;level=2;protein_id=ENSP00000434597.1;transcript_support_level=1;hgnc_id=HGNC:27344;tag=alternative_5_UTR,basic,appris_principal_1,CCDS;ccdsid=CCDS31715.1;havana_gene=OTTHUMG00000165880.2;havana_transcript=OTTHUMT00000386848.1', 4b148c32), location=None),\n",
       " Result(score=0.018380183253626337, signature=SourmashSignature('ENST00000526175.5 gene_id=ENSG00000150433.10;transcript_id=ENST00000526175.5;gene_type=protein_coding;gene_name=TMEM218;transcript_type=protein_coding;transcript_name=TMEM218-203;level=2;protein_id=ENSP00000436177.1;transcript_support_level=3;hgnc_id=HGNC:27344;tag=alternative_5_UTR,basic,appris_principal_1,CCDS;ccdsid=CCDS31715.1;havana_gene=OTTHUMG00000165880.2;havana_transcript=OTTHUMT00000386851.1', 4b148c32), location=None),\n",
       " Result(score=0.018380183253626337, signature=SourmashSignature('ENST00000527766.5 gene_id=ENSG00000150433.10;transcript_id=ENST00000527766.5;gene_type=protein_coding;gene_name=TMEM218;transcript_type=protein_coding;transcript_name=TMEM218-206;level=1;protein_id=ENSP00000435526.1;transcript_support_level=3;hgnc_id=HGNC:27344;tag=basic,appris_principal_1,exp_conf,CCDS;ccdsid=CCDS31715.1;havana_gene=OTTHUMG00000165880.2;havana_transcript=OTTHUMT00000386852.1', 4b148c32), location=None),\n",
       " Result(score=0.018380183253626337, signature=SourmashSignature('ENST00000529583.5 gene_id=ENSG00000150433.10;transcript_id=ENST00000529583.5;gene_type=protein_coding;gene_name=TMEM218;transcript_type=protein_coding;transcript_name=TMEM218-209;level=2;protein_id=ENSP00000433374.1;transcript_support_level=3;hgnc_id=HGNC:27344;tag=basic,appris_principal_1,CCDS;ccdsid=CCDS31715.1;havana_gene=OTTHUMG00000165880.2;havana_transcript=OTTHUMT00000386854.1', 4b148c32), location=None),\n",
       " Result(score=0.018380183253626337, signature=SourmashSignature('ENST00000527271.5 gene_id=ENSG00000150433.10;transcript_id=ENST00000527271.5;gene_type=protein_coding;gene_name=TMEM218;transcript_type=protein_coding;transcript_name=TMEM218-205;level=2;protein_id=ENSP00000436162.1;transcript_support_level=2;hgnc_id=HGNC:27344;tag=alternative_5_UTR,basic,appris_principal_1,CCDS;ccdsid=CCDS31715.1;havana_gene=OTTHUMG00000165880.2;havana_transcript=OTTHUMT00000386855.1', 4b148c32), location=None),\n",
       " Result(score=0.01823821021829175, signature=SourmashSignature('ENST00000545312.1 gene_id=ENSG00000136040.9;transcript_id=ENST00000545312.1;gene_type=protein_coding;gene_name=PLXNC1;transcript_type=protein_coding;transcript_name=PLXNC1-202;level=1;protein_id=ENSP00000439225.1;transcript_support_level=1;hgnc_id=HGNC:9106;tag=basic,exp_conf;havana_gene=OTTHUMG00000170235.8;havana_transcript=OTTHUMT00000408129.2', 5b6bc120), location=None),\n",
       " Result(score=0.01757460735041272, signature=SourmashSignature('ENST00000255559.7 gene_id=ENSG00000133195.11;transcript_id=ENST00000255559.7;gene_type=protein_coding;gene_name=SLC39A11;transcript_type=protein_coding;transcript_name=SLC39A11-201;level=2;protein_id=ENSP00000255559.3;transcript_support_level=1;hgnc_id=HGNC:14463;tag=basic,appris_principal_4,CCDS;ccdsid=CCDS11690.1;havana_gene=OTTHUMG00000178306.5;havana_transcript=OTTHUMT00000441441.1', 1aa84a26), location=None),\n",
       " Result(score=0.01757460735041272, signature=SourmashSignature('ENST00000542342.6 gene_id=ENSG00000133195.11;transcript_id=ENST00000542342.6;gene_type=protein_coding;gene_name=SLC39A11;transcript_type=protein_coding;transcript_name=SLC39A11-202;level=2;protein_id=ENSP00000445829.2;transcript_support_level=2;hgnc_id=HGNC:14463;tag=basic,Ensembl_canonical,appris_alternative_1,CCDS;ccdsid=CCDS54160.1;havana_gene=OTTHUMG00000178306.5;havana_transcript=OTTHUMT00000441442.1', 2b143081), location=None),\n",
       " Result(score=0.016043008429695305, signature=SourmashSignature('ENST00000681295.1 gene_id=ENSG00000141252.21;transcript_id=ENST00000681295.1;gene_type=protein_coding;gene_name=VPS53;transcript_type=protein_coding;transcript_name=VPS53-255;level=2;protein_id=ENSP00000506514.1;hgnc_id=HGNC:25608;tag=inferred_transcript_model,RNA_Seq_supported_only,basic;havana_gene=OTTHUMG00000177441.12', 454b4efa), location=None),\n",
       " Result(score=0.015674078905777544, signature=SourmashSignature('ENST00000335556.7 gene_id=ENSG00000187033.9;transcript_id=ENST00000335556.7;gene_type=protein_coding;gene_name=SAMD7;transcript_type=protein_coding;transcript_name=SAMD7-201;level=2;protein_id=ENSP00000334668.3;transcript_support_level=1;hgnc_id=HGNC:25394;tag=alternative_5_UTR,basic,Ensembl_canonical,MANE_Select,appris_principal_1,CCDS;ccdsid=CCDS3209.1;havana_gene=OTTHUMG00000158730.1;havana_transcript=OTTHUMT00000351960.1', 1b4bfa93), location=None),\n",
       " Result(score=0.015674078905777544, signature=SourmashSignature('ENST00000428432.6 gene_id=ENSG00000187033.9;transcript_id=ENST00000428432.6;gene_type=protein_coding;gene_name=SAMD7;transcript_type=protein_coding;transcript_name=SAMD7-202;level=2;protein_id=ENSP00000391299.2;transcript_support_level=1;hgnc_id=HGNC:25394;tag=basic,appris_principal_1,CCDS;ccdsid=CCDS3209.1;havana_gene=OTTHUMG00000158730.1;havana_transcript=OTTHUMT00000351959.1', 1b4bfa93), location=None),\n",
       " Result(score=0.015674078905777544, signature=SourmashSignature('ENST00000330120.5 gene_id=ENSG00000182631.7;transcript_id=ENST00000330120.5;gene_type=protein_coding;gene_name=RXFP3;transcript_type=protein_coding;transcript_name=RXFP3-201;level=2;protein_id=ENSP00000328708.3;transcript_support_level=NA;hgnc_id=HGNC:24883;tag=basic,Ensembl_canonical,MANE_Select,appris_principal_1,CCDS;ccdsid=CCDS3900.1;havana_gene=OTTHUMG00000090685.2;havana_transcript=OTTHUMT00000207369.2', 9811b17d), location=None),\n",
       " Result(score=0.015674078905777544, signature=SourmashSignature('ENST00000680970.1 gene_id=ENSG00000141252.21;transcript_id=ENST00000680970.1;gene_type=protein_coding;gene_name=VPS53;transcript_type=protein_coding;transcript_name=VPS53-243;level=2;protein_id=ENSP00000505263.1;hgnc_id=HGNC:25608;tag=inferred_exon_combination,RNA_Seq_supported_only,basic;havana_gene=OTTHUMG00000177441.12', d4fdf451), location=None),\n",
       " Result(score=0.015006661660442067, signature=SourmashSignature('ENST00000445055.6 gene_id=ENSG00000010379.16;transcript_id=ENST00000445055.6;gene_type=protein_coding;gene_name=SLC6A13;transcript_type=protein_coding;transcript_name=SLC6A13-203;level=3;protein_id=ENSP00000407104.2;transcript_support_level=2;hgnc_id=HGNC:11046;tag=basic,CCDS;ccdsid=CCDS53729.1;havana_gene=OTTHUMG00000168053.4', a16d2ce8), location=None),\n",
       " Result(score=0.014417831427066208, signature=SourmashSignature('ENST00000568335.3 gene_id=ENSG00000232258.6;transcript_id=ENST00000568335.3;gene_type=protein_coding;gene_name=TMEM114;transcript_type=protein_coding;transcript_name=TMEM114-202;level=2;protein_id=ENSP00000454261.2;transcript_support_level=3;hgnc_id=HGNC:33227;tag=basic,CCDS;ccdsid=CCDS76819.1;havana_gene=OTTHUMG00000172868.2;havana_transcript=OTTHUMT00000479051.1', 9eddf4d7), location=None),\n",
       " Result(score=0.014148270682306618, signature=SourmashSignature('ENST00000575100.2 gene_id=ENSG00000141252.21;transcript_id=ENST00000575100.2;gene_type=protein_coding;gene_name=VPS53;transcript_type=protein_coding;transcript_name=VPS53-217;level=2;protein_id=ENSP00000505967.1;transcript_support_level=NA;hgnc_id=HGNC:25608;tag=RNA_Seq_supported_partial,basic;havana_gene=OTTHUMG00000177441.12;havana_transcript=OTTHUMT00000437096.1', 4c005b66), location=None),\n",
       " Result(score=0.013651606994075971, signature=SourmashSignature('ENST00000449319.2 gene_id=ENSG00000176973.8;transcript_id=ENST00000449319.2;gene_type=protein_coding;gene_name=FAM89B;transcript_type=protein_coding;transcript_name=FAM89B-202;level=2;protein_id=ENSP00000402439.2;transcript_support_level=1;hgnc_id=HGNC:16708;tag=basic,CCDS;ccdsid=CCDS44648.1;havana_gene=OTTHUMG00000166499.2;havana_transcript=OTTHUMT00000390094.1', d7b24f82), location=None),\n",
       " Result(score=0.013651606994075971, signature=SourmashSignature('ENST00000476139.5 gene_id=ENSG00000171928.14;transcript_id=ENST00000476139.5;gene_type=protein_coding;gene_name=TVP23B;transcript_type=protein_coding;transcript_name=TVP23B-202;level=2;protein_id=ENSP00000463400.2;transcript_support_level=1;hgnc_id=HGNC:20399;tag=basic,CCDS;ccdsid=CCDS82084.1;havana_gene=OTTHUMG00000059052.7;havana_transcript=OTTHUMT00000130668.3', aebbe041), location=None),\n",
       " Result(score=0.013651606994075971, signature=SourmashSignature('ENST00000581733.1 gene_id=ENSG00000171928.14;transcript_id=ENST00000581733.1;gene_type=protein_coding;gene_name=TVP23B;transcript_type=protein_coding;transcript_name=TVP23B-209;level=2;protein_id=ENSP00000465872.1;transcript_support_level=5;hgnc_id=HGNC:20399;tag=basic,CCDS;ccdsid=CCDS82084.1;havana_gene=OTTHUMG00000059052.7;havana_transcript=OTTHUMT00000448148.2', aebbe041), location=None),\n",
       " Result(score=0.01359313269338358, signature=SourmashSignature('ENST00000343164.9 gene_id=ENSG00000010379.16;transcript_id=ENST00000343164.9;gene_type=protein_coding;gene_name=SLC6A13;transcript_type=protein_coding;transcript_name=SLC6A13-201;level=2;protein_id=ENSP00000339260.4;transcript_support_level=1;hgnc_id=HGNC:11046;tag=basic,Ensembl_canonical,MANE_Select,appris_principal_1,CCDS;ccdsid=CCDS8502.1;havana_gene=OTTHUMG00000168053.4;havana_transcript=OTTHUMT00000397801.2', a7e9129c), location=None),\n",
       " Result(score=0.013422117584023341, signature=SourmashSignature('ENST00000679961.1 gene_id=ENSG00000141252.21;transcript_id=ENST00000679961.1;gene_type=protein_coding;gene_name=VPS53;transcript_type=protein_coding;transcript_name=VPS53-228;level=2;protein_id=ENSP00000505902.1;hgnc_id=HGNC:25608;tag=inferred_transcript_model,RNA_Seq_supported_only,basic;havana_gene=OTTHUMG00000177441.12', 2cfb330d), location=None),\n",
       " Result(score=0.013422117584023341, signature=SourmashSignature('ENST00000584811.5 gene_id=ENSG00000175106.17;transcript_id=ENST00000584811.5;gene_type=protein_coding;gene_name=TVP23C;transcript_type=protein_coding;transcript_name=TVP23C-210;level=2;protein_id=ENSP00000463371.1;transcript_support_level=1;hgnc_id=HGNC:30453;tag=non_canonical_TEC,basic;havana_gene=OTTHUMG00000171461.10;havana_transcript=OTTHUMT00000442588.3', 6452f8bf), location=None),\n",
       " Result(score=0.013203825663280377, signature=SourmashSignature('ENST00000615463.4 gene_id=ENSG00000006534.16;transcript_id=ENST00000615463.4;gene_type=protein_coding;gene_name=ALDH3B1;transcript_type=protein_coding;transcript_name=ALDH3B1-206;level=3;protein_id=ENSP00000479948.1;transcript_support_level=1;hgnc_id=HGNC:410;tag=basic;havana_gene=OTTHUMG00000154910.7', 682c7596), location=None),\n",
       " Result(score=0.013203825663280377, signature=SourmashSignature('ENST00000397296.6 gene_id=ENSG00000111181.13;transcript_id=ENST00000397296.6;gene_type=protein_coding;gene_name=SLC6A12;transcript_type=protein_coding;transcript_name=SLC6A12-202;level=3;protein_id=ENSP00000380464.2;transcript_support_level=1;hgnc_id=HGNC:11045;tag=basic,appris_principal_1,CCDS;ccdsid=CCDS8501.1;havana_gene=OTTHUMG00000090309.7', c79e325d), location=None),\n",
       " Result(score=0.013203825663280377, signature=SourmashSignature('ENST00000359674.8 gene_id=ENSG00000111181.13;transcript_id=ENST00000359674.8;gene_type=protein_coding;gene_name=SLC6A12;transcript_type=protein_coding;transcript_name=SLC6A12-201;level=2;protein_id=ENSP00000352702.4;transcript_support_level=1;hgnc_id=HGNC:11045;tag=basic,appris_principal_1,CCDS;ccdsid=CCDS8501.1;havana_gene=OTTHUMG00000090309.7;havana_transcript=OTTHUMT00000206671.2', c79e325d), location=None),\n",
       " Result(score=0.013203825663280377, signature=SourmashSignature('ENST00000684302.1 gene_id=ENSG00000111181.13;transcript_id=ENST00000684302.1;gene_type=protein_coding;gene_name=SLC6A12;transcript_type=protein_coding;transcript_name=SLC6A12-217;level=2;protein_id=ENSP00000508194.1;hgnc_id=HGNC:11045;tag=basic,Ensembl_canonical,MANE_Select,appris_principal_1,CCDS;ccdsid=CCDS8501.1;havana_gene=OTTHUMG00000090309.7', c79e325d), location=None),\n",
       " Result(score=0.013203825663280377, signature=SourmashSignature('ENST00000424061.6 gene_id=ENSG00000111181.13;transcript_id=ENST00000424061.6;gene_type=protein_coding;gene_name=SLC6A12;transcript_type=protein_coding;transcript_name=SLC6A12-203;level=2;protein_id=ENSP00000399136.2;transcript_support_level=1;hgnc_id=HGNC:11045;tag=alternative_5_UTR,basic,appris_principal_1,CCDS;ccdsid=CCDS8501.1;havana_gene=OTTHUMG00000090309.7;havana_transcript=OTTHUMT00000397444.3', c79e325d), location=None),\n",
       " Result(score=0.013203825663280377, signature=SourmashSignature('ENST00000536824.5 gene_id=ENSG00000111181.13;transcript_id=ENST00000536824.5;gene_type=protein_coding;gene_name=SLC6A12;transcript_type=protein_coding;transcript_name=SLC6A12-207;level=2;protein_id=ENSP00000444268.1;transcript_support_level=1;hgnc_id=HGNC:11045;tag=alternative_5_UTR,basic,appris_principal_1,CCDS;ccdsid=CCDS8501.1;havana_gene=OTTHUMG00000090309.7;havana_transcript=OTTHUMT00000397514.2', c79e325d), location=None),\n",
       " Result(score=0.012995849283328198, signature=SourmashSignature('ENST00000230671.7 gene_id=ENSG00000011083.9;transcript_id=ENST00000230671.7;gene_type=protein_coding;gene_name=SLC6A7;transcript_type=protein_coding;transcript_name=SLC6A7-201;level=2;protein_id=ENSP00000230671.2;transcript_support_level=1;hgnc_id=HGNC:11054;tag=basic,Ensembl_canonical,MANE_Select,appris_principal_2,CCDS;ccdsid=CCDS4305.1;havana_gene=OTTHUMG00000130046.4;havana_transcript=OTTHUMT00000252325.2', 6807ed93), location=None),\n",
       " Result(score=0.012895479951543498, signature=SourmashSignature('ENST00000547057.5 gene_id=ENSG00000136040.9;transcript_id=ENST00000547057.5;gene_type=protein_coding;gene_name=PLXNC1;transcript_type=protein_coding;transcript_name=PLXNC1-205;level=2;protein_id=ENSP00000446720.1;transcript_support_level=2;hgnc_id=HGNC:9106;tag=basic;havana_gene=OTTHUMG00000170235.8;havana_transcript=OTTHUMT00000408128.2', 80354396), location=None),\n",
       " Result(score=0.012797400779928192, signature=SourmashSignature('ENST00000524041.1 gene_id=ENSG00000011083.9;transcript_id=ENST00000524041.1;gene_type=protein_coding;gene_name=SLC6A7;transcript_type=protein_coding;transcript_name=SLC6A7-203;level=1;protein_id=ENSP00000428200.1;transcript_support_level=5;hgnc_id=HGNC:11054;tag=basic,appris_alternative_2,exp_conf;havana_gene=OTTHUMG00000130046.4;havana_transcript=OTTHUMT00000377501.1', 53f550c2), location=None),\n",
       " Result(score=0.012607774197510135, signature=SourmashSignature('ENST00000680241.1 gene_id=ENSG00000141252.21;transcript_id=ENST00000680241.1;gene_type=protein_coding;gene_name=VPS53;transcript_type=protein_coding;transcript_name=VPS53-233;level=2;protein_id=ENSP00000505475.1;hgnc_id=HGNC:25608;tag=RNA_Seq_supported_only,basic;havana_gene=OTTHUMG00000177441.12', 620af733), location=None),\n",
       " Result(score=0.012561670153875215, signature=SourmashSignature('ENST00000622186.5 gene_id=ENSG00000131389.18;transcript_id=ENST00000622186.5;gene_type=protein_coding;gene_name=SLC6A6;transcript_type=protein_coding;transcript_name=SLC6A6-210;level=2;protein_id=ENSP00000480890.1;transcript_support_level=1;hgnc_id=HGNC:11052;tag=basic,Ensembl_canonical,MANE_Select,appris_principal_1,CCDS;ccdsid=CCDS33705.1;havana_gene=OTTHUMG00000155525.10', a112a27b), location=None),\n",
       " Result(score=0.011809691334595973, signature=SourmashSignature('ENST00000330915.7 gene_id=ENSG00000186994.11;transcript_id=ENST00000330915.7;gene_type=protein_coding;gene_name=KANK3;transcript_type=protein_coding;transcript_name=KANK3-201;level=2;protein_id=ENSP00000328923.2;transcript_support_level=1;hgnc_id=HGNC:24796;tag=basic,Ensembl_canonical,MANE_Select,appris_principal_2,CCDS;ccdsid=CCDS12199.1;havana_gene=OTTHUMG00000182461.3;havana_transcript=OTTHUMT00000461378.1', 2e60200f), location=None),\n",
       " Result(score=0.011809691334595973, signature=SourmashSignature('ENST00000593649.5 gene_id=ENSG00000186994.11;transcript_id=ENST00000593649.5;gene_type=protein_coding;gene_name=KANK3;transcript_type=protein_coding;transcript_name=KANK3-203;level=2;protein_id=ENSP00000470728.1;transcript_support_level=1;hgnc_id=HGNC:24796;tag=basic,appris_alternative_2;havana_gene=OTTHUMG00000182461.3;havana_transcript=OTTHUMT00000461379.1', ef3a8bcd), location=None),\n",
       " Result(score=0.01177177457647638, signature=SourmashSignature('ENST00000518321.6 gene_id=ENSG00000175106.17;transcript_id=ENST00000518321.6;gene_type=protein_coding;gene_name=TVP23C;transcript_type=protein_coding;transcript_name=TVP23C-205;level=2;protein_id=ENSP00000464052.1;transcript_support_level=1;hgnc_id=HGNC:30453;tag=basic,Ensembl_canonical,MANE_Select,CCDS;ccdsid=CCDS45617.1;havana_gene=OTTHUMG00000171461.10;havana_transcript=OTTHUMT00000380633.2', 4261a96b), location=None),\n",
       " Result(score=0.011734220700859055, signature=SourmashSignature('ENST00000525748.6 gene_id=ENSG00000165970.12;transcript_id=ENST00000525748.6;gene_type=protein_coding;gene_name=SLC6A5;transcript_type=protein_coding;transcript_name=SLC6A5-202;level=2;protein_id=ENSP00000434364.2;transcript_support_level=1;hgnc_id=HGNC:11051;tag=basic,Ensembl_canonical,MANE_Select,appris_principal_1,CCDS;ccdsid=CCDS7854.1;havana_gene=OTTHUMG00000166024.3;havana_transcript=OTTHUMT00000387497.2', e46deb51), location=None),\n",
       " Result(score=0.011734220700859055, signature=SourmashSignature('ENST00000248668.5 gene_id=ENSG00000128011.5;transcript_id=ENST00000248668.5;gene_type=protein_coding;gene_name=LRFN1;transcript_type=protein_coding;transcript_name=LRFN1-201;level=2;protein_id=ENSP00000248668.4;transcript_support_level=1;hgnc_id=HGNC:29290;tag=inferred_transcript_model,basic,Ensembl_canonical,MANE_Select,appris_principal_1,CCDS;ccdsid=CCDS46071.1;havana_gene=OTTHUMG00000182808.1;havana_transcript=OTTHUMT00000463835.1', b6160c50), location=None),\n",
       " Result(score=0.011660178717578629, signature=SourmashSignature('ENST00000613060.4 gene_id=ENSG00000131389.18;transcript_id=ENST00000613060.4;gene_type=protein_coding;gene_name=SLC6A6;transcript_type=protein_coding;transcript_name=SLC6A6-204;level=2;protein_id=ENSP00000481625.1;transcript_support_level=1;hgnc_id=HGNC:11052;tag=basic,CCDS;ccdsid=CCDS77704.1;havana_gene=OTTHUMG00000155525.10;havana_transcript=OTTHUMT00000340507.2', c98f995c), location=None),\n",
       " Result(score=0.011481036687212898, signature=SourmashSignature('ENST00000614557.1 gene_id=ENSG00000275163.1;transcript_id=ENST00000614557.1;gene_type=protein_coding;gene_name=RP11-385J1.3;transcript_type=protein_coding;transcript_name=RP11-385J1.3-001;level=2;protein_id=ENSP00000483415.1;transcript_support_level=2;tag=basic,Ensembl_canonical,appris_principal_1,readthrough_transcript,CCDS;ccdsid=CCDS3223.1;havana_gene=OTTHUMG00000186539.1;havana_transcript=OTTHUMT00000473310.1', 780323ec), location=None),\n",
       " Result(score=0.011481036687212898, signature=SourmashSignature('ENST00000420517.6 gene_id=ENSG00000197584.12;transcript_id=ENST00000420517.6;gene_type=protein_coding;gene_name=KCNMB2;transcript_type=protein_coding;transcript_name=KCNMB2-202;level=2;protein_id=ENSP00000408252.2;transcript_support_level=5;hgnc_id=HGNC:6286;tag=alternative_5_UTR,basic,appris_principal_1,CCDS;ccdsid=CCDS3223.1;havana_gene=OTTHUMG00000157264.6;havana_transcript=OTTHUMT00000348252.1', 780323ec), location=None),\n",
       " Result(score=0.011481036687212898, signature=SourmashSignature('ENST00000452583.6 gene_id=ENSG00000197584.12;transcript_id=ENST00000452583.6;gene_type=protein_coding;gene_name=KCNMB2;transcript_type=protein_coding;transcript_name=KCNMB2-207;level=2;protein_id=ENSP00000397483.1;transcript_support_level=1;hgnc_id=HGNC:6286;tag=basic,Ensembl_canonical,MANE_Select,appris_principal_1,CCDS;ccdsid=CCDS3223.1;havana_gene=OTTHUMG00000157264.6;havana_transcript=OTTHUMT00000348249.2', 780323ec), location=None),\n",
       " Result(score=0.011481036687212898, signature=SourmashSignature('ENST00000432997.5 gene_id=ENSG00000197584.12;transcript_id=ENST00000432997.5;gene_type=protein_coding;gene_name=KCNMB2;transcript_type=protein_coding;transcript_name=KCNMB2-204;level=2;protein_id=ENSP00000407592.1;transcript_support_level=1;hgnc_id=HGNC:6286;tag=alternative_5_UTR,basic,appris_principal_1,CCDS;ccdsid=CCDS3223.1;havana_gene=OTTHUMG00000157264.6;havana_transcript=OTTHUMT00000348251.1', 780323ec), location=None),\n",
       " Result(score=0.011481036687212898, signature=SourmashSignature('ENST00000358316.7 gene_id=ENSG00000197584.12;transcript_id=ENST00000358316.7;gene_type=protein_coding;gene_name=KCNMB2;transcript_type=protein_coding;transcript_name=KCNMB2-201;level=3;protein_id=ENSP00000351068.3;transcript_support_level=1;hgnc_id=HGNC:6286;tag=basic,appris_principal_1,CCDS;ccdsid=CCDS3223.1;havana_gene=OTTHUMG00000157264.6', 780323ec), location=None),\n",
       " Result(score=0.011481036687212898, signature=SourmashSignature('ENST00000438826.7 gene_id=ENSG00000175106.17;transcript_id=ENST00000438826.7;gene_type=protein_coding;gene_name=TVP23C;transcript_type=protein_coding;transcript_name=TVP23C-204;level=2;protein_id=ENSP00000413355.3;transcript_support_level=1;hgnc_id=HGNC:30453;tag=non_canonical_TEC,basic,appris_principal_1;havana_gene=OTTHUMG00000171461.10;havana_transcript=OTTHUMT00000130706.3', 8b8df1b8), location=None),\n",
       " Result(score=0.011481036687212898, signature=SourmashSignature('ENST00000428082.6 gene_id=ENSG00000175106.17;transcript_id=ENST00000428082.6;gene_type=protein_coding;gene_name=TVP23C;transcript_type=protein_coding;transcript_name=TVP23C-203;level=2;protein_id=ENSP00000406387.2;transcript_support_level=1;hgnc_id=HGNC:30453;tag=non_canonical_TEC,basic,appris_principal_1;havana_gene=OTTHUMG00000171461.10;havana_transcript=OTTHUMT00000443651.1', 8b8df1b8), location=None),\n",
       " Result(score=0.011210828533209649, signature=SourmashSignature('ENST00000620492.4 gene_id=ENSG00000232258.6;transcript_id=ENST00000620492.4;gene_type=protein_coding;gene_name=TMEM114;transcript_type=protein_coding;transcript_name=TMEM114-203;level=2;protein_id=ENSP00000484263.1;transcript_support_level=2;hgnc_id=HGNC:33227;tag=not_organism_supported,basic,Ensembl_canonical,appris_principal_1,CCDS;ccdsid=CCDS73825.1;havana_gene=OTTHUMG00000172868.2;havana_transcript=OTTHUMT00000420965.2', 761651a5), location=None),\n",
       " Result(score=0.01108268755063957, signature=SourmashSignature('ENST00000576019.6 gene_id=ENSG00000141252.21;transcript_id=ENST00000576019.6;gene_type=protein_coding;gene_name=VPS53;transcript_type=protein_coding;transcript_name=VPS53-219;level=2;protein_id=ENSP00000461429.2;transcript_support_level=3;hgnc_id=HGNC:25608;tag=RNA_Seq_supported_only,basic;havana_gene=OTTHUMG00000177441.12', 202e9be0), location=None),\n",
       " Result(score=0.010958842450604078, signature=SourmashSignature('ENST00000511812.5 gene_id=ENSG00000205571.14;transcript_id=ENST00000511812.5;gene_type=protein_coding;gene_name=SMN2;transcript_type=protein_coding;transcript_name=SMN2-210;level=2;protein_id=ENSP00000424282.1;transcript_support_level=2;hgnc_id=HGNC:11118;tag=basic;havana_gene=OTTHUMG00000099389.8;havana_transcript=OTTHUMT00000368718.1', 0aabed0c), location=None),\n",
       " Result(score=0.010958842450604078, signature=SourmashSignature('ENST00000514951.5 gene_id=ENSG00000172062.17;transcript_id=ENST00000514951.5;gene_type=protein_coding;gene_name=SMN1;transcript_type=protein_coding;transcript_name=SMN1-209;level=2;protein_id=ENSP00000423298.1;transcript_support_level=2;hgnc_id=HGNC:11117;tag=basic;havana_gene=OTTHUMG00000099361.6;havana_transcript=OTTHUMT00000372642.2', 0aabed0c), location=None),\n",
       " Result(score=0.010958842450604078, signature=SourmashSignature('ENST00000574226.5 gene_id=ENSG00000171928.14;transcript_id=ENST00000574226.5;gene_type=protein_coding;gene_name=TVP23B;transcript_type=protein_coding;transcript_name=TVP23B-206;level=2;protein_id=ENSP00000462334.1;transcript_support_level=1;hgnc_id=HGNC:20399;tag=basic;havana_gene=OTTHUMG00000059052.7;havana_transcript=OTTHUMT00000440717.2', 71eadd48), location=None),\n",
       " Result(score=0.010723118329754477, signature=SourmashSignature('ENST00000303277.6 gene_id=ENSG00000168936.11;transcript_id=ENST00000303277.6;gene_type=protein_coding;gene_name=TMEM129;transcript_type=protein_coding;transcript_name=TMEM129-201;level=1;protein_id=ENSP00000305243.2;transcript_support_level=1;hgnc_id=HGNC:25137;tag=basic,exp_conf,CCDS;ccdsid=CCDS3351.1;havana_gene=OTTHUMG00000121150.4;havana_transcript=OTTHUMT00000241635.2', a9ae71d6), location=None),\n",
       " Result(score=0.010723118329754477, signature=SourmashSignature('ENST00000307767.13 gene_id=ENSG00000171928.14;transcript_id=ENST00000307767.13;gene_type=protein_coding;gene_name=TVP23B;transcript_type=protein_coding;transcript_name=TVP23B-201;level=2;protein_id=ENSP00000305654.8;transcript_support_level=1;hgnc_id=HGNC:20399;tag=basic,Ensembl_canonical,MANE_Select,appris_principal_1,CCDS;ccdsid=CCDS42274.1;havana_gene=OTTHUMG00000059052.7;havana_transcript=OTTHUMT00000130667.3', fcd156cb), location=None),\n",
       " Result(score=0.010501979086894764, signature=SourmashSignature('ENST00000505959.5 gene_id=ENSG00000164181.14;transcript_id=ENST00000505959.5;gene_type=protein_coding;gene_name=ELOVL7;transcript_type=protein_coding;transcript_name=ELOVL7-203;level=1;protein_id=ENSP00000421043.1;transcript_support_level=1;hgnc_id=HGNC:26292;tag=basic,exp_conf,CCDS;ccdsid=CCDS78013.1;havana_gene=OTTHUMG00000162254.3;havana_transcript=OTTHUMT00000368196.1', 2da8df84), location=None),\n",
       " Result(score=0.010501979086894764, signature=SourmashSignature('ENST00000327201.10 gene_id=ENSG00000154040.21;transcript_id=ENST00000327201.10;gene_type=protein_coding;gene_name=CABYR;transcript_type=protein_coding;transcript_name=CABYR-201;level=2;protein_id=ENSP00000317095.6;transcript_support_level=1;hgnc_id=HGNC:15569;tag=basic,CCDS;ccdsid=CCDS11883.1;havana_gene=OTTHUMG00000037365.11;havana_transcript=OTTHUMT00000254900.2', 846e3b3d), location=None),\n",
       " Result(score=0.010448799380060492, signature=SourmashSignature('ENST00000434752.4 gene_id=ENSG00000228672.4;transcript_id=ENST00000434752.4;gene_type=protein_coding;gene_name=PROB1;transcript_type=protein_coding;transcript_name=PROB1-201;level=2;protein_id=ENSP00000416033.2;transcript_support_level=NA;hgnc_id=HGNC:41906;tag=basic,Ensembl_canonical,MANE_Select,appris_principal_1,CCDS;ccdsid=CCDS54909.1;havana_gene=OTTHUMG00000185568.2;havana_transcript=OTTHUMT00000470735.2', 417f3739), location=None),\n",
       " Result(score=0.010396419447785132, signature=SourmashSignature('ENST00000390658.4 gene_id=ENSG00000176396.11;transcript_id=ENST00000390658.4;gene_type=protein_coding;gene_name=EID2;transcript_type=protein_coding;transcript_name=EID2-201;level=2;protein_id=ENSP00000375073.2;transcript_support_level=NA;hgnc_id=HGNC:28292;tag=upstream_ATG,basic,Ensembl_canonical,MANE_Select,appris_principal_1,CCDS;ccdsid=CCDS12540.2;havana_gene=OTTHUMG00000074073.4;havana_transcript=OTTHUMT00000157251.3', 40a04178), location=None),\n",
       " Result(score=0.010194510577003602, signature=SourmashSignature('ENST00000508821.6 gene_id=ENSG00000164181.14;transcript_id=ENST00000508821.6;gene_type=protein_coding;gene_name=ELOVL7;transcript_type=protein_coding;transcript_name=ELOVL7-205;level=2;protein_id=ENSP00000424123.1;transcript_support_level=1;hgnc_id=HGNC:26292;tag=basic,Ensembl_canonical,MANE_Select,appris_principal_1,CCDS;ccdsid=CCDS34164.1;havana_gene=OTTHUMG00000162254.3;havana_transcript=OTTHUMT00000368195.2', 21b59d68), location=None),\n",
       " Result(score=0.010194510577003602, signature=SourmashSignature('ENST00000425382.5 gene_id=ENSG00000164181.14;transcript_id=ENST00000425382.5;gene_type=protein_coding;gene_name=ELOVL7;transcript_type=protein_coding;transcript_name=ELOVL7-201;level=3;protein_id=ENSP00000402634.1;transcript_support_level=5;hgnc_id=HGNC:26292;tag=basic,appris_principal_1,CCDS;ccdsid=CCDS34164.1;havana_gene=OTTHUMG00000162254.3', 21b59d68), location=None),\n",
       " Result(score=0.010170090472625515, signature=SourmashSignature('ENST00000370713.5 gene_id=ENSG00000117114.20;transcript_id=ENST00000370713.5;gene_type=protein_coding;gene_name=ADGRL2;transcript_type=protein_coding;transcript_name=ADGRL2-203;level=2;protein_id=ENSP00000359748.1;transcript_support_level=1;hgnc_id=HGNC:18582;tag=basic,CCDS;ccdsid=CCDS76174.1;havana_gene=OTTHUMG00000009844.9;havana_transcript=OTTHUMT00000027184.1', c404c88f), location=None),\n",
       " Result(score=0.010145845020686495, signature=SourmashSignature('ENST00000674208.1 gene_id=ENSG00000117114.20;transcript_id=ENST00000674208.1;gene_type=protein_coding;gene_name=ADGRL2;transcript_type=protein_coding;transcript_name=ADGRL2-225;level=2;protein_id=ENSP00000501532.1;hgnc_id=HGNC:18582;tag=basic,TAGENE;havana_gene=OTTHUMG00000009844.9;havana_transcript=OTTHUMT00000027197.3', 7b8ec15f), location=None),\n",
       " Result(score=0.010074136030250758, signature=SourmashSignature('ENST00000370715.5 gene_id=ENSG00000117114.20;transcript_id=ENST00000370715.5;gene_type=protein_coding;gene_name=ADGRL2;transcript_type=protein_coding;transcript_name=ADGRL2-204;level=2;protein_id=ENSP00000359750.1;transcript_support_level=1;hgnc_id=HGNC:18582;tag=basic,CCDS;ccdsid=CCDS72811.1;havana_gene=OTTHUMG00000009844.9;havana_transcript=OTTHUMT00000027183.1', aea3dfd2), location=None),\n",
       " Result(score=0.010050568807188687, signature=SourmashSignature('ENST00000674442.1 gene_id=ENSG00000117114.20;transcript_id=ENST00000674442.1;gene_type=protein_coding;gene_name=ADGRL2;transcript_type=protein_coding;transcript_name=ADGRL2-237;level=2;protein_id=ENSP00000501484.1;hgnc_id=HGNC:18582;tag=basic,TAGENE;havana_gene=OTTHUMG00000009844.9;havana_transcript=OTTHUMT00000027199.2', f8da501f), location=None),\n",
       " Result(score=0.010003926336983882, signature=SourmashSignature('ENST00000298681.5 gene_id=ENSG00000165794.10;transcript_id=ENST00000298681.5;gene_type=protein_coding;gene_name=SLC39A2;transcript_type=protein_coding;transcript_name=SLC39A2-201;level=2;protein_id=ENSP00000298681.4;transcript_support_level=1;hgnc_id=HGNC:17127;tag=basic,Ensembl_canonical,MANE_Select,appris_principal_1,CCDS;ccdsid=CCDS9563.1;havana_gene=OTTHUMG00000029616.4;havana_transcript=OTTHUMT00000073829.3', 63ae5806), location=None),\n",
       " Result(score=0.010003926336983882, signature=SourmashSignature('ENST00000395653.9 gene_id=ENSG00000188603.22;transcript_id=ENST00000395653.9;gene_type=protein_coding;gene_name=CLN3;transcript_type=protein_coding;transcript_name=CLN3-207;level=2;protein_id=ENSP00000379014.5;transcript_support_level=5;hgnc_id=HGNC:2074;tag=basic;havana_gene=OTTHUMG00000097024.10;havana_transcript=OTTHUMT00000430955.3', 6a063b56), location=None),\n",
       " Result(score=0.010003926336983882, signature=SourmashSignature('ENST00000460160.5 gene_id=ENSG00000120093.12;transcript_id=ENST00000460160.5;gene_type=protein_coding;gene_name=HOXB3;transcript_type=protein_coding;transcript_name=HOXB3-202;level=2;protein_id=ENSP00000418035.1;transcript_support_level=5;hgnc_id=HGNC:5114;tag=basic,CCDS;ccdsid=CCDS82153.1;havana_gene=OTTHUMG00000159922.4;havana_transcript=OTTHUMT00000358266.1', 93f697c6), location=None)]"
      ]
     },
     "execution_count": 72,
     "metadata": {},
     "output_type": "execute_result"
    }
   ],
   "source": [
    "results\n"
   ]
  },
  {
   "cell_type": "code",
   "execution_count": null,
   "id": "706dd4b1-c390-4ba0-85bc-33018e93392f",
   "metadata": {},
   "outputs": [],
   "source": []
  }
 ],
 "metadata": {
  "kernelspec": {
   "display_name": "Python [conda env:botryllus]",
   "language": "python",
   "name": "conda-env-botryllus-py"
  },
  "language_info": {
   "codemirror_mode": {
    "name": "ipython",
    "version": 3
   },
   "file_extension": ".py",
   "mimetype": "text/x-python",
   "name": "python",
   "nbconvert_exporter": "python",
   "pygments_lexer": "ipython3",
   "version": "3.10.0"
  }
 },
 "nbformat": 4,
 "nbformat_minor": 5
}
