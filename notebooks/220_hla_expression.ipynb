{
 "cells": [
  {
   "cell_type": "code",
   "execution_count": 67,
   "id": "57050608-822e-4bbf-ba41-473cc21d943d",
   "metadata": {},
   "outputs": [
    {
     "data": {
      "text/html": [
       "<div>\n",
       "<style scoped>\n",
       "    .dataframe tbody tr th:only-of-type {\n",
       "        vertical-align: middle;\n",
       "    }\n",
       "\n",
       "    .dataframe tbody tr th {\n",
       "        vertical-align: top;\n",
       "    }\n",
       "\n",
       "    .dataframe thead th {\n",
       "        text-align: right;\n",
       "    }\n",
       "</style>\n",
       "<table border=\"1\" class=\"dataframe\">\n",
       "  <thead>\n",
       "    <tr style=\"text-align: right;\">\n",
       "      <th></th>\n",
       "      <th>g858.t1</th>\n",
       "      <th>g8697.t1</th>\n",
       "      <th>population</th>\n",
       "    </tr>\n",
       "  </thead>\n",
       "  <tbody>\n",
       "    <tr>\n",
       "      <th>p2</th>\n",
       "      <td>3.960363269</td>\n",
       "      <td>10.57415923</td>\n",
       "      <td>Other</td>\n",
       "    </tr>\n",
       "    <tr>\n",
       "      <th>p5</th>\n",
       "      <td>4.833409401</td>\n",
       "      <td>24.67048948</td>\n",
       "      <td>Other</td>\n",
       "    </tr>\n",
       "    <tr>\n",
       "      <th>p3</th>\n",
       "      <td>2.196306386</td>\n",
       "      <td>22.04212539</td>\n",
       "      <td>Other</td>\n",
       "    </tr>\n",
       "    <tr>\n",
       "      <th>p22</th>\n",
       "      <td>6.150264723</td>\n",
       "      <td>15.94912484</td>\n",
       "      <td>Other</td>\n",
       "    </tr>\n",
       "    <tr>\n",
       "      <th>p12</th>\n",
       "      <td>5.764851492</td>\n",
       "      <td>0.4251899294</td>\n",
       "      <td>Other</td>\n",
       "    </tr>\n",
       "  </tbody>\n",
       "</table>\n",
       "</div>"
      ],
      "text/plain": [
       "         g858.t1      g8697.t1 population\n",
       "p2   3.960363269   10.57415923      Other\n",
       "p5   4.833409401   24.67048948      Other\n",
       "p3   2.196306386   22.04212539      Other\n",
       "p22  6.150264723   15.94912484      Other\n",
       "p12  5.764851492  0.4251899294      Other"
      ]
     },
     "execution_count": 67,
     "metadata": {},
     "output_type": "execute_result"
    }
   ],
   "source": [
    "from io import StringIO\n",
    "import pandas as pd\n",
    "\n",
    "import itertools\n",
    "from scipy.stats import ttest_ind\n",
    "\n",
    "import seaborn as sns\n",
    "\n",
    "s = \"\"\"\tp2\tp5\tp3\tp22\tp12\tp15\tp8\tp14\tp21\tp23\tp26\tp25\tp24\tp19\tp36\tp20\tp35\tp34\tp16\tp31\tp30\tp29\tp33\tp32\n",
    "g858.t1\t3.960363269\t4.833409401\t2.196306386\t6.150264723\t5.764851492\t8.412997373\t9.909459477\t2.159531011\t7.033075474\t4.242741821\t11.9443227\t0\t17.36137354\t1.572526043\t5.445192495\t5.151034036\t7.746041194\t5.197994171\t2.88509348\t2.911075002\t5.229280369\t18.15051314\t0.3154787035\t0.2804166817\n",
    "g8697.t1\t10.57415923\t24.67048948\t22.04212539\t15.94912484\t0.4251899294\t11.87519048\t5.759046915\t17.37757807\t13.55138953\t53.50214053\t47.06035405\t0\t44.62329659\t10.01316106\t11.26859975\t20.62987044\t6.613540901\t7.880610317\t5.785678036\t19.24939863\t19.47676683\t82.14177938\t2.008831004\t23.46750874\n",
    "population\tOther\tOther\tOther\tOther\tOther\tOther\tlymphoid\tOther\tcytotoxic\thigh HLA-F\thigh HLA-F\tOther\thigh HLA-F\tlymphoid\tOther\tcytotoxic\tOther\tOther\tOther\tcytotoxic\tcytotoxic\tOther\tOther\tOther\"\"\"\n",
    "\n",
    "blood_populations = pd.read_csv(StringIO(s), sep=\"\\t\",index_col=0).T\n",
    "\n",
    "blood_populations.head()"
   ]
  },
  {
   "cell_type": "code",
   "execution_count": 68,
   "id": "6c45bced-0744-4e6b-9e0d-323f4d379033",
   "metadata": {},
   "outputs": [],
   "source": [
    "gene_ids = 'g8697.t1', 'g858.t1'"
   ]
  },
  {
   "cell_type": "code",
   "execution_count": 69,
   "id": "b6d98ba7-55ce-4897-9f17-6a0dff213573",
   "metadata": {},
   "outputs": [],
   "source": [
    "blood_populations['g858.t1'] = blood_populations['g858.t1'].astype(float)\n",
    "blood_populations['g8697.t1'] = blood_populations['g8697.t1'].astype(float)"
   ]
  },
  {
   "cell_type": "code",
   "execution_count": 73,
   "id": "4c8ceb94-406f-4962-8790-51a6940422da",
   "metadata": {},
   "outputs": [
    {
     "name": "stdout",
     "output_type": "stream",
     "text": [
      "\n",
      "--- g8697.t1 ---\n",
      "Other\n",
      "- Ttest_indResult(statistic=-1.2606895685672759, pvalue=0.22292058111523283)\n",
      "lymphoid\n",
      "- Ttest_indResult(statistic=-2.751187891927056, pvalue=0.015543181118027199)\n",
      "cytotoxic\n",
      "- Ttest_indResult(statistic=-0.38481662315615395, pvalue=0.7041078894361675)\n",
      "high HLA-F\n",
      "- Ttest_indResult(statistic=7.172060965044004, pvalue=8.517840602884553e-06)\n",
      "\n",
      "--- g858.t1 ---\n",
      "Other\n",
      "- Ttest_indResult(statistic=-1.161577514497045, pvalue=0.26287659761173415)\n",
      "lymphoid\n",
      "- Ttest_indResult(statistic=-0.011327669375323177, pvalue=0.9926314210389033)\n",
      "cytotoxic\n",
      "- Ttest_indResult(statistic=-0.5915765731845544, pvalue=0.562448523787269)\n",
      "high HLA-F\n",
      "- Ttest_indResult(statistic=1.578459617842166, pvalue=0.24289497357165724)\n"
     ]
    },
    {
     "data": {
      "image/png": "[encoded data removed]",
      "text/plain": [
       "<Figure size 360x360 with 1 Axes>"
      ]
     },
     "metadata": {
      "needs_background": "light"
     },
     "output_type": "display_data"
    },
    {
     "data": {
      "image/png": "[encoded data removed]",
      "text/plain": [
       "<Figure size 360x360 with 1 Axes>"
      ]
     },
     "metadata": {
      "needs_background": "light"
     },
     "output_type": "display_data"
    }
   ],
   "source": [
    "for g in gene_ids:\n",
    "    print(f'\\n--- {g} ---')\n",
    "    sns.catplot(data=blood_populations, x=\"population\", y=g, kind=\"box\")\n",
    "\n",
    "    \n",
    "    for population in blood_populations.population.unique():\n",
    "        print(population)\n",
    "        print(\"-\",\n",
    "            ttest_ind(\n",
    "                blood_populations.query('population == @population')[g],\n",
    "                blood_populations.query('population != @population')[g],\n",
    "                equal_var=False,\n",
    "            )\n",
    "        )"
   ]
  },
  {
   "cell_type": "markdown",
   "id": "2092e989-6e3f-41d5-ae83-4d7dc0f41b49",
   "metadata": {},
   "source": [
    "# 400 sample dataset"
   ]
  },
  {
   "cell_type": "code",
   "execution_count": 40,
   "id": "b3dc8e5c-9f97-49d5-adef-5703133f8b4a",
   "metadata": {},
   "outputs": [
    {
     "data": {
      "text/html": [
       "<div>\n",
       "<style scoped>\n",
       "    .dataframe tbody tr th:only-of-type {\n",
       "        vertical-align: middle;\n",
       "    }\n",
       "\n",
       "    .dataframe tbody tr th {\n",
       "        vertical-align: top;\n",
       "    }\n",
       "\n",
       "    .dataframe thead th {\n",
       "        text-align: right;\n",
       "    }\n",
       "</style>\n",
       "<table border=\"1\" class=\"dataframe\">\n",
       "  <thead>\n",
       "    <tr style=\"text-align: right;\">\n",
       "      <th></th>\n",
       "      <th>g858.t1</th>\n",
       "      <th>g8697.t1</th>\n",
       "      <th>population</th>\n",
       "    </tr>\n",
       "  </thead>\n",
       "  <tbody>\n",
       "    <tr>\n",
       "      <th>2061_L11HMBY15xSC6ab_24_2_zooids</th>\n",
       "      <td>5.562345</td>\n",
       "      <td>8.13279</td>\n",
       "      <td>not endostyle</td>\n",
       "    </tr>\n",
       "    <tr>\n",
       "      <th>2335_5139jL11HMBYSc6ab_15_9_vs_944axBYd196_6_4_101</th>\n",
       "      <td>5.484706</td>\n",
       "      <td>6.863117</td>\n",
       "      <td>not endostyle</td>\n",
       "    </tr>\n",
       "    <tr>\n",
       "      <th>2336_5139jL11HMBYSc6ab_15_9_vs_944axBYd196_6_4_101</th>\n",
       "      <td>2.619235</td>\n",
       "      <td>5.736058</td>\n",
       "      <td>not endostyle</td>\n",
       "    </tr>\n",
       "    <tr>\n",
       "      <th>2341_5139jL11HMBYSc6ab_15_9_vs_944axBYd196_6_4_101</th>\n",
       "      <td>2.658713</td>\n",
       "      <td>7.414705</td>\n",
       "      <td>not endostyle</td>\n",
       "    </tr>\n",
       "    <tr>\n",
       "      <th>2347_5139jL11HMBYSc6ab_15_9_vs_944axBYd196_6_4_101</th>\n",
       "      <td>3.25134</td>\n",
       "      <td>6.929134</td>\n",
       "      <td>not endostyle</td>\n",
       "    </tr>\n",
       "  </tbody>\n",
       "</table>\n",
       "</div>"
      ],
      "text/plain": [
       "                                                     g858.t1  g8697.t1  \\\n",
       "2061_L11HMBY15xSC6ab_24_2_zooids                    5.562345   8.13279   \n",
       "2335_5139jL11HMBYSc6ab_15_9_vs_944axBYd196_6_4_101  5.484706  6.863117   \n",
       "2336_5139jL11HMBYSc6ab_15_9_vs_944axBYd196_6_4_101  2.619235  5.736058   \n",
       "2341_5139jL11HMBYSc6ab_15_9_vs_944axBYd196_6_4_101  2.658713  7.414705   \n",
       "2347_5139jL11HMBYSc6ab_15_9_vs_944axBYd196_6_4_101   3.25134  6.929134   \n",
       "\n",
       "                                                       population  \n",
       "2061_L11HMBY15xSC6ab_24_2_zooids                    not endostyle  \n",
       "2335_5139jL11HMBYSc6ab_15_9_vs_944axBYd196_6_4_101  not endostyle  \n",
       "2336_5139jL11HMBYSc6ab_15_9_vs_944axBYd196_6_4_101  not endostyle  \n",
       "2341_5139jL11HMBYSc6ab_15_9_vs_944axBYd196_6_4_101  not endostyle  \n",
       "2347_5139jL11HMBYSc6ab_15_9_vs_944axBYd196_6_4_101  not endostyle  "
      ]
     },
     "execution_count": 40,
     "metadata": {},
     "output_type": "execute_result"
    }
   ],
   "source": [
    "s = '''\t2061_L11HMBY15xSC6ab_24_2_zooids\t2335_5139jL11HMBYSc6ab_15_9_vs_944axBYd196_6_4_101\t2336_5139jL11HMBYSc6ab_15_9_vs_944axBYd196_6_4_101\t2341_5139jL11HMBYSc6ab_15_9_vs_944axBYd196_6_4_101\t2347_5139jL11HMBYSc6ab_15_9_vs_944axBYd196_6_4_101\t2371_5432b1_test_naive_StageAtoB\t2372_5432b1_zooid_naive_stageAtoB\t2374_5423b1_test_naive_stageC1\t2375_5423b1_zooidsremains_naive_stageC1\t2389_chimera_L11HM9abld196_4_15_93_vs_944axbyd196_6_4_test\t2390_chimera_L11HM9abld196_4_15_93_vs_944axbyd196_6_4_zooid_without_test\t2392_chimera_L11HM9abld196_4_15_93_vs_944axbyd196_6_4_test\t2393_chimera_L11HM9abld196_4_15_93_vs_944axbyd196_6_4_zooid_without_test\t2487_chimera_944axbyd196_vs_sc6ab_zooid_stageBtoC\t2489_chimera_944axbyd196_vs_sc6ab_test_stageBtoC\t2490_chimera_944axbyd196_vs_sc6ab_zooid_stageBtoC\t2491_chimera_944axbyd196_vs_sc6ab_zooid_stageBtoC\t2587_HM9axBYd196_6_4_202_vs_944axBYd196_6_4_103\t2596_HM9axBYd196_6_4_202_vs_944axBYd196_6_4_103\t2619_chimera_5432b_vs_5423b_zooid_StageA2\t2620_chimera_5432b_vs_5423b_test_stageA2\t2625_chimera_5432b_vs_5423b_test_StageA2\t2626_chimera_5432b_vs_5423b_zooid_StageA2\t2627_chimera_5432b_vs_5423b_zooid_StageA2\t2662_HM9axBYd196_6_4_202_vs_944axBYd196_6_4_103\t3018_5139jL11HMBYSc6ab35_15_8_rem_of_zooids_StageA1to2\t3376_Sc109e_6_vs_5491b3\t3378_Sc109e_6_vs_5491b3\t3385_Sc109e_6_vs_5491b3\t3389_Sc109e_6_vs_5491b3\t3395_Sc109e.7_testes_stage-C\t3396_Sc109e.7_zooid_stage-C\t3561_5606b_vs_L11HMBY15xSC6ab_24_6\t3562_5606b_vs_L11HMBY15xSC6ab_24_6\t3852_Sc109e_Primary_secondary_bud_A1_kp\t3852_Sc109e_stageA1_primary_andSecBud\t3864_Sc109e_Primary_secondary_bud_A2_kp\t3868_Sc109e_zooid_buds_intestine_A2_kp\t3872_Sc109e_endostyle_and_CI_stageA2_kp\t3886_Sc109e_Primary_Secondary_bud_D_mid_late_kp\t3887_Sc109e_Sec_Bud_D_mid_late_kp\t3890_Sc109e_old_zooid_D_mid_Late_kp\t3900_Sc109e_Sec_bud_D_early_mid_kp\t3901_Sc109e_Primary_bud_D_early_mid_kp\t3902_Sc109e_olds_zooid_D_early_mid_kp\t3912_Sc109e_primary_and_sec-bud_D_early_mid_kp\t3917_Sc109e_ampullae_tunic_D_early_mid_kp\t3933_944axByd196.6_Blood_microinjector_sample_early_D_DCRS\t3948_944axByd196.6_x_sc109e.92\t3949_944axByd196.6_x_sc109e.92\t3950_944axByd196.6_x_sc109e.92\t3952_944axByd196.6_x_sc109e.92\t3953_944axByd196.6_x_sc109e.92\t3954_944axByd196.6_x_sc109e.92\t3956_944axByd196.6_x_sc109e.92\t3959_944axByd196.6_x_sc109e.92\t3960_944axByd196.6_x_sc109e.92\t3961_944axByd196.6_x_sc109e.92\t3963_944axByd196.6_x_sc109e.92\t3964_944axByd196.6_x_sc109e.92\t3965_944axByd196.6_x_sc109e.92\t3967_944axByd196.6_x_sc109e.92\t3968_944axByd196.6_x_sc109e.92\t3971_944axByd196.6_x_sc109e.92\t3972_944axByd196.6_x_sc109e.92\t3973_944axByd196.6_x_sc109e.92\t4017_944axbyd196_stageC1to2_SecBud\t4033_5869setelmentslide_stageC2_4secondarybuds\t4036_5869settelmentslide_2endostyles_StageC2\t4041_5869settelmentslide_Primaryandsecbud_stageB1\t4078_944aBYd196_6_4_194\t4079_944aBYd196.6_4.194_vs_5974a\t4080_944aBYd196_6_4_194_vs_5974a\t4081_5973a_vs_5976b\t4082_5968r_2a_vs_5974a\t4083_5968_2a_vs_5974a\t4085_5875a_vs_5876a\tA1L34-Sample_5139jLllHMBYSc6a-b35-15_ampullae_IL2382-12\tA1L34-Sample_5139jLllHMBYSc6a-b35-15_endostyle_IL2383-14\tA1L34-Sample_LllHMBY15xSc6a-b-24_endostyle_IL2384-16\tA1L34-Sample_sc109e_bud_stage_a_IL2381-10\tA1L34-Sample_sc6a-b_system_IL2379-5\tA1M1B-Sample_5139jLllHMBYSc6a-b35-15_endostyle_IL2383-14\tA1M1B-Sample_LllHMBY15xSc6a-b-24_endostyle_IL2384-16\tA1M1B-Sample_sc109e_bud_stage_a_IL2381-10\tBloodCells_BP12_BLD12_CellPopulation12_CD57positive_Pool_5colonies_Age4_9_13Years_Stages_AtoD_FACS_sorted_072414_BR__N383Barcode_P88_H4_S85_R1_001\tBloodCells_BP16_BLD16_CellPopulation16_4_BHFpositiveCD57negative_Pool_5colonies_4_9_13Yearold_Stages_AtoD_Sorted_072414_BR__N383Barcode_P89_H5_S86_R1_001\tBloodCells_BP19_BLD19_CellPopulation19_4_BHFnegative_Pool_Age6MonthOld_GeneralStock_FACS_sorted_010615_BR__N383Barcode_P73_G1_S71_R1_001\tBloodCells_BP31_BLD31_CellPopulation31_BHFnegative_Pool_5colonies_4_9_13Yearold_Stages_AtoD_FACS_sorted_072414_BR__N383Barcode_P74_G2_S72_R1_001\tBloodCells_BP32_BLD32_CellPopulation32_NotBHFnegativeAPpositive_Pool_5colonies_4_9_13Yearold_Stages_AtoD_sorted_072414_BR__N383Barcode_P75_G3_S73_R1_001\tBloodCells_BP33_BLD33_CellPopulation33_BHFpositiveCD57positive_Pool_5colonies_Age4_9_13Years_Stages_AtoD_FACS_sorted_072414_BR__N383Barcode_P76_G4_S74_R1_001\tBloodCells_BP34_BLD34_CellPopulation34_BHFnegativeCD57negative_Pool_5colonies_4_9_13Yearold_Stages_AtoD_sorted_072414_BR__N383Barcode_P77_G5_S75_R1_001\tBloodCells_BP3_BLD3_CellPopulation3_SmallCells_Pool_5colonies_Age4_9_13Years_Stages_AtoD_FACS_sorted_072414_BR__N383Barcode_P70_F10_S68_R1_001\tBloodCells_BP5_BLD5_CellPopulation5__BHFnegativeAPpositive_Pool_5colonies_Age4_9_13Years_Stages_AtoD_FACS_sorted_072414_BR__N383Barcode_P71_F11_S69_R1_001\tBloodCells_BP8_BLD8_CellPopulation8_Pigment_Pool_5colonies_Age4_9_13Years_Stages_AtoD__FACS_sorted_072414_BR__N383Barcode_P72_F12_S70_R1_001\tCellPopulation12_mix5oldcolonies_13_9_4yearold_Stages_AtoD_Sorted072414\tCellPopulation14_mix5oldcolonies_13_9_4yearold_Stages_AtoD_Sorted072414\tCellPopulation15_mix5oldcolonies_13_9_4yearold_Stages_AtoD_Sorted072414\tCellPopulation16_2_mix5oldcolonies_13_9_4yearold_Stages_AtoD_Sorted072414\tCellPopulation19_4_mix6month_oldcolonies_generalstock_Sorted010615\tCellPopulation20_mix5oldcolonies_13_9_4yearold_Stages_AtoD_Sorted072414\tCellPopulation21_4_mix6month_oldcolonies_generalstock_Sorted010615\tCellPopulation22_4_mix6month_oldcolonies_generalstock_Sorted010615\tCellPopulation23_2_mix5oldcolonies_13_9_4yearold_Stages_AtoD_Sorted072414\tCellPopulation24_mix5oldcolonies_13_9_4yearold_Stages_AtoD_Sorted072414\tCellPopulation25_mix5oldcolonies_13_9_4yearold_Stages_AtoD_Sorted072414\tCellPopulation26_mix5oldcolonies_13_9_4yearold_Stages_AtoD_Sorted072414\tCellPopulation29_mix5oldcolonies_13_9_4yearold_Stages_AtoD_Sorted072414\tCellPopulation2_Livecell_mix5oldcolonies_13_9_4yearold_Stages_AtoD_Sorted072414\tCellPopulation30_mix5oldcolonies_13_9_4yearold_Stages_AtoD_Sorted072414\tCellPopulation31_mix5oldcolonies_13_9_4yearold_Stages_AtoD_Sorted072414\tCellPopulation32_mix5oldcolonies_13_9_4yearold_Stages_AtoD_Sorted072414\tCellPopulation33_mix5oldcolonies_13_9_4yearold_Stages_AtoD_Sorted072414\tCellPopulation34_mix5oldcolonies_13_9_4yearold_Stages_AtoD_Sorted072414\tCellPopulation35_mix5oldcolonies_13_9_4yearold_Stages_AtoD_Sorted072414\tCellPopulation36_2_mix5oldcolonies_13_9_4yearold_Stages_AtoD_Sorted072414\tCellPopulation3_mix5oldcolonies_13_9_4yearold_Stages_AtoD_Sorted072414\tCellPopulation5_mix5oldcolonies_13_9_4yearold_Stages_AtoD_Sorted072414\tCellPopulation8_mix5oldcolonies_13_9_4yearold_Stages_AtoD_Sorted072414\tClock_CL100_6218b_FreeRun_age43days_9AM_naive_system__N383Barcode_P14_B2_S13_R1_001\tClock_CL102_6172k_FreeRun_age36days_9AM_naive_system__N383Barcode_P15_B3_S14_R1_001\tClock_CL104_5139jL11HMBYSc6a_b35_15_FreeRun_stage_A_age2142days_3PM_chimera_system__N383Barcode_P16_B4_S15_R1_001\tClock_CL106_5139jL11HMBYSc6a_b35_15_FreeRun_stage_A_age2142days_3PM_chimera_system__N383Barcode_P17_B5_S16_R1_001\tClock_CL108_5139jL11HMBYSc6a_b35_15_FreeRun_stage_A_age2142days_6PM_chimera_system__N383Barcode_P18_B6_S17_R1_001\tClock_CL110_5139jL11HMBYSc6a_b35_15_FreeRun_stage_A_age2142days_6PM_chimera_system__N383Barcode_P19_B7_S18_R1_001\tClock_CL113_5139jL11HMBYSc6a_b35_15_FreeRun_stage_A_age2142days_9PM_chimera_system__N383Barcode_P20_B8_S19_R1_001\tClock_CL114_5139jL11HMBYSc6a_b35_15_FreeRun_stage_A_age2143days_Midnight_chimera_system__N383Barcode_P21_B9_S20_R1_001\tClock_CL116_L11HMBY15xSc6a_b_40_FreeRun_stage_A_age2146days_Midnight_naive_system__N383Barcode_P22_B10_S21_R1_001\tClock_CL118_5139jL11HMBYSc6a_b35_15_FreeRun_stage_A_age2143days_3AM_chimera_system__N383Barcode_P23_B11_S22_R1_001\tClock_CL119_L11HMBY15xSc6a_b_40_FreeRun_age2146days_3AM_naive_system__N383Barcode_P24_B12_S23_R1_001\tClock_CL121_L11HMBY15xSc6a_b_40_FreeRun_age2146days_6AM_naive_system__N383Barcode_P25_C1_S24_R1_001\tClock_CL122_5139jL11HMBYSc6a_b35_15_FreeRun_stage_A_age2143days_6AM_chimera_system__N383Barcode_P26_C2_S25_R1_001\tClock_CL124_5139jL11HMBYSc6a_b35_15_FreeRun_age2143days_9AM_chimera_system__N383Barcode_P27_C3_S26_R1_001\tClock_CL128_5139jL11HMBYSc6a_b35_15_FreeRun_age2143days_Noon_chimera_system__N383Barcode_P29_C5_S28_R1_001\tClock_CL130_L11HMBY15xSc6a_b_40_FreeRun_stage_A_age2146days_Noon_naive_system__N383Barcode_P30_C6_S29_R1_001\tClock_CL132_L11HMBY15xSc6a_b_40_FreeRun_stage_A_age2146days_3PM_naive_system__N383Barcode_P31_C7_S30_R1_001\tClock_CL133_L11HMBY15xSc6a_b_40_FreeRun_stage_A_age2146days_3PM_naive_system__N383Barcode_P32_C8_S31_R1_001\tClock_CL134_L11HMBY15xSc6a_b_40_FreeRun_stage_A_age2146days_6PM_naive_system__N383Barcode_P33_C9_S32_R1_001\tClock_CL135_L11HMBY15xSc6a_b_40_FreeRun_stage_A_age2146days_6PM_naive_system__N383Barcode_P34_C10_S33_R1_001\tClock_CL140_Duplicate_6515d_FreeRun_24hours_DD_StageA_age118days_3PM_naive_HalfSystem_110817Experiment_111217_sampled\tClock_CL141_6515d_FreeRun_24hours_DD_StageA_age118days_3PM_naive_HalfSystem_110817Experiment_111217_sampled\tClock_CL142_944axBYd196_6_4_266_5_FreeRun_24hours_DD_StageA_age5869days_3PM_naive_WholeSystem_110817Experiment_111217_sampled\tClock_CL143_944axBYd196_6_4_266_5_FreeRun_24hours_DD_StageA_age5869days_3PM_naive_WholeSystem_110817Experiment_111217_sampled\tClock_CL144_6515g_FreeRun_24hours_DD_StageDtoA_age118days_6PM_naive_HalfSystem_110817Experiment_111217_sampled\tClock_CL145_6515g_FreeRun_24hours_DD_StageA_age118days_6PM_naive_HalfSystem_110817Experiment_111217_sampled\tClock_CL147_944axBYd196_6_4_266_6_FreeRun_24hours_DD_StageA_age5869days_6PM_naive_HalfSystem_110817Experiment_111217_sampled\tClock_CL148_944axBYd196_6_4_266_1_FreeRun_24hours_DD_StageA_age5869days_9PM_naive_HalfSystem_110817Experiment_111217_sampled\tClock_CL150_6530b_FreeRun_24hours_DD_StageA_age108days_9PM_naive_HalfSystem_110817Experiment_111217_sampled\tClock_CL151_6530b_FreeRun_24hours_DD_StageA_age108days_9PM_naive_HalfSystem_110817Experiment_111217_sampled\tClock_CL152_944axBYd196_6_4_266_4_Duplicate_FreeRun_24hours_DD_StageA_age5870days_Midnight_naive_WholeSystem_110817Experiment_111317_sampled\tClock_CL152_944axBYd196_6_4_266_4_FreeRun_24hours_DD_StageA_age5870days_Midnight_naive_WholeSystem_110817Experiment_111317_sampled\tClock_CL153_944axBYd196_6_4_266_4_FreeRun_24hours_DD_StageA_age5870days_Midnight_naive_WholeSystem_110817Experiment_111317_sampled\tClock_CL154_6530d_FreeRun_24hours_DD_StageA_age109days_Midnight_naive_WholeSystem_110817Experiment_111317_sampled\tClock_CL154_6530d_FreeRun_24hours_DD_StageA_age81days_Midnight_naive_110817Experiment_111317sampled\tClock_CL155_6530d_FreeRun_24hours_DD_StageA_age81days_Midnight_naive_110817Experiment_111317sampled\tClock_CL156_944axBYd196_6_4_266_2_FreeRun_24hours_DD_StageA_age5870days_3AM_naive_HalfSystem_110817Experiment_111317_sampled\tClock_CL157_944axBYd196_6_4_266_2_FreeRun_24hours_DD_StageA_age5870days_3AM_naive_HalfSystem_110817Experiment_111317_sampled\tClock_CL158_6542SingleProgeny_FreeRun_24hours_DD_StageA_age103days_3AM_naive_HalfSystem_110817Experiment_111317_sampled\tClock_CL159_6542SingleProgeny_FreeRun_24hours_DD_StageA_age103days_3AM_naive_HalfSystem_110817Experiment_111317_sampled\tClock_CL161_944axBYd196_6_4_266_3_FreeRun_24hours_DD_StageA_AB_age5870days_6AM_naive_WholeSystem_110817Experiment_111317_sampled\tClock_CL162_6515b_FreeRun_24hours_DD_StageEarlyA_age115days_6AM_naive_HalfSystem_110817Experiment_111317_sampled\tClock_CL163_6515b_FreeRun_24hours_DD_StageEarlyA_age115days_6AM_naive_HalfSystem_110817Experiment_111317_sampled\tClock_CL164_944axBYd196_6_4_266_6_FreeRun_24hours_DD_StageA_age5870days_9AM_naive_HalfSystem_110817Experiment_111317_sampled\tClock_CL165_944axBYd196_6_4_266_6_FreeRun_24hours_DD_StageA_age5870days_9AM_naive_HalfSystem_110817Experiment_111317_sampled\tClock_CL166_6515e_FreeRun_24hours_DD_StageDtoA_age119days_9AM_naive_HalfSystem_110817Experiment_111317_sampled\tClock_CL167_6515e_FreeRun_24hours_DD_StageDtoA_age119days_9AM_naive_HalfSystem_110817Experiment_111317_sampled\tClock_CL168_944axBYd196_6_4_266_1_FreeRun_24hours_DD_StageA_age5870days_Noon_naive_HalfSystem_110817Experiment_111317_sampled\tClock_CL169_944axBYd196_6_4_266_1_FreeRun_24hours_DD_StageA_age5870days_Noon_naive_HalfSystem_110817Experiment_111317_sampled\tClock_CL170_Duplicate_944axBYd196_6_4_266_4_FreeRun_24hours_DD_StageA_age5870days_3PM_naive_HalfSystem_110817Experiment_111317_sampled\tClock_CL171_944axBYd196_6_4_266_4_Duplicate_FreeRun_24hours_DD_StageA_age5870days_3PM_naive_HalfSystem_110817Experiment_111317_sampled\tClock_CL173_944axBYd196_6_4_266_6_FreeRun_24hours_DD_StageA_age5870days_6PM_naive_Half_WholeSystem_110817Experiment_111317_sampled\tClock_CL174_944axBYd196_6_4_266_1_FreeRun_24hours_DD_StageA_age5870days_9PM_naive_110817Experiment_111317_sampled\tClock_CL176_6515g_FreeRun_24hours_DD_StageA_age119days_9PM_naive_HalfSystem_110817Experiment_111317_sampled\tClock_CL178_944axBYd196_6_4_266_4_FreeRun_24hours_DD_StageA_age5871days_Midnight_naive_HalfSystem_110817Experiment_111417_sampled\tClock_CL179_944axBYd196_6_4_266_4_FreeRun_24hours_DD_StageA_age5871days_Midnight_naive_HalfSystem_110817Experiment_111417_sampled\tClock_CL182_944axBYd196_6_4_269_11_FreeRun_24hours_DD_AfterLightPulse_StageA_age5871days_Midnight30MinutePulse_naive_HalfSystem_110817Experiment_111417_sampled\tClock_CL183_944axBYd196_6_4_269_11_FreeRun_24hours_DD_AfterLightPulse_StageA_age5871days_Midnight30MinutePulse_naive_HalfSystem_110817Experiment_111417_sampled\tClock_CL184_944axBYd196_6_4_252_13_Duplicate_FreeRun_24hours_DD_StageA_age5871days_3AM_naive_110817Experiment_111417_sampled\tClock_CL184_944axBYd196_6_4_252_13_Duplicate_FreeRun_24hours_DD_StageA_age5871days_3AM_naive_HalfSystem_110817Experiment_111417_sampled\tClock_CL187_944axBYd196_6_4_252_14_FreeRun_24hours_DD_StageA_age5871days_6AM_naive_WholeSystem_110817Experiment_111417_sampled\tClock_CL188_6515b_FreeRun_24hours_DD_StageA_age116days_6AM_naive_HalfSystem_110817Experiment_111417_sampled\tClock_CL189_6515b_FreeRun_24hours_DD_StageA_age116days_6AM_naive_HalfSystem_110817Experiment_111417_sampled\tClock_CL190_944axBYd196_6_4_252_16_FreeRun_24hours_DD_StageA_age5871days_9AM_naive_HalfSystem_110817Experiment_111417_sampled\tClock_CL191_944axBYd196_6_4_252_16_FreeRun_24hours_DD_StageA_age5871days_9AM_naive_HalfSystem_110817Experiment_111417_sampled\tClock_CL192_944axBYd196_6_4_252_15_FreeRun_24hours_DD_stageA_age5871days_Noon_naive_WholeSystem_110817Experiment_111417_sampled\tClock_CL193_944axBYd196_6_4_252_15_FreeRun_24hours_DD_stageA_age5871days_Noon_naive_WholeSystem_110817Experiment_111417_sampled\tClock_CL194_6530c_FreeRun_24hours_DD_StageAtoB_age110days_Noon_naive_HalfSystem_110817Experiment_111417_sampled\tClock_CL195_6530c_FreeRun_24hours_DD_stageAtoB_age110days_Noon_naive_5zooids__110817Experiment_111417_sampled\tClock_CL196_944axBYd196_6_4_252_13_FreeRun_24hours_DD_stageA_age5871days_3pm_naive_HalfSystem_110817Experiment_111417_sampled\tClock_CL197_944axByd196_6_4_252_13_FreeRun_24hours_DD_StageA_age_5871days_3pm_naive_HalfSystem_110817Experimant_111417sampled\tClock_CL198_6491a_FreeRun_24hours_DD_StageLateD_age142days_3PM_naive_110817Experimant_111417sampled\tClock_CL50_6171d_FreeRun_stage_A_age52days_9PM_naive_system__N383Barcode_P1_A1_S1_R1_001\tClock_CL52_6171i_FreeRun_stage_A_age52days_9PM_naive_system__N383Barcode_P2_A2_S2_R1_001\tClock_CL71_6215b_FreeRun_stage_A_age67days_Noon_naive_system__N383Barcode_P3_A3_S3_R1_001\tClock_CL73_6217j_FreeRun_stage_A_age67days_Noon_naive_system__N383Barcode_P4_A4_S4_R1_001\tClock_CL76_6215d_FreeRun_stage_A_age68days_3PM_naive_system__N383Barcode_P5_A5_S5_R1_001\tClock_CL78_6215f_FreeRun_stage_A_age68days_3PM_naive_system__N383Barcode_P6_A6_S6_R1_001\tClock_CL90_6218d_FreeRun_stage_A_age42days_6PM_naive_system__N383Barcode_P7_A7_S7_R1_001\tClock_CL91_6218d_FreeRun_stage_A_age42days_6PM_naive_system__N383Barcode_P8_A8_S8_R1_001\tClock_CL93_6172a_FreeRun_stage_A_age36days_Midnight_naive_system__N383Barcode_P9_A9_S9_R1_001\tClock_CL94_6172b_FreeRun_stage_A_age36days_Midnight_naive_system__N383Barcode_P10_A10_S10_R1_001\tClock_CL97_6172g_FreeRun_stage_A_age36days_3AM_naive_system__N383Barcode_P12_A12_S11_R1_001\tClock_CL98_6172h_FreeRun_stage_A_age36days_6AM_naive_system__N383Barcode_P13_B1_S12_R1_001\tClock_Cl126_L11HMBY15xSc6a_b_40_FreeRun_2146days_9AM_stgD_A1__N383Barcode_P28_C4_S27_R1_001\tFACS_sorted_cell_population_sony_facs_from_testes\tHISeq-Sample_-5139jLllHMBYSc6a-b35--15_ampullae_IL2382-12\tHISeq-Sample_-5139jLllHMBYSc6a-b35--15_endostyle_IL2383-14\tHISeq-Sample_216-Sc32e\tHISeq-Sample_248-2362c\tHISeq-Sample_3411_IL2574-4\tHISeq-Sample_3417_IL2575-5\tHISeq-Sample_3424_IL2576-6\tHISeq-Sample_3434_IL2577-7\tHISeq-Sample_3435_IL2578-12\tHISeq-Sample_745u-n_Ax\tHISeq-Sample_944axbyd196-1\tHISeq-Sample_944axbyd196-10\tHISeq-Sample_944axbyd196-12\tHISeq-Sample_944axbyd196-21C\tHISeq-Sample_944axbyd196-21E\tHISeq-Sample_944axbyd196-22C\tHISeq-Sample_944axbyd196-22E\tHISeq-Sample_944axbyd196-3\tHISeq-Sample_944axbyd196-4\tHISeq-Sample_944axbyd196-6\tHISeq-Sample_944axbyd196-7\tHISeq-Sample_944axbyd196-8\tHISeq-Sample_944axbyd196-9\tHISeq-Sample_99-Hm9ayw1225c\tHISeq-Sample_AA-yw1023-96\tHISeq-Sample_AA-yw1258-21\tHISeq-Sample_AA-yw_By_3-29\tHISeq-Sample_ByByd129_A\tHISeq-Sample_ByByw557_BB\tHISeq-Sample_Yw764_AA\tHISeq-Sample_bb\tHISeq-Sample_bot_cDNA_15\tHISeq-Sample_bot_cDNA_31\tHISeq-Sample_bot_cDNA_4\tHISeq-Sample_bot_cDNA_P\tHISeq-Sample_bot_cDNA_X\tHISeq-Sample_bot_cDNA_Y\tHISeq-Sample_sc109e_bud_stage_a_IL2381-10\tHm9axByd196.6_4_219\tIL5692_Clock16_16h_cycle_5873e_stage_a2_sample_2h_into_dark\tIL5693_Clock15_16h_cycle_5880a_stage_a2__sample_2h_into_dark\tIL5694_Bld10_FACS_sorted_BR\tIL5695_Bld7_Facs_sorted_BR\tIL5696_Clock28_16h_cycle_5872d_stage_a1_sample_7h_into_light\tIL5697_Clock27_16h_cycle_5872g_stage_a_sample_7h_into_light\tIL5698_Clock24_16h_cycle_5879J_stage_a1_sample_3h_into_light\tIL5699_Clock23_16h_cycle_5873r_stage_a1_sample_3h_into_light\tIL5700_LateWrp_sampled081914\tIL5701_midwrp_sampled081914\tIL5702_Early_wrp_sampled082114\tIL5703_Tailbd_sampled091014\tIL5704_Gastrula_sampled081914\tIL5705_Blastula_sampled081914\tIL5706_Clock31_24h_cycle_5873k_stage_a1_sampleat_6pm_light\tIL5707_Clock19_16h_cycle_5873s_stage_a1_sample6h_into_dark\tIL5708_Clock20_16h_cycle_5873i_stage_a1_sample_6h_into_dark\tIL5709_Clock32_24h_cycle_5873n_stage_a1_sample_6pm_light\tIL5710_Clock44_24h_cycle_5880f_stage_a2_sample_6am_dark\tIL5711_Clock42_24h_cycle_5879a_stage_a2_sample_6am_dark\tIL5712_Clock40_24h_cycle_5872e__stage_a2_sample_12pm_light\tIL5713_Clock39_24h_cycle_5875b__stage_a2_sample_12pm_light\tIL5714_Clock36_24h_cycle_5873c__stage_a1_sample_12am_dark\tIL5715_Clock35__24h_cycle_5873g__stage_a1_sample_12am_dark\tSampleE55_2cellembryos_9each_fromMontereyMarina_collected82616__N383Barcode_P63_F3_S61_R1_001\tSample_2814_944xsc109eCCA_944nontouchinghalf_IL4603-1\tSample_2815_944xsc109eCCA_944touchinghalf_IL4604-2\tSample_2816_sc109ex944CCA_sc109etouchinghalf_IL4605-3\tSample_2817_sc109ex944CCA_sc109enontouchinghalf_IL4606-4\tSample_2818_944axByd196_6_4_145_naive_IL4607-5\tSample_2820_944x5139jCCA_944nontouchibghalf_IL4608-6\tSample_2821_944x5139jCCA_944touchinghalf_IL4609-7\tSample_2822_5139jx944CCA_5139jtouchinghalf_IL4610-8\tSample_2823_5139jx944CCA_5139jnontouchinghalf_IL4611-9\tSample_2824_5139jxsc109eCCA_5139jnontouchinghalf_IL4612-10\tSample_2825_5139jxsc109eCCA_5139jtouchinghalf_IL4613-11\tSample_2826_sc109ex5139jCCA_sc109etouchinghalf_IL4614-12\tSample_2827_sc109ex5139jCCA_sc109enontouchinghalf_IL4615-1\tSample_2828_5139jL11HMBySc6ab35_15_3_naive_IL4616-2\tSample_2829_sc109enaive_IL4617-3\tSample_4111_2_6089_e_primary_bud_1PrimaryBud_stageA2_naive_young_2weeks\tSample_4111_4_6089_e_primary_bud_1PrimaryBud_stageA2_naive_young_2weeks\tSample_4117_endostyle_6endostyles_stageA_A1A2_young_40days_Pool\tSample_4121_endostyle_6endostyles_stageA_A1A2_young_41days_Pool\tSample_4129_944axBYd196_6_4_227_primary_secondary_bud_7primaryAndsecondaryBud_stageB_old_14years_naive\tSample_4137_944axBYd196_6_4_231_endostyle_6endostyles_stageC_C1C2_old_14years_naive\tSample_4140_2_944axBYd196_6_4_231_endostyle_5endostyles_stageC_C1C2_old_14years_naive\tSample_4144_944axBYd196_6_4_231_secondary_bud_5secondaryBud_stageD_midLate_old_14years_naive\tSample_4145_944axBYd196_6_4_231_primary_bud_5primaryBud_stageD_midLate_old_14years_naive\tSample_4171_6208b_2_primary_secondary_bud_stageB_B1B2_approx5months_naive\tSample_4178_6176_a_primary_secondary_bud_stage_B1_approx6months_naive\tSample_4184_6208t_primary_bud_stageC2_possibleTestesInBuds_approx6months_naive\tSample_4190_6150b_primary_bud_primaryBud_stageD_early_gonads_naive_approx6months\tSample_4193_6106b_primary_bud_2primaryBud_stageC_C1C2_gonads_naive_approx6months\tSample_4218_6331_2_1_Settlement_Slide_nervous_tissue_8_nervous_tissue_stage_A1_naive_110816_sampled__N383Barcode_P35_C11_S34_R1_001\tSample_4234_6328_2_Settlement_Slide_testes_whole_4_testes_stage_B1_naive_111616_sampled__N383Barcode_P36_C12_S35_R1_001\tSample_4341_6296a_nervous_tissue_8_nervous_tissue_stage_A1_A2\tSample_4346_6296a_testes_whole__4_testes_whole_stage_A1_A2_naive_112216_sampled__N383Barcode_P38_D2_S37_R1_001\tSample_4346_6296a_testes_whole__4_testes_whole_stage_A1_A2_naive_112216_sampled__N383Barcode_P79_G7_S77_R1_001\tSample_4355_6348_Settlement_Slide_secondary_bud_4_secondary_bud_stage_C1_C2_naive_121016_sampled__N383Barcode_P39_D3_S38_R1_001\tSample_4355_6348_Settlement_Slide_secondary_bud_4_secondary_bud_stage_C1_C2_naive_121016_sampled__N383Barcode_P80_G8_S78_R1_001\tSample_6127_L11HMBY15xSc6a_b_31_6_endostyle_2Endostyle_stageB1_old_6years_naive_120115_sampled__N383Barcode_P40_D4_S39_R1_001\tSample_6131_L11HMBY15xSc6a_b_31_6_endostyle_1andHalfEndostyle_stageB1_old_6years_naive_120115_sampled__N383Barcode_P41_D5_S40_R1_001\tSample_6138_6144Settlement_1colony_endostyle_OneAndHalfEndostyles_stageA_A1A2_approx2months_Naive_120315_sampled__N383Barcode_P42_D6_S41_R1_001\tSample_6138_assortedYoung_3colonies_endostyle_8endostyles_stageA_A1A2_approx2months_Pool\tSample_E12_MontereyWildColony_2_cell_embryos_6_2_cell_pool_060315_sampled__N383Barcode_P43_D7_S42_R1_001\tSample_E12_MontereyWildColony_2_cell_embryos_6_2_cell_pool_060315_sampled__N383Barcode_P81_G9_S79_R1_001\tSample_E15_MontereyWildColony_blastula_embryos_22_blastula_pool_06301_sampled__N383Barcode_P44_D8_S43_R1_001\tSample_E15_MontereyWildColony_blastula_embryos_22_blastula_pool_06301_sampled__N383Barcode_P85_H1_S82_R1_001\tSample_E21_MontereyWildColony_wrap_early_very_embryos_110_wrap_early_very_pool_083015_sampled__N383Barcode_P45_D9_S44_R1_001\tSample_E21_MontereyWildColony_wrap_early_very_embryos_110_wrap_early_very_pool_083015_sampled__N383Barcode_P82_G10_S80_R1_001\tSample_E21_MontereyWildColony_wrap_early_very_embryos_110_wrap_early_very_pool_083015_sampled__N383Barcode_P86_H2_S83_R1_001\tSample_E27_MontereyWildColony_4_cell_embryos_8_4cell_pool_UnknownSampleDate__N383Barcode_P46_D10_S45_R1_001\tSample_E27_MontereyWildColony_4_cell_embryos_8_4cell_pool_UnknownSampleDate__N383Barcode_P87_H3_S84_R1_001\tSample_E30_MontereyWildColony_wrap_late_embryos_30_wrap_late_pool_080316_sampled__N383Barcode_P47_D11_S46_R1_001\tSample_E31_MontereyWildColony_wrap_mid_embryos_25_wrap_mid_pool_080316_sampled__N383Barcode_P48_D12_S47_R1_001\tSample_E33_MontereyWildColony_pear_embryos_11_pear_pool_080316_sampled__N383Barcode_P49_E1_S48_R1_001\tSample_E35_MontereyWildColony_gastrula_embryos_21_gastrula_pool_080416_sampled__N383Barcode_P51_E3_S49_R1_001\tSample_E35_MontereyWildColony_gastrula_embryos_21_gastrula_pool_080416_sampled__N383Barcode_P83_G11_S81_R1_001\tSample_E36_MontereyWildColony_gastrula_embryos_24_gastrula_pool_080416_sampled__N383Barcode_P52_E4_S50_R1_001\tSample_E37_MontereyWildColony_tailbud_embryos_35_tailbud_pool_080416_sampled__N383Barcode_P53_E5_S51_R1_001\tSample_E39_wrap_late_embryos_NumberUnknown_wrap_late_pool_LightPink_eyespot_pool_080416_sampled__N383Barcode_P54_E6_S52_R1_001\tSample_E40_MontereyWildColony_wrap_early_mid_embryos_UnknownNumber_wrap_early_mid_pool_080416_sampled__N383Barcode_P55_E7_S53_R1_001\tSample_E41_MontereyWildColony_blastula_embryos_25_blastula_pool_080416_sampled__N383Barcode_P56_E8_S54_R1_001\tSample_E44_MontereyWildColony_wrap_early_embryos_20_wrap_early_pool_082316_sampled__N383Barcode_P57_E9_S55_R1_001\tSample_E45_MontereyWildColony_morula_pre_embryos_25_morula_pre_pool_082316_sampled__N383Barcode_P58_E10_S56_R1_001\tSample_E46_MontereyWildColony_tadpole_half_tail_embryos_2_tadpole_half_tail_082316_sampled__N383Barcode_P59_E11_S57_R1_001\tSample_E49_MontereyWildColony_tadpole_touchdown_embryos_3_tadpole_touchdown_pool_082316_sampled__N383Barcode_P60_E12_S58_R1_001\tSample_E50_MontereyWildColony_tadpole_motile_embryos_7_tadpole_pool_082316_sampled__N383Barcode_P69_F9_S67_R1_001\tSample_E52_MontereyWildColony_oozooid__tiny_tail_remnant_embryos_unknown_number_oozooid_tail_remnant_pool_082316_sampled__N383Barcode_P62_F2_S60_R1_001\tSample_E56_MontereyWildColony_4_cell_embryos_22_4_cell_just_fertilized_pool_082516_sampled__N383Barcode_P64_F4_S62_R1_001\tSample_E61_MontereyWildColony_tadpole_touchdown_whole_tail_embryos_6_tadpole_touchdown_pool_082516_sampled__N383Barcode_P65_F5_S63_R1_001\tSample_E63_MontereyWildColony_oozooid__tiny_tail_remnant_embryos_8_oozooid_tail_remnant_pool_082516_sampled__N383Barcode_P66_F6_S64_R1_001\tSample_E64_MontereyWildColony_oozooid__no_tail_settled_eyespot_embryos_10_oozooid_no_tail_pool_082516_sampled__N383Barcode_P67_F7_S65_R1_001\tSample_E65_MontereyWildColony_tadpole_swimming_embryos_6_tadpole_pool_082516_sampled__N383Barcode_P68_F8_S66_R1_001\tSample_E68_MontereyWildColony_neurula_embryos_14_neurula_pool_101316_sampled__N383Barcode_P61_F1_S59_R1_001\tSample_P111R_P11_1R_241_system_2systems_stageC_marina_AlphaAlpha\tSample_Yw1225_1_system_3systems_stage_A_AlphaAlpha\tSample_Yw764_134_system_AlphaAlpha\tSample_YwBY10_89_system_1to2systems_stageA_AlphaAlpha\tSample_clock10_5724c_DD_LP_stage_c1_IL4677-10\tSample_clock11_5716i_DD_LP_stage_a1_IL4678-11\tSample_clock12_5738b_DD_LP_stage_d_end_IL4679-12\tSample_clock13_5737e_DD_LP_stage_d_IL4680-1\tSample_clock1_5741a_DD_stage_c1_IL4668-1\tSample_clock2_5728c_DD_stage_a2_IL4669-2\tSample_clock3_5709j_DD_stage_a2_IL4670-3\tSample_clock4_5709f_DD_stage_a2_IL4671-4\tSample_clock5_5739d_DD_stage_c1_IL4672-5\tSample_clock6_5737c_DD_stage_dend_IL4673-6\tSample_clock7_5715a_DD_LP_stage_c2_IL4674-7\tSample_clock8_5727c_DD_LP_stage_b1_IL4675-8\tSample_clock9_5703_DD_LP_stage_a1_IL4676-9\tSample_e13_oozooid_25stumpTailOozooid_TailAlmostResorbed_LessThan24hrPostHatching\tSample_e14_morula_24morula_pool\tSample_e20_1_8cell_stage_4EightCellStage\tSample_e22_tailbud_42tailbud_OR_comma\tSample_e25_neurula_32neurula_pool\tSample_e26_1_2cell_stage_18TwoCellStage\tSample_e29_1_4cell_stage_8FourCellStage\tSample_e4092_oozooid_9mushroomOozooid_TailResorbing_50percent\tSample_e4101_tadpole_6tadpole_TouchDown_50to75percentTailRemaining\tSample_e9_tadpole_25tadpole_swimming\tSorted_pop2_from_testes-germ_line_stem_cells\tTissue_sample_4358_brainarea_6436b_stageA1_age97days_posschimera\tTissue_sample_4365_Duplicate_brainarea_6398a_StageB_age135days_posschimeraUnknown\tTissue_sample_4365_brainarea_6398a_StageB_age135days_posschimera\tTissue_sample_4407_Duplicate_brainarea_6436a_stageC2_age106days_posschimera\tTissue_sample_4414_brainarea_6400a_stageC2toD_age139days\tTissue_sample_4422_TunicAmpullae_6401progeny_6436a_6436c_6398a_6400c_StageA_age108to140days_Pool_5colonies\tTissue_sample_4437_Duplicate_brainarea_944axBYd196_4_162_stageA1_age5804days_naive\tTissue_sample_4452_Duplicate_atrialsiphon_6296a_stageA2_451days_naive\tTissue_sample_4478_Duplicate_brainarea_Sc109e_114_StageC1_age2563days_naive\tTissue_sample_4497_atrialsiphon_6208s_1_stageA2toB_age672days_naive\tTissue_sample_4510_Duplicate_brainarea_Sc109e_114_StageA1_age2687days_naive\tTissue_sample_4520_brachialsac_6641e_stageA1to2_age115days_naive\tTissue_sample_4521_Duplicate_intestine_6641e_StageA1to2_age115days_naive\tTissue_sample_4521_Duplicate_intestine_6641e__StageA1to2_age115days_naive\tTissue_sample_4531_Duplicate_cellislands_6641e_StageA1to2_age115days_naive\tTissue_sample_4535_Duplicate_brachialsac_6207b_8__stageA1_age835days_naive\tTissue_sample_4535_Duplicate_brachialsac_6207b_8_stageA1_age835days_naive\tTissue_sample_4536_Duplicate_intestine_6207b_8_StageA1_age835days_naive\tTissue_sample_4536_Duplicate_intestine_6207b_8_stageA1_age835days_naive\n",
    "g858.t1\t5.562344678\t5.484705613\t2.619235137\t2.658713388\t3.251340135\t3.34667435\t2.056485764\t4.860105748\t3.025824867\t3.99215137\t2.711573444\t2.565057156\t3.938926984\t4.491596509\t3.526772285\t4.616734839\t3.796899812\t2.431137718\t0\t3.399302249\t4.032168764\t3.850165072\t3.790329067\t3.385561266\t4.737062163\t3.512737723\t0\t0\t1.081784222\t0.9374031647\t0\t5.05257631\t3.621939963\t4.117757034\t0\t6.806881231\t7.313135295\t5.755053705\t0\t5.344528138\t6.148001159\t0\t6.87180726\t7.208710218\t0\t3.336225546\t4.772875335\t4.255175642\t7.747239674\t7.485858207\t3.764538019\t3.491909693\t7.001386929\t1.960314397\t7.17549408\t3.514782419\t6.994635216\t4.416486641\t6.610078165\t3.837055641\t3.102174006\t3.781565289\t2.822725612\t6.225174548\t3.865888593\t2.478513638\t6.825547852\t7.100028706\t4.599244119\t7.065939496\t4.229152745\t4.38087829\t5.613772357\t4.027172583\t2.3924843\t5.895904262\t3.424408057\t5.430776466\t5.284216319\t2.869802824\t5.124314049\t4.925674158\t5.289235923\t1.580983967\t4.285692281\t4.385856694\t0\t0\t2.717329872\t2.574319711\t0\t0\t3.249038085\t5.150366041\t1.846287615\t4.365979737\t2.929219949\t4.856430317\t3.425451505\t2.603268808\t4.159993006\t4.592940312\t4.391192988\t3.807986811\t5.844706722\t0\t5.265531859\t5.843128754\t3.771754239\t4.182144667\t3.42414448\t1.326067612\t1.008125912\t4.137058553\t4.701357232\t4.145383831\t2.932757473\t4.028238776\t5.046752821\t5.157898095\t3.989792279\t0\t0\t3.533820789\t4.257313842\t4.490310191\t5.136060247\t5.365739893\t5.664562352\t7.707565901\t5.56480954\t3.963385103\t2.399366691\t0\t0\t0\t5.253292843\t0\t0\t3.355700133\t0\t0\t3.74139399\t0\t0\t0\t0\t0\t0\t0\t2.26230819\t4.169714914\t2.968055677\t4.138474358\t0\t3.913870665\t3.188282845\t3.80915409\t4.080921988\t0\t3.667033972\t0\t4.100342107\t3.836287249\t2.613426604\t0\t3.251129074\t0\t3.868152839\t3.424406342\t3.453341849\t3.263608466\t0\t0\t3.292088513\t4.428465826\t0\t2.547307894\t4.073484831\t2.863724861\t0\t0\t0\t3.663108974\t0\t0\t0\t0\t0\t0\t0\t5.030167644\t3.945564248\t4.082265655\t3.917471448\t3.091038055\t4.410577769\t5.11224959\t4.260303165\t3.530582075\t0\t3.526097006\t4.490045678\t4.387963281\t0\t5.412501637\t5.824574712\t4.381863914\t4.685754615\t6.819101607\t6.226841818\t4.275574609\t7.612845028\t4.162631204\t4.695054355\t3.92394756\t3.998854461\t3.783123656\t4.056625325\t4.742408996\t4.221881298\t3.742163671\t3.880122233\t3.068420392\t4.409047079\t4.040883926\t4.116092648\t4.135026781\t3.341610009\t4.15840468\t4.641671535\t3.625211363\t4.399086418\t4.503365673\t4.576272645\t4.693155971\t4.948318678\t5.344231337\t5.114939396\t4.52522984\t4.119013542\t0\t5.491806914\t4.01309019\t5.511570966\t5.079656303\t2.898701833\t7.356672875\t3.889344842\t4.620745312\t5.76660376\t5.635402545\t5.30229277\t4.91638618\t7.120765771\t7.242386992\t7.415410989\t11.70713021\t5.304923625\t5.865337031\t2.179131287\t2.883082194\t4.199214815\t4.839565063\t5.577795554\t6.043473839\t5.26157986\t4.489418081\t4.967483955\t4.38128905\t4.119459073\t5.259744653\t0\t0\t0\t4.86644081\t5.106059922\t4.649062632\t4.421783443\t4.564626366\t5.188745146\t5.18706318\t5.413947471\t4.775107348\t2.703181819\t5.550478988\t4.28970669\t2.695708041\t5.707094976\t4.895783196\t4.944720886\t5.620388761\t5.047262251\t5.814637545\t6.614789326\t5.198138065\t5.144416473\t5.755512692\t1.107295832\t3.388388767\t0\t0\t0\t5.13030406\t0\t4.066941014\t4.247997377\t4.741311214\t4.964832212\t2.138567899\t0\t2.785578673\t2.55087634\t6.075229916\t5.334633002\t5.305347625\t2.932204353\t2.23886617\t4.275097631\t0\t7.597669764\t0\t0\t5.113759924\t3.889639031\t4.521769977\t4.86862326\t5.551890674\t7.158845854\t4.302059464\t0\t0\t5.43547456\t5.915664998\t2.393437929\t0\t3.677389351\t5.265868663\t6.750811361\t6.53423868\t5.728511405\t5.569532393\t5.098084667\t5.120394049\t5.279583746\t4.77773246\t3.122843589\t4.487302748\t5.006183604\t5.41239409\t5.003443334\t5.013951557\t6.029013654\t5.38215108\t5.219803327\t3.714030446\t2.509050408\t3.822878958\t5.057345036\t6.740189934\t6.78392577\t3.974032919\t0\t0\t5.607655149\t0\t4.7147014\t3.400291485\t4.030364783\t2.319106864\t3.043813309\t0\t2.275268899\t0\t3.216408656\t3.788143439\t0\t0\t4.139922102\t0\t0\t1.812051221\t0.6976778391\t0\t2.444651032\t0\t0\n",
    "g8697.t1\t8.132789991\t6.86311702\t5.736058157\t7.41470549\t6.929134373\t7.666674045\t5.596809098\t5.483219839\t4.886451205\t8.658527332\t5.596089786\t7.620057195\t5.293940817\t4.755526676\t6.643684808\t4.451988565\t5.517850314\t5.085292626\t6.874793121\t6.105637814\t4.876960465\t7.611866058\t6.464065514\t5.330628682\t4.672521738\t6.493966501\t0\t0\t3.465957451\t3.880310378\t7.552937739\t3.935991467\t8.531534179\t6.543131276\t0\t7.744771038\t8.308592166\t6.475576629\t0\t5.128041409\t5.676825547\t0\t0\t0\t4.63703187\t5.037759221\t3.82470418\t5.889911335\t0\t5.934467994\t4.91490821\t5.258744296\t5.693293354\t4.52520323\t6.192565141\t5.967887081\t5.49942305\t5.710985061\t5.923786036\t5.95791255\t4.749579902\t6.030987606\t5.837780406\t7.037764031\t5.808817619\t4.284581848\t6.343298804\t7.503139641\t5.489856593\t7.527802022\t6.523420863\t7.055510823\t4.222841914\t5.617620088\t5.91906597\t6.403190446\t4.916883698\t3.004042399\t5.088125187\t8.486018337\t7.534070988\t6.21883671\t6.151999682\t8.533202976\t7.201447394\t1.80251209\t0\t4.864482224\t6.403407072\t4.69966265\t3.110189672\t0\t4.315069567\t7.161174894\t3.024723478\t1.327249779\t5.937066789\t5.442948341\t4.341705362\t5.191259903\t6.20600405\t5.642449035\t5.863768559\t7.569757493\t7.325901608\t0\t7.395951059\t8.192401775\t5.271326728\t6.129516743\t6.107671675\t6.403415775\t3.01419045\t4.840846934\t4.639193018\t5.402640874\t6.243974356\t6.444829627\t4.409821655\t0\t4.293443351\t5.711331465\t5.780023214\t5.033255583\t5.475657102\t4.278576365\t5.418088118\t4.00786892\t4.692728344\t0\t1.897448892\t3.423940026\t3.789431466\t5.357720916\t5.377742499\t0\t5.253292843\t0\t0\t5.818163094\t4.728511287\t3.855838406\t5.252588607\t0\t8.944219115\t0\t0\t5.675753187\t0\t0\t4.57201084\t6.010262488\t4.974949176\t5.886098112\t0\t6.416780548\t6.388458036\t6.663508949\t6.345938911\t0\t6.173724212\t5.232837472\t6.831245354\t6.221923226\t5.390820199\t0\t6.767310518\t0\t6.684521416\t5.556415072\t4.548174437\t5.947520138\t6.021141039\t0\t5.893019187\t4.428465826\t3.940910377\t6.096602644\t6.59677126\t5.245858524\t3.13564486\t0\t4.666408248\t3.663108974\t4.534232018\t0\t0\t0\t0\t0\t0\t5.923059228\t5.00476248\t4.9642803\t6.703861286\t4.55846793\t4.787640625\t5.098100172\t5.618642963\t5.433773377\t0\t4.770858789\t4.345158358\t2.910305282\t7.690402143\t4.960647897\t6.193709374\t5.372670108\t5.372373075\t6.7395678\t7.043467518\t6.192113802\t7.106086244\t5.371913839\t4.845449829\t4.62238351\t4.369524556\t5.032747613\t4.288127274\t4.657576745\t4.546548939\t4.290733334\t5.16729587\t3.734898141\t5.123414161\t4.393817152\t4.577550925\t4.75043951\t3.341610009\t5.444135124\t5.916924897\t4.867085828\t3.597794585\t4.085333979\t6.162055425\t4.738661559\t5.765160091\t6.084499101\t5.498932062\t6.315196675\t5.01718306\t0\t7.60237031\t5.17847832\t3.463718152\t2.115342206\t2.53191058\t4.426757041\t3.433867984\t2.495946393\t4.020082415\t2.850346012\t4.66981358\t3.119839913\t5.351385885\t5.181154105\t4.473387998\t4.647647212\t4.506584474\t3.044478286\t5.033831279\t2.256741457\t4.269283096\t2.21530662\t3.844045253\t4.304308548\t2.44166861\t4.436439521\t0\t5.050617736\t4.611624286\t4.497797771\t4.381991394\t0\t3.152369949\t5.102017077\t6.131773938\t5.628192561\t6.177597665\t6.267461922\t5.662439566\t5.715699508\t6.087996188\t5.192079932\t1.072087434\t0\t5.67446933\t4.711610326\t7.247467569\t6.064276741\t5.921106058\t8.124990364\t7.595399397\t6.406277567\t5.596946038\t3.919872013\t5.372750256\t5.026287148\t3.182835506\t3.018560198\t4.182537714\t1.047572855\t0\t2.509207605\t3.826944398\t4.769056982\t5.50344171\t3.510692604\t5.288401834\t0\t4.048447004\t4.808352407\t6.126159301\t2.934060708\t4.369948364\t3.122438269\t0.9616505769\t1.234391953\t3.884686971\t5.609434341\t4.679798101\t0\t0\t4.802210848\t0\t5.773679573\t3.710615837\t4.917281011\t5.023830879\t3.151342737\t0\t0\t5.371757708\t3.960544209\t2.88383949\t0\t4.47437777\t3.870607302\t1.657850531\t6.62052388\t6.398555407\t5.917470397\t5.428043522\t6.591377979\t6.425675381\t4.53080048\t3.635028869\t2.192675269\t4.606032833\t4.543236855\t5.474178079\t2.676107271\t4.275860919\t4.952198725\t5.853699904\t4.410023163\t4.612486009\t5.133875767\t4.309464347\t0\t6.59266291\t5.122820203\t0\t0\t5.908899911\t4.193220566\t4.727857919\t6.940953703\t5.799963494\t4.854575372\t5.710307811\t3.456065675\t0.8222616472\t0\t5.473669385\t6.070600415\t0\t6.215772413\t6.401375516\t0\t8.534052912\t4.98364234\t4.214781616\t0\t6.234372034\t0\t7.180684717\n",
    "population\t\t\t\t\t\t\t\t\t\t\t\t\t\t\t\t\t\t\t\t\t\t\t\t\t\t\t\t\t\t\t\t\t\t\t\t\t\t\t\t\t\t\t\t\t\t\t\t\t\t\t\t\t\t\t\t\t\t\t\t\t\t\t\t\t\t\t\t\tendostyle\t\t\t\t\t\t\t\t\t\tendostyle\tendostyle\t\t\tendostyle\tendostyle\t\t\t\t\t\t\t\t\t\t\t\t\t\t\t\t\t\t\t\t\t\t\t\t\t\t\t\t\t\t\t\t\t\t\t\t\t\t\t\t\t\t\t\t\t\t\t\t\t\t\t\t\t\t\t\t\t\t\t\t\t\t\t\t\t\t\t\t\t\t\t\t\t\t\t\t\t\t\t\t\t\t\t\t\t\t\t\t\t\t\t\t\t\t\t\t\t\t\t\t\t\t\t\t\t\t\t\t\t\t\t\t\t\t\t\t\t\t\t\t\t\t\tendostyle\t\t\t\t\t\t\t\t\t\t\t\t\t\t\t\t\t\t\t\t\t\t\t\t\t\t\t\t\t\t\t\t\t\t\t\t\t\t\t\t\t\t\t\t\t\t\t\t\t\t\t\t\t\t\t\t\t\t\t\t\t\t\t\t\t\t\t\t\t\t\t\t\t\t\t\t\t\t\t\tendostyle\tendostyle\t\tendostyle\tendostyle\t\t\t\t\t\t\t\t\t\t\t\t\t\t\tendostyle\tendostyle\tendostyle\tendostyle\t\t\t\t\t\t\t\t\t\t\t\t\t\t\t\t\t\t\t\t\t\t\t\t\t\t\t\t\t\t\t\t\t\t\t\t\t\t\t\t\t\t\t\t\t\t\t\t\t\t\t\t\t\t\t\t\t\t\t\t\t\t\t\t\t\t\t\t\t\t\t\t\t\t\t\t\t\t'''\n",
    "fullset = pd.read_csv(StringIO(s), sep=\"\\t\",index_col=0).T\n",
    "fullset['population'] = fullset['population'].fillna('not endostyle')\n",
    "fullset.head()"
   ]
  },
  {
   "cell_type": "code",
   "execution_count": 41,
   "id": "abc7bfe2-f554-4250-aefb-686998f609eb",
   "metadata": {},
   "outputs": [
    {
     "data": {
      "text/plain": [
       "Index(['g858.t1', 'g8697.t1', 'population'], dtype='object')"
      ]
     },
     "execution_count": 41,
     "metadata": {},
     "output_type": "execute_result"
    }
   ],
   "source": [
    "fullset.columns"
   ]
  },
  {
   "cell_type": "code",
   "execution_count": 42,
   "id": "1fc18461-8d49-4242-b771-9ddebf7adce0",
   "metadata": {},
   "outputs": [
    {
     "data": {
      "text/plain": [
       "('g8697.t1', 'g858.t1')"
      ]
     },
     "execution_count": 42,
     "metadata": {},
     "output_type": "execute_result"
    }
   ],
   "source": [
    "gene_ids"
   ]
  },
  {
   "cell_type": "code",
   "execution_count": 43,
   "id": "073cb50c-ab71-4498-9680-ef0915e28036",
   "metadata": {},
   "outputs": [
    {
     "name": "stdout",
     "output_type": "stream",
     "text": [
      "g8697.t1\n",
      "g858.t1\n"
     ]
    }
   ],
   "source": [
    "for g in gene_ids:\n",
    "    print(g)\n",
    "    fullset[g] = fullset[g].astype(float)"
   ]
  },
  {
   "cell_type": "code",
   "execution_count": 75,
   "id": "e3f29ac3-c08f-4370-a953-1e9970be3ebe",
   "metadata": {},
   "outputs": [
    {
     "name": "stdout",
     "output_type": "stream",
     "text": [
      "\n",
      "--- g8697.t1 Endostyle vs not ---\n",
      "Ttest_indResult(statistic=3.686280451566807, pvalue=0.002017158684131568)\n",
      "\n",
      "--- g858.t1 Endostyle vs not ---\n",
      "Ttest_indResult(statistic=2.306581692900161, pvalue=0.03422372954649556)\n"
     ]
    },
    {
     "data": {
      "image/png": "[encoded data removed]",
      "text/plain": [
       "<Figure size 360x360 with 1 Axes>"
      ]
     },
     "metadata": {
      "needs_background": "light"
     },
     "output_type": "display_data"
    },
    {
     "data": {
      "image/png": "[encoded data removed]",
      "text/plain": [
       "<Figure size 360x360 with 1 Axes>"
      ]
     },
     "metadata": {
      "needs_background": "light"
     },
     "output_type": "display_data"
    }
   ],
   "source": [
    "for g in gene_ids:\n",
    "    print(f'\\n--- {g} Endostyle vs not ---')\n",
    "    sns.catplot(data=fullset, x=\"population\", y=g, kind=\"box\")\n",
    "\n",
    "    print(\n",
    "        ttest_ind(\n",
    "            fullset.query('population == \"endostyle\"')[g],\n",
    "            fullset.query('population != \"endostyle\"')[g],\n",
    "            equal_var=False,\n",
    "        )\n",
    "    )"
   ]
  },
  {
   "cell_type": "code",
   "execution_count": 57,
   "id": "c5d0834c-1367-4fa0-af07-c7968e57b119",
   "metadata": {},
   "outputs": [
    {
     "ename": "TypeError",
     "evalue": "'NoneType' object is not callable",
     "output_type": "error",
     "traceback": [
      "\u001b[0;31m---------------------------------------------------------------------------\u001b[0m",
      "\u001b[0;31mTypeError\u001b[0m                                 Traceback (most recent call last)",
      "\u001b[0;32m/var/folders/7z/r1593ybs1sj2ks5zzl9vy8840000gn/T/ipykernel_56270/308004786.py\u001b[0m in \u001b[0;36m<module>\u001b[0;34m\u001b[0m\n\u001b[0;32m----> 1\u001b[0;31m \u001b[0mlist\u001b[0m\u001b[0;34m(\u001b[0m\u001b[0;34m**\u001b[0m\u001b[0mfullset\u001b[0m\u001b[0;34m.\u001b[0m\u001b[0mgroupby\u001b[0m\u001b[0;34m(\u001b[0m\u001b[0;34m'population'\u001b[0m\u001b[0;34m)\u001b[0m\u001b[0;34m[\u001b[0m\u001b[0mg\u001b[0m\u001b[0;34m]\u001b[0m\u001b[0;34m)\u001b[0m\u001b[0;34m\u001b[0m\u001b[0;34m\u001b[0m\u001b[0m\n\u001b[0m",
      "\u001b[0;31mTypeError\u001b[0m: 'NoneType' object is not callable"
     ]
    }
   ],
   "source": [
    "list(**)"
   ]
  },
  {
   "cell_type": "code",
   "execution_count": null,
   "id": "8a1fa16d-2290-45f5-94ac-52013e16d46a",
   "metadata": {},
   "outputs": [],
   "source": [
    "\n",
    "for group, values in fullset.groupby('population')[g]:"
   ]
  },
  {
   "cell_type": "code",
   "execution_count": 60,
   "id": "b379c6f7-94ef-4100-90d4-42fdcc164217",
   "metadata": {},
   "outputs": [
    {
     "data": {
      "text/plain": [
       "Ttest_indResult(statistic=2.306581692900161, pvalue=0.03422372954649556)"
      ]
     },
     "execution_count": 60,
     "metadata": {},
     "output_type": "execute_result"
    }
   ],
   "source": []
  },
  {
   "cell_type": "code",
   "execution_count": null,
   "id": "10c9312d-1a7c-4d60-8bee-b41b9aa112b9",
   "metadata": {},
   "outputs": [],
   "source": []
  }
 ],
 "metadata": {
  "kernelspec": {
   "display_name": "Python [conda env:botryllus]",
   "language": "python",
   "name": "conda-env-botryllus-py"
  },
  "language_info": {
   "codemirror_mode": {
    "name": "ipython",
    "version": 3
   },
   "file_extension": ".py",
   "mimetype": "text/x-python",
   "name": "python",
   "nbconvert_exporter": "python",
   "pygments_lexer": "ipython3",
   "version": "3.10.0"
  }
 },
 "nbformat": 4,
 "nbformat_minor": 5
}
