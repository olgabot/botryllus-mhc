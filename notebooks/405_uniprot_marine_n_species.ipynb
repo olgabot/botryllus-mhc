{
 "cells": [
  {
   "cell_type": "code",
   "execution_count": 18,
   "id": "abe60251-d976-4152-9c16-1287fa17cb73",
   "metadata": {},
   "outputs": [],
   "source": [
    "import pandas as pd\n",
    "import seaborn as sns"
   ]
  },
  {
   "cell_type": "code",
   "execution_count": 2,
   "id": "53995c2d-ab7b-4612-b441-2282f0fec960",
   "metadata": {},
   "outputs": [],
   "source": [
    "eukaryota_counted_worms = pd.read_parquet(\n",
    "    \"/Users/olgabot/botryllus-data/2024-04-15__uniprot_eukaryota_counted_per_kingdom__worms_ismarine.parquet\"\n",
    ")"
   ]
  },
  {
   "cell_type": "code",
   "execution_count": 3,
   "id": "b0ab03cb-0727-40a3-b449-f50629f2c891",
   "metadata": {},
   "outputs": [
    {
     "data": {
      "text/plain": [
       "(1006714, 27)"
      ]
     },
     "execution_count": 3,
     "metadata": {},
     "output_type": "execute_result"
    }
   ],
   "source": [
    "eukaryota_counted_worms.shape"
   ]
  },
  {
   "cell_type": "code",
   "execution_count": 43,
   "id": "3bee393b-c29b-4ddb-bc19-5208d78c5645",
   "metadata": {},
   "outputs": [
    {
     "data": {
      "text/html": [
       "<div>\n",
       "<style scoped>\n",
       "    .dataframe tbody tr th:only-of-type {\n",
       "        vertical-align: middle;\n",
       "    }\n",
       "\n",
       "    .dataframe tbody tr th {\n",
       "        vertical-align: top;\n",
       "    }\n",
       "\n",
       "    .dataframe thead th {\n",
       "        text-align: right;\n",
       "    }\n",
       "</style>\n",
       "<table border=\"1\" class=\"dataframe\">\n",
       "  <thead>\n",
       "    <tr style=\"text-align: right;\">\n",
       "      <th></th>\n",
       "      <th>opisthokonta</th>\n",
       "      <th>metazoa</th>\n",
       "      <th>fungi</th>\n",
       "      <th>viridiplantae</th>\n",
       "      <th>Taxonomic lineage</th>\n",
       "      <th>Organism</th>\n",
       "      <th>Organism (ID)</th>\n",
       "      <th>Reviewed</th>\n",
       "      <th>len</th>\n",
       "      <th>taxonID</th>\n",
       "      <th>...</th>\n",
       "      <th>scientificName</th>\n",
       "      <th>kingdom</th>\n",
       "      <th>phylum</th>\n",
       "      <th>class</th>\n",
       "      <th>order</th>\n",
       "      <th>family</th>\n",
       "      <th>genus</th>\n",
       "      <th>specificEpithet</th>\n",
       "      <th>taxonRank</th>\n",
       "      <th>any_marine_freshwater_brackish</th>\n",
       "    </tr>\n",
       "  </thead>\n",
       "  <tbody>\n",
       "    <tr>\n",
       "      <th>0</th>\n",
       "      <td>True</td>\n",
       "      <td>True</td>\n",
       "      <td>False</td>\n",
       "      <td>False</td>\n",
       "      <td>cellular organisms (no rank), Eukaryota (super...</td>\n",
       "      <td>Cyprinus carpio (Common carp)</td>\n",
       "      <td>7962</td>\n",
       "      <td>unreviewed</td>\n",
       "      <td>390099</td>\n",
       "      <td>urn:lsid:marinespecies.org:taxname:154582</td>\n",
       "      <td>...</td>\n",
       "      <td>Cyprinus carpio</td>\n",
       "      <td>Animalia</td>\n",
       "      <td>Chordata</td>\n",
       "      <td>Teleostei</td>\n",
       "      <td>Cypriniformes</td>\n",
       "      <td>Cyprinidae</td>\n",
       "      <td>Cyprinus</td>\n",
       "      <td>carpio</td>\n",
       "      <td>Species</td>\n",
       "      <td>True</td>\n",
       "    </tr>\n",
       "    <tr>\n",
       "      <th>1</th>\n",
       "      <td>True</td>\n",
       "      <td>True</td>\n",
       "      <td>False</td>\n",
       "      <td>False</td>\n",
       "      <td>cellular organisms (no rank), Eukaryota (super...</td>\n",
       "      <td>Sus scrofa (Pig)</td>\n",
       "      <td>9823</td>\n",
       "      <td>unreviewed</td>\n",
       "      <td>330804</td>\n",
       "      <td>None</td>\n",
       "      <td>...</td>\n",
       "      <td>None</td>\n",
       "      <td>None</td>\n",
       "      <td>None</td>\n",
       "      <td>None</td>\n",
       "      <td>None</td>\n",
       "      <td>None</td>\n",
       "      <td>None</td>\n",
       "      <td>None</td>\n",
       "      <td>None</td>\n",
       "      <td>False</td>\n",
       "    </tr>\n",
       "    <tr>\n",
       "      <th>2</th>\n",
       "      <td>True</td>\n",
       "      <td>True</td>\n",
       "      <td>False</td>\n",
       "      <td>False</td>\n",
       "      <td>cellular organisms (no rank), Eukaryota (super...</td>\n",
       "      <td>Rotaria magnacalcarata</td>\n",
       "      <td>392030</td>\n",
       "      <td>unreviewed</td>\n",
       "      <td>315865</td>\n",
       "      <td>None</td>\n",
       "      <td>...</td>\n",
       "      <td>None</td>\n",
       "      <td>None</td>\n",
       "      <td>None</td>\n",
       "      <td>None</td>\n",
       "      <td>None</td>\n",
       "      <td>None</td>\n",
       "      <td>None</td>\n",
       "      <td>None</td>\n",
       "      <td>None</td>\n",
       "      <td>False</td>\n",
       "    </tr>\n",
       "    <tr>\n",
       "      <th>3</th>\n",
       "      <td>True</td>\n",
       "      <td>False</td>\n",
       "      <td>True</td>\n",
       "      <td>False</td>\n",
       "      <td>cellular organisms (no rank), Eukaryota (super...</td>\n",
       "      <td>Aureobasidium pullulans (Black yeast) (Pullula...</td>\n",
       "      <td>5580</td>\n",
       "      <td>unreviewed</td>\n",
       "      <td>293087</td>\n",
       "      <td>None</td>\n",
       "      <td>...</td>\n",
       "      <td>None</td>\n",
       "      <td>None</td>\n",
       "      <td>None</td>\n",
       "      <td>None</td>\n",
       "      <td>None</td>\n",
       "      <td>None</td>\n",
       "      <td>None</td>\n",
       "      <td>None</td>\n",
       "      <td>None</td>\n",
       "      <td>False</td>\n",
       "    </tr>\n",
       "    <tr>\n",
       "      <th>4</th>\n",
       "      <td>True</td>\n",
       "      <td>True</td>\n",
       "      <td>False</td>\n",
       "      <td>False</td>\n",
       "      <td>cellular organisms (no rank), Eukaryota (super...</td>\n",
       "      <td>Adineta steineri</td>\n",
       "      <td>433720</td>\n",
       "      <td>unreviewed</td>\n",
       "      <td>267110</td>\n",
       "      <td>None</td>\n",
       "      <td>...</td>\n",
       "      <td>None</td>\n",
       "      <td>None</td>\n",
       "      <td>None</td>\n",
       "      <td>None</td>\n",
       "      <td>None</td>\n",
       "      <td>None</td>\n",
       "      <td>None</td>\n",
       "      <td>None</td>\n",
       "      <td>None</td>\n",
       "      <td>False</td>\n",
       "    </tr>\n",
       "  </tbody>\n",
       "</table>\n",
       "<p>5 rows × 27 columns</p>\n",
       "</div>"
      ],
      "text/plain": [
       "   opisthokonta  metazoa  fungi  viridiplantae  \\\n",
       "0          True     True  False          False   \n",
       "1          True     True  False          False   \n",
       "2          True     True  False          False   \n",
       "3          True    False   True          False   \n",
       "4          True     True  False          False   \n",
       "\n",
       "                                   Taxonomic lineage  \\\n",
       "0  cellular organisms (no rank), Eukaryota (super...   \n",
       "1  cellular organisms (no rank), Eukaryota (super...   \n",
       "2  cellular organisms (no rank), Eukaryota (super...   \n",
       "3  cellular organisms (no rank), Eukaryota (super...   \n",
       "4  cellular organisms (no rank), Eukaryota (super...   \n",
       "\n",
       "                                            Organism  Organism (ID)  \\\n",
       "0                      Cyprinus carpio (Common carp)           7962   \n",
       "1                                   Sus scrofa (Pig)           9823   \n",
       "2                             Rotaria magnacalcarata         392030   \n",
       "3  Aureobasidium pullulans (Black yeast) (Pullula...           5580   \n",
       "4                                   Adineta steineri         433720   \n",
       "\n",
       "     Reviewed     len                                    taxonID  ...  \\\n",
       "0  unreviewed  390099  urn:lsid:marinespecies.org:taxname:154582  ...   \n",
       "1  unreviewed  330804                                       None  ...   \n",
       "2  unreviewed  315865                                       None  ...   \n",
       "3  unreviewed  293087                                       None  ...   \n",
       "4  unreviewed  267110                                       None  ...   \n",
       "\n",
       "    scientificName   kingdom    phylum      class          order      family  \\\n",
       "0  Cyprinus carpio  Animalia  Chordata  Teleostei  Cypriniformes  Cyprinidae   \n",
       "1             None      None      None       None           None        None   \n",
       "2             None      None      None       None           None        None   \n",
       "3             None      None      None       None           None        None   \n",
       "4             None      None      None       None           None        None   \n",
       "\n",
       "      genus specificEpithet taxonRank any_marine_freshwater_brackish  \n",
       "0  Cyprinus          carpio   Species                           True  \n",
       "1      None            None      None                          False  \n",
       "2      None            None      None                          False  \n",
       "3      None            None      None                          False  \n",
       "4      None            None      None                          False  \n",
       "\n",
       "[5 rows x 27 columns]"
      ]
     },
     "execution_count": 43,
     "metadata": {},
     "output_type": "execute_result"
    }
   ],
   "source": [
    "eukaryota_counted_worms.head()"
   ]
  },
  {
   "cell_type": "code",
   "execution_count": 44,
   "id": "73d3d0bd-ba77-4791-b675-326643d8771b",
   "metadata": {},
   "outputs": [
    {
     "data": {
      "text/html": [
       "<div>\n",
       "<style scoped>\n",
       "    .dataframe tbody tr th:only-of-type {\n",
       "        vertical-align: middle;\n",
       "    }\n",
       "\n",
       "    .dataframe tbody tr th {\n",
       "        vertical-align: top;\n",
       "    }\n",
       "\n",
       "    .dataframe thead th {\n",
       "        text-align: right;\n",
       "    }\n",
       "</style>\n",
       "<table border=\"1\" class=\"dataframe\">\n",
       "  <thead>\n",
       "    <tr style=\"text-align: right;\">\n",
       "      <th></th>\n",
       "      <th>opisthokonta</th>\n",
       "      <th>metazoa</th>\n",
       "      <th>fungi</th>\n",
       "      <th>viridiplantae</th>\n",
       "      <th>Taxonomic lineage</th>\n",
       "      <th>Organism</th>\n",
       "      <th>Organism (ID)</th>\n",
       "      <th>Reviewed</th>\n",
       "      <th>len</th>\n",
       "      <th>taxonID</th>\n",
       "      <th>...</th>\n",
       "      <th>scientificName</th>\n",
       "      <th>kingdom</th>\n",
       "      <th>phylum</th>\n",
       "      <th>class</th>\n",
       "      <th>order</th>\n",
       "      <th>family</th>\n",
       "      <th>genus</th>\n",
       "      <th>specificEpithet</th>\n",
       "      <th>taxonRank</th>\n",
       "      <th>any_marine_freshwater_brackish</th>\n",
       "    </tr>\n",
       "  </thead>\n",
       "  <tbody>\n",
       "    <tr>\n",
       "      <th>0</th>\n",
       "      <td>True</td>\n",
       "      <td>True</td>\n",
       "      <td>False</td>\n",
       "      <td>False</td>\n",
       "      <td>cellular organisms (no rank), Eukaryota (super...</td>\n",
       "      <td>Cyprinus carpio (Common carp)</td>\n",
       "      <td>7962</td>\n",
       "      <td>unreviewed</td>\n",
       "      <td>390099</td>\n",
       "      <td>urn:lsid:marinespecies.org:taxname:154582</td>\n",
       "      <td>...</td>\n",
       "      <td>Cyprinus carpio</td>\n",
       "      <td>Animalia</td>\n",
       "      <td>Chordata</td>\n",
       "      <td>Teleostei</td>\n",
       "      <td>Cypriniformes</td>\n",
       "      <td>Cyprinidae</td>\n",
       "      <td>Cyprinus</td>\n",
       "      <td>carpio</td>\n",
       "      <td>Species</td>\n",
       "      <td>True</td>\n",
       "    </tr>\n",
       "    <tr>\n",
       "      <th>1</th>\n",
       "      <td>True</td>\n",
       "      <td>True</td>\n",
       "      <td>False</td>\n",
       "      <td>False</td>\n",
       "      <td>cellular organisms (no rank), Eukaryota (super...</td>\n",
       "      <td>Sus scrofa (Pig)</td>\n",
       "      <td>9823</td>\n",
       "      <td>unreviewed</td>\n",
       "      <td>330804</td>\n",
       "      <td>None</td>\n",
       "      <td>...</td>\n",
       "      <td>None</td>\n",
       "      <td>None</td>\n",
       "      <td>None</td>\n",
       "      <td>None</td>\n",
       "      <td>None</td>\n",
       "      <td>None</td>\n",
       "      <td>None</td>\n",
       "      <td>None</td>\n",
       "      <td>None</td>\n",
       "      <td>False</td>\n",
       "    </tr>\n",
       "    <tr>\n",
       "      <th>2</th>\n",
       "      <td>True</td>\n",
       "      <td>True</td>\n",
       "      <td>False</td>\n",
       "      <td>False</td>\n",
       "      <td>cellular organisms (no rank), Eukaryota (super...</td>\n",
       "      <td>Rotaria magnacalcarata</td>\n",
       "      <td>392030</td>\n",
       "      <td>unreviewed</td>\n",
       "      <td>315865</td>\n",
       "      <td>None</td>\n",
       "      <td>...</td>\n",
       "      <td>None</td>\n",
       "      <td>None</td>\n",
       "      <td>None</td>\n",
       "      <td>None</td>\n",
       "      <td>None</td>\n",
       "      <td>None</td>\n",
       "      <td>None</td>\n",
       "      <td>None</td>\n",
       "      <td>None</td>\n",
       "      <td>False</td>\n",
       "    </tr>\n",
       "    <tr>\n",
       "      <th>3</th>\n",
       "      <td>True</td>\n",
       "      <td>False</td>\n",
       "      <td>True</td>\n",
       "      <td>False</td>\n",
       "      <td>cellular organisms (no rank), Eukaryota (super...</td>\n",
       "      <td>Aureobasidium pullulans (Black yeast) (Pullula...</td>\n",
       "      <td>5580</td>\n",
       "      <td>unreviewed</td>\n",
       "      <td>293087</td>\n",
       "      <td>None</td>\n",
       "      <td>...</td>\n",
       "      <td>None</td>\n",
       "      <td>None</td>\n",
       "      <td>None</td>\n",
       "      <td>None</td>\n",
       "      <td>None</td>\n",
       "      <td>None</td>\n",
       "      <td>None</td>\n",
       "      <td>None</td>\n",
       "      <td>None</td>\n",
       "      <td>False</td>\n",
       "    </tr>\n",
       "    <tr>\n",
       "      <th>4</th>\n",
       "      <td>True</td>\n",
       "      <td>True</td>\n",
       "      <td>False</td>\n",
       "      <td>False</td>\n",
       "      <td>cellular organisms (no rank), Eukaryota (super...</td>\n",
       "      <td>Adineta steineri</td>\n",
       "      <td>433720</td>\n",
       "      <td>unreviewed</td>\n",
       "      <td>267110</td>\n",
       "      <td>None</td>\n",
       "      <td>...</td>\n",
       "      <td>None</td>\n",
       "      <td>None</td>\n",
       "      <td>None</td>\n",
       "      <td>None</td>\n",
       "      <td>None</td>\n",
       "      <td>None</td>\n",
       "      <td>None</td>\n",
       "      <td>None</td>\n",
       "      <td>None</td>\n",
       "      <td>False</td>\n",
       "    </tr>\n",
       "    <tr>\n",
       "      <th>...</th>\n",
       "      <td>...</td>\n",
       "      <td>...</td>\n",
       "      <td>...</td>\n",
       "      <td>...</td>\n",
       "      <td>...</td>\n",
       "      <td>...</td>\n",
       "      <td>...</td>\n",
       "      <td>...</td>\n",
       "      <td>...</td>\n",
       "      <td>...</td>\n",
       "      <td>...</td>\n",
       "      <td>...</td>\n",
       "      <td>...</td>\n",
       "      <td>...</td>\n",
       "      <td>...</td>\n",
       "      <td>...</td>\n",
       "      <td>...</td>\n",
       "      <td>...</td>\n",
       "      <td>...</td>\n",
       "      <td>...</td>\n",
       "      <td>...</td>\n",
       "    </tr>\n",
       "    <tr>\n",
       "      <th>213</th>\n",
       "      <td>True</td>\n",
       "      <td>True</td>\n",
       "      <td>False</td>\n",
       "      <td>False</td>\n",
       "      <td>cellular organisms (no rank), Eukaryota (super...</td>\n",
       "      <td>Trichonephila inaurata madagascariensis</td>\n",
       "      <td>2747483</td>\n",
       "      <td>unreviewed</td>\n",
       "      <td>50577</td>\n",
       "      <td>None</td>\n",
       "      <td>...</td>\n",
       "      <td>None</td>\n",
       "      <td>None</td>\n",
       "      <td>None</td>\n",
       "      <td>None</td>\n",
       "      <td>None</td>\n",
       "      <td>None</td>\n",
       "      <td>None</td>\n",
       "      <td>None</td>\n",
       "      <td>None</td>\n",
       "      <td>False</td>\n",
       "    </tr>\n",
       "    <tr>\n",
       "      <th>214</th>\n",
       "      <td>True</td>\n",
       "      <td>True</td>\n",
       "      <td>False</td>\n",
       "      <td>False</td>\n",
       "      <td>cellular organisms (no rank), Eukaryota (super...</td>\n",
       "      <td>Crassostrea virginica (Eastern oyster)</td>\n",
       "      <td>6565</td>\n",
       "      <td>unreviewed</td>\n",
       "      <td>50422</td>\n",
       "      <td>urn:lsid:marinespecies.org:taxname:140657</td>\n",
       "      <td>...</td>\n",
       "      <td>Crassostrea virginica</td>\n",
       "      <td>Animalia</td>\n",
       "      <td>Mollusca</td>\n",
       "      <td>Bivalvia</td>\n",
       "      <td>Ostreida</td>\n",
       "      <td>Ostreidae</td>\n",
       "      <td>Crassostrea</td>\n",
       "      <td>virginica</td>\n",
       "      <td>Species</td>\n",
       "      <td>True</td>\n",
       "    </tr>\n",
       "    <tr>\n",
       "      <th>215</th>\n",
       "      <td>False</td>\n",
       "      <td>False</td>\n",
       "      <td>False</td>\n",
       "      <td>True</td>\n",
       "      <td>cellular organisms (no rank), Eukaryota (super...</td>\n",
       "      <td>Ananas comosus (Pineapple) (Ananas ananas)</td>\n",
       "      <td>4615</td>\n",
       "      <td>unreviewed</td>\n",
       "      <td>50293</td>\n",
       "      <td>None</td>\n",
       "      <td>...</td>\n",
       "      <td>None</td>\n",
       "      <td>None</td>\n",
       "      <td>None</td>\n",
       "      <td>None</td>\n",
       "      <td>None</td>\n",
       "      <td>None</td>\n",
       "      <td>None</td>\n",
       "      <td>None</td>\n",
       "      <td>None</td>\n",
       "      <td>False</td>\n",
       "    </tr>\n",
       "    <tr>\n",
       "      <th>216</th>\n",
       "      <td>False</td>\n",
       "      <td>False</td>\n",
       "      <td>False</td>\n",
       "      <td>True</td>\n",
       "      <td>cellular organisms (no rank), Eukaryota (super...</td>\n",
       "      <td>Phaseolus angularis (Azuki bean) (Vigna angula...</td>\n",
       "      <td>3914</td>\n",
       "      <td>unreviewed</td>\n",
       "      <td>50224</td>\n",
       "      <td>None</td>\n",
       "      <td>...</td>\n",
       "      <td>None</td>\n",
       "      <td>None</td>\n",
       "      <td>None</td>\n",
       "      <td>None</td>\n",
       "      <td>None</td>\n",
       "      <td>None</td>\n",
       "      <td>None</td>\n",
       "      <td>None</td>\n",
       "      <td>None</td>\n",
       "      <td>False</td>\n",
       "    </tr>\n",
       "    <tr>\n",
       "      <th>217</th>\n",
       "      <td>False</td>\n",
       "      <td>False</td>\n",
       "      <td>False</td>\n",
       "      <td>False</td>\n",
       "      <td>cellular organisms (no rank), Eukaryota (super...</td>\n",
       "      <td>Trichomonas vaginalis (strain ATCC PRA-98 / G3)</td>\n",
       "      <td>412133</td>\n",
       "      <td>unreviewed</td>\n",
       "      <td>50177</td>\n",
       "      <td>None</td>\n",
       "      <td>...</td>\n",
       "      <td>None</td>\n",
       "      <td>None</td>\n",
       "      <td>None</td>\n",
       "      <td>None</td>\n",
       "      <td>None</td>\n",
       "      <td>None</td>\n",
       "      <td>None</td>\n",
       "      <td>None</td>\n",
       "      <td>None</td>\n",
       "      <td>False</td>\n",
       "    </tr>\n",
       "  </tbody>\n",
       "</table>\n",
       "<p>218 rows × 27 columns</p>\n",
       "</div>"
      ],
      "text/plain": [
       "     opisthokonta  metazoa  fungi  viridiplantae  \\\n",
       "0            True     True  False          False   \n",
       "1            True     True  False          False   \n",
       "2            True     True  False          False   \n",
       "3            True    False   True          False   \n",
       "4            True     True  False          False   \n",
       "..            ...      ...    ...            ...   \n",
       "213          True     True  False          False   \n",
       "214          True     True  False          False   \n",
       "215         False    False  False           True   \n",
       "216         False    False  False           True   \n",
       "217         False    False  False          False   \n",
       "\n",
       "                                     Taxonomic lineage  \\\n",
       "0    cellular organisms (no rank), Eukaryota (super...   \n",
       "1    cellular organisms (no rank), Eukaryota (super...   \n",
       "2    cellular organisms (no rank), Eukaryota (super...   \n",
       "3    cellular organisms (no rank), Eukaryota (super...   \n",
       "4    cellular organisms (no rank), Eukaryota (super...   \n",
       "..                                                 ...   \n",
       "213  cellular organisms (no rank), Eukaryota (super...   \n",
       "214  cellular organisms (no rank), Eukaryota (super...   \n",
       "215  cellular organisms (no rank), Eukaryota (super...   \n",
       "216  cellular organisms (no rank), Eukaryota (super...   \n",
       "217  cellular organisms (no rank), Eukaryota (super...   \n",
       "\n",
       "                                              Organism  Organism (ID)  \\\n",
       "0                        Cyprinus carpio (Common carp)           7962   \n",
       "1                                     Sus scrofa (Pig)           9823   \n",
       "2                               Rotaria magnacalcarata         392030   \n",
       "3    Aureobasidium pullulans (Black yeast) (Pullula...           5580   \n",
       "4                                     Adineta steineri         433720   \n",
       "..                                                 ...            ...   \n",
       "213            Trichonephila inaurata madagascariensis        2747483   \n",
       "214             Crassostrea virginica (Eastern oyster)           6565   \n",
       "215         Ananas comosus (Pineapple) (Ananas ananas)           4615   \n",
       "216  Phaseolus angularis (Azuki bean) (Vigna angula...           3914   \n",
       "217    Trichomonas vaginalis (strain ATCC PRA-98 / G3)         412133   \n",
       "\n",
       "       Reviewed     len                                    taxonID  ...  \\\n",
       "0    unreviewed  390099  urn:lsid:marinespecies.org:taxname:154582  ...   \n",
       "1    unreviewed  330804                                       None  ...   \n",
       "2    unreviewed  315865                                       None  ...   \n",
       "3    unreviewed  293087                                       None  ...   \n",
       "4    unreviewed  267110                                       None  ...   \n",
       "..          ...     ...                                        ...  ...   \n",
       "213  unreviewed   50577                                       None  ...   \n",
       "214  unreviewed   50422  urn:lsid:marinespecies.org:taxname:140657  ...   \n",
       "215  unreviewed   50293                                       None  ...   \n",
       "216  unreviewed   50224                                       None  ...   \n",
       "217  unreviewed   50177                                       None  ...   \n",
       "\n",
       "            scientificName   kingdom    phylum      class          order  \\\n",
       "0          Cyprinus carpio  Animalia  Chordata  Teleostei  Cypriniformes   \n",
       "1                     None      None      None       None           None   \n",
       "2                     None      None      None       None           None   \n",
       "3                     None      None      None       None           None   \n",
       "4                     None      None      None       None           None   \n",
       "..                     ...       ...       ...        ...            ...   \n",
       "213                   None      None      None       None           None   \n",
       "214  Crassostrea virginica  Animalia  Mollusca   Bivalvia       Ostreida   \n",
       "215                   None      None      None       None           None   \n",
       "216                   None      None      None       None           None   \n",
       "217                   None      None      None       None           None   \n",
       "\n",
       "         family        genus specificEpithet taxonRank  \\\n",
       "0    Cyprinidae     Cyprinus          carpio   Species   \n",
       "1          None         None            None      None   \n",
       "2          None         None            None      None   \n",
       "3          None         None            None      None   \n",
       "4          None         None            None      None   \n",
       "..          ...          ...             ...       ...   \n",
       "213        None         None            None      None   \n",
       "214   Ostreidae  Crassostrea       virginica   Species   \n",
       "215        None         None            None      None   \n",
       "216        None         None            None      None   \n",
       "217        None         None            None      None   \n",
       "\n",
       "    any_marine_freshwater_brackish  \n",
       "0                             True  \n",
       "1                            False  \n",
       "2                            False  \n",
       "3                            False  \n",
       "4                            False  \n",
       "..                             ...  \n",
       "213                          False  \n",
       "214                           True  \n",
       "215                          False  \n",
       "216                          False  \n",
       "217                          False  \n",
       "\n",
       "[218 rows x 27 columns]"
      ]
     },
     "execution_count": 44,
     "metadata": {},
     "output_type": "execute_result"
    }
   ],
   "source": [
    "eukaryota_counted_worms.query(\"len > 50000\")"
   ]
  },
  {
   "cell_type": "markdown",
   "id": "decd5fb1-037f-420a-bb2a-6d1380b0d0a7",
   "metadata": {},
   "source": [
    "## How many marine species?"
   ]
  },
  {
   "cell_type": "code",
   "execution_count": 5,
   "id": "51d83351-cfe5-4a19-89a8-020a94b9c5e4",
   "metadata": {},
   "outputs": [
    {
     "data": {
      "text/plain": [
       "36805"
      ]
     },
     "execution_count": 5,
     "metadata": {},
     "output_type": "execute_result"
    }
   ],
   "source": [
    "eukaryota_counted_worms.any_marine_freshwater_brackish.sum()"
   ]
  },
  {
   "cell_type": "markdown",
   "id": "d03c1ba0-bc32-424d-a5e3-3dc90703f58a",
   "metadata": {},
   "source": [
    "### How many marine aninmals?"
   ]
  },
  {
   "cell_type": "code",
   "execution_count": 11,
   "id": "3c741be8-4130-4671-a496-9822234a4472",
   "metadata": {},
   "outputs": [
    {
     "data": {
      "text/plain": [
       "35520"
      ]
     },
     "execution_count": 11,
     "metadata": {},
     "output_type": "execute_result"
    }
   ],
   "source": [
    "eukaryota_counted_worms.query(\"metazoa == True\").any_marine_freshwater_brackish.sum()"
   ]
  },
  {
   "cell_type": "markdown",
   "id": "d18d4a73-25e5-47b2-8889-d274cd52e7e5",
   "metadata": {},
   "source": [
    "### How many marine aninmals with more than 1 gene?"
   ]
  },
  {
   "cell_type": "code",
   "execution_count": 21,
   "id": "e96a22d0-db77-44cb-8a0e-1000654b39e4",
   "metadata": {},
   "outputs": [
    {
     "data": {
      "text/plain": [
       "25192"
      ]
     },
     "execution_count": 21,
     "metadata": {},
     "output_type": "execute_result"
    }
   ],
   "source": [
    "eukaryota_counted_worms.query(\n",
    "    \"metazoa == True and len > 1\"\n",
    ").any_marine_freshwater_brackish.sum()"
   ]
  },
  {
   "cell_type": "markdown",
   "id": "b9b374c3-342f-4f87-8361-f317963ce1d4",
   "metadata": {},
   "source": [
    "### How many marine species in reviewed?"
   ]
  },
  {
   "cell_type": "code",
   "execution_count": 6,
   "id": "4222a100-dca5-432d-9ffe-f5e0b74ff7bf",
   "metadata": {},
   "outputs": [
    {
     "data": {
      "text/plain": [
       "1133"
      ]
     },
     "execution_count": 6,
     "metadata": {},
     "output_type": "execute_result"
    }
   ],
   "source": [
    "eukaryota_counted_worms.query(\n",
    "    'Reviewed == \"reviewed\"'\n",
    ").any_marine_freshwater_brackish.sum()"
   ]
  },
  {
   "cell_type": "markdown",
   "id": "ca0ea1bc-2845-4768-a303-84a2ffbabc41",
   "metadata": {},
   "source": [
    "### How many marine animals in reviewed?"
   ]
  },
  {
   "cell_type": "code",
   "execution_count": 10,
   "id": "cf8a5abe-9337-4639-b384-74cb17162f85",
   "metadata": {},
   "outputs": [
    {
     "data": {
      "text/plain": [
       "1043"
      ]
     },
     "execution_count": 10,
     "metadata": {},
     "output_type": "execute_result"
    }
   ],
   "source": [
    "eukaryota_counted_worms.query(\n",
    "    'Reviewed == \"reviewed\" and metazoa == True'\n",
    ").any_marine_freshwater_brackish.sum()"
   ]
  },
  {
   "cell_type": "markdown",
   "id": "a7b699e4-e8bc-494d-897c-d1780416ad39",
   "metadata": {},
   "source": [
    "## How many marine genes?"
   ]
  },
  {
   "cell_type": "code",
   "execution_count": 27,
   "id": "38caabbd-35e1-4cd1-b080-aba74db41d43",
   "metadata": {},
   "outputs": [
    {
     "data": {
      "text/plain": [
       "9598204"
      ]
     },
     "execution_count": 27,
     "metadata": {},
     "output_type": "execute_result"
    }
   ],
   "source": [
    "eukaryota_counted_worms.query(\"any_marine_freshwater_brackish == True\").len.sum()"
   ]
  },
  {
   "cell_type": "markdown",
   "id": "7ae5d28a-d08b-4008-9cb2-a0ceacc1b728",
   "metadata": {},
   "source": [
    "### How many marine genes in reviewed?"
   ]
  },
  {
   "cell_type": "code",
   "execution_count": 28,
   "id": "071d62d9-faea-4b50-a4ff-4f85476e37bb",
   "metadata": {},
   "outputs": [
    {
     "data": {
      "text/plain": [
       "7971"
      ]
     },
     "execution_count": 28,
     "metadata": {},
     "output_type": "execute_result"
    }
   ],
   "source": [
    "eukaryota_counted_worms.query(\n",
    "    'any_marine_freshwater_brackish == True and Reviewed == \"reviewed\"'\n",
    ").len.sum()"
   ]
  },
  {
   "cell_type": "code",
   "execution_count": 34,
   "id": "26e28e17-6e5d-4411-a641-14766c39a939",
   "metadata": {},
   "outputs": [
    {
     "data": {
      "text/plain": [
       "0.07248142725941822"
      ]
     },
     "execution_count": 34,
     "metadata": {},
     "output_type": "execute_result"
    }
   ],
   "source": [
    "7971 / 109973"
   ]
  },
  {
   "cell_type": "code",
   "execution_count": 36,
   "id": "65c4e045-fe13-441f-96b3-72bb12e2127f",
   "metadata": {},
   "outputs": [
    {
     "data": {
      "text/plain": [
       "2150000.0"
      ]
     },
     "execution_count": 36,
     "metadata": {},
     "output_type": "execute_result"
    }
   ],
   "source": [
    "predicted_animals_ocean = 2.15e6\n",
    "predicted_animals_ocean"
   ]
  },
  {
   "cell_type": "markdown",
   "id": "98d0f1c1-d6ff-406e-92e7-8ad646ebc5a0",
   "metadata": {},
   "source": [
    "#### Assume 20k genes/animal\n",
    "\n",
    "Bivales have more genes than human!\n",
    "\n",
    "https://bmcbiol.biomedcentral.com/articles/10.1186/s12915-020-00943-9#:~:text=In%20general%2C%20bivalve%20genomes%20encode,file%202%3A%20Table%20S8).\n",
    "\n",
    "Oyster has 28k genes compared to humans 20k\n",
    "\n",
    "https://www.washingtonpost.com/national/health-science/genome-of-the-lowly-oyster-is-likely-to-tell-us-a-lot/2012/09/19/dfdb8b36-026a-11e2-8102-ebee9c66e190_story.html#:~:text=The%20Pacific%20oyster%20genome%20has,people%20%E2%80%94%2028%2C000%20versus%20about%2020%2C000."
   ]
  },
  {
   "cell_type": "code",
   "execution_count": 45,
   "id": "bda792be-7a8b-472b-b0f4-9afaf729e397",
   "metadata": {},
   "outputs": [
    {
     "data": {
      "text/plain": [
       "43000000000.0"
      ]
     },
     "execution_count": 45,
     "metadata": {},
     "output_type": "execute_result"
    }
   ],
   "source": [
    "n_predicted_genes_ocean = 20000 * predicted_animals_ocean\n",
    "n_predicted_genes_ocean"
   ]
  },
  {
   "cell_type": "code",
   "execution_count": 50,
   "id": "de2a4563-84e6-4406-824d-60f9fc7f856c",
   "metadata": {},
   "outputs": [
    {
     "data": {
      "text/plain": [
       "'4.300000e+10'"
      ]
     },
     "execution_count": 50,
     "metadata": {},
     "output_type": "execute_result"
    }
   ],
   "source": [
    "f'{n_predicted_genes_ocean:e}'"
   ]
  },
  {
   "cell_type": "code",
   "execution_count": 53,
   "id": "594b0f53-7243-4128-96f6-87318be9108e",
   "metadata": {},
   "outputs": [
    {
     "data": {
      "text/plain": [
       "'43,000,000,000.0'"
      ]
     },
     "execution_count": 53,
     "metadata": {},
     "output_type": "execute_result"
    }
   ],
   "source": [
    "f'{n_predicted_genes_ocean:,}'"
   ]
  },
  {
   "cell_type": "markdown",
   "id": "f936813f-1e94-4f81-b71d-99d87f906609",
   "metadata": {},
   "source": [
    "### What percentage of genes have we seen in all of UniProt, including unreviewed?"
   ]
  },
  {
   "cell_type": "code",
   "execution_count": 48,
   "id": "eea7d475-2456-4aae-8731-2f66bc34a98e",
   "metadata": {},
   "outputs": [
    {
     "data": {
      "text/plain": [
       "0.02232140465116279"
      ]
     },
     "execution_count": 48,
     "metadata": {},
     "output_type": "execute_result"
    }
   ],
   "source": [
    "100 * eukaryota_counted_worms.query(\n",
    "    \"any_marine_freshwater_brackish == True\"\n",
    ").len.sum() / n_predicted_genes_ocean"
   ]
  },
  {
   "cell_type": "markdown",
   "id": "84816d95-e7b7-41d4-beb7-be292fb23374",
   "metadata": {},
   "source": [
    "### What percentage of genes have we seen in all of UniProt reviewed"
   ]
  },
  {
   "cell_type": "code",
   "execution_count": 49,
   "id": "4c337dfd-7bf2-47ab-9be6-ceec4e10e9fc",
   "metadata": {},
   "outputs": [
    {
     "data": {
      "text/plain": [
       "1.8537209302325582e-05"
      ]
     },
     "execution_count": 49,
     "metadata": {},
     "output_type": "execute_result"
    }
   ],
   "source": [
    "100 * eukaryota_counted_worms.query(\n",
    "    \"any_marine_freshwater_brackish == True and Reviewed == 'reviewed'\"\n",
    ").len.sum() / n_predicted_genes_ocean"
   ]
  },
  {
   "cell_type": "markdown",
   "id": "46dc7b77-895a-42ef-842b-d1605e0f82eb",
   "metadata": {},
   "source": [
    "## How many genes per species?"
   ]
  },
  {
   "cell_type": "code",
   "execution_count": 29,
   "id": "3fbc711d-93f3-49ca-8360-fbfe60d4e9de",
   "metadata": {
    "scrolled": true
   },
   "outputs": [
    {
     "data": {
      "text/plain": [
       "count    1.006714e+06\n",
       "mean     7.526390e+01\n",
       "std      1.879279e+03\n",
       "min      1.000000e+00\n",
       "25%      1.000000e+00\n",
       "50%      1.000000e+00\n",
       "75%      3.000000e+00\n",
       "max      3.900990e+05\n",
       "Name: len, dtype: float64"
      ]
     },
     "execution_count": 29,
     "metadata": {},
     "output_type": "execute_result"
    }
   ],
   "source": [
    "eukaryota_counted_worms.len.describe()"
   ]
  },
  {
   "cell_type": "markdown",
   "id": "8a982431-cb36-45f6-88b2-18093048239f",
   "metadata": {},
   "source": [
    "### Min 1000 genes\n",
    "\n",
    "E coli has 4000 genes, maybe should use that as a minimum, but at least 1000 is bare minimum"
   ]
  },
  {
   "cell_type": "code",
   "execution_count": 30,
   "id": "52bcb838-f9c9-4cc7-9d14-2cf2f831be78",
   "metadata": {
    "scrolled": true
   },
   "outputs": [
    {
     "data": {
      "text/plain": [
       "count      3403.000000\n",
       "mean      20601.091390\n",
       "std       24941.406303\n",
       "min        1004.000000\n",
       "25%        9706.000000\n",
       "50%       13721.000000\n",
       "75%       23564.500000\n",
       "max      390099.000000\n",
       "Name: len, dtype: float64"
      ]
     },
     "execution_count": 30,
     "metadata": {},
     "output_type": "execute_result"
    }
   ],
   "source": [
    "eukaryota_counted_worms.query(\"len > 1000\").len.describe()"
   ]
  },
  {
   "cell_type": "code",
   "execution_count": 32,
   "id": "a6b60750-6184-49e7-a95b-b00d043658f4",
   "metadata": {
    "scrolled": true
   },
   "outputs": [
    {
     "data": {
      "text/plain": [
       "count       20.00000\n",
       "mean      5727.25000\n",
       "std       5677.70605\n",
       "min       1016.00000\n",
       "25%       2091.25000\n",
       "50%       3962.00000\n",
       "75%       6215.50000\n",
       "max      20434.00000\n",
       "Name: len, dtype: float64"
      ]
     },
     "execution_count": 32,
     "metadata": {},
     "output_type": "execute_result"
    }
   ],
   "source": [
    "eukaryota_counted_worms.query(\"len > 1000 and Reviewed == 'reviewed'\").len.describe()"
   ]
  },
  {
   "cell_type": "code",
   "execution_count": 33,
   "id": "647c1961-a14d-4803-a659-419c43dac4a7",
   "metadata": {
    "scrolled": true
   },
   "outputs": [
    {
     "data": {
      "text/plain": [
       "count     8350.000000\n",
       "mean        23.705749\n",
       "std        391.763606\n",
       "min          1.000000\n",
       "25%          1.000000\n",
       "50%          2.000000\n",
       "75%          5.000000\n",
       "max      20434.000000\n",
       "Name: len, dtype: float64"
      ]
     },
     "execution_count": 33,
     "metadata": {},
     "output_type": "execute_result"
    }
   ],
   "source": [
    "eukaryota_counted_worms.query(\"Reviewed == 'reviewed'\").len.describe()"
   ]
  },
  {
   "cell_type": "code",
   "execution_count": 31,
   "id": "bc93ab87-8fcb-4ae4-9043-359e7f2f9e5b",
   "metadata": {},
   "outputs": [
    {
     "data": {
      "text/plain": [
       "<seaborn.axisgrid.FacetGrid at 0x16a924b00>"
      ]
     },
     "execution_count": 31,
     "metadata": {},
     "output_type": "execute_result"
    },
    {
     "data": {
      "image/png": "[encoded data removed]",
      "text/plain": [
       "<Figure size 500x500 with 1 Axes>"
      ]
     },
     "metadata": {},
     "output_type": "display_data"
    }
   ],
   "source": [
    "sns.displot(eukaryota_counted_worms.len, bins=100)"
   ]
  },
  {
   "cell_type": "code",
   "execution_count": 26,
   "id": "7859d363-de79-4988-9a4a-5374c2daad80",
   "metadata": {},
   "outputs": [
    {
     "data": {
      "text/plain": [
       "<seaborn.axisgrid.FacetGrid at 0x16a936c30>"
      ]
     },
     "execution_count": 26,
     "metadata": {},
     "output_type": "execute_result"
    },
    {
     "data": {
      "image/png": "[encoded data removed]",
      "text/plain": [
       "<Figure size 500x500 with 1 Axes>"
      ]
     },
     "metadata": {},
     "output_type": "display_data"
    }
   ],
   "source": [
    "sns.displot(eukaryota_counted_worms.query(\"len > 1000\").len, bins=100)"
   ]
  },
  {
   "cell_type": "code",
   "execution_count": null,
   "id": "a949969c-4436-4f39-8fa5-18df92414346",
   "metadata": {},
   "outputs": [],
   "source": []
  }
 ],
 "metadata": {
  "kernelspec": {
   "display_name": "Python [conda env:data-analysis]",
   "language": "python",
   "name": "conda-env-data-analysis-py"
  },
  "language_info": {
   "codemirror_mode": {
    "name": "ipython",
    "version": 3
   },
   "file_extension": ".py",
   "mimetype": "text/x-python",
   "name": "python",
   "nbconvert_exporter": "python",
   "pygments_lexer": "ipython3",
   "version": "3.12.2"
  }
 },
 "nbformat": 4,
 "nbformat_minor": 5
}
