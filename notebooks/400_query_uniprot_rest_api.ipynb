{
 "cells": [
  {
   "cell_type": "code",
   "execution_count": 2,
   "id": "6690a607-d823-4ff0-ab17-dac921524a4f",
   "metadata": {},
   "outputs": [],
   "source": [
    "%load_ext autoreload\n",
    "%autoreload 2"
   ]
  },
  {
   "cell_type": "markdown",
   "id": "8fa2b3ea-9347-4552-a178-a03ba1b86665",
   "metadata": {},
   "source": [
    "# References\n",
    "\n",
    "Where to get domain information:\n",
    "- [UniProtKB column names for programmatic access\n",
    "](https://www.uniprot.org/help/return_fields)\n",
    "\n",
    "General Uniprot API\n",
    "- [Uniprot API: Programmatic access - Retrieving entries via queries](https://www.uniprot.org/help/api_queries)\n",
    "- [Programmatic access - Retrieving individual entries\n",
    "](https://www.uniprot.org/help/api_retrieve_entries)\n",
    "- **[REST API - Access the UniProt website programmatically](https://www.uniprot.org/help/api)**\n",
    "- **[REST API - Retrieve entries](https://www.uniprot.org/help/api_retrieve_entries)**\n",
    "- **[REST API - ID Mapping](https://www.uniprot.org/help/id_mapping)**\n",
    "- **[REST API - Retrieving entries via queries](https://www.uniprot.org/help/api_queries)**\n",
    "- **[REST API - Downloading](https://www.uniprot.org/help/api_downloading)**"
   ]
  },
  {
   "cell_type": "markdown",
   "id": "b09489c9-b59a-4a2a-8a8b-491a5afa6af8",
   "metadata": {},
   "source": [
    "# Read in UniProt API request data "
   ]
  },
  {
   "cell_type": "code",
   "execution_count": 3,
   "id": "a79fe838-b29e-4ed4-ac5b-625f50352f50",
   "metadata": {
    "editable": true,
    "slideshow": {
     "slide_type": ""
    },
    "tags": []
   },
   "outputs": [
    {
     "data": {
      "text/plain": [
       "{'entryType': 'UniProtKB reviewed (Swiss-Prot)',\n",
       " 'primaryAccession': 'P60880',\n",
       " 'uniProtkbId': 'SNP25_HUMAN',\n",
       " 'entryAudit': {'sequenceVersion': 1},\n",
       " 'organism': {'scientificName': 'Homo sapiens',\n",
       "  'commonName': 'Human',\n",
       "  'taxonId': 9606,\n",
       "  'lineage': ['Eukaryota',\n",
       "   'Metazoa',\n",
       "   'Chordata',\n",
       "   'Craniata',\n",
       "   'Vertebrata',\n",
       "   'Euteleostomi',\n",
       "   'Mammalia',\n",
       "   'Eutheria',\n",
       "   'Euarchontoglires',\n",
       "   'Primates',\n",
       "   'Haplorrhini',\n",
       "   'Catarrhini',\n",
       "   'Hominidae',\n",
       "   'Homo']},\n",
       " 'genes': [{'geneName': {'value': 'SNAP25'}, 'synonyms': [{'value': 'SNAP'}]}],\n",
       " 'comments': [{'texts': [{'evidences': [{'evidenceCode': 'ECO:0000305'}],\n",
       "     'value': 'Belongs to the SNAP-25 family'}],\n",
       "   'commentType': 'SIMILARITY'}],\n",
       " 'features': [{'type': 'Domain',\n",
       "   'location': {'start': {'value': 19, 'modifier': 'EXACT'},\n",
       "    'end': {'value': 81, 'modifier': 'EXACT'}},\n",
       "   'description': 't-SNARE coiled-coil homology 1',\n",
       "   'evidences': [{'evidenceCode': 'ECO:0000255',\n",
       "     'source': 'PROSITE-ProRule',\n",
       "     'id': 'PRU00202'}]},\n",
       "  {'type': 'Domain',\n",
       "   'location': {'start': {'value': 140, 'modifier': 'EXACT'},\n",
       "    'end': {'value': 202, 'modifier': 'EXACT'}},\n",
       "   'description': 't-SNARE coiled-coil homology 2',\n",
       "   'evidences': [{'evidenceCode': 'ECO:0000255',\n",
       "     'source': 'PROSITE-ProRule',\n",
       "     'id': 'PRU00202'}]},\n",
       "  {'type': 'Region',\n",
       "   'location': {'start': {'value': 1, 'modifier': 'EXACT'},\n",
       "    'end': {'value': 75, 'modifier': 'EXACT'}},\n",
       "   'description': 'Interaction with CENPF',\n",
       "   'evidences': [{'evidenceCode': 'ECO:0000250'}]},\n",
       "  {'type': 'Region',\n",
       "   'location': {'start': {'value': 1, 'modifier': 'EXACT'},\n",
       "    'end': {'value': 23, 'modifier': 'EXACT'}},\n",
       "   'description': 'Disordered',\n",
       "   'evidences': [{'evidenceCode': 'ECO:0000256',\n",
       "     'source': 'SAM',\n",
       "     'id': 'MobiDB-lite'}]},\n",
       "  {'type': 'Region',\n",
       "   'location': {'start': {'value': 111, 'modifier': 'EXACT'},\n",
       "    'end': {'value': 120, 'modifier': 'EXACT'}},\n",
       "   'description': 'Interaction with ZDHHC17',\n",
       "   'evidences': [{'evidenceCode': 'ECO:0000269',\n",
       "     'source': 'PubMed',\n",
       "     'id': '28757145'}]},\n",
       "  {'type': 'Alternative sequence',\n",
       "   'location': {'start': {'value': 58, 'modifier': 'EXACT'},\n",
       "    'end': {'value': 89, 'modifier': 'EXACT'}},\n",
       "   'description': 'in isoform 2',\n",
       "   'evidences': [{'evidenceCode': 'ECO:0000303',\n",
       "     'source': 'PubMed',\n",
       "     'id': '14702039'},\n",
       "    {'evidenceCode': 'ECO:0000303', 'source': 'PubMed', 'id': '15489334'},\n",
       "    {'evidenceCode': 'ECO:0000303', 'source': 'PubMed', 'id': '8056350'},\n",
       "    {'evidenceCode': 'ECO:0000303', 'source': 'PubMed', 'id': '8112622'},\n",
       "    {'evidenceCode': 'ECO:0000303', 'source': 'Reference', 'id': 'Ref.4'}],\n",
       "   'featureId': 'VSP_006186',\n",
       "   'alternativeSequence': {'originalSequence': 'ERIEEGMDQINKDMKEAEKNLTDLGKFCGLCV',\n",
       "    'alternativeSequences': ['DRVEEGMNHINQDMKEAEKNLKDLGKCCGLFI']}},\n",
       "  {'type': 'Sequence conflict',\n",
       "   'location': {'start': {'value': 44, 'modifier': 'EXACT'},\n",
       "    'end': {'value': 44, 'modifier': 'EXACT'}},\n",
       "   'description': 'in Ref. 5; BAD97337',\n",
       "   'evidences': [{'evidenceCode': 'ECO:0000305'}],\n",
       "   'alternativeSequence': {'originalSequence': 'I',\n",
       "    'alternativeSequences': ['V']}}],\n",
       " 'sequence': {'value': 'MAEDADMRNELEEMQRRADQLADESLESTRRMLQLVEESKDAGIRTLVMLDEQGEQLERIEEGMDQINKDMKEAEKNLTDLGKFCGLCVCPCNKLKSSDAYKKAWGNNQDGVVASQPARVVDEREQMAISGGFIRRVTNDARENEMDENLEQVSGIIGNLRHMALDMGNEIDTQNRQIDRIMEKADSNKTRIDEANQRATKMLGSG',\n",
       "  'length': 206,\n",
       "  'molWeight': 23315,\n",
       "  'crc64': 'FBED2B082A4CB6A6',\n",
       "  'md5': 'BF9C69F64B0A1F741FCC0CBD0C262D49'}}"
      ]
     },
     "execution_count": 3,
     "metadata": {},
     "output_type": "execute_result"
    }
   ],
   "source": [
    "import json\n",
    "\n",
    "import requests\n",
    "\n",
    "api_url = \"https://rest.uniprot.org/uniprotkb/search\"\n",
    "\n",
    "snap25_accession = \"P60880\"\n",
    "data = {\"query\": snap25_accession, \"fields\": [\"id\", \"gene_names\", \"organism_name\", 'ft_coiled', 'ft_compbias', 'cc_domain',\n",
    " 'ft_domain',\n",
    " 'ft_motif',\n",
    " 'protein_families',\n",
    " 'ft_region',\n",
    " 'ft_repeat',\n",
    " 'ft_zn_fing', 'sequence',\n",
    " 'cc_sequence_caution',\n",
    " 'ft_conflict',\n",
    " 'ft_unsure',\n",
    " 'sequence_version', \n",
    "                                             'ft_var_seq']}\n",
    "\n",
    "# Thanks ChatGPT :)\n",
    "def fetch_data(url, params=None):\n",
    "    \"\"\"\n",
    "    Fetch data from a REST API endpoint.\n",
    "\n",
    "    :param url: URL of the REST API endpoint.\n",
    "    :param params: Dictionary of query parameters, defaults to None.\n",
    "    :return: Parsed JSON data from the API response.\n",
    "    \"\"\"\n",
    "    try:\n",
    "        response = requests.get(url, params=params)\n",
    "        # Check if the request was successful\n",
    "        response.raise_for_status()\n",
    "        \n",
    "        # Parse the JSON response\n",
    "        data = response.json()['results']\n",
    "        return data\n",
    "    except requests.exceptions.HTTPError as http_err:\n",
    "        print(f'HTTP error occurred: {http_err}')\n",
    "    except requests.exceptions.ConnectionError as conn_err:\n",
    "        print(f'Error connecting to the server: {conn_err}')\n",
    "    except requests.exceptions.Timeout as timeout_err:\n",
    "        print(f'Timeout error: {timeout_err}')\n",
    "    except requests.exceptions.RequestException as req_err:\n",
    "        print(f'An error occurred: {req_err}')\n",
    "    except json.JSONDecodeError as json_err:\n",
    "        print(f'Error decoding JSON: {json_err}')\n",
    "    except Exception as e:\n",
    "        print(f'An unexpected error occurred: {e}')\n",
    "    return None\n",
    "\n",
    "# response = requests.get(api_url, json=data)\n",
    "# response\n",
    "response = fetch_data(api_url, data)[0]\n",
    "response"
   ]
  },
  {
   "cell_type": "markdown",
   "id": "b4a70f79-c8dc-482c-95a5-fac5a18877fc",
   "metadata": {},
   "source": [
    "## Get the sequences (and k-mers) for each domain"
   ]
  },
  {
   "cell_type": "code",
   "execution_count": 4,
   "id": "3cd185eb-27e4-412e-875c-070594455920",
   "metadata": {},
   "outputs": [
    {
     "data": {
      "text/plain": [
       "[{'type': 'Domain',\n",
       "  'location': {'start': {'value': 19, 'modifier': 'EXACT'},\n",
       "   'end': {'value': 81, 'modifier': 'EXACT'}},\n",
       "  'description': 't-SNARE coiled-coil homology 1',\n",
       "  'evidences': [{'evidenceCode': 'ECO:0000255',\n",
       "    'source': 'PROSITE-ProRule',\n",
       "    'id': 'PRU00202'}],\n",
       "  'sequence': {'value': 'DQLADESLESTRRMLQLVEESKDAGIRTLVMLDEQGEQLERIEEGMDQINKDMKEAEKNLTDL',\n",
       "   'length': 63}},\n",
       " {'type': 'Domain',\n",
       "  'location': {'start': {'value': 140, 'modifier': 'EXACT'},\n",
       "   'end': {'value': 202, 'modifier': 'EXACT'}},\n",
       "  'description': 't-SNARE coiled-coil homology 2',\n",
       "  'evidences': [{'evidenceCode': 'ECO:0000255',\n",
       "    'source': 'PROSITE-ProRule',\n",
       "    'id': 'PRU00202'}],\n",
       "  'sequence': {'value': 'DARENEMDENLEQVSGIIGNLRHMALDMGNEIDTQNRQIDRIMEKADSNKTRIDEANQRATKM',\n",
       "   'length': 63}},\n",
       " {'type': 'Region',\n",
       "  'location': {'start': {'value': 1, 'modifier': 'EXACT'},\n",
       "   'end': {'value': 75, 'modifier': 'EXACT'}},\n",
       "  'description': 'Interaction with CENPF',\n",
       "  'evidences': [{'evidenceCode': 'ECO:0000250'}],\n",
       "  'sequence': {'value': 'MAEDADMRNELEEMQRRADQLADESLESTRRMLQLVEESKDAGIRTLVMLDEQGEQLERIEEGMDQINKDMKEAE',\n",
       "   'length': 75}},\n",
       " {'type': 'Region',\n",
       "  'location': {'start': {'value': 1, 'modifier': 'EXACT'},\n",
       "   'end': {'value': 23, 'modifier': 'EXACT'}},\n",
       "  'description': 'Disordered',\n",
       "  'evidences': [{'evidenceCode': 'ECO:0000256',\n",
       "    'source': 'SAM',\n",
       "    'id': 'MobiDB-lite'}],\n",
       "  'sequence': {'value': 'MAEDADMRNELEEMQRRADQLAD', 'length': 23}},\n",
       " {'type': 'Region',\n",
       "  'location': {'start': {'value': 111, 'modifier': 'EXACT'},\n",
       "   'end': {'value': 120, 'modifier': 'EXACT'}},\n",
       "  'description': 'Interaction with ZDHHC17',\n",
       "  'evidences': [{'evidenceCode': 'ECO:0000269',\n",
       "    'source': 'PubMed',\n",
       "    'id': '28757145'}],\n",
       "  'sequence': {'value': 'GVVASQPARV', 'length': 10}},\n",
       " {'type': 'Alternative sequence',\n",
       "  'location': {'start': {'value': 58, 'modifier': 'EXACT'},\n",
       "   'end': {'value': 89, 'modifier': 'EXACT'}},\n",
       "  'description': 'in isoform 2',\n",
       "  'evidences': [{'evidenceCode': 'ECO:0000303',\n",
       "    'source': 'PubMed',\n",
       "    'id': '14702039'},\n",
       "   {'evidenceCode': 'ECO:0000303', 'source': 'PubMed', 'id': '15489334'},\n",
       "   {'evidenceCode': 'ECO:0000303', 'source': 'PubMed', 'id': '8056350'},\n",
       "   {'evidenceCode': 'ECO:0000303', 'source': 'PubMed', 'id': '8112622'},\n",
       "   {'evidenceCode': 'ECO:0000303', 'source': 'Reference', 'id': 'Ref.4'}],\n",
       "  'featureId': 'VSP_006186',\n",
       "  'alternativeSequence': {'originalSequence': 'ERIEEGMDQINKDMKEAEKNLTDLGKFCGLCV',\n",
       "   'alternativeSequences': ['DRVEEGMNHINQDMKEAEKNLKDLGKCCGLFI']},\n",
       "  'sequence': {'value': 'ERIEEGMDQINKDMKEAEKNLTDLGKFCGLCV', 'length': 32}},\n",
       " {'type': 'Sequence conflict',\n",
       "  'location': {'start': {'value': 44, 'modifier': 'EXACT'},\n",
       "   'end': {'value': 44, 'modifier': 'EXACT'}},\n",
       "  'description': 'in Ref. 5; BAD97337',\n",
       "  'evidences': [{'evidenceCode': 'ECO:0000305'}],\n",
       "  'alternativeSequence': {'originalSequence': 'I',\n",
       "   'alternativeSequences': ['V']},\n",
       "  'sequence': {'value': 'I', 'length': 1}}]"
      ]
     },
     "execution_count": 4,
     "metadata": {},
     "output_type": "execute_result"
    }
   ],
   "source": [
    "full_sequence = response['sequence']['value']\n",
    "\n",
    "sequence_features = []\n",
    "\n",
    "for feature in response['features']:\n",
    "    start = feature['location']['start']['value']-1\n",
    "    end = feature['location']['end']['value']\n",
    "    feature_seq = full_sequence[start:end]\n",
    "    length = len(feature_seq)\n",
    "    feature['sequence'] = {'value': feature_seq, 'length': length}\n",
    "    sequence_features.append(feature)\n",
    "sequence_features"
   ]
  },
  {
   "cell_type": "markdown",
   "id": "a2065bc6-8112-4f07-8a2c-5c34bb31f8a3",
   "metadata": {},
   "source": [
    "## Make a sourmash signature and get underlying kmers"
   ]
  },
  {
   "cell_type": "code",
   "execution_count": 28,
   "id": "e9a07d92-f25a-4ccf-9766-d285e0397126",
   "metadata": {
    "editable": true,
    "slideshow": {
     "slide_type": ""
    },
    "tags": []
   },
   "outputs": [],
   "source": [
    "from sig2kmer import get_kmers_for_hashvals"
   ]
  },
  {
   "cell_type": "code",
   "execution_count": 35,
   "id": "062c9dd2-e67d-4b41-ba72-524e7a19872f",
   "metadata": {},
   "outputs": [
    {
     "data": {
      "text/plain": [
       "\u001b[0;31mType:\u001b[0m        module\n",
       "\u001b[0;31mString form:\u001b[0m <module 'sourmash.command_sketch' from '/Users/olgabot/anaconda3/envs/sourmash-v4.8.6/lib/python3.12/site-packages/sourmash/command_sketch.py'>\n",
       "\u001b[0;31mFile:\u001b[0m        ~/anaconda3/envs/sourmash-v4.8.6/lib/python3.12/site-packages/sourmash/command_sketch.py\n",
       "\u001b[0;31mDocstring:\u001b[0m   Functions implementing the 'sketch' subcommands and related functions."
      ]
     },
     "metadata": {},
     "output_type": "display_data"
    }
   ],
   "source": [
    "import sourmash"
   ]
  },
  {
   "cell_type": "code",
   "execution_count": 37,
   "id": "00222402-5195-4e33-a6ed-7b3f2b8fe4f2",
   "metadata": {},
   "outputs": [
    {
     "data": {
      "text/plain": [
       "42"
      ]
     },
     "execution_count": 37,
     "metadata": {},
     "output_type": "execute_result"
    }
   ],
   "source": []
  },
  {
   "cell_type": "code",
   "execution_count": 41,
   "id": "c9c9db86-6ff1-4dd1-a021-d44b85501b22",
   "metadata": {},
   "outputs": [
    {
     "data": {
      "text/plain": [
       "SourmashSignature('', 1ff1de77)"
      ]
     },
     "execution_count": 41,
     "metadata": {},
     "output_type": "execute_result"
    }
   ],
   "source": [
    "params = sourmash.command_compute.ComputeParameters(            ksizes=[24, 27, 30],\n",
    "            seed=sourmash.DEFAULT_SEED,\n",
    "            protein=True,\n",
    "            dayhoff=False,\n",
    "            hp=True,\n",
    "            dna=False,\n",
    "            num_hashes=0,\n",
    "            track_abundance=False,\n",
    "            scaled=1)\n",
    "\n",
    "sourmash.signature.SourmashSignature.from_params(params)"
   ]
  },
  {
   "cell_type": "code",
   "execution_count": 32,
   "id": "cfbd557a-9661-4d54-b215-6f792e39ead5",
   "metadata": {},
   "outputs": [
    {
     "name": "stdout",
     "output_type": "stream",
     "text": [
      "1.95 µs ± 148 ns per loop (mean ± std. dev. of 7 runs, 1,000,000 loops each)\n"
     ]
    }
   ],
   "source": [
    "%timeit sig2kmer.degenerate_protein_chatgpt(\"LIVE\", 'hp')"
   ]
  },
  {
   "cell_type": "code",
   "execution_count": 34,
   "id": "ea11b79d-aa24-4863-9d21-23f0617e4daa",
   "metadata": {},
   "outputs": [
    {
     "name": "stdout",
     "output_type": "stream",
     "text": [
      "2.12 µs ± 259 ns per loop (mean ± std. dev. of 7 runs, 100,000 loops each)\n"
     ]
    }
   ],
   "source": [
    "%timeit sig2kmer.degenerate_protein(\"LIVE\", 'hp')"
   ]
  },
  {
   "cell_type": "code",
   "execution_count": null,
   "id": "1d1fd7a4-6088-482a-8e8f-474e2982f4de",
   "metadata": {},
   "outputs": [],
   "source": [
    "byte_encoded"
   ]
  },
  {
   "cell_type": "code",
   "execution_count": null,
   "id": "cfaad341-8af2-4c6c-a53b-428be534549f",
   "metadata": {},
   "outputs": [],
   "source": []
  },
  {
   "cell_type": "code",
   "execution_count": 20,
   "id": "c3011676-ba8b-47f9-b1ab-678eda1a736f",
   "metadata": {},
   "outputs": [
    {
     "data": {
      "text/plain": [
       "76"
      ]
     },
     "execution_count": 20,
     "metadata": {},
     "output_type": "execute_result"
    }
   ],
   "source": [
    "letter"
   ]
  },
  {
   "cell_type": "code",
   "execution_count": 19,
   "id": "bdda5327-67d3-4761-b3d6-22798b661021",
   "metadata": {},
   "outputs": [
    {
     "data": {
      "text/plain": [
       "b'h'"
      ]
     },
     "execution_count": 19,
     "metadata": {},
     "output_type": "execute_result"
    }
   ],
   "source": [
    "sourmash._lowlevel.lib.sourmash_aa_to_hp(b'A')"
   ]
  },
  {
   "cell_type": "code",
   "execution_count": 18,
   "id": "87a5a328-000f-4e4a-a939-05c7fb04081f",
   "metadata": {},
   "outputs": [
    {
     "data": {
      "text/plain": [
       "b'LIVE'"
      ]
     },
     "execution_count": 18,
     "metadata": {},
     "output_type": "execute_result"
    }
   ],
   "source": [
    "byte_encoded"
   ]
  },
  {
   "cell_type": "code",
   "execution_count": 13,
   "id": "ad250b74-c0ce-4546-8709-3d5b08a697c0",
   "metadata": {},
   "outputs": [
    {
     "ename": "TypeError",
     "evalue": "initializer for ctype 'char' must be a bytes of length 1, not bytes",
     "output_type": "error",
     "traceback": [
      "\u001b[0;31m---------------------------------------------------------------------------\u001b[0m",
      "\u001b[0;31mTypeError\u001b[0m                                 Traceback (most recent call last)",
      "Cell \u001b[0;32mIn[13], line 1\u001b[0m\n\u001b[0;32m----> 1\u001b[0m \u001b[43msourmash\u001b[49m\u001b[38;5;241;43m.\u001b[39;49m\u001b[43m_lowlevel\u001b[49m\u001b[38;5;241;43m.\u001b[39;49m\u001b[43mlib\u001b[49m\u001b[38;5;241;43m.\u001b[39;49m\u001b[43msourmash_aa_to_hp\u001b[49m\u001b[43m(\u001b[49m\u001b[38;5;124;43m\"\u001b[39;49m\u001b[38;5;124;43mLIVE\u001b[39;49m\u001b[38;5;124;43m\"\u001b[39;49m\u001b[38;5;241;43m.\u001b[39;49m\u001b[43mencode\u001b[49m\u001b[43m(\u001b[49m\u001b[38;5;124;43m'\u001b[39;49m\u001b[38;5;124;43mutf-8\u001b[39;49m\u001b[38;5;124;43m'\u001b[39;49m\u001b[43m)\u001b[49m\u001b[43m)\u001b[49m\n",
      "\u001b[0;31mTypeError\u001b[0m: initializer for ctype 'char' must be a bytes of length 1, not bytes"
     ]
    }
   ],
   "source": []
  },
  {
   "cell_type": "markdown",
   "id": "69248424-b565-4872-bedc-9bf27eba668d",
   "metadata": {},
   "source": [
    "# Query for human reviewed sequences"
   ]
  },
  {
   "cell_type": "code",
   "execution_count": null,
   "id": "f5f5ace9-bbd6-44db-a05d-bda023f30e98",
   "metadata": {},
   "outputs": [],
   "source": [
    "human_reviewed_query = '(organism_id:9606) AND (reviewed:true)'"
   ]
  }
 ],
 "metadata": {
  "kernelspec": {
   "display_name": "Python [conda env:sourmash-v4.8.6]",
   "language": "python",
   "name": "conda-env-sourmash-v4.8.6-py"
  },
  "language_info": {
   "codemirror_mode": {
    "name": "ipython",
    "version": 3
   },
   "file_extension": ".py",
   "mimetype": "text/x-python",
   "name": "python",
   "nbconvert_exporter": "python",
   "pygments_lexer": "ipython3",
   "version": "3.12.2"
  }
 },
 "nbformat": 4,
 "nbformat_minor": 5
}
