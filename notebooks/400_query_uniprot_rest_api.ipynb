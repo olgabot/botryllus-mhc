{
 "cells": [
  {
   "cell_type": "code",
   "execution_count": 4,
   "id": "a79fe838-b29e-4ed4-ac5b-625f50352f50",
   "metadata": {},
   "outputs": [
    {
     "data": {
      "text/plain": [
       "<Response [400]>"
      ]
     },
     "execution_count": 4,
     "metadata": {},
     "output_type": "execute_result"
    }
   ],
   "source": [
    "import requests\n",
    "\n",
    "api_url = \"https://rest.uniprot.org/uniprotkb/search\"\n",
    "\n",
    "snap25_accession = \"P60880\"\n",
    "data = {\"query\": snap25_accession, \"fields\": [\"id\", \"gene_names\", \"organism_name\"]}\n",
    "\n",
    "# headers = \n",
    "\n",
    "response = requests.get(api_url, json=data)\n",
    "response"
   ]
  },
  {
   "cell_type": "markdown",
   "id": "7aca937b-7fe6-43c4-948f-ceeadfdbd8aa",
   "metadata": {},
   "source": [
    "# References\n",
    "\n",
    "- [Uniprot API: Programmatic access - Retrieving entries via queries](https://www.uniprot.org/help/api_queries)\n",
    "- [Programmatic access - Retrieving individual entries\n",
    "](https://www.uniprot.org/help/api_retrieve_entries)\n",
    "- **[REST API - Access the UniProt website programmatically](https://www.uniprot.org/help/api)**\n",
    "- **[REST API - Retrieve entries](https://www.uniprot.org/help/api_retrieve_entries)**\n",
    "- **[REST API - ID Mapping](https://www.uniprot.org/help/id_mapping)**\n",
    "- **[REST API - Retrieving entries via queries](https://www.uniprot.org/help/api_queries)**\n",
    "- **[REST API - Downloading](https://www.uniprot.org/help/api_downloading)**"
   ]
  },
  {
   "cell_type": "code",
   "execution_count": null,
   "id": "f5f5ace9-bbd6-44db-a05d-bda023f30e98",
   "metadata": {},
   "outputs": [],
   "source": []
  }
 ],
 "metadata": {
  "kernelspec": {
   "display_name": "Python 3 (ipykernel)",
   "language": "python",
   "name": "python3"
  },
  "language_info": {
   "codemirror_mode": {
    "name": "ipython",
    "version": 3
   },
   "file_extension": ".py",
   "mimetype": "text/x-python",
   "name": "python",
   "nbconvert_exporter": "python",
   "pygments_lexer": "ipython3",
   "version": "3.11.5"
  }
 },
 "nbformat": 4,
 "nbformat_minor": 5
}
