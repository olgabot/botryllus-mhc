{
 "cells": [
  {
   "cell_type": "code",
   "execution_count": 4,
   "id": "a79fe838-b29e-4ed4-ac5b-625f50352f50",
   "metadata": {},
   "outputs": [
    {
     "data": {
      "text/plain": [
       "<Response [400]>"
      ]
     },
     "execution_count": 4,
     "metadata": {},
     "output_type": "execute_result"
    }
   ],
   "source": [
    "import requests\n",
    "\n",
    "api_url = \"https://rest.uniprot.org/uniprotkb/search\"\n",
    "\n",
    "snap25_accession = \"P60880\"\n",
    "data = {\"query\": snap25_accession, \"fields\": [\"id\", \"gene_names\", \"organism_name\"]}\n",
    "\n",
    "# headers = \n",
    "\n",
    "response = requests.get(api_url, json=data)\n",
    "response"
   ]
  },
  {
   "cell_type": "code",
   "execution_count": null,
   "id": "fe57b1bf-5fbb-4269-a824-99bf774f27ae",
   "metadata": {},
   "outputs": [],
   "source": []
  }
 ],
 "metadata": {
  "kernelspec": {
   "display_name": "Python 3 (ipykernel)",
   "language": "python",
   "name": "python3"
  },
  "language_info": {
   "codemirror_mode": {
    "name": "ipython",
    "version": 3
   },
   "file_extension": ".py",
   "mimetype": "text/x-python",
   "name": "python",
   "nbconvert_exporter": "python",
   "pygments_lexer": "ipython3",
   "version": "3.11.5"
  }
 },
 "nbformat": 4,
 "nbformat_minor": 5
}
