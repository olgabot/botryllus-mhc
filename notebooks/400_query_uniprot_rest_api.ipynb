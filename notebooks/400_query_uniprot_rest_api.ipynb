{
 "cells": [
  {
   "cell_type": "code",
   "execution_count": 1,
   "id": "6690a607-d823-4ff0-ab17-dac921524a4f",
   "metadata": {},
   "outputs": [],
   "source": [
    "%load_ext autoreload\n",
    "%autoreload 2"
   ]
  },
  {
   "cell_type": "markdown",
   "id": "8fa2b3ea-9347-4552-a178-a03ba1b86665",
   "metadata": {},
   "source": [
    "# References\n",
    "\n",
    "Where to get domain information:\n",
    "- [UniProtKB column names for programmatic access\n",
    "](https://www.uniprot.org/help/return_fields)\n",
    "\n",
    "General Uniprot API\n",
    "- [Uniprot API: Programmatic access - Retrieving entries via queries](https://www.uniprot.org/help/api_queries)\n",
    "- [Programmatic access - Retrieving individual entries\n",
    "](https://www.uniprot.org/help/api_retrieve_entries)\n",
    "- **[REST API - Access the UniProt website programmatically](https://www.uniprot.org/help/api)**\n",
    "- **[REST API - Retrieve entries](https://www.uniprot.org/help/api_retrieve_entries)**\n",
    "- **[REST API - ID Mapping](https://www.uniprot.org/help/id_mapping)**\n",
    "- **[REST API - Retrieving entries via queries](https://www.uniprot.org/help/api_queries)**\n",
    "- **[REST API - Downloading](https://www.uniprot.org/help/api_downloading)**"
   ]
  },
  {
   "cell_type": "markdown",
   "id": "b09489c9-b59a-4a2a-8a8b-491a5afa6af8",
   "metadata": {},
   "source": [
    "# Read in UniProt API request data "
   ]
  },
  {
   "cell_type": "code",
   "execution_count": 2,
   "id": "a79fe838-b29e-4ed4-ac5b-625f50352f50",
   "metadata": {
    "editable": true,
    "slideshow": {
     "slide_type": ""
    },
    "tags": []
   },
   "outputs": [
    {
     "data": {
      "text/plain": [
       "{'entryType': 'UniProtKB reviewed (Swiss-Prot)',\n",
       " 'primaryAccession': 'P60880',\n",
       " 'uniProtkbId': 'SNP25_HUMAN',\n",
       " 'entryAudit': {'sequenceVersion': 1},\n",
       " 'organism': {'scientificName': 'Homo sapiens',\n",
       "  'commonName': 'Human',\n",
       "  'taxonId': 9606,\n",
       "  'lineage': ['Eukaryota',\n",
       "   'Metazoa',\n",
       "   'Chordata',\n",
       "   'Craniata',\n",
       "   'Vertebrata',\n",
       "   'Euteleostomi',\n",
       "   'Mammalia',\n",
       "   'Eutheria',\n",
       "   'Euarchontoglires',\n",
       "   'Primates',\n",
       "   'Haplorrhini',\n",
       "   'Catarrhini',\n",
       "   'Hominidae',\n",
       "   'Homo']},\n",
       " 'genes': [{'geneName': {'value': 'SNAP25'}, 'synonyms': [{'value': 'SNAP'}]}],\n",
       " 'comments': [{'texts': [{'evidences': [{'evidenceCode': 'ECO:0000305'}],\n",
       "     'value': 'Belongs to the SNAP-25 family'}],\n",
       "   'commentType': 'SIMILARITY'}],\n",
       " 'features': [{'type': 'Domain',\n",
       "   'location': {'start': {'value': 19, 'modifier': 'EXACT'},\n",
       "    'end': {'value': 81, 'modifier': 'EXACT'}},\n",
       "   'description': 't-SNARE coiled-coil homology 1',\n",
       "   'evidences': [{'evidenceCode': 'ECO:0000255',\n",
       "     'source': 'PROSITE-ProRule',\n",
       "     'id': 'PRU00202'}]},\n",
       "  {'type': 'Domain',\n",
       "   'location': {'start': {'value': 140, 'modifier': 'EXACT'},\n",
       "    'end': {'value': 202, 'modifier': 'EXACT'}},\n",
       "   'description': 't-SNARE coiled-coil homology 2',\n",
       "   'evidences': [{'evidenceCode': 'ECO:0000255',\n",
       "     'source': 'PROSITE-ProRule',\n",
       "     'id': 'PRU00202'}]},\n",
       "  {'type': 'Region',\n",
       "   'location': {'start': {'value': 1, 'modifier': 'EXACT'},\n",
       "    'end': {'value': 75, 'modifier': 'EXACT'}},\n",
       "   'description': 'Interaction with CENPF',\n",
       "   'evidences': [{'evidenceCode': 'ECO:0000250'}]},\n",
       "  {'type': 'Region',\n",
       "   'location': {'start': {'value': 1, 'modifier': 'EXACT'},\n",
       "    'end': {'value': 23, 'modifier': 'EXACT'}},\n",
       "   'description': 'Disordered',\n",
       "   'evidences': [{'evidenceCode': 'ECO:0000256',\n",
       "     'source': 'SAM',\n",
       "     'id': 'MobiDB-lite'}]},\n",
       "  {'type': 'Region',\n",
       "   'location': {'start': {'value': 111, 'modifier': 'EXACT'},\n",
       "    'end': {'value': 120, 'modifier': 'EXACT'}},\n",
       "   'description': 'Interaction with ZDHHC17',\n",
       "   'evidences': [{'evidenceCode': 'ECO:0000269',\n",
       "     'source': 'PubMed',\n",
       "     'id': '28757145'}]},\n",
       "  {'type': 'Alternative sequence',\n",
       "   'location': {'start': {'value': 58, 'modifier': 'EXACT'},\n",
       "    'end': {'value': 89, 'modifier': 'EXACT'}},\n",
       "   'description': 'in isoform 2',\n",
       "   'evidences': [{'evidenceCode': 'ECO:0000303',\n",
       "     'source': 'PubMed',\n",
       "     'id': '14702039'},\n",
       "    {'evidenceCode': 'ECO:0000303', 'source': 'PubMed', 'id': '15489334'},\n",
       "    {'evidenceCode': 'ECO:0000303', 'source': 'PubMed', 'id': '8056350'},\n",
       "    {'evidenceCode': 'ECO:0000303', 'source': 'PubMed', 'id': '8112622'},\n",
       "    {'evidenceCode': 'ECO:0000303', 'source': 'Reference', 'id': 'Ref.4'}],\n",
       "   'featureId': 'VSP_006186',\n",
       "   'alternativeSequence': {'originalSequence': 'ERIEEGMDQINKDMKEAEKNLTDLGKFCGLCV',\n",
       "    'alternativeSequences': ['DRVEEGMNHINQDMKEAEKNLKDLGKCCGLFI']}},\n",
       "  {'type': 'Sequence conflict',\n",
       "   'location': {'start': {'value': 44, 'modifier': 'EXACT'},\n",
       "    'end': {'value': 44, 'modifier': 'EXACT'}},\n",
       "   'description': 'in Ref. 5; BAD97337',\n",
       "   'evidences': [{'evidenceCode': 'ECO:0000305'}],\n",
       "   'alternativeSequence': {'originalSequence': 'I',\n",
       "    'alternativeSequences': ['V']}}],\n",
       " 'sequence': {'value': 'MAEDADMRNELEEMQRRADQLADESLESTRRMLQLVEESKDAGIRTLVMLDEQGEQLERIEEGMDQINKDMKEAEKNLTDLGKFCGLCVCPCNKLKSSDAYKKAWGNNQDGVVASQPARVVDEREQMAISGGFIRRVTNDARENEMDENLEQVSGIIGNLRHMALDMGNEIDTQNRQIDRIMEKADSNKTRIDEANQRATKMLGSG',\n",
       "  'length': 206,\n",
       "  'molWeight': 23315,\n",
       "  'crc64': 'FBED2B082A4CB6A6',\n",
       "  'md5': 'BF9C69F64B0A1F741FCC0CBD0C262D49'}}"
      ]
     },
     "execution_count": 2,
     "metadata": {},
     "output_type": "execute_result"
    }
   ],
   "source": [
    "import json\n",
    "\n",
    "import requests\n",
    "\n",
    "api_url = \"https://rest.uniprot.org/uniprotkb/search\"\n",
    "\n",
    "snap25_accession = \"P60880\"\n",
    "data = {\n",
    "    \"query\": snap25_accession,\n",
    "    \"fields\": [\n",
    "        \"id\",\n",
    "        \"gene_names\",\n",
    "        \"organism_name\",\n",
    "        \"ft_coiled\",\n",
    "        \"ft_compbias\",\n",
    "        \"cc_domain\",\n",
    "        \"ft_domain\",\n",
    "        \"ft_motif\",\n",
    "        \"protein_families\",\n",
    "        \"ft_region\",\n",
    "        \"ft_repeat\",\n",
    "        \"ft_zn_fing\",\n",
    "        \"sequence\",\n",
    "        \"cc_sequence_caution\",\n",
    "        \"ft_conflict\",\n",
    "        \"ft_unsure\",\n",
    "        \"sequence_version\",\n",
    "        \"ft_var_seq\",\n",
    "    ],\n",
    "}\n",
    "\n",
    "\n",
    "# Thanks ChatGPT :)\n",
    "def fetch_data(url, params=None):\n",
    "    \"\"\"\n",
    "    Fetch data from a REST API endpoint.\n",
    "\n",
    "    :param url: URL of the REST API endpoint.\n",
    "    :param params: Dictionary of query parameters, defaults to None.\n",
    "    :return: Parsed JSON data from the API response.\n",
    "    \"\"\"\n",
    "    try:\n",
    "        response = requests.get(url, params=params)\n",
    "        # Check if the request was successful\n",
    "        response.raise_for_status()\n",
    "\n",
    "        # Parse the JSON response\n",
    "        data = response.json()[\"results\"]\n",
    "        return data\n",
    "    except requests.exceptions.HTTPError as http_err:\n",
    "        print(f\"HTTP error occurred: {http_err}\")\n",
    "    except requests.exceptions.ConnectionError as conn_err:\n",
    "        print(f\"Error connecting to the server: {conn_err}\")\n",
    "    except requests.exceptions.Timeout as timeout_err:\n",
    "        print(f\"Timeout error: {timeout_err}\")\n",
    "    except requests.exceptions.RequestException as req_err:\n",
    "        print(f\"An error occurred: {req_err}\")\n",
    "    except json.JSONDecodeError as json_err:\n",
    "        print(f\"Error decoding JSON: {json_err}\")\n",
    "    except Exception as e:\n",
    "        print(f\"An unexpected error occurred: {e}\")\n",
    "    return None\n",
    "\n",
    "\n",
    "# response = requests.get(api_url, json=data)\n",
    "# response\n",
    "response = fetch_data(api_url, data)[0]\n",
    "response"
   ]
  },
  {
   "cell_type": "markdown",
   "id": "b4a70f79-c8dc-482c-95a5-fac5a18877fc",
   "metadata": {},
   "source": [
    "## Get the sequences (and k-mers) for each domain"
   ]
  },
  {
   "cell_type": "code",
   "execution_count": 3,
   "id": "3cd185eb-27e4-412e-875c-070594455920",
   "metadata": {},
   "outputs": [
    {
     "data": {
      "text/plain": [
       "[{'type': 'Domain',\n",
       "  'location': {'start': {'value': 19, 'modifier': 'EXACT'},\n",
       "   'end': {'value': 81, 'modifier': 'EXACT'}},\n",
       "  'description': 't-SNARE coiled-coil homology 1',\n",
       "  'evidences': [{'evidenceCode': 'ECO:0000255',\n",
       "    'source': 'PROSITE-ProRule',\n",
       "    'id': 'PRU00202'}],\n",
       "  'sequence': {'value': 'DQLADESLESTRRMLQLVEESKDAGIRTLVMLDEQGEQLERIEEGMDQINKDMKEAEKNLTDL',\n",
       "   'length': 63}},\n",
       " {'type': 'Domain',\n",
       "  'location': {'start': {'value': 140, 'modifier': 'EXACT'},\n",
       "   'end': {'value': 202, 'modifier': 'EXACT'}},\n",
       "  'description': 't-SNARE coiled-coil homology 2',\n",
       "  'evidences': [{'evidenceCode': 'ECO:0000255',\n",
       "    'source': 'PROSITE-ProRule',\n",
       "    'id': 'PRU00202'}],\n",
       "  'sequence': {'value': 'DARENEMDENLEQVSGIIGNLRHMALDMGNEIDTQNRQIDRIMEKADSNKTRIDEANQRATKM',\n",
       "   'length': 63}},\n",
       " {'type': 'Region',\n",
       "  'location': {'start': {'value': 1, 'modifier': 'EXACT'},\n",
       "   'end': {'value': 75, 'modifier': 'EXACT'}},\n",
       "  'description': 'Interaction with CENPF',\n",
       "  'evidences': [{'evidenceCode': 'ECO:0000250'}],\n",
       "  'sequence': {'value': 'MAEDADMRNELEEMQRRADQLADESLESTRRMLQLVEESKDAGIRTLVMLDEQGEQLERIEEGMDQINKDMKEAE',\n",
       "   'length': 75}},\n",
       " {'type': 'Region',\n",
       "  'location': {'start': {'value': 1, 'modifier': 'EXACT'},\n",
       "   'end': {'value': 23, 'modifier': 'EXACT'}},\n",
       "  'description': 'Disordered',\n",
       "  'evidences': [{'evidenceCode': 'ECO:0000256',\n",
       "    'source': 'SAM',\n",
       "    'id': 'MobiDB-lite'}],\n",
       "  'sequence': {'value': 'MAEDADMRNELEEMQRRADQLAD', 'length': 23}},\n",
       " {'type': 'Region',\n",
       "  'location': {'start': {'value': 111, 'modifier': 'EXACT'},\n",
       "   'end': {'value': 120, 'modifier': 'EXACT'}},\n",
       "  'description': 'Interaction with ZDHHC17',\n",
       "  'evidences': [{'evidenceCode': 'ECO:0000269',\n",
       "    'source': 'PubMed',\n",
       "    'id': '28757145'}],\n",
       "  'sequence': {'value': 'GVVASQPARV', 'length': 10}},\n",
       " {'type': 'Alternative sequence',\n",
       "  'location': {'start': {'value': 58, 'modifier': 'EXACT'},\n",
       "   'end': {'value': 89, 'modifier': 'EXACT'}},\n",
       "  'description': 'in isoform 2',\n",
       "  'evidences': [{'evidenceCode': 'ECO:0000303',\n",
       "    'source': 'PubMed',\n",
       "    'id': '14702039'},\n",
       "   {'evidenceCode': 'ECO:0000303', 'source': 'PubMed', 'id': '15489334'},\n",
       "   {'evidenceCode': 'ECO:0000303', 'source': 'PubMed', 'id': '8056350'},\n",
       "   {'evidenceCode': 'ECO:0000303', 'source': 'PubMed', 'id': '8112622'},\n",
       "   {'evidenceCode': 'ECO:0000303', 'source': 'Reference', 'id': 'Ref.4'}],\n",
       "  'featureId': 'VSP_006186',\n",
       "  'alternativeSequence': {'originalSequence': 'ERIEEGMDQINKDMKEAEKNLTDLGKFCGLCV',\n",
       "   'alternativeSequences': ['DRVEEGMNHINQDMKEAEKNLKDLGKCCGLFI']},\n",
       "  'sequence': {'value': 'ERIEEGMDQINKDMKEAEKNLTDLGKFCGLCV', 'length': 32}},\n",
       " {'type': 'Sequence conflict',\n",
       "  'location': {'start': {'value': 44, 'modifier': 'EXACT'},\n",
       "   'end': {'value': 44, 'modifier': 'EXACT'}},\n",
       "  'description': 'in Ref. 5; BAD97337',\n",
       "  'evidences': [{'evidenceCode': 'ECO:0000305'}],\n",
       "  'alternativeSequence': {'originalSequence': 'I',\n",
       "   'alternativeSequences': ['V']},\n",
       "  'sequence': {'value': 'I', 'length': 1}}]"
      ]
     },
     "execution_count": 3,
     "metadata": {},
     "output_type": "execute_result"
    }
   ],
   "source": [
    "full_sequence = response[\"sequence\"][\"value\"]\n",
    "\n",
    "sequence_features = []\n",
    "\n",
    "for feature in response[\"features\"]:\n",
    "    start = feature[\"location\"][\"start\"][\"value\"] - 1\n",
    "    end = feature[\"location\"][\"end\"][\"value\"]\n",
    "    feature_seq = full_sequence[start:end]\n",
    "    length = len(feature_seq)\n",
    "    feature[\"sequence\"] = {\"value\": feature_seq, \"length\": length}\n",
    "    sequence_features.append(feature)\n",
    "sequence_features"
   ]
  },
  {
   "cell_type": "markdown",
   "id": "a2065bc6-8112-4f07-8a2c-5c34bb31f8a3",
   "metadata": {},
   "source": [
    "## Make a sourmash signature and get underlying kmers"
   ]
  },
  {
   "cell_type": "code",
   "execution_count": 4,
   "id": "e9a07d92-f25a-4ccf-9766-d285e0397126",
   "metadata": {
    "editable": true,
    "slideshow": {
     "slide_type": ""
    },
    "tags": []
   },
   "outputs": [],
   "source": [
    "import sig2kmer\n",
    "\n",
    "# from sig2kmer import get_kmers_for_hashvals"
   ]
  },
  {
   "cell_type": "code",
   "execution_count": 5,
   "id": "062c9dd2-e67d-4b41-ba72-524e7a19872f",
   "metadata": {},
   "outputs": [],
   "source": [
    "import sourmash"
   ]
  },
  {
   "cell_type": "code",
   "execution_count": 8,
   "id": "e9514fac-66ce-498c-a846-1b190a3dda89",
   "metadata": {},
   "outputs": [
    {
     "data": {
      "text/plain": [
       "'hp'"
      ]
     },
     "execution_count": 8,
     "metadata": {},
     "output_type": "execute_result"
    }
   ],
   "source": [
    "def create_signature_from_sequence(\n",
    "    sequence: str,\n",
    "    protein_ksizes=[27],\n",
    "    seed=sourmash.DEFAULT_SEED,\n",
    "    protein=False,\n",
    "    dayhoff=False,\n",
    "    hp=True,\n",
    "    dna=False,\n",
    "    num_hashes=0,\n",
    "    track_abundance=True,\n",
    "    scaled=1,\n",
    "):\n",
    "    \"\"\"\n",
    "    protein_ksizes : list of ints\n",
    "        This is the length of the k-mer in the amino acid sequence\n",
    "    \"\"\"\n",
    "\n",
    "    # Multiply by three to get DNA-based ksizes\n",
    "    # This is necessary because all the ksizes in sourmash are relative to DNA\n",
    "    dna_ksizes = [k * 3 for k in protein_ksizes]\n",
    "\n",
    "    params = sourmash.command_compute.ComputeParameters(\n",
    "        ksizes=dna_ksizes,\n",
    "        seed=seed,\n",
    "        protein=protein,\n",
    "        dayhoff=dayhoff,\n",
    "        hp=hp,\n",
    "        dna=dna,\n",
    "        num_hashes=num_hashes,\n",
    "        track_abundance=track_abundance,\n",
    "        scaled=scaled,\n",
    "    )\n",
    "\n",
    "    sig = sourmash.signature.SourmashSignature.from_params(params)\n",
    "\n",
    "    sig.add_protein(sequence)\n",
    "    return sig\n",
    "\n",
    "\n",
    "sequence = response[\"sequence\"][\"value\"]\n",
    "\n",
    "sig = create_signature_from_sequence(sequence)\n",
    "sig\n",
    "\n",
    "sig.minhash.moltype"
   ]
  },
  {
   "cell_type": "code",
   "execution_count": 9,
   "id": "26ab238a-779c-45bd-a626-c1741edc20dc",
   "metadata": {},
   "outputs": [
    {
     "data": {
      "text/plain": [
       "27"
      ]
     },
     "execution_count": 9,
     "metadata": {},
     "output_type": "execute_result"
    }
   ],
   "source": [
    "sig.minhash.ksize"
   ]
  },
  {
   "cell_type": "code",
   "execution_count": 10,
   "id": "fb3c943d-be62-47a8-83d1-b695e2763739",
   "metadata": {},
   "outputs": [
    {
     "data": {
      "text/plain": [
       "206"
      ]
     },
     "execution_count": 10,
     "metadata": {},
     "output_type": "execute_result"
    }
   ],
   "source": [
    "len(sequence)"
   ]
  },
  {
   "cell_type": "code",
   "execution_count": 11,
   "id": "2ccc20a5-387d-4033-881c-3e3017df5171",
   "metadata": {},
   "outputs": [
    {
     "data": {
      "text/plain": [
       "180"
      ]
     },
     "execution_count": 11,
     "metadata": {},
     "output_type": "execute_result"
    }
   ],
   "source": [
    "len(sig.minhash.hashes)"
   ]
  },
  {
   "cell_type": "code",
   "execution_count": 12,
   "id": "301489f9-5a2a-4e2c-91ac-2dd389292b64",
   "metadata": {},
   "outputs": [],
   "source": [
    "# sig.minhash.hashes"
   ]
  },
  {
   "cell_type": "code",
   "execution_count": 13,
   "id": "613df077-67a3-421e-bf00-541361958635",
   "metadata": {},
   "outputs": [
    {
     "data": {
      "text/plain": [
       "False"
      ]
     },
     "execution_count": 13,
     "metadata": {},
     "output_type": "execute_result"
    }
   ],
   "source": [
    "18435018991608296529 in sig.minhash.hashes.keys()"
   ]
  },
  {
   "cell_type": "code",
   "execution_count": 14,
   "id": "bcaf284f-f239-46a2-8046-064fccf17089",
   "metadata": {},
   "outputs": [
    {
     "data": {
      "text/plain": [
       "7372733179435548602"
      ]
     },
     "execution_count": 14,
     "metadata": {},
     "output_type": "execute_result"
    }
   ],
   "source": [
    "sig2kmer.hash_murmur(\"hhpphphppphpphppphpphhppphp\")"
   ]
  },
  {
   "cell_type": "code",
   "execution_count": 15,
   "id": "8df8928a-79a3-4ddc-9e4e-d957575b5e5e",
   "metadata": {},
   "outputs": [
    {
     "data": {
      "text/plain": [
       "7372733179435548602"
      ]
     },
     "execution_count": 15,
     "metadata": {},
     "output_type": "execute_result"
    }
   ],
   "source": [
    "sig2kmer.hash_murmur(b\"hhpphphppphpphppphpphhppphp\")"
   ]
  },
  {
   "cell_type": "code",
   "execution_count": 16,
   "id": "c635853a-10f7-478e-b5ed-ac6d1ed9dbd2",
   "metadata": {},
   "outputs": [
    {
     "data": {
      "text/plain": [
       "True"
      ]
     },
     "execution_count": 16,
     "metadata": {},
     "output_type": "execute_result"
    }
   ],
   "source": [
    "sig2kmer.hash_murmur(b\"hhpphphppphpphppphpphhppphp\") in sig.minhash.hashes.keys()"
   ]
  },
  {
   "cell_type": "code",
   "execution_count": 17,
   "id": "3f750cac-756a-48a7-ae25-64557b32ddf9",
   "metadata": {},
   "outputs": [],
   "source": [
    "import csv\n",
    "import gzip"
   ]
  },
  {
   "cell_type": "markdown",
   "id": "04373bb8-fc9a-4d4c-9313-7e90cc859cf6",
   "metadata": {},
   "source": [
    "Taxonomy/species data information"
   ]
  },
  {
   "cell_type": "raw",
   "id": "0f1b785b-07d0-4f27-b903-fa2d344e1b8f",
   "metadata": {},
   "source": [
    "{'entryType': 'UniProtKB reviewed (Swiss-Prot)',\n",
    " 'primaryAccession': 'P60880',\n",
    " 'uniProtkbId': 'SNP25_HUMAN',\n",
    " 'entryAudit': {'sequenceVersion': 1},\n",
    " 'organism': {'scientificName': 'Homo sapiens',\n",
    "  'commonName': 'Human',\n",
    "  'taxonId': 9606,\n",
    "  'lineage': ['Eukaryota',\n",
    "   'Metazoa',\n",
    "   'Chordata',\n",
    "   'Craniata',\n",
    "   'Vertebrata',\n",
    "   'Euteleostomi',\n",
    "   'Mammalia',\n",
    "   'Eutheria',\n",
    "   'Euarchontoglires',\n",
    "   'Primates',\n",
    "   'Haplorrhini',\n",
    "   'Catarrhini',\n",
    "   'Hominidae',\n",
    "   'Homo']},\n",
    " 'genes': [{'geneName': {'value': 'SNAP25'}, 'synonyms': [{'value': 'SNAP'}]}],"
   ]
  },
  {
   "cell_type": "code",
   "execution_count": 18,
   "id": "adbe156a-b74f-4506-a91d-edbf4011f9c9",
   "metadata": {},
   "outputs": [],
   "source": [
    "def write_hashval_kmers(\n",
    "    sequence: str,\n",
    "    sig: sourmash.SourmashSignature,\n",
    "    ksize: int,\n",
    "    moltype: str,\n",
    "    filename: str,\n",
    "    entry: dict,\n",
    "):\n",
    "    \"\"\"\n",
    "    entry : dict\n",
    "        One result from the Uniprot REST API response\n",
    "    \"\"\"\n",
    "    columns = [\n",
    "        \"hashval\",\n",
    "        \"kmer_in_sequence\",\n",
    "        \"kmer_in_alphabet\",\n",
    "        \"start\",\n",
    "        \"accession\",\n",
    "        \"uniprotkb_id\",\n",
    "        \"organism_scientific_name\",\n",
    "        \"organism_common_name\",\n",
    "        \"organism_taxonid\",\n",
    "        \"gene_name\",\n",
    "    ]\n",
    "\n",
    "    # response\n",
    "\n",
    "    with gzip.open(filename, \"wt\") as f:\n",
    "        writer = csv.writer(f)\n",
    "        writer.writerow(columns)\n",
    "\n",
    "        for kmer_in_seq, kmer_encoded, hashval, i in sig2kmer.get_kmers_for_hashvals(\n",
    "            sequence, sig.minhash.hashes.keys(), ksize, moltype, input_is_protein=True\n",
    "        ):\n",
    "            writer.writerow(\n",
    "                [\n",
    "                    str(hashval),\n",
    "                    kmer_in_seq,\n",
    "                    kmer_encoded,\n",
    "                    i,\n",
    "                    entry[\"primaryAccession\"],\n",
    "                    entry[\"uniProtkbId\"],\n",
    "                    entry[\"organism\"][\"scientificName\"],\n",
    "                    entry[\"organism\"][\"commonName\"],\n",
    "                    entry[\"organism\"][\"taxonId\"],\n",
    "                    \";\".join(x[\"geneName\"][\"value\"] for x in entry[\"genes\"]),\n",
    "                ]\n",
    "            )\n",
    "\n",
    "\n",
    "write_hashval_kmers(\n",
    "    sequence, sig, ksize=27, moltype=\"hp\", filename=\"snap25.csv.gz\", entry=response\n",
    ")"
   ]
  },
  {
   "cell_type": "code",
   "execution_count": null,
   "id": "49b0cef7-a635-4055-9d23-419f81388d1a",
   "metadata": {},
   "outputs": [],
   "source": []
  },
  {
   "cell_type": "code",
   "execution_count": 19,
   "id": "cfbd557a-9661-4d54-b215-6f792e39ead5",
   "metadata": {},
   "outputs": [
    {
     "name": "stdout",
     "output_type": "stream",
     "text": [
      "3.05 µs ± 19.2 ns per loop (mean ± std. dev. of 7 runs, 100,000 loops each)\n"
     ]
    }
   ],
   "source": [
    "%timeit sig2kmer.degenerate_protein_chatgpt(\"LIVE\", 'hp')"
   ]
  },
  {
   "cell_type": "code",
   "execution_count": 20,
   "id": "ea11b79d-aa24-4863-9d21-23f0617e4daa",
   "metadata": {},
   "outputs": [
    {
     "name": "stdout",
     "output_type": "stream",
     "text": [
      "3.4 µs ± 228 ns per loop (mean ± std. dev. of 7 runs, 100,000 loops each)\n"
     ]
    }
   ],
   "source": [
    "%timeit sig2kmer.degenerate_protein(\"LIVE\", 'hp')"
   ]
  },
  {
   "cell_type": "code",
   "execution_count": 22,
   "id": "bdda5327-67d3-4761-b3d6-22798b661021",
   "metadata": {},
   "outputs": [
    {
     "data": {
      "text/plain": [
       "b'h'"
      ]
     },
     "execution_count": 22,
     "metadata": {},
     "output_type": "execute_result"
    }
   ],
   "source": [
    "sourmash._lowlevel.lib.sourmash_aa_to_hp(b\"A\")"
   ]
  },
  {
   "cell_type": "markdown",
   "id": "69248424-b565-4872-bedc-9bf27eba668d",
   "metadata": {},
   "source": [
    "# Query for human reviewed sequences"
   ]
  },
  {
   "cell_type": "code",
   "execution_count": 23,
   "id": "f5f5ace9-bbd6-44db-a05d-bda023f30e98",
   "metadata": {},
   "outputs": [],
   "source": [
    "human_reviewed_query = \"(organism_id:9606) AND (reviewed:true)\"\n",
    "data = {\n",
    "    \"query\": human_reviewed_query,\n",
    "    \"fields\": [\n",
    "        \"id\",\n",
    "        \"gene_names\",\n",
    "        \"organism_name\",\n",
    "        \"ft_coiled\",\n",
    "        \"ft_compbias\",\n",
    "        \"cc_domain\",\n",
    "        \"ft_domain\",\n",
    "        \"ft_motif\",\n",
    "        \"protein_families\",\n",
    "        \"ft_region\",\n",
    "        \"ft_repeat\",\n",
    "        \"ft_zn_fing\",\n",
    "        \"sequence\",\n",
    "        \"cc_sequence_caution\",\n",
    "        \"ft_conflict\",\n",
    "        \"ft_unsure\",\n",
    "        \"sequence_version\",\n",
    "        \"ft_var_seq\",\n",
    "    ],\n",
    "}"
   ]
  },
  {
   "cell_type": "code",
   "execution_count": 24,
   "id": "c2d49415-3405-467f-ae30-c76994f604f6",
   "metadata": {},
   "outputs": [
    {
     "data": {
      "text/plain": [
       "\u001b[0;31mSignature:\u001b[0m \u001b[0msourmash\u001b[0m\u001b[0;34m.\u001b[0m\u001b[0mcommand_compute\u001b[0m\u001b[0;34m.\u001b[0m\u001b[0msave_siglist\u001b[0m\u001b[0;34m(\u001b[0m\u001b[0msiglist\u001b[0m\u001b[0;34m,\u001b[0m \u001b[0msigfile_name\u001b[0m\u001b[0;34m)\u001b[0m\u001b[0;34m\u001b[0m\u001b[0;34m\u001b[0m\u001b[0m\n",
       "\u001b[0;31mDocstring:\u001b[0m Save multiple signatures to a filename.\n",
       "\u001b[0;31mFile:\u001b[0m      ~/anaconda3/envs/sourmash-v4.8.6/lib/python3.12/site-packages/sourmash/command_compute.py\n",
       "\u001b[0;31mType:\u001b[0m      function"
      ]
     },
     "metadata": {},
     "output_type": "display_data"
    }
   ],
   "source": [
    "sourmash.command_compute.save_siglist?"
   ]
  },
  {
   "cell_type": "code",
   "execution_count": 25,
   "id": "aba72890-74c7-44e8-be40-ea32abf39794",
   "metadata": {},
   "outputs": [
    {
     "data": {
      "text/plain": [
       "\u001b[0;31mSignature:\u001b[0m \u001b[0msourmash\u001b[0m\u001b[0;34m.\u001b[0m\u001b[0mcommand_compute\u001b[0m\u001b[0;34m.\u001b[0m\u001b[0msave_sigs_to_location\u001b[0m\u001b[0;34m(\u001b[0m\u001b[0msiglist\u001b[0m\u001b[0;34m,\u001b[0m \u001b[0msave_sig\u001b[0m\u001b[0;34m)\u001b[0m\u001b[0;34m\u001b[0m\u001b[0;34m\u001b[0m\u001b[0m\n",
       "\u001b[0;31mDocstring:\u001b[0m Save multiple signatures to an already-open location.\n",
       "\u001b[0;31mFile:\u001b[0m      ~/anaconda3/envs/sourmash-v4.8.6/lib/python3.12/site-packages/sourmash/command_compute.py\n",
       "\u001b[0;31mType:\u001b[0m      function"
      ]
     },
     "metadata": {},
     "output_type": "display_data"
    }
   ],
   "source": [
    "sourmash.command_compute.save_sigs_to_location?"
   ]
  },
  {
   "cell_type": "code",
   "execution_count": 26,
   "id": "2703fc31-e54f-4f8b-ad0b-28e2ccf57b7e",
   "metadata": {},
   "outputs": [
    {
     "data": {
      "text/plain": [
       "\u001b[0;31mType:\u001b[0m        module\n",
       "\u001b[0;31mString form:\u001b[0m <module 'sourmash.command_sketch' from '/Users/olgabot/anaconda3/envs/sourmash-v4.8.6/lib/python3.12/site-packages/sourmash/command_sketch.py'>\n",
       "\u001b[0;31mFile:\u001b[0m        ~/anaconda3/envs/sourmash-v4.8.6/lib/python3.12/site-packages/sourmash/command_sketch.py\n",
       "\u001b[0;31mDocstring:\u001b[0m   Functions implementing the 'sketch' subcommands and related functions."
      ]
     },
     "metadata": {},
     "output_type": "display_data"
    }
   ],
   "source": [
    "sourmash.command_sketch?"
   ]
  },
  {
   "cell_type": "code",
   "execution_count": 27,
   "id": "41497f0c-6445-460c-aef8-473b8b59dfb5",
   "metadata": {},
   "outputs": [
    {
     "name": "stderr",
     "output_type": "stream",
     "text": [
      "\u001b[Ksaved 1 signature(s) to 'snap25.sig.gz'\n"
     ]
    }
   ],
   "source": [
    "sourmash.command_compute.save_siglist([sig], \"snap25.sig.gz\")"
   ]
  },
  {
   "cell_type": "code",
   "execution_count": 28,
   "id": "c85c0a64-214c-4b8a-8c5f-fb2eb294bad4",
   "metadata": {},
   "outputs": [],
   "source": [
    "outdir = \"/Users/olgabot/protein-job-search/2024-03-15--uniprot-query\"\n",
    "!mkdir -p $outdir"
   ]
  },
  {
   "cell_type": "code",
   "execution_count": 31,
   "id": "fa3eba36-fc0d-4587-9860-8b94d89a43f5",
   "metadata": {},
   "outputs": [],
   "source": [
    "import os\n",
    "\n",
    "from sourmash.logging import set_quiet"
   ]
  },
  {
   "cell_type": "code",
   "execution_count": 33,
   "id": "448c5084-51ba-4895-a903-0910a658d35b",
   "metadata": {},
   "outputs": [],
   "source": [
    "set_quiet(True)"
   ]
  },
  {
   "cell_type": "code",
   "execution_count": 34,
   "id": "baa74bbd-41a6-413d-bef0-4857a875435f",
   "metadata": {},
   "outputs": [],
   "source": [
    "response = fetch_data(api_url, data)\n",
    "for entry in response:\n",
    "    sequence = entry[\"sequence\"][\"value\"]\n",
    "\n",
    "    sig = create_signature_from_sequence(sequence)\n",
    "    accession = entry[\"primaryAccession\"]\n",
    "    uniprotkbid = entry[\"uniProtkbId\"]\n",
    "    prefix = f\"{accession}__{uniprotkbid}\"\n",
    "\n",
    "    filename = os.path.join(outdir, f\"{prefix}.csv.gz\")\n",
    "    write_hashval_kmers(\n",
    "        sequence, sig, ksize=27, moltype=\"hp\", filename=filename, entry=entry\n",
    "    )\n",
    "    sourmash.command_compute.save_siglist(\n",
    "        [sig], os.path.join(outdir, f\"{prefix}.sig.gz\")\n",
    "    )"
   ]
  },
  {
   "cell_type": "code",
   "execution_count": null,
   "id": "ef5bafca-9d25-48d5-858e-1906f2e61dc1",
   "metadata": {},
   "outputs": [],
   "source": []
  }
 ],
 "metadata": {
  "kernelspec": {
   "display_name": "Python [conda env:sourmash-v4.8.6]",
   "language": "python",
   "name": "conda-env-sourmash-v4.8.6-py"
  },
  "language_info": {
   "codemirror_mode": {
    "name": "ipython",
    "version": 3
   },
   "file_extension": ".py",
   "mimetype": "text/x-python",
   "name": "python",
   "nbconvert_exporter": "python",
   "pygments_lexer": "ipython3",
   "version": "3.12.2"
  }
 },
 "nbformat": 4,
 "nbformat_minor": 5
}
