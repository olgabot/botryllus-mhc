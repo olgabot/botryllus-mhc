{
 "cells": [
  {
   "cell_type": "code",
   "execution_count": 33,
   "id": "0f930a11-d1c5-4ed8-8dc1-74516307f50f",
   "metadata": {},
   "outputs": [],
   "source": [
    "import sourmash\n",
    "from sourmash import MinHash\n",
    "import screed\n",
    "import os\n",
    "import pandas as pd\n",
    "\n",
    "pd.options.display.max_columns = 100\n",
    "pd.options.display.max_rows = 100\n",
    "\n",
    "from orpheum.sequence_encodings import encode_peptide"
   ]
  },
  {
   "cell_type": "markdown",
   "id": "f21c00d6-962c-44d7-8fa4-8628439c35a3",
   "metadata": {},
   "source": [
    "### Read sourmash search results"
   ]
  },
  {
   "cell_type": "code",
   "execution_count": 31,
   "id": "ca8a3c49-5435-4afb-af95-6c7dee4f49d7",
   "metadata": {},
   "outputs": [
    {
     "data": {
      "text/plain": [
       "'/Users/olgabot/botryllus/pipeline-results/kmermaid/april2021-singleton-fewer-species/gather_search_nov2021'"
      ]
     },
     "execution_count": 31,
     "metadata": {},
     "output_type": "execute_result"
    }
   ],
   "source": [
    "results_dir\n"
   ]
  },
  {
   "cell_type": "code",
   "execution_count": 37,
   "id": "b2056286-9698-44e4-b456-2ae8ade23a87",
   "metadata": {},
   "outputs": [
    {
     "name": "stdout",
     "output_type": "stream",
     "text": [
      "(37, 8)\n",
      "|    | symbol   |   similarity | name                                                                                                                                                                                                                                                                                                |   filename | md5                              | query_filename    | query_name   | query_md5   |\n",
      "|---:|:---------|-------------:|:----------------------------------------------------------------------------------------------------------------------------------------------------------------------------------------------------------------------------------------------------------------------------------------------------|-----------:|:---------------------------------|:------------------|:-------------|:------------|\n",
      "|  0 | TNPO2    |   0.0840167  | ENSP00000468698.1 pep chromosome:GRCh38:19:12701054:12702845:-1 gene:ENSG00000105576.15 transcript:ENST00000589149.5 gene_biotype:protein_coding transcript_biotype:protein_coding gene_symbol:TNPO2 description:transportin 2 [Source:HGNC Symbol;Acc:HGNC:19998]                                  |        nan | 0ab9786e797b2695015771545cc8b057 | Bs_proteins.fa.gz | BHF          | c9b18841    |\n",
      "|  1 | IFT122   |   0.0567899  | ENSP00000424206.1 pep chromosome:GRCh38:3:129449871:129476753:1 gene:ENSG00000163913.12 transcript:ENST00000512157.5 gene_biotype:protein_coding transcript_biotype:protein_coding gene_symbol:IFT122 description:intraflagellar transport 122 [Source:HGNC Symbol;Acc:HGNC:13556]                  |        nan | 85adc649e48ae5c48ecda1dd6b14f161 | Bs_proteins.fa.gz | BHF          | c9b18841    |\n",
      "|  2 | IFT122   |   0.0507809  | ENSP00000423288.1 pep chromosome:GRCh38:3:129449871:129479917:1 gene:ENSG00000163913.12 transcript:ENST00000515783.5 gene_biotype:protein_coding transcript_biotype:protein_coding gene_symbol:IFT122 description:intraflagellar transport 122 [Source:HGNC Symbol;Acc:HGNC:13556]                  |        nan | fe32abd16fb42e8b6314b458cb89973b | Bs_proteins.fa.gz | BHF          | c9b18841    |\n",
      "|  3 | HMGB3    |   0.0401298  | ENSP00000417027.1 pep chromosome:GRCh38:X:150985531:150987297:1 gene:ENSG00000029993.15 transcript:ENST00000430118.1 gene_biotype:protein_coding transcript_biotype:protein_coding gene_symbol:HMGB3 description:high mobility group box 3 [Source:HGNC Symbol;Acc:HGNC:5004]                       |        nan | b531d64bf76d473b73a3506a7000b541 | Bs_proteins.fa.gz | BHF          | c9b18841    |\n",
      "|  4 | NDNF     |   0.0385535  | ENSP00000423352.1 pep chromosome:GRCh38:4:121037536:121073021:-1 gene:ENSG00000173376.14 transcript:ENST00000515757.5 gene_biotype:protein_coding transcript_biotype:protein_coding gene_symbol:NDNF description:neuron derived neurotrophic factor [Source:HGNC Symbol;Acc:HGNC:26256]             |        nan | 4728de195943c05ad19684017252bf10 | Bs_proteins.fa.gz | BHF          | c9b18841    |\n",
      "|  5 | HMGB3    |   0.0337092  | ENSP00000410354.1 pep chromosome:GRCh38:X:150980509:150987877:1 gene:ENSG00000029993.15 transcript:ENST00000419110.5 gene_biotype:protein_coding transcript_biotype:protein_coding gene_symbol:HMGB3 description:high mobility group box 3 [Source:HGNC Symbol;Acc:HGNC:5004]                       |        nan | 0338de31928ae50eea7db2a85f4833ba | Bs_proteins.fa.gz | BHF          | c9b18841    |\n",
      "|  6 | PNN      |   0.0299717  | ENSP00000216832.4 pep chromosome:GRCh38:14:39175254:39183220:1 gene:ENSG00000100941.9 transcript:ENST00000216832.9 gene_biotype:protein_coding transcript_biotype:protein_coding gene_symbol:PNN description:pinin, desmosome associated protein [Source:HGNC Symbol;Acc:HGNC:9162]                 |        nan | 41ede21de46999bb72b2402bc1a5e96a | Bs_proteins.fa.gz | BHF          | c9b18841    |\n",
      "|  7 | TSHZ1    |   0.0296289  | ENSP00000453834.2 pep chromosome:GRCh38:18:75221058:75286372:1 gene:ENSG00000179981.11 transcript:ENST00000560918.2 gene_biotype:protein_coding transcript_biotype:protein_coding gene_symbol:TSHZ1 description:teashirt zinc finger homeobox 1 [Source:HGNC Symbol;Acc:HGNC:10669]                 |        nan | 03acb27b7d22b61c3f921ec6dfef92c4 | Bs_proteins.fa.gz | BHF          | c9b18841    |\n",
      "|  8 | RSF1     |   0.0272531  | ENSP00000434509.1 pep chromosome:GRCh38:11:77666230:77703533:-1 gene:ENSG00000048649.13 transcript:ENST00000480887.5 gene_biotype:protein_coding transcript_biotype:protein_coding gene_symbol:RSF1 description:remodeling and spacing factor 1 [Source:HGNC Symbol;Acc:HGNC:18118]                 |        nan | 3aea021da373dd322d7e6e5bd0d30ee8 | Bs_proteins.fa.gz | BHF          | c9b18841    |\n",
      "|  9 | RSF1     |   0.0239186  | ENSP00000311513.6 pep chromosome:GRCh38:11:77659996:77821017:-1 gene:ENSG00000048649.13 transcript:ENST00000308488.10 gene_biotype:protein_coding transcript_biotype:protein_coding gene_symbol:RSF1 description:remodeling and spacing factor 1 [Source:HGNC Symbol;Acc:HGNC:18118]                |        nan | ec75134ef2583d82d3dfdff068897615 | Bs_proteins.fa.gz | BHF          | c9b18841    |\n",
      "| 10 | SFI1     |   0.0225408  | ENSP00000430488.1 pep chromosome:GRCh38:22:31508255:31613453:1 gene:ENSG00000198089.16 transcript:ENST00000524296.5 gene_biotype:protein_coding transcript_biotype:nonsense_mediated_decay gene_symbol:SFI1 description:SFI1 centrin binding protein [Source:HGNC Symbol;Acc:HGNC:29064]            |        nan | 0b84b3c57ba91110227e10cbf165c491 | Bs_proteins.fa.gz | BHF          | c9b18841    |\n",
      "| 11 | ZNF713   |   0.0225408  | ENSP00000487818.1 pep chromosome:GRCh38:7:55912638:55940740:1 gene:ENSG00000178665.16 transcript:ENST00000633730.1 gene_biotype:protein_coding transcript_biotype:protein_coding gene_symbol:ZNF713 description:zinc finger protein 713 [Source:HGNC Symbol;Acc:HGNC:22043]                         |        nan | 970d1eb966b54e1ec12402c83d5dbb4f | Bs_proteins.fa.gz | BHF          | c9b18841    |\n",
      "| 12 | ZNF713   |   0.0222498  | ENSP00000416662.3 pep chromosome:GRCh38:7:55887456:55942225:1 gene:ENSG00000178665.16 transcript:ENST00000429591.4 gene_biotype:protein_coding transcript_biotype:protein_coding gene_symbol:ZNF713 description:zinc finger protein 713 [Source:HGNC Symbol;Acc:HGNC:22043]                         |        nan | 407440f512f8b41cc1f576bdfcd7f3bc | Bs_proteins.fa.gz | BHF          | c9b18841    |\n",
      "| 13 | RNMT     |   0.0219698  | ENSP00000446426.1 pep chromosome:GRCh38:18:13726660:13760285:1 gene:ENSG00000101654.18 transcript:ENST00000543302.6 gene_biotype:protein_coding transcript_biotype:protein_coding gene_symbol:RNMT description:RNA guanine-7 methyltransferase [Source:HGNC Symbol;Acc:HGNC:10075]                  |        nan | d3c68c7c2341c517a758be7178bcc578 | Bs_proteins.fa.gz | BHF          | c9b18841    |\n",
      "| 14 | SLC16A7  |   0.0214402  | ENSP00000449547.1 pep chromosome:GRCh38:12:59596067:59780213:1 gene:ENSG00000118596.12 transcript:ENST00000552432.5 gene_biotype:protein_coding transcript_biotype:protein_coding gene_symbol:SLC16A7 description:solute carrier family 16 member 7 [Source:HGNC Symbol;Acc:HGNC:10928]             |        nan | 2fec59f0c7b31a3815a25a9f39492f21 | Bs_proteins.fa.gz | BHF          | c9b18841    |\n",
      "| 15 | RNMT     |   0.020947   | ENSP00000466111.1 pep chromosome:GRCh38:18:13726704:13764556:1 gene:ENSG00000101654.18 transcript:ENST00000592764.5 gene_biotype:protein_coding transcript_biotype:protein_coding gene_symbol:RNMT description:RNA guanine-7 methyltransferase [Source:HGNC Symbol;Acc:HGNC:10075]                  |        nan | cb0cc4706db11141106a357403ed8551 | Bs_proteins.fa.gz | BHF          | c9b18841    |\n",
      "| 16 | PDIA5    |   0.0190852  | ENSP00000323313.7 pep chromosome:GRCh38:3:123067025:123162104:1 gene:ENSG00000065485.20 transcript:ENST00000316218.12 gene_biotype:protein_coding transcript_biotype:protein_coding gene_symbol:PDIA5 description:protein disulfide isomerase family A member 5 [Source:HGNC Symbol;Acc:HGNC:24811] |        nan | 022df4d1746ccd647241d1fbb5e45cfc | Bs_proteins.fa.gz | BHF          | c9b18841    |\n",
      "| 17 | NDNF     |   0.0185668  | ENSP00000369014.4 pep chromosome:GRCh38:4:121035613:121072535:-1 gene:ENSG00000173376.14 transcript:ENST00000379692.9 gene_biotype:protein_coding transcript_biotype:protein_coding gene_symbol:NDNF description:neuron derived neurotrophic factor [Source:HGNC Symbol;Acc:HGNC:26256]             |        nan | e894bf5e719c983464b69312f0adf0fa | Bs_proteins.fa.gz | BHF          | c9b18841    |\n",
      "| 18 | CCDC96   |   0.0184032  | ENSP00000309285.4 pep chromosome:GRCh38:4:7040849:7043001:-1 gene:ENSG00000173013.6 transcript:ENST00000310085.6 gene_biotype:protein_coding transcript_biotype:protein_coding gene_symbol:CCDC96 description:coiled-coil domain containing 96 [Source:HGNC Symbol;Acc:HGNC:26900]                  |        nan | 1e743efbfe242fdd5eb249c07fc69bdb | Bs_proteins.fa.gz | BHF          | c9b18841    |\n",
      "| 19 | ZNF292   |   0.0166659  | ENSP00000358590.3 pep chromosome:GRCh38:6:87155565:87265943:1 gene:ENSG00000188994.13 transcript:ENST00000369577.8 gene_biotype:protein_coding transcript_biotype:protein_coding gene_symbol:ZNF292 description:zinc finger protein 292 [Source:HGNC Symbol;Acc:HGNC:18410]                         |        nan | df151aa24dbdc0211cfb6bee685e8dd5 | Bs_proteins.fa.gz | BHF          | c9b18841    |\n",
      "| 20 | ZNF292   |   0.0166062  | ENSP00000342847.4 pep chromosome:GRCh38:6:87155581:87261920:1 gene:ENSG00000188994.13 transcript:ENST00000339907.8 gene_biotype:protein_coding transcript_biotype:protein_coding gene_symbol:ZNF292 description:zinc finger protein 292 [Source:HGNC Symbol;Acc:HGNC:18410]                         |        nan | e5b39c41cc3d733afdb0c121c073df1e | Bs_proteins.fa.gz | BHF          | c9b18841    |\n",
      "| 21 | ORC2     |   0.0161511  | ENSP00000234296.2 pep chromosome:GRCh38:2:200908977:200963660:-1 gene:ENSG00000115942.9 transcript:ENST00000234296.7 gene_biotype:protein_coding transcript_biotype:protein_coding gene_symbol:ORC2 description:origin recognition complex subunit 2 [Source:HGNC Symbol;Acc:HGNC:8488]             |        nan | 9c32ac9f358d0128d25d0af1b22abf33 | Bs_proteins.fa.gz | BHF          | c9b18841    |\n",
      "| 22 | MYRFL    |   0.0149817  | ENSP00000449598.2 pep chromosome:GRCh38:12:69825316:69959097:1 gene:ENSG00000166268.11 transcript:ENST00000547771.6 gene_biotype:protein_coding transcript_biotype:protein_coding gene_symbol:MYRFL description:myelin regulatory factor like [Source:HGNC Symbol;Acc:HGNC:26316]                   |        nan | d7f445eaeba4c66437edf6d59640e04b | Bs_proteins.fa.gz | BHF          | c9b18841    |\n",
      "| 23 | TSHZ2    |   0.0140344  | ENSP00000475114.1 pep chromosome:GRCh38:20:53185283:53487479:1 gene:ENSG00000182463.16 transcript:ENST00000603338.2 gene_biotype:protein_coding transcript_biotype:protein_coding gene_symbol:TSHZ2 description:teashirt zinc finger homeobox 2 [Source:HGNC Symbol;Acc:HGNC:13010]                 |        nan | 9410a1585fb3877df8fe8e2bea1576fb | Bs_proteins.fa.gz | BHF          | c9b18841    |\n",
      "| 24 | TSHZ2    |   0.0139633  | ENSP00000360552.3 pep chromosome:GRCh38:20:52972358:53495330:1 gene:ENSG00000182463.16 transcript:ENST00000371497.10 gene_biotype:protein_coding transcript_biotype:protein_coding gene_symbol:TSHZ2 description:teashirt zinc finger homeobox 2 [Source:HGNC Symbol;Acc:HGNC:13010]                |        nan | d0c80d50a40a503d068d5982b4f39a93 | Bs_proteins.fa.gz | BHF          | c9b18841    |\n",
      "| 25 | TSHZ1    |   0.0138243  | ENSP00000323584.5 pep chromosome:GRCh38:18:75210755:75289950:1 gene:ENSG00000179981.11 transcript:ENST00000322038.5 gene_biotype:protein_coding transcript_biotype:protein_coding gene_symbol:TSHZ1 description:teashirt zinc finger homeobox 1 [Source:HGNC Symbol;Acc:HGNC:10669]                 |        nan | 778333484d7d850aa2a366c5d68817f7 | Bs_proteins.fa.gz | BHF          | c9b18841    |\n",
      "| 26 | TSHZ3    |   0.0137564  | ENSP00000240587.4 pep chromosome:GRCh38:19:31274945:31349436:-1 gene:ENSG00000121297.8 transcript:ENST00000240587.5 gene_biotype:protein_coding transcript_biotype:protein_coding gene_symbol:TSHZ3 description:teashirt zinc finger homeobox 3 [Source:HGNC Symbol;Acc:HGNC:30700]                 |        nan | 491a4a9ef7544fd54c118bf6801c9318 | Bs_proteins.fa.gz | BHF          | c9b18841    |\n",
      "| 27 | TSHZ1    |   0.0136894  | ENSP00000464391.1 pep chromosome:GRCh38:18:75210797:75289944:1 gene:ENSG00000179981.11 transcript:ENST00000580243.3 gene_biotype:protein_coding transcript_biotype:protein_coding gene_symbol:TSHZ1 description:teashirt zinc finger homeobox 1 [Source:HGNC Symbol;Acc:HGNC:10669]                 |        nan | af1c5a15e21d60ac07a85d7e6a9f877e | Bs_proteins.fa.gz | BHF          | c9b18841    |\n",
      "| 28 | TRAPPC10 |   0.0128995  | ENSP00000291574.4 pep chromosome:GRCh38:21:44012309:44106552:1 gene:ENSG00000160218.13 transcript:ENST00000291574.9 gene_biotype:protein_coding transcript_biotype:protein_coding gene_symbol:TRAPPC10 description:trafficking protein particle complex 10 [Source:HGNC Symbol;Acc:HGNC:11868]      |        nan | fca25549dbe0db7e75bdc9c468cd4b7a | Bs_proteins.fa.gz | BHF          | c9b18841    |\n",
      "| 29 | SFI1     |   0.0124763  | ENSP00000402679.1 pep chromosome:GRCh38:22:31496275:31618551:1 gene:ENSG00000198089.16 transcript:ENST00000432498.5 gene_biotype:protein_coding transcript_biotype:protein_coding gene_symbol:SFI1 description:SFI1 centrin binding protein [Source:HGNC Symbol;Acc:HGNC:29064]                     |        nan | 0a6bc12b1a1636702fdf510ef57c18a5 | Bs_proteins.fa.gz | BHF          | c9b18841    |\n",
      "| 30 | SFI1     |   0.0124263  | ENSP00000383145.2 pep chromosome:GRCh38:22:31496536:31618588:1 gene:ENSG00000198089.16 transcript:ENST00000400288.7 gene_biotype:protein_coding transcript_biotype:protein_coding gene_symbol:SFI1 description:SFI1 centrin binding protein [Source:HGNC Symbol;Acc:HGNC:29064]                     |        nan | ab4e34ca474b83586f3f8ea72c08b986 | Bs_proteins.fa.gz | BHF          | c9b18841    |\n",
      "| 31 | ADGB     |   0.0109153  | ENSP00000381036.3 pep chromosome:GRCh38:6:146598972:146815462:1 gene:ENSG00000118492.18 transcript:ENST00000397944.8 gene_biotype:protein_coding transcript_biotype:protein_coding gene_symbol:ADGB description:androglobin [Source:HGNC Symbol;Acc:HGNC:21212]                                     |        nan | 772eae7df244ef24001f42a3761bed04 | Bs_proteins.fa.gz | BHF          | c9b18841    |\n",
      "| 32 | ADGB     |   0.0108485  | ENSP00000505524.1 pep chromosome:GRCh38:6:146599041:146807838:1 gene:ENSG00000118492.18 transcript:ENST00000681847.1 gene_biotype:protein_coding transcript_biotype:protein_coding gene_symbol:ADGB description:androglobin [Source:HGNC Symbol;Acc:HGNC:21212]                                     |        nan | a10238d39b82692dd7f9e41441331457 | Bs_proteins.fa.gz | BHF          | c9b18841    |\n",
      "| 33 | JMJD1C   |   0.00938781 | ENSP00000444682.1 pep chromosome:GRCh38:10:63167590:63269066:-1 gene:ENSG00000171988.19 transcript:ENST00000542921.5 gene_biotype:protein_coding transcript_biotype:protein_coding gene_symbol:JMJD1C description:jumonji domain containing 1C [Source:HGNC Symbol;Acc:HGNC:12313]                  |        nan | 28c2308906ecc42999f6fd09dc2b3c4f | Bs_proteins.fa.gz | BHF          | c9b18841    |\n",
      "| 34 | JMJD1C   |   0.00885762 | ENSP00000382204.2 pep chromosome:GRCh38:10:63167225:63465977:-1 gene:ENSG00000171988.19 transcript:ENST00000399262.7 gene_biotype:protein_coding transcript_biotype:protein_coding gene_symbol:JMJD1C description:jumonji domain containing 1C [Source:HGNC Symbol;Acc:HGNC:12313]                  |        nan | 0a158f56b7265457ff124105964f6929 | Bs_proteins.fa.gz | BHF          | c9b18841    |\n",
      "| 35 | DHX8     |   0.00451201 | ENSP00000437886.1 pep chromosome:GRCh38:17:43483963:43526786:1 gene:ENSG00000067596.12 transcript:ENST00000540306.5 gene_biotype:protein_coding transcript_biotype:protein_coding gene_symbol:DHX8 description:DEAH-box helicase 8 [Source:HGNC Symbol;Acc:HGNC:2749]                               |        nan | 315761bd296e01b1323f5c99554e6ccc | Bs_proteins.fa.gz | BHF          | c9b18841    |\n",
      "| 36 | DHX8     |   0.00450726 | ENSP00000496923.1 pep chromosome:GRCh38:17:43483960:43590741:1 gene:ENSG00000067596.12 transcript:ENST00000650571.1 gene_biotype:protein_coding transcript_biotype:nonsense_mediated_decay gene_symbol:DHX8 description:DEAH-box helicase 8 [Source:HGNC Symbol;Acc:HGNC:2749]                      |        nan | 4082e89e2e68914b2410abf0869ac0c4 | Bs_proteins.fa.gz | BHF          | c9b18841    |\n"
     ]
    }
   ],
   "source": [
    "results_dir = '/Users/olgabot/botryllus/pipeline-results/kmermaid/april2021-singleton-fewer-species/gather_search_nov2021'\n",
    "\n",
    "\n",
    "def add_gene_symbol(df):\n",
    "    \"\"\"Extract gene symbol and put it first in the columns\"\"\"\n",
    "    df['symbol'] = df['name'].str.extract('gene_symbol:([\\w\\d\\-]+)')\n",
    "    cols = df.columns.tolist()\n",
    "    cols = cols[-1:] + cols[:-1]\n",
    "    df = df[cols]\n",
    "    return df\n",
    "\n",
    "\n",
    "csv = os.path.join(results_dir, 'bhf_human_search.csv')\n",
    "search = pd.read_csv(csv)\n",
    "search = add_gene_symbol(search)\n",
    "print(search.shape)\n",
    "print(search.to_markdown())"
   ]
  },
  {
   "cell_type": "markdown",
   "id": "79439557-de4b-4354-808e-5afff664fb73",
   "metadata": {},
   "source": [
    "### Read Sourmash Gather results"
   ]
  },
  {
   "cell_type": "code",
   "execution_count": 30,
   "id": "215348a3-574d-4e11-a15f-d1b510827b9a",
   "metadata": {},
   "outputs": [
    {
     "name": "stdout",
     "output_type": "stream",
     "text": [
      "(11, 20)\n"
     ]
    },
    {
     "data": {
      "text/html": [
       "<div>\n",
       "<style scoped>\n",
       "    .dataframe tbody tr th:only-of-type {\n",
       "        vertical-align: middle;\n",
       "    }\n",
       "\n",
       "    .dataframe tbody tr th {\n",
       "        vertical-align: top;\n",
       "    }\n",
       "\n",
       "    .dataframe thead th {\n",
       "        text-align: right;\n",
       "    }\n",
       "</style>\n",
       "<table border=\"1\" class=\"dataframe\">\n",
       "  <thead>\n",
       "    <tr style=\"text-align: right;\">\n",
       "      <th></th>\n",
       "      <th>symbol</th>\n",
       "      <th>intersect_bp</th>\n",
       "      <th>f_orig_query</th>\n",
       "      <th>f_match</th>\n",
       "      <th>f_unique_to_query</th>\n",
       "      <th>f_unique_weighted</th>\n",
       "      <th>average_abund</th>\n",
       "      <th>median_abund</th>\n",
       "      <th>std_abund</th>\n",
       "      <th>name</th>\n",
       "      <th>filename</th>\n",
       "      <th>md5</th>\n",
       "      <th>f_match_orig</th>\n",
       "      <th>unique_intersect_bp</th>\n",
       "      <th>gather_result_rank</th>\n",
       "      <th>remaining_bp</th>\n",
       "      <th>query_filename</th>\n",
       "      <th>query_name</th>\n",
       "      <th>query_md5</th>\n",
       "      <th>query_bp</th>\n",
       "    </tr>\n",
       "  </thead>\n",
       "  <tbody>\n",
       "    <tr>\n",
       "      <th>0</th>\n",
       "      <td>TNPO2</td>\n",
       "      <td>20</td>\n",
       "      <td>0.095238</td>\n",
       "      <td>0.181818</td>\n",
       "      <td>0.095238</td>\n",
       "      <td>0.095238</td>\n",
       "      <td>1.0</td>\n",
       "      <td>1.0</td>\n",
       "      <td>0.0</td>\n",
       "      <td>ENSP00000468698.1 pep chromosome:GRCh38:19:127...</td>\n",
       "      <td>Homo_sapiens.GRCh38.pep.all.fa.gz.sig</td>\n",
       "      <td>0ab9786e797b2695015771545cc8b057</td>\n",
       "      <td>0.181818</td>\n",
       "      <td>20</td>\n",
       "      <td>0</td>\n",
       "      <td>120</td>\n",
       "      <td>Bs_proteins.fa.gz</td>\n",
       "      <td>BHF</td>\n",
       "      <td>c9b18841</td>\n",
       "      <td>210</td>\n",
       "    </tr>\n",
       "    <tr>\n",
       "      <th>1</th>\n",
       "      <td>PNN</td>\n",
       "      <td>20</td>\n",
       "      <td>0.095238</td>\n",
       "      <td>0.025641</td>\n",
       "      <td>0.095238</td>\n",
       "      <td>0.095238</td>\n",
       "      <td>1.0</td>\n",
       "      <td>1.0</td>\n",
       "      <td>0.0</td>\n",
       "      <td>ENSP00000216832.4 pep chromosome:GRCh38:14:391...</td>\n",
       "      <td>Homo_sapiens.GRCh38.pep.all.fa.gz.sig</td>\n",
       "      <td>41ede21de46999bb72b2402bc1a5e96a</td>\n",
       "      <td>0.025641</td>\n",
       "      <td>20</td>\n",
       "      <td>1</td>\n",
       "      <td>100</td>\n",
       "      <td>Bs_proteins.fa.gz</td>\n",
       "      <td>BHF</td>\n",
       "      <td>c9b18841</td>\n",
       "      <td>210</td>\n",
       "    </tr>\n",
       "    <tr>\n",
       "      <th>2</th>\n",
       "      <td>ZNF292</td>\n",
       "      <td>20</td>\n",
       "      <td>0.095238</td>\n",
       "      <td>0.007194</td>\n",
       "      <td>0.095238</td>\n",
       "      <td>0.095238</td>\n",
       "      <td>1.0</td>\n",
       "      <td>1.0</td>\n",
       "      <td>0.0</td>\n",
       "      <td>ENSP00000358590.3 pep chromosome:GRCh38:6:8715...</td>\n",
       "      <td>Homo_sapiens.GRCh38.pep.all.fa.gz.sig</td>\n",
       "      <td>df151aa24dbdc0211cfb6bee685e8dd5</td>\n",
       "      <td>0.007194</td>\n",
       "      <td>20</td>\n",
       "      <td>2</td>\n",
       "      <td>80</td>\n",
       "      <td>Bs_proteins.fa.gz</td>\n",
       "      <td>BHF</td>\n",
       "      <td>c9b18841</td>\n",
       "      <td>210</td>\n",
       "    </tr>\n",
       "    <tr>\n",
       "      <th>3</th>\n",
       "      <td>TRAPPC10</td>\n",
       "      <td>10</td>\n",
       "      <td>0.047619</td>\n",
       "      <td>0.008621</td>\n",
       "      <td>0.047619</td>\n",
       "      <td>0.047619</td>\n",
       "      <td>1.0</td>\n",
       "      <td>1.0</td>\n",
       "      <td>0.0</td>\n",
       "      <td>ENSP00000291574.4 pep chromosome:GRCh38:21:440...</td>\n",
       "      <td>Homo_sapiens.GRCh38.pep.all.fa.gz.sig</td>\n",
       "      <td>fca25549dbe0db7e75bdc9c468cd4b7a</td>\n",
       "      <td>0.008621</td>\n",
       "      <td>10</td>\n",
       "      <td>3</td>\n",
       "      <td>70</td>\n",
       "      <td>Bs_proteins.fa.gz</td>\n",
       "      <td>BHF</td>\n",
       "      <td>c9b18841</td>\n",
       "      <td>210</td>\n",
       "    </tr>\n",
       "    <tr>\n",
       "      <th>4</th>\n",
       "      <td>SFI1</td>\n",
       "      <td>10</td>\n",
       "      <td>0.047619</td>\n",
       "      <td>0.008065</td>\n",
       "      <td>0.047619</td>\n",
       "      <td>0.047619</td>\n",
       "      <td>1.0</td>\n",
       "      <td>1.0</td>\n",
       "      <td>0.0</td>\n",
       "      <td>ENSP00000402679.1 pep chromosome:GRCh38:22:314...</td>\n",
       "      <td>Homo_sapiens.GRCh38.pep.all.fa.gz.sig</td>\n",
       "      <td>0a6bc12b1a1636702fdf510ef57c18a5</td>\n",
       "      <td>0.008065</td>\n",
       "      <td>10</td>\n",
       "      <td>4</td>\n",
       "      <td>60</td>\n",
       "      <td>Bs_proteins.fa.gz</td>\n",
       "      <td>BHF</td>\n",
       "      <td>c9b18841</td>\n",
       "      <td>210</td>\n",
       "    </tr>\n",
       "    <tr>\n",
       "      <th>5</th>\n",
       "      <td>RNMT</td>\n",
       "      <td>10</td>\n",
       "      <td>0.047619</td>\n",
       "      <td>0.025000</td>\n",
       "      <td>0.047619</td>\n",
       "      <td>0.047619</td>\n",
       "      <td>1.0</td>\n",
       "      <td>1.0</td>\n",
       "      <td>0.0</td>\n",
       "      <td>ENSP00000446426.1 pep chromosome:GRCh38:18:137...</td>\n",
       "      <td>Homo_sapiens.GRCh38.pep.all.fa.gz.sig</td>\n",
       "      <td>d3c68c7c2341c517a758be7178bcc578</td>\n",
       "      <td>0.025000</td>\n",
       "      <td>10</td>\n",
       "      <td>5</td>\n",
       "      <td>50</td>\n",
       "      <td>Bs_proteins.fa.gz</td>\n",
       "      <td>BHF</td>\n",
       "      <td>c9b18841</td>\n",
       "      <td>210</td>\n",
       "    </tr>\n",
       "    <tr>\n",
       "      <th>6</th>\n",
       "      <td>JMJD1C</td>\n",
       "      <td>10</td>\n",
       "      <td>0.047619</td>\n",
       "      <td>0.004065</td>\n",
       "      <td>0.047619</td>\n",
       "      <td>0.047619</td>\n",
       "      <td>1.0</td>\n",
       "      <td>1.0</td>\n",
       "      <td>0.0</td>\n",
       "      <td>ENSP00000382204.2 pep chromosome:GRCh38:10:631...</td>\n",
       "      <td>Homo_sapiens.GRCh38.pep.all.fa.gz.sig</td>\n",
       "      <td>0a158f56b7265457ff124105964f6929</td>\n",
       "      <td>0.004065</td>\n",
       "      <td>10</td>\n",
       "      <td>6</td>\n",
       "      <td>40</td>\n",
       "      <td>Bs_proteins.fa.gz</td>\n",
       "      <td>BHF</td>\n",
       "      <td>c9b18841</td>\n",
       "      <td>210</td>\n",
       "    </tr>\n",
       "    <tr>\n",
       "      <th>7</th>\n",
       "      <td>ZNF713</td>\n",
       "      <td>10</td>\n",
       "      <td>0.047619</td>\n",
       "      <td>0.025641</td>\n",
       "      <td>0.047619</td>\n",
       "      <td>0.047619</td>\n",
       "      <td>1.0</td>\n",
       "      <td>1.0</td>\n",
       "      <td>0.0</td>\n",
       "      <td>ENSP00000416662.3 pep chromosome:GRCh38:7:5588...</td>\n",
       "      <td>Homo_sapiens.GRCh38.pep.all.fa.gz.sig</td>\n",
       "      <td>407440f512f8b41cc1f576bdfcd7f3bc</td>\n",
       "      <td>0.025641</td>\n",
       "      <td>10</td>\n",
       "      <td>7</td>\n",
       "      <td>30</td>\n",
       "      <td>Bs_proteins.fa.gz</td>\n",
       "      <td>BHF</td>\n",
       "      <td>c9b18841</td>\n",
       "      <td>210</td>\n",
       "    </tr>\n",
       "    <tr>\n",
       "      <th>8</th>\n",
       "      <td>NDNF</td>\n",
       "      <td>10</td>\n",
       "      <td>0.047619</td>\n",
       "      <td>0.017857</td>\n",
       "      <td>0.047619</td>\n",
       "      <td>0.047619</td>\n",
       "      <td>1.0</td>\n",
       "      <td>1.0</td>\n",
       "      <td>0.0</td>\n",
       "      <td>ENSP00000369014.4 pep chromosome:GRCh38:4:1210...</td>\n",
       "      <td>Homo_sapiens.GRCh38.pep.all.fa.gz.sig</td>\n",
       "      <td>e894bf5e719c983464b69312f0adf0fa</td>\n",
       "      <td>0.017857</td>\n",
       "      <td>10</td>\n",
       "      <td>8</td>\n",
       "      <td>20</td>\n",
       "      <td>Bs_proteins.fa.gz</td>\n",
       "      <td>BHF</td>\n",
       "      <td>c9b18841</td>\n",
       "      <td>210</td>\n",
       "    </tr>\n",
       "    <tr>\n",
       "      <th>9</th>\n",
       "      <td>ADGB</td>\n",
       "      <td>10</td>\n",
       "      <td>0.047619</td>\n",
       "      <td>0.006173</td>\n",
       "      <td>0.047619</td>\n",
       "      <td>0.047619</td>\n",
       "      <td>1.0</td>\n",
       "      <td>1.0</td>\n",
       "      <td>0.0</td>\n",
       "      <td>ENSP00000381036.3 pep chromosome:GRCh38:6:1465...</td>\n",
       "      <td>Homo_sapiens.GRCh38.pep.all.fa.gz.sig</td>\n",
       "      <td>772eae7df244ef24001f42a3761bed04</td>\n",
       "      <td>0.006173</td>\n",
       "      <td>10</td>\n",
       "      <td>9</td>\n",
       "      <td>10</td>\n",
       "      <td>Bs_proteins.fa.gz</td>\n",
       "      <td>BHF</td>\n",
       "      <td>c9b18841</td>\n",
       "      <td>210</td>\n",
       "    </tr>\n",
       "    <tr>\n",
       "      <th>10</th>\n",
       "      <td>ORC2</td>\n",
       "      <td>10</td>\n",
       "      <td>0.047619</td>\n",
       "      <td>0.013514</td>\n",
       "      <td>0.047619</td>\n",
       "      <td>0.047619</td>\n",
       "      <td>1.0</td>\n",
       "      <td>1.0</td>\n",
       "      <td>0.0</td>\n",
       "      <td>ENSP00000234296.2 pep chromosome:GRCh38:2:2009...</td>\n",
       "      <td>Homo_sapiens.GRCh38.pep.all.fa.gz.sig</td>\n",
       "      <td>9c32ac9f358d0128d25d0af1b22abf33</td>\n",
       "      <td>0.013514</td>\n",
       "      <td>10</td>\n",
       "      <td>10</td>\n",
       "      <td>0</td>\n",
       "      <td>Bs_proteins.fa.gz</td>\n",
       "      <td>BHF</td>\n",
       "      <td>c9b18841</td>\n",
       "      <td>210</td>\n",
       "    </tr>\n",
       "  </tbody>\n",
       "</table>\n",
       "</div>"
      ],
      "text/plain": [
       "      symbol  intersect_bp  f_orig_query   f_match  f_unique_to_query  \\\n",
       "0      TNPO2            20      0.095238  0.181818           0.095238   \n",
       "1        PNN            20      0.095238  0.025641           0.095238   \n",
       "2     ZNF292            20      0.095238  0.007194           0.095238   \n",
       "3   TRAPPC10            10      0.047619  0.008621           0.047619   \n",
       "4       SFI1            10      0.047619  0.008065           0.047619   \n",
       "5       RNMT            10      0.047619  0.025000           0.047619   \n",
       "6     JMJD1C            10      0.047619  0.004065           0.047619   \n",
       "7     ZNF713            10      0.047619  0.025641           0.047619   \n",
       "8       NDNF            10      0.047619  0.017857           0.047619   \n",
       "9       ADGB            10      0.047619  0.006173           0.047619   \n",
       "10      ORC2            10      0.047619  0.013514           0.047619   \n",
       "\n",
       "    f_unique_weighted  average_abund  median_abund  std_abund  \\\n",
       "0            0.095238            1.0           1.0        0.0   \n",
       "1            0.095238            1.0           1.0        0.0   \n",
       "2            0.095238            1.0           1.0        0.0   \n",
       "3            0.047619            1.0           1.0        0.0   \n",
       "4            0.047619            1.0           1.0        0.0   \n",
       "5            0.047619            1.0           1.0        0.0   \n",
       "6            0.047619            1.0           1.0        0.0   \n",
       "7            0.047619            1.0           1.0        0.0   \n",
       "8            0.047619            1.0           1.0        0.0   \n",
       "9            0.047619            1.0           1.0        0.0   \n",
       "10           0.047619            1.0           1.0        0.0   \n",
       "\n",
       "                                                 name  \\\n",
       "0   ENSP00000468698.1 pep chromosome:GRCh38:19:127...   \n",
       "1   ENSP00000216832.4 pep chromosome:GRCh38:14:391...   \n",
       "2   ENSP00000358590.3 pep chromosome:GRCh38:6:8715...   \n",
       "3   ENSP00000291574.4 pep chromosome:GRCh38:21:440...   \n",
       "4   ENSP00000402679.1 pep chromosome:GRCh38:22:314...   \n",
       "5   ENSP00000446426.1 pep chromosome:GRCh38:18:137...   \n",
       "6   ENSP00000382204.2 pep chromosome:GRCh38:10:631...   \n",
       "7   ENSP00000416662.3 pep chromosome:GRCh38:7:5588...   \n",
       "8   ENSP00000369014.4 pep chromosome:GRCh38:4:1210...   \n",
       "9   ENSP00000381036.3 pep chromosome:GRCh38:6:1465...   \n",
       "10  ENSP00000234296.2 pep chromosome:GRCh38:2:2009...   \n",
       "\n",
       "                                 filename                               md5  \\\n",
       "0   Homo_sapiens.GRCh38.pep.all.fa.gz.sig  0ab9786e797b2695015771545cc8b057   \n",
       "1   Homo_sapiens.GRCh38.pep.all.fa.gz.sig  41ede21de46999bb72b2402bc1a5e96a   \n",
       "2   Homo_sapiens.GRCh38.pep.all.fa.gz.sig  df151aa24dbdc0211cfb6bee685e8dd5   \n",
       "3   Homo_sapiens.GRCh38.pep.all.fa.gz.sig  fca25549dbe0db7e75bdc9c468cd4b7a   \n",
       "4   Homo_sapiens.GRCh38.pep.all.fa.gz.sig  0a6bc12b1a1636702fdf510ef57c18a5   \n",
       "5   Homo_sapiens.GRCh38.pep.all.fa.gz.sig  d3c68c7c2341c517a758be7178bcc578   \n",
       "6   Homo_sapiens.GRCh38.pep.all.fa.gz.sig  0a158f56b7265457ff124105964f6929   \n",
       "7   Homo_sapiens.GRCh38.pep.all.fa.gz.sig  407440f512f8b41cc1f576bdfcd7f3bc   \n",
       "8   Homo_sapiens.GRCh38.pep.all.fa.gz.sig  e894bf5e719c983464b69312f0adf0fa   \n",
       "9   Homo_sapiens.GRCh38.pep.all.fa.gz.sig  772eae7df244ef24001f42a3761bed04   \n",
       "10  Homo_sapiens.GRCh38.pep.all.fa.gz.sig  9c32ac9f358d0128d25d0af1b22abf33   \n",
       "\n",
       "    f_match_orig  unique_intersect_bp  gather_result_rank  remaining_bp  \\\n",
       "0       0.181818                   20                   0           120   \n",
       "1       0.025641                   20                   1           100   \n",
       "2       0.007194                   20                   2            80   \n",
       "3       0.008621                   10                   3            70   \n",
       "4       0.008065                   10                   4            60   \n",
       "5       0.025000                   10                   5            50   \n",
       "6       0.004065                   10                   6            40   \n",
       "7       0.025641                   10                   7            30   \n",
       "8       0.017857                   10                   8            20   \n",
       "9       0.006173                   10                   9            10   \n",
       "10      0.013514                   10                  10             0   \n",
       "\n",
       "       query_filename query_name query_md5  query_bp  \n",
       "0   Bs_proteins.fa.gz        BHF  c9b18841       210  \n",
       "1   Bs_proteins.fa.gz        BHF  c9b18841       210  \n",
       "2   Bs_proteins.fa.gz        BHF  c9b18841       210  \n",
       "3   Bs_proteins.fa.gz        BHF  c9b18841       210  \n",
       "4   Bs_proteins.fa.gz        BHF  c9b18841       210  \n",
       "5   Bs_proteins.fa.gz        BHF  c9b18841       210  \n",
       "6   Bs_proteins.fa.gz        BHF  c9b18841       210  \n",
       "7   Bs_proteins.fa.gz        BHF  c9b18841       210  \n",
       "8   Bs_proteins.fa.gz        BHF  c9b18841       210  \n",
       "9   Bs_proteins.fa.gz        BHF  c9b18841       210  \n",
       "10  Bs_proteins.fa.gz        BHF  c9b18841       210  "
      ]
     },
     "execution_count": 30,
     "metadata": {},
     "output_type": "execute_result"
    }
   ],
   "source": [
    "results_dir = '/Users/olgabot/botryllus/pipeline-results/kmermaid/april2021-singleton-fewer-species/gather_search_nov2021'\n",
    "\n",
    "csv = os.path.join(results_dir, 'bhf_human_gather.csv')\n",
    "gather = pd.read_csv(csv)\n",
    "\n",
    "gather = add_gene_symbol(gather)\n",
    "# gather = gather.query('intersect_bp > 10')\n",
    "print(gather.shape)\n",
    "gather.head(20)"
   ]
  },
  {
   "cell_type": "code",
   "execution_count": 38,
   "id": "efd9bd76-d3e5-477c-abf1-f4af6f741626",
   "metadata": {},
   "outputs": [
    {
     "name": "stdout",
     "output_type": "stream",
     "text": [
      "|    | symbol   |   intersect_bp |   f_orig_query |    f_match |   f_unique_to_query |   f_unique_weighted |   average_abund |   median_abund |   std_abund | name                                                                                                                                                                                                                                                                                           | filename                              | md5                              |   f_match_orig |   unique_intersect_bp |   gather_result_rank |   remaining_bp | query_filename    | query_name   | query_md5   |   query_bp |\n",
      "|---:|:---------|---------------:|---------------:|-----------:|--------------------:|--------------------:|----------------:|---------------:|------------:|:-----------------------------------------------------------------------------------------------------------------------------------------------------------------------------------------------------------------------------------------------------------------------------------------------|:--------------------------------------|:---------------------------------|---------------:|----------------------:|---------------------:|---------------:|:------------------|:-------------|:------------|-----------:|\n",
      "|  0 | TNPO2    |             20 |      0.0952381 | 0.181818   |           0.0952381 |           0.0952381 |               1 |              1 |           0 | ENSP00000468698.1 pep chromosome:GRCh38:19:12701054:12702845:-1 gene:ENSG00000105576.15 transcript:ENST00000589149.5 gene_biotype:protein_coding transcript_biotype:protein_coding gene_symbol:TNPO2 description:transportin 2 [Source:HGNC Symbol;Acc:HGNC:19998]                             | Homo_sapiens.GRCh38.pep.all.fa.gz.sig | 0ab9786e797b2695015771545cc8b057 |     0.181818   |                    20 |                    0 |            120 | Bs_proteins.fa.gz | BHF          | c9b18841    |        210 |\n",
      "|  1 | PNN      |             20 |      0.0952381 | 0.025641   |           0.0952381 |           0.0952381 |               1 |              1 |           0 | ENSP00000216832.4 pep chromosome:GRCh38:14:39175254:39183220:1 gene:ENSG00000100941.9 transcript:ENST00000216832.9 gene_biotype:protein_coding transcript_biotype:protein_coding gene_symbol:PNN description:pinin, desmosome associated protein [Source:HGNC Symbol;Acc:HGNC:9162]            | Homo_sapiens.GRCh38.pep.all.fa.gz.sig | 41ede21de46999bb72b2402bc1a5e96a |     0.025641   |                    20 |                    1 |            100 | Bs_proteins.fa.gz | BHF          | c9b18841    |        210 |\n",
      "|  2 | ZNF292   |             20 |      0.0952381 | 0.00719424 |           0.0952381 |           0.0952381 |               1 |              1 |           0 | ENSP00000358590.3 pep chromosome:GRCh38:6:87155565:87265943:1 gene:ENSG00000188994.13 transcript:ENST00000369577.8 gene_biotype:protein_coding transcript_biotype:protein_coding gene_symbol:ZNF292 description:zinc finger protein 292 [Source:HGNC Symbol;Acc:HGNC:18410]                    | Homo_sapiens.GRCh38.pep.all.fa.gz.sig | df151aa24dbdc0211cfb6bee685e8dd5 |     0.00719424 |                    20 |                    2 |             80 | Bs_proteins.fa.gz | BHF          | c9b18841    |        210 |\n",
      "|  3 | TRAPPC10 |             10 |      0.047619  | 0.00862069 |           0.047619  |           0.047619  |               1 |              1 |           0 | ENSP00000291574.4 pep chromosome:GRCh38:21:44012309:44106552:1 gene:ENSG00000160218.13 transcript:ENST00000291574.9 gene_biotype:protein_coding transcript_biotype:protein_coding gene_symbol:TRAPPC10 description:trafficking protein particle complex 10 [Source:HGNC Symbol;Acc:HGNC:11868] | Homo_sapiens.GRCh38.pep.all.fa.gz.sig | fca25549dbe0db7e75bdc9c468cd4b7a |     0.00862069 |                    10 |                    3 |             70 | Bs_proteins.fa.gz | BHF          | c9b18841    |        210 |\n",
      "|  4 | SFI1     |             10 |      0.047619  | 0.00806452 |           0.047619  |           0.047619  |               1 |              1 |           0 | ENSP00000402679.1 pep chromosome:GRCh38:22:31496275:31618551:1 gene:ENSG00000198089.16 transcript:ENST00000432498.5 gene_biotype:protein_coding transcript_biotype:protein_coding gene_symbol:SFI1 description:SFI1 centrin binding protein [Source:HGNC Symbol;Acc:HGNC:29064]                | Homo_sapiens.GRCh38.pep.all.fa.gz.sig | 0a6bc12b1a1636702fdf510ef57c18a5 |     0.00806452 |                    10 |                    4 |             60 | Bs_proteins.fa.gz | BHF          | c9b18841    |        210 |\n",
      "|  5 | RNMT     |             10 |      0.047619  | 0.025      |           0.047619  |           0.047619  |               1 |              1 |           0 | ENSP00000446426.1 pep chromosome:GRCh38:18:13726660:13760285:1 gene:ENSG00000101654.18 transcript:ENST00000543302.6 gene_biotype:protein_coding transcript_biotype:protein_coding gene_symbol:RNMT description:RNA guanine-7 methyltransferase [Source:HGNC Symbol;Acc:HGNC:10075]             | Homo_sapiens.GRCh38.pep.all.fa.gz.sig | d3c68c7c2341c517a758be7178bcc578 |     0.025      |                    10 |                    5 |             50 | Bs_proteins.fa.gz | BHF          | c9b18841    |        210 |\n",
      "|  6 | JMJD1C   |             10 |      0.047619  | 0.00406504 |           0.047619  |           0.047619  |               1 |              1 |           0 | ENSP00000382204.2 pep chromosome:GRCh38:10:63167225:63465977:-1 gene:ENSG00000171988.19 transcript:ENST00000399262.7 gene_biotype:protein_coding transcript_biotype:protein_coding gene_symbol:JMJD1C description:jumonji domain containing 1C [Source:HGNC Symbol;Acc:HGNC:12313]             | Homo_sapiens.GRCh38.pep.all.fa.gz.sig | 0a158f56b7265457ff124105964f6929 |     0.00406504 |                    10 |                    6 |             40 | Bs_proteins.fa.gz | BHF          | c9b18841    |        210 |\n",
      "|  7 | ZNF713   |             10 |      0.047619  | 0.025641   |           0.047619  |           0.047619  |               1 |              1 |           0 | ENSP00000416662.3 pep chromosome:GRCh38:7:55887456:55942225:1 gene:ENSG00000178665.16 transcript:ENST00000429591.4 gene_biotype:protein_coding transcript_biotype:protein_coding gene_symbol:ZNF713 description:zinc finger protein 713 [Source:HGNC Symbol;Acc:HGNC:22043]                    | Homo_sapiens.GRCh38.pep.all.fa.gz.sig | 407440f512f8b41cc1f576bdfcd7f3bc |     0.025641   |                    10 |                    7 |             30 | Bs_proteins.fa.gz | BHF          | c9b18841    |        210 |\n",
      "|  8 | NDNF     |             10 |      0.047619  | 0.0178571  |           0.047619  |           0.047619  |               1 |              1 |           0 | ENSP00000369014.4 pep chromosome:GRCh38:4:121035613:121072535:-1 gene:ENSG00000173376.14 transcript:ENST00000379692.9 gene_biotype:protein_coding transcript_biotype:protein_coding gene_symbol:NDNF description:neuron derived neurotrophic factor [Source:HGNC Symbol;Acc:HGNC:26256]        | Homo_sapiens.GRCh38.pep.all.fa.gz.sig | e894bf5e719c983464b69312f0adf0fa |     0.0178571  |                    10 |                    8 |             20 | Bs_proteins.fa.gz | BHF          | c9b18841    |        210 |\n",
      "|  9 | ADGB     |             10 |      0.047619  | 0.00617284 |           0.047619  |           0.047619  |               1 |              1 |           0 | ENSP00000381036.3 pep chromosome:GRCh38:6:146598972:146815462:1 gene:ENSG00000118492.18 transcript:ENST00000397944.8 gene_biotype:protein_coding transcript_biotype:protein_coding gene_symbol:ADGB description:androglobin [Source:HGNC Symbol;Acc:HGNC:21212]                                | Homo_sapiens.GRCh38.pep.all.fa.gz.sig | 772eae7df244ef24001f42a3761bed04 |     0.00617284 |                    10 |                    9 |             10 | Bs_proteins.fa.gz | BHF          | c9b18841    |        210 |\n",
      "| 10 | ORC2     |             10 |      0.047619  | 0.0135135  |           0.047619  |           0.047619  |               1 |              1 |           0 | ENSP00000234296.2 pep chromosome:GRCh38:2:200908977:200963660:-1 gene:ENSG00000115942.9 transcript:ENST00000234296.7 gene_biotype:protein_coding transcript_biotype:protein_coding gene_symbol:ORC2 description:origin recognition complex subunit 2 [Source:HGNC Symbol;Acc:HGNC:8488]        | Homo_sapiens.GRCh38.pep.all.fa.gz.sig | 9c32ac9f358d0128d25d0af1b22abf33 |     0.0135135  |                    10 |                   10 |              0 | Bs_proteins.fa.gz | BHF          | c9b18841    |        210 |\n"
     ]
    }
   ],
   "source": [
    "print(gather.to_markdown())"
   ]
  },
  {
   "cell_type": "code",
   "execution_count": 6,
   "id": "9aff6211-b2f7-4546-b9e9-21bde4b55d5b",
   "metadata": {},
   "outputs": [],
   "source": [
    "botryllus_bhf_sigfile = '/Users/olgabot/botryllus/pipeline-results/kmermaid/april2021-singleton-fewer-species/sketches_peptide/molecule-protein,dayhoff,hp__ksize-30,51,72,81__scaled-10__track_abundance-true/sigs/botryllus_bhf.sig'\n",
    "botryllus_protein_fasta = '/Users/olgabot/botryllus/data/botryllus-proteins/Bs_proteins.fa'\n"
   ]
  },
  {
   "cell_type": "markdown",
   "id": "c059720d-59ff-43df-8ff5-a5d38886db67",
   "metadata": {},
   "source": [
    "## Read fasta sequences of search and gather matches"
   ]
  },
  {
   "cell_type": "code",
   "execution_count": 7,
   "id": "efb34812-4085-4fca-bd1d-5b01f1d8c131",
   "metadata": {},
   "outputs": [
    {
     "data": {
      "text/plain": [
       "37"
      ]
     },
     "execution_count": 7,
     "metadata": {},
     "output_type": "execute_result"
    }
   ],
   "source": [
    "results_dir = '/Users/olgabot/botryllus/pipeline-results/kmermaid/april2021-singleton-fewer-species/gather_search_nov2021'\n",
    "\n",
    "fasta = os.path.join(results_dir, 'bhf_human_search_gather_matches.fasta')\n",
    "bhf_matches = list(screed.open(fasta))\n",
    "len(bhf_matches)\n"
   ]
  },
  {
   "cell_type": "code",
   "execution_count": null,
   "id": "1c755e9e-2d04-404e-a2c4-2b4c7af64f52",
   "metadata": {},
   "outputs": [],
   "source": []
  },
  {
   "cell_type": "code",
   "execution_count": 8,
   "id": "1f5f0ee9-8bc7-40d2-9550-e02f2718e3db",
   "metadata": {},
   "outputs": [
    {
     "name": "stdout",
     "output_type": "stream",
     "text": [
      ">ENSP00000468698.1 pep chromosome:GRCh38:19:12701054:12702845:-1 gene:ENSG00000105576.15 transcript:ENST00000589149.5 gene_biotype:protein_coding transcript_biotype:protein_coding gene_symbol:TNPO2 description:transportin 2 [Source:HGNC Symbol;Acc:HGNC:19998]\n",
      "QDTAGKHSHHHRPLGLRVPPGGGTHAAAVHPALVHVPQEHQGQRGEGLSLPRHLHDDRCQPGGRCAASWVSPKDDLRDMFYKILHGFKDQVGEDNWQQFSEQFPPLLKERLAAFYGV\n"
     ]
    }
   ],
   "source": [
    "! grep -A 1 TNPO2 $results_dir/bhf_human_search_gather_matches.fasta"
   ]
  },
  {
   "cell_type": "code",
   "execution_count": 9,
   "id": "9845e60f-d11c-4c14-8327-b453d60c2017",
   "metadata": {},
   "outputs": [
    {
     "name": "stdout",
     "output_type": "stream",
     "text": [
      ">ENSP00000216832.4 pep chromosome:GRCh38:14:39175254:39183220:1 gene:ENSG00000100941.9 transcript:ENST00000216832.9 gene_biotype:protein_coding transcript_biotype:protein_coding gene_symbol:PNN description:pinin, desmosome associated protein [Source:HGNC Symbol;Acc:HGNC:9162]\n",
      "MAVAVRTLQEQLEKAKESLKNVDENIRKLTGRDPNDVRPIQARLLALSGPGGGRGRGSLLLRRGFSDSGGGPPAKQRDLEGAVSRLGGERRTRRESRQESDPEDDDVKKPALQSSVVATSKERTRRDLIQDQNMDEKGKQRNRRIFGLLMGTLQKFKQESTVATERQKRRQEIEQKLEVQAEEERKQVENERRELFEERRAKQTELRLLEQKVELAQLQEEWNEHNAKIIKYIRTKTKPHLFYIPGRMCPATQKLIEESQRKMNALFEGRRIEFAEQINKMEARPRRQSMKEKEHQVVRNEEQKAEQEEGKVAQREEELEETGNQHNDVEIEEAGEEEEKEIAIVHSDAEKEQEEEEQKQEMEVKMEEETEVRESEKQQDSQPEEVMDVLEMVENVKHVIADQEVMETNRVESVEPSENEASKELEPEMEFEIEPDKECKTLSPGKENVSALDMEKESEEKEEKESEPQPEPVAQPQPQSQPQLQLQSQSQPVLQSQPPSQPEDLSLAVLQPTPQVTQEQGHLLPERKDFPVESVKLTEVPVEPVLTVHPESKSKTKTRSRSRGRARNKTSKSRSRSSSSSSSSSSSTSSSSGSSSSSGSSSSRSSSSSSSSTSGSSSRDSSSSTSSSSESRSRSRGRGHNRDRKHRRSVDRKRRDTSGLERSHKSSKGGSSRDTKGSKDKNSRSDRKRSISESSRSGKRSSRSERDRKSDRKDKRR\n"
     ]
    }
   ],
   "source": [
    "! grep -A 1 'gene_symbol:PNN' $results_dir/bhf_human_search_gather_matches.fasta"
   ]
  },
  {
   "cell_type": "code",
   "execution_count": 10,
   "id": "8c2c4440-7c7b-42d9-adac-8e89b428a371",
   "metadata": {},
   "outputs": [
    {
     "name": "stdout",
     "output_type": "stream",
     "text": [
      ">ENSP00000358590.3 pep chromosome:GRCh38:6:87155565:87265943:1 gene:ENSG00000188994.13 transcript:ENST00000369577.8 gene_biotype:protein_coding transcript_biotype:protein_coding gene_symbol:ZNF292 description:zinc finger protein 292 [Source:HGNC Symbol;Acc:HGNC:18410]\n",
      "MADEEAEQERLSCGEGGCVAELQRLGERLQELELQLRESRVPAVEAATDYCQQLCQTLLEYAEKWKTSEDPLPLLEVYTVAIQSYVKARPYLTSECENVALVLERLALSCVELLLCLPVELSDKQWEQFQTLVQVAHEKLMENGSCELHFLATLAQETGVWKNPVLCTILSQEPLDKDKVNEFLAFEGPILLDMRIKHLIKTNQLSQATALAKLCSDHPEIGIKGSFKQTYLVCLCTSSPNGKLIEEISEVDCKDALEMICNLESEGDEKSALVLCTAFLSRQLQQGDMYCAWELTLFWSKLQQRVEPSIQVYLERCRQLSLLTKTVYHIFFLIKVINSETEGAGLATCIELCVKALRLESTENTEVKISICKTISCLLPDDLEVKRACQLSEFLIEPTVDAYYAVEMLYNQPDQKYDEENLPIPNSLRCELLLVLKTQWPFDPEFWDWKTLKRQCLALMGEEASIVSSIDELNDSEVYEKVVDYQEESKETSMNGLSGGVGANSGLLKDIGDEKQKKREIKQLRERGFISARFRNWQAYMQYCVLCDKEFLGHRIVRHAQKHYKDGIYSCPICAKNFNSKETFVPHVTLHVKQSSKERLAAMKPLRRLGRPPKITTTNENQKTNTVAKQEQRPIKKNSLYSTDFIVFNDNDGSDDENDDKDKSYEPEVIPVQKPVPVNEFNCPVTFCKKGFKYFKNLIAHVKGHKDNEDAKRFLEMQSKKVICQYCRRHFVSVTHLNDHLQMHCGSKPYICIQMKCKAGFNSYAELLTHRKEHQVFRAKCMFPKCGRIFSEAYLLYDHEAQHYNTYTCKFTGCGKVYRSQGELEKHLDDHSTPPEKVLPPEAQLNSSGDSIQPSEVNQNTAENIEKERSMLPSENNIENSLLADRSDAWDKSKAESAVTKQDQISASELRQANGPLSNGLENPATTPLLQSSEVAVSIKVSLNQGIEDNFGKQENSTVEGSGEALVTDLHTPVEDTCNDLCHPGFQERKEQDCFNDAHVTQNSLVNSETLKIGDLTPQNLERQVNNLMTFSVQNQAAFQNNLPTSKFECGDNVKTSSNLYNLPLKTLESIAFVPPQSDLSNSLGTPSVPPKAPVQKFSCQVEGCTRTYNSSQSIGKHMKTAHPDQYAAFKMQRKSKKGQKANNLNTPNNGKFVYFLPSPVNSSNPFFTSQTKANGNPACSAQLQHVSPPIFPAHLASVSTPLLSSMESVINPNITSQDKNEQGGMLCSQMENLPSTALPAQMEDLTKTVLPLNIDSGSDPFLPLPAESSSMSLFPSPADSGTNSVFSQLENNTNHYSSQIEGNTNSSFLKGGNGENAVFPSQVNVANNFSSTNAQQSAPEKVKKDRGRGPNGKERKPKHNKRAKWPAIIRDGKFICSRCYRAFTNPRSLGGHLSKRSYCKPLDGAEIAQELLQSNGQPSLLASMILSTNAVNLQQPQQSTFNPEACFKDPSFLQLLAENRSPAFLPNTFPRSGVTNFNTSVSQEGSEIIKQALETAGIPSTFEGAEMLSHVSTGCVSDASQVNATVMPNPTVPPLLHTVCHPNTLLTNQNRTSNSKTSSIEECSSLPVFPTNDLLLKTVENGLCSSSFPNSGGPSQNFTSNSSRVSVISGPQNTRSSHLNKKGNSASKRRKKVAPPLIAPNASQNLVTSDLTTMGLIAKSVEIPTTNLHSNVIPTCEPQSLVENLTQKLNNVNNQLFMTDVKENFKTSLESHTVLAPLTLKTENGDSQMMALNSCTTSINSDLQISEDNVIQNFEKTLEIIKTAMNSQILEVKSGSQGAGETSQNAQINYNIQLPSVNTVQNNKLPDSSPFSSFISVMPTKSNIPQSEVSHKEDQIQEILEGLQKLKLENDLSTPASQCVLINTSVTLTPTPVKSTADITVIQPVSEMINIQFNDKVNKPFVCQNQGCNYSAMTKDALFKHYGKIHQYTPEMILEIKKNQLKFAPFKCVVPTCTKTFTRNSNLRAHCQLVHHFTTEEMVKLKIKRPYGRKSQSENVPASRSTQVKKQLAMTEENKKESQPALELRAETQNTHSNVAVIPEKQLVEKKSPDKTESSLQVITVTSEQCNTNALTNTQTKGRKIRRHKKEKEEKKRKKPVSQSLEFPTRYSPYRPYRCVHQGCFAAFTIQQNLILHYQAVHKSDLPAFSAEVEEESEAGKESEETETKQTLKEFRCQVSDCSRIFQAITGLIQHYMKLHEMTPEEIESMTASVDVGKFPCDQLECKSSFTTYLNYVVHLEADHGIGLRASKTEEDGVYKCDCEGCDRIYATRSNLLRHIFNKHNDKHKAHLIRPRRLTPGQENMSSKANQEKSKSKHRGTKHSRCGKEGIKMPKTKRKKKNNLENKNAKIVQIEENKPYSLKRGKHVYSIKARNDALSECTSRFVTQYPCMIKGCTSVVTSESNIIRHYKCHKLSKAFTSQHRNLLIVFKRCCNSQVKETSEQEGAKNDVKDSDTCVSESNDNSRTTATVSQKEVEKNEKDEMDELTELFITKLINEDSTSVETQANTSSNVSNDFQEDNLCQSERQKASNLKRVNKEKNVSQNKKRKVEKAEPASAAELSSVRKEEETAVAIQTIEEHPASFDWSSFKPMGFEVSFLKFLEESAVKQKKNTDKDHPNTGNKKGSHSNSRKNIDKTAVTSGNHVCPCKESETFVQFANPSQLQCSDNVKIVLDKNLKDCTELVLKQLQEMKPTVSLKKLEVHSNDPDMSVMKDISIGKATGRGQY\n",
      "--\n",
      ">ENSP00000342847.4 pep chromosome:GRCh38:6:87155581:87261920:1 gene:ENSG00000188994.13 transcript:ENST00000339907.8 gene_biotype:protein_coding transcript_biotype:protein_coding gene_symbol:ZNF292 description:zinc finger protein 292 [Source:HGNC Symbol;Acc:HGNC:18410]\n",
      "MADEEAEQERLSCGEGGCVAELQRLGERLQELELQLRESRVPAVEAATDYCQQLCQTLLEYAEKWKTSEDPLPLLEVYTVAIQSYVKARPYLTSECENVALVLERLALSCVELLLCLPVELSDKQWEQFQTLVQVAHEKLMENGSCELHFLATLAQETGVWKNPVLCTILSQEPLDKDKAFEGPILLDMRIKHLIKTNQLSQATALAKLCSDHPEIGIKGSFKQTYLVCLCTSSPNGKLIEEISEVDCKDALEMICNLESEGDEKSALVLCTAFLSRQLQQGDMYCAWELTLFWSKLQQRVEPSIQVYLERCRQLSLLTKTVYHIFFLIKVINSETEGAGLATCIELCVKALRLESTENTEVKISICKTISCLLPDDLEVKRACQLSEFLIEPTVDAYYAVEMLYNQPDQKYDEENLPIPNSLRCELLLVLKTQWPFDPEFWDWKTLKRQCLALMGEEASIVSSIDELNDSEVYEKVVDYQEESKETSMNGLSGGVGANSGLLKDIGDEKQKKREIKQLRERGFISARFRNWQAYMQYCVLCDKEFLGHRIVRHAQKHYKDGIYSCPICAKNFNSKETFVPHVTLHVKQSSKERLAAMKPLRRLGRPPKITTTNENQKTNTVAKQEQRPIKKNSLYSTDFIVFNDNDGSDDENDDKDKSYEPEVIPVQKPVPVNEFNCPVTFCKKGFKYFKNLIAHVKGHKDNEDAKRFLEMQSKKVICQYCRRHFVSVTHLNDHLQMHCGSKPYICIQMKCKAGFNSYAELLTHRKEHQVFRAKCMFPKCGRIFSEAYLLYDHEAQHYNTYTCKFTGCGKVYRSQGELEKHLDDHSTPPEKVLPPEAQLNSSGDSIQPSEVNQNTAENIEKERSMLPSENNIENSLLADRSDAWDKSKAESAVTKQDQISASELRQANGPLSNGLENPATTPLLQSSEVAVSIKVSLNQGIEDNFGKQENSTVEGSGEALVTDLHTPVEDTCNDLCHPGFQERKEQDCFNDAHVTQNSLVNSETLKIGDLTPQNLERQVNNLMTFSVQNQAAFQNNLPTSKFECGDNVKTSSNLYNLPLKTLESIAFVPPQSDLSNSLGTPSVPPKAPVQKFSCQVEGCTRTYNSSQSIGKHMKTAHPDQYAAFKMQRKSKKGQKANNLNTPNNGKFVYFLPSPVNSSNPFFTSQTKANGNPACSAQLQHVSPPIFPAHLASVSTPLLSSMESVINPNITSQDKNEQGGMLCSQMENLPSTALPAQMEDLTKTVLPLNIDSGSDPFLPLPAESSSMSLFPSPADSGTNSVFSQLENNTNHYSSQIEGNTNSSFLKGGNGENAVFPSQVNVANNFSSTNAQQSAPEKVKKDRGRGPNGKERKPKHNKRAKWPAIIRDGKFICSRCYRAFTNPRSLGGHLSKRSYCKPLDGAEIAQELLQSNGQPSLLASMILSTNAVNLQQPQQSTFNPEACFKDPSFLQLLAENRSPAFLPNTFPRSGVTNFNTSVSQEGSEIIKQALETAGIPSTFEGAEMLSHVSTGCVSDASQVNATVMPNPTVPPLLHTVCHPNTLLTNQNRTSNSKTSSIEECSSLPVFPTNDLLLKTVENGLCSSSFPNSGGPSQNFTSNSSRVSVISGPQNTRSSHLNKKGNSASKRRKKVAPPLIAPNASQNLVTSDLTTMGLIAKSVEIPTTNLHSNVIPTCEPQSLVENLTQKLNNVNNQLFMTDVKENFKTSLESHTVLAPLTLKTENGDSQMMALNSCTTSINSDLQISEDNVIQNFEKTLEIIKTAMNSQILEVKSGSQGAGETSQNAQINYNIQLPSVNTVQNNKLPDSSPFSSFISVMPTKSNIPQSEVSHKEDQIQEILEGLQKLKLENDLSTPASQCVLINTSVTLTPTPVKSTADITVIQPVSEMINIQFNDKVNKPFVCQNQGCNYSAMTKDALFKHYGKIHQYTPEMILEIKKNQLKFAPFKCVVPTCTKTFTRNSNLRAHCQLVHHFTTEEMVKLKIKRPYGRKSQSENVPASRSTQVKKQLAMTEENKKESQPALELRAETQNTHSNVAVIPEKQLVEKKSPDKTESSLQVITVTSEQCNTNALTNTQTKGRKIRRHKKEKEEKKRKKPVSQSLEFPTRYSPYRPYRCVHQGCFAAFTIQQNLILHYQAVHKSDLPAFSAEVEEESEAGKESEETETKQTLKEFRCQVSDCSRIFQAITGLIQHYMKLHEMTPEEIESMTASVDVGKFPCDQLECKSSFTTYLNYVVHLEADHGIGLRASKTEEDGVYKCDCEGCDRIYATRSNLLRHIFNKHNDKHKAHLIRPRRLTPGQENMSSKANQEKSKSKHRGTKHSRCGKEGIKMPKTKRKKKNNLENKNAKIVQIEENKPYSLKRGKHVYSIKARNDALSECTSRFVTQYPCMIKGCTSVVTSESNIIRHYKCHKLSKAFTSQHRNLLIVFKRCCNSQVKETSEQEGAKNDVKDSDTCVSESNDNSRTTATVSQKEVEKNEKDEMDELTELFITKLINEDSTSVETQANTSSNVSNDFQEDNLCQSERQKASNLKRVNKEKNVSQNKKRKVEKAEPASAAELSSVRKEEETAVAIQTIEEHPASFDWSSFKPMGFEVSFLKFLEESAVKQKKNTDKDHPNTGNKKGSHSNSRKNIDKTAVTSGNHVCPCKESETFVQFANPSQLQCSDNVKIVLDKNLKDCTELVLKQLQEMKPTVSLKKLEVHSNDPDMSVMKDISIGKATGRGQY\n"
     ]
    }
   ],
   "source": [
    "! grep -A 1 'gene_symbol:ZNF292' $results_dir/bhf_human_search_gather_matches.fasta"
   ]
  },
  {
   "cell_type": "code",
   "execution_count": 11,
   "id": "18bca36b-2345-4182-bc63-ea1ee2c23f79",
   "metadata": {},
   "outputs": [],
   "source": [
    "bhf_match_dir = '/Users/olgabot/botryllus/data/bhf-match'"
   ]
  },
  {
   "cell_type": "code",
   "execution_count": 12,
   "id": "5da4485e-13a0-4de6-b8fa-d41a6fc054bf",
   "metadata": {},
   "outputs": [
    {
     "name": "stdout",
     "output_type": "stream",
     "text": [
      "Overwriting /Users/olgabot/botryllus/pipeline-results/kmermaid/april2021-singleton-fewer-species/gather_search_nov2021/bhf_tnpo2.fasta\n"
     ]
    }
   ],
   "source": [
    "%%file $results_dir/bhf_tnpo2.fasta\n",
    ">TNPO2 ENSP00000468698.1 pep chromosome:GRCh38:19:12701054:12702845:-1 gene:ENSG00000105576.15 transcript:ENST00000589149.5 gene_biotype:protein_coding transcript_biotype:protein_coding gene_symbol:TNPO2 description:transportin 2 [Source:HGNC Symbol;Acc:HGNC:19998]\n",
    "QDTAGKHSHHHRPLGLRVPPGGGTHAAAVHPALVHVPQEHQGQRGEGLSLPRHLHDDRCQPGGRCAASWVSPKDDLRDMFYKILHGFKDQVGEDNWQQFSEQFPPLLKERLAAFYGV\n",
    ">BHF \n",
    "MVHDTEQLLAQGHHEEETECGKYGKLPEKGSECKKHGIFCRILTALHLKKRRTEHDHQKLLSESQEHLDA\n",
    "STKKTKKKAKKDKRKNKPPKKDSETSKPAQTTISRLPSNRNNNNANSFATTYEKFDNDSLCSVDLIPVDI\n",
    "EFWDMENEPVDQLPHEILESVHMYGDDRFGERLIDRAQNKYAPLDEKQRSESHGAGEYLKHQWKGQGAKK\n",
    "ARKRIRTVMKATWQSLQAGARSQTAFLNPQGAVSAALVQNRR"
   ]
  },
  {
   "cell_type": "code",
   "execution_count": 13,
   "id": "1413e63f-f283-45cc-8ea0-db12514acac7",
   "metadata": {},
   "outputs": [
    {
     "name": "stdout",
     "output_type": "stream",
     "text": [
      "Overwriting /Users/olgabot/botryllus/data/bhf-match/bhf_tnpo2.fasta\n"
     ]
    }
   ],
   "source": [
    "%%file $bhf_match_dir/bhf_tnpo2.fasta\n",
    ">TNPO2 ENSP00000468698.1 pep chromosome:GRCh38:19:12701054:12702845:-1 gene:ENSG00000105576.15 transcript:ENST00000589149.5 gene_biotype:protein_coding transcript_biotype:protein_coding gene_symbol:TNPO2 description:transportin 2 [Source:HGNC Symbol;Acc:HGNC:19998]\n",
    "QDTAGKHSHHHRPLGLRVPPGGGTHAAAVHPALVHVPQEHQGQRGEGLSLPRHLHDDRCQPGGRCAASWVSPKDDLRDMFYKILHGFKDQVGEDNWQQFSEQFPPLLKERLAAFYGV\n",
    ">BHF \n",
    "MVHDTEQLLAQGHHEEETECGKYGKLPEKGSECKKHGIFCRILTALHLKKRRTEHDHQKLLSESQEHLDA\n",
    "STKKTKKKAKKDKRKNKPPKKDSETSKPAQTTISRLPSNRNNNNANSFATTYEKFDNDSLCSVDLIPVDI\n",
    "EFWDMENEPVDQLPHEILESVHMYGDDRFGERLIDRAQNKYAPLDEKQRSESHGAGEYLKHQWKGQGAKK\n",
    "ARKRIRTVMKATWQSLQAGARSQTAFLNPQGAVSAALVQNRR"
   ]
  },
  {
   "cell_type": "markdown",
   "id": "408c2f52-d0c2-48f5-a7f5-2a219a98cd04",
   "metadata": {},
   "source": [
    "## BHF is first record in protein fasta"
   ]
  },
  {
   "cell_type": "code",
   "execution_count": 14,
   "id": "2893320f-4083-4b9e-8f63-a7060176ea98",
   "metadata": {},
   "outputs": [
    {
     "name": "stdout",
     "output_type": "stream",
     "text": [
      ">BHF \n",
      "MVHDTEQLLAQGHHEEETECGKYGKLPEKGSECKKHGIFCRILTALHLKKRRTEHDHQKLLSESQEHLDA\n",
      "STKKTKKKAKKDKRKNKPPKKDSETSKPAQTTISRLPSNRNNNNANSFATTYEKFDNDSLCSVDLIPVDI\n",
      "EFWDMENEPVDQLPHEILESVHMYGDDRFGERLIDRAQNKYAPLDEKQRSESHGAGEYLKHQWKGQGAKK\n",
      "ARKRIRTVMKATWQSLQAGARSQTAFLNPQGAVSAALVQNRR\n",
      ">sFuHC \n",
      "MNGFAIFVPICSIFITTSQGNVAENILSSLSNDDITAIQTGYDSPFVFSGILFAGSQIVYLENLVQRLKS\n",
      "NVPLLSPSDSGEFEGSEYAIRTGWPYIHVAYFNNSDRSRESVSAGIKATPSGLTFSTPINATGTIDSCTY\n",
      "SAYTVLSVKDEATSSVEFVHFAVYVTDADPQFGRKIVYNGRVHGSKGRSAISVKGNPNNVVVGSVVLSKT\n",
      "GADPMQQTNLEAIVRIIAQRACDQLDTIVVEDCLNGEVTDTCQCDEGYGGARCETKCMNGDVVSTSPYNG\n"
     ]
    }
   ],
   "source": [
    "! head $botryllus_protein_fasta"
   ]
  },
  {
   "cell_type": "code",
   "execution_count": 15,
   "id": "13559aef-22b6-4c9f-ac1a-5004ce3ff530",
   "metadata": {},
   "outputs": [
    {
     "data": {
      "text/plain": [
       "{'name': 'BHF', 'sequence': 'MVHDTEQLLAQGHHEEETECGKYGKLPEKGSECKKHGIFCRILTALHLKKRRTEHDHQKLLSESQEHLDASTKKTKKKAKKDKRKNKPPKKDSETSKPAQTTISRLPSNRNNNNANSFATTYEKFDNDSLCSVDLIPVDIEFWDMENEPVDQLPHEILESVHMYGDDRFGERLIDRAQNKYAPLDEKQRSESHGAGEYLKHQWKGQGAKKARKRIRTVMKATWQSLQAGARSQTAFLNPQGAVSAALVQNRR', 'description': ''}"
      ]
     },
     "execution_count": 15,
     "metadata": {},
     "output_type": "execute_result"
    }
   ],
   "source": [
    "with screed.open(botryllus_protein_fasta) as records:\n",
    "    for record in records:\n",
    "        bhf = record\n",
    "        break\n",
    "bhf"
   ]
  },
  {
   "cell_type": "code",
   "execution_count": 16,
   "id": "77246e0d-14f2-4425-97c6-840a81a0b525",
   "metadata": {},
   "outputs": [
    {
     "data": {
      "text/plain": [
       "SourmashSignature('BHF', c9b18841)"
      ]
     },
     "execution_count": 16,
     "metadata": {},
     "output_type": "execute_result"
    }
   ],
   "source": [
    "bhf_sig = list(sourmash.load_file_as_signatures(botryllus_bhf_sigfile))[0]\n",
    "bhf_sig"
   ]
  },
  {
   "cell_type": "code",
   "execution_count": 17,
   "id": "b87d9617-f087-4af3-a622-659edc507db7",
   "metadata": {},
   "outputs": [
    {
     "data": {
      "text/plain": [
       "True"
      ]
     },
     "execution_count": 17,
     "metadata": {},
     "output_type": "execute_result"
    }
   ],
   "source": [
    "bhf_sig.minhash.hp"
   ]
  },
  {
   "cell_type": "markdown",
   "id": "48f3cb25-3757-4920-82ba-a202c7bfb260",
   "metadata": {},
   "source": [
    "\n",
    "### Get BHF Kmer to hashes"
   ]
  },
  {
   "cell_type": "code",
   "execution_count": 18,
   "id": "3a6965dd-77d5-4fe4-a0e7-ed4296b0ec51",
   "metadata": {},
   "outputs": [
    {
     "data": {
      "text/html": [
       "<div>\n",
       "<style scoped>\n",
       "    .dataframe tbody tr th:only-of-type {\n",
       "        vertical-align: middle;\n",
       "    }\n",
       "\n",
       "    .dataframe tbody tr th {\n",
       "        vertical-align: top;\n",
       "    }\n",
       "\n",
       "    .dataframe thead th {\n",
       "        text-align: right;\n",
       "    }\n",
       "</style>\n",
       "<table border=\"1\" class=\"dataframe\">\n",
       "  <thead>\n",
       "    <tr style=\"text-align: right;\">\n",
       "      <th></th>\n",
       "      <th>i</th>\n",
       "      <th>kmer</th>\n",
       "      <th>kmer_hp</th>\n",
       "      <th>hashval</th>\n",
       "      <th>name</th>\n",
       "      <th>symbol</th>\n",
       "    </tr>\n",
       "  </thead>\n",
       "  <tbody>\n",
       "    <tr>\n",
       "      <th>0</th>\n",
       "      <td>0</td>\n",
       "      <td>MVHDTEQLLAQGHHEEETECGKYG</td>\n",
       "      <td>hhppppphhhphpppppppphphh</td>\n",
       "      <td>17134648382419275520</td>\n",
       "      <td>BHF</td>\n",
       "      <td>BHF</td>\n",
       "    </tr>\n",
       "    <tr>\n",
       "      <th>1</th>\n",
       "      <td>1</td>\n",
       "      <td>VHDTEQLLAQGHHEEETECGKYGK</td>\n",
       "      <td>hppppphhhphpppppppphphhp</td>\n",
       "      <td>1036020595944595459</td>\n",
       "      <td>BHF</td>\n",
       "      <td>BHF</td>\n",
       "    </tr>\n",
       "    <tr>\n",
       "      <th>2</th>\n",
       "      <td>2</td>\n",
       "      <td>HDTEQLLAQGHHEEETECGKYGKL</td>\n",
       "      <td>ppppphhhphpppppppphphhph</td>\n",
       "      <td>9354784992242920062</td>\n",
       "      <td>BHF</td>\n",
       "      <td>BHF</td>\n",
       "    </tr>\n",
       "    <tr>\n",
       "      <th>3</th>\n",
       "      <td>3</td>\n",
       "      <td>DTEQLLAQGHHEEETECGKYGKLP</td>\n",
       "      <td>pppphhhphpppppppphphhphh</td>\n",
       "      <td>14467040310155683947</td>\n",
       "      <td>BHF</td>\n",
       "      <td>BHF</td>\n",
       "    </tr>\n",
       "    <tr>\n",
       "      <th>4</th>\n",
       "      <td>4</td>\n",
       "      <td>TEQLLAQGHHEEETECGKYGKLPE</td>\n",
       "      <td>ppphhhphpppppppphphhphhp</td>\n",
       "      <td>2993707203445337902</td>\n",
       "      <td>BHF</td>\n",
       "      <td>BHF</td>\n",
       "    </tr>\n",
       "  </tbody>\n",
       "</table>\n",
       "</div>"
      ],
      "text/plain": [
       "   i                      kmer                   kmer_hp  \\\n",
       "0  0  MVHDTEQLLAQGHHEEETECGKYG  hhppppphhhphpppppppphphh   \n",
       "1  1  VHDTEQLLAQGHHEEETECGKYGK  hppppphhhphpppppppphphhp   \n",
       "2  2  HDTEQLLAQGHHEEETECGKYGKL  ppppphhhphpppppppphphhph   \n",
       "3  3  DTEQLLAQGHHEEETECGKYGKLP  pppphhhphpppppppphphhphh   \n",
       "4  4  TEQLLAQGHHEEETECGKYGKLPE  ppphhhphpppppppphphhphhp   \n",
       "\n",
       "                hashval name symbol  \n",
       "0  17134648382419275520  BHF    BHF  \n",
       "1   1036020595944595459  BHF    BHF  \n",
       "2   9354784992242920062  BHF    BHF  \n",
       "3  14467040310155683947  BHF    BHF  \n",
       "4   2993707203445337902  BHF    BHF  "
      ]
     },
     "execution_count": 18,
     "metadata": {},
     "output_type": "execute_result"
    }
   ],
   "source": [
    "lines = []\n",
    "\n",
    "# K = 24\n",
    "# for i in range(0, len(bhf['sequence']) - K + 1):\n",
    "#     kmer = bhf['sequence'][i:i+K]\n",
    "#     kmer_encoded = encode_peptide(kmer, 'hp')\n",
    "#     hashval = bhf_sig.minhash.seq_to_hashes(kmer, is_protein=True)\n",
    "\n",
    "#     if len(hashval) == 1:\n",
    "#         hashval = hashval[0]\n",
    "#     else:\n",
    "#         print(f\"More than one hashval found for {kmer}\")\n",
    "#     line = [i, kmer, kmer_encoded, hashval]\n",
    "#     lines.append(line)\n",
    "\n",
    "\n",
    "def get_encoded_kmer_hashvals(sequence, name, encoding=\"hp\", K=24):\n",
    "    lines = []\n",
    "    for i in range(0, len(sequence) - K + 1):\n",
    "        kmer = sequence[i : i + K]\n",
    "        kmer_encoded = encode_peptide(kmer, encoding)\n",
    "        hashval = bhf_sig.minhash.seq_to_hashes(kmer, is_protein=True)\n",
    "\n",
    "        if len(hashval) == 1:\n",
    "            hashval = hashval[0]\n",
    "        else:\n",
    "            print(f\"More than one hashval found for {kmer}\")\n",
    "        line = [i, kmer, kmer_encoded, hashval]\n",
    "        lines.append(line)\n",
    "    kmer_to_hashes = pd.DataFrame(lines, columns=[\"i\", \"kmer\", \"kmer_hp\", \"hashval\"])\n",
    "    kmer_to_hashes[\"name\"] = name\n",
    "    return kmer_to_hashes\n",
    "\n",
    "\n",
    "# bhf_kmer_to_hashes = pd.DataFrame(lines, columns=['i', 'kmer', 'kmer_hp', 'hashval'])\n",
    "bhf_kmer_to_hashes = get_encoded_kmer_hashvals(bhf[\"sequence\"], \"BHF\")\n",
    "bhf_kmer_to_hashes[\"symbol\"] = \"BHF\"\n",
    "# bhf_kmer_to_hashes['name'] = 'BHF'\n",
    "bhf_kmer_to_hashes.head()"
   ]
  },
  {
   "cell_type": "markdown",
   "id": "46d0fa26-8e7f-4ab6-a37e-25511288dc53",
   "metadata": {},
   "source": [
    "# Get human kmer to hashes"
   ]
  },
  {
   "cell_type": "code",
   "execution_count": 19,
   "id": "772fcd3b-3930-427b-9a79-d739f3946195",
   "metadata": {},
   "outputs": [
    {
     "name": "stdout",
     "output_type": "stream",
     "text": [
      "(34819, 6)\n"
     ]
    },
    {
     "data": {
      "text/html": [
       "<div>\n",
       "<style scoped>\n",
       "    .dataframe tbody tr th:only-of-type {\n",
       "        vertical-align: middle;\n",
       "    }\n",
       "\n",
       "    .dataframe tbody tr th {\n",
       "        vertical-align: top;\n",
       "    }\n",
       "\n",
       "    .dataframe thead th {\n",
       "        text-align: right;\n",
       "    }\n",
       "</style>\n",
       "<table border=\"1\" class=\"dataframe\">\n",
       "  <thead>\n",
       "    <tr style=\"text-align: right;\">\n",
       "      <th></th>\n",
       "      <th>i</th>\n",
       "      <th>kmer</th>\n",
       "      <th>kmer_hp</th>\n",
       "      <th>hashval</th>\n",
       "      <th>name</th>\n",
       "      <th>symbol</th>\n",
       "    </tr>\n",
       "  </thead>\n",
       "  <tbody>\n",
       "    <tr>\n",
       "      <th>0</th>\n",
       "      <td>0</td>\n",
       "      <td>MDASEEPLPPVIYTMENKPIVTCA</td>\n",
       "      <td>hphppphhhhhhhphppphhhpph</td>\n",
       "      <td>5231083520663105400</td>\n",
       "      <td>ENSP00000291574.4 pep chromosome:GRCh38:21:440...</td>\n",
       "      <td>TRAPPC10</td>\n",
       "    </tr>\n",
       "    <tr>\n",
       "      <th>1</th>\n",
       "      <td>1</td>\n",
       "      <td>DASEEPLPPVIYTMENKPIVTCAG</td>\n",
       "      <td>phppphhhhhhhphppphhhpphh</td>\n",
       "      <td>2296458521809973817</td>\n",
       "      <td>ENSP00000291574.4 pep chromosome:GRCh38:21:440...</td>\n",
       "      <td>TRAPPC10</td>\n",
       "    </tr>\n",
       "    <tr>\n",
       "      <th>2</th>\n",
       "      <td>2</td>\n",
       "      <td>ASEEPLPPVIYTMENKPIVTCAGD</td>\n",
       "      <td>hppphhhhhhhphppphhhpphhp</td>\n",
       "      <td>1109349912602753717</td>\n",
       "      <td>ENSP00000291574.4 pep chromosome:GRCh38:21:440...</td>\n",
       "      <td>TRAPPC10</td>\n",
       "    </tr>\n",
       "    <tr>\n",
       "      <th>3</th>\n",
       "      <td>3</td>\n",
       "      <td>SEEPLPPVIYTMENKPIVTCAGDQ</td>\n",
       "      <td>ppphhhhhhhphppphhhpphhpp</td>\n",
       "      <td>9912423465508359118</td>\n",
       "      <td>ENSP00000291574.4 pep chromosome:GRCh38:21:440...</td>\n",
       "      <td>TRAPPC10</td>\n",
       "    </tr>\n",
       "    <tr>\n",
       "      <th>4</th>\n",
       "      <td>4</td>\n",
       "      <td>EEPLPPVIYTMENKPIVTCAGDQN</td>\n",
       "      <td>pphhhhhhhphppphhhpphhppp</td>\n",
       "      <td>11635463478598098182</td>\n",
       "      <td>ENSP00000291574.4 pep chromosome:GRCh38:21:440...</td>\n",
       "      <td>TRAPPC10</td>\n",
       "    </tr>\n",
       "  </tbody>\n",
       "</table>\n",
       "</div>"
      ],
      "text/plain": [
       "   i                      kmer                   kmer_hp  \\\n",
       "0  0  MDASEEPLPPVIYTMENKPIVTCA  hphppphhhhhhhphppphhhpph   \n",
       "1  1  DASEEPLPPVIYTMENKPIVTCAG  phppphhhhhhhphppphhhpphh   \n",
       "2  2  ASEEPLPPVIYTMENKPIVTCAGD  hppphhhhhhhphppphhhpphhp   \n",
       "3  3  SEEPLPPVIYTMENKPIVTCAGDQ  ppphhhhhhhphppphhhpphhpp   \n",
       "4  4  EEPLPPVIYTMENKPIVTCAGDQN  pphhhhhhhphppphhhpphhppp   \n",
       "\n",
       "                hashval                                               name  \\\n",
       "0   5231083520663105400  ENSP00000291574.4 pep chromosome:GRCh38:21:440...   \n",
       "1   2296458521809973817  ENSP00000291574.4 pep chromosome:GRCh38:21:440...   \n",
       "2   1109349912602753717  ENSP00000291574.4 pep chromosome:GRCh38:21:440...   \n",
       "3   9912423465508359118  ENSP00000291574.4 pep chromosome:GRCh38:21:440...   \n",
       "4  11635463478598098182  ENSP00000291574.4 pep chromosome:GRCh38:21:440...   \n",
       "\n",
       "     symbol  \n",
       "0  TRAPPC10  \n",
       "1  TRAPPC10  \n",
       "2  TRAPPC10  \n",
       "3  TRAPPC10  \n",
       "4  TRAPPC10  "
      ]
     },
     "execution_count": 19,
     "metadata": {},
     "output_type": "execute_result"
    }
   ],
   "source": [
    "\n",
    "dfs = []\n",
    "for record in bhf_matches:\n",
    "    df = get_encoded_kmer_hashvals(record['sequence'], record['name'])\n",
    "    df['symbol'] = df['name'].str.extract('gene_symbol:([\\w\\d\\-]+)')\n",
    "    dfs.append(df)\n",
    "human_kmer_to_hashes = pd.concat(dfs, ignore_index=True)\n",
    "print(human_kmer_to_hashes.shape)\n",
    "human_kmer_to_hashes.head()"
   ]
  },
  {
   "cell_type": "markdown",
   "id": "685c1bf7-22fa-4e18-932d-deeb74e6f55f",
   "metadata": {},
   "source": [
    "# Get overlapping human and bhf kmer hashes"
   ]
  },
  {
   "cell_type": "code",
   "execution_count": 20,
   "id": "22724ac9-1006-4b8a-8ae4-c49a191c11d4",
   "metadata": {},
   "outputs": [
    {
     "name": "stdout",
     "output_type": "stream",
     "text": [
      "(158, 10)\n"
     ]
    },
    {
     "data": {
      "text/html": [
       "<div>\n",
       "<style scoped>\n",
       "    .dataframe tbody tr th:only-of-type {\n",
       "        vertical-align: middle;\n",
       "    }\n",
       "\n",
       "    .dataframe tbody tr th {\n",
       "        vertical-align: top;\n",
       "    }\n",
       "\n",
       "    .dataframe thead th {\n",
       "        text-align: right;\n",
       "    }\n",
       "</style>\n",
       "<table border=\"1\" class=\"dataframe\">\n",
       "  <thead>\n",
       "    <tr style=\"text-align: right;\">\n",
       "      <th></th>\n",
       "      <th>i__human</th>\n",
       "      <th>kmer__human</th>\n",
       "      <th>kmer_hp</th>\n",
       "      <th>hashval</th>\n",
       "      <th>name__human</th>\n",
       "      <th>symbol__human</th>\n",
       "      <th>i__botryllus</th>\n",
       "      <th>kmer__botryllus</th>\n",
       "      <th>name__botryllus</th>\n",
       "      <th>symbol__botryllus</th>\n",
       "    </tr>\n",
       "  </thead>\n",
       "  <tbody>\n",
       "    <tr>\n",
       "      <th>0</th>\n",
       "      <td>830</td>\n",
       "      <td>ILCQAESRAVVYSNTREQSSEAAL</td>\n",
       "      <td>hhpphppphhhhppppppppphhh</td>\n",
       "      <td>6144021746148681658</td>\n",
       "      <td>ENSP00000291574.4 pep chromosome:GRCh38:21:440...</td>\n",
       "      <td>TRAPPC10</td>\n",
       "      <td>172</td>\n",
       "      <td>LIDRAQNKYAPLDEKQRSESHGAG</td>\n",
       "      <td>BHF</td>\n",
       "      <td>BHF</td>\n",
       "    </tr>\n",
       "    <tr>\n",
       "      <th>1</th>\n",
       "      <td>831</td>\n",
       "      <td>LCQAESRAVVYSNTREQSSEAALR</td>\n",
       "      <td>hpphppphhhhppppppppphhhp</td>\n",
       "      <td>983434813927311748</td>\n",
       "      <td>ENSP00000291574.4 pep chromosome:GRCh38:21:440...</td>\n",
       "      <td>TRAPPC10</td>\n",
       "      <td>173</td>\n",
       "      <td>IDRAQNKYAPLDEKQRSESHGAGE</td>\n",
       "      <td>BHF</td>\n",
       "      <td>BHF</td>\n",
       "    </tr>\n",
       "    <tr>\n",
       "      <th>2</th>\n",
       "      <td>832</td>\n",
       "      <td>CQAESRAVVYSNTREQSSEAALRI</td>\n",
       "      <td>pphppphhhhppppppppphhhph</td>\n",
       "      <td>17157585808760121871</td>\n",
       "      <td>ENSP00000291574.4 pep chromosome:GRCh38:21:440...</td>\n",
       "      <td>TRAPPC10</td>\n",
       "      <td>174</td>\n",
       "      <td>DRAQNKYAPLDEKQRSESHGAGEY</td>\n",
       "      <td>BHF</td>\n",
       "      <td>BHF</td>\n",
       "    </tr>\n",
       "    <tr>\n",
       "      <th>3</th>\n",
       "      <td>107</td>\n",
       "      <td>FPSKARFYYEQRLLRKVFEEWKEE</td>\n",
       "      <td>hhpphphhhppphhpphhpphppp</td>\n",
       "      <td>1498310189053002367</td>\n",
       "      <td>ENSP00000402679.1 pep chromosome:GRCh38:22:314...</td>\n",
       "      <td>SFI1</td>\n",
       "      <td>156</td>\n",
       "      <td>ILESVHMYGDDRFGERLIDRAQNK</td>\n",
       "      <td>BHF</td>\n",
       "      <td>BHF</td>\n",
       "    </tr>\n",
       "    <tr>\n",
       "      <th>4</th>\n",
       "      <td>107</td>\n",
       "      <td>FPSKARFYYEQRLLRKVFEEWKEE</td>\n",
       "      <td>hhpphphhhppphhpphhpphppp</td>\n",
       "      <td>1498310189053002367</td>\n",
       "      <td>ENSP00000383145.2 pep chromosome:GRCh38:22:314...</td>\n",
       "      <td>SFI1</td>\n",
       "      <td>156</td>\n",
       "      <td>ILESVHMYGDDRFGERLIDRAQNK</td>\n",
       "      <td>BHF</td>\n",
       "      <td>BHF</td>\n",
       "    </tr>\n",
       "  </tbody>\n",
       "</table>\n",
       "</div>"
      ],
      "text/plain": [
       "   i__human               kmer__human                   kmer_hp  \\\n",
       "0       830  ILCQAESRAVVYSNTREQSSEAAL  hhpphppphhhhppppppppphhh   \n",
       "1       831  LCQAESRAVVYSNTREQSSEAALR  hpphppphhhhppppppppphhhp   \n",
       "2       832  CQAESRAVVYSNTREQSSEAALRI  pphppphhhhppppppppphhhph   \n",
       "3       107  FPSKARFYYEQRLLRKVFEEWKEE  hhpphphhhppphhpphhpphppp   \n",
       "4       107  FPSKARFYYEQRLLRKVFEEWKEE  hhpphphhhppphhpphhpphppp   \n",
       "\n",
       "                hashval                                        name__human  \\\n",
       "0   6144021746148681658  ENSP00000291574.4 pep chromosome:GRCh38:21:440...   \n",
       "1    983434813927311748  ENSP00000291574.4 pep chromosome:GRCh38:21:440...   \n",
       "2  17157585808760121871  ENSP00000291574.4 pep chromosome:GRCh38:21:440...   \n",
       "3   1498310189053002367  ENSP00000402679.1 pep chromosome:GRCh38:22:314...   \n",
       "4   1498310189053002367  ENSP00000383145.2 pep chromosome:GRCh38:22:314...   \n",
       "\n",
       "  symbol__human  i__botryllus           kmer__botryllus name__botryllus  \\\n",
       "0      TRAPPC10           172  LIDRAQNKYAPLDEKQRSESHGAG             BHF   \n",
       "1      TRAPPC10           173  IDRAQNKYAPLDEKQRSESHGAGE             BHF   \n",
       "2      TRAPPC10           174  DRAQNKYAPLDEKQRSESHGAGEY             BHF   \n",
       "3          SFI1           156  ILESVHMYGDDRFGERLIDRAQNK             BHF   \n",
       "4          SFI1           156  ILESVHMYGDDRFGERLIDRAQNK             BHF   \n",
       "\n",
       "  symbol__botryllus  \n",
       "0               BHF  \n",
       "1               BHF  \n",
       "2               BHF  \n",
       "3               BHF  \n",
       "4               BHF  "
      ]
     },
     "execution_count": 20,
     "metadata": {},
     "output_type": "execute_result"
    }
   ],
   "source": [
    "bhf_human_kmers = human_kmer_to_hashes.merge(\n",
    "    bhf_kmer_to_hashes, how='inner', on=['hashval', 'kmer_hp'], \n",
    "    suffixes=('__human', '__botryllus'))\n",
    "\n",
    "print(bhf_human_kmers.shape)\n",
    "bhf_human_kmers.head()"
   ]
  },
  {
   "cell_type": "code",
   "execution_count": 21,
   "id": "eb2695e6-d3ec-4073-b712-25d985f471f8",
   "metadata": {},
   "outputs": [
    {
     "data": {
      "text/plain": [
       "0    i__human                                                           830\n",
       "     kmer__human                                   ILCQAESRAVVYSNTREQSSEAAL\n",
       "     kmer_hp                                       hhpphppphhhhppppppppphhh\n",
       "     hashval                                            6144021746148681658\n",
       "     name__human          ENSP00000291574.4 pep chromosome:GRCh38:21:440...\n",
       "                                                ...                        \n",
       "157  symbol__human                                                     ORC2\n",
       "     i__botryllus                                                       170\n",
       "     kmer__botryllus                               ERLIDRAQNKYAPLDEKQRSESHG\n",
       "     name__botryllus                                                    BHF\n",
       "     symbol__botryllus                                                  BHF\n",
       "Length: 1580, dtype: object"
      ]
     },
     "execution_count": 21,
     "metadata": {},
     "output_type": "execute_result"
    }
   ],
   "source": [
    "bhf_human_kmers.stack()"
   ]
  },
  {
   "cell_type": "markdown",
   "id": "8bf82e75-747e-434b-9255-f5d3034f51cf",
   "metadata": {},
   "source": [
    "### Subset to TNPO2"
   ]
  },
  {
   "cell_type": "code",
   "execution_count": 22,
   "id": "f2ed1ae0-2d95-4740-9160-341e4d1bab92",
   "metadata": {},
   "outputs": [
    {
     "data": {
      "text/html": [
       "<div>\n",
       "<style scoped>\n",
       "    .dataframe tbody tr th:only-of-type {\n",
       "        vertical-align: middle;\n",
       "    }\n",
       "\n",
       "    .dataframe tbody tr th {\n",
       "        vertical-align: top;\n",
       "    }\n",
       "\n",
       "    .dataframe thead th {\n",
       "        text-align: right;\n",
       "    }\n",
       "</style>\n",
       "<table border=\"1\" class=\"dataframe\">\n",
       "  <thead>\n",
       "    <tr style=\"text-align: right;\">\n",
       "      <th>kmer_hp</th>\n",
       "      <th>hhphhpphpppppphhhpphhphh</th>\n",
       "      <th>hhpphpppppphhhpphhphhphp</th>\n",
       "      <th>hphhphhpphpppppphhhpphhp</th>\n",
       "      <th>hphhpphpppppphhhpphhphhp</th>\n",
       "      <th>hpphpppppphhhpphhphhphpp</th>\n",
       "      <th>phhphhpphpppppphhhpphhph</th>\n",
       "      <th>phhpphpppppphhhpphhphhph</th>\n",
       "      <th>phphhphhpphpppppphhhpphh</th>\n",
       "      <th>pphphhphhpphpppppphhhpph</th>\n",
       "      <th>pphpppppphhhpphhphhphppp</th>\n",
       "    </tr>\n",
       "    <tr>\n",
       "      <th>species</th>\n",
       "      <th></th>\n",
       "      <th></th>\n",
       "      <th></th>\n",
       "      <th></th>\n",
       "      <th></th>\n",
       "      <th></th>\n",
       "      <th></th>\n",
       "      <th></th>\n",
       "      <th></th>\n",
       "      <th></th>\n",
       "    </tr>\n",
       "  </thead>\n",
       "  <tbody>\n",
       "    <tr>\n",
       "      <th>botryllus</th>\n",
       "      <td>YGKLPEKGSECKKHGIFCRILTAL</td>\n",
       "      <td>LPEKGSECKKHGIFCRILTALHLK</td>\n",
       "      <td>GKYGKLPEKGSECKKHGIFCRILT</td>\n",
       "      <td>GKLPEKGSECKKHGIFCRILTALH</td>\n",
       "      <td>PEKGSECKKHGIFCRILTALHLKK</td>\n",
       "      <td>KYGKLPEKGSECKKHGIFCRILTA</td>\n",
       "      <td>KLPEKGSECKKHGIFCRILTALHL</td>\n",
       "      <td>CGKYGKLPEKGSECKKHGIFCRIL</td>\n",
       "      <td>ECGKYGKLPEKGSECKKHGIFCRI</td>\n",
       "      <td>EKGSECKKHGIFCRILTALHLKKR</td>\n",
       "    </tr>\n",
       "    <tr>\n",
       "      <th>human</th>\n",
       "      <td>GLSLPRHLHDDRCQPGGRCAASWV</td>\n",
       "      <td>LPRHLHDDRCQPGGRCAASWVSPK</td>\n",
       "      <td>GEGLSLPRHLHDDRCQPGGRCAAS</td>\n",
       "      <td>LSLPRHLHDDRCQPGGRCAASWVS</td>\n",
       "      <td>PRHLHDDRCQPGGRCAASWVSPKD</td>\n",
       "      <td>EGLSLPRHLHDDRCQPGGRCAASW</td>\n",
       "      <td>SLPRHLHDDRCQPGGRCAASWVSP</td>\n",
       "      <td>RGEGLSLPRHLHDDRCQPGGRCAA</td>\n",
       "      <td>QRGEGLSLPRHLHDDRCQPGGRCA</td>\n",
       "      <td>RHLHDDRCQPGGRCAASWVSPKDD</td>\n",
       "    </tr>\n",
       "  </tbody>\n",
       "</table>\n",
       "</div>"
      ],
      "text/plain": [
       "kmer_hp    hhphhpphpppppphhhpphhphh  hhpphpppppphhhpphhphhphp  \\\n",
       "species                                                         \n",
       "botryllus  YGKLPEKGSECKKHGIFCRILTAL  LPEKGSECKKHGIFCRILTALHLK   \n",
       "human      GLSLPRHLHDDRCQPGGRCAASWV  LPRHLHDDRCQPGGRCAASWVSPK   \n",
       "\n",
       "kmer_hp    hphhphhpphpppppphhhpphhp  hphhpphpppppphhhpphhphhp  \\\n",
       "species                                                         \n",
       "botryllus  GKYGKLPEKGSECKKHGIFCRILT  GKLPEKGSECKKHGIFCRILTALH   \n",
       "human      GEGLSLPRHLHDDRCQPGGRCAAS  LSLPRHLHDDRCQPGGRCAASWVS   \n",
       "\n",
       "kmer_hp    hpphpppppphhhpphhphhphpp  phhphhpphpppppphhhpphhph  \\\n",
       "species                                                         \n",
       "botryllus  PEKGSECKKHGIFCRILTALHLKK  KYGKLPEKGSECKKHGIFCRILTA   \n",
       "human      PRHLHDDRCQPGGRCAASWVSPKD  EGLSLPRHLHDDRCQPGGRCAASW   \n",
       "\n",
       "kmer_hp    phhpphpppppphhhpphhphhph  phphhphhpphpppppphhhpphh  \\\n",
       "species                                                         \n",
       "botryllus  KLPEKGSECKKHGIFCRILTALHL  CGKYGKLPEKGSECKKHGIFCRIL   \n",
       "human      SLPRHLHDDRCQPGGRCAASWVSP  RGEGLSLPRHLHDDRCQPGGRCAA   \n",
       "\n",
       "kmer_hp    pphphhphhpphpppppphhhpph  pphpppppphhhpphhphhphppp  \n",
       "species                                                        \n",
       "botryllus  ECGKYGKLPEKGSECKKHGIFCRI  EKGSECKKHGIFCRILTALHLKKR  \n",
       "human      QRGEGLSLPRHLHDDRCQPGGRCA  RHLHDDRCQPGGRCAASWVSPKDD  "
      ]
     },
     "execution_count": 22,
     "metadata": {},
     "output_type": "execute_result"
    }
   ],
   "source": [
    "tnpo2 = bhf_human_kmers.query('symbol__human == \"TNPO2\"')\n",
    "tnpo2\n",
    "\n",
    "tnpo2_tidy = pd.concat([tnpo2[['kmer__human', 'kmer_hp']], tnpo2[['kmer__botryllus', 'kmer_hp']]])\n",
    "tnpo2_tidy['species'] = tnpo2_tidy.kmer__human.map(lambda x: 'botryllus' if pd.isnull(x) else 'human')\n",
    "tnpo2_tidy['kmer_seq'] = tnpo2_tidy.apply(lambda x: x['kmer__human'] if pd.isnull(x['kmer__botryllus']) else x['kmer__botryllus'], axis=1)\n",
    "tnpo2_tidy                        \n",
    "\n",
    "tnpo2_tidy.pivot(columns='kmer_hp', index='species', values='kmer_seq')"
   ]
  },
  {
   "cell_type": "markdown",
   "id": "5d6bd368-45ee-441a-bcc5-e005d208f510",
   "metadata": {
    "tags": []
   },
   "source": [
    "### Subset to PNN"
   ]
  },
  {
   "cell_type": "code",
   "execution_count": 23,
   "id": "a1f577e5-cdf8-473f-a4eb-b5928287b0e3",
   "metadata": {},
   "outputs": [
    {
     "data": {
      "text/html": [
       "<div>\n",
       "<style scoped>\n",
       "    .dataframe tbody tr th:only-of-type {\n",
       "        vertical-align: middle;\n",
       "    }\n",
       "\n",
       "    .dataframe tbody tr th {\n",
       "        vertical-align: top;\n",
       "    }\n",
       "\n",
       "    .dataframe thead th {\n",
       "        text-align: right;\n",
       "    }\n",
       "</style>\n",
       "<table border=\"1\" class=\"dataframe\">\n",
       "  <thead>\n",
       "    <tr style=\"text-align: right;\">\n",
       "      <th>kmer_hp</th>\n",
       "      <th>hpppppppphhpppppppphhppp</th>\n",
       "      <th>phpppppppphhpppppppphhpp</th>\n",
       "      <th>pphpppppppphhpppppppphhp</th>\n",
       "      <th>ppphpppppppphhpppppppphh</th>\n",
       "      <th>pppphpppppppphhpppppppph</th>\n",
       "      <th>ppppphpppppppphhpppppppp</th>\n",
       "      <th>pppppphpppppppphhppppppp</th>\n",
       "      <th>ppppppphpppppppphhpppppp</th>\n",
       "      <th>pppppppphpppppppphhppppp</th>\n",
       "    </tr>\n",
       "    <tr>\n",
       "      <th>species</th>\n",
       "      <th></th>\n",
       "      <th></th>\n",
       "      <th></th>\n",
       "      <th></th>\n",
       "      <th></th>\n",
       "      <th></th>\n",
       "      <th></th>\n",
       "      <th></th>\n",
       "      <th></th>\n",
       "    </tr>\n",
       "  </thead>\n",
       "  <tbody>\n",
       "    <tr>\n",
       "      <th>botryllus</th>\n",
       "      <td>AKKDKRKNKPPKKDSETSKPAQTT</td>\n",
       "      <td>KAKKDKRKNKPPKKDSETSKPAQT</td>\n",
       "      <td>KKAKKDKRKNKPPKKDSETSKPAQ</td>\n",
       "      <td>KKKAKKDKRKNKPPKKDSETSKPA</td>\n",
       "      <td>TKKKAKKDKRKNKPPKKDSETSKP</td>\n",
       "      <td>KTKKKAKKDKRKNKPPKKDSETSK</td>\n",
       "      <td>KKTKKKAKKDKRKNKPPKKDSETS</td>\n",
       "      <td>TKKTKKKAKKDKRKNKPPKKDSET</td>\n",
       "      <td>STKKTKKKAKKDKRKNKPPKKDSE</td>\n",
       "    </tr>\n",
       "    <tr>\n",
       "      <th>human</th>\n",
       "      <td>VDRKRRDTSGLERSHKSSKGGSSR</td>\n",
       "      <td>SVDRKRRDTSGLERSHKSSKGGSS</td>\n",
       "      <td>RSVDRKRRDTSGLERSHKSSKGGS</td>\n",
       "      <td>RRSVDRKRRDTSGLERSHKSSKGG</td>\n",
       "      <td>HRRSVDRKRRDTSGLERSHKSSKG</td>\n",
       "      <td>KHRRSVDRKRRDTSGLERSHKSSK</td>\n",
       "      <td>RKHRRSVDRKRRDTSGLERSHKSS</td>\n",
       "      <td>DRKHRRSVDRKRRDTSGLERSHKS</td>\n",
       "      <td>RDRKHRRSVDRKRRDTSGLERSHK</td>\n",
       "    </tr>\n",
       "  </tbody>\n",
       "</table>\n",
       "</div>"
      ],
      "text/plain": [
       "kmer_hp    hpppppppphhpppppppphhppp  phpppppppphhpppppppphhpp  \\\n",
       "species                                                         \n",
       "botryllus  AKKDKRKNKPPKKDSETSKPAQTT  KAKKDKRKNKPPKKDSETSKPAQT   \n",
       "human      VDRKRRDTSGLERSHKSSKGGSSR  SVDRKRRDTSGLERSHKSSKGGSS   \n",
       "\n",
       "kmer_hp    pphpppppppphhpppppppphhp  ppphpppppppphhpppppppphh  \\\n",
       "species                                                         \n",
       "botryllus  KKAKKDKRKNKPPKKDSETSKPAQ  KKKAKKDKRKNKPPKKDSETSKPA   \n",
       "human      RSVDRKRRDTSGLERSHKSSKGGS  RRSVDRKRRDTSGLERSHKSSKGG   \n",
       "\n",
       "kmer_hp    pppphpppppppphhpppppppph  ppppphpppppppphhpppppppp  \\\n",
       "species                                                         \n",
       "botryllus  TKKKAKKDKRKNKPPKKDSETSKP  KTKKKAKKDKRKNKPPKKDSETSK   \n",
       "human      HRRSVDRKRRDTSGLERSHKSSKG  KHRRSVDRKRRDTSGLERSHKSSK   \n",
       "\n",
       "kmer_hp    pppppphpppppppphhppppppp  ppppppphpppppppphhpppppp  \\\n",
       "species                                                         \n",
       "botryllus  KKTKKKAKKDKRKNKPPKKDSETS  TKKTKKKAKKDKRKNKPPKKDSET   \n",
       "human      RKHRRSVDRKRRDTSGLERSHKSS  DRKHRRSVDRKRRDTSGLERSHKS   \n",
       "\n",
       "kmer_hp    pppppppphpppppppphhppppp  \n",
       "species                              \n",
       "botryllus  STKKTKKKAKKDKRKNKPPKKDSE  \n",
       "human      RDRKHRRSVDRKRRDTSGLERSHK  "
      ]
     },
     "execution_count": 23,
     "metadata": {},
     "output_type": "execute_result"
    }
   ],
   "source": [
    "pnn = bhf_human_kmers.query('symbol__human == \"PNN\"')\n",
    "\n",
    "\n",
    "pnn_tidy = pd.concat([pnn[['kmer__human', 'kmer_hp']], pnn[['kmer__botryllus', 'kmer_hp']]])\n",
    "pnn_tidy['species'] = pnn_tidy.kmer__human.map(lambda x: 'botryllus' if pd.isnull(x) else 'human')\n",
    "pnn_tidy['kmer_seq'] = pnn_tidy.apply(lambda x: x['kmer__human'] if pd.isnull(x['kmer__botryllus']) else x['kmer__botryllus'], axis=1)\n",
    "pnn_tidy                        \n",
    "\n",
    "pnn_tidy.pivot(columns='kmer_hp', index='species', values='kmer_seq')"
   ]
  },
  {
   "cell_type": "markdown",
   "id": "64f6de18-a6f7-4b28-8199-a0be7be8a81b",
   "metadata": {
    "tags": []
   },
   "source": [
    "### Subset to PNN"
   ]
  },
  {
   "cell_type": "code",
   "execution_count": 24,
   "id": "7d02ccd9-ba36-4d78-887c-cd8de77966e5",
   "metadata": {},
   "outputs": [
    {
     "data": {
      "text/html": [
       "<div>\n",
       "<style scoped>\n",
       "    .dataframe tbody tr th:only-of-type {\n",
       "        vertical-align: middle;\n",
       "    }\n",
       "\n",
       "    .dataframe tbody tr th {\n",
       "        vertical-align: top;\n",
       "    }\n",
       "\n",
       "    .dataframe thead th {\n",
       "        text-align: right;\n",
       "    }\n",
       "</style>\n",
       "<table border=\"1\" class=\"dataframe\">\n",
       "  <thead>\n",
       "    <tr style=\"text-align: right;\">\n",
       "      <th>kmer_hp</th>\n",
       "      <th>hhphhphppppppppppphhpppp</th>\n",
       "      <th>hhpphhphhphppppppppppphh</th>\n",
       "      <th>hphhphppppppppppphhppppp</th>\n",
       "      <th>hpphhphhphppppppppppphhp</th>\n",
       "      <th>phhphhphppppppppppphhppp</th>\n",
       "      <th>pphhphhphppppppppppphhpp</th>\n",
       "    </tr>\n",
       "    <tr>\n",
       "      <th>species</th>\n",
       "      <th></th>\n",
       "      <th></th>\n",
       "      <th></th>\n",
       "      <th></th>\n",
       "      <th></th>\n",
       "      <th></th>\n",
       "    </tr>\n",
       "  </thead>\n",
       "  <tbody>\n",
       "    <tr>\n",
       "      <th>botryllus</th>\n",
       "      <td>ILTALHLKKRRTEHDHQKLLSESQ</td>\n",
       "      <td>IFCRILTALHLKKRRTEHDHQKLL</td>\n",
       "      <td>LTALHLKKRRTEHDHQKLLSESQE</td>\n",
       "      <td>FCRILTALHLKKRRTEHDHQKLLS</td>\n",
       "      <td>RILTALHLKKRRTEHDHQKLLSES</td>\n",
       "      <td>CRILTALHLKKRRTEHDHQKLLSE</td>\n",
       "    </tr>\n",
       "    <tr>\n",
       "      <th>human</th>\n",
       "      <td>LGRPPKITTTNENQKTNTVAKQEQ</td>\n",
       "      <td>PLRRLGRPPKITTTNENQKTNTVA</td>\n",
       "      <td>GRPPKITTTNENQKTNTVAKQEQR</td>\n",
       "      <td>LRRLGRPPKITTTNENQKTNTVAK</td>\n",
       "      <td>RLGRPPKITTTNENQKTNTVAKQE</td>\n",
       "      <td>RRLGRPPKITTTNENQKTNTVAKQ</td>\n",
       "    </tr>\n",
       "  </tbody>\n",
       "</table>\n",
       "</div>"
      ],
      "text/plain": [
       "kmer_hp    hhphhphppppppppppphhpppp  hhpphhphhphppppppppppphh  \\\n",
       "species                                                         \n",
       "botryllus  ILTALHLKKRRTEHDHQKLLSESQ  IFCRILTALHLKKRRTEHDHQKLL   \n",
       "human      LGRPPKITTTNENQKTNTVAKQEQ  PLRRLGRPPKITTTNENQKTNTVA   \n",
       "\n",
       "kmer_hp    hphhphppppppppppphhppppp  hpphhphhphppppppppppphhp  \\\n",
       "species                                                         \n",
       "botryllus  LTALHLKKRRTEHDHQKLLSESQE  FCRILTALHLKKRRTEHDHQKLLS   \n",
       "human      GRPPKITTTNENQKTNTVAKQEQR  LRRLGRPPKITTTNENQKTNTVAK   \n",
       "\n",
       "kmer_hp    phhphhphppppppppppphhppp  pphhphhphppppppppppphhpp  \n",
       "species                                                        \n",
       "botryllus  RILTALHLKKRRTEHDHQKLLSES  CRILTALHLKKRRTEHDHQKLLSE  \n",
       "human      RLGRPPKITTTNENQKTNTVAKQE  RRLGRPPKITTTNENQKTNTVAKQ  "
      ]
     },
     "execution_count": 24,
     "metadata": {},
     "output_type": "execute_result"
    }
   ],
   "source": [
    "znf292 = bhf_human_kmers.query('symbol__human == \"ZNF292\"')\n",
    "\n",
    "\n",
    "znf292_tidy = pd.concat([znf292[['kmer__human', 'kmer_hp']], znf292[['kmer__botryllus', 'kmer_hp']]])\n",
    "znf292_tidy = znf292_tidy.drop_duplicates()\n",
    "znf292_tidy['species'] = znf292_tidy.kmer__human.map(lambda x: 'botryllus' if pd.isnull(x) else 'human')\n",
    "znf292_tidy['kmer_seq'] = znf292_tidy.apply(lambda x: x['kmer__human'] if pd.isnull(x['kmer__botryllus']) else x['kmer__botryllus'], axis=1)\n",
    "znf292_tidy                        \n",
    "\n",
    "znf292_tidy.pivot(columns='kmer_hp', index='species', values='kmer_seq')"
   ]
  },
  {
   "cell_type": "markdown",
   "id": "83bf3b26-8a3a-4290-898a-eb79c7b059fd",
   "metadata": {
    "tags": []
   },
   "source": [
    "### Subset to IFT122"
   ]
  },
  {
   "cell_type": "code",
   "execution_count": 25,
   "id": "dce9c79f-4a22-419a-900b-67e7fca2bf89",
   "metadata": {},
   "outputs": [
    {
     "data": {
      "text/html": [
       "<div>\n",
       "<style scoped>\n",
       "    .dataframe tbody tr th:only-of-type {\n",
       "        vertical-align: middle;\n",
       "    }\n",
       "\n",
       "    .dataframe tbody tr th {\n",
       "        vertical-align: top;\n",
       "    }\n",
       "\n",
       "    .dataframe thead th {\n",
       "        text-align: right;\n",
       "    }\n",
       "</style>\n",
       "<table border=\"1\" class=\"dataframe\">\n",
       "  <thead>\n",
       "    <tr style=\"text-align: right;\">\n",
       "      <th>kmer_hp</th>\n",
       "      <th>ppphpppppppphhpppppppphh</th>\n",
       "      <th>pppphpppppppphhpppppppph</th>\n",
       "    </tr>\n",
       "    <tr>\n",
       "      <th>species</th>\n",
       "      <th></th>\n",
       "      <th></th>\n",
       "    </tr>\n",
       "  </thead>\n",
       "  <tbody>\n",
       "    <tr>\n",
       "      <th>botryllus</th>\n",
       "      <td>KKKAKKDKRKNKPPKKDSETSKPA</td>\n",
       "      <td>TKKKAKKDKRKNKPPKKDSETSKP</td>\n",
       "    </tr>\n",
       "    <tr>\n",
       "      <th>human</th>\n",
       "      <td>QKSVSKHKSSSKIICCREERNDIL</td>\n",
       "      <td>EQKSVSKHKSSSKIICCREERNDI</td>\n",
       "    </tr>\n",
       "  </tbody>\n",
       "</table>\n",
       "</div>"
      ],
      "text/plain": [
       "kmer_hp    ppphpppppppphhpppppppphh  pppphpppppppphhpppppppph\n",
       "species                                                      \n",
       "botryllus  KKKAKKDKRKNKPPKKDSETSKPA  TKKKAKKDKRKNKPPKKDSETSKP\n",
       "human      QKSVSKHKSSSKIICCREERNDIL  EQKSVSKHKSSSKIICCREERNDI"
      ]
     },
     "execution_count": 25,
     "metadata": {},
     "output_type": "execute_result"
    }
   ],
   "source": [
    "ift122 = bhf_human_kmers.query('symbol__human == \"IFT122\"')\n",
    "\n",
    "\n",
    "ift122_tidy = pd.concat(\n",
    "    [ift122[[\"kmer__human\", \"kmer_hp\"]], ift122[[\"kmer__botryllus\", \"kmer_hp\"]]]\n",
    ")\n",
    "ift122_tidy = ift122_tidy.drop_duplicates()\n",
    "ift122_tidy[\"species\"] = ift122_tidy.kmer__human.map(\n",
    "    lambda x: \"botryllus\" if pd.isnull(x) else \"human\"\n",
    ")\n",
    "ift122_tidy[\"kmer_seq\"] = ift122_tidy.apply(\n",
    "    lambda x: x[\"kmer__human\"]\n",
    "    if pd.isnull(x[\"kmer__botryllus\"])\n",
    "    else x[\"kmer__botryllus\"],\n",
    "    axis=1,\n",
    ")\n",
    "ift122_tidy\n",
    "\n",
    "ift122_tidy.pivot(columns=\"kmer_hp\", index=\"species\", values=\"kmer_seq\")"
   ]
  },
  {
   "cell_type": "markdown",
   "id": "74784025-1367-4c08-91e6-6f40e715d7c7",
   "metadata": {},
   "source": [
    "## Make function to subset by gene"
   ]
  },
  {
   "cell_type": "code",
   "execution_count": 26,
   "id": "62a21870-eae3-4a7a-8196-cd40ed898f54",
   "metadata": {},
   "outputs": [
    {
     "data": {
      "text/html": [
       "<div>\n",
       "<style scoped>\n",
       "    .dataframe tbody tr th:only-of-type {\n",
       "        vertical-align: middle;\n",
       "    }\n",
       "\n",
       "    .dataframe tbody tr th {\n",
       "        vertical-align: top;\n",
       "    }\n",
       "\n",
       "    .dataframe thead th {\n",
       "        text-align: right;\n",
       "    }\n",
       "</style>\n",
       "<table border=\"1\" class=\"dataframe\">\n",
       "  <thead>\n",
       "    <tr style=\"text-align: right;\">\n",
       "      <th>kmer_hp</th>\n",
       "      <th>ppphpppppppphhpppppppphh</th>\n",
       "      <th>pppphpppppppphhpppppppph</th>\n",
       "    </tr>\n",
       "    <tr>\n",
       "      <th>species</th>\n",
       "      <th></th>\n",
       "      <th></th>\n",
       "    </tr>\n",
       "  </thead>\n",
       "  <tbody>\n",
       "    <tr>\n",
       "      <th>botryllus</th>\n",
       "      <td>KKKAKKDKRKNKPPKKDSETSKPA</td>\n",
       "      <td>TKKKAKKDKRKNKPPKKDSETSKP</td>\n",
       "    </tr>\n",
       "    <tr>\n",
       "      <th>human</th>\n",
       "      <td>QKSVSKHKSSSKIICCREERNDIL</td>\n",
       "      <td>EQKSVSKHKSSSKIICCREERNDI</td>\n",
       "    </tr>\n",
       "  </tbody>\n",
       "</table>\n",
       "</div>"
      ],
      "text/plain": [
       "kmer_hp    ppphpppppppphhpppppppphh  pppphpppppppphhpppppppph\n",
       "species                                                      \n",
       "botryllus  KKKAKKDKRKNKPPKKDSETSKPA  TKKKAKKDKRKNKPPKKDSETSKP\n",
       "human      QKSVSKHKSSSKIICCREERNDIL  EQKSVSKHKSSSKIICCREERNDI"
      ]
     },
     "execution_count": 26,
     "metadata": {},
     "output_type": "execute_result"
    }
   ],
   "source": [
    "def subset_gene_kmers(bhf_human_kmers, gene_symbol):\n",
    "    gene_subset = bhf_human_kmers.query(\"symbol__human == @gene_symbol\")\n",
    "\n",
    "    tidy = pd.concat(\n",
    "        [\n",
    "            gene_subset[[\"kmer__human\", \"kmer_hp\"]],\n",
    "            gene_subset[[\"kmer__botryllus\", \"kmer_hp\"]],\n",
    "        ]\n",
    "    )\n",
    "    tidy = tidy.drop_duplicates()\n",
    "    tidy[\"species\"] = tidy.kmer__human.map(\n",
    "        lambda x: \"botryllus\" if pd.isnull(x) else \"human\"\n",
    "    )\n",
    "    tidy[\"kmer_seq\"] = tidy.apply(\n",
    "        lambda x: x[\"kmer__human\"]\n",
    "        if pd.isnull(x[\"kmer__botryllus\"])\n",
    "        else x[\"kmer__botryllus\"],\n",
    "        axis=1,\n",
    "    )\n",
    "    return tidy\n",
    "\n",
    "\n",
    "ift122_tidy = subset_gene_kmers(bhf_human_kmers, \"IFT122\")\n",
    "ift122_tidy.pivot(columns=\"kmer_hp\", index=\"species\", values=\"kmer_seq\")"
   ]
  },
  {
   "cell_type": "code",
   "execution_count": null,
   "id": "0ad1aa00-1f7c-4486-916c-08686ad8e2c9",
   "metadata": {},
   "outputs": [],
   "source": []
  },
  {
   "cell_type": "code",
   "execution_count": 27,
   "id": "3c96fa6b-4ba3-4f7d-b183-b164c1b34ebc",
   "metadata": {},
   "outputs": [
    {
     "data": {
      "text/plain": [
       "Index(['kmer__human', 'kmer_hp', 'kmer__botryllus', 'species', 'kmer_seq'], dtype='object')"
      ]
     },
     "execution_count": 27,
     "metadata": {},
     "output_type": "execute_result"
    }
   ],
   "source": [
    "ift122_tidy.columns"
   ]
  },
  {
   "cell_type": "code",
   "execution_count": 28,
   "id": "4f87afac-4532-4887-b1d2-55d4aac4efd9",
   "metadata": {},
   "outputs": [
    {
     "data": {
      "text/plain": [
       "array([ True,  True,  True,  True,  True])"
      ]
     },
     "execution_count": 28,
     "metadata": {},
     "output_type": "execute_result"
    }
   ],
   "source": [
    "ift122_tidy.columns.isin(znf292_tidy.columns)"
   ]
  },
  {
   "cell_type": "code",
   "execution_count": null,
   "id": "8a4f5221-0715-4e36-98b4-139139cd364c",
   "metadata": {},
   "outputs": [],
   "source": [
    "ift122_tidy.columns.isin(znf292_tidy.columns)"
   ]
  },
  {
   "cell_type": "code",
   "execution_count": null,
   "id": "25691a91-c050-491f-b307-f83025dddb67",
   "metadata": {},
   "outputs": [],
   "source": [
    "tnpo2[['kmer_hp', 'kmer_human', 'kmer_botryllus']]"
   ]
  },
  {
   "cell_type": "code",
   "execution_count": null,
   "id": "100160f1-a09a-47d3-aa95-a7ac39837b60",
   "metadata": {},
   "outputs": [],
   "source": []
  }
 ],
 "metadata": {
  "kernelspec": {
   "display_name": "Python 3 (ipykernel)",
   "language": "python",
   "name": "python3"
  },
  "language_info": {
   "codemirror_mode": {
    "name": "ipython",
    "version": 3
   },
   "file_extension": ".py",
   "mimetype": "text/x-python",
   "name": "python",
   "nbconvert_exporter": "python",
   "pygments_lexer": "ipython3",
   "version": "3.10.0"
  }
 },
 "nbformat": 4,
 "nbformat_minor": 5
}
