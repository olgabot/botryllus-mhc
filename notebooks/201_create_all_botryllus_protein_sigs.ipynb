{
 "cells": [
  {
   "cell_type": "code",
   "execution_count": 7,
   "id": "62373112-6135-40af-903f-f44c764703c0",
   "metadata": {},
   "outputs": [],
   "source": [
    "import sourmash\n",
    "import screed\n",
    "import os\n",
    "import re\n",
    "\n",
    "from tqdm import tqdm\n",
    "\n",
    "from kmer_utils import get_encoded_kmer_hashvals\n",
    "\n",
    "# from sourmash.search import GatherDatabases, PrefetchResult, calculate_prefetch_info, format_bp\n",
    "# from sourmash.logging import notify, error, print_results, set_quiet"
   ]
  },
  {
   "cell_type": "markdown",
   "id": "19785ef0-98fc-44e4-81a9-ef5053852401",
   "metadata": {},
   "source": [
    "## cd to botryllus protein directory"
   ]
  },
  {
   "cell_type": "code",
   "execution_count": 8,
   "id": "9ba71507-0466-4896-bc43-64e23381ba6a",
   "metadata": {},
   "outputs": [
    {
     "name": "stdout",
     "output_type": "stream",
     "text": [
      "/Users/olgabot/botryllus-data/data/botryllus-proteins\n"
     ]
    }
   ],
   "source": [
    "cd /Users/olgabot/botryllus/data/botryllus-proteins/"
   ]
  },
  {
   "cell_type": "markdown",
   "id": "96399265-28c4-49d6-9665-433066c8280e",
   "metadata": {},
   "source": [
    "## Make singleton signautre - one signature per sample"
   ]
  },
  {
   "cell_type": "code",
   "execution_count": 23,
   "id": "42e643fb-0d3d-4511-8a5e-b261d3a493f7",
   "metadata": {},
   "outputs": [],
   "source": [
    "botryllus_sigfile = 'Bs_proteins.fa.hp.k24.scale5.sig'"
   ]
  },
  {
   "cell_type": "code",
   "execution_count": null,
   "id": "9da2ce73-72d7-4681-890c-cda762ab6902",
   "metadata": {},
   "outputs": [],
   "source": [
    "# ! sourmash sketch protein --output $botryllus_sigfile --singleton --hp -p k=24,scaled=5,abund Bs_proteins.fa.gz"
   ]
  },
  {
   "cell_type": "markdown",
   "id": "631003ab-5ca0-43bc-bf6f-880e60885818",
   "metadata": {},
   "source": [
    "## Make non-singleton aggregated signature"
   ]
  },
  {
   "cell_type": "code",
   "execution_count": 9,
   "id": "3e36777a-071e-48d5-ba1e-74ed348337bc",
   "metadata": {},
   "outputs": [],
   "source": [
    "botryllus_sigfile = 'Bs_proteins.fa.hp.k24.scale5.aggregated.sig'"
   ]
  },
  {
   "cell_type": "code",
   "execution_count": 11,
   "id": "2116f97d-1367-4d79-a8c5-97776f30ffa0",
   "metadata": {},
   "outputs": [
    {
     "name": "stdout",
     "output_type": "stream",
     "text": [
      "\u001b[K\n",
      "== This is sourmash version 4.4.0. ==\n",
      "\u001b[K== Please cite Brown and Irber (2016), doi:10.21105/joss.00027. ==\n",
      "\n",
      "\u001b[KWARNING: scaled value should be >= 100. Continuing anyway.\n",
      "\u001b[Kcomputing signatures for files: Bs_proteins.fa.gz\n",
      "\u001b[KComputing a total of 1 signature(s) for each input.\n",
      "\u001b[K... reading sequences from Bs_proteins.fa.gz\n",
      "\u001b[Kcalculated 1 signatures for 72617 sequences in Bs_proteins.fa.gz\n",
      "\u001b[Ksaved 1 signature(s) to 'Bs_proteins.fa.hp.k24.scale5.aggregated.sig'. Note: signature license is CC0.\n",
      "sourmash sketch protein --output Bs_proteins.fa.hp.k24.scale5.aggregated.sig   120.84s user 1.21s system 99% cpu 2:02.96 total\n"
     ]
    }
   ],
   "source": [
    "! time sourmash sketch protein --output $botryllus_sigfile --hp -p k=24,scaled=5,abund Bs_proteins.fa.gz"
   ]
  },
  {
   "cell_type": "code",
   "execution_count": 40,
   "id": "ddd5add0-c30b-44fd-b84c-8d5d67baa526",
   "metadata": {},
   "outputs": [
    {
     "name": "stdout",
     "output_type": "stream",
     "text": [
      "sourmash: error: argument cmd: invalid choice: 'sketch' (choose from 'categorize', 'compare', 'compute', 'dump', 'gather', 'import_csv', 'index', 'info', 'migrate', 'multigather', 'plot', 'sbt_combine', 'search', 'watch', 'lca', 'sig', 'signature', 'storage')\n",
      "/Users/olgabot/opt/miniconda3/envs/sourmash-dev/bin/sourmash sketch protein    0.25s user 0.06s system 87% cpu 0.356 total\n"
     ]
    }
   ],
   "source": [
    "! time /Users/olgabot/opt/miniconda3/envs/sourmash-dev/bin/sourmash sketch protein --output $botryllus_sigfile --hp -p k=24,scaled=5,abund Bs_proteins.fa.gz"
   ]
  },
  {
   "cell_type": "code",
   "execution_count": 35,
   "id": "b1488a9a-49e4-4778-8c3f-6b31c3014abc",
   "metadata": {},
   "outputs": [
    {
     "name": "stdout",
     "output_type": "stream",
     "text": [
      "\u001b[K\n",
      "== This is sourmash version 4.4.0. ==\n",
      "\u001b[K== Please cite Brown and Irber (2016), doi:10.21105/joss.00027. ==\n",
      "\n",
      "---\n",
      "signature filename: Bs_proteins.fa.hp.k24.scale5.aggregated.sig\n",
      "signature: ** no name **\n",
      "source file: Bs_proteins.fa.gz\n",
      "md5: f06096cfbbc24ea0a9b53c3f1385ee2d\n",
      "k=24 molecule=hp num=0 scaled=5 seed=42 track_abundance=1\n",
      "size: 1499641\n",
      "sum hashes: 3061757\n",
      "signature license: CC0\n",
      "\n",
      "\u001b[Kloaded 1 signatures total, from 1 filesa.hp.k24.scale5.aggregated.sig'\n"
     ]
    }
   ],
   "source": [
    "! sourmash sig describe $botryllus_sigfile"
   ]
  },
  {
   "cell_type": "markdown",
   "id": "671ce9cd-6210-4c25-bbc6-8aabbbcbc421",
   "metadata": {},
   "source": [
    "## Get kmers for each hashval"
   ]
  },
  {
   "cell_type": "code",
   "execution_count": null,
   "id": "40067bb5-f742-49d1-a06d-2e0add1ab759",
   "metadata": {},
   "outputs": [],
   "source": [
    "! sourmash sig kmers"
   ]
  },
  {
   "cell_type": "code",
   "execution_count": 29,
   "id": "43cd33b1-4db2-4786-adf9-aa7099b022ee",
   "metadata": {},
   "outputs": [
    {
     "name": "stdout",
     "output_type": "stream",
     "text": [
      "\u001b[K\n",
      "== This is sourmash version 4.2.2. ==\n",
      "\u001b[K== Please cite Brown and Irber (2016), doi:10.21105/joss.00027. ==\n",
      "\n",
      "---\n",
      "signature filename: /Users/olgabot/botryllus/data/gencode/M28/gencode.vM28.basic.annotation.protein.fa.hp.k24.scale5.sig\n",
      "signature: ENSMUST00000070533.5 gene_id=ENSMUSG00000051951.6;transcript_id=ENSMUST00000070533.5;gene_type=protein_coding;gene_name=Xkr4;transcript_type=protein_coding;transcript_name=Xkr4-201;level=2;protein_id=ENSMUSP00000070648.5;transcript_support_level=1;mgi_id=MGI:3528744;tag=basic,appris_principal_1,CCDS;ccdsid=CCDS14803.1;havana_gene=OTTMUSG00000026353.2;havana_transcript=OTTMUST00000065166.1\n",
      "source file: gencode.vM28.basic.annotation.protein.fa\n",
      "md5: 2d08227f0c26a774c7e4134e4c288e3d\n",
      "k=24 molecule=hp num=0 scaled=5 seed=42 track_abundance=1\n",
      "size: 121\n",
      "signature license: CC0\n",
      "\n",
      "---\n",
      "signature filename: /Users/olgabot/botryllus/data/gencode/M28/gencode.vM28.basic.annotation.protein.fa.hp.k24.scale5.sig\n",
      "signature: ENSMUST00000208660.2 gene_id=ENSMUSG00000025900.14;transcript_id=ENSMUST00000208660.2;gene_type=protein_coding;gene_name=Rp1;transcript_type=protein_coding;transcript_name=Rp1-202;level=2;protein_id=ENSMUSP00000146439.2;transcript_support_level=5;mgi_id=MGI:1341105;tag=RNA_Seq_supported_only,basic,appris_principal_1;havana_gene=OTTMUSG00000049985.3;havana_transcript=OTTMUST00000145515.1\n",
      "source file: gencode.vM28.basic.annotation.protein.fa\n",
      "md5: 3f94a62a67f817654040c4c555c6bb67\n",
      "k=24 molecule=hp num=0 scaled=5 seed=42 track_abundance=1\n",
      "size: 294\n",
      "signature license: CC0\n",
      "\n",
      "---\n",
      "signature filename: /Users/olgabot/botryllus/data/gencode/M28/gencode.vM28.basic.annotation.protein.fa.hp.k24.scale5.sig\n",
      "Traceback (most recent call last):\n",
      "  File \"/Users/olgabot/opt/miniconda3/envs/botryllus/bin/sourmash\", line 11, in <module>\n",
      "    sys.exit(main())\n",
      "  File \"/Users/olgabot/opt/miniconda3/envs/botryllus/lib/python3.10/site-packages/sourmash/__main__.py\", line 13, in main\n",
      "    return mainmethod(args)\n",
      "  File \"/Users/olgabot/opt/miniconda3/envs/botryllus/lib/python3.10/site-packages/sourmash/cli/sig/describe.py\", line 33, in main\n",
      "    return sourmash.sig.__main__.describe(args)\n",
      "  File \"/Users/olgabot/opt/miniconda3/envs/botryllus/lib/python3.10/site-packages/sourmash/sig/__main__.py\", line 250, in describe\n",
      "    print_results('''\\\n",
      "  File \"/Users/olgabot/opt/miniconda3/envs/botryllus/lib/python3.10/site-packages/sourmash/logging.py\", line 17, in print_results\n",
      "    sys.stdout.flush()\n",
      "BrokenPipeError: [Errno 32] Broken pipe\n",
      "Exception ignored in: <_io.TextIOWrapper name='<stdout>' mode='w' encoding='utf-8'>\n",
      "BrokenPipeError: [Errno 32] Broken pipe\n"
     ]
    }
   ],
   "source": [
    "# ! sourmash sig describe $mouse_sigfile | head -n 20"
   ]
  },
  {
   "cell_type": "code",
   "execution_count": 25,
   "id": "7951751d-1b8f-451b-ba65-35826748a3f4",
   "metadata": {},
   "outputs": [
    {
     "name": "stdout",
     "output_type": "stream",
     "text": [
      "total 520280\n",
      "drwxr-xr-x  21 olgabot  staff   672B Nov 11 07:35 \u001b[1m\u001b[36m.\u001b[m\u001b[m/\n",
      "drwxr-xr-x  14 olgabot  staff   448B Apr 16  2022 \u001b[1m\u001b[36m..\u001b[m\u001b[m/\n",
      "-rw-r--r--   1 olgabot  staff    18M Jun 22  2021 Bs_proteins.fa\n",
      "-rw-r--r--   1 olgabot  staff   9.9M Jun 22  2021 Bs_proteins.fa.gz\n",
      "-rw-r--r--   1 olgabot  staff    53B Nov 11 07:35 Bs_proteins.fa.hp.k24.scale5.aggregated.kmers.csv\n",
      "-rw-r--r--   1 olgabot  staff    31M Nov 11 07:17 Bs_proteins.fa.hp.k24.scale5.aggregated.sig\n",
      "-rw-r--r--   1 olgabot  staff    85M Apr 16  2022 Bs_proteins.fa.hp.k24.scale5.sig\n",
      "-rw-r--r--   1 olgabot  staff   6.4M May 21 10:40 Bs_proteins.fa.hp.k24.scale5.sig.csv\n",
      "-rw-r--r--   1 olgabot  staff   1.1K Dec 17  2021 bhf_isoform1.fa.hp.k24.scale5.sig\n",
      "-rw-r--r--   1 olgabot  staff   698B Dec  3  2021 bhf_isoform1.sig\n",
      "-rw-r--r--   1 olgabot  staff   986B Dec 17  2021 bhf_isoform2.fa.hp.k24.scale5.sig\n",
      "-rw-r--r--   1 olgabot  staff   656B Dec  3  2021 bhf_isoform2.sig\n",
      "-rw-r--r--   1 olgabot  staff   503B Dec  3  2021 bhf_isoforms.fa\n",
      "-rw-r--r--   1 olgabot  staff   2.1K Dec 17  2021 bhf_isoforms.fa.hp.k24.scale5.sig\n",
      "-rw-r--r--   1 olgabot  staff   1.3K Dec  3  2021 bhf_isoforms.fa.sig\n",
      "-rw-r--r--@  1 olgabot  staff    90M May 13 10:41 botryllus_genes_nc_nsi_nf.gtf\n",
      "-rw-r--r--   1 olgabot  staff     0B Jun 22  2021 sig_utils.log\n",
      "drwxr-xr-x   4 olgabot  staff   128B Dec 18  2021 \u001b[1m\u001b[36msourmash_gather_scale10\u001b[m\u001b[m/\n",
      "drwxr-xr-x   4 olgabot  staff   128B Dec 18  2021 \u001b[1m\u001b[36msourmash_search_scale10\u001b[m\u001b[m/\n",
      "drwxr-xr-x  92 olgabot  staff   2.9K Dec 16  2021 \u001b[1m\u001b[36msourmash_search_scale5\u001b[m\u001b[m/\n",
      "-rw-r--r--@  1 olgabot  staff    14M May 13 12:26 transcripts30.gtf\n"
     ]
    }
   ],
   "source": [
    "ls -lha"
   ]
  },
  {
   "cell_type": "code",
   "execution_count": 39,
   "id": "6eb46f5a-66e9-4e10-a7a1-9dcc50327c86",
   "metadata": {},
   "outputs": [
    {
     "data": {
      "text/plain": [
       "\u001b[0;31mSignature:\u001b[0m\n",
       "\u001b[0msourmash\u001b[0m\u001b[0;34m.\u001b[0m\u001b[0mload_one_signature\u001b[0m\u001b[0;34m(\u001b[0m\u001b[0;34m\u001b[0m\n",
       "\u001b[0;34m\u001b[0m    \u001b[0mdata\u001b[0m\u001b[0;34m,\u001b[0m\u001b[0;34m\u001b[0m\n",
       "\u001b[0;34m\u001b[0m    \u001b[0mksize\u001b[0m\u001b[0;34m=\u001b[0m\u001b[0;32mNone\u001b[0m\u001b[0;34m,\u001b[0m\u001b[0;34m\u001b[0m\n",
       "\u001b[0;34m\u001b[0m    \u001b[0mselect_moltype\u001b[0m\u001b[0;34m=\u001b[0m\u001b[0;32mNone\u001b[0m\u001b[0;34m,\u001b[0m\u001b[0;34m\u001b[0m\n",
       "\u001b[0;34m\u001b[0m    \u001b[0mignore_md5sum\u001b[0m\u001b[0;34m=\u001b[0m\u001b[0;32mFalse\u001b[0m\u001b[0;34m,\u001b[0m\u001b[0;34m\u001b[0m\n",
       "\u001b[0;34m\u001b[0m\u001b[0;34m)\u001b[0m\u001b[0;34m\u001b[0m\u001b[0;34m\u001b[0m\u001b[0m\n",
       "\u001b[0;31mDocstring:\u001b[0m <no docstring>\n",
       "\u001b[0;31mFile:\u001b[0m      ~/opt/miniconda3/envs/botryllus/lib/python3.10/site-packages/sourmash/signature.py\n",
       "\u001b[0;31mType:\u001b[0m      function\n"
      ]
     },
     "metadata": {},
     "output_type": "display_data"
    }
   ],
   "source": [
    "sourmash.load_one_signature?"
   ]
  },
  {
   "cell_type": "code",
   "execution_count": 49,
   "id": "9264680a-95b5-4cf9-8c0e-cc370a003945",
   "metadata": {},
   "outputs": [
    {
     "name": "stdout",
     "output_type": "stream",
     "text": [
      "... 303013 kmers,\t72584 seqs,\t17000000 bp Bs_proteins.fa.gz\r"
     ]
    }
   ],
   "source": [
    "! /Users/olgabot/opt/miniconda3/envs/botryllus/bin/python \\\n",
    "    ~/code/botryllus-mhc/notebooks/sig2kmer.py \\\n",
    "    --output-kmers Bs_proteins.fa.hp.k24.scale5.aggregated.kmers.csv \\\n",
    "    --input-is-protein --hp -k 72 --no-dna $botryllus_sigfile Bs_proteins.fa.gz"
   ]
  },
  {
   "cell_type": "markdown",
   "id": "73db0cee-54ce-4560-91a0-73ddd6017aa4",
   "metadata": {},
   "source": [
    "### Make sure the file has output"
   ]
  },
  {
   "cell_type": "code",
   "execution_count": 45,
   "id": "91c702be-6be3-49c7-9efd-c261351d8924",
   "metadata": {},
   "outputs": [
    {
     "name": "stdout",
     "output_type": "stream",
     "text": [
      "-rw-r--r--  1 olgabot  staff    31M Nov 11 08:53 Bs_proteins.fa.hp.k24.scale5.aggregated.kmers.csv\n"
     ]
    }
   ],
   "source": [
    "ls -lha Bs_proteins.fa.hp.k24.scale5.aggregated.kmers.csv"
   ]
  },
  {
   "cell_type": "code",
   "execution_count": 46,
   "id": "3a64a568-e9d3-482a-811b-c9aec6317d98",
   "metadata": {},
   "outputs": [
    {
     "name": "stdout",
     "output_type": "stream",
     "text": [
      "kmer_in_sequence,kmer_in_alphabet,hashval,read_name\n"
     ]
    }
   ],
   "source": [
    "! head Bs_proteins.fa.hp.k24.scale5.aggregated.kmers.csv"
   ]
  },
  {
   "cell_type": "code",
   "execution_count": null,
   "id": "46c6b926-334a-4d04-96c1-3c1c2ccc377b",
   "metadata": {},
   "outputs": [],
   "source": []
  }
 ],
 "metadata": {
  "kernelspec": {
   "display_name": "Python [conda env:botryllus]",
   "language": "python",
   "name": "conda-env-botryllus-py"
  },
  "language_info": {
   "codemirror_mode": {
    "name": "ipython",
    "version": 3
   },
   "file_extension": ".py",
   "mimetype": "text/x-python",
   "name": "python",
   "nbconvert_exporter": "python",
   "pygments_lexer": "ipython3",
   "version": "3.10.0"
  }
 },
 "nbformat": 4,
 "nbformat_minor": 5
}
