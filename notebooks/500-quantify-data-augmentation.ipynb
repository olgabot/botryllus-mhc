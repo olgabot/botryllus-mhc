{
 "cells": [
  {
   "cell_type": "code",
   "execution_count": 1,
   "id": "48be9b94-47c1-467e-8be9-5dbb206dd343",
   "metadata": {},
   "outputs": [],
   "source": [
    "from sourmash.nodegraph import Nodegraph"
   ]
  },
  {
   "cell_type": "code",
   "execution_count": 2,
   "id": "deba2ce6-d496-4ede-b581-9dc3e18a8048",
   "metadata": {},
   "outputs": [
    {
     "data": {
      "text/plain": [
       "\u001b[0;31mInit signature:\u001b[0m \u001b[0mNodegraph\u001b[0m\u001b[0;34m(\u001b[0m\u001b[0mksize\u001b[0m\u001b[0;34m,\u001b[0m \u001b[0mstarting_size\u001b[0m\u001b[0;34m,\u001b[0m \u001b[0mn_tables\u001b[0m\u001b[0;34m)\u001b[0m\u001b[0;34m\u001b[0m\u001b[0;34m\u001b[0m\u001b[0m\n",
       "\u001b[0;31mDocstring:\u001b[0m      <no docstring>\n",
       "\u001b[0;31mFile:\u001b[0m           ~/anaconda3/envs/sourmash-v4.8.6/lib/python3.12/site-packages/sourmash/nodegraph.py\n",
       "\u001b[0;31mType:\u001b[0m           type\n",
       "\u001b[0;31mSubclasses:\u001b[0m     "
      ]
     },
     "metadata": {},
     "output_type": "display_data"
    }
   ],
   "source": [
    "Nodegraph?"
   ]
  },
  {
   "cell_type": "code",
   "execution_count": null,
   "id": "78b73ed8-8f1b-4cdf-a99b-6a298f7bd159",
   "metadata": {},
   "outputs": [],
   "source": [
    "def make_peptide_bloom_filter(\n",
    "    peptides,\n",
    "    peptide_ksize,\n",
    "    molecule,\n",
    "    n_tables=constants_index.DEFAULT_N_TABLES,\n",
    "    tablesize=constants_index.DEFAULT_MAX_TABLESIZE,\n",
    "    index_dir=None,\n",
    "):\n",
    "    \"\"\"Create a bloom filter out of peptide sequences\"\"\"\n",
    "    peptide_bloom_filter = Nodegraph(peptide_ksize, tablesize, n_tables=n_tables)\n",
    "    if not index_dir:\n",
    "        # if not a directory, should be single file. Convert to list to use for loop below.\n",
    "        peptides = [peptides]\n",
    "    for peptide_fasta in peptides:\n",
    "        records = maybe_read_peptide_file(peptide_fasta)\n",
    "        for record in tqdm(records):\n",
    "            if \"*\" in record[\"sequence\"]:\n",
    "                continue\n",
    "            sequence = encode_peptide(record[\"sequence\"], molecule)\n",
    "            try:\n",
    "                kmers = kmerize(sequence, peptide_ksize)\n",
    "                for kmer in kmers:\n",
    "                    # Convert the k-mer into an integer\n",
    "                    hashed = hash_murmur(kmer)\n",
    "\n",
    "                    # .add can take the hashed integer so we can hash the\n",
    "                    #  peptide kmer and add it directly\n",
    "                    peptide_bloom_filter.add(hashed)\n",
    "            except ValueError:\n",
    "                # Sequence length is smaller than k-mer size\n",
    "                continue\n",
    "    return peptide_bloom_filter"
   ]
  }
 ],
 "metadata": {
  "kernelspec": {
   "display_name": "Python [conda env:sourmash-v4.8.6]",
   "language": "python",
   "name": "conda-env-sourmash-v4.8.6-py"
  },
  "language_info": {
   "codemirror_mode": {
    "name": "ipython",
    "version": 3
   },
   "file_extension": ".py",
   "mimetype": "text/x-python",
   "name": "python",
   "nbconvert_exporter": "python",
   "pygments_lexer": "ipython3",
   "version": "3.12.2"
  }
 },
 "nbformat": 4,
 "nbformat_minor": 5
}
