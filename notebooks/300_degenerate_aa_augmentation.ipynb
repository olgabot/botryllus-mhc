{
 "cells": [
  {
   "cell_type": "code",
   "execution_count": 38,
   "id": "29b46b72-8ab0-4d58-a978-06ac55e3d82f",
   "metadata": {},
   "outputs": [],
   "source": [
    "import numpy as np\n",
    "import itertools\n",
    "\n",
    "import pandas as pd\n",
    "\n",
    "import matplotlib.pyplot as plt\n",
    "import seaborn as sns\n",
    "sns.set_context('paper')"
   ]
  },
  {
   "cell_type": "code",
   "execution_count": 63,
   "id": "2a839634-5daf-4e37-97f7-5abe21ab830f",
   "metadata": {},
   "outputs": [],
   "source": [
    "sigma = np.arange(2, 11)\n",
    "n_amino_acids = 20\n"
   ]
  },
  {
   "cell_type": "code",
   "execution_count": 64,
   "id": "342f88c2-f026-41e5-a5fe-ed70f189fb04",
   "metadata": {},
   "outputs": [
    {
     "data": {
      "text/plain": [
       "array([10.        ,  6.66666667,  5.        ,  4.        ,  3.33333333,\n",
       "        2.85714286,  2.5       ,  2.22222222,  2.        ])"
      ]
     },
     "execution_count": 64,
     "metadata": {},
     "output_type": "execute_result"
    }
   ],
   "source": [
    "n_amino_acids_per_degenerate_letter = n_amino_acids/sigma\n",
    "n_amino_acids_per_degenerate_letter"
   ]
  },
  {
   "cell_type": "code",
   "execution_count": 67,
   "id": "349534e9-2527-40c7-bfaa-979aba5e2c5a",
   "metadata": {},
   "outputs": [
    {
     "data": {
      "text/plain": [
       "array([ 5, 10, 15, 20, 25, 30])"
      ]
     },
     "execution_count": 67,
     "metadata": {},
     "output_type": "execute_result"
    }
   ],
   "source": [
    "ksizes = np.arange(5, 31, 5)\n",
    "ksizes"
   ]
  },
  {
   "cell_type": "markdown",
   "id": "60c93e6e-de92-4f01-9e2b-d5b0d4e15802",
   "metadata": {},
   "source": [
    "> For the hydrophobic-polar alphabet, the median replacement rate is 10, and thus each HP k-mer represents ~10^k underlying protein sequences, and this is 10^k/2^k more underlying protein sequences than that could have been encoded in the original database. Here, we use k=24, and 10^24/2^24 = 5^24 = 6.0e+16 increase in encoded protein sequence\n"
   ]
  },
  {
   "cell_type": "markdown",
   "id": "f28830c7-894e-4f0c-8c93-e4d5a3fb4acd",
   "metadata": {},
   "source": [
    "## Compute data augmentation rate for k=24"
   ]
  },
  {
   "cell_type": "code",
   "execution_count": 68,
   "id": "e7346218-591a-44e8-b89b-e18642778d1e",
   "metadata": {},
   "outputs": [
    {
     "data": {
      "text/plain": [
       "array([ 16.7752801 ,   8.32289967,   2.32584031,  -2.32584031,\n",
       "        -6.12654012,  -9.33998602, -12.12359948, -14.57892056,\n",
       "       -16.7752801 ])"
      ]
     },
     "execution_count": 68,
     "metadata": {},
     "output_type": "execute_result"
    }
   ],
   "source": [
    "k = 24\n",
    "\n",
    "augmentation_rate = k * np.log10(n_amino_acids_per_degenerate_letter/sigma)\n",
    "augmentation_rate"
   ]
  },
  {
   "cell_type": "code",
   "execution_count": 69,
   "id": "d1e2395b-2313-46e0-865f-81f898126cdb",
   "metadata": {
    "tags": []
   },
   "outputs": [
    {
     "data": {
      "text/html": [
       "<div>\n",
       "<style scoped>\n",
       "    .dataframe tbody tr th:only-of-type {\n",
       "        vertical-align: middle;\n",
       "    }\n",
       "\n",
       "    .dataframe tbody tr th {\n",
       "        vertical-align: top;\n",
       "    }\n",
       "\n",
       "    .dataframe thead th {\n",
       "        text-align: right;\n",
       "    }\n",
       "</style>\n",
       "<table border=\"1\" class=\"dataframe\">\n",
       "  <thead>\n",
       "    <tr style=\"text-align: right;\">\n",
       "      <th></th>\n",
       "      <th>sigma</th>\n",
       "      <th>n_amino_acids_per_degenerate_letter</th>\n",
       "      <th>augmentation_rate_log10</th>\n",
       "      <th>ksize</th>\n",
       "    </tr>\n",
       "  </thead>\n",
       "  <tbody>\n",
       "    <tr>\n",
       "      <th>0</th>\n",
       "      <td>2</td>\n",
       "      <td>10.000000</td>\n",
       "      <td>16.77528</td>\n",
       "      <td>24</td>\n",
       "    </tr>\n",
       "    <tr>\n",
       "      <th>1</th>\n",
       "      <td>3</td>\n",
       "      <td>6.666667</td>\n",
       "      <td>8.32290</td>\n",
       "      <td>24</td>\n",
       "    </tr>\n",
       "    <tr>\n",
       "      <th>2</th>\n",
       "      <td>4</td>\n",
       "      <td>5.000000</td>\n",
       "      <td>2.32584</td>\n",
       "      <td>24</td>\n",
       "    </tr>\n",
       "    <tr>\n",
       "      <th>3</th>\n",
       "      <td>5</td>\n",
       "      <td>4.000000</td>\n",
       "      <td>-2.32584</td>\n",
       "      <td>24</td>\n",
       "    </tr>\n",
       "    <tr>\n",
       "      <th>4</th>\n",
       "      <td>6</td>\n",
       "      <td>3.333333</td>\n",
       "      <td>-6.12654</td>\n",
       "      <td>24</td>\n",
       "    </tr>\n",
       "  </tbody>\n",
       "</table>\n",
       "</div>"
      ],
      "text/plain": [
       "   sigma  n_amino_acids_per_degenerate_letter  augmentation_rate_log10  ksize\n",
       "0      2                            10.000000                 16.77528     24\n",
       "1      3                             6.666667                  8.32290     24\n",
       "2      4                             5.000000                  2.32584     24\n",
       "3      5                             4.000000                 -2.32584     24\n",
       "4      6                             3.333333                 -6.12654     24"
      ]
     },
     "execution_count": 69,
     "metadata": {},
     "output_type": "execute_result"
    }
   ],
   "source": [
    "degenerate_aa_augmentation_k24 = pd.DataFrame(\n",
    "    dict(\n",
    "        sigma=sigma,\n",
    "        n_amino_acids_per_degenerate_letter=n_amino_acids_per_degenerate_letter,\n",
    "        augmentation_rate_log10=augmentation_rate,\n",
    "    )\n",
    ")\n",
    "degenerate_aa_augmentation_k24['ksize'] = 24\n",
    "degenerate_aa_augmentation_k24.head()"
   ]
  },
  {
   "cell_type": "code",
   "execution_count": 70,
   "id": "c25dfa50-635f-46b0-ac08-c76990ca1558",
   "metadata": {},
   "outputs": [
    {
     "data": {
      "text/plain": [
       "<seaborn.axisgrid.FacetGrid at 0x1ad20efe0>"
      ]
     },
     "execution_count": 70,
     "metadata": {},
     "output_type": "execute_result"
    },
    {
     "data": {
      "image/png": "[encoded data removed]",
      "text/plain": [
       "<Figure size 360x360 with 1 Axes>"
      ]
     },
     "metadata": {
      "needs_background": "light"
     },
     "output_type": "display_data"
    }
   ],
   "source": [
    "g = sns.catplot(data=degenerate_aa_augmentation_k24, x='sigma', y='augmentation_rate_log10', kind='point')\n",
    "for ax in g.axes.flat:\n",
    "    ax.axhline(y=0, linestyle='--', color='grey')\n",
    "g.set_ylabels('$\\log_{10}$ (possible 20-aa k-mers) / (degenerate aa k-mers)')\n",
    "g.set_xlabels(\"Alphabet Size\")"
   ]
  },
  {
   "cell_type": "markdown",
   "id": "b9468e47-7651-4e3e-bc62-686a6bd1298b",
   "metadata": {},
   "source": [
    "## Compute for all k-mer sizes"
   ]
  },
  {
   "cell_type": "code",
   "execution_count": 79,
   "id": "84c962fe-f45f-4b4a-ba83-8307ba5ad6a9",
   "metadata": {},
   "outputs": [
    {
     "data": {
      "text/html": [
       "<div>\n",
       "<style scoped>\n",
       "    .dataframe tbody tr th:only-of-type {\n",
       "        vertical-align: middle;\n",
       "    }\n",
       "\n",
       "    .dataframe tbody tr th {\n",
       "        vertical-align: top;\n",
       "    }\n",
       "\n",
       "    .dataframe thead th {\n",
       "        text-align: right;\n",
       "    }\n",
       "</style>\n",
       "<table border=\"1\" class=\"dataframe\">\n",
       "  <thead>\n",
       "    <tr style=\"text-align: right;\">\n",
       "      <th></th>\n",
       "      <th>sigma</th>\n",
       "      <th>n_amino_acids_per_degenerate_letter</th>\n",
       "      <th>augmentation_rate_log10</th>\n",
       "      <th>ksize</th>\n",
       "    </tr>\n",
       "  </thead>\n",
       "  <tbody>\n",
       "    <tr>\n",
       "      <th>0</th>\n",
       "      <td>2</td>\n",
       "      <td>10.000000</td>\n",
       "      <td>3.494850</td>\n",
       "      <td>5</td>\n",
       "    </tr>\n",
       "    <tr>\n",
       "      <th>1</th>\n",
       "      <td>3</td>\n",
       "      <td>6.666667</td>\n",
       "      <td>1.733937</td>\n",
       "      <td>5</td>\n",
       "    </tr>\n",
       "    <tr>\n",
       "      <th>2</th>\n",
       "      <td>4</td>\n",
       "      <td>5.000000</td>\n",
       "      <td>0.484550</td>\n",
       "      <td>5</td>\n",
       "    </tr>\n",
       "    <tr>\n",
       "      <th>3</th>\n",
       "      <td>5</td>\n",
       "      <td>4.000000</td>\n",
       "      <td>-0.484550</td>\n",
       "      <td>5</td>\n",
       "    </tr>\n",
       "    <tr>\n",
       "      <th>4</th>\n",
       "      <td>6</td>\n",
       "      <td>3.333333</td>\n",
       "      <td>-1.276363</td>\n",
       "      <td>5</td>\n",
       "    </tr>\n",
       "    <tr>\n",
       "      <th>5</th>\n",
       "      <td>7</td>\n",
       "      <td>2.857143</td>\n",
       "      <td>-1.945830</td>\n",
       "      <td>5</td>\n",
       "    </tr>\n",
       "    <tr>\n",
       "      <th>6</th>\n",
       "      <td>8</td>\n",
       "      <td>2.500000</td>\n",
       "      <td>-2.525750</td>\n",
       "      <td>5</td>\n",
       "    </tr>\n",
       "    <tr>\n",
       "      <th>7</th>\n",
       "      <td>9</td>\n",
       "      <td>2.222222</td>\n",
       "      <td>-3.037275</td>\n",
       "      <td>5</td>\n",
       "    </tr>\n",
       "    <tr>\n",
       "      <th>8</th>\n",
       "      <td>10</td>\n",
       "      <td>2.000000</td>\n",
       "      <td>-3.494850</td>\n",
       "      <td>5</td>\n",
       "    </tr>\n",
       "    <tr>\n",
       "      <th>9</th>\n",
       "      <td>2</td>\n",
       "      <td>10.000000</td>\n",
       "      <td>6.989700</td>\n",
       "      <td>10</td>\n",
       "    </tr>\n",
       "    <tr>\n",
       "      <th>10</th>\n",
       "      <td>3</td>\n",
       "      <td>6.666667</td>\n",
       "      <td>3.467875</td>\n",
       "      <td>10</td>\n",
       "    </tr>\n",
       "    <tr>\n",
       "      <th>11</th>\n",
       "      <td>4</td>\n",
       "      <td>5.000000</td>\n",
       "      <td>0.969100</td>\n",
       "      <td>10</td>\n",
       "    </tr>\n",
       "    <tr>\n",
       "      <th>12</th>\n",
       "      <td>5</td>\n",
       "      <td>4.000000</td>\n",
       "      <td>-0.969100</td>\n",
       "      <td>10</td>\n",
       "    </tr>\n",
       "    <tr>\n",
       "      <th>13</th>\n",
       "      <td>6</td>\n",
       "      <td>3.333333</td>\n",
       "      <td>-2.552725</td>\n",
       "      <td>10</td>\n",
       "    </tr>\n",
       "    <tr>\n",
       "      <th>14</th>\n",
       "      <td>7</td>\n",
       "      <td>2.857143</td>\n",
       "      <td>-3.891661</td>\n",
       "      <td>10</td>\n",
       "    </tr>\n",
       "    <tr>\n",
       "      <th>15</th>\n",
       "      <td>8</td>\n",
       "      <td>2.500000</td>\n",
       "      <td>-5.051500</td>\n",
       "      <td>10</td>\n",
       "    </tr>\n",
       "    <tr>\n",
       "      <th>16</th>\n",
       "      <td>9</td>\n",
       "      <td>2.222222</td>\n",
       "      <td>-6.074550</td>\n",
       "      <td>10</td>\n",
       "    </tr>\n",
       "    <tr>\n",
       "      <th>17</th>\n",
       "      <td>10</td>\n",
       "      <td>2.000000</td>\n",
       "      <td>-6.989700</td>\n",
       "      <td>10</td>\n",
       "    </tr>\n",
       "    <tr>\n",
       "      <th>18</th>\n",
       "      <td>2</td>\n",
       "      <td>10.000000</td>\n",
       "      <td>10.484550</td>\n",
       "      <td>15</td>\n",
       "    </tr>\n",
       "    <tr>\n",
       "      <th>19</th>\n",
       "      <td>3</td>\n",
       "      <td>6.666667</td>\n",
       "      <td>5.201812</td>\n",
       "      <td>15</td>\n",
       "    </tr>\n",
       "    <tr>\n",
       "      <th>20</th>\n",
       "      <td>4</td>\n",
       "      <td>5.000000</td>\n",
       "      <td>1.453650</td>\n",
       "      <td>15</td>\n",
       "    </tr>\n",
       "    <tr>\n",
       "      <th>21</th>\n",
       "      <td>5</td>\n",
       "      <td>4.000000</td>\n",
       "      <td>-1.453650</td>\n",
       "      <td>15</td>\n",
       "    </tr>\n",
       "    <tr>\n",
       "      <th>22</th>\n",
       "      <td>6</td>\n",
       "      <td>3.333333</td>\n",
       "      <td>-3.829088</td>\n",
       "      <td>15</td>\n",
       "    </tr>\n",
       "    <tr>\n",
       "      <th>23</th>\n",
       "      <td>7</td>\n",
       "      <td>2.857143</td>\n",
       "      <td>-5.837491</td>\n",
       "      <td>15</td>\n",
       "    </tr>\n",
       "    <tr>\n",
       "      <th>24</th>\n",
       "      <td>8</td>\n",
       "      <td>2.500000</td>\n",
       "      <td>-7.577250</td>\n",
       "      <td>15</td>\n",
       "    </tr>\n",
       "    <tr>\n",
       "      <th>25</th>\n",
       "      <td>9</td>\n",
       "      <td>2.222222</td>\n",
       "      <td>-9.111825</td>\n",
       "      <td>15</td>\n",
       "    </tr>\n",
       "    <tr>\n",
       "      <th>26</th>\n",
       "      <td>10</td>\n",
       "      <td>2.000000</td>\n",
       "      <td>-10.484550</td>\n",
       "      <td>15</td>\n",
       "    </tr>\n",
       "    <tr>\n",
       "      <th>27</th>\n",
       "      <td>2</td>\n",
       "      <td>10.000000</td>\n",
       "      <td>13.979400</td>\n",
       "      <td>20</td>\n",
       "    </tr>\n",
       "    <tr>\n",
       "      <th>28</th>\n",
       "      <td>3</td>\n",
       "      <td>6.666667</td>\n",
       "      <td>6.935750</td>\n",
       "      <td>20</td>\n",
       "    </tr>\n",
       "    <tr>\n",
       "      <th>29</th>\n",
       "      <td>4</td>\n",
       "      <td>5.000000</td>\n",
       "      <td>1.938200</td>\n",
       "      <td>20</td>\n",
       "    </tr>\n",
       "    <tr>\n",
       "      <th>30</th>\n",
       "      <td>5</td>\n",
       "      <td>4.000000</td>\n",
       "      <td>-1.938200</td>\n",
       "      <td>20</td>\n",
       "    </tr>\n",
       "    <tr>\n",
       "      <th>31</th>\n",
       "      <td>6</td>\n",
       "      <td>3.333333</td>\n",
       "      <td>-5.105450</td>\n",
       "      <td>20</td>\n",
       "    </tr>\n",
       "    <tr>\n",
       "      <th>32</th>\n",
       "      <td>7</td>\n",
       "      <td>2.857143</td>\n",
       "      <td>-7.783322</td>\n",
       "      <td>20</td>\n",
       "    </tr>\n",
       "    <tr>\n",
       "      <th>33</th>\n",
       "      <td>8</td>\n",
       "      <td>2.500000</td>\n",
       "      <td>-10.103000</td>\n",
       "      <td>20</td>\n",
       "    </tr>\n",
       "    <tr>\n",
       "      <th>34</th>\n",
       "      <td>9</td>\n",
       "      <td>2.222222</td>\n",
       "      <td>-12.149100</td>\n",
       "      <td>20</td>\n",
       "    </tr>\n",
       "    <tr>\n",
       "      <th>35</th>\n",
       "      <td>10</td>\n",
       "      <td>2.000000</td>\n",
       "      <td>-13.979400</td>\n",
       "      <td>20</td>\n",
       "    </tr>\n",
       "    <tr>\n",
       "      <th>36</th>\n",
       "      <td>2</td>\n",
       "      <td>10.000000</td>\n",
       "      <td>17.474250</td>\n",
       "      <td>25</td>\n",
       "    </tr>\n",
       "    <tr>\n",
       "      <th>37</th>\n",
       "      <td>3</td>\n",
       "      <td>6.666667</td>\n",
       "      <td>8.669687</td>\n",
       "      <td>25</td>\n",
       "    </tr>\n",
       "    <tr>\n",
       "      <th>38</th>\n",
       "      <td>4</td>\n",
       "      <td>5.000000</td>\n",
       "      <td>2.422750</td>\n",
       "      <td>25</td>\n",
       "    </tr>\n",
       "    <tr>\n",
       "      <th>39</th>\n",
       "      <td>5</td>\n",
       "      <td>4.000000</td>\n",
       "      <td>-2.422750</td>\n",
       "      <td>25</td>\n",
       "    </tr>\n",
       "    <tr>\n",
       "      <th>40</th>\n",
       "      <td>6</td>\n",
       "      <td>3.333333</td>\n",
       "      <td>-6.381813</td>\n",
       "      <td>25</td>\n",
       "    </tr>\n",
       "    <tr>\n",
       "      <th>41</th>\n",
       "      <td>7</td>\n",
       "      <td>2.857143</td>\n",
       "      <td>-9.729152</td>\n",
       "      <td>25</td>\n",
       "    </tr>\n",
       "    <tr>\n",
       "      <th>42</th>\n",
       "      <td>8</td>\n",
       "      <td>2.500000</td>\n",
       "      <td>-12.628749</td>\n",
       "      <td>25</td>\n",
       "    </tr>\n",
       "    <tr>\n",
       "      <th>43</th>\n",
       "      <td>9</td>\n",
       "      <td>2.222222</td>\n",
       "      <td>-15.186376</td>\n",
       "      <td>25</td>\n",
       "    </tr>\n",
       "    <tr>\n",
       "      <th>44</th>\n",
       "      <td>10</td>\n",
       "      <td>2.000000</td>\n",
       "      <td>-17.474250</td>\n",
       "      <td>25</td>\n",
       "    </tr>\n",
       "    <tr>\n",
       "      <th>45</th>\n",
       "      <td>2</td>\n",
       "      <td>10.000000</td>\n",
       "      <td>20.969100</td>\n",
       "      <td>30</td>\n",
       "    </tr>\n",
       "    <tr>\n",
       "      <th>46</th>\n",
       "      <td>3</td>\n",
       "      <td>6.666667</td>\n",
       "      <td>10.403625</td>\n",
       "      <td>30</td>\n",
       "    </tr>\n",
       "    <tr>\n",
       "      <th>47</th>\n",
       "      <td>4</td>\n",
       "      <td>5.000000</td>\n",
       "      <td>2.907300</td>\n",
       "      <td>30</td>\n",
       "    </tr>\n",
       "    <tr>\n",
       "      <th>48</th>\n",
       "      <td>5</td>\n",
       "      <td>4.000000</td>\n",
       "      <td>-2.907300</td>\n",
       "      <td>30</td>\n",
       "    </tr>\n",
       "    <tr>\n",
       "      <th>49</th>\n",
       "      <td>6</td>\n",
       "      <td>3.333333</td>\n",
       "      <td>-7.658175</td>\n",
       "      <td>30</td>\n",
       "    </tr>\n",
       "    <tr>\n",
       "      <th>50</th>\n",
       "      <td>7</td>\n",
       "      <td>2.857143</td>\n",
       "      <td>-11.674983</td>\n",
       "      <td>30</td>\n",
       "    </tr>\n",
       "    <tr>\n",
       "      <th>51</th>\n",
       "      <td>8</td>\n",
       "      <td>2.500000</td>\n",
       "      <td>-15.154499</td>\n",
       "      <td>30</td>\n",
       "    </tr>\n",
       "    <tr>\n",
       "      <th>52</th>\n",
       "      <td>9</td>\n",
       "      <td>2.222222</td>\n",
       "      <td>-18.223651</td>\n",
       "      <td>30</td>\n",
       "    </tr>\n",
       "    <tr>\n",
       "      <th>53</th>\n",
       "      <td>10</td>\n",
       "      <td>2.000000</td>\n",
       "      <td>-20.969100</td>\n",
       "      <td>30</td>\n",
       "    </tr>\n",
       "  </tbody>\n",
       "</table>\n",
       "</div>"
      ],
      "text/plain": [
       "    sigma  n_amino_acids_per_degenerate_letter  augmentation_rate_log10  ksize\n",
       "0       2                            10.000000                 3.494850      5\n",
       "1       3                             6.666667                 1.733937      5\n",
       "2       4                             5.000000                 0.484550      5\n",
       "3       5                             4.000000                -0.484550      5\n",
       "4       6                             3.333333                -1.276363      5\n",
       "5       7                             2.857143                -1.945830      5\n",
       "6       8                             2.500000                -2.525750      5\n",
       "7       9                             2.222222                -3.037275      5\n",
       "8      10                             2.000000                -3.494850      5\n",
       "9       2                            10.000000                 6.989700     10\n",
       "10      3                             6.666667                 3.467875     10\n",
       "11      4                             5.000000                 0.969100     10\n",
       "12      5                             4.000000                -0.969100     10\n",
       "13      6                             3.333333                -2.552725     10\n",
       "14      7                             2.857143                -3.891661     10\n",
       "15      8                             2.500000                -5.051500     10\n",
       "16      9                             2.222222                -6.074550     10\n",
       "17     10                             2.000000                -6.989700     10\n",
       "18      2                            10.000000                10.484550     15\n",
       "19      3                             6.666667                 5.201812     15\n",
       "20      4                             5.000000                 1.453650     15\n",
       "21      5                             4.000000                -1.453650     15\n",
       "22      6                             3.333333                -3.829088     15\n",
       "23      7                             2.857143                -5.837491     15\n",
       "24      8                             2.500000                -7.577250     15\n",
       "25      9                             2.222222                -9.111825     15\n",
       "26     10                             2.000000               -10.484550     15\n",
       "27      2                            10.000000                13.979400     20\n",
       "28      3                             6.666667                 6.935750     20\n",
       "29      4                             5.000000                 1.938200     20\n",
       "30      5                             4.000000                -1.938200     20\n",
       "31      6                             3.333333                -5.105450     20\n",
       "32      7                             2.857143                -7.783322     20\n",
       "33      8                             2.500000               -10.103000     20\n",
       "34      9                             2.222222               -12.149100     20\n",
       "35     10                             2.000000               -13.979400     20\n",
       "36      2                            10.000000                17.474250     25\n",
       "37      3                             6.666667                 8.669687     25\n",
       "38      4                             5.000000                 2.422750     25\n",
       "39      5                             4.000000                -2.422750     25\n",
       "40      6                             3.333333                -6.381813     25\n",
       "41      7                             2.857143                -9.729152     25\n",
       "42      8                             2.500000               -12.628749     25\n",
       "43      9                             2.222222               -15.186376     25\n",
       "44     10                             2.000000               -17.474250     25\n",
       "45      2                            10.000000                20.969100     30\n",
       "46      3                             6.666667                10.403625     30\n",
       "47      4                             5.000000                 2.907300     30\n",
       "48      5                             4.000000                -2.907300     30\n",
       "49      6                             3.333333                -7.658175     30\n",
       "50      7                             2.857143               -11.674983     30\n",
       "51      8                             2.500000               -15.154499     30\n",
       "52      9                             2.222222               -18.223651     30\n",
       "53     10                             2.000000               -20.969100     30"
      ]
     },
     "execution_count": 79,
     "metadata": {},
     "output_type": "execute_result"
    }
   ],
   "source": [
    "dfs = []\n",
    "for ksize in ksizes:\n",
    "    df = pd.DataFrame(\n",
    "    dict(\n",
    "        sigma=sigma,\n",
    "        n_amino_acids_per_degenerate_letter=n_amino_acids_per_degenerate_letter,\n",
    "        augmentation_rate_log10=ksize * np.log10(n_amino_acids_per_degenerate_letter/sigma),\n",
    "    )\n",
    ")\n",
    "    df['ksize'] = ksize\n",
    "    dfs.append(df)\n",
    "degenerate_aa_augmentation = pd.concat(dfs, ignore_index=True)\n",
    "degenerate_aa_augmentation"
   ]
  },
  {
   "cell_type": "code",
   "execution_count": 80,
   "id": "d306adab-03e7-4e5a-b594-33159707e7ad",
   "metadata": {},
   "outputs": [
    {
     "data": {
      "text/plain": [
       "array([2, 3, 4])"
      ]
     },
     "execution_count": 80,
     "metadata": {},
     "output_type": "execute_result"
    }
   ],
   "source": [
    "degenerate_aa_augmentation.query('augmentation_rate_log10 > 0').sigma.unique()"
   ]
  },
  {
   "cell_type": "code",
   "execution_count": 81,
   "id": "93c958bf-9640-4090-b7ec-796935808210",
   "metadata": {},
   "outputs": [
    {
     "data": {
      "text/plain": [
       "4.47213595499958"
      ]
     },
     "execution_count": 81,
     "metadata": {},
     "output_type": "execute_result"
    }
   ],
   "source": [
    "np.sqrt(20)"
   ]
  },
  {
   "cell_type": "markdown",
   "id": "b6360d84-946b-459f-9b86-9a07c044c052",
   "metadata": {},
   "source": [
    "if $x$ is the alphabet size and $k$ is the k-mer size, then the breaking point for when the number of theoretical proteins present in the underlying degenerate amino acid sequence is the same for all k-mer sizes,\n",
    "\n",
    "$$\n",
    "\\begin{align}\n",
    "\\frac{(20/x)^k}{x^k} &= 1\\\\\n",
    "\\frac{20^k}{x^{2k}}  &= 1\\\\\n",
    "20^k &= x^{2k}\\\\\n",
    "x&= \\sqrt{20}\n",
    "\\end{align}\n",
    "$$"
   ]
  },
  {
   "cell_type": "code",
   "execution_count": 87,
   "id": "2727e22e-a027-46cc-8fb0-db7a495696e7",
   "metadata": {},
   "outputs": [
    {
     "data": {
      "image/png": "[encoded data removed]",
      "text/plain": [
       "<Figure size 258.93x216 with 1 Axes>"
      ]
     },
     "metadata": {
      "needs_background": "light"
     },
     "output_type": "display_data"
    }
   ],
   "source": [
    "g = sns.catplot(\n",
    "    data=degenerate_aa_augmentation,\n",
    "    x=\"sigma\",\n",
    "    y=\"augmentation_rate_log10\",\n",
    "    kind=\"point\",\n",
    "    hue=\"ksize\",\n",
    "    height=3,\n",
    "    palette='viridis'\n",
    ")\n",
    "for ax in g.axes.flat:\n",
    "    ax.axhline(y=0, linestyle=\"--\", color=\"grey\")\n",
    "    ax.axvline(x=np.sqrt(n_amino_acids)-2, linestyle='--', color='grey')\n",
    "# g.set_ylabels(\"$\\log_{10}$ (possible 20-aa k-mers) / (degenerate aa k-mers)\")\n",
    "g.set_ylabels(\"$\\log_{10}$ Data Augmentation Rate\")\n",
    "g.set_xlabels(\"Alphabet Size\")\n",
    "g.savefig(\"../figures/300_degenerate_aa_augmentation_rate.pdf\")\n"
   ]
  },
  {
   "cell_type": "code",
   "execution_count": 77,
   "id": "91732256-3bf4-4d2c-a916-1b4b9bd8dbd2",
   "metadata": {},
   "outputs": [
    {
     "data": {
      "text/plain": [
       "array([ 0,  1,  2,  3,  8, 13])"
      ]
     },
     "execution_count": 77,
     "metadata": {},
     "output_type": "execute_result"
    }
   ],
   "source": [
    "g.axes[0][0].get_xticks()"
   ]
  },
  {
   "cell_type": "code",
   "execution_count": 78,
   "id": "7a1d2e98-3d95-4df9-980b-29d9dfdf13ba",
   "metadata": {},
   "outputs": [
    {
     "data": {
      "text/plain": [
       "[Text(0, 0, '2'),\n",
       " Text(1, 0, '3'),\n",
       " Text(2, 0, '4'),\n",
       " Text(3, 0, '5'),\n",
       " Text(8, 0, '10'),\n",
       " Text(13, 0, '')]"
      ]
     },
     "execution_count": 78,
     "metadata": {},
     "output_type": "execute_result"
    }
   ],
   "source": [
    "g.axes[0][0].get_xticklabels()"
   ]
  },
  {
   "cell_type": "code",
   "execution_count": null,
   "id": "fbd6a3b3-d7d0-45d7-9c3a-aa395eb23233",
   "metadata": {},
   "outputs": [],
   "source": []
  }
 ],
 "metadata": {
  "kernelspec": {
   "display_name": "Python [conda env:botryllus]",
   "language": "python",
   "name": "conda-env-botryllus-py"
  },
  "language_info": {
   "codemirror_mode": {
    "name": "ipython",
    "version": 3
   },
   "file_extension": ".py",
   "mimetype": "text/x-python",
   "name": "python",
   "nbconvert_exporter": "python",
   "pygments_lexer": "ipython3",
   "version": "3.10.0"
  }
 },
 "nbformat": 4,
 "nbformat_minor": 5
}
