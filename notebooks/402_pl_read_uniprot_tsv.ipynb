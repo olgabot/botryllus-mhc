{
 "cells": [
  {
   "cell_type": "code",
   "execution_count": 2,
   "id": "a289d16d-8f27-4b67-a984-821fca678605",
   "metadata": {},
   "outputs": [
    {
     "name": "stdout",
     "output_type": "stream",
     "text": [
      "CPU times: user 2.45 ms, sys: 2.23 ms, total: 4.68 ms\n",
      "Wall time: 7.55 ms\n"
     ]
    },
    {
     "data": {
      "text/html": [
       "<i>naive plan: (run <b>LazyFrame.explain(optimized=True)</b> to see the optimized plan)</i>\n",
       "    <p></p>\n",
       "    <div> WITH_COLUMNS:<p></p> [col(\"Taxonomic lineage\").str.contains([String(Opisthokonta)]).alias(\"opisthokonta\"), col(\"Taxonomic lineage\").str.contains([String(Metazoa)]).alias(\"metazoa\"), col(\"Taxonomic lineage\").str.contains([String(Fungi)]).alias(\"fungi\"), col(\"Taxonomic lineage\").str.contains([String(Viridiplantae)]).alias(\"viridiplantae\")]<p></p><p></p>    Csv SCAN /Users/olgabot/botryllus-data/2024-03-30__uniprot_eukaryota.tsv<p></p>    PROJECT */20 COLUMNS</div>"
      ],
      "text/plain": [
       "<LazyFrame [24 cols, {\"Entry\": String … \"viridiplantae\": Boolean}] at 0x1132F3740>"
      ]
     },
     "execution_count": 2,
     "metadata": {},
     "output_type": "execute_result"
    }
   ],
   "source": [
    "%%time\n",
    "\n",
    "import polars as pl\n",
    "\n",
    "eukaryota = pl.scan_csv(\n",
    "    \"/Users/olgabot/botryllus-data/2024-03-30__uniprot_eukaryota.tsv\",\n",
    "    separator=\"\\t\",\n",
    "    # n_rows=1000,\n",
    ")\n",
    "eukaryota = eukaryota.with_columns(\n",
    "    [\n",
    "        pl.col(\"Taxonomic lineage\").str.contains(\"Opisthokonta\").alias(\"opisthokonta\"),\n",
    "        pl.col(\"Taxonomic lineage\").str.contains(\"Metazoa\").alias(\"metazoa\"),\n",
    "        pl.col(\"Taxonomic lineage\").str.contains(\"Fungi\").alias(\"fungi\"),\n",
    "        pl.col(\"Taxonomic lineage\")\n",
    "        .str.contains(\"Viridiplantae\")\n",
    "        .alias(\"viridiplantae\"),\n",
    "    ]\n",
    ")\n",
    "\n",
    "eukaryota"
   ]
  },
  {
   "cell_type": "code",
   "execution_count": 3,
   "id": "8b02b8ad-d621-4e9e-bcc1-18a3b6ba04df",
   "metadata": {},
   "outputs": [
    {
     "name": "stdout",
     "output_type": "stream",
     "text": [
      "CPU times: user 11min 2s, sys: 26min 14s, total: 37min 16s\n",
      "Wall time: 19min 35s\n"
     ]
    },
    {
     "data": {
      "text/html": [
       "<div><style>\n",
       ".dataframe > thead > tr,\n",
       ".dataframe > tbody > tr {\n",
       "  text-align: right;\n",
       "  white-space: pre-wrap;\n",
       "}\n",
       "</style>\n",
       "<small>shape: (1_006_569, 9)</small><table border=\"1\" class=\"dataframe\"><thead><tr><th>opisthokonta</th><th>metazoa</th><th>fungi</th><th>viridiplantae</th><th>Taxonomic lineage</th><th>Organism</th><th>Organism (ID)</th><th>Reviewed</th><th>len</th></tr><tr><td>bool</td><td>bool</td><td>bool</td><td>bool</td><td>str</td><td>str</td><td>i64</td><td>str</td><td>u32</td></tr></thead><tbody><tr><td>true</td><td>true</td><td>false</td><td>false</td><td>&quot;cellular organ…</td><td>&quot;Dolichopodidae…</td><td>2261969</td><td>&quot;unreviewed&quot;</td><td>1</td></tr><tr><td>true</td><td>true</td><td>false</td><td>false</td><td>&quot;cellular organ…</td><td>&quot;Lampetra sp. L…</td><td>2712371</td><td>&quot;unreviewed&quot;</td><td>2</td></tr><tr><td>true</td><td>true</td><td>false</td><td>false</td><td>&quot;cellular organ…</td><td>&quot;Phyllocnistis …</td><td>2458396</td><td>&quot;unreviewed&quot;</td><td>1</td></tr><tr><td>true</td><td>true</td><td>false</td><td>false</td><td>&quot;cellular organ…</td><td>&quot;Callopsylla sp…</td><td>2480017</td><td>&quot;unreviewed&quot;</td><td>3</td></tr><tr><td>true</td><td>true</td><td>false</td><td>false</td><td>&quot;cellular organ…</td><td>&quot;Lepidopsocidae…</td><td>1901050</td><td>&quot;unreviewed&quot;</td><td>1</td></tr><tr><td>&hellip;</td><td>&hellip;</td><td>&hellip;</td><td>&hellip;</td><td>&hellip;</td><td>&hellip;</td><td>&hellip;</td><td>&hellip;</td><td>&hellip;</td></tr><tr><td>true</td><td>true</td><td>false</td><td>false</td><td>&quot;cellular organ…</td><td>&quot;Alaptus sp. BI…</td><td>2422097</td><td>&quot;unreviewed&quot;</td><td>1</td></tr><tr><td>true</td><td>true</td><td>false</td><td>false</td><td>&quot;cellular organ…</td><td>&quot;Dolichopodidae…</td><td>2308662</td><td>&quot;unreviewed&quot;</td><td>1</td></tr><tr><td>true</td><td>true</td><td>false</td><td>false</td><td>&quot;cellular organ…</td><td>&quot;Pleurodirus ca…</td><td>2729957</td><td>&quot;unreviewed&quot;</td><td>1</td></tr><tr><td>true</td><td>true</td><td>false</td><td>false</td><td>&quot;cellular organ…</td><td>&quot;Micrasema sp. …</td><td>1877925</td><td>&quot;unreviewed&quot;</td><td>1</td></tr><tr><td>true</td><td>true</td><td>false</td><td>false</td><td>&quot;cellular organ…</td><td>&quot;Tabanus discor…</td><td>2292800</td><td>&quot;unreviewed&quot;</td><td>1</td></tr></tbody></table></div>"
      ],
      "text/plain": [
       "shape: (1_006_569, 9)\n",
       "┌───────────────┬─────────┬───────┬───────────────┬───┬──────────────┬──────────┬────────────┬─────┐\n",
       "│ opisthokonta  ┆ metazoa ┆ fungi ┆ viridiplantae ┆ … ┆ Organism     ┆ Organism ┆ Reviewed   ┆ len │\n",
       "│ ---           ┆ ---     ┆ ---   ┆ ---           ┆   ┆ ---          ┆ (ID)     ┆ ---        ┆ --- │\n",
       "│ bool          ┆ bool    ┆ bool  ┆ bool          ┆   ┆ str          ┆ ---      ┆ str        ┆ u32 │\n",
       "│               ┆         ┆       ┆               ┆   ┆              ┆ i64      ┆            ┆     │\n",
       "╞═══════════════╪═════════╪═══════╪═══════════════╪═══╪══════════════╪══════════╪════════════╪═════╡\n",
       "│ true          ┆ true    ┆ false ┆ false         ┆ … ┆ Dolichopodid ┆ 2261969  ┆ unreviewed ┆ 1   │\n",
       "│               ┆         ┆       ┆               ┆   ┆ ae sp. BIOUG ┆          ┆            ┆     │\n",
       "│               ┆         ┆       ┆               ┆   ┆ 21645-G0…    ┆          ┆            ┆     │\n",
       "│ true          ┆ true    ┆ false ┆ false         ┆ … ┆ Lampetra sp. ┆ 2712371  ┆ unreviewed ┆ 2   │\n",
       "│               ┆         ┆       ┆               ┆   ┆ Lif6         ┆          ┆            ┆     │\n",
       "│ true          ┆ true    ┆ false ┆ false         ┆ … ┆ Phyllocnisti ┆ 2458396  ┆ unreviewed ┆ 1   │\n",
       "│               ┆         ┆       ┆               ┆   ┆ s sp. BIOUG2 ┆          ┆            ┆     │\n",
       "│               ┆         ┆       ┆               ┆   ┆ 3803-F04     ┆          ┆            ┆     │\n",
       "│ true          ┆ true    ┆ false ┆ false         ┆ … ┆ Callopsylla  ┆ 2480017  ┆ unreviewed ┆ 3   │\n",
       "│               ┆         ┆       ┆               ┆   ┆ sparsilis    ┆          ┆            ┆     │\n",
       "│ true          ┆ true    ┆ false ┆ false         ┆ … ┆ Lepidopsocid ┆ 1901050  ┆ unreviewed ┆ 1   │\n",
       "│               ┆         ┆       ┆               ┆   ┆ ae sp.       ┆          ┆            ┆     │\n",
       "│               ┆         ┆       ┆               ┆   ┆ sc_03150     ┆          ┆            ┆     │\n",
       "│ …             ┆ …       ┆ …     ┆ …             ┆ … ┆ …            ┆ …        ┆ …          ┆ …   │\n",
       "│ true          ┆ true    ┆ false ┆ false         ┆ … ┆ Alaptus sp.  ┆ 2422097  ┆ unreviewed ┆ 1   │\n",
       "│               ┆         ┆       ┆               ┆   ┆ BIOUG23263-A ┆          ┆            ┆     │\n",
       "│               ┆         ┆       ┆               ┆   ┆ 09           ┆          ┆            ┆     │\n",
       "│ true          ┆ true    ┆ false ┆ false         ┆ … ┆ Dolichopodid ┆ 2308662  ┆ unreviewed ┆ 1   │\n",
       "│               ┆         ┆       ┆               ┆   ┆ ae sp. BIOUG ┆          ┆            ┆     │\n",
       "│               ┆         ┆       ┆               ┆   ┆ 22518-G0…    ┆          ┆            ┆     │\n",
       "│ true          ┆ true    ┆ false ┆ false         ┆ … ┆ Pleurodirus  ┆ 2729957  ┆ unreviewed ┆ 1   │\n",
       "│               ┆         ┆       ┆               ┆   ┆ carinula     ┆          ┆            ┆     │\n",
       "│ true          ┆ true    ┆ false ┆ false         ┆ … ┆ Micrasema    ┆ 1877925  ┆ unreviewed ┆ 1   │\n",
       "│               ┆         ┆       ┆               ┆   ┆ sp. SCCWRP02 ┆          ┆            ┆     │\n",
       "│               ┆         ┆       ┆               ┆   ┆ 92001        ┆          ┆            ┆     │\n",
       "│ true          ┆ true    ┆ false ┆ false         ┆ … ┆ Tabanus      ┆ 2292800  ┆ unreviewed ┆ 1   │\n",
       "│               ┆         ┆       ┆               ┆   ┆ discors      ┆          ┆            ┆     │\n",
       "└───────────────┴─────────┴───────┴───────────────┴───┴──────────────┴──────────┴────────────┴─────┘"
      ]
     },
     "execution_count": 3,
     "metadata": {},
     "output_type": "execute_result"
    }
   ],
   "source": [
    "%%time\n",
    "eukaryota_counted = (\n",
    "    eukaryota.group_by(\n",
    "        [\n",
    "            \"opisthokonta\",\n",
    "            \"metazoa\",\n",
    "            \"fungi\",\n",
    "            \"viridiplantae\",\n",
    "            \"Taxonomic lineage\",\n",
    "            \"Organism\",\n",
    "            \"Organism (ID)\",\n",
    "            \"Reviewed\",\n",
    "        ]\n",
    "    )\n",
    "    .len()\n",
    "    .collect(streaming=True)\n",
    ")\n",
    "eukaryota_counted"
   ]
  },
  {
   "cell_type": "code",
   "execution_count": 6,
   "id": "d7df9e04-8be6-4a8e-988f-601e5b629b88",
   "metadata": {},
   "outputs": [
    {
     "name": "stdout",
     "output_type": "stream",
     "text": [
      "CPU times: user 1.38 s, sys: 1.88 s, total: 3.26 s\n",
      "Wall time: 4 s\n"
     ]
    }
   ],
   "source": [
    "%%time\n",
    "\n",
    "eukaryota_counted.write_parquet(\n",
    "    \"/Users/olgabot/botryllus-data/2024-03-30__uniprot_eukaryota_counted_per_kingdom.parquet\"\n",
    ")"
   ]
  },
  {
   "cell_type": "code",
   "execution_count": 5,
   "id": "fffd9efc-210a-44bb-87ef-1147f037cb4e",
   "metadata": {},
   "outputs": [
    {
     "name": "stdout",
     "output_type": "stream",
     "text": [
      "CPU times: user 9min 5s, sys: 17min 3s, total: 26min 9s\n",
      "Wall time: 9min 4s\n"
     ]
    }
   ],
   "source": [
    "%%time\n",
    "\n",
    "eukaryota.sink_parquet(\n",
    "    \"/Users/olgabot/botryllus-data/2024-03-30__uniprot_eukaryota.parquet\"\n",
    ")"
   ]
  },
  {
   "cell_type": "code",
   "execution_count": null,
   "id": "75355e5d-5820-4f4a-83c5-853114d716a0",
   "metadata": {},
   "outputs": [],
   "source": []
  },
  {
   "cell_type": "code",
   "execution_count": null,
   "id": "78db849c-3c47-44d4-ab94-16fe11678131",
   "metadata": {},
   "outputs": [],
   "source": []
  }
 ],
 "metadata": {
  "kernelspec": {
   "display_name": "Python [conda env:data-analysis]",
   "language": "python",
   "name": "conda-env-data-analysis-py"
  },
  "language_info": {
   "codemirror_mode": {
    "name": "ipython",
    "version": 3
   },
   "file_extension": ".py",
   "mimetype": "text/x-python",
   "name": "python",
   "nbconvert_exporter": "python",
   "pygments_lexer": "ipython3",
   "version": "3.12.2"
  }
 },
 "nbformat": 4,
 "nbformat_minor": 5
}
