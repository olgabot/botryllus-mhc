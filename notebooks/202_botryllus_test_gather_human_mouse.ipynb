{
 "cells": [
  {
   "cell_type": "markdown",
   "id": "2c65a5ae-c0fb-41ac-85d5-6f51a7c25801",
   "metadata": {},
   "source": [
    "# Imports and data loading"
   ]
  },
  {
   "cell_type": "code",
   "execution_count": 44,
   "id": "62373112-6135-40af-903f-f44c764703c0",
   "metadata": {},
   "outputs": [],
   "source": [
    "import sourmash\n",
    "import screed\n",
    "import os\n",
    "import re\n",
    "import pandas as pd\n",
    "\n",
    "from tqdm import tqdm\n",
    "\n",
    "from kmer_utils import get_encoded_kmer_hashvals"
   ]
  },
  {
   "cell_type": "markdown",
   "id": "8fac5f8f-1cd8-49a7-b3ba-6eeee4cd1755",
   "metadata": {},
   "source": [
    "### Read in human-mouse homologs"
   ]
  },
  {
   "cell_type": "code",
   "execution_count": 2,
   "id": "f0b3aefb-bf7a-49aa-909f-7856e6046359",
   "metadata": {
    "tags": []
   },
   "outputs": [],
   "source": [
    "\n",
    "\n",
    "SYMBOL_SEPARATOR = '---'"
   ]
  },
  {
   "cell_type": "code",
   "execution_count": 3,
   "id": "43cd94d4-c7f1-4609-94e6-99f35b2a1c02",
   "metadata": {},
   "outputs": [
    {
     "name": "stdout",
     "output_type": "stream",
     "text": [
      "(43117, 13)\n"
     ]
    },
    {
     "data": {
      "text/html": [
       "<div>\n",
       "<style scoped>\n",
       "    .dataframe tbody tr th:only-of-type {\n",
       "        vertical-align: middle;\n",
       "    }\n",
       "\n",
       "    .dataframe tbody tr th {\n",
       "        vertical-align: top;\n",
       "    }\n",
       "\n",
       "    .dataframe thead th {\n",
       "        text-align: right;\n",
       "    }\n",
       "</style>\n",
       "<table border=\"1\" class=\"dataframe\">\n",
       "  <thead>\n",
       "    <tr style=\"text-align: right;\">\n",
       "      <th></th>\n",
       "      <th>DB Class Key</th>\n",
       "      <th>Common Organism Name</th>\n",
       "      <th>NCBI Taxon ID</th>\n",
       "      <th>Symbol</th>\n",
       "      <th>EntrezGene ID</th>\n",
       "      <th>Mouse MGI ID</th>\n",
       "      <th>HGNC ID</th>\n",
       "      <th>OMIM Gene ID</th>\n",
       "      <th>Genetic Location</th>\n",
       "      <th>Genomic Coordinates (mouse: , human: )</th>\n",
       "      <th>Nucleotide RefSeq IDs</th>\n",
       "      <th>Protein RefSeq IDs</th>\n",
       "      <th>SWISS_PROT IDs</th>\n",
       "    </tr>\n",
       "  </thead>\n",
       "  <tbody>\n",
       "    <tr>\n",
       "      <th>0</th>\n",
       "      <td>39806032</td>\n",
       "      <td>mouse, laboratory</td>\n",
       "      <td>10090</td>\n",
       "      <td>Gdnf</td>\n",
       "      <td>14573</td>\n",
       "      <td>MGI:107430</td>\n",
       "      <td>NaN</td>\n",
       "      <td>NaN</td>\n",
       "      <td>Chr15 3.8 cM</td>\n",
       "      <td>Chr15:7840327-7867056(+)</td>\n",
       "      <td>NM_010275,NM_001301333,NM_001301357,NM_001301332</td>\n",
       "      <td>NP_001288262,NP_034405,NP_001288286,NP_001288261</td>\n",
       "      <td>P48540</td>\n",
       "    </tr>\n",
       "    <tr>\n",
       "      <th>1</th>\n",
       "      <td>39806032</td>\n",
       "      <td>human</td>\n",
       "      <td>9606</td>\n",
       "      <td>GDNF</td>\n",
       "      <td>2668</td>\n",
       "      <td>NaN</td>\n",
       "      <td>HGNC:4232</td>\n",
       "      <td>OMIM:600837</td>\n",
       "      <td>Chr5 p13.2</td>\n",
       "      <td>Chr5:37812677-37840044(-)</td>\n",
       "      <td>NM_199231,NM_001278098,NM_001190469,NM_000514,...</td>\n",
       "      <td>NP_001177398,NP_000505,NP_001177397,XP_0168648...</td>\n",
       "      <td>P39905</td>\n",
       "    </tr>\n",
       "    <tr>\n",
       "      <th>2</th>\n",
       "      <td>39806033</td>\n",
       "      <td>mouse, laboratory</td>\n",
       "      <td>10090</td>\n",
       "      <td>Npy4r</td>\n",
       "      <td>19065</td>\n",
       "      <td>MGI:105374</td>\n",
       "      <td>NaN</td>\n",
       "      <td>NaN</td>\n",
       "      <td>Chr14 20.8 cM</td>\n",
       "      <td>Chr14:33867603-33874376(-)</td>\n",
       "      <td>NM_008919</td>\n",
       "      <td>NP_032945</td>\n",
       "      <td>Q61041</td>\n",
       "    </tr>\n",
       "    <tr>\n",
       "      <th>3</th>\n",
       "      <td>39806033</td>\n",
       "      <td>human</td>\n",
       "      <td>9606</td>\n",
       "      <td>NPY4R</td>\n",
       "      <td>5540</td>\n",
       "      <td>NaN</td>\n",
       "      <td>HGNC:9329</td>\n",
       "      <td>OMIM:601790</td>\n",
       "      <td>Chr10 q11.22</td>\n",
       "      <td>Chr10:46458551-46470668(-)</td>\n",
       "      <td>NM_001278794,NM_005972</td>\n",
       "      <td>NP_005963,XP_011538238,XP_011538239,XP_0168718...</td>\n",
       "      <td>NaN</td>\n",
       "    </tr>\n",
       "    <tr>\n",
       "      <th>4</th>\n",
       "      <td>39806034</td>\n",
       "      <td>mouse, laboratory</td>\n",
       "      <td>10090</td>\n",
       "      <td>Evx2</td>\n",
       "      <td>14029</td>\n",
       "      <td>MGI:95462</td>\n",
       "      <td>NaN</td>\n",
       "      <td>NaN</td>\n",
       "      <td>Chr2 44.13 cM</td>\n",
       "      <td>Chr2:74483335-74489901(-)</td>\n",
       "      <td>XM_006498728,XM_006498729,NM_007967</td>\n",
       "      <td>XP_006498792,NP_031993,XP_006498791</td>\n",
       "      <td>P49749</td>\n",
       "    </tr>\n",
       "  </tbody>\n",
       "</table>\n",
       "</div>"
      ],
      "text/plain": [
       "   DB Class Key Common Organism Name  NCBI Taxon ID Symbol  EntrezGene ID  \\\n",
       "0      39806032    mouse, laboratory          10090   Gdnf          14573   \n",
       "1      39806032                human           9606   GDNF           2668   \n",
       "2      39806033    mouse, laboratory          10090  Npy4r          19065   \n",
       "3      39806033                human           9606  NPY4R           5540   \n",
       "4      39806034    mouse, laboratory          10090   Evx2          14029   \n",
       "\n",
       "  Mouse MGI ID    HGNC ID OMIM Gene ID Genetic Location  \\\n",
       "0   MGI:107430        NaN          NaN     Chr15 3.8 cM   \n",
       "1          NaN  HGNC:4232  OMIM:600837       Chr5 p13.2   \n",
       "2   MGI:105374        NaN          NaN    Chr14 20.8 cM   \n",
       "3          NaN  HGNC:9329  OMIM:601790     Chr10 q11.22   \n",
       "4    MGI:95462        NaN          NaN    Chr2 44.13 cM   \n",
       "\n",
       "  Genomic Coordinates (mouse: , human: )  \\\n",
       "0               Chr15:7840327-7867056(+)   \n",
       "1              Chr5:37812677-37840044(-)   \n",
       "2             Chr14:33867603-33874376(-)   \n",
       "3             Chr10:46458551-46470668(-)   \n",
       "4              Chr2:74483335-74489901(-)   \n",
       "\n",
       "                               Nucleotide RefSeq IDs  \\\n",
       "0   NM_010275,NM_001301333,NM_001301357,NM_001301332   \n",
       "1  NM_199231,NM_001278098,NM_001190469,NM_000514,...   \n",
       "2                                          NM_008919   \n",
       "3                             NM_001278794,NM_005972   \n",
       "4                XM_006498728,XM_006498729,NM_007967   \n",
       "\n",
       "                                  Protein RefSeq IDs SWISS_PROT IDs  \n",
       "0   NP_001288262,NP_034405,NP_001288286,NP_001288261         P48540  \n",
       "1  NP_001177398,NP_000505,NP_001177397,XP_0168648...         P39905  \n",
       "2                                          NP_032945         Q61041  \n",
       "3  NP_005963,XP_011538238,XP_011538239,XP_0168718...            NaN  \n",
       "4                XP_006498792,NP_031993,XP_006498791         P49749  "
      ]
     },
     "execution_count": 3,
     "metadata": {},
     "output_type": "execute_result"
    }
   ],
   "source": [
    "human_mouse_homologs = pd.read_csv('HOM_MouseHumanSequence.rpt', sep='\\t')\n",
    "print(human_mouse_homologs.shape)\n",
    "human_mouse_homologs.head()"
   ]
  },
  {
   "cell_type": "markdown",
   "id": "2dd43ff0-37e1-42e9-b7f2-b9a14d4769c5",
   "metadata": {},
   "source": [
    "## Set output directory"
   ]
  },
  {
   "cell_type": "code",
   "execution_count": 4,
   "id": "ffbd863e-8876-4917-a793-6162ba474154",
   "metadata": {},
   "outputs": [
    {
     "name": "stdout",
     "output_type": "stream",
     "text": [
      "mkdir: /Users/olgabot/botryllus/adhoc-analysis/2022-apr--gather-botryllus-in-human-mouse-with-kmers/: File exists\n"
     ]
    }
   ],
   "source": [
    "outdir = '/Users/olgabot/botryllus/adhoc-analysis/2022-apr--gather-botryllus-in-human-mouse-with-kmers/'\n",
    "! mkdir $outdir"
   ]
  },
  {
   "cell_type": "code",
   "execution_count": 5,
   "id": "c0820b75-edc5-4985-98e3-688ab7a19b12",
   "metadata": {},
   "outputs": [],
   "source": [
    "def sanitize(x):\n",
    "    \"\"\"Clean a gene name so it is a nice filename\"\"\"\n",
    "    return x.replace(' ', '_').replace('.', '-')"
   ]
  },
  {
   "cell_type": "markdown",
   "id": "cb445f7c-2bad-4cd1-ba1c-75ce200b76c5",
   "metadata": {},
   "source": [
    "# Iterate over all botryllus proteins to do `gather` on human and mouse"
   ]
  },
  {
   "cell_type": "code",
   "execution_count": 12,
   "id": "e6906901-9767-486e-a6f7-be6e852b9d32",
   "metadata": {},
   "outputs": [],
   "source": [
    "botryllus_dir = '/Users/olgabot/botryllus/data/botryllus-proteins/'"
   ]
  },
  {
   "cell_type": "code",
   "execution_count": 13,
   "id": "11c965ca-7e4b-4bf7-b79a-1bca2c548a59",
   "metadata": {},
   "outputs": [],
   "source": [
    "human_gencode_dir = '/Users/olgabot/botryllus/data/gencode/v38/'\n",
    "mouse_gencode_dir = '/Users/olgabot/botryllus/data/gencode/M28/'"
   ]
  },
  {
   "cell_type": "code",
   "execution_count": 14,
   "id": "c3ba1c6c-e9b4-4db9-8a94-1e4b15bffe16",
   "metadata": {},
   "outputs": [
    {
     "name": "stdout",
     "output_type": "stream",
     "text": [
      "GRCh38.primary_assembly.genome.fa\n",
      "GRCh38.primary_assembly.genome.fa.fai\n",
      "gencode.v38.basic.annotation.gff3\n",
      "gencode.v38.basic.annotation.gtf.gz\n",
      "gencode.v38.basic.annotation.protein.fa\n",
      "gencode.v38.basic.annotation.protein.fa.hp.k24.scale5.sig\n",
      "gencode.v38.basic.annotation.protein.fa.sig\n",
      "gencode.v38.chr_patch_hapl_scaff.basic.annotation.gff3.gz\n",
      "gencode.v38.pc_translations.fa.gz\n",
      "gencode.v38.pc_translations.fa.gz.sig\n"
     ]
    }
   ],
   "source": [
    "ls $human_gencode_dir"
   ]
  },
  {
   "cell_type": "code",
   "execution_count": 15,
   "id": "b6801b81-6a3f-4974-9796-3f5320a61d90",
   "metadata": {},
   "outputs": [
    {
     "name": "stdout",
     "output_type": "stream",
     "text": [
      "GRCm39.primary_assembly.genome.fa\n",
      "GRCm39.primary_assembly.genome.fa.fai\n",
      "gencode.vM28.basic.annotation.gff3\n",
      "gencode.vM28.basic.annotation.protein.fa\n",
      "gencode.vM28.basic.annotation.protein.fa.hp.k24.scale10.sig\n",
      "gencode.vM28.basic.annotation.protein.fa.hp.k24.scale5.sig\n"
     ]
    }
   ],
   "source": [
    "ls $mouse_gencode_dir"
   ]
  },
  {
   "cell_type": "markdown",
   "id": "c171fc81-62d2-4c84-8ef9-af7fb2d0b0b1",
   "metadata": {},
   "source": [
    "## set signature files"
   ]
  },
  {
   "cell_type": "code",
   "execution_count": 16,
   "id": "51f580a9-75c4-412d-a428-7850154ea6ff",
   "metadata": {},
   "outputs": [],
   "source": [
    "human_sigfile = os.path.join(\n",
    "    human_gencode_dir, \"gencode.v38.basic.annotation.protein.fa.hp.k24.scale5.sig\"\n",
    ")\n",
    "mouse_sigfile = os.path.join(\n",
    "    mouse_gencode_dir, \"gencode.vM28.basic.annotation.protein.fa.hp.k24.scale5.sig\"\n",
    ")"
   ]
  },
  {
   "cell_type": "code",
   "execution_count": 11,
   "id": "4c9f7112-40b8-45c5-a9c7-de44e518f71b",
   "metadata": {},
   "outputs": [],
   "source": [
    "botryllus_sigfile = os.path.join(botryllus_dir, 'Bs_proteins.fa.hp.k24.scale5.sig')"
   ]
  },
  {
   "cell_type": "markdown",
   "id": "76315183-2f1f-4125-a297-994890f55672",
   "metadata": {},
   "source": [
    "## Load human and mouse signatures as indecies/databases"
   ]
  },
  {
   "cell_type": "code",
   "execution_count": 29,
   "id": "1ff2f3ff-fe21-4365-97e1-30c22e9ed375",
   "metadata": {},
   "outputs": [],
   "source": [
    "human_db = sourmash.load_file_as_index(human_sigfile)"
   ]
  },
  {
   "cell_type": "code",
   "execution_count": 30,
   "id": "9b68d06a-89e8-409e-aab1-1b9f4f5ec379",
   "metadata": {},
   "outputs": [],
   "source": [
    "mouse_db = sourmash.load_file_as_index(mouse_sigfile)"
   ]
  },
  {
   "cell_type": "code",
   "execution_count": 31,
   "id": "64fb4ea8-38b8-45a6-a9bc-f9f9f94bdb75",
   "metadata": {},
   "outputs": [],
   "source": [
    "dbs = {'human': human_db, 'mouse': mouse_db}"
   ]
  },
  {
   "cell_type": "markdown",
   "id": "7b998bb2-0639-440d-b1ba-ccb4e735fd89",
   "metadata": {},
   "source": [
    "## Load botryllus protein signatures"
   ]
  },
  {
   "cell_type": "code",
   "execution_count": 32,
   "id": "6c386d8d-f0e1-420c-bca6-6a2f7044844a",
   "metadata": {},
   "outputs": [],
   "source": [
    "botryllus_sigs = sourmash.load_file_as_signatures(botryllus_sigfile)"
   ]
  },
  {
   "cell_type": "markdown",
   "id": "a730f36c-67cf-4f0a-9e51-79e5b7127f50",
   "metadata": {},
   "source": [
    "### Load BHF alone for testing"
   ]
  },
  {
   "cell_type": "code",
   "execution_count": 33,
   "id": "97cf7f0f-aee7-452c-b4ad-8adc01c670db",
   "metadata": {},
   "outputs": [
    {
     "data": {
      "text/plain": [
       "SourmashSignature('BHF', 3ac7314a)"
      ]
     },
     "execution_count": 33,
     "metadata": {},
     "output_type": "execute_result"
    }
   ],
   "source": [
    "query_sig = next(botryllus_sigs)\n",
    "query_sig"
   ]
  },
  {
   "cell_type": "markdown",
   "id": "549102c4-0402-4c1f-9f42-4ec8d0f7d111",
   "metadata": {},
   "source": [
    "## Load human, mouse, botryllus fastas to read in sequences to write matching k-mers"
   ]
  },
  {
   "cell_type": "code",
   "execution_count": 34,
   "id": "a6b9eddd-d594-4a4a-9394-01ee7a22d4d2",
   "metadata": {},
   "outputs": [],
   "source": [
    "def fasta_to_dict(fasta_filename):\n",
    "    sequences = {}\n",
    "    with screed.open(fasta_filename) as records:\n",
    "        for record in records:\n",
    "            sequences[record['name']] = record['sequence']\n",
    "            \n",
    "    return sequences"
   ]
  },
  {
   "cell_type": "code",
   "execution_count": 85,
   "id": "52915d51-a0bb-4dab-b609-769e764a0274",
   "metadata": {},
   "outputs": [
    {
     "data": {
      "text/plain": [
       "72617"
      ]
     },
     "execution_count": 85,
     "metadata": {},
     "output_type": "execute_result"
    }
   ],
   "source": [
    "botryllus_sequences = fasta_to_dict(os.path.join(botryllus_dir, 'Bs_proteins.fa.gz'))\n",
    "n_botryllus_seqs = len(botryllus_sequences)\n",
    "n_botryllus_seqs"
   ]
  },
  {
   "cell_type": "code",
   "execution_count": 36,
   "id": "22ca3107-d518-4cc9-9d82-e125e8a601ef",
   "metadata": {},
   "outputs": [
    {
     "data": {
      "text/plain": [
       "{'human': '/Users/olgabot/botryllus/data/gencode/v38/gencode.v38.basic.annotation.protein.fa',\n",
       " 'mouse': '/Users/olgabot/botryllus/data/gencode/M28/gencode.vM28.basic.annotation.protein.fa'}"
      ]
     },
     "execution_count": 36,
     "metadata": {},
     "output_type": "execute_result"
    }
   ],
   "source": [
    "fastas = {\n",
    "    \"human\": os.path.join(human_gencode_dir, \"gencode.v38.basic.annotation.protein.fa\"),\n",
    "    \"mouse\": os.path.join(\n",
    "        mouse_gencode_dir, \"gencode.vM28.basic.annotation.protein.fa\"\n",
    "    ),\n",
    "}\n",
    "fastas"
   ]
  },
  {
   "cell_type": "code",
   "execution_count": 39,
   "id": "5fd3a49f-4455-4b0f-b047-143d227bd1c5",
   "metadata": {},
   "outputs": [
    {
     "name": "stdout",
     "output_type": "stream",
     "text": [
      "CPU times: user 782 ms, sys: 43 ms, total: 825 ms\n",
      "Wall time: 826 ms\n",
      "human, 61543\n",
      "mouse, 46083\n"
     ]
    }
   ],
   "source": [
    "%time sequences = {k: fasta_to_dict(fasta) for k, fasta in fastas.items()}\n",
    "for species, seqs in sequences.items():\n",
    "    print(f\"{species}, {len(seqs)}\")"
   ]
  },
  {
   "cell_type": "markdown",
   "id": "1d4feae5-e576-4d25-a5ee-7c1e4dfc1650",
   "metadata": {},
   "source": [
    "# Test iterating over human and mouse with BHF"
   ]
  },
  {
   "cell_type": "code",
   "execution_count": 75,
   "id": "53c2c43e-dc67-4ed7-851a-224d1929f0a5",
   "metadata": {},
   "outputs": [
    {
     "data": {
      "text/html": [
       "<div>\n",
       "<style scoped>\n",
       "    .dataframe tbody tr th:only-of-type {\n",
       "        vertical-align: middle;\n",
       "    }\n",
       "\n",
       "    .dataframe tbody tr th {\n",
       "        vertical-align: top;\n",
       "    }\n",
       "\n",
       "    .dataframe thead th {\n",
       "        text-align: right;\n",
       "    }\n",
       "</style>\n",
       "<table border=\"1\" class=\"dataframe\">\n",
       "  <thead>\n",
       "    <tr style=\"text-align: right;\">\n",
       "      <th></th>\n",
       "      <th>i_query</th>\n",
       "      <th>kmer_query</th>\n",
       "      <th>kmer_hp</th>\n",
       "      <th>hashval</th>\n",
       "      <th>name_query</th>\n",
       "      <th>i_found</th>\n",
       "      <th>kmer_found</th>\n",
       "      <th>name_found</th>\n",
       "      <th>species</th>\n",
       "      <th>n_kmers</th>\n",
       "      <th>intersect_bp</th>\n",
       "      <th>containment</th>\n",
       "      <th>symbol</th>\n",
       "      <th>found_i</th>\n",
       "      <th>homolog_group</th>\n",
       "      <th>genomic_coord</th>\n",
       "      <th>all_homologs_found</th>\n",
       "    </tr>\n",
       "  </thead>\n",
       "  <tbody>\n",
       "    <tr>\n",
       "      <th>0</th>\n",
       "      <td>165</td>\n",
       "      <td>DDRFGERLIDRAQNKYAPLDEKQR</td>\n",
       "      <td>ppphhpphhpphppphhhhppppp</td>\n",
       "      <td>13592530723998561865</td>\n",
       "      <td>BHF</td>\n",
       "      <td>154</td>\n",
       "      <td>KSEFLSTAPRSLRKRLIVPRSHSD</td>\n",
       "      <td>ENST00000234296.7 gene_id=ENSG00000115942.9;tr...</td>\n",
       "      <td>human</td>\n",
       "      <td>6</td>\n",
       "      <td>30</td>\n",
       "      <td>0.015873</td>\n",
       "      <td>ORC2</td>\n",
       "      <td>0</td>\n",
       "      <td>ORC2---Orc2</td>\n",
       "      <td>Chr2:200908981-200963703(-)</td>\n",
       "      <td>False</td>\n",
       "    </tr>\n",
       "    <tr>\n",
       "      <th>1</th>\n",
       "      <td>166</td>\n",
       "      <td>DRFGERLIDRAQNKYAPLDEKQRS</td>\n",
       "      <td>pphhpphhpphppphhhhpppppp</td>\n",
       "      <td>18007806196568601670</td>\n",
       "      <td>BHF</td>\n",
       "      <td>155</td>\n",
       "      <td>SEFLSTAPRSLRKRLIVPRSHSDS</td>\n",
       "      <td>ENST00000234296.7 gene_id=ENSG00000115942.9;tr...</td>\n",
       "      <td>human</td>\n",
       "      <td>6</td>\n",
       "      <td>30</td>\n",
       "      <td>0.015873</td>\n",
       "      <td>ORC2</td>\n",
       "      <td>0</td>\n",
       "      <td>ORC2---Orc2</td>\n",
       "      <td>Chr2:200908981-200963703(-)</td>\n",
       "      <td>False</td>\n",
       "    </tr>\n",
       "    <tr>\n",
       "      <th>2</th>\n",
       "      <td>167</td>\n",
       "      <td>RFGERLIDRAQNKYAPLDEKQRSE</td>\n",
       "      <td>phhpphhpphppphhhhppppppp</td>\n",
       "      <td>4680963950811137194</td>\n",
       "      <td>BHF</td>\n",
       "      <td>156</td>\n",
       "      <td>EFLSTAPRSLRKRLIVPRSHSDSE</td>\n",
       "      <td>ENST00000234296.7 gene_id=ENSG00000115942.9;tr...</td>\n",
       "      <td>human</td>\n",
       "      <td>6</td>\n",
       "      <td>30</td>\n",
       "      <td>0.015873</td>\n",
       "      <td>ORC2</td>\n",
       "      <td>0</td>\n",
       "      <td>ORC2---Orc2</td>\n",
       "      <td>Chr2:200908981-200963703(-)</td>\n",
       "      <td>False</td>\n",
       "    </tr>\n",
       "    <tr>\n",
       "      <th>3</th>\n",
       "      <td>168</td>\n",
       "      <td>FGERLIDRAQNKYAPLDEKQRSES</td>\n",
       "      <td>hhpphhpphppphhhhpppppppp</td>\n",
       "      <td>343616811934702161</td>\n",
       "      <td>BHF</td>\n",
       "      <td>157</td>\n",
       "      <td>FLSTAPRSLRKRLIVPRSHSDSES</td>\n",
       "      <td>ENST00000234296.7 gene_id=ENSG00000115942.9;tr...</td>\n",
       "      <td>human</td>\n",
       "      <td>6</td>\n",
       "      <td>30</td>\n",
       "      <td>0.015873</td>\n",
       "      <td>ORC2</td>\n",
       "      <td>0</td>\n",
       "      <td>ORC2---Orc2</td>\n",
       "      <td>Chr2:200908981-200963703(-)</td>\n",
       "      <td>False</td>\n",
       "    </tr>\n",
       "    <tr>\n",
       "      <th>4</th>\n",
       "      <td>169</td>\n",
       "      <td>GERLIDRAQNKYAPLDEKQRSESH</td>\n",
       "      <td>hpphhpphppphhhhppppppppp</td>\n",
       "      <td>3434887395817678525</td>\n",
       "      <td>BHF</td>\n",
       "      <td>158</td>\n",
       "      <td>LSTAPRSLRKRLIVPRSHSDSESE</td>\n",
       "      <td>ENST00000234296.7 gene_id=ENSG00000115942.9;tr...</td>\n",
       "      <td>human</td>\n",
       "      <td>6</td>\n",
       "      <td>30</td>\n",
       "      <td>0.015873</td>\n",
       "      <td>ORC2</td>\n",
       "      <td>0</td>\n",
       "      <td>ORC2---Orc2</td>\n",
       "      <td>Chr2:200908981-200963703(-)</td>\n",
       "      <td>False</td>\n",
       "    </tr>\n",
       "    <tr>\n",
       "      <th>...</th>\n",
       "      <td>...</td>\n",
       "      <td>...</td>\n",
       "      <td>...</td>\n",
       "      <td>...</td>\n",
       "      <td>...</td>\n",
       "      <td>...</td>\n",
       "      <td>...</td>\n",
       "      <td>...</td>\n",
       "      <td>...</td>\n",
       "      <td>...</td>\n",
       "      <td>...</td>\n",
       "      <td>...</td>\n",
       "      <td>...</td>\n",
       "      <td>...</td>\n",
       "      <td>...</td>\n",
       "      <td>...</td>\n",
       "      <td>...</td>\n",
       "    </tr>\n",
       "    <tr>\n",
       "      <th>146</th>\n",
       "      <td>74</td>\n",
       "      <td>TKKKAKKDKRKNKPPKKDSETSKP</td>\n",
       "      <td>pppphpppppppphhpppppppph</td>\n",
       "      <td>518345984864610128</td>\n",
       "      <td>BHF</td>\n",
       "      <td>654</td>\n",
       "      <td>HRRSVDRKRRDTSGLERSHKSSKG</td>\n",
       "      <td>ENSMUST00000021381.6 gene_id=ENSMUSG0000002099...</td>\n",
       "      <td>mouse</td>\n",
       "      <td>9</td>\n",
       "      <td>45</td>\n",
       "      <td>0.013889</td>\n",
       "      <td>Pnn</td>\n",
       "      <td>3</td>\n",
       "      <td>PNN---Pnn</td>\n",
       "      <td>Chr12:59113705-59120803(+)</td>\n",
       "      <td>True</td>\n",
       "    </tr>\n",
       "    <tr>\n",
       "      <th>147</th>\n",
       "      <td>75</td>\n",
       "      <td>KKKAKKDKRKNKPPKKDSETSKPA</td>\n",
       "      <td>ppphpppppppphhpppppppphh</td>\n",
       "      <td>831034578771461622</td>\n",
       "      <td>BHF</td>\n",
       "      <td>655</td>\n",
       "      <td>RRSVDRKRRDTSGLERSHKSSKGG</td>\n",
       "      <td>ENSMUST00000021381.6 gene_id=ENSMUSG0000002099...</td>\n",
       "      <td>mouse</td>\n",
       "      <td>9</td>\n",
       "      <td>45</td>\n",
       "      <td>0.013889</td>\n",
       "      <td>Pnn</td>\n",
       "      <td>3</td>\n",
       "      <td>PNN---Pnn</td>\n",
       "      <td>Chr12:59113705-59120803(+)</td>\n",
       "      <td>True</td>\n",
       "    </tr>\n",
       "    <tr>\n",
       "      <th>148</th>\n",
       "      <td>76</td>\n",
       "      <td>KKAKKDKRKNKPPKKDSETSKPAQ</td>\n",
       "      <td>pphpppppppphhpppppppphhp</td>\n",
       "      <td>12911956892028419384</td>\n",
       "      <td>BHF</td>\n",
       "      <td>656</td>\n",
       "      <td>RSVDRKRRDTSGLERSHKSSKGGS</td>\n",
       "      <td>ENSMUST00000021381.6 gene_id=ENSMUSG0000002099...</td>\n",
       "      <td>mouse</td>\n",
       "      <td>9</td>\n",
       "      <td>45</td>\n",
       "      <td>0.013889</td>\n",
       "      <td>Pnn</td>\n",
       "      <td>3</td>\n",
       "      <td>PNN---Pnn</td>\n",
       "      <td>Chr12:59113705-59120803(+)</td>\n",
       "      <td>True</td>\n",
       "    </tr>\n",
       "    <tr>\n",
       "      <th>149</th>\n",
       "      <td>77</td>\n",
       "      <td>KAKKDKRKNKPPKKDSETSKPAQT</td>\n",
       "      <td>phpppppppphhpppppppphhpp</td>\n",
       "      <td>17684580819255158518</td>\n",
       "      <td>BHF</td>\n",
       "      <td>657</td>\n",
       "      <td>SVDRKRRDTSGLERSHKSSKGGSS</td>\n",
       "      <td>ENSMUST00000021381.6 gene_id=ENSMUSG0000002099...</td>\n",
       "      <td>mouse</td>\n",
       "      <td>9</td>\n",
       "      <td>45</td>\n",
       "      <td>0.013889</td>\n",
       "      <td>Pnn</td>\n",
       "      <td>3</td>\n",
       "      <td>PNN---Pnn</td>\n",
       "      <td>Chr12:59113705-59120803(+)</td>\n",
       "      <td>True</td>\n",
       "    </tr>\n",
       "    <tr>\n",
       "      <th>150</th>\n",
       "      <td>78</td>\n",
       "      <td>AKKDKRKNKPPKKDSETSKPAQTT</td>\n",
       "      <td>hpppppppphhpppppppphhppp</td>\n",
       "      <td>11473351154301137277</td>\n",
       "      <td>BHF</td>\n",
       "      <td>658</td>\n",
       "      <td>VDRKRRDTSGLERSHKSSKGGSSR</td>\n",
       "      <td>ENSMUST00000021381.6 gene_id=ENSMUSG0000002099...</td>\n",
       "      <td>mouse</td>\n",
       "      <td>9</td>\n",
       "      <td>45</td>\n",
       "      <td>0.013889</td>\n",
       "      <td>Pnn</td>\n",
       "      <td>3</td>\n",
       "      <td>PNN---Pnn</td>\n",
       "      <td>Chr12:59113705-59120803(+)</td>\n",
       "      <td>True</td>\n",
       "    </tr>\n",
       "  </tbody>\n",
       "</table>\n",
       "<p>151 rows × 17 columns</p>\n",
       "</div>"
      ],
      "text/plain": [
       "     i_query                kmer_query                   kmer_hp  \\\n",
       "0        165  DDRFGERLIDRAQNKYAPLDEKQR  ppphhpphhpphppphhhhppppp   \n",
       "1        166  DRFGERLIDRAQNKYAPLDEKQRS  pphhpphhpphppphhhhpppppp   \n",
       "2        167  RFGERLIDRAQNKYAPLDEKQRSE  phhpphhpphppphhhhppppppp   \n",
       "3        168  FGERLIDRAQNKYAPLDEKQRSES  hhpphhpphppphhhhpppppppp   \n",
       "4        169  GERLIDRAQNKYAPLDEKQRSESH  hpphhpphppphhhhppppppppp   \n",
       "..       ...                       ...                       ...   \n",
       "146       74  TKKKAKKDKRKNKPPKKDSETSKP  pppphpppppppphhpppppppph   \n",
       "147       75  KKKAKKDKRKNKPPKKDSETSKPA  ppphpppppppphhpppppppphh   \n",
       "148       76  KKAKKDKRKNKPPKKDSETSKPAQ  pphpppppppphhpppppppphhp   \n",
       "149       77  KAKKDKRKNKPPKKDSETSKPAQT  phpppppppphhpppppppphhpp   \n",
       "150       78  AKKDKRKNKPPKKDSETSKPAQTT  hpppppppphhpppppppphhppp   \n",
       "\n",
       "                  hashval name_query  i_found                kmer_found  \\\n",
       "0    13592530723998561865        BHF      154  KSEFLSTAPRSLRKRLIVPRSHSD   \n",
       "1    18007806196568601670        BHF      155  SEFLSTAPRSLRKRLIVPRSHSDS   \n",
       "2     4680963950811137194        BHF      156  EFLSTAPRSLRKRLIVPRSHSDSE   \n",
       "3      343616811934702161        BHF      157  FLSTAPRSLRKRLIVPRSHSDSES   \n",
       "4     3434887395817678525        BHF      158  LSTAPRSLRKRLIVPRSHSDSESE   \n",
       "..                    ...        ...      ...                       ...   \n",
       "146    518345984864610128        BHF      654  HRRSVDRKRRDTSGLERSHKSSKG   \n",
       "147    831034578771461622        BHF      655  RRSVDRKRRDTSGLERSHKSSKGG   \n",
       "148  12911956892028419384        BHF      656  RSVDRKRRDTSGLERSHKSSKGGS   \n",
       "149  17684580819255158518        BHF      657  SVDRKRRDTSGLERSHKSSKGGSS   \n",
       "150  11473351154301137277        BHF      658  VDRKRRDTSGLERSHKSSKGGSSR   \n",
       "\n",
       "                                            name_found species  n_kmers  \\\n",
       "0    ENST00000234296.7 gene_id=ENSG00000115942.9;tr...   human        6   \n",
       "1    ENST00000234296.7 gene_id=ENSG00000115942.9;tr...   human        6   \n",
       "2    ENST00000234296.7 gene_id=ENSG00000115942.9;tr...   human        6   \n",
       "3    ENST00000234296.7 gene_id=ENSG00000115942.9;tr...   human        6   \n",
       "4    ENST00000234296.7 gene_id=ENSG00000115942.9;tr...   human        6   \n",
       "..                                                 ...     ...      ...   \n",
       "146  ENSMUST00000021381.6 gene_id=ENSMUSG0000002099...   mouse        9   \n",
       "147  ENSMUST00000021381.6 gene_id=ENSMUSG0000002099...   mouse        9   \n",
       "148  ENSMUST00000021381.6 gene_id=ENSMUSG0000002099...   mouse        9   \n",
       "149  ENSMUST00000021381.6 gene_id=ENSMUSG0000002099...   mouse        9   \n",
       "150  ENSMUST00000021381.6 gene_id=ENSMUSG0000002099...   mouse        9   \n",
       "\n",
       "     intersect_bp  containment symbol  found_i homolog_group  \\\n",
       "0              30     0.015873   ORC2        0   ORC2---Orc2   \n",
       "1              30     0.015873   ORC2        0   ORC2---Orc2   \n",
       "2              30     0.015873   ORC2        0   ORC2---Orc2   \n",
       "3              30     0.015873   ORC2        0   ORC2---Orc2   \n",
       "4              30     0.015873   ORC2        0   ORC2---Orc2   \n",
       "..            ...          ...    ...      ...           ...   \n",
       "146            45     0.013889    Pnn        3     PNN---Pnn   \n",
       "147            45     0.013889    Pnn        3     PNN---Pnn   \n",
       "148            45     0.013889    Pnn        3     PNN---Pnn   \n",
       "149            45     0.013889    Pnn        3     PNN---Pnn   \n",
       "150            45     0.013889    Pnn        3     PNN---Pnn   \n",
       "\n",
       "                   genomic_coord all_homologs_found  \n",
       "0    Chr2:200908981-200963703(-)              False  \n",
       "1    Chr2:200908981-200963703(-)              False  \n",
       "2    Chr2:200908981-200963703(-)              False  \n",
       "3    Chr2:200908981-200963703(-)              False  \n",
       "4    Chr2:200908981-200963703(-)              False  \n",
       "..                           ...                ...  \n",
       "146   Chr12:59113705-59120803(+)               True  \n",
       "147   Chr12:59113705-59120803(+)               True  \n",
       "148   Chr12:59113705-59120803(+)               True  \n",
       "149   Chr12:59113705-59120803(+)               True  \n",
       "150   Chr12:59113705-59120803(+)               True  \n",
       "\n",
       "[151 rows x 17 columns]"
      ]
     },
     "execution_count": 75,
     "metadata": {},
     "output_type": "execute_result"
    }
   ],
   "source": [
    "threshold_bp = 10\n",
    "scaled = 5\n",
    "query_seq = botryllus_sequences[query_sig.name]\n",
    "\n",
    "GENE_SYMBOL_PATTERN = re.compile('gene_name=([\\w\\d]+)')\n",
    "class_col = 'DB Class Key'\n",
    "homolog_group_col = 'homolog_group'\n",
    "coord_col = 'Genomic Coordinates (mouse: , human: )'\n",
    "\n",
    "query_kmer_hashvals = get_encoded_kmer_hashvals(query_seq, sig.name, sigobj=sig)\n",
    "\n",
    "dfs = []\n",
    "\n",
    "for species, db in dbs.items():\n",
    "    species_seqs = sequences[species]\n",
    "    counter = db.counter_gather(query_sig, threshold_bp=threshold_bp)\n",
    "\n",
    "    noident_mh = sig.minhash.to_mutable()\n",
    "    \n",
    "\n",
    "    # subtract found hashes as we can.\n",
    "    for i, found_sig in enumerate(counter.siglist):\n",
    "        containment = found_sig.contained_by(query_sig)\n",
    "        symbol = re.findall(GENE_SYMBOL_PATTERN, found_sig.name)[0]\n",
    "        found_seq = species_seqs[found_sig.name]\n",
    "\n",
    "        found_kmer_hashvals = get_encoded_kmer_hashvals(\n",
    "            found_seq, found_sig.name, sigobj=query_sig\n",
    "        )\n",
    "        contained_kmer_hashvals = query_kmer_hashvals.merge(\n",
    "            found_kmer_hashvals, suffixes=(\"_query\", \"_found\"), on=(\"hashval\", \"kmer_hp\")\n",
    "        )\n",
    "        contained_kmer_hashvals['species'] = species\n",
    "        contained_kmer_hashvals['n_kmers'] = len(contained_kmer_hashvals)\n",
    "        contained_kmer_hashvals['intersect_bp'] = scaled * contained_kmer_hashvals['n_kmers']\n",
    "        contained_kmer_hashvals['containment'] = containment\n",
    "        contained_kmer_hashvals['symbol'] = symbol\n",
    "        contained_kmer_hashvals['found_i'] = i\n",
    "        \n",
    "        dfs.append(contained_kmer_hashvals)\n",
    "        \n",
    "\n",
    "query_kmer_matches = pd.concat(dfs, ignore_index=True)\n",
    "\n",
    "query_kmer_matches[homolog_group_col] = None\n",
    "# Annotate any genes that are human-mouse homologs\n",
    "for symbol, df in query_kmer_matches.groupby('symbol'):\n",
    "    found_homolog_subset = human_mouse_homologs.query('Symbol == @symbol')\n",
    "    \n",
    "    if found_homolog_subset.empty:\n",
    "        # No matches found in mouse-human homologs, continue on to next one\n",
    "        continue\n",
    "    \n",
    "    found_homolog_rows = human_mouse_homologs[class_col].isin(found_homolog_subset[class_col])\n",
    "    found_homolog_groups = human_mouse_homologs.loc[found_homolog_rows]\n",
    "    homolog_group_name = SYMBOL_SEPARATOR.join(sorted(found_homolog_groups['Symbol']))\n",
    "    \n",
    "    all_homologs_found = found_homolog_groups['Symbol'].isin(query_kmer_matches.symbol).all()\n",
    "    \n",
    "    # Assign values\n",
    "    query_kmer_matches.loc[df.index, 'genomic_coord'] = found_homolog_subset[coord_col].values[0]\n",
    "    query_kmer_matches.loc[df.index, homolog_group_col] = homolog_group_name\n",
    "    query_kmer_matches.loc[df.index, 'all_homologs_found'] = all_homologs_found\n",
    "\n",
    "\n",
    "\n",
    "csv = os.path.join(outdir, f'{sanitize(query_sig.name)}.csv')\n",
    "query_kmer_matches.to_csv(csv, index=False)\n",
    "\n",
    "\n",
    "\n",
    "#     # -- Don't need to save a prefetch csv, skip this -- #\n",
    "\n",
    "# #     # optionally calculate and save prefetch csv\n",
    "# #     if prefetch_csvout_fp:\n",
    "# #         assert scaled\n",
    "# #         # calculate intersection stats and info\n",
    "# #         prefetch_result = calculate_prefetch_info(prefetch_query, found_sig, scaled, args.threshold_bp)\n",
    "# #         # remove match and query signatures; write result to prefetch csv\n",
    "# #         d = dict(prefetch_result._asdict())\n",
    "# #         del d['match']\n",
    "# #         del d['query']\n",
    "# #         prefetch_csvout_w.writerow(d)\n",
    "\n",
    "# counters.append(counter)\n",
    "\n",
    "query_kmer_matches"
   ]
  },
  {
   "cell_type": "markdown",
   "id": "82d2b5b9-3d4f-4862-b365-6fd1341d037d",
   "metadata": {},
   "source": [
    "# Move code into functions for a separate file to run on all botryllus sequences"
   ]
  },
  {
   "cell_type": "code",
   "execution_count": 92,
   "id": "29951735-7b43-409a-a423-0d0ce8ec1efa",
   "metadata": {},
   "outputs": [
    {
     "name": "stdout",
     "output_type": "stream",
     "text": [
      "Overwriting single_gather_multi_db.py\n"
     ]
    }
   ],
   "source": [
    "%%file single_gather_multi_db.py\n",
    "\n",
    "import re\n",
    "import pandas as pd\n",
    "import sourmash\n",
    "import screed\n",
    "import os\n",
    "import re\n",
    "import pandas as pd\n",
    "\n",
    "from tqdm import tqdm\n",
    "\n",
    "from kmer_utils import get_encoded_kmer_hashvals\n",
    "\n",
    "GENE_SYMBOL_PATTERN = re.compile(\"gene_name=([\\w\\d]+)\")\n",
    "\n",
    "\n",
    "query_kmer_hashvals = get_encoded_kmer_hashvals(query_seq, sig.name, sigobj=sig)\n",
    "\n",
    "\n",
    "def annotate_found_sig(\n",
    "    found_sig, query_sig, found_seq, species, gene_symbol_pattern=GENE_SYMBOL_PATTERN\n",
    "):\n",
    "    \"\"\"Get the containment and overlapping k-mers for each found signature\"\"\"\n",
    "    containment = found_sig.contained_by(query_sig)\n",
    "    symbol = re.findall(gene_symbol_pattern, found_sig.name)[0]\n",
    "\n",
    "    found_kmer_hashvals = get_encoded_kmer_hashvals(\n",
    "        found_seq, found_sig.name, sigobj=query_sig\n",
    "    )\n",
    "    contained_kmer_hashvals = query_kmer_hashvals.merge(\n",
    "        found_kmer_hashvals, suffixes=(\"_query\", \"_found\"), on=(\"hashval\", \"kmer_hp\")\n",
    "    )\n",
    "    contained_kmer_hashvals[\"species\"] = species\n",
    "    contained_kmer_hashvals[\"n_kmers\"] = len(contained_kmer_hashvals)\n",
    "    contained_kmer_hashvals[\"intersect_bp\"] = (\n",
    "        scaled * contained_kmer_hashvals[\"n_kmers\"]\n",
    "    )\n",
    "    contained_kmer_hashvals[\"containment\"] = containment\n",
    "    contained_kmer_hashvals[\"symbol\"] = symbol\n",
    "    contained_kmer_hashvals[\"found_i\"] = i\n",
    "    return contained_kmer_hashvals\n",
    "\n",
    "\n",
    "def add_homology_information_to_matches(\n",
    "    query_kmer_matches,\n",
    "    human_mouse_homologs,\n",
    "    class_col=\"DB Class Key\",\n",
    "    homolog_group_col=\"homolog_group\",\n",
    "    coord_col=\"Genomic Coordinates (mouse: , human: )\",\n",
    "    symbol_separator=SYMBOL_SEPARATOR,\n",
    "):\n",
    "    query_kmer_matches[homolog_group_col] = None\n",
    "\n",
    "    # Annotate any genes that are human-mouse homologs\n",
    "    for symbol, df in query_kmer_matches.groupby(\"symbol\"):\n",
    "        found_homolog_subset = human_mouse_homologs.query(\"Symbol == @symbol\")\n",
    "\n",
    "        if found_homolog_subset.empty:\n",
    "            # No matches found in mouse-human homologs, continue on to next one\n",
    "            continue\n",
    "\n",
    "        found_homolog_rows = human_mouse_homologs[class_col].isin(\n",
    "            found_homolog_subset[class_col]\n",
    "        )\n",
    "        found_homolog_groups = human_mouse_homologs.loc[found_homolog_rows]\n",
    "        homolog_group_name = symbol_separator.join(\n",
    "            sorted(found_homolog_groups[\"Symbol\"])\n",
    "        )\n",
    "\n",
    "        all_homologs_found = (\n",
    "            found_homolog_groups[\"Symbol\"].isin(query_kmer_matches.symbol).all()\n",
    "        )\n",
    "\n",
    "        # Assign values\n",
    "        query_kmer_matches.loc[df.index, \"genomic_coord\"] = found_homolog_subset[\n",
    "            coord_col\n",
    "        ].values[0]\n",
    "        query_kmer_matches.loc[df.index, homolog_group_col] = homolog_group_name\n",
    "        query_kmer_matches.loc[df.index, \"all_homologs_found\"] = all_homologs_found\n",
    "    return query_kmer_matches\n",
    "\n",
    "\n",
    "def single_gather_multi_db(query_sig, query_seq, dbs, sequences, threshold_bp=10):\n",
    "    dfs = []\n",
    "    for species, db in dbs.items():\n",
    "        species_seqs = sequences[species]\n",
    "        counter = db.counter_gather(query_sig, threshold_bp=threshold_bp)\n",
    "\n",
    "        noident_mh = query_sig.minhash.to_mutable()\n",
    "\n",
    "        # subtract found hashes as we can.\n",
    "        for i, found_sig in enumerate(counter.siglist):\n",
    "            found_seq = species_seqs[found_sig.name]\n",
    "            df = annotate_found_sig(found_sig, query_sig, found_seq, species)\n",
    "            dfs.append(contained_kmer_hashvals)\n",
    "\n",
    "    query_kmer_matches = pd.concat(dfs, ignore_index=True)\n",
    "    query_kmer_matches = add_homology_information_to_matches(\n",
    "        query_kmer_matches, human_mouse_homologs\n",
    "    )\n",
    "\n",
    "    csv = os.path.join(outdir, f\"{sanitize(query_sig.name)}.csv\")\n",
    "    query_kmer_matches.to_csv(csv, index=False)"
   ]
  },
  {
   "cell_type": "markdown",
   "id": "a92abbea-7703-42ab-b9b8-c74b02bbb62e",
   "metadata": {},
   "source": [
    "## Iterate over all botryllus signatures"
   ]
  },
  {
   "cell_type": "code",
   "execution_count": 93,
   "id": "7d89adf6-faaf-4491-ae9e-7da81bd3a46b",
   "metadata": {},
   "outputs": [
    {
     "ename": "NameError",
     "evalue": "name 'query_seq' is not defined",
     "output_type": "error",
     "traceback": [
      "\u001b[0;31m---------------------------------------------------------------------------\u001b[0m",
      "\u001b[0;31mNameError\u001b[0m                                 Traceback (most recent call last)",
      "\u001b[0;32m/var/folders/7z/r1593ybs1sj2ks5zzl9vy8840000gn/T/ipykernel_11756/1830595397.py\u001b[0m in \u001b[0;36m<module>\u001b[0;34m\u001b[0m\n\u001b[0;32m----> 1\u001b[0;31m \u001b[0;32mfrom\u001b[0m \u001b[0msingle_gather_multi_db\u001b[0m \u001b[0;32mimport\u001b[0m \u001b[0msingle_gather_multi_db\u001b[0m\u001b[0;34m\u001b[0m\u001b[0;34m\u001b[0m\u001b[0m\n\u001b[0m\u001b[1;32m      2\u001b[0m \u001b[0;34m\u001b[0m\u001b[0m\n\u001b[1;32m      3\u001b[0m \u001b[0;32mfor\u001b[0m \u001b[0mquery_sig\u001b[0m \u001b[0;32min\u001b[0m \u001b[0mtqdm\u001b[0m\u001b[0;34m(\u001b[0m\u001b[0mbotryllus_sigs\u001b[0m\u001b[0;34m,\u001b[0m \u001b[0mtotal\u001b[0m\u001b[0;34m=\u001b[0m\u001b[0mn_botryllus_seqs\u001b[0m\u001b[0;34m)\u001b[0m\u001b[0;34m:\u001b[0m\u001b[0;34m\u001b[0m\u001b[0;34m\u001b[0m\u001b[0m\n\u001b[1;32m      4\u001b[0m     \u001b[0mquery_seq\u001b[0m \u001b[0;34m=\u001b[0m \u001b[0mbotryllus_sequences\u001b[0m\u001b[0;34m[\u001b[0m\u001b[0mquery_sig\u001b[0m\u001b[0;34m.\u001b[0m\u001b[0mname\u001b[0m\u001b[0;34m]\u001b[0m\u001b[0;34m\u001b[0m\u001b[0;34m\u001b[0m\u001b[0m\n\u001b[1;32m      5\u001b[0m \u001b[0;34m\u001b[0m\u001b[0m\n",
      "\u001b[0;32m~/code/botryllus-mhc/notebooks/single_gather_multi_db.py\u001b[0m in \u001b[0;36m<module>\u001b[0;34m\u001b[0m\n\u001b[1;32m     15\u001b[0m \u001b[0;34m\u001b[0m\u001b[0m\n\u001b[1;32m     16\u001b[0m \u001b[0;34m\u001b[0m\u001b[0m\n\u001b[0;32m---> 17\u001b[0;31m \u001b[0mquery_kmer_hashvals\u001b[0m \u001b[0;34m=\u001b[0m \u001b[0mget_encoded_kmer_hashvals\u001b[0m\u001b[0;34m(\u001b[0m\u001b[0mquery_seq\u001b[0m\u001b[0;34m,\u001b[0m \u001b[0msig\u001b[0m\u001b[0;34m.\u001b[0m\u001b[0mname\u001b[0m\u001b[0;34m,\u001b[0m \u001b[0msigobj\u001b[0m\u001b[0;34m=\u001b[0m\u001b[0msig\u001b[0m\u001b[0;34m)\u001b[0m\u001b[0;34m\u001b[0m\u001b[0;34m\u001b[0m\u001b[0m\n\u001b[0m\u001b[1;32m     18\u001b[0m \u001b[0;34m\u001b[0m\u001b[0m\n\u001b[1;32m     19\u001b[0m \u001b[0;34m\u001b[0m\u001b[0m\n",
      "\u001b[0;31mNameError\u001b[0m: name 'query_seq' is not defined"
     ]
    }
   ],
   "source": [
    "from single_gather_multi_db import single_gather_multi_db\n",
    "\n",
    "for query_sig in tqdm(botryllus_sigs, total=n_botryllus_seqs):\n",
    "    query_seq = botryllus_sequences[query_sig.name]\n",
    "\n",
    "    single_gather_multi_db(query_sig, query_seq, dbs, sequences)"
   ]
  },
  {
   "cell_type": "code",
   "execution_count": 78,
   "id": "bbf3ab49-0f3f-4c45-8334-e478d97baa57",
   "metadata": {},
   "outputs": [],
   "source": [
    "# query_kmer_matches.query('all_homologs_found == True')"
   ]
  },
  {
   "cell_type": "code",
   "execution_count": 74,
   "id": "4b9acdd9-de60-473d-bb79-d2e6dfbc3c31",
   "metadata": {},
   "outputs": [
    {
     "data": {
      "text/plain": [
       "False"
      ]
     },
     "execution_count": 74,
     "metadata": {},
     "output_type": "execute_result"
    }
   ],
   "source": [
    "found_homolog_groups['Symbol'].isin(query_kmer_matches.symbol).all()"
   ]
  },
  {
   "cell_type": "code",
   "execution_count": 69,
   "id": "d698a49b-1f9b-4b44-95bd-23ffcbff6050",
   "metadata": {},
   "outputs": [
    {
     "data": {
      "text/html": [
       "<div>\n",
       "<style scoped>\n",
       "    .dataframe tbody tr th:only-of-type {\n",
       "        vertical-align: middle;\n",
       "    }\n",
       "\n",
       "    .dataframe tbody tr th {\n",
       "        vertical-align: top;\n",
       "    }\n",
       "\n",
       "    .dataframe thead th {\n",
       "        text-align: right;\n",
       "    }\n",
       "</style>\n",
       "<table border=\"1\" class=\"dataframe\">\n",
       "  <thead>\n",
       "    <tr style=\"text-align: right;\">\n",
       "      <th></th>\n",
       "      <th>DB Class Key</th>\n",
       "      <th>Common Organism Name</th>\n",
       "      <th>NCBI Taxon ID</th>\n",
       "      <th>Symbol</th>\n",
       "      <th>EntrezGene ID</th>\n",
       "      <th>Mouse MGI ID</th>\n",
       "      <th>HGNC ID</th>\n",
       "      <th>OMIM Gene ID</th>\n",
       "      <th>Genetic Location</th>\n",
       "      <th>Genomic Coordinates (mouse: , human: )</th>\n",
       "      <th>Nucleotide RefSeq IDs</th>\n",
       "      <th>Protein RefSeq IDs</th>\n",
       "      <th>SWISS_PROT IDs</th>\n",
       "    </tr>\n",
       "  </thead>\n",
       "  <tbody>\n",
       "  </tbody>\n",
       "</table>\n",
       "</div>"
      ],
      "text/plain": [
       "Empty DataFrame\n",
       "Columns: [DB Class Key, Common Organism Name, NCBI Taxon ID, Symbol, EntrezGene ID, Mouse MGI ID, HGNC ID, OMIM Gene ID, Genetic Location, Genomic Coordinates (mouse: , human: ), Nucleotide RefSeq IDs, Protein RefSeq IDs, SWISS_PROT IDs]\n",
       "Index: []"
      ]
     },
     "execution_count": 69,
     "metadata": {},
     "output_type": "execute_result"
    }
   ],
   "source": [
    "found_homolog_subset"
   ]
  },
  {
   "cell_type": "code",
   "execution_count": 67,
   "id": "0f67128b-d374-4ae0-bd49-1f9ddd2b09ea",
   "metadata": {},
   "outputs": [
    {
     "data": {
      "text/plain": [
       "'Chr6:87155551-87264172(+)'"
      ]
     },
     "execution_count": 67,
     "metadata": {},
     "output_type": "execute_result"
    }
   ],
   "source": [
    "found_homolog_subset[coord_col].values[0]"
   ]
  },
  {
   "cell_type": "code",
   "execution_count": 56,
   "id": "d8123e2f-7e8d-404d-baa5-d7b4db2d3ee3",
   "metadata": {},
   "outputs": [
    {
     "data": {
      "text/html": [
       "<div>\n",
       "<style scoped>\n",
       "    .dataframe tbody tr th:only-of-type {\n",
       "        vertical-align: middle;\n",
       "    }\n",
       "\n",
       "    .dataframe tbody tr th {\n",
       "        vertical-align: top;\n",
       "    }\n",
       "\n",
       "    .dataframe thead th {\n",
       "        text-align: right;\n",
       "    }\n",
       "</style>\n",
       "<table border=\"1\" class=\"dataframe\">\n",
       "  <thead>\n",
       "    <tr style=\"text-align: right;\">\n",
       "      <th></th>\n",
       "      <th>DB Class Key</th>\n",
       "      <th>Common Organism Name</th>\n",
       "      <th>NCBI Taxon ID</th>\n",
       "      <th>Symbol</th>\n",
       "      <th>EntrezGene ID</th>\n",
       "      <th>Mouse MGI ID</th>\n",
       "      <th>HGNC ID</th>\n",
       "      <th>OMIM Gene ID</th>\n",
       "      <th>Genetic Location</th>\n",
       "      <th>Genomic Coordinates (mouse: , human: )</th>\n",
       "      <th>Nucleotide RefSeq IDs</th>\n",
       "      <th>Protein RefSeq IDs</th>\n",
       "      <th>SWISS_PROT IDs</th>\n",
       "    </tr>\n",
       "  </thead>\n",
       "  <tbody>\n",
       "    <tr>\n",
       "      <th>7939</th>\n",
       "      <td>39809970</td>\n",
       "      <td>human</td>\n",
       "      <td>9606</td>\n",
       "      <td>PNN</td>\n",
       "      <td>5411</td>\n",
       "      <td>NaN</td>\n",
       "      <td>HGNC:9162</td>\n",
       "      <td>OMIM:603154</td>\n",
       "      <td>Chr14 q21.1</td>\n",
       "      <td>Chr14:39175183-39183218(+)</td>\n",
       "      <td>NM_002687</td>\n",
       "      <td>NP_002678</td>\n",
       "      <td>Q9H307</td>\n",
       "    </tr>\n",
       "  </tbody>\n",
       "</table>\n",
       "</div>"
      ],
      "text/plain": [
       "      DB Class Key Common Organism Name  NCBI Taxon ID Symbol  EntrezGene ID  \\\n",
       "7939      39809970                human           9606    PNN           5411   \n",
       "\n",
       "     Mouse MGI ID    HGNC ID OMIM Gene ID Genetic Location  \\\n",
       "7939          NaN  HGNC:9162  OMIM:603154      Chr14 q21.1   \n",
       "\n",
       "     Genomic Coordinates (mouse: , human: ) Nucleotide RefSeq IDs  \\\n",
       "7939             Chr14:39175183-39183218(+)             NM_002687   \n",
       "\n",
       "     Protein RefSeq IDs SWISS_PROT IDs  \n",
       "7939          NP_002678         Q9H307  "
      ]
     },
     "execution_count": 56,
     "metadata": {},
     "output_type": "execute_result"
    }
   ],
   "source": [
    "found_homolog_subset = human_mouse_homologs.query('Symbol == \"PNN\"')\n",
    "found_homolog_subset"
   ]
  },
  {
   "cell_type": "code",
   "execution_count": 61,
   "id": "767d7ab4-697d-460c-921f-a32e141a51bf",
   "metadata": {},
   "outputs": [
    {
     "data": {
      "text/html": [
       "<div>\n",
       "<style scoped>\n",
       "    .dataframe tbody tr th:only-of-type {\n",
       "        vertical-align: middle;\n",
       "    }\n",
       "\n",
       "    .dataframe tbody tr th {\n",
       "        vertical-align: top;\n",
       "    }\n",
       "\n",
       "    .dataframe thead th {\n",
       "        text-align: right;\n",
       "    }\n",
       "</style>\n",
       "<table border=\"1\" class=\"dataframe\">\n",
       "  <thead>\n",
       "    <tr style=\"text-align: right;\">\n",
       "      <th></th>\n",
       "      <th>DB Class Key</th>\n",
       "      <th>Common Organism Name</th>\n",
       "      <th>NCBI Taxon ID</th>\n",
       "      <th>Symbol</th>\n",
       "      <th>EntrezGene ID</th>\n",
       "      <th>Mouse MGI ID</th>\n",
       "      <th>HGNC ID</th>\n",
       "      <th>OMIM Gene ID</th>\n",
       "      <th>Genetic Location</th>\n",
       "      <th>Genomic Coordinates (mouse: , human: )</th>\n",
       "      <th>Nucleotide RefSeq IDs</th>\n",
       "      <th>Protein RefSeq IDs</th>\n",
       "      <th>SWISS_PROT IDs</th>\n",
       "    </tr>\n",
       "  </thead>\n",
       "  <tbody>\n",
       "    <tr>\n",
       "      <th>7938</th>\n",
       "      <td>39809970</td>\n",
       "      <td>mouse, laboratory</td>\n",
       "      <td>10090</td>\n",
       "      <td>Pnn</td>\n",
       "      <td>18949</td>\n",
       "      <td>MGI:1100514</td>\n",
       "      <td>NaN</td>\n",
       "      <td>NaN</td>\n",
       "      <td>Chr12 26 cM</td>\n",
       "      <td>Chr12:59113705-59120803(+)</td>\n",
       "      <td>NM_008891</td>\n",
       "      <td>NP_032917</td>\n",
       "      <td>O35691</td>\n",
       "    </tr>\n",
       "    <tr>\n",
       "      <th>7939</th>\n",
       "      <td>39809970</td>\n",
       "      <td>human</td>\n",
       "      <td>9606</td>\n",
       "      <td>PNN</td>\n",
       "      <td>5411</td>\n",
       "      <td>NaN</td>\n",
       "      <td>HGNC:9162</td>\n",
       "      <td>OMIM:603154</td>\n",
       "      <td>Chr14 q21.1</td>\n",
       "      <td>Chr14:39175183-39183218(+)</td>\n",
       "      <td>NM_002687</td>\n",
       "      <td>NP_002678</td>\n",
       "      <td>Q9H307</td>\n",
       "    </tr>\n",
       "  </tbody>\n",
       "</table>\n",
       "</div>"
      ],
      "text/plain": [
       "      DB Class Key Common Organism Name  NCBI Taxon ID Symbol  EntrezGene ID  \\\n",
       "7938      39809970    mouse, laboratory          10090    Pnn          18949   \n",
       "7939      39809970                human           9606    PNN           5411   \n",
       "\n",
       "     Mouse MGI ID    HGNC ID OMIM Gene ID Genetic Location  \\\n",
       "7938  MGI:1100514        NaN          NaN      Chr12 26 cM   \n",
       "7939          NaN  HGNC:9162  OMIM:603154      Chr14 q21.1   \n",
       "\n",
       "     Genomic Coordinates (mouse: , human: ) Nucleotide RefSeq IDs  \\\n",
       "7938             Chr12:59113705-59120803(+)             NM_008891   \n",
       "7939             Chr14:39175183-39183218(+)             NM_002687   \n",
       "\n",
       "     Protein RefSeq IDs SWISS_PROT IDs  \n",
       "7938          NP_032917         O35691  \n",
       "7939          NP_002678         Q9H307  "
      ]
     },
     "execution_count": 61,
     "metadata": {},
     "output_type": "execute_result"
    }
   ],
   "source": [
    "class_col = 'DB Class Key'\n",
    "found_homolog_rows = human_mouse_homologs[class_col].isin(found_homolog_subset[class_col])\n",
    "found_homolog_groups = human_mouse_homologs.loc[found_homolog_rows]\n",
    "found_homolog_groups"
   ]
  },
  {
   "cell_type": "code",
   "execution_count": 63,
   "id": "7abaec1a-6a2b-4a93-b04e-e624c52f7bda",
   "metadata": {},
   "outputs": [
    {
     "data": {
      "text/plain": [
       "'Pnn---PNN'"
      ]
     },
     "execution_count": 63,
     "metadata": {},
     "output_type": "execute_result"
    }
   ],
   "source": [
    "homolog_group_name = SYMBOL_SEPARATOR.join(found_homolog_groups['Symbol'])\n",
    "homolog_group_name"
   ]
  },
  {
   "cell_type": "code",
   "execution_count": 62,
   "id": "9a1603ac-2594-424a-825a-10eb0b934a34",
   "metadata": {},
   "outputs": [],
   "source": [
    "coord_col = 'Genomic Coordinates (mouse: , human: )'"
   ]
  },
  {
   "cell_type": "code",
   "execution_count": 49,
   "id": "8ac39522-eaf4-493d-9790-588f5f3e11eb",
   "metadata": {},
   "outputs": [
    {
     "data": {
      "text/html": [
       "<div>\n",
       "<style scoped>\n",
       "    .dataframe tbody tr th:only-of-type {\n",
       "        vertical-align: middle;\n",
       "    }\n",
       "\n",
       "    .dataframe tbody tr th {\n",
       "        vertical-align: top;\n",
       "    }\n",
       "\n",
       "    .dataframe thead th {\n",
       "        text-align: right;\n",
       "    }\n",
       "</style>\n",
       "<table border=\"1\" class=\"dataframe\">\n",
       "  <thead>\n",
       "    <tr style=\"text-align: right;\">\n",
       "      <th>species</th>\n",
       "      <th>human</th>\n",
       "      <th>mouse</th>\n",
       "    </tr>\n",
       "    <tr>\n",
       "      <th>symbol</th>\n",
       "      <th></th>\n",
       "      <th></th>\n",
       "    </tr>\n",
       "  </thead>\n",
       "  <tbody>\n",
       "    <tr>\n",
       "      <th>ACE2</th>\n",
       "      <td>0.013569</td>\n",
       "      <td>NaN</td>\n",
       "    </tr>\n",
       "    <tr>\n",
       "      <th>BMP3</th>\n",
       "      <td>0.018519</td>\n",
       "      <td>NaN</td>\n",
       "    </tr>\n",
       "    <tr>\n",
       "      <th>CACNA1G</th>\n",
       "      <td>0.004505</td>\n",
       "      <td>NaN</td>\n",
       "    </tr>\n",
       "    <tr>\n",
       "      <th>CFAP43</th>\n",
       "      <td>0.006098</td>\n",
       "      <td>NaN</td>\n",
       "    </tr>\n",
       "    <tr>\n",
       "      <th>Ccdc9</th>\n",
       "      <td>NaN</td>\n",
       "      <td>0.017494</td>\n",
       "    </tr>\n",
       "    <tr>\n",
       "      <th>Gm18596</th>\n",
       "      <td>NaN</td>\n",
       "      <td>0.040816</td>\n",
       "    </tr>\n",
       "    <tr>\n",
       "      <th>ORC2</th>\n",
       "      <td>0.015873</td>\n",
       "      <td>NaN</td>\n",
       "    </tr>\n",
       "    <tr>\n",
       "      <th>PNN</th>\n",
       "      <td>0.013333</td>\n",
       "      <td>NaN</td>\n",
       "    </tr>\n",
       "    <tr>\n",
       "      <th>Pnn</th>\n",
       "      <td>NaN</td>\n",
       "      <td>0.013889</td>\n",
       "    </tr>\n",
       "    <tr>\n",
       "      <th>RNMT</th>\n",
       "      <td>0.034359</td>\n",
       "      <td>NaN</td>\n",
       "    </tr>\n",
       "    <tr>\n",
       "      <th>RSF1</th>\n",
       "      <td>0.008029</td>\n",
       "      <td>NaN</td>\n",
       "    </tr>\n",
       "    <tr>\n",
       "      <th>ZNF292</th>\n",
       "      <td>0.003587</td>\n",
       "      <td>NaN</td>\n",
       "    </tr>\n",
       "  </tbody>\n",
       "</table>\n",
       "</div>"
      ],
      "text/plain": [
       "species     human     mouse\n",
       "symbol                     \n",
       "ACE2     0.013569       NaN\n",
       "BMP3     0.018519       NaN\n",
       "CACNA1G  0.004505       NaN\n",
       "CFAP43   0.006098       NaN\n",
       "Ccdc9         NaN  0.017494\n",
       "Gm18596       NaN  0.040816\n",
       "ORC2     0.015873       NaN\n",
       "PNN      0.013333       NaN\n",
       "Pnn           NaN  0.013889\n",
       "RNMT     0.034359       NaN\n",
       "RSF1     0.008029       NaN\n",
       "ZNF292   0.003587       NaN"
      ]
     },
     "execution_count": 49,
     "metadata": {},
     "output_type": "execute_result"
    }
   ],
   "source": [
    "query_kmer_matches.pivot_table(index='symbol', columns='species', values='containment')"
   ]
  },
  {
   "cell_type": "code",
   "execution_count": 50,
   "id": "6f179a66-0072-44f1-9338-716108fcbe37",
   "metadata": {},
   "outputs": [
    {
     "data": {
      "text/html": [
       "<div>\n",
       "<style scoped>\n",
       "    .dataframe tbody tr th:only-of-type {\n",
       "        vertical-align: middle;\n",
       "    }\n",
       "\n",
       "    .dataframe tbody tr th {\n",
       "        vertical-align: top;\n",
       "    }\n",
       "\n",
       "    .dataframe thead th {\n",
       "        text-align: right;\n",
       "    }\n",
       "</style>\n",
       "<table border=\"1\" class=\"dataframe\">\n",
       "  <thead>\n",
       "    <tr style=\"text-align: right;\">\n",
       "      <th>species</th>\n",
       "      <th>human</th>\n",
       "      <th>mouse</th>\n",
       "    </tr>\n",
       "    <tr>\n",
       "      <th>symbol</th>\n",
       "      <th></th>\n",
       "      <th></th>\n",
       "    </tr>\n",
       "  </thead>\n",
       "  <tbody>\n",
       "    <tr>\n",
       "      <th>ACE2</th>\n",
       "      <td>6.0</td>\n",
       "      <td>NaN</td>\n",
       "    </tr>\n",
       "    <tr>\n",
       "      <th>BMP3</th>\n",
       "      <td>4.0</td>\n",
       "      <td>NaN</td>\n",
       "    </tr>\n",
       "    <tr>\n",
       "      <th>CACNA1G</th>\n",
       "      <td>2.0</td>\n",
       "      <td>NaN</td>\n",
       "    </tr>\n",
       "    <tr>\n",
       "      <th>CFAP43</th>\n",
       "      <td>3.0</td>\n",
       "      <td>NaN</td>\n",
       "    </tr>\n",
       "    <tr>\n",
       "      <th>Ccdc9</th>\n",
       "      <td>NaN</td>\n",
       "      <td>4.0</td>\n",
       "    </tr>\n",
       "    <tr>\n",
       "      <th>Gm18596</th>\n",
       "      <td>NaN</td>\n",
       "      <td>6.0</td>\n",
       "    </tr>\n",
       "    <tr>\n",
       "      <th>ORC2</th>\n",
       "      <td>6.0</td>\n",
       "      <td>NaN</td>\n",
       "    </tr>\n",
       "    <tr>\n",
       "      <th>PNN</th>\n",
       "      <td>9.0</td>\n",
       "      <td>NaN</td>\n",
       "    </tr>\n",
       "    <tr>\n",
       "      <th>Pnn</th>\n",
       "      <td>NaN</td>\n",
       "      <td>9.0</td>\n",
       "    </tr>\n",
       "    <tr>\n",
       "      <th>RNMT</th>\n",
       "      <td>8.0</td>\n",
       "      <td>NaN</td>\n",
       "    </tr>\n",
       "    <tr>\n",
       "      <th>RSF1</th>\n",
       "      <td>5.0</td>\n",
       "      <td>NaN</td>\n",
       "    </tr>\n",
       "    <tr>\n",
       "      <th>ZNF292</th>\n",
       "      <td>6.0</td>\n",
       "      <td>NaN</td>\n",
       "    </tr>\n",
       "  </tbody>\n",
       "</table>\n",
       "</div>"
      ],
      "text/plain": [
       "species  human  mouse\n",
       "symbol               \n",
       "ACE2       6.0    NaN\n",
       "BMP3       4.0    NaN\n",
       "CACNA1G    2.0    NaN\n",
       "CFAP43     3.0    NaN\n",
       "Ccdc9      NaN    4.0\n",
       "Gm18596    NaN    6.0\n",
       "ORC2       6.0    NaN\n",
       "PNN        9.0    NaN\n",
       "Pnn        NaN    9.0\n",
       "RNMT       8.0    NaN\n",
       "RSF1       5.0    NaN\n",
       "ZNF292     6.0    NaN"
      ]
     },
     "execution_count": 50,
     "metadata": {},
     "output_type": "execute_result"
    }
   ],
   "source": [
    "query_kmer_matches.pivot_table(index='symbol', columns='species', values='n_kmers')"
   ]
  },
  {
   "cell_type": "code",
   "execution_count": null,
   "id": "aebd68fd-1d0b-4bed-baf6-5ca5328da596",
   "metadata": {},
   "outputs": [],
   "source": [
    "found_seq = species_seqs[found_sig.name]"
   ]
  },
  {
   "cell_type": "code",
   "execution_count": 138,
   "id": "85c60a70-70fc-4169-b564-3684db36ce57",
   "metadata": {},
   "outputs": [
    {
     "data": {
      "text/plain": [
       "0.013157894736842105"
      ]
     },
     "execution_count": 138,
     "metadata": {},
     "output_type": "execute_result"
    }
   ],
   "source": [
    "found_sig.contained_by(sig)\n"
   ]
  },
  {
   "cell_type": "code",
   "execution_count": 90,
   "id": "f8f2c6a7-3822-465b-b700-6b367fb7a0f4",
   "metadata": {},
   "outputs": [],
   "source": [
    "query_seq = botryllus_sequences[sig.name]"
   ]
  },
  {
   "cell_type": "code",
   "execution_count": 93,
   "id": "7715a384-b244-4c14-9fa9-26470c6da8c2",
   "metadata": {},
   "outputs": [
    {
     "data": {
      "text/html": [
       "<div>\n",
       "<style scoped>\n",
       "    .dataframe tbody tr th:only-of-type {\n",
       "        vertical-align: middle;\n",
       "    }\n",
       "\n",
       "    .dataframe tbody tr th {\n",
       "        vertical-align: top;\n",
       "    }\n",
       "\n",
       "    .dataframe thead th {\n",
       "        text-align: right;\n",
       "    }\n",
       "</style>\n",
       "<table border=\"1\" class=\"dataframe\">\n",
       "  <thead>\n",
       "    <tr style=\"text-align: right;\">\n",
       "      <th></th>\n",
       "      <th>i</th>\n",
       "      <th>kmer</th>\n",
       "      <th>kmer_hp</th>\n",
       "      <th>hashval</th>\n",
       "      <th>name</th>\n",
       "    </tr>\n",
       "  </thead>\n",
       "  <tbody>\n",
       "    <tr>\n",
       "      <th>0</th>\n",
       "      <td>0</td>\n",
       "      <td>MVHDTEQLLAQGHHEEETECGKYG</td>\n",
       "      <td>hhppppphhhphpppppppphphh</td>\n",
       "      <td>17134648382419275520</td>\n",
       "      <td>BHF</td>\n",
       "    </tr>\n",
       "    <tr>\n",
       "      <th>1</th>\n",
       "      <td>1</td>\n",
       "      <td>VHDTEQLLAQGHHEEETECGKYGK</td>\n",
       "      <td>hppppphhhphpppppppphphhp</td>\n",
       "      <td>1036020595944595459</td>\n",
       "      <td>BHF</td>\n",
       "    </tr>\n",
       "    <tr>\n",
       "      <th>2</th>\n",
       "      <td>2</td>\n",
       "      <td>HDTEQLLAQGHHEEETECGKYGKL</td>\n",
       "      <td>ppppphhhphpppppppphphhph</td>\n",
       "      <td>9354784992242920062</td>\n",
       "      <td>BHF</td>\n",
       "    </tr>\n",
       "    <tr>\n",
       "      <th>3</th>\n",
       "      <td>3</td>\n",
       "      <td>DTEQLLAQGHHEEETECGKYGKLP</td>\n",
       "      <td>pppphhhphpppppppphphhphh</td>\n",
       "      <td>14467040310155683947</td>\n",
       "      <td>BHF</td>\n",
       "    </tr>\n",
       "    <tr>\n",
       "      <th>4</th>\n",
       "      <td>4</td>\n",
       "      <td>TEQLLAQGHHEEETECGKYGKLPE</td>\n",
       "      <td>ppphhhphpppppppphphhphhp</td>\n",
       "      <td>2993707203445337902</td>\n",
       "      <td>BHF</td>\n",
       "    </tr>\n",
       "    <tr>\n",
       "      <th>...</th>\n",
       "      <td>...</td>\n",
       "      <td>...</td>\n",
       "      <td>...</td>\n",
       "      <td>...</td>\n",
       "      <td>...</td>\n",
       "    </tr>\n",
       "    <tr>\n",
       "      <th>224</th>\n",
       "      <td>224</td>\n",
       "      <td>SLQAGARSQTAFLNPQGAVSAALV</td>\n",
       "      <td>phphhhpppphhhphphhhphhhh</td>\n",
       "      <td>14182015708224275480</td>\n",
       "      <td>BHF</td>\n",
       "    </tr>\n",
       "    <tr>\n",
       "      <th>225</th>\n",
       "      <td>225</td>\n",
       "      <td>LQAGARSQTAFLNPQGAVSAALVQ</td>\n",
       "      <td>hphhhpppphhhphphhhphhhhp</td>\n",
       "      <td>17311038750468094191</td>\n",
       "      <td>BHF</td>\n",
       "    </tr>\n",
       "    <tr>\n",
       "      <th>226</th>\n",
       "      <td>226</td>\n",
       "      <td>QAGARSQTAFLNPQGAVSAALVQN</td>\n",
       "      <td>phhhpppphhhphphhhphhhhpp</td>\n",
       "      <td>2785373275731037188</td>\n",
       "      <td>BHF</td>\n",
       "    </tr>\n",
       "    <tr>\n",
       "      <th>227</th>\n",
       "      <td>227</td>\n",
       "      <td>AGARSQTAFLNPQGAVSAALVQNR</td>\n",
       "      <td>hhhpppphhhphphhhphhhhppp</td>\n",
       "      <td>16834236568811559007</td>\n",
       "      <td>BHF</td>\n",
       "    </tr>\n",
       "    <tr>\n",
       "      <th>228</th>\n",
       "      <td>228</td>\n",
       "      <td>GARSQTAFLNPQGAVSAALVQNRR</td>\n",
       "      <td>hhpppphhhphphhhphhhhpppp</td>\n",
       "      <td>13119640857873422076</td>\n",
       "      <td>BHF</td>\n",
       "    </tr>\n",
       "  </tbody>\n",
       "</table>\n",
       "<p>229 rows × 5 columns</p>\n",
       "</div>"
      ],
      "text/plain": [
       "       i                      kmer                   kmer_hp  \\\n",
       "0      0  MVHDTEQLLAQGHHEEETECGKYG  hhppppphhhphpppppppphphh   \n",
       "1      1  VHDTEQLLAQGHHEEETECGKYGK  hppppphhhphpppppppphphhp   \n",
       "2      2  HDTEQLLAQGHHEEETECGKYGKL  ppppphhhphpppppppphphhph   \n",
       "3      3  DTEQLLAQGHHEEETECGKYGKLP  pppphhhphpppppppphphhphh   \n",
       "4      4  TEQLLAQGHHEEETECGKYGKLPE  ppphhhphpppppppphphhphhp   \n",
       "..   ...                       ...                       ...   \n",
       "224  224  SLQAGARSQTAFLNPQGAVSAALV  phphhhpppphhhphphhhphhhh   \n",
       "225  225  LQAGARSQTAFLNPQGAVSAALVQ  hphhhpppphhhphphhhphhhhp   \n",
       "226  226  QAGARSQTAFLNPQGAVSAALVQN  phhhpppphhhphphhhphhhhpp   \n",
       "227  227  AGARSQTAFLNPQGAVSAALVQNR  hhhpppphhhphphhhphhhhppp   \n",
       "228  228  GARSQTAFLNPQGAVSAALVQNRR  hhpppphhhphphhhphhhhpppp   \n",
       "\n",
       "                  hashval name  \n",
       "0    17134648382419275520  BHF  \n",
       "1     1036020595944595459  BHF  \n",
       "2     9354784992242920062  BHF  \n",
       "3    14467040310155683947  BHF  \n",
       "4     2993707203445337902  BHF  \n",
       "..                    ...  ...  \n",
       "224  14182015708224275480  BHF  \n",
       "225  17311038750468094191  BHF  \n",
       "226   2785373275731037188  BHF  \n",
       "227  16834236568811559007  BHF  \n",
       "228  13119640857873422076  BHF  \n",
       "\n",
       "[229 rows x 5 columns]"
      ]
     },
     "execution_count": 93,
     "metadata": {},
     "output_type": "execute_result"
    }
   ],
   "source": [
    "query_kmer_hashvals = get_encoded_kmer_hashvals(query_seq, sig.name, sigobj=sig)\n",
    "query_kmer_hashvals"
   ]
  },
  {
   "cell_type": "code",
   "execution_count": 95,
   "id": "e811b2fb-7520-4535-b157-cdc4d2357d80",
   "metadata": {},
   "outputs": [
    {
     "data": {
      "text/html": [
       "<div>\n",
       "<style scoped>\n",
       "    .dataframe tbody tr th:only-of-type {\n",
       "        vertical-align: middle;\n",
       "    }\n",
       "\n",
       "    .dataframe tbody tr th {\n",
       "        vertical-align: top;\n",
       "    }\n",
       "\n",
       "    .dataframe thead th {\n",
       "        text-align: right;\n",
       "    }\n",
       "</style>\n",
       "<table border=\"1\" class=\"dataframe\">\n",
       "  <thead>\n",
       "    <tr style=\"text-align: right;\">\n",
       "      <th></th>\n",
       "      <th>i</th>\n",
       "      <th>kmer</th>\n",
       "      <th>kmer_hp</th>\n",
       "      <th>hashval</th>\n",
       "      <th>name</th>\n",
       "    </tr>\n",
       "  </thead>\n",
       "  <tbody>\n",
       "    <tr>\n",
       "      <th>0</th>\n",
       "      <td>0</td>\n",
       "      <td>MSSSSWLLLSLVAVTAAQSTIEEQ</td>\n",
       "      <td>hpppphhhhphhhhphhppphppp</td>\n",
       "      <td>4529367029267399939</td>\n",
       "      <td>ENST00000252519.8 gene_id=ENSG00000130234.13;t...</td>\n",
       "    </tr>\n",
       "    <tr>\n",
       "      <th>1</th>\n",
       "      <td>1</td>\n",
       "      <td>SSSSWLLLSLVAVTAAQSTIEEQA</td>\n",
       "      <td>pppphhhhphhhhphhppphppph</td>\n",
       "      <td>8133022457627493460</td>\n",
       "      <td>ENST00000252519.8 gene_id=ENSG00000130234.13;t...</td>\n",
       "    </tr>\n",
       "    <tr>\n",
       "      <th>2</th>\n",
       "      <td>2</td>\n",
       "      <td>SSSWLLLSLVAVTAAQSTIEEQAK</td>\n",
       "      <td>ppphhhhphhhhphhppphppphp</td>\n",
       "      <td>302439427842201040</td>\n",
       "      <td>ENST00000252519.8 gene_id=ENSG00000130234.13;t...</td>\n",
       "    </tr>\n",
       "    <tr>\n",
       "      <th>3</th>\n",
       "      <td>3</td>\n",
       "      <td>SSWLLLSLVAVTAAQSTIEEQAKT</td>\n",
       "      <td>pphhhhphhhhphhppphppphpp</td>\n",
       "      <td>13296791544504571300</td>\n",
       "      <td>ENST00000252519.8 gene_id=ENSG00000130234.13;t...</td>\n",
       "    </tr>\n",
       "    <tr>\n",
       "      <th>4</th>\n",
       "      <td>4</td>\n",
       "      <td>SWLLLSLVAVTAAQSTIEEQAKTF</td>\n",
       "      <td>phhhhphhhhphhppphppphpph</td>\n",
       "      <td>15826488194025053905</td>\n",
       "      <td>ENST00000252519.8 gene_id=ENSG00000130234.13;t...</td>\n",
       "    </tr>\n",
       "    <tr>\n",
       "      <th>...</th>\n",
       "      <td>...</td>\n",
       "      <td>...</td>\n",
       "      <td>...</td>\n",
       "      <td>...</td>\n",
       "      <td>...</td>\n",
       "    </tr>\n",
       "    <tr>\n",
       "      <th>777</th>\n",
       "      <td>777</td>\n",
       "      <td>ENPYASIDISKGENNPGFQNTDDV</td>\n",
       "      <td>pphhhphphpphppphhhppppph</td>\n",
       "      <td>6156471769310373174</td>\n",
       "      <td>ENST00000252519.8 gene_id=ENSG00000130234.13;t...</td>\n",
       "    </tr>\n",
       "    <tr>\n",
       "      <th>778</th>\n",
       "      <td>778</td>\n",
       "      <td>NPYASIDISKGENNPGFQNTDDVQ</td>\n",
       "      <td>phhhphphpphppphhhppppphp</td>\n",
       "      <td>2644353523020109479</td>\n",
       "      <td>ENST00000252519.8 gene_id=ENSG00000130234.13;t...</td>\n",
       "    </tr>\n",
       "    <tr>\n",
       "      <th>779</th>\n",
       "      <td>779</td>\n",
       "      <td>PYASIDISKGENNPGFQNTDDVQT</td>\n",
       "      <td>hhhphphpphppphhhppppphpp</td>\n",
       "      <td>5578042643637926218</td>\n",
       "      <td>ENST00000252519.8 gene_id=ENSG00000130234.13;t...</td>\n",
       "    </tr>\n",
       "    <tr>\n",
       "      <th>780</th>\n",
       "      <td>780</td>\n",
       "      <td>YASIDISKGENNPGFQNTDDVQTS</td>\n",
       "      <td>hhphphpphppphhhppppphppp</td>\n",
       "      <td>13938802521831342304</td>\n",
       "      <td>ENST00000252519.8 gene_id=ENSG00000130234.13;t...</td>\n",
       "    </tr>\n",
       "    <tr>\n",
       "      <th>781</th>\n",
       "      <td>781</td>\n",
       "      <td>ASIDISKGENNPGFQNTDDVQTSF</td>\n",
       "      <td>hphphpphppphhhppppphppph</td>\n",
       "      <td>3647835263288528052</td>\n",
       "      <td>ENST00000252519.8 gene_id=ENSG00000130234.13;t...</td>\n",
       "    </tr>\n",
       "  </tbody>\n",
       "</table>\n",
       "<p>782 rows × 5 columns</p>\n",
       "</div>"
      ],
      "text/plain": [
       "       i                      kmer                   kmer_hp  \\\n",
       "0      0  MSSSSWLLLSLVAVTAAQSTIEEQ  hpppphhhhphhhhphhppphppp   \n",
       "1      1  SSSSWLLLSLVAVTAAQSTIEEQA  pppphhhhphhhhphhppphppph   \n",
       "2      2  SSSWLLLSLVAVTAAQSTIEEQAK  ppphhhhphhhhphhppphppphp   \n",
       "3      3  SSWLLLSLVAVTAAQSTIEEQAKT  pphhhhphhhhphhppphppphpp   \n",
       "4      4  SWLLLSLVAVTAAQSTIEEQAKTF  phhhhphhhhphhppphppphpph   \n",
       "..   ...                       ...                       ...   \n",
       "777  777  ENPYASIDISKGENNPGFQNTDDV  pphhhphphpphppphhhppppph   \n",
       "778  778  NPYASIDISKGENNPGFQNTDDVQ  phhhphphpphppphhhppppphp   \n",
       "779  779  PYASIDISKGENNPGFQNTDDVQT  hhhphphpphppphhhppppphpp   \n",
       "780  780  YASIDISKGENNPGFQNTDDVQTS  hhphphpphppphhhppppphppp   \n",
       "781  781  ASIDISKGENNPGFQNTDDVQTSF  hphphpphppphhhppppphppph   \n",
       "\n",
       "                  hashval                                               name  \n",
       "0     4529367029267399939  ENST00000252519.8 gene_id=ENSG00000130234.13;t...  \n",
       "1     8133022457627493460  ENST00000252519.8 gene_id=ENSG00000130234.13;t...  \n",
       "2      302439427842201040  ENST00000252519.8 gene_id=ENSG00000130234.13;t...  \n",
       "3    13296791544504571300  ENST00000252519.8 gene_id=ENSG00000130234.13;t...  \n",
       "4    15826488194025053905  ENST00000252519.8 gene_id=ENSG00000130234.13;t...  \n",
       "..                    ...                                                ...  \n",
       "777   6156471769310373174  ENST00000252519.8 gene_id=ENSG00000130234.13;t...  \n",
       "778   2644353523020109479  ENST00000252519.8 gene_id=ENSG00000130234.13;t...  \n",
       "779   5578042643637926218  ENST00000252519.8 gene_id=ENSG00000130234.13;t...  \n",
       "780  13938802521831342304  ENST00000252519.8 gene_id=ENSG00000130234.13;t...  \n",
       "781   3647835263288528052  ENST00000252519.8 gene_id=ENSG00000130234.13;t...  \n",
       "\n",
       "[782 rows x 5 columns]"
      ]
     },
     "execution_count": 95,
     "metadata": {},
     "output_type": "execute_result"
    }
   ],
   "source": [
    "found_kmer_hashvals = get_encoded_kmer_hashvals(found_seq, found_sig.name, sigobj=sig)\n",
    "found_kmer_hashvals"
   ]
  },
  {
   "cell_type": "code",
   "execution_count": 97,
   "id": "2dc8115b-51f4-418d-9b52-6e39ef79fd63",
   "metadata": {},
   "outputs": [
    {
     "data": {
      "text/html": [
       "<div>\n",
       "<style scoped>\n",
       "    .dataframe tbody tr th:only-of-type {\n",
       "        vertical-align: middle;\n",
       "    }\n",
       "\n",
       "    .dataframe tbody tr th {\n",
       "        vertical-align: top;\n",
       "    }\n",
       "\n",
       "    .dataframe thead th {\n",
       "        text-align: right;\n",
       "    }\n",
       "</style>\n",
       "<table border=\"1\" class=\"dataframe\">\n",
       "  <thead>\n",
       "    <tr style=\"text-align: right;\">\n",
       "      <th></th>\n",
       "      <th>i_query</th>\n",
       "      <th>kmer_query</th>\n",
       "      <th>kmer_hp</th>\n",
       "      <th>hashval</th>\n",
       "      <th>name_query</th>\n",
       "      <th>i_found</th>\n",
       "      <th>kmer_found</th>\n",
       "      <th>name_found</th>\n",
       "    </tr>\n",
       "  </thead>\n",
       "  <tbody>\n",
       "    <tr>\n",
       "      <th>0</th>\n",
       "      <td>96</td>\n",
       "      <td>KPAQTTISRLPSNRNNNNANSFAT</td>\n",
       "      <td>phhppphpphhppppppphpphhp</td>\n",
       "      <td>2022470327997897771</td>\n",
       "      <td>BHF</td>\n",
       "      <td>97</td>\n",
       "      <td>QALQQNGSSVLSEDKSKRLNTILN</td>\n",
       "      <td>ENST00000252519.8 gene_id=ENSG00000130234.13;t...</td>\n",
       "    </tr>\n",
       "    <tr>\n",
       "      <th>1</th>\n",
       "      <td>97</td>\n",
       "      <td>PAQTTISRLPSNRNNNNANSFATT</td>\n",
       "      <td>hhppphpphhppppppphpphhpp</td>\n",
       "      <td>6455666354323166068</td>\n",
       "      <td>BHF</td>\n",
       "      <td>98</td>\n",
       "      <td>ALQQNGSSVLSEDKSKRLNTILNT</td>\n",
       "      <td>ENST00000252519.8 gene_id=ENSG00000130234.13;t...</td>\n",
       "    </tr>\n",
       "    <tr>\n",
       "      <th>2</th>\n",
       "      <td>98</td>\n",
       "      <td>AQTTISRLPSNRNNNNANSFATTY</td>\n",
       "      <td>hppphpphhppppppphpphhpph</td>\n",
       "      <td>16339746702010901143</td>\n",
       "      <td>BHF</td>\n",
       "      <td>99</td>\n",
       "      <td>LQQNGSSVLSEDKSKRLNTILNTM</td>\n",
       "      <td>ENST00000252519.8 gene_id=ENSG00000130234.13;t...</td>\n",
       "    </tr>\n",
       "    <tr>\n",
       "      <th>3</th>\n",
       "      <td>99</td>\n",
       "      <td>QTTISRLPSNRNNNNANSFATTYE</td>\n",
       "      <td>ppphpphhppppppphpphhpphp</td>\n",
       "      <td>3122210595655102375</td>\n",
       "      <td>BHF</td>\n",
       "      <td>100</td>\n",
       "      <td>QQNGSSVLSEDKSKRLNTILNTMS</td>\n",
       "      <td>ENST00000252519.8 gene_id=ENSG00000130234.13;t...</td>\n",
       "    </tr>\n",
       "    <tr>\n",
       "      <th>4</th>\n",
       "      <td>100</td>\n",
       "      <td>TTISRLPSNRNNNNANSFATTYEK</td>\n",
       "      <td>pphpphhppppppphpphhpphpp</td>\n",
       "      <td>4418245652551675301</td>\n",
       "      <td>BHF</td>\n",
       "      <td>101</td>\n",
       "      <td>QNGSSVLSEDKSKRLNTILNTMST</td>\n",
       "      <td>ENST00000252519.8 gene_id=ENSG00000130234.13;t...</td>\n",
       "    </tr>\n",
       "    <tr>\n",
       "      <th>5</th>\n",
       "      <td>101</td>\n",
       "      <td>TISRLPSNRNNNNANSFATTYEKF</td>\n",
       "      <td>phpphhppppppphpphhpphpph</td>\n",
       "      <td>6259314928490704384</td>\n",
       "      <td>BHF</td>\n",
       "      <td>102</td>\n",
       "      <td>NGSSVLSEDKSKRLNTILNTMSTI</td>\n",
       "      <td>ENST00000252519.8 gene_id=ENSG00000130234.13;t...</td>\n",
       "    </tr>\n",
       "  </tbody>\n",
       "</table>\n",
       "</div>"
      ],
      "text/plain": [
       "   i_query                kmer_query                   kmer_hp  \\\n",
       "0       96  KPAQTTISRLPSNRNNNNANSFAT  phhppphpphhppppppphpphhp   \n",
       "1       97  PAQTTISRLPSNRNNNNANSFATT  hhppphpphhppppppphpphhpp   \n",
       "2       98  AQTTISRLPSNRNNNNANSFATTY  hppphpphhppppppphpphhpph   \n",
       "3       99  QTTISRLPSNRNNNNANSFATTYE  ppphpphhppppppphpphhpphp   \n",
       "4      100  TTISRLPSNRNNNNANSFATTYEK  pphpphhppppppphpphhpphpp   \n",
       "5      101  TISRLPSNRNNNNANSFATTYEKF  phpphhppppppphpphhpphpph   \n",
       "\n",
       "                hashval name_query  i_found                kmer_found  \\\n",
       "0   2022470327997897771        BHF       97  QALQQNGSSVLSEDKSKRLNTILN   \n",
       "1   6455666354323166068        BHF       98  ALQQNGSSVLSEDKSKRLNTILNT   \n",
       "2  16339746702010901143        BHF       99  LQQNGSSVLSEDKSKRLNTILNTM   \n",
       "3   3122210595655102375        BHF      100  QQNGSSVLSEDKSKRLNTILNTMS   \n",
       "4   4418245652551675301        BHF      101  QNGSSVLSEDKSKRLNTILNTMST   \n",
       "5   6259314928490704384        BHF      102  NGSSVLSEDKSKRLNTILNTMSTI   \n",
       "\n",
       "                                          name_found  \n",
       "0  ENST00000252519.8 gene_id=ENSG00000130234.13;t...  \n",
       "1  ENST00000252519.8 gene_id=ENSG00000130234.13;t...  \n",
       "2  ENST00000252519.8 gene_id=ENSG00000130234.13;t...  \n",
       "3  ENST00000252519.8 gene_id=ENSG00000130234.13;t...  \n",
       "4  ENST00000252519.8 gene_id=ENSG00000130234.13;t...  \n",
       "5  ENST00000252519.8 gene_id=ENSG00000130234.13;t...  "
      ]
     },
     "execution_count": 97,
     "metadata": {},
     "output_type": "execute_result"
    }
   ],
   "source": [
    "contained_kmer_hashvals = query_kmer_hashvals.merge(found_kmer_hashvals, suffixes=('_query', '_found'), on=('hashval', 'kmer_hp'))\n",
    "contained_kmer_hashvals"
   ]
  },
  {
   "cell_type": "code",
   "execution_count": 107,
   "id": "d822cfd2-f942-4992-9896-fb461c1bf579",
   "metadata": {},
   "outputs": [],
   "source": [
    "# counter.siglist"
   ]
  },
  {
   "cell_type": "code",
   "execution_count": 108,
   "id": "b88f5b3a-4039-44d6-973d-88c305ae070b",
   "metadata": {},
   "outputs": [
    {
     "data": {
      "text/plain": [
       "['ORC2-201',\n",
       " 'BMP3-201',\n",
       " 'ZNF292-202',\n",
       " 'ZNF292-201',\n",
       " 'CFAP43-202',\n",
       " 'RSF1-201',\n",
       " 'RSF1-204',\n",
       " 'PNN-201',\n",
       " 'CACNA1G-209',\n",
       " 'RNMT-203',\n",
       " 'RNMT-202',\n",
       " 'RNMT-209',\n",
       " 'RNMT-206',\n",
       " 'RNMT-201',\n",
       " 'ACE2-209',\n",
       " 'ACE2-210',\n",
       " 'ACE2-206',\n",
       " 'ACE2-211',\n",
       " 'ACE2-202',\n",
       " 'ACE2-207',\n",
       " 'ACE2-201']"
      ]
     },
     "execution_count": 108,
     "metadata": {},
     "output_type": "execute_result"
    }
   ],
   "source": [
    "# Regex: https://regex101.com/r/Kd1r1U/1\n",
    "[re.findall('transcript_name=[\\w\\d]+-\\d+', x.name)[0].split('=')[-1] for x in counter.siglist]"
   ]
  },
  {
   "cell_type": "code",
   "execution_count": 109,
   "id": "df23be6c-09c7-4e9c-9f68-a451a0c27b33",
   "metadata": {},
   "outputs": [],
   "source": [
    "query = sig"
   ]
  },
  {
   "cell_type": "code",
   "execution_count": 110,
   "id": "2af922ba-7757-4119-9d6e-cd3684ced5cf",
   "metadata": {},
   "outputs": [],
   "source": [
    "ignore_abundance = False"
   ]
  },
  {
   "cell_type": "code",
   "execution_count": 111,
   "id": "41973822-6d19-4faf-81bf-30579130a654",
   "metadata": {},
   "outputs": [],
   "source": [
    "## ok! now do gather -\n",
    "\n",
    "found = []\n",
    "weighted_missed = 1\n",
    "is_abundance = query.minhash.track_abundance and not ignore_abundance\n",
    "orig_query_mh = query.minhash\n",
    "gather_iter = GatherDatabases(query, counters,\n",
    "                              threshold_bp=threshold_bp,\n",
    "                              ignore_abundance=ignore_abundance,\n",
    "                              noident_mh=noident_mh)\n",
    "\n",
    "for result, weighted_missed in gather_iter:\n",
    "    if not len(found):                # first result? print header.\n",
    "        if is_abundance:\n",
    "            print_results(\"\")\n",
    "            print_results(\"overlap     p_query p_match avg_abund\")\n",
    "            print_results(\"---------   ------- ------- ---------\")\n",
    "        else:\n",
    "            print_results(\"\")\n",
    "            print_results(\"overlap     p_query p_match\")\n",
    "            print_results(\"---------   ------- -------\")\n",
    "\n",
    "\n",
    "    # print interim result & save in `found` list for later use\n",
    "    pct_query = '{:.1f}%'.format(result.f_unique_weighted*100)\n",
    "    pct_genome = '{:.1f}%'.format(result.f_match*100)\n",
    "    name = result.match._display_name(40)"
   ]
  },
  {
   "cell_type": "code",
   "execution_count": 98,
   "id": "d20f36a3-4e11-46f6-9b1b-005056bf8aef",
   "metadata": {},
   "outputs": [
    {
     "data": {
      "text/plain": [
       "5"
      ]
     },
     "execution_count": 98,
     "metadata": {},
     "output_type": "execute_result"
    }
   ],
   "source": [
    "gather_iter.scaled"
   ]
  },
  {
   "cell_type": "code",
   "execution_count": 99,
   "id": "3fc2513e-4b1f-49f9-8907-02a2dc7dbcb7",
   "metadata": {},
   "outputs": [],
   "source": [
    "num_results = 100"
   ]
  },
  {
   "cell_type": "code",
   "execution_count": 102,
   "id": "783c5ca3-5a2b-418a-a1b7-a261392ffb47",
   "metadata": {},
   "outputs": [
    {
     "data": {
      "text/plain": [
       "[]"
      ]
     },
     "execution_count": 102,
     "metadata": {},
     "output_type": "execute_result"
    }
   ],
   "source": [
    "found"
   ]
  },
  {
   "cell_type": "code",
   "execution_count": 101,
   "id": "b1d67236-1a8a-4f9c-bb58-047db0f8a975",
   "metadata": {},
   "outputs": [
    {
     "name": "stdout",
     "output_type": "stream",
     "text": [
      "\n",
      "found 0 matches total;\n",
      "the recovered matches hit 0.0% of the abundance-weighted query\n",
      "\n"
     ]
    },
    {
     "name": "stderr",
     "output_type": "stream",
     "text": [
      "\u001b[Kfound less than 10 bp  in common. => exiting\n"
     ]
    }
   ],
   "source": [
    "# report on thresholding -\n",
    "if gather_iter.query:\n",
    "    # if still a query, then we failed the threshold.\n",
    "    notify(f'found less than {format_bp(threshold_bp)} in common. => exiting')\n",
    "\n",
    "# basic reporting:\n",
    "print_results(f'\\nfound {len(found)} matches total;')\n",
    "if num_results and len(found) == num_results:\n",
    "    print_results(f'(truncated gather because --num-results={num_results})')\n",
    "\n",
    "p_covered = (1 - weighted_missed) * 100\n",
    "if is_abundance:\n",
    "    print_results(f'the recovered matches hit {p_covered:.1f}% of the abundance-weighted query')\n",
    "else:\n",
    "    print_results(f'the recovered matches hit {p_covered:.1f}% of the query (unweighted)')\n",
    "print_results('')\n",
    "if gather_iter.scaled != query.minhash.scaled:\n",
    "    print_results(f'WARNING: final scaled was {gather_iter.scaled}, vs query scaled of {query.minhash.scaled}')"
   ]
  },
  {
   "cell_type": "code",
   "execution_count": 79,
   "id": "26fbcbce-69ef-4130-94cf-16ffba6a4ba7",
   "metadata": {},
   "outputs": [
    {
     "data": {
      "text/plain": [
       "[]"
      ]
     },
     "execution_count": 79,
     "metadata": {},
     "output_type": "execute_result"
    }
   ],
   "source": []
  },
  {
   "cell_type": "code",
   "execution_count": 39,
   "id": "f7d98f2c-f21d-4904-8d70-f5fb9f411b21",
   "metadata": {},
   "outputs": [],
   "source": [
    "\n",
    "# for sig in botryllus_sigs:\n",
    "\n",
    "#     break"
   ]
  },
  {
   "cell_type": "code",
   "execution_count": null,
   "id": "0213a402-8af8-4093-9b4f-09e48a554177",
   "metadata": {},
   "outputs": [],
   "source": [
    "db."
   ]
  },
  {
   "cell_type": "code",
   "execution_count": 43,
   "id": "37f21511-dbce-4e70-9137-8f3404d6563f",
   "metadata": {},
   "outputs": [
    {
     "data": {
      "text/plain": [
       "\u001b[0;31mSignature:\u001b[0m \u001b[0mdb\u001b[0m\u001b[0;34m.\u001b[0m\u001b[0mgather\u001b[0m\u001b[0;34m(\u001b[0m\u001b[0mquery\u001b[0m\u001b[0;34m,\u001b[0m \u001b[0mthreshold_bp\u001b[0m\u001b[0;34m=\u001b[0m\u001b[0;32mNone\u001b[0m\u001b[0;34m,\u001b[0m \u001b[0;34m**\u001b[0m\u001b[0mkwargs\u001b[0m\u001b[0;34m)\u001b[0m\u001b[0;34m\u001b[0m\u001b[0;34m\u001b[0m\u001b[0m\n",
       "\u001b[0;31mSource:\u001b[0m   \n",
       "    \u001b[0;32mdef\u001b[0m \u001b[0mgather\u001b[0m\u001b[0;34m(\u001b[0m\u001b[0mself\u001b[0m\u001b[0;34m,\u001b[0m \u001b[0mquery\u001b[0m\u001b[0;34m,\u001b[0m \u001b[0mthreshold_bp\u001b[0m\u001b[0;34m=\u001b[0m\u001b[0;32mNone\u001b[0m\u001b[0;34m,\u001b[0m \u001b[0;34m**\u001b[0m\u001b[0mkwargs\u001b[0m\u001b[0;34m)\u001b[0m\u001b[0;34m:\u001b[0m\u001b[0;34m\u001b[0m\n",
       "\u001b[0;34m\u001b[0m        \u001b[0;34m\"Return the match with the best Jaccard containment in the Index.\"\u001b[0m\u001b[0;34m\u001b[0m\n",
       "\u001b[0;34m\u001b[0m\u001b[0;34m\u001b[0m\n",
       "\u001b[0;34m\u001b[0m        \u001b[0mresults\u001b[0m \u001b[0;34m=\u001b[0m \u001b[0;34m[\u001b[0m\u001b[0;34m]\u001b[0m\u001b[0;34m\u001b[0m\n",
       "\u001b[0;34m\u001b[0m        \u001b[0;32mfor\u001b[0m \u001b[0mresult\u001b[0m \u001b[0;32min\u001b[0m \u001b[0mself\u001b[0m\u001b[0;34m.\u001b[0m\u001b[0mprefetch\u001b[0m\u001b[0;34m(\u001b[0m\u001b[0mquery\u001b[0m\u001b[0;34m,\u001b[0m \u001b[0mthreshold_bp\u001b[0m\u001b[0;34m,\u001b[0m \u001b[0;34m**\u001b[0m\u001b[0mkwargs\u001b[0m\u001b[0;34m)\u001b[0m\u001b[0;34m:\u001b[0m\u001b[0;34m\u001b[0m\n",
       "\u001b[0;34m\u001b[0m            \u001b[0mresults\u001b[0m\u001b[0;34m.\u001b[0m\u001b[0mappend\u001b[0m\u001b[0;34m(\u001b[0m\u001b[0mresult\u001b[0m\u001b[0;34m)\u001b[0m\u001b[0;34m\u001b[0m\n",
       "\u001b[0;34m\u001b[0m\u001b[0;34m\u001b[0m\n",
       "\u001b[0;34m\u001b[0m        \u001b[0;31m# sort results by best score.\u001b[0m\u001b[0;34m\u001b[0m\n",
       "\u001b[0;34m\u001b[0m        \u001b[0mresults\u001b[0m\u001b[0;34m.\u001b[0m\u001b[0msort\u001b[0m\u001b[0;34m(\u001b[0m\u001b[0mreverse\u001b[0m\u001b[0;34m=\u001b[0m\u001b[0;32mTrue\u001b[0m\u001b[0;34m,\u001b[0m\u001b[0;34m\u001b[0m\n",
       "\u001b[0;34m\u001b[0m                     \u001b[0mkey\u001b[0m\u001b[0;34m=\u001b[0m\u001b[0;32mlambda\u001b[0m \u001b[0mx\u001b[0m\u001b[0;34m:\u001b[0m \u001b[0;34m(\u001b[0m\u001b[0mx\u001b[0m\u001b[0;34m.\u001b[0m\u001b[0mscore\u001b[0m\u001b[0;34m,\u001b[0m \u001b[0mx\u001b[0m\u001b[0;34m.\u001b[0m\u001b[0msignature\u001b[0m\u001b[0;34m.\u001b[0m\u001b[0mmd5sum\u001b[0m\u001b[0;34m(\u001b[0m\u001b[0;34m)\u001b[0m\u001b[0;34m)\u001b[0m\u001b[0;34m)\u001b[0m\u001b[0;34m\u001b[0m\n",
       "\u001b[0;34m\u001b[0m\u001b[0;34m\u001b[0m\n",
       "\u001b[0;34m\u001b[0m        \u001b[0;32mreturn\u001b[0m \u001b[0mresults\u001b[0m\u001b[0;34m[\u001b[0m\u001b[0;34m:\u001b[0m\u001b[0;36m1\u001b[0m\u001b[0;34m]\u001b[0m\u001b[0;34m\u001b[0m\u001b[0;34m\u001b[0m\u001b[0m\n",
       "\u001b[0;31mFile:\u001b[0m      ~/opt/miniconda3/envs/botryllus/lib/python3.10/site-packages/sourmash/index.py\n",
       "\u001b[0;31mType:\u001b[0m      method\n"
      ]
     },
     "metadata": {},
     "output_type": "display_data"
    }
   ],
   "source": [
    "db.gather??"
   ]
  },
  {
   "cell_type": "code",
   "execution_count": 41,
   "id": "d0e36f3c-6394-428e-a9c3-5abc5c059459",
   "metadata": {},
   "outputs": [
    {
     "data": {
      "text/plain": [
       "SourmashSignature('g1.t1 frame:1', 22719a45)"
      ]
     },
     "execution_count": 41,
     "metadata": {},
     "output_type": "execute_result"
    }
   ],
   "source": [
    "sig"
   ]
  },
  {
   "cell_type": "code",
   "execution_count": null,
   "id": "84fa6d08-3ccf-4fa6-aa42-46baa4aba778",
   "metadata": {},
   "outputs": [],
   "source": [
    "sig.abu"
   ]
  }
 ],
 "metadata": {
  "kernelspec": {
   "display_name": "Python [conda env:botryllus]",
   "language": "python",
   "name": "conda-env-botryllus-py"
  },
  "language_info": {
   "codemirror_mode": {
    "name": "ipython",
    "version": 3
   },
   "file_extension": ".py",
   "mimetype": "text/x-python",
   "name": "python",
   "nbconvert_exporter": "python",
   "pygments_lexer": "ipython3",
   "version": "3.10.0"
  },
  "toc-autonumbering": true
 },
 "nbformat": 4,
 "nbformat_minor": 5
}
