{
 "cells": [
  {
   "cell_type": "code",
   "execution_count": 23,
   "id": "c66ba56c-96b7-482e-9ddc-94d42cb2f1f0",
   "metadata": {},
   "outputs": [],
   "source": [
    "import os\n",
    "import gtfparse"
   ]
  },
  {
   "cell_type": "code",
   "execution_count": 2,
   "id": "3945153d-c48a-4751-a133-8edb06df9c7d",
   "metadata": {},
   "outputs": [
    {
     "name": "stdout",
     "output_type": "stream",
     "text": [
      "##gtf-version 3\n",
      "chrUn\tAUGUSTUS\tgene\t36326\t36817\t1\t+\t.\tgene_id \"g1\"; ID \"g1\"; Note \"g1|introns:0|%transcript_support:0\"; gene_name \"g1\";\n",
      "chrUn\tAUGUSTUS\ttranscript\t36326\t36817\t.\t+\t.\tgene_id \"g1\"; transcript_id \"transcript-1\"; ID \"transcript-1\"; Parent \"g1\";\n",
      "chrUn\tAUGUSTUS\texon\t36326\t36817\t.\t+\t.\tgene_id \"g1\"; transcript_id \"transcript-1\"; ID \"nbis-exon-1\"; Parent \"transcript-1\";\n",
      "chrUn\tAUGUSTUS\tCDS\t36326\t36814\t.\t+\t0\tgene_id \"g1\"; transcript_id \"transcript-1\"; ID \"cds-1\"; Parent \"transcript-1\";\n",
      "chrUn\tAUGUSTUS\tstart_codon\t36326\t36328\t.\t+\t0\tgene_id \"g1\"; transcript_id \"transcript-1\"; ID \"start_codon-1\"; Parent \"transcript-1\";\n",
      "chrUn\tAUGUSTUS\tstop_codon\t36815\t36817\t.\t+\t0\tgene_id \"g1\"; transcript_id \"transcript-1\"; ID \"stop_codon-1\"; Parent \"transcript-1\";\n",
      "chrUn\tAUGUSTUS\tgene\t37461\t37682\t1\t-\t.\tgene_id \"g2\"; ID \"g2\"; Note \"g2|introns:0|%transcript_support:0\"; gene_name \"g2\";\n",
      "chrUn\tAUGUSTUS\ttranscript\t37461\t37682\t.\t-\t.\tgene_id \"g2\"; transcript_id \"transcript-2\"; ID \"transcript-2\"; Parent \"g2\";\n",
      "chrUn\tAUGUSTUS\texon\t37461\t37682\t.\t-\t.\tgene_id \"g2\"; transcript_id \"transcript-2\"; ID \"nbis-exon-27332\"; Parent \"transcript-2\";\n"
     ]
    }
   ],
   "source": [
    "! head /Users/olgabot/botryllus-data/data/botryllus-proteins/botryllus_genes_nc_nsi_nf.gtf"
   ]
  },
  {
   "cell_type": "code",
   "execution_count": 3,
   "id": "fc8ff0e0-71ce-4b99-b202-7a613ab53a48",
   "metadata": {},
   "outputs": [
    {
     "name": "stdout",
     "output_type": "stream",
     "text": [
      "##gtf-version 3\n",
      "chr1\n",
      "chr10\n",
      "chr11\n",
      "chr12\n",
      "chr13\n",
      "chr2\n",
      "chr3\n",
      "chr4\n",
      "chr5\n",
      "chr6\n",
      "chr7\n",
      "chr8\n",
      "chr9\n",
      "chrUn\n"
     ]
    }
   ],
   "source": [
    "! cut -f 1 /Users/olgabot/botryllus-data/data/botryllus-proteins/botryllus_genes_nc_nsi_nf.gtf | sort | uniq"
   ]
  },
  {
   "cell_type": "markdown",
   "id": "e3f0e95c-ff79-4c62-935f-a59b6fcaede5",
   "metadata": {},
   "source": [
    "## Human MHC Region\n",
    "- From: https://www.ncbi.nlm.nih.gov/grc/human/regions/MHC\n",
    "- `chr6:28,510,120-33,480,577`\n"
   ]
  },
  {
   "cell_type": "code",
   "execution_count": 10,
   "id": "88cbd036-1417-4952-8d41-0de4b08b351c",
   "metadata": {},
   "outputs": [
    {
     "data": {
      "text/plain": [
       "'/Users/olgabot/botryllus-data/data/gencode/v38/gencode.v38.basic.annotation.mhc_region.gff3'"
      ]
     },
     "execution_count": 10,
     "metadata": {},
     "output_type": "execute_result"
    }
   ],
   "source": [
    "human_gencode_dir = '/Users/olgabot/botryllus-data/data/gencode/v38'\n",
    "human_gff = os.path.join(human_gencode_dir, 'gencode.v38.basic.annotation.gff3')\n",
    "human_gff_mhc = human_gff.replace('.gff3', '.mhc_region.gff3')\n",
    "human_gff_mhc"
   ]
  },
  {
   "cell_type": "code",
   "execution_count": 11,
   "id": "81ed8c89-b417-4974-8e3a-81513b8b4385",
   "metadata": {},
   "outputs": [],
   "source": [
    "! bedtools intersect -wa -a $human_gff -b human_mhc.bed > $human_gff_mhc"
   ]
  },
  {
   "cell_type": "code",
   "execution_count": 6,
   "id": "f4811997-86a3-49db-98f8-c9c5b40c781b",
   "metadata": {},
   "outputs": [],
   "source": [
    "! echo 'chr6\\t28510120\\t33480577\\tMHC' > human_mhc.bed"
   ]
  },
  {
   "cell_type": "code",
   "execution_count": 12,
   "id": "8d02ae3b-93d4-4ce9-a54b-2e2a3ef7b315",
   "metadata": {},
   "outputs": [
    {
     "name": "stdout",
     "output_type": "stream",
     "text": [
      "   12776 /Users/olgabot/botryllus-data/data/gencode/v38/gencode.v38.basic.annotation.mhc_region.gff3\n"
     ]
    }
   ],
   "source": [
    "! wc -l $human_gff_mhc"
   ]
  },
  {
   "cell_type": "code",
   "execution_count": 13,
   "id": "9556a9ac-61db-4339-a26d-b64d56e3b6af",
   "metadata": {},
   "outputs": [
    {
     "name": "stdout",
     "output_type": "stream",
     "text": [
      "chr6\tHAVANA\tgene\t28503296\t28528215\t.\t-\t.\tID=ENSG00000198704.9;gene_id=ENSG00000198704.9;gene_type=protein_coding;gene_name=GPX6;level=1;hgnc_id=HGNC:4558;havana_gene=OTTHUMG00000044828.6\n",
      "chr6\tHAVANA\ttranscript\t28503296\t28515793\t.\t-\t.\tID=ENST00000361902.5;Parent=ENSG00000198704.9;gene_id=ENSG00000198704.9;transcript_id=ENST00000361902.5;gene_type=protein_coding;gene_name=GPX6;transcript_type=protein_coding;transcript_name=GPX6-201;level=2;protein_id=ENSP00000354581.1;transcript_support_level=1;hgnc_id=HGNC:4558;tag=basic,Ensembl_canonical,MANE_Select,appris_principal_4,CCDS,seleno;ccdsid=CCDS43432.1;havana_gene=OTTHUMG00000044828.6;havana_transcript=OTTHUMT00000104340.1\n",
      "chr6\tHAVANA\texon\t28515657\t28515793\t.\t-\t.\tID=exon:ENST00000361902.5:1;Parent=ENST00000361902.5;gene_id=ENSG00000198704.9;transcript_id=ENST00000361902.5;gene_type=protein_coding;gene_name=GPX6;transcript_type=protein_coding;transcript_name=GPX6-201;exon_number=1;exon_id=ENSE00001473230.1;level=2;protein_id=ENSP00000354581.1;transcript_support_level=1;hgnc_id=HGNC:4558;tag=basic,Ensembl_canonical,MANE_Select,appris_principal_4,CCDS,seleno;ccdsid=CCDS43432.1;havana_gene=OTTHUMG00000044828.6;havana_transcript=OTTHUMT00000104340.1\n",
      "chr6\tHAVANA\tCDS\t28515657\t28515743\t.\t-\t0\tID=CDS:ENST00000361902.5;Parent=ENST00000361902.5;gene_id=ENSG00000198704.9;transcript_id=ENST00000361902.5;gene_type=protein_coding;gene_name=GPX6;transcript_type=protein_coding;transcript_name=GPX6-201;exon_number=1;exon_id=ENSE00001473230.1;level=2;protein_id=ENSP00000354581.1;transcript_support_level=1;hgnc_id=HGNC:4558;tag=basic,Ensembl_canonical,MANE_Select,appris_principal_4,CCDS,seleno;ccdsid=CCDS43432.1;havana_gene=OTTHUMG00000044828.6;havana_transcript=OTTHUMT00000104340.1\n",
      "chr6\tHAVANA\tstart_codon\t28515741\t28515743\t.\t-\t0\tID=start_codon:ENST00000361902.5;Parent=ENST00000361902.5;gene_id=ENSG00000198704.9;transcript_id=ENST00000361902.5;gene_type=protein_coding;gene_name=GPX6;transcript_type=protein_coding;transcript_name=GPX6-201;exon_number=1;exon_id=ENSE00001473230.1;level=2;protein_id=ENSP00000354581.1;transcript_support_level=1;hgnc_id=HGNC:4558;tag=basic,Ensembl_canonical,MANE_Select,appris_principal_4,CCDS,seleno;ccdsid=CCDS43432.1;havana_gene=OTTHUMG00000044828.6;havana_transcript=OTTHUMT00000104340.1\n",
      "chr6\tHAVANA\texon\t28510751\t28510904\t.\t-\t.\tID=exon:ENST00000361902.5:2;Parent=ENST00000361902.5;gene_id=ENSG00000198704.9;transcript_id=ENST00000361902.5;gene_type=protein_coding;gene_name=GPX6;transcript_type=protein_coding;transcript_name=GPX6-201;exon_number=2;exon_id=ENSE00003590503.1;level=2;protein_id=ENSP00000354581.1;transcript_support_level=1;hgnc_id=HGNC:4558;tag=basic,Ensembl_canonical,MANE_Select,appris_principal_4,CCDS,seleno;ccdsid=CCDS43432.1;havana_gene=OTTHUMG00000044828.6;havana_transcript=OTTHUMT00000104340.1\n",
      "chr6\tHAVANA\tCDS\t28510751\t28510904\t.\t-\t0\tID=CDS:ENST00000361902.5;Parent=ENST00000361902.5;gene_id=ENSG00000198704.9;transcript_id=ENST00000361902.5;gene_type=protein_coding;gene_name=GPX6;transcript_type=protein_coding;transcript_name=GPX6-201;exon_number=2;exon_id=ENSE00003590503.1;level=2;protein_id=ENSP00000354581.1;transcript_support_level=1;hgnc_id=HGNC:4558;tag=basic,Ensembl_canonical,MANE_Select,appris_principal_4,CCDS,seleno;ccdsid=CCDS43432.1;havana_gene=OTTHUMG00000044828.6;havana_transcript=OTTHUMT00000104340.1\n",
      "chr6\tHAVANA\tstop_codon_redefined_as_selenocysteine\t28510773\t28510775\t.\t-\t.\tID=selenocysteine:ENST00000361902.5:73;Parent=CDS:ENST00000361902.5;gene_id=ENSG00000198704.9;transcript_id=ENST00000361902.5;gene_type=protein_coding;gene_name=GPX6;transcript_type=protein_coding;transcript_name=GPX6-201;level=2;protein_id=ENSP00000354581.1;transcript_support_level=1;hgnc_id=HGNC:4558;tag=basic,Ensembl_canonical,MANE_Select,appris_principal_4,CCDS,seleno;ccdsid=CCDS43432.1;havana_gene=OTTHUMG00000044828.6;havana_transcript=OTTHUMT00000104340.1\n",
      "chr6\tHAVANA\tfive_prime_UTR\t28515744\t28515793\t.\t-\t.\tID=UTR5:ENST00000361902.5;Parent=ENST00000361902.5;gene_id=ENSG00000198704.9;transcript_id=ENST00000361902.5;gene_type=protein_coding;gene_name=GPX6;transcript_type=protein_coding;transcript_name=GPX6-201;exon_number=1;exon_id=ENSE00001473230.1;level=2;protein_id=ENSP00000354581.1;transcript_support_level=1;hgnc_id=HGNC:4558;tag=basic,Ensembl_canonical,MANE_Select,appris_principal_4,CCDS,seleno;ccdsid=CCDS43432.1;havana_gene=OTTHUMG00000044828.6;havana_transcript=OTTHUMT00000104340.1\n",
      "chr6\tENSEMBL\ttranscript\t28503296\t28515793\t.\t-\t.\tID=ENST00000612264.4;Parent=ENSG00000198704.9;gene_id=ENSG00000198704.9;transcript_id=ENST00000612264.4;gene_type=protein_coding;gene_name=GPX6;transcript_type=protein_coding;transcript_name=GPX6-204;level=3;protein_id=ENSP00000483462.1;transcript_support_level=5;hgnc_id=HGNC:4558;tag=basic,appris_alternative_1;havana_gene=OTTHUMG00000044828.6\n"
     ]
    }
   ],
   "source": [
    "! head $human_gff_mhc"
   ]
  },
  {
   "cell_type": "markdown",
   "id": "05a07471-7c69-496c-bcef-e997b3e4706c",
   "metadata": {},
   "source": [
    "## How many genes?"
   ]
  },
  {
   "cell_type": "code",
   "execution_count": 19,
   "id": "498e2b12-0f93-4d29-b17c-faf18c6d4172",
   "metadata": {},
   "outputs": [
    {
     "name": "stdout",
     "output_type": "stream",
     "text": [
      "     400\n"
     ]
    }
   ],
   "source": [
    "! awk '  $3 ~ /gene/  ' /Users/olgabot/botryllus-data/data/gencode/v38/gencode.v38.basic.annotation.mhc_region.gff3 | wc -l"
   ]
  },
  {
   "cell_type": "markdown",
   "id": "bf6f2da4-5743-4ca5-8209-350b5b55c09e",
   "metadata": {},
   "source": [
    "## Conver to gtf"
   ]
  },
  {
   "cell_type": "code",
   "execution_count": 20,
   "id": "37b0d51e-a66e-42d1-aeb3-fbbce53f103f",
   "metadata": {},
   "outputs": [
    {
     "data": {
      "text/plain": [
       "'/Users/olgabot/botryllus-data/data/gencode/v38/gencode.v38.basic.annotation.mhc_region.gtf'"
      ]
     },
     "execution_count": 20,
     "metadata": {},
     "output_type": "execute_result"
    }
   ],
   "source": [
    "human_gtf_mhc = human_gff_mhc.replace('.gff3', '.gtf')\n",
    "human_gtf_mhc"
   ]
  },
  {
   "cell_type": "code",
   "execution_count": 21,
   "id": "4d07fb1b-6365-4d10-91a7-e0887d07f2cc",
   "metadata": {},
   "outputs": [],
   "source": [
    "! gffread $human_gff_mhc -T -o $human_gtf_mhc"
   ]
  },
  {
   "cell_type": "code",
   "execution_count": 27,
   "id": "b6b3e720-e8bf-49e7-b844-64ff4dbfab8a",
   "metadata": {},
   "outputs": [
    {
     "name": "stderr",
     "output_type": "stream",
     "text": [
      "/Users/olgabot/opt/miniconda3/envs/botryllus/lib/python3.10/site-packages/gtfparse/read_gtf.py:151: FutureWarning: The error_bad_lines argument has been deprecated and will be removed in a future version.\n",
      "\n",
      "\n",
      "  result = parse_gtf(\n",
      "/Users/olgabot/opt/miniconda3/envs/botryllus/lib/python3.10/site-packages/gtfparse/read_gtf.py:151: FutureWarning: The warn_bad_lines argument has been deprecated and will be removed in a future version.\n",
      "\n",
      "\n",
      "  result = parse_gtf(\n",
      "INFO:root:Extracted GTF attributes: ['transcript_id', 'gene_id', 'gene_name']\n"
     ]
    },
    {
     "data": {
      "text/html": [
       "<div>\n",
       "<style scoped>\n",
       "    .dataframe tbody tr th:only-of-type {\n",
       "        vertical-align: middle;\n",
       "    }\n",
       "\n",
       "    .dataframe tbody tr th {\n",
       "        vertical-align: top;\n",
       "    }\n",
       "\n",
       "    .dataframe thead th {\n",
       "        text-align: right;\n",
       "    }\n",
       "</style>\n",
       "<table border=\"1\" class=\"dataframe\">\n",
       "  <thead>\n",
       "    <tr style=\"text-align: right;\">\n",
       "      <th></th>\n",
       "      <th>seqname</th>\n",
       "      <th>source</th>\n",
       "      <th>feature</th>\n",
       "      <th>start</th>\n",
       "      <th>end</th>\n",
       "      <th>score</th>\n",
       "      <th>strand</th>\n",
       "      <th>frame</th>\n",
       "      <th>transcript_id</th>\n",
       "      <th>gene_id</th>\n",
       "      <th>gene_name</th>\n",
       "    </tr>\n",
       "  </thead>\n",
       "  <tbody>\n",
       "    <tr>\n",
       "      <th>0</th>\n",
       "      <td>chr6</td>\n",
       "      <td>HAVANA</td>\n",
       "      <td>transcript</td>\n",
       "      <td>28510751</td>\n",
       "      <td>28515787</td>\n",
       "      <td>NaN</td>\n",
       "      <td>-</td>\n",
       "      <td>0</td>\n",
       "      <td>ENST00000474923.1</td>\n",
       "      <td>ENSG00000198704.9</td>\n",
       "      <td>GPX6</td>\n",
       "    </tr>\n",
       "    <tr>\n",
       "      <th>1</th>\n",
       "      <td>chr6</td>\n",
       "      <td>HAVANA</td>\n",
       "      <td>exon</td>\n",
       "      <td>28510751</td>\n",
       "      <td>28510904</td>\n",
       "      <td>NaN</td>\n",
       "      <td>-</td>\n",
       "      <td>0</td>\n",
       "      <td>ENST00000474923.1</td>\n",
       "      <td>ENSG00000198704.9</td>\n",
       "      <td>GPX6</td>\n",
       "    </tr>\n",
       "    <tr>\n",
       "      <th>2</th>\n",
       "      <td>chr6</td>\n",
       "      <td>HAVANA</td>\n",
       "      <td>exon</td>\n",
       "      <td>28515657</td>\n",
       "      <td>28515787</td>\n",
       "      <td>NaN</td>\n",
       "      <td>-</td>\n",
       "      <td>0</td>\n",
       "      <td>ENST00000474923.1</td>\n",
       "      <td>ENSG00000198704.9</td>\n",
       "      <td>GPX6</td>\n",
       "    </tr>\n",
       "    <tr>\n",
       "      <th>3</th>\n",
       "      <td>chr6</td>\n",
       "      <td>HAVANA</td>\n",
       "      <td>CDS</td>\n",
       "      <td>28510751</td>\n",
       "      <td>28510904</td>\n",
       "      <td>NaN</td>\n",
       "      <td>-</td>\n",
       "      <td>0</td>\n",
       "      <td>ENST00000474923.1</td>\n",
       "      <td>ENSG00000198704.9</td>\n",
       "      <td>GPX6</td>\n",
       "    </tr>\n",
       "    <tr>\n",
       "      <th>4</th>\n",
       "      <td>chr6</td>\n",
       "      <td>HAVANA</td>\n",
       "      <td>CDS</td>\n",
       "      <td>28515657</td>\n",
       "      <td>28515743</td>\n",
       "      <td>NaN</td>\n",
       "      <td>-</td>\n",
       "      <td>0</td>\n",
       "      <td>ENST00000474923.1</td>\n",
       "      <td>ENSG00000198704.9</td>\n",
       "      <td>GPX6</td>\n",
       "    </tr>\n",
       "  </tbody>\n",
       "</table>\n",
       "</div>"
      ],
      "text/plain": [
       "  seqname  source     feature     start       end  score strand frame  \\\n",
       "0    chr6  HAVANA  transcript  28510751  28515787    NaN      -     0   \n",
       "1    chr6  HAVANA        exon  28510751  28510904    NaN      -     0   \n",
       "2    chr6  HAVANA        exon  28515657  28515787    NaN      -     0   \n",
       "3    chr6  HAVANA         CDS  28510751  28510904    NaN      -     0   \n",
       "4    chr6  HAVANA         CDS  28515657  28515743    NaN      -     0   \n",
       "\n",
       "       transcript_id            gene_id gene_name  \n",
       "0  ENST00000474923.1  ENSG00000198704.9      GPX6  \n",
       "1  ENST00000474923.1  ENSG00000198704.9      GPX6  \n",
       "2  ENST00000474923.1  ENSG00000198704.9      GPX6  \n",
       "3  ENST00000474923.1  ENSG00000198704.9      GPX6  \n",
       "4  ENST00000474923.1  ENSG00000198704.9      GPX6  "
      ]
     },
     "execution_count": 27,
     "metadata": {},
     "output_type": "execute_result"
    }
   ],
   "source": [
    "mhc_regions = gtfparse.read_gtf(human_gtf_mhc, infer_biotype_column=True)\n",
    "mhc_regions.head()"
   ]
  },
  {
   "cell_type": "code",
   "execution_count": 32,
   "id": "73df608a-2d52-4216-94d2-f3a19576682b",
   "metadata": {},
   "outputs": [
    {
     "name": "stdout",
     "output_type": "stream",
     "text": [
      "(748, 3)\n"
     ]
    },
    {
     "data": {
      "text/html": [
       "<div>\n",
       "<style scoped>\n",
       "    .dataframe tbody tr th:only-of-type {\n",
       "        vertical-align: middle;\n",
       "    }\n",
       "\n",
       "    .dataframe tbody tr th {\n",
       "        vertical-align: top;\n",
       "    }\n",
       "\n",
       "    .dataframe thead th {\n",
       "        text-align: right;\n",
       "    }\n",
       "</style>\n",
       "<table border=\"1\" class=\"dataframe\">\n",
       "  <thead>\n",
       "    <tr style=\"text-align: right;\">\n",
       "      <th></th>\n",
       "      <th>transcript_id</th>\n",
       "      <th>gene_id</th>\n",
       "      <th>gene_name</th>\n",
       "    </tr>\n",
       "  </thead>\n",
       "  <tbody>\n",
       "    <tr>\n",
       "      <th>0</th>\n",
       "      <td>ENST00000474923.1</td>\n",
       "      <td>ENSG00000198704.9</td>\n",
       "      <td>GPX6</td>\n",
       "    </tr>\n",
       "    <tr>\n",
       "      <th>5</th>\n",
       "      <td>ENST00000361902.5</td>\n",
       "      <td>ENSG00000198704.9</td>\n",
       "      <td>GPX6</td>\n",
       "    </tr>\n",
       "    <tr>\n",
       "      <th>10</th>\n",
       "      <td>ENST00000612264.4</td>\n",
       "      <td>ENSG00000198704.9</td>\n",
       "      <td>GPX6</td>\n",
       "    </tr>\n",
       "    <tr>\n",
       "      <th>17</th>\n",
       "      <td>ENST00000412168.7</td>\n",
       "      <td>ENSG00000224586.7</td>\n",
       "      <td>GPX5</td>\n",
       "    </tr>\n",
       "    <tr>\n",
       "      <th>28</th>\n",
       "      <td>ENST00000469384.1</td>\n",
       "      <td>ENSG00000224586.7</td>\n",
       "      <td>GPX5</td>\n",
       "    </tr>\n",
       "  </tbody>\n",
       "</table>\n",
       "</div>"
      ],
      "text/plain": [
       "        transcript_id            gene_id gene_name\n",
       "0   ENST00000474923.1  ENSG00000198704.9      GPX6\n",
       "5   ENST00000361902.5  ENSG00000198704.9      GPX6\n",
       "10  ENST00000612264.4  ENSG00000198704.9      GPX6\n",
       "17  ENST00000412168.7  ENSG00000224586.7      GPX5\n",
       "28  ENST00000469384.1  ENSG00000224586.7      GPX5"
      ]
     },
     "execution_count": 32,
     "metadata": {},
     "output_type": "execute_result"
    }
   ],
   "source": [
    "mhc_ids = mhc_regions[['transcript_id', 'gene_id', 'gene_name']].drop_duplicates()\n",
    "print(mhc_ids.shape)\n",
    "mhc_ids.head()"
   ]
  },
  {
   "cell_type": "code",
   "execution_count": 34,
   "id": "7a35b0d8-db62-42c4-bf8d-7394abb3b92b",
   "metadata": {},
   "outputs": [],
   "source": [
    "mhc_id_csv = os.path.join(human_gencode_dir, 'mhc_ids.csv')\n",
    "mhc_ids.to_csv(mhc_id_csv, index=False)"
   ]
  },
  {
   "cell_type": "code",
   "execution_count": null,
   "id": "0bd885d7-134d-4130-9076-6a3bc52750f6",
   "metadata": {},
   "outputs": [],
   "source": []
  },
  {
   "cell_type": "code",
   "execution_count": 29,
   "id": "fa59265b-d19b-470c-940b-3df504525e17",
   "metadata": {},
   "outputs": [],
   "source": [
    "mhc_genes_txt = os.path.join(human_gencode_dir, 'mhc_genes.txt')\n",
    "\n",
    "with open(mhc_genes_txt, 'w') as f:\n",
    "    f.writelines('\\n'.join(mhc_genes) + '\\n')"
   ]
  },
  {
   "cell_type": "code",
   "execution_count": 30,
   "id": "3e4722df-af40-4c73-9476-b6bf1240fa9b",
   "metadata": {},
   "outputs": [
    {
     "name": "stdout",
     "output_type": "stream",
     "text": [
      "ABCF1\n",
      "ABHD16A\n",
      "AGER\n",
      "AGPAT1\n",
      "AIF1\n",
      "APOM\n",
      "ATAT1\n",
      "ATF6B\n",
      "ATP6V1G2\n",
      "ATP6V1G2-DDX39B\n"
     ]
    }
   ],
   "source": [
    "! head $mhc_genes_txt"
   ]
  },
  {
   "cell_type": "code",
   "execution_count": null,
   "id": "9ba3771c-e43b-458f-9964-3a717beba801",
   "metadata": {},
   "outputs": [],
   "source": []
  }
 ],
 "metadata": {
  "kernelspec": {
   "display_name": "Python [conda env:botryllus]",
   "language": "python",
   "name": "conda-env-botryllus-py"
  },
  "language_info": {
   "codemirror_mode": {
    "name": "ipython",
    "version": 3
   },
   "file_extension": ".py",
   "mimetype": "text/x-python",
   "name": "python",
   "nbconvert_exporter": "python",
   "pygments_lexer": "ipython3",
   "version": "3.10.0"
  }
 },
 "nbformat": 4,
 "nbformat_minor": 5
}
