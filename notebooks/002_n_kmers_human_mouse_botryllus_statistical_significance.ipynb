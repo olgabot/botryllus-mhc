{
 "cells": [
  {
   "cell_type": "code",
   "execution_count": 12,
   "id": "9922bed7-f43a-4a3f-b4c1-a879b8efced9",
   "metadata": {},
   "outputs": [],
   "source": [
    "import os"
   ]
  },
  {
   "cell_type": "code",
   "execution_count": 13,
   "id": "e38b1a20-9f78-49b4-9f36-771ed46947c0",
   "metadata": {},
   "outputs": [],
   "source": [
    "from orpheum.index import make_peptide_bloom_filter"
   ]
  },
  {
   "cell_type": "code",
   "execution_count": 14,
   "id": "eed944b0-7ff3-4e8c-b16d-6ca68b261ac1",
   "metadata": {},
   "outputs": [],
   "source": [
    "peptide_ksize = 24\n",
    "molecule = 'hp'"
   ]
  },
  {
   "cell_type": "code",
   "execution_count": 15,
   "id": "9cc25769-a393-4e1a-a144-0e5f3a876601",
   "metadata": {},
   "outputs": [],
   "source": [
    "ensembl_dir = '/Users/olgabot/botryllus/data/ensembl/release-103/'\n",
    "\n",
    "human_fasta = os.path.join(ensembl_dir, 'Homo_sapiens.GRCh38.pep.all.fa.gz')\n"
   ]
  },
  {
   "cell_type": "code",
   "execution_count": 16,
   "id": "36d034fd-7e6b-4b66-b7b1-e18096c6f155",
   "metadata": {},
   "outputs": [
    {
     "name": "stderr",
     "output_type": "stream",
     "text": [
      "115262it [00:49, 2323.12it/s]\n"
     ]
    }
   ],
   "source": [
    "human_bf = make_peptide_bloom_filter(human_fasta, peptide_ksize, molecule)"
   ]
  },
  {
   "cell_type": "code",
   "execution_count": 17,
   "id": "3f903312-739e-4730-b7df-3538b360e474",
   "metadata": {},
   "outputs": [
    {
     "data": {
      "text/plain": [
       "7907130"
      ]
     },
     "execution_count": 17,
     "metadata": {},
     "output_type": "execute_result"
    }
   ],
   "source": [
    "human_bf.n_unique_kmers()"
   ]
  },
  {
   "cell_type": "code",
   "execution_count": null,
   "id": "2180a1d7-6001-48fb-bb9c-9c2214cfd055",
   "metadata": {},
   "outputs": [],
   "source": [
    "human_bf.n_unique_kmers()"
   ]
  },
  {
   "cell_type": "code",
   "execution_count": 19,
   "id": "810f6e6e-1e90-434c-a16f-7ae194dec022",
   "metadata": {},
   "outputs": [
    {
     "name": "stderr",
     "output_type": "stream",
     "text": [
      "72617it [00:03, 20312.95it/s]\n"
     ]
    }
   ],
   "source": [
    "botryllus_dir = '/Users/olgabot/botryllus/data/botryllus-proteins/'\n",
    "botryllus_fasta = os.path.join(botryllus_dir, 'Bs_proteins.fa.gz')\n",
    "\n",
    "botryllus_bf = make_peptide_bloom_filter(botryllus_fasta, peptide_ksize, molecule)"
   ]
  },
  {
   "cell_type": "code",
   "execution_count": 20,
   "id": "c0c2b0f7-f094-46ac-804b-156adeb0fa80",
   "metadata": {},
   "outputs": [
    {
     "data": {
      "text/plain": [
       "1372855"
      ]
     },
     "execution_count": 20,
     "metadata": {},
     "output_type": "execute_result"
    }
   ],
   "source": [
    "botryllus_bf.n_unique_kmers()"
   ]
  },
  {
   "cell_type": "code",
   "execution_count": 23,
   "id": "accea0d4-316e-4b83-83f6-cc9045df17bb",
   "metadata": {},
   "outputs": [
    {
     "data": {
      "text/plain": [
       "16777216"
      ]
     },
     "execution_count": 23,
     "metadata": {},
     "output_type": "execute_result"
    }
   ],
   "source": [
    "n_possible = 2**24\n",
    "n_possible"
   ]
  },
  {
   "cell_type": "code",
   "execution_count": 28,
   "id": "ee819b78-4f26-474b-a909-7d52fe3cfd46",
   "metadata": {},
   "outputs": [
    {
     "data": {
      "text/plain": [
       "8.18285346031189"
      ]
     },
     "execution_count": 28,
     "metadata": {},
     "output_type": "execute_result"
    }
   ],
   "source": [
    "100*botryllus_bf.n_unique_kmers()/n_possible"
   ]
  },
  {
   "cell_type": "code",
   "execution_count": 27,
   "id": "f95e6f92-b6b2-43ec-a13e-a00458d0144c",
   "metadata": {},
   "outputs": [
    {
     "data": {
      "text/plain": [
       "47.13016748428345"
      ]
     },
     "execution_count": 27,
     "metadata": {},
     "output_type": "execute_result"
    }
   ],
   "source": [
    "100 * human_bf.n_unique_kmers()/n_possible"
   ]
  },
  {
   "cell_type": "markdown",
   "id": "0745e643-bf91-4d2b-a1f9-cfd591da93ee",
   "metadata": {},
   "source": [
    "## Probability of overlap of a random k-mer from human and botryllus"
   ]
  },
  {
   "cell_type": "code",
   "execution_count": 26,
   "id": "de74903a-a293-4431-b135-fc2101f83d00",
   "metadata": {},
   "outputs": [
    {
     "data": {
      "text/plain": [
       "0.03856592540838477"
      ]
     },
     "execution_count": 26,
     "metadata": {},
     "output_type": "execute_result"
    }
   ],
   "source": [
    "(botryllus_bf.n_unique_kmers()/n_possible)*(human_bf.n_unique_kmers()/n_possible)"
   ]
  },
  {
   "cell_type": "code",
   "execution_count": 30,
   "id": "0caa0a4a-e251-4b2d-a9c2-8fdd82712a17",
   "metadata": {},
   "outputs": [
    {
     "data": {
      "text/plain": [
       "0.03856592540838477"
      ]
     },
     "execution_count": 30,
     "metadata": {},
     "output_type": "execute_result"
    }
   ],
   "source": [
    "\n",
    "prob_overlap = (botryllus_bf.n_unique_kmers()/n_possible)*(human_bf.n_unique_kmers()/n_possible)\n",
    "prob_overlap"
   ]
  },
  {
   "cell_type": "code",
   "execution_count": 31,
   "id": "1fced64a-1c73-43d5-8ada-975e44cba15a",
   "metadata": {},
   "outputs": [
    {
     "data": {
      "text/plain": [
       "0.001487330602605098"
      ]
     },
     "execution_count": 31,
     "metadata": {},
     "output_type": "execute_result"
    }
   ],
   "source": [
    "prob_overlap**2"
   ]
  },
  {
   "cell_type": "markdown",
   "id": "dd3a402a-1ec8-476e-a9a8-96175d7b50a1",
   "metadata": {},
   "source": [
    "## For two k-mers overlapping, goes down to 0.001"
   ]
  },
  {
   "cell_type": "code",
   "execution_count": null,
   "id": "2df67ae8-1b26-4edf-8dda-57803f1be310",
   "metadata": {},
   "outputs": [],
   "source": []
  },
  {
   "cell_type": "markdown",
   "id": "23849cef-e024-409e-a737-604b333a5dc6",
   "metadata": {
    "tags": []
   },
   "source": [
    "# Check for mous"
   ]
  },
  {
   "cell_type": "code",
   "execution_count": 32,
   "id": "67f63a5d-88c2-4d21-ad60-0cb2f58729c6",
   "metadata": {},
   "outputs": [],
   "source": [
    "ensembl_dir = '/Users/olgabot/botryllus/data/ensembl/release-103/'\n",
    "\n",
    "mouse_fasta = os.path.join(ensembl_dir, 'Mus_musculus.GRCm39.pep.all.fa.gz')\n"
   ]
  },
  {
   "cell_type": "code",
   "execution_count": 33,
   "id": "7f5caf6d-a17a-4e77-9999-4fd86c21bfa8",
   "metadata": {},
   "outputs": [
    {
     "name": "stderr",
     "output_type": "stream",
     "text": [
      "67174it [00:35, 1917.32it/s]\n"
     ]
    }
   ],
   "source": [
    "mouse_bf = make_peptide_bloom_filter(mouse_fasta, peptide_ksize, molecule)"
   ]
  },
  {
   "cell_type": "code",
   "execution_count": 35,
   "id": "0e2eb0f5-c95a-45c5-9b59-22fca03ddfc0",
   "metadata": {},
   "outputs": [
    {
     "data": {
      "text/plain": [
       "7730577"
      ]
     },
     "execution_count": 35,
     "metadata": {},
     "output_type": "execute_result"
    }
   ],
   "source": [
    "mouse_bf.n_unique_kmers()"
   ]
  },
  {
   "cell_type": "code",
   "execution_count": 34,
   "id": "5ac36cd2-2ed6-48ea-b45f-2c18d2b129b4",
   "metadata": {},
   "outputs": [
    {
     "data": {
      "text/plain": [
       "0.2171655826331076"
      ]
     },
     "execution_count": 34,
     "metadata": {},
     "output_type": "execute_result"
    }
   ],
   "source": [
    "\n",
    "prob_overlap_human_mouse = (mouse_bf.n_unique_kmers()/n_possible)*(human_bf.n_unique_kmers()/n_possible)\n",
    "prob_overlap_human_mouse"
   ]
  },
  {
   "cell_type": "code",
   "execution_count": 36,
   "id": "6153be35-fc96-4891-a55a-c5b85159416a",
   "metadata": {},
   "outputs": [
    {
     "data": {
      "text/plain": [
       "0.04716089028037708"
      ]
     },
     "execution_count": 36,
     "metadata": {},
     "output_type": "execute_result"
    }
   ],
   "source": [
    "prob_overlap_human_mouse**2"
   ]
  },
  {
   "cell_type": "code",
   "execution_count": null,
   "id": "00adfa05-7f3f-4481-a1ad-53b3122cd401",
   "metadata": {},
   "outputs": [],
   "source": []
  }
 ],
 "metadata": {
  "kernelspec": {
   "display_name": "Python 3 (ipykernel)",
   "language": "python",
   "name": "python3"
  },
  "language_info": {
   "codemirror_mode": {
    "name": "ipython",
    "version": 3
   },
   "file_extension": ".py",
   "mimetype": "text/x-python",
   "name": "python",
   "nbconvert_exporter": "python",
   "pygments_lexer": "ipython3",
   "version": "3.7.12"
  }
 },
 "nbformat": 4,
 "nbformat_minor": 5
}
