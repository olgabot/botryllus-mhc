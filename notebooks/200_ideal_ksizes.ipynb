{
 "cells": [
  {
   "cell_type": "code",
   "execution_count": 1,
   "id": "96a3defe-5acd-4325-8d3a-e0a47a50f992",
   "metadata": {},
   "outputs": [
    {
     "data": {
      "text/plain": [
       "dayhoff    5.447059\n",
       "protein    9.107210\n",
       "hp         2.107210\n",
       "dtype: float64"
      ]
     },
     "execution_count": 1,
     "metadata": {},
     "output_type": "execute_result"
    }
   ],
   "source": [
    "import os\n",
    "import numpy as np\n",
    "import pandas as pd\n",
    "import seaborn as sns\n",
    "\n",
    "\n",
    "alphabet_sizes = pd.Series(dict(dayhoff=6, protein=20, hp=2))\n",
    "np.log10(alphabet_sizes.pow(21 / 3))"
   ]
  },
  {
   "cell_type": "code",
   "execution_count": 2,
   "id": "59392955-d222-42b5-bf5a-e7a902bee6a7",
   "metadata": {},
   "outputs": [
    {
     "data": {
      "text/plain": [
       "dayhoff    17.0\n",
       "protein    10.0\n",
       "hp         42.0\n",
       "dtype: float64"
      ]
     },
     "execution_count": 2,
     "metadata": {},
     "output_type": "execute_result"
    }
   ],
   "source": [
    "ideal_ksizes = np.ceil(21 * np.log(4) / np.log(alphabet_sizes))\n",
    "ideal_ksizes"
   ]
  },
  {
   "cell_type": "code",
   "execution_count": null,
   "id": "0d6b1fc7-bfe7-4d0d-bb68-38ea54dd5dfd",
   "metadata": {},
   "outputs": [],
   "source": []
  }
 ],
 "metadata": {
  "kernelspec": {
   "display_name": "Python [conda env:botryllus]",
   "language": "python",
   "name": "conda-env-botryllus-py"
  },
  "language_info": {
   "codemirror_mode": {
    "name": "ipython",
    "version": 3
   },
   "file_extension": ".py",
   "mimetype": "text/x-python",
   "name": "python",
   "nbconvert_exporter": "python",
   "pygments_lexer": "ipython3",
   "version": "3.10.0"
  }
 },
 "nbformat": 4,
 "nbformat_minor": 5
}
