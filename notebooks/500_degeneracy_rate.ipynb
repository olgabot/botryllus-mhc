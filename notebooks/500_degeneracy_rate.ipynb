{
 "cells": [
  {
   "cell_type": "code",
   "execution_count": 88,
   "id": "68d9cdd5-d78b-44a2-bbe5-e3ddf866d7f7",
   "metadata": {},
   "outputs": [],
   "source": [
    "import math\n",
    "import os\n",
    "\n",
    "import numpy as np\n",
    "import pandas as pd\n",
    "import screed\n",
    "from orpheum import sequence_encodings\n",
    "from tqdm import tqdm\n",
    "import seaborn as sns"
   ]
  },
  {
   "cell_type": "code",
   "execution_count": 14,
   "id": "250bb0a8-5c7d-4dfe-ab3a-477161233897",
   "metadata": {},
   "outputs": [
    {
     "data": {
      "text/plain": [
       "{'C': 'a',\n",
       " 'A': 'b',\n",
       " 'G': 'b',\n",
       " 'P': 'b',\n",
       " 'S': 'b',\n",
       " 'T': 'b',\n",
       " 'D': 'c',\n",
       " 'E': 'c',\n",
       " 'N': 'c',\n",
       " 'Q': 'c',\n",
       " 'H': 'd',\n",
       " 'K': 'd',\n",
       " 'R': 'd',\n",
       " 'I': 'e',\n",
       " 'L': 'e',\n",
       " 'M': 'e',\n",
       " 'V': 'e',\n",
       " 'F': 'f',\n",
       " 'W': 'f',\n",
       " 'Y': 'f'}"
      ]
     },
     "execution_count": 14,
     "metadata": {},
     "output_type": "execute_result"
    }
   ],
   "source": [
    "sequence_encodings.DAYHOFF_MAPPING"
   ]
  },
  {
   "cell_type": "code",
   "execution_count": 10,
   "id": "a603da1e-40ef-4174-ba9e-43f18d1ce00d",
   "metadata": {},
   "outputs": [],
   "source": [
    "from orpheum import compare_kmer_content"
   ]
  },
  {
   "cell_type": "code",
   "execution_count": 1,
   "id": "549c0577-44a5-48c9-8c39-90cafb4e3718",
   "metadata": {},
   "outputs": [],
   "source": [
    "# compare_kmer_content."
   ]
  },
  {
   "cell_type": "code",
   "execution_count": null,
   "id": "c54b2909-c937-4822-849a-f6d3c43dea8f",
   "metadata": {},
   "outputs": [],
   "source": [
    "from orpheum.compare_kmer_content"
   ]
  },
  {
   "cell_type": "code",
   "execution_count": null,
   "id": "1c92b4ec-83ee-4125-935f-a84b17e8b878",
   "metadata": {},
   "outputs": [],
   "source": []
  },
  {
   "cell_type": "code",
   "execution_count": 5,
   "id": "17860939-bdd6-4e14-96bf-d24bad1efb58",
   "metadata": {},
   "outputs": [],
   "source": [
    "swissprot_reviewed = os.path.join(\n",
    "    \"/Users/olgabot/botryllus/data/uniprot/2022-04-16/\",\n",
    "    \"uniprot-reviewed_yes+taxonomy_33208_reviewed_only_swissprot.fasta.gz\",\n",
    ")"
   ]
  },
  {
   "cell_type": "code",
   "execution_count": 70,
   "id": "8b107268-4815-4726-9ca0-15fe3a309259",
   "metadata": {},
   "outputs": [
    {
     "data": {
      "text/plain": [
       "{'A': 'h',\n",
       " 'F': 'h',\n",
       " 'G': 'h',\n",
       " 'I': 'h',\n",
       " 'L': 'h',\n",
       " 'M': 'h',\n",
       " 'P': 'h',\n",
       " 'V': 'h',\n",
       " 'W': 'h',\n",
       " 'Y': 'h',\n",
       " 'C': 'p',\n",
       " 'D': 'p',\n",
       " 'E': 'p',\n",
       " 'H': 'p',\n",
       " 'K': 'p',\n",
       " 'N': 'p',\n",
       " 'Q': 'p',\n",
       " 'R': 'p',\n",
       " 'S': 'p',\n",
       " 'T': 'p'}"
      ]
     },
     "execution_count": 70,
     "metadata": {},
     "output_type": "execute_result"
    }
   ],
   "source": [
    "sequence_encodings.HP_MAPPING"
   ]
  },
  {
   "cell_type": "markdown",
   "id": "92b8edad-c495-41c7-9b90-fbe94937f239",
   "metadata": {},
   "source": [
    "## Add  `B` and `Z` amino acids"
   ]
  },
  {
   "cell_type": "code",
   "execution_count": 74,
   "id": "0ac17d85-f79e-494a-9014-0afa8d838b03",
   "metadata": {},
   "outputs": [],
   "source": [
    "dayhoff_mapping = {'C': 'a',\n",
    " 'A': 'b',\n",
    " 'G': 'b',\n",
    " 'P': 'b',\n",
    " 'S': 'b',\n",
    " 'T': 'b',\n",
    " 'D': 'c',\n",
    " 'E': 'c',\n",
    " 'N': 'c',\n",
    " 'Q': 'c',\n",
    " 'H': 'd',\n",
    " 'K': 'd',\n",
    " 'R': 'd',\n",
    " 'I': 'e',\n",
    " 'L': 'e',\n",
    " 'M': 'e',\n",
    " 'V': 'e',\n",
    " 'F': 'f',\n",
    " 'W': 'f',\n",
    " 'Y': 'f',\n",
    "                  'Z': 'c', 'B': 'c'}\n",
    "\n",
    "hp_mapping = {'A': 'h',\n",
    " 'F': 'h',\n",
    " 'G': 'h',\n",
    " 'I': 'h',\n",
    " 'L': 'h',\n",
    " 'M': 'h',\n",
    " 'P': 'h',\n",
    " 'V': 'h',\n",
    " 'W': 'h',\n",
    " 'Y': 'h',\n",
    " 'C': 'p',\n",
    " 'D': 'p',\n",
    " 'E': 'p',\n",
    " 'H': 'p',\n",
    " 'K': 'p',\n",
    " 'N': 'p',\n",
    " 'Q': 'p',\n",
    " 'R': 'p',\n",
    " 'S': 'p',\n",
    " 'T': 'p', 'Z': 'p', 'B': 'p'}"
   ]
  },
  {
   "cell_type": "code",
   "execution_count": 75,
   "id": "830aec5d-a64a-4871-8900-e79c5f63ac60",
   "metadata": {},
   "outputs": [
    {
     "data": {
      "text/plain": [
       "{'hp': {'h': 10, 'p': 12},\n",
       " 'dayhoff': {'a': 1, 'b': 5, 'c': 6, 'd': 3, 'e': 4, 'f': 3}}"
      ]
     },
     "execution_count": 75,
     "metadata": {},
     "output_type": "execute_result"
    }
   ],
   "source": [
    "alphabet_ksizes = {\"hp\": 24, \"dayhoff\": 17}\n",
    "\n",
    "n_kmers_original = []\n",
    "n_kmers_dayhoff = []\n",
    "n_kmers_hp = []\n",
    "\n",
    "\n",
    "def make_reverse_mapping_lengths(alphabet_mapping):\n",
    "    s = pd.Series(alphabet_mapping)\n",
    "    reverse_mapping = s.groupby(s).groups\n",
    "    reverse_mapping_lengths = {k: len(v) for k, v in reverse_mapping.items()}\n",
    "    return reverse_mapping_lengths\n",
    "\n",
    "\n",
    "alphabet_mappings = {\n",
    "    \"hp\": hp_mapping,\n",
    "    \"dayhoff\": dayhoff_mapping,\n",
    "}\n",
    "\n",
    "reverse_mappings_lengths = {\n",
    "    k: make_reverse_mapping_lengths(v) for k, v in alphabet_mappings.items()\n",
    "}\n",
    "reverse_mappings_lengths"
   ]
  },
  {
   "cell_type": "code",
   "execution_count": 78,
   "id": "5c659d05-8408-44b6-a779-2a8b824910fc",
   "metadata": {},
   "outputs": [
    {
     "name": "stderr",
     "output_type": "stream",
     "text": [
      "108571it [04:15, 425.21it/s]\n"
     ]
    }
   ],
   "source": [
    "n_kmers = {'original':[], 'hp': [], 'dayhoff': []}\n",
    "\n",
    "def count_implicit_synonyms(encoded_peptide, reverse_mapping_lengths):\n",
    "    n_possible_amino_acids = []\n",
    "    for letter in encoded_peptide:\n",
    "        n_possible_amino_acids.append(reverse_mapping_lengths[letter])\n",
    "    # print(n_possible_amino_acids)\n",
    "    return math.prod(n_possible_amino_acids)\n",
    "\n",
    "with screed.open(swissprot_reviewed) as records:\n",
    "    for i, record in tqdm(enumerate(records)):\n",
    "        kmers = compare_kmer_content.kmerize(record.sequence, ksize=17)\n",
    "        n_kmers['original'].append(len(kmers))\n",
    "        \n",
    "        for alphabet, ksize in alphabet_ksizes.items():\n",
    "            n_kmers[alphabet].append(0)\n",
    "            reverse_mapping = reverse_mappings_lengths[alphabet]\n",
    "            for kmer in kmers:\n",
    "                try:\n",
    "                    encoded = sequence_encodings.encode_peptide(kmer, alphabet)\n",
    "                    n_synonyms = count_implicit_synonyms(encoded, reverse_mapping)\n",
    "                    n_kmers[alphabet][i] += n_synonyms\n",
    "                except KeyError:\n",
    "                    # E.g. B or Z amino acids\n",
    "                    continue\n",
    "\n",
    "            \n",
    "\n",
    "\n"
   ]
  },
  {
   "cell_type": "code",
   "execution_count": 79,
   "id": "6da5575e-5a78-4fb2-9ba5-6edba974f90e",
   "metadata": {},
   "outputs": [
    {
     "data": {
      "text/html": [
       "<div>\n",
       "<style scoped>\n",
       "    .dataframe tbody tr th:only-of-type {\n",
       "        vertical-align: middle;\n",
       "    }\n",
       "\n",
       "    .dataframe tbody tr th {\n",
       "        vertical-align: top;\n",
       "    }\n",
       "\n",
       "    .dataframe thead th {\n",
       "        text-align: right;\n",
       "    }\n",
       "</style>\n",
       "<table border=\"1\" class=\"dataframe\">\n",
       "  <thead>\n",
       "    <tr style=\"text-align: right;\">\n",
       "      <th></th>\n",
       "      <th>original</th>\n",
       "      <th>hp</th>\n",
       "      <th>dayhoff</th>\n",
       "    </tr>\n",
       "  </thead>\n",
       "  <tbody>\n",
       "    <tr>\n",
       "      <th>0</th>\n",
       "      <td>259</td>\n",
       "      <td>124314353091477504000</td>\n",
       "      <td>13620937155840</td>\n",
       "    </tr>\n",
       "    <tr>\n",
       "      <th>1</th>\n",
       "      <td>207</td>\n",
       "      <td>114246756968693760000</td>\n",
       "      <td>27181480677660</td>\n",
       "    </tr>\n",
       "    <tr>\n",
       "      <th>2</th>\n",
       "      <td>58</td>\n",
       "      <td>19412369031168000000</td>\n",
       "      <td>1820774437500</td>\n",
       "    </tr>\n",
       "    <tr>\n",
       "      <th>3</th>\n",
       "      <td>58</td>\n",
       "      <td>21954070020096000000</td>\n",
       "      <td>1720440102000</td>\n",
       "    </tr>\n",
       "    <tr>\n",
       "      <th>4</th>\n",
       "      <td>489</td>\n",
       "      <td>213837660855336960000</td>\n",
       "      <td>33101732103840</td>\n",
       "    </tr>\n",
       "  </tbody>\n",
       "</table>\n",
       "</div>"
      ],
      "text/plain": [
       "   original                     hp         dayhoff\n",
       "0       259  124314353091477504000  13620937155840\n",
       "1       207  114246756968693760000  27181480677660\n",
       "2        58   19412369031168000000   1820774437500\n",
       "3        58   21954070020096000000   1720440102000\n",
       "4       489  213837660855336960000  33101732103840"
      ]
     },
     "execution_count": 79,
     "metadata": {},
     "output_type": "execute_result"
    }
   ],
   "source": [
    "n_kmers_df = pd.DataFrame(n_kmers)\n",
    "n_kmers_df.head()"
   ]
  },
  {
   "cell_type": "code",
   "execution_count": 86,
   "id": "f07e0a73-e2d0-470d-8d1b-1fd282ee4361",
   "metadata": {},
   "outputs": [
    {
     "data": {
      "text/html": [
       "<div>\n",
       "<style scoped>\n",
       "    .dataframe tbody tr th:only-of-type {\n",
       "        vertical-align: middle;\n",
       "    }\n",
       "\n",
       "    .dataframe tbody tr th {\n",
       "        vertical-align: top;\n",
       "    }\n",
       "\n",
       "    .dataframe thead th {\n",
       "        text-align: right;\n",
       "    }\n",
       "</style>\n",
       "<table border=\"1\" class=\"dataframe\">\n",
       "  <thead>\n",
       "    <tr style=\"text-align: right;\">\n",
       "      <th></th>\n",
       "      <th>original</th>\n",
       "      <th>hp</th>\n",
       "      <th>dayhoff</th>\n",
       "      <th>hp_degeneracy_rate</th>\n",
       "      <th>dayhoff_degeneracy_rate</th>\n",
       "    </tr>\n",
       "  </thead>\n",
       "  <tbody>\n",
       "    <tr>\n",
       "      <th>0</th>\n",
       "      <td>259</td>\n",
       "      <td>124314353091477504000</td>\n",
       "      <td>13620937155840</td>\n",
       "      <td>479978197264391936.0</td>\n",
       "      <td>5.259049e+10</td>\n",
       "    </tr>\n",
       "    <tr>\n",
       "      <th>1</th>\n",
       "      <td>207</td>\n",
       "      <td>114246756968693760000</td>\n",
       "      <td>27181480677660</td>\n",
       "      <td>551916700331853888.0</td>\n",
       "      <td>1.313115e+11</td>\n",
       "    </tr>\n",
       "    <tr>\n",
       "      <th>2</th>\n",
       "      <td>58</td>\n",
       "      <td>19412369031168000000</td>\n",
       "      <td>1820774437500</td>\n",
       "      <td>334696017778758592.0</td>\n",
       "      <td>3.139266e+10</td>\n",
       "    </tr>\n",
       "    <tr>\n",
       "      <th>3</th>\n",
       "      <td>58</td>\n",
       "      <td>21954070020096000000</td>\n",
       "      <td>1720440102000</td>\n",
       "      <td>378518448622344832.0</td>\n",
       "      <td>2.966276e+10</td>\n",
       "    </tr>\n",
       "    <tr>\n",
       "      <th>4</th>\n",
       "      <td>489</td>\n",
       "      <td>213837660855336960000</td>\n",
       "      <td>33101732103840</td>\n",
       "      <td>437295829970014208.0</td>\n",
       "      <td>6.769270e+10</td>\n",
       "    </tr>\n",
       "  </tbody>\n",
       "</table>\n",
       "</div>"
      ],
      "text/plain": [
       "   original  ... dayhoff_degeneracy_rate\n",
       "0       259  ...            5.259049e+10\n",
       "1       207  ...            1.313115e+11\n",
       "2        58  ...            3.139266e+10\n",
       "3        58  ...            2.966276e+10\n",
       "4       489  ...            6.769270e+10\n",
       "\n",
       "[5 rows x 5 columns]"
      ]
     },
     "execution_count": 86,
     "metadata": {},
     "output_type": "execute_result"
    }
   ],
   "source": [
    "n_kmers_df[\"hp_degeneracy_rate\"] = n_kmers_df.hp / n_kmers_df.original.replace(\n",
    "    0, np.nan\n",
    ")\n",
    "n_kmers_df[\"dayhoff_degeneracy_rate\"] = n_kmers_df.dayhoff / n_kmers_df.original.replace(\n",
    "    0, np.nan\n",
    ")\n",
    "\n",
    "n_kmers_df.head()"
   ]
  },
  {
   "cell_type": "code",
   "execution_count": 100,
   "id": "d4d41bc1-b031-47ca-94ce-9d0f71cac1ce",
   "metadata": {},
   "outputs": [
    {
     "name": "stderr",
     "output_type": "stream",
     "text": [
      "/Users/olgabot/opt/miniconda3/envs/botryllus/lib/python3.10/site-packages/seaborn/_decorators.py:36: FutureWarning: Pass the following variables as keyword args: x, y, data. From version 0.12, the only valid positional argument will be `data`, and passing other arguments without an explicit keyword will result in an error or misinterpretation.\n",
      "  warnings.warn(\n"
     ]
    },
    {
     "data": {
      "text/plain": [
       "<seaborn.axisgrid.JointGrid at 0x1a3531750>"
      ]
     },
     "execution_count": 100,
     "metadata": {},
     "output_type": "execute_result"
    },
    {
     "data": {
      "image/png": "[encoded data removed]",
      "text/plain": [
       "<Figure size 432x432 with 3 Axes>"
      ]
     },
     "metadata": {
      "needs_background": "light"
     },
     "output_type": "display_data"
    }
   ],
   "source": [
    "sns.jointplot('original', 'dayhoff', n_kmers_df)"
   ]
  },
  {
   "cell_type": "code",
   "execution_count": 98,
   "id": "0c473abd-ff48-4a81-bd6e-bde3e30cb883",
   "metadata": {},
   "outputs": [],
   "source": [
    "# n_kmers_df.sum().astype(int)"
   ]
  },
  {
   "cell_type": "code",
   "execution_count": 101,
   "id": "fc98b165-fb09-4863-90cd-f6a200b732c6",
   "metadata": {},
   "outputs": [
    {
     "data": {
      "text/plain": [
       "original                                     46182346\n",
       "hp                         23874777716724470927851520\n",
       "dayhoff                           6188296889534038455\n",
       "hp_degeneracy_rate          54318876842853606096896.0\n",
       "dayhoff_degeneracy_rate           12605791229363594.0\n",
       "dtype: object"
      ]
     },
     "execution_count": 101,
     "metadata": {},
     "output_type": "execute_result"
    }
   ],
   "source": [
    "n_kmers_df.sum()"
   ]
  },
  {
   "cell_type": "code",
   "execution_count": 102,
   "id": "882a2527-87f9-44c6-86f6-e42399fe9c2a",
   "metadata": {},
   "outputs": [
    {
     "data": {
      "text/plain": [
       "original                   4.253654e+02\n",
       "hp                         2.199001e+20\n",
       "dayhoff                    5.699770e+13\n",
       "hp_degeneracy_rate         5.100843e+17\n",
       "dayhoff_degeneracy_rate    1.183754e+11\n",
       "dtype: float64"
      ]
     },
     "execution_count": 102,
     "metadata": {},
     "output_type": "execute_result"
    }
   ],
   "source": [
    "n_kmers_df.mean()"
   ]
  },
  {
   "cell_type": "code",
   "execution_count": 92,
   "id": "f9de478e-2905-41f2-9d02-00b92349b2cc",
   "metadata": {},
   "outputs": [
    {
     "ename": "TypeError",
     "evalue": "loop of ufunc does not support argument 0 of type numpy.int64 which has no callable log10 method",
     "output_type": "error",
     "traceback": [
      "\u001b[0;31m---------------------------------------------------------------------------\u001b[0m",
      "\u001b[0;31mAttributeError\u001b[0m                            Traceback (most recent call last)",
      "\u001b[0;31mAttributeError\u001b[0m: 'numpy.int64' object has no attribute 'log10'",
      "\nThe above exception was the direct cause of the following exception:\n",
      "\u001b[0;31mTypeError\u001b[0m                                 Traceback (most recent call last)",
      "\u001b[0;32m/var/folders/7z/r1593ybs1sj2ks5zzl9vy8840000gn/T/ipykernel_23063/2479638256.py\u001b[0m in \u001b[0;36m<module>\u001b[0;34m\u001b[0m\n\u001b[0;32m----> 1\u001b[0;31m \u001b[0mnp\u001b[0m\u001b[0;34m.\u001b[0m\u001b[0mlog10\u001b[0m\u001b[0;34m(\u001b[0m\u001b[0mn_kmers_df\u001b[0m\u001b[0;34m.\u001b[0m\u001b[0msum\u001b[0m\u001b[0;34m(\u001b[0m\u001b[0;34m)\u001b[0m\u001b[0;34m.\u001b[0m\u001b[0mvalues\u001b[0m\u001b[0;34m)\u001b[0m\u001b[0;34m\u001b[0m\u001b[0;34m\u001b[0m\u001b[0m\n\u001b[0m",
      "\u001b[0;31mTypeError\u001b[0m: loop of ufunc does not support argument 0 of type numpy.int64 which has no callable log10 method"
     ]
    }
   ],
   "source": [
    "np.log10(n_kmers_df.sum().values)"
   ]
  },
  {
   "cell_type": "code",
   "execution_count": 87,
   "id": "28cfcf39-08ed-47a9-a652-133900ff436e",
   "metadata": {},
   "outputs": [
    {
     "data": {
      "text/html": [
       "<div>\n",
       "<style scoped>\n",
       "    .dataframe tbody tr th:only-of-type {\n",
       "        vertical-align: middle;\n",
       "    }\n",
       "\n",
       "    .dataframe tbody tr th {\n",
       "        vertical-align: top;\n",
       "    }\n",
       "\n",
       "    .dataframe thead th {\n",
       "        text-align: right;\n",
       "    }\n",
       "</style>\n",
       "<table border=\"1\" class=\"dataframe\">\n",
       "  <thead>\n",
       "    <tr style=\"text-align: right;\">\n",
       "      <th></th>\n",
       "      <th>original</th>\n",
       "      <th>dayhoff</th>\n",
       "      <th>dayhoff_degeneracy_rate</th>\n",
       "    </tr>\n",
       "  </thead>\n",
       "  <tbody>\n",
       "    <tr>\n",
       "      <th>count</th>\n",
       "      <td>108571.000000</td>\n",
       "      <td>1.085710e+05</td>\n",
       "      <td>1.064900e+05</td>\n",
       "    </tr>\n",
       "    <tr>\n",
       "      <th>mean</th>\n",
       "      <td>425.365392</td>\n",
       "      <td>5.699770e+13</td>\n",
       "      <td>1.183754e+11</td>\n",
       "    </tr>\n",
       "    <tr>\n",
       "      <th>std</th>\n",
       "      <td>477.707599</td>\n",
       "      <td>9.144389e+13</td>\n",
       "      <td>1.205618e+11</td>\n",
       "    </tr>\n",
       "    <tr>\n",
       "      <th>min</th>\n",
       "      <td>0.000000</td>\n",
       "      <td>0.000000e+00</td>\n",
       "      <td>0.000000e+00</td>\n",
       "    </tr>\n",
       "    <tr>\n",
       "      <th>25%</th>\n",
       "      <td>156.000000</td>\n",
       "      <td>1.228513e+13</td>\n",
       "      <td>6.459993e+10</td>\n",
       "    </tr>\n",
       "    <tr>\n",
       "      <th>50%</th>\n",
       "      <td>326.000000</td>\n",
       "      <td>3.015174e+13</td>\n",
       "      <td>9.462059e+10</td>\n",
       "    </tr>\n",
       "    <tr>\n",
       "      <th>75%</th>\n",
       "      <td>527.000000</td>\n",
       "      <td>6.568183e+13</td>\n",
       "      <td>1.417571e+11</td>\n",
       "    </tr>\n",
       "    <tr>\n",
       "      <th>max</th>\n",
       "      <td>35018.000000</td>\n",
       "      <td>4.103558e+15</td>\n",
       "      <td>1.410555e+13</td>\n",
       "    </tr>\n",
       "  </tbody>\n",
       "</table>\n",
       "</div>"
      ],
      "text/plain": [
       "            original       dayhoff  dayhoff_degeneracy_rate\n",
       "count  108571.000000  1.085710e+05             1.064900e+05\n",
       "mean      425.365392  5.699770e+13             1.183754e+11\n",
       "std       477.707599  9.144389e+13             1.205618e+11\n",
       "min         0.000000  0.000000e+00             0.000000e+00\n",
       "25%       156.000000  1.228513e+13             6.459993e+10\n",
       "50%       326.000000  3.015174e+13             9.462059e+10\n",
       "75%       527.000000  6.568183e+13             1.417571e+11\n",
       "max     35018.000000  4.103558e+15             1.410555e+13"
      ]
     },
     "execution_count": 87,
     "metadata": {},
     "output_type": "execute_result"
    }
   ],
   "source": [
    "n_kmers_df.describe()"
   ]
  },
  {
   "cell_type": "code",
   "execution_count": null,
   "id": "bcaff5e3-3fe5-476a-ba2d-4038af9bf6ec",
   "metadata": {},
   "outputs": [],
   "source": [
    "n_kmers[alphabet]"
   ]
  },
  {
   "cell_type": "code",
   "execution_count": 62,
   "id": "c09c07de-6c08-47d9-8250-53efa95bdcde",
   "metadata": {},
   "outputs": [
    {
     "data": {
      "text/plain": [
       "100000000000000000"
      ]
     },
     "execution_count": 62,
     "metadata": {},
     "output_type": "execute_result"
    }
   ],
   "source": [
    "n_synonyms"
   ]
  },
  {
   "cell_type": "code",
   "execution_count": 15,
   "id": "10eed036-d5a5-4030-b66a-d98ce59107f0",
   "metadata": {},
   "outputs": [
    {
     "data": {
      "text/plain": [
       "\u001b[0;31mSignature:\u001b[0m \u001b[0msequence_encodings\u001b[0m\u001b[0;34m.\u001b[0m\u001b[0mreencode\u001b[0m\u001b[0;34m(\u001b[0m\u001b[0mpeptide_sequence\u001b[0m\u001b[0;34m,\u001b[0m \u001b[0mmolecule\u001b[0m\u001b[0;34m)\u001b[0m\u001b[0;34m\u001b[0m\u001b[0;34m\u001b[0m\u001b[0m\n",
       "\u001b[0;31mDocstring:\u001b[0m <no docstring>\n",
       "\u001b[0;31mSource:\u001b[0m   \n",
       "\u001b[0;32mdef\u001b[0m \u001b[0mreencode\u001b[0m\u001b[0;34m(\u001b[0m\u001b[0mpeptide_sequence\u001b[0m\u001b[0;34m,\u001b[0m \u001b[0mmolecule\u001b[0m\u001b[0;34m)\u001b[0m\u001b[0;34m:\u001b[0m\u001b[0;34m\u001b[0m\n",
       "\u001b[0;34m\u001b[0m    \u001b[0mtranslator\u001b[0m \u001b[0;34m=\u001b[0m \u001b[0mPEPTIDE_ENCODINGS\u001b[0m\u001b[0;34m[\u001b[0m\u001b[0mmolecule\u001b[0m\u001b[0;34m]\u001b[0m\u001b[0;34m\u001b[0m\n",
       "\u001b[0;34m\u001b[0m    \u001b[0;32mreturn\u001b[0m \u001b[0mpeptide_sequence\u001b[0m\u001b[0;34m.\u001b[0m\u001b[0mtranslate\u001b[0m\u001b[0;34m(\u001b[0m\u001b[0mtranslator\u001b[0m\u001b[0;34m)\u001b[0m\u001b[0;34m\u001b[0m\u001b[0;34m\u001b[0m\u001b[0m\n",
       "\u001b[0;31mFile:\u001b[0m      ~/opt/miniconda3/envs/botryllus/lib/python3.10/site-packages/orpheum/sequence_encodings.py\n",
       "\u001b[0;31mType:\u001b[0m      function\n"
      ]
     },
     "metadata": {},
     "output_type": "display_data"
    }
   ],
   "source": [
    "sequence_encodings.reencode??"
   ]
  },
  {
   "cell_type": "code",
   "execution_count": 18,
   "id": "70b56586-b6bc-4d8c-9193-526554792e34",
   "metadata": {},
   "outputs": [],
   "source": [
    "# sequence_encodings.PEPTIDE_ENCODINGS"
   ]
  },
  {
   "cell_type": "code",
   "execution_count": 19,
   "id": "bd60fa90-a326-4292-8326-70452b72991a",
   "metadata": {},
   "outputs": [],
   "source": [
    "alphabet = 'dayhoff'"
   ]
  },
  {
   "cell_type": "code",
   "execution_count": 32,
   "id": "bc36e916-aa85-4350-a58c-590c2f8faa76",
   "metadata": {},
   "outputs": [],
   "source": [
    "# sequence_encodings.PEPTIDE_MAPPINGS"
   ]
  },
  {
   "cell_type": "code",
   "execution_count": 33,
   "id": "f077c0ac-4335-4b0a-ac3e-9a815f9bbe2a",
   "metadata": {},
   "outputs": [],
   "source": [
    "alphabet_mapping = sequence_encodings.PEPTIDE_MAPPINGS[alphabet]"
   ]
  },
  {
   "cell_type": "code",
   "execution_count": 34,
   "id": "d414941e-ebc1-4aca-939d-d6a8ac7068ac",
   "metadata": {},
   "outputs": [
    {
     "data": {
      "text/plain": [
       "{'C': 'a',\n",
       " 'A': 'b',\n",
       " 'G': 'b',\n",
       " 'P': 'b',\n",
       " 'S': 'b',\n",
       " 'T': 'b',\n",
       " 'D': 'c',\n",
       " 'E': 'c',\n",
       " 'N': 'c',\n",
       " 'Q': 'c',\n",
       " 'H': 'd',\n",
       " 'K': 'd',\n",
       " 'R': 'd',\n",
       " 'I': 'e',\n",
       " 'L': 'e',\n",
       " 'M': 'e',\n",
       " 'V': 'e',\n",
       " 'F': 'f',\n",
       " 'W': 'f',\n",
       " 'Y': 'f'}"
      ]
     },
     "execution_count": 34,
     "metadata": {},
     "output_type": "execute_result"
    }
   ],
   "source": [
    "alphabet_mapping"
   ]
  },
  {
   "cell_type": "code",
   "execution_count": 35,
   "id": "2a6c3098-05fd-4bf3-a6e5-4fa51146e112",
   "metadata": {},
   "outputs": [
    {
     "data": {
      "text/plain": [
       "{'a': ['C'], 'b': ['A', 'G', 'P', 'S', 'T'], 'c': ['D', 'E', 'N', 'Q'], 'd': ['H', 'K', 'R'], 'e': ['I', 'L', 'M', 'V'], 'f': ['F', 'W', 'Y']}"
      ]
     },
     "execution_count": 35,
     "metadata": {},
     "output_type": "execute_result"
    }
   ],
   "source": [
    "s = pd.Series(alphabet_mapping)\n",
    "s.groupby(s).groups"
   ]
  },
  {
   "cell_type": "code",
   "execution_count": 49,
   "id": "51d6a9f0-ff1a-42e7-8eba-62607412d309",
   "metadata": {},
   "outputs": [],
   "source": []
  },
  {
   "cell_type": "code",
   "execution_count": 54,
   "id": "5787851a-a760-462f-8cd6-0d4b44cddca7",
   "metadata": {},
   "outputs": [
    {
     "data": {
      "text/plain": [
       "'eeeecb'"
      ]
     },
     "execution_count": 54,
     "metadata": {},
     "output_type": "execute_result"
    }
   ],
   "source": [
    "alphabet = 'dayhoff'\n",
    "encoded = sequence_encodings.encode_peptide('LIVING', alphabet)\n",
    "encoded"
   ]
  },
  {
   "cell_type": "code",
   "execution_count": 55,
   "id": "a372d89e-7b3d-45da-93e0-0e1593d4192f",
   "metadata": {},
   "outputs": [
    {
     "name": "stdout",
     "output_type": "stream",
     "text": [
      "[4, 4, 4, 4, 4, 5]\n"
     ]
    },
    {
     "data": {
      "text/plain": [
       "5120"
      ]
     },
     "execution_count": 55,
     "metadata": {},
     "output_type": "execute_result"
    }
   ],
   "source": [
    "count_implicit_synonyms(encoded, alphabet)"
   ]
  },
  {
   "cell_type": "code",
   "execution_count": null,
   "id": "7fa79ca9-183e-47cb-9c09-7ce643cc38a2",
   "metadata": {},
   "outputs": [],
   "source": []
  },
  {
   "cell_type": "code",
   "execution_count": 13,
   "id": "ebcbe73f-4b13-4e96-9963-7bbed2717461",
   "metadata": {},
   "outputs": [
    {
     "data": {
      "text/plain": [
       "{'AADGQLHTLGDLLREVC',\n",
       " 'ADALKHKSQVINEMQKK',\n",
       " 'ADGQLHTLGDLLREVCP',\n",
       " 'AEPYYLLLPRVSYLTLV',\n",
       " 'AHFMSCMKEADALKHKS',\n",
       " 'AINRKLMEYPPEENGFR',\n",
       " 'ALKHKSQVINEMQKKDH',\n",
       " 'ALPWNITVHFKSFPEKD',\n",
       " 'APEDGEKRSQVMIHGIE',\n",
       " 'ASSSALPWNITVHFKSF',\n",
       " 'AVAPEDGEKRSQVMIHG',\n",
       " 'AVEAHFMSCMKEADALK',\n",
       " 'CFTLYQDEITEREAEPY',\n",
       " 'CMKEADALKHKSQVINE',\n",
       " 'CPSAVAPEDGEKRSQVM',\n",
       " 'CPSKDAVEAHFMSCMKE',\n",
       " 'DALKHKSQVINEMQKKD',\n",
       " 'DAVEAHFMSCMKEADAL',\n",
       " 'DDKDVLRDVWFGRIPTC',\n",
       " 'DEITEREAEPYYLLLPR',\n",
       " 'DGEKRSQVMIHGIEPML',\n",
       " 'DGQLHTLGDLLREVCPS',\n",
       " 'DHKQLWMGLQNDRFDQF',\n",
       " 'DKDVLRDVWFGRIPTCF',\n",
       " 'DKVKKHFQKVMRQEDVS',\n",
       " 'DLLASSSALPWNITVHF',\n",
       " 'DLLHCPSKDAVEAHFMS',\n",
       " 'DLLREVCPSAVAPEDGE',\n",
       " 'DQFWAINRKLMEYPPEE',\n",
       " 'DRFDQFWAINRKLMEYP',\n",
       " 'DVLRDVWFGRIPTCFTL',\n",
       " 'DVSEIWFEYEGTPLKWH',\n",
       " 'DVWFGRIPTCFTLYQDE',\n",
       " 'EADALKHKSQVINEMQK',\n",
       " 'EAEPYYLLLPRVSYLTL',\n",
       " 'EAHFMSCMKEADALKHK',\n",
       " 'EDGEKRSQVMIHGIEPM',\n",
       " 'EDVSEIWFEYEGTPLKW',\n",
       " 'EENGFRYIPFRIYQTTT',\n",
       " 'EGTPLKWHYPIGLLFDL',\n",
       " 'EHLSYPDNFLHISIVPQ',\n",
       " 'EITEREAEPYYLLLPRV',\n",
       " 'EIWFEYEGTPLKWHYPI',\n",
       " 'EKDLLHCPSKDAVEAHF',\n",
       " 'EKRSQVMIHGIEPMLET',\n",
       " 'EMQKKDHKQLWMGLQND',\n",
       " 'ENGFRYIPFRIYQTTTE',\n",
       " 'EPMLETPLQWLSEHLSY',\n",
       " 'EPYYLLLPRVSYLTLVT',\n",
       " 'EREAEPYYLLLPRVSYL',\n",
       " 'ERPFIQKLFRPVAADGQ',\n",
       " 'ETPLQWLSEHLSYPDNF',\n",
       " 'EVCPSAVAPEDGEKRSQ',\n",
       " 'EYEGTPLKWHYPIGLLF',\n",
       " 'EYPPEENGFRYIPFRIY',\n",
       " 'FDLLASSSALPWNITVH',\n",
       " 'FDQFWAINRKLMEYPPE',\n",
       " 'FEYEGTPLKWHYPIGLL',\n",
       " 'FGRIPTCFTLYQDEITE',\n",
       " 'FIQKLFRPVAADGQLHT',\n",
       " 'FKSFPEKDLLHCPSKDA',\n",
       " 'FMSCMKEADALKHKSQV',\n",
       " 'FPEKDLLHCPSKDAVEA',\n",
       " 'FQKVMRQEDVSEIWFEY',\n",
       " 'FRIYQTTTERPFIQKLF',\n",
       " 'FRPVAADGQLHTLGDLL',\n",
       " 'FRYIPFRIYQTTTERPF',\n",
       " 'FTLYQDEITEREAEPYY',\n",
       " 'FWAINRKLMEYPPEENG',\n",
       " 'GDLLREVCPSAVAPEDG',\n",
       " 'GEKRSQVMIHGIEPMLE',\n",
       " 'GFRYIPFRIYQTTTERP',\n",
       " 'GIEPMLETPLQWLSEHL',\n",
       " 'GLLFDLLASSSALPWNI',\n",
       " 'GLQNDRFDQFWAINRKL',\n",
       " 'GQLHTLGDLLREVCPSA',\n",
       " 'GRIPTCFTLYQDEITER',\n",
       " 'GTPLKWHYPIGLLFDLL',\n",
       " 'HCPSKDAVEAHFMSCMK',\n",
       " 'HFKSFPEKDLLHCPSKD',\n",
       " 'HFMSCMKEADALKHKSQ',\n",
       " 'HFQKVMRQEDVSEIWFE',\n",
       " 'HGIEPMLETPLQWLSEH',\n",
       " 'HKQLWMGLQNDRFDQFW',\n",
       " 'HKSQVINEMQKKDHKQL',\n",
       " 'HLSYPDNFLHISIVPQP',\n",
       " 'HTLGDLLREVCPSAVAP',\n",
       " 'HYPIGLLFDLLASSSAL',\n",
       " 'IEPMLETPLQWLSEHLS',\n",
       " 'IGLLFDLLASSSALPWN',\n",
       " 'IHGIEPMLETPLQWLSE',\n",
       " 'INEMQKKDHKQLWMGLQ',\n",
       " 'INRKLMEYPPEENGFRY',\n",
       " 'IPFRIYQTTTERPFIQK',\n",
       " 'IPTCFTLYQDEITEREA',\n",
       " 'IQKLFRPVAADGQLHTL',\n",
       " 'ITEREAEPYYLLLPRVS',\n",
       " 'ITVHFKSFPEKDLLHCP',\n",
       " 'IWFEYEGTPLKWHYPIG',\n",
       " 'IYQTTTERPFIQKLFRP',\n",
       " 'KDAVEAHFMSCMKEADA',\n",
       " 'KDHKQLWMGLQNDRFDQ',\n",
       " 'KDLLHCPSKDAVEAHFM',\n",
       " 'KDVLRDVWFGRIPTCFT',\n",
       " 'KEADALKHKSQVINEMQ',\n",
       " 'KHFQKVMRQEDVSEIWF',\n",
       " 'KHKSQVINEMQKKDHKQ',\n",
       " 'KKDHKQLWMGLQNDRFD',\n",
       " 'KKHFQKVMRQEDVSEIW',\n",
       " 'KLFRPVAADGQLHTLGD',\n",
       " 'KLMEYPPEENGFRYIPF',\n",
       " 'KQLWMGLQNDRFDQFWA',\n",
       " 'KRSQVMIHGIEPMLETP',\n",
       " 'KSFPEKDLLHCPSKDAV',\n",
       " 'KSQVINEMQKKDHKQLW',\n",
       " 'KVKKHFQKVMRQEDVSE',\n",
       " 'KVMRQEDVSEIWFEYEG',\n",
       " 'KWHYPIGLLFDLLASSS',\n",
       " 'LASSSALPWNITVHFKS',\n",
       " 'LETPLQWLSEHLSYPDN',\n",
       " 'LFDLLASSSALPWNITV',\n",
       " 'LFRPVAADGQLHTLGDL',\n",
       " 'LGDLLREVCPSAVAPED',\n",
       " 'LHCPSKDAVEAHFMSCM',\n",
       " 'LHTLGDLLREVCPSAVA',\n",
       " 'LKHKSQVINEMQKKDHK',\n",
       " 'LKWHYPIGLLFDLLASS',\n",
       " 'LLASSSALPWNITVHFK',\n",
       " 'LLFDLLASSSALPWNIT',\n",
       " 'LLHCPSKDAVEAHFMSC',\n",
       " 'LLLPRVSYLTLVTDKVK',\n",
       " 'LLPRVSYLTLVTDKVKK',\n",
       " 'LLREVCPSAVAPEDGEK',\n",
       " 'LMEYPPEENGFRYIPFR',\n",
       " 'LPRVSYLTLVTDKVKKH',\n",
       " 'LPWNITVHFKSFPEKDL',\n",
       " 'LQNDRFDQFWAINRKLM',\n",
       " 'LQWLSEHLSYPDNFLHI',\n",
       " 'LRDVWFGRIPTCFTLYQ',\n",
       " 'LREVCPSAVAPEDGEKR',\n",
       " 'LSEHLSYPDNFLHISIV',\n",
       " 'LSYPDNFLHISIVPQPT',\n",
       " 'LTLVTDKVKKHFQKVMR',\n",
       " 'LVTDKVKKHFQKVMRQE',\n",
       " 'LWMGLQNDRFDQFWAIN',\n",
       " 'LYQDEITEREAEPYYLL',\n",
       " 'MEYPPEENGFRYIPFRI',\n",
       " 'MGLQNDRFDQFWAINRK',\n",
       " 'MIHGIEPMLETPLQWLS',\n",
       " 'MKEADALKHKSQVINEM',\n",
       " 'MLETPLQWLSEHLSYPD',\n",
       " 'MQKKDHKQLWMGLQNDR',\n",
       " 'MRQEDVSEIWFEYEGTP',\n",
       " 'MSCMKEADALKHKSQVI',\n",
       " 'MTDDKDVLRDVWFGRIP',\n",
       " 'NDRFDQFWAINRKLMEY',\n",
       " 'NEMQKKDHKQLWMGLQN',\n",
       " 'NGFRYIPFRIYQTTTER',\n",
       " 'NITVHFKSFPEKDLLHC',\n",
       " 'NRKLMEYPPEENGFRYI',\n",
       " 'PEDGEKRSQVMIHGIEP',\n",
       " 'PEENGFRYIPFRIYQTT',\n",
       " 'PEKDLLHCPSKDAVEAH',\n",
       " 'PFIQKLFRPVAADGQLH',\n",
       " 'PFRIYQTTTERPFIQKL',\n",
       " 'PIGLLFDLLASSSALPW',\n",
       " 'PLKWHYPIGLLFDLLAS',\n",
       " 'PLQWLSEHLSYPDNFLH',\n",
       " 'PMLETPLQWLSEHLSYP',\n",
       " 'PPEENGFRYIPFRIYQT',\n",
       " 'PRVSYLTLVTDKVKKHF',\n",
       " 'PSAVAPEDGEKRSQVMI',\n",
       " 'PSKDAVEAHFMSCMKEA',\n",
       " 'PTCFTLYQDEITEREAE',\n",
       " 'PVAADGQLHTLGDLLRE',\n",
       " 'PWNITVHFKSFPEKDLL',\n",
       " 'PYYLLLPRVSYLTLVTD',\n",
       " 'QDEITEREAEPYYLLLP',\n",
       " 'QEDVSEIWFEYEGTPLK',\n",
       " 'QFWAINRKLMEYPPEEN',\n",
       " 'QKKDHKQLWMGLQNDRF',\n",
       " 'QKLFRPVAADGQLHTLG',\n",
       " 'QKVMRQEDVSEIWFEYE',\n",
       " 'QLHTLGDLLREVCPSAV',\n",
       " 'QLWMGLQNDRFDQFWAI',\n",
       " 'QNDRFDQFWAINRKLME',\n",
       " 'QTTTERPFIQKLFRPVA',\n",
       " 'QVINEMQKKDHKQLWMG',\n",
       " 'QVMIHGIEPMLETPLQW',\n",
       " 'QWLSEHLSYPDNFLHIS',\n",
       " 'RDVWFGRIPTCFTLYQD',\n",
       " 'REAEPYYLLLPRVSYLT',\n",
       " 'REVCPSAVAPEDGEKRS',\n",
       " 'RFDQFWAINRKLMEYPP',\n",
       " 'RIPTCFTLYQDEITERE',\n",
       " 'RIYQTTTERPFIQKLFR',\n",
       " 'RKLMEYPPEENGFRYIP',\n",
       " 'RPFIQKLFRPVAADGQL',\n",
       " 'RPVAADGQLHTLGDLLR',\n",
       " 'RQEDVSEIWFEYEGTPL',\n",
       " 'RSQVMIHGIEPMLETPL',\n",
       " 'RVSYLTLVTDKVKKHFQ',\n",
       " 'RYIPFRIYQTTTERPFI',\n",
       " 'SALPWNITVHFKSFPEK',\n",
       " 'SAVAPEDGEKRSQVMIH',\n",
       " 'SCMKEADALKHKSQVIN',\n",
       " 'SEHLSYPDNFLHISIVP',\n",
       " 'SEIWFEYEGTPLKWHYP',\n",
       " 'SFPEKDLLHCPSKDAVE',\n",
       " 'SKDAVEAHFMSCMKEAD',\n",
       " 'SQVINEMQKKDHKQLWM',\n",
       " 'SQVMIHGIEPMLETPLQ',\n",
       " 'SSALPWNITVHFKSFPE',\n",
       " 'SSSALPWNITVHFKSFP',\n",
       " 'SYLTLVTDKVKKHFQKV',\n",
       " 'SYPDNFLHISIVPQPTD',\n",
       " 'TCFTLYQDEITEREAEP',\n",
       " 'TDDKDVLRDVWFGRIPT',\n",
       " 'TDKVKKHFQKVMRQEDV',\n",
       " 'TEREAEPYYLLLPRVSY',\n",
       " 'TERPFIQKLFRPVAADG',\n",
       " 'TLGDLLREVCPSAVAPE',\n",
       " 'TLVTDKVKKHFQKVMRQ',\n",
       " 'TLYQDEITEREAEPYYL',\n",
       " 'TPLKWHYPIGLLFDLLA',\n",
       " 'TPLQWLSEHLSYPDNFL',\n",
       " 'TTERPFIQKLFRPVAAD',\n",
       " 'TTTERPFIQKLFRPVAA',\n",
       " 'TVHFKSFPEKDLLHCPS',\n",
       " 'VAADGQLHTLGDLLREV',\n",
       " 'VAPEDGEKRSQVMIHGI',\n",
       " 'VCPSAVAPEDGEKRSQV',\n",
       " 'VEAHFMSCMKEADALKH',\n",
       " 'VHFKSFPEKDLLHCPSK',\n",
       " 'VINEMQKKDHKQLWMGL',\n",
       " 'VKKHFQKVMRQEDVSEI',\n",
       " 'VLRDVWFGRIPTCFTLY',\n",
       " 'VMIHGIEPMLETPLQWL',\n",
       " 'VMRQEDVSEIWFEYEGT',\n",
       " 'VSEIWFEYEGTPLKWHY',\n",
       " 'VSYLTLVTDKVKKHFQK',\n",
       " 'VTDKVKKHFQKVMRQED',\n",
       " 'VWFGRIPTCFTLYQDEI',\n",
       " 'WAINRKLMEYPPEENGF',\n",
       " 'WFEYEGTPLKWHYPIGL',\n",
       " 'WFGRIPTCFTLYQDEIT',\n",
       " 'WHYPIGLLFDLLASSSA',\n",
       " 'WLSEHLSYPDNFLHISI',\n",
       " 'WMGLQNDRFDQFWAINR',\n",
       " 'WNITVHFKSFPEKDLLH',\n",
       " 'YEGTPLKWHYPIGLLFD',\n",
       " 'YIPFRIYQTTTERPFIQ',\n",
       " 'YLLLPRVSYLTLVTDKV',\n",
       " 'YLTLVTDKVKKHFQKVM',\n",
       " 'YPIGLLFDLLASSSALP',\n",
       " 'YPPEENGFRYIPFRIYQ',\n",
       " 'YQDEITEREAEPYYLLL',\n",
       " 'YQTTTERPFIQKLFRPV',\n",
       " 'YYLLLPRVSYLTLVTDK'}"
      ]
     },
     "execution_count": 13,
     "metadata": {},
     "output_type": "execute_result"
    }
   ],
   "source": []
  },
  {
   "cell_type": "code",
   "execution_count": null,
   "id": "8068198d-fa5d-4adc-b726-6fa13021339e",
   "metadata": {},
   "outputs": [],
   "source": []
  }
 ],
 "metadata": {
  "kernelspec": {
   "display_name": "Python 3 (ipykernel)",
   "language": "python",
   "name": "python3"
  },
  "language_info": {
   "codemirror_mode": {
    "name": "ipython",
    "version": 3
   },
   "file_extension": ".py",
   "mimetype": "text/x-python",
   "name": "python",
   "nbconvert_exporter": "python",
   "pygments_lexer": "ipython3",
   "version": "3.11.5"
  }
 },
 "nbformat": 4,
 "nbformat_minor": 5
}
