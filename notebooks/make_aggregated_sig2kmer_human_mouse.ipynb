{
 "cells": [
  {
   "cell_type": "code",
   "execution_count": 3,
   "id": "c51a31a1-ba20-4469-b9e4-0f78c001c60b",
   "metadata": {},
   "outputs": [],
   "source": [
    "import os"
   ]
  },
  {
   "cell_type": "markdown",
   "id": "24f1ea86-e70d-40d3-933b-1ecbb73eb311",
   "metadata": {},
   "source": [
    "# Get signature files"
   ]
  },
  {
   "cell_type": "code",
   "execution_count": 4,
   "id": "30dc53dd-c60a-4f1d-89a0-0337ee472a45",
   "metadata": {},
   "outputs": [],
   "source": [
    "botryllus_dir = '/Users/olgabot/botryllus/data/botryllus-proteins/'\n",
    "\n",
    "human_gencode_dir = '/Users/olgabot/botryllus/data/gencode/v38/'\n",
    "mouse_gencode_dir = '/Users/olgabot/botryllus/data/gencode/M28/'\n",
    "\n",
    "## set signature files\n",
    "\n",
    "human_sigfile = os.path.join(\n",
    "    human_gencode_dir, \"gencode.v38.basic.annotation.protein.fa.hp.k24.scale5.sig\"\n",
    ")\n",
    "mouse_sigfile = os.path.join(\n",
    "    mouse_gencode_dir, \"gencode.vM28.basic.annotation.protein.fa.hp.k24.scale5.sig\"\n",
    ")\n",
    "\n",
    "botryllus_sigfile = os.path.join(botryllus_dir, 'Bs_proteins.fa.hp.k24.scale5.sig')"
   ]
  },
  {
   "cell_type": "markdown",
   "id": "64e4cd1f-d90c-415c-8e96-8d0f303937a1",
   "metadata": {},
   "source": [
    "## Create non-singleton sourmash sketch"
   ]
  },
  {
   "cell_type": "code",
   "execution_count": 5,
   "id": "b72f40db-867a-48fd-9a61-92092d65eeaa",
   "metadata": {},
   "outputs": [],
   "source": [
    "human_fasta = os.path.join(human_gencode_dir, \"gencode.v38.basic.annotation.protein.fa\")\n",
    "human_sigfile_aggregated = os.path.join(\n",
    "    human_gencode_dir,\n",
    "    \"gencode.v38.basic.annotation.protein.fa.hp.k24.scale5.aggregated.sig\",\n",
    ")\n",
    "# Took ~9 minutes\n",
    "# ! time sourmash sketch protein --output $human_sigfile_aggregated --hp -p k=24,scaled=5,abund $human_fasta"
   ]
  },
  {
   "cell_type": "code",
   "execution_count": 18,
   "id": "32e2b622-e793-492f-b25e-e4a4fef403c6",
   "metadata": {},
   "outputs": [],
   "source": [
    "human_kmers = os.path.join(\n",
    "    human_gencode_dir,\n",
    "    \"gencode.v38.basic.annotation.protein.fa.hp.k24.scale5.aggregated.kmers.csv\",\n",
    ")"
   ]
  },
  {
   "cell_type": "code",
   "execution_count": 19,
   "id": "aa56ad26-b091-4d08-8f0b-4474941878b8",
   "metadata": {},
   "outputs": [
    {
     "name": "stdout",
     "output_type": "stream",
     "text": [
      "/Users/olgabot/opt/miniconda3/envs/botryllus/bin/python  --output-kmers   --h  6392.49s user 35.94s system 99% cpu 1:47:46.22 totalc.annotation.protein.fa\n"
     ]
    }
   ],
   "source": [
    "! time /Users/olgabot/opt/miniconda3/envs/botryllus/bin/python \\\n",
    "    ~/code/botryllus-mhc/notebooks/sig2kmer.py \\\n",
    "    --output-kmers $human_kmers \\\n",
    "    --input-is-protein --hp -k 72 --no-dna $human_sigfile_aggregated $human_fasta"
   ]
  },
  {
   "cell_type": "markdown",
   "id": "5fc169cd-553e-4138-ad14-b8f6558ed1d8",
   "metadata": {},
   "source": [
    "### Make sure the kmer file has output"
   ]
  },
  {
   "cell_type": "code",
   "execution_count": 21,
   "id": "c23fb585-4f7e-4c6a-9839-445f0c063717",
   "metadata": {},
   "outputs": [
    {
     "name": "stdout",
     "output_type": "stream",
     "text": [
      "-rw-r--r--  1 olgabot  staff   3.1G Nov 11 10:32 /Users/olgabot/botryllus/data/gencode/v38/gencode.v38.basic.annotation.protein.fa.hp.k24.scale5.aggregated.kmers.csv\n"
     ]
    }
   ],
   "source": [
    "ls -lha $human_kmers\n"
   ]
  },
  {
   "cell_type": "code",
   "execution_count": null,
   "id": "5e7b8cc0-8d4b-4983-b8b6-09967155f79d",
   "metadata": {},
   "outputs": [],
   "source": []
  }
 ],
 "metadata": {
  "kernelspec": {
   "display_name": "Python [conda env:botryllus]",
   "language": "python",
   "name": "conda-env-botryllus-py"
  },
  "language_info": {
   "codemirror_mode": {
    "name": "ipython",
    "version": 3
   },
   "file_extension": ".py",
   "mimetype": "text/x-python",
   "name": "python",
   "nbconvert_exporter": "python",
   "pygments_lexer": "ipython3",
   "version": "3.10.0"
  }
 },
 "nbformat": 4,
 "nbformat_minor": 5
}
