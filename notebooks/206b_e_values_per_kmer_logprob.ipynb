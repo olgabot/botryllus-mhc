{
 "cells": [
  {
   "cell_type": "markdown",
   "id": "913feaae-5220-43a7-a5a1-9e2d860829f2",
   "metadata": {
    "tags": []
   },
   "source": [
    "# Imports and data loading"
   ]
  },
  {
   "cell_type": "code",
   "execution_count": 53,
   "id": "3828732d-1c2c-496e-b8ee-1c506aadf32f",
   "metadata": {},
   "outputs": [
    {
     "name": "stdout",
     "output_type": "stream",
     "text": [
      "The autoreload extension is already loaded. To reload it, use:\n",
      "  %reload_ext autoreload\n"
     ]
    }
   ],
   "source": [
    "import sourmash\n",
    "import screed\n",
    "import seaborn as sns\n",
    "import os\n",
    "import re\n",
    "import pandas as pd\n",
    "import numpy as np\n",
    "import glob\n",
    "from tqdm import tqdm\n",
    "from joblib import Parallel, delayed\n",
    "import matplotlib.pyplot as plt\n",
    "from tqdm.auto import tqdm\n",
    "from scipy.special import logsumexp\n",
    "tqdm.pandas()\n",
    "\n",
    "\n",
    "from kmer_utils import get_encoded_kmer_hashvals\n",
    "\n",
    "%load_ext autoreload\n",
    "%autoreload 2"
   ]
  },
  {
   "cell_type": "code",
   "execution_count": 2,
   "id": "de226719-910b-4bde-9380-080a702b2b5b",
   "metadata": {},
   "outputs": [],
   "source": [
    "outdir = '/Users/olgabot/botryllus/adhoc-analysis/2022-apr--gather-botryllus-in-human-mouse-with-kmers/'\n",
    "# ! mkdir $outdir"
   ]
  },
  {
   "cell_type": "code",
   "execution_count": 4,
   "id": "89b63580-3642-4bf2-8793-2b130221e9a6",
   "metadata": {},
   "outputs": [
    {
     "name": "stdout",
     "output_type": "stream",
     "text": [
      "CPU times: user 36 s, sys: 50.5 s, total: 1min 26s\n",
      "Wall time: 1min 29s\n"
     ]
    }
   ],
   "source": [
    "%%time\n",
    "\n",
    "gather_results = pd.read_parquet(\n",
    "    os.path.join(outdir, \"botryllus_gather_mouse_human_results.parquet\")\n",
    ")"
   ]
  },
  {
   "cell_type": "markdown",
   "id": "34adfa2b-1e3d-47ed-b069-e97507e11168",
   "metadata": {},
   "source": [
    "### Subset to only human gather results"
   ]
  },
  {
   "cell_type": "code",
   "execution_count": 5,
   "id": "ac3fa370-3127-415a-a004-74e60d6c1f72",
   "metadata": {},
   "outputs": [
    {
     "data": {
      "text/html": [
       "<div>\n",
       "<style scoped>\n",
       "    .dataframe tbody tr th:only-of-type {\n",
       "        vertical-align: middle;\n",
       "    }\n",
       "\n",
       "    .dataframe tbody tr th {\n",
       "        vertical-align: top;\n",
       "    }\n",
       "\n",
       "    .dataframe thead th {\n",
       "        text-align: right;\n",
       "    }\n",
       "</style>\n",
       "<table border=\"1\" class=\"dataframe\">\n",
       "  <thead>\n",
       "    <tr style=\"text-align: right;\">\n",
       "      <th></th>\n",
       "      <th>i_query</th>\n",
       "      <th>kmer_query</th>\n",
       "      <th>kmer_hp</th>\n",
       "      <th>hashval</th>\n",
       "      <th>name_query</th>\n",
       "      <th>i_found</th>\n",
       "      <th>kmer_found</th>\n",
       "      <th>name_found</th>\n",
       "      <th>n_kmers</th>\n",
       "      <th>intersect_bp</th>\n",
       "      <th>containment</th>\n",
       "      <th>symbol</th>\n",
       "      <th>species</th>\n",
       "      <th>found_i</th>\n",
       "      <th>homolog_group</th>\n",
       "      <th>genomic_coord</th>\n",
       "      <th>all_homologs_found</th>\n",
       "      <th>transcript_id</th>\n",
       "    </tr>\n",
       "  </thead>\n",
       "  <tbody>\n",
       "    <tr>\n",
       "      <th>0</th>\n",
       "      <td>150</td>\n",
       "      <td>YSFTLKDDTGEVVLDQWNKASLVP</td>\n",
       "      <td>hphphpppphphhhpphpphphhh</td>\n",
       "      <td>3018107519398277786</td>\n",
       "      <td>g25414.t1 frame:1</td>\n",
       "      <td>1238</td>\n",
       "      <td>PKISLRRSSLKYLGCRYSEIKPYG</td>\n",
       "      <td>ENST00000361833.7 gene_id=ENSG00000152092.16;t...</td>\n",
       "      <td>3</td>\n",
       "      <td>15</td>\n",
       "      <td>0.011583</td>\n",
       "      <td>ASTN1</td>\n",
       "      <td>human</td>\n",
       "      <td>0</td>\n",
       "      <td>ASTN1---Astn1</td>\n",
       "      <td>Chr1:176855118-177164904(-)</td>\n",
       "      <td>False</td>\n",
       "      <td>ENST00000361833.7</td>\n",
       "    </tr>\n",
       "    <tr>\n",
       "      <th>1</th>\n",
       "      <td>151</td>\n",
       "      <td>SFTLKDDTGEVVLDQWNKASLVPG</td>\n",
       "      <td>phphpppphphhhpphpphphhhh</td>\n",
       "      <td>1234479950528962468</td>\n",
       "      <td>g25414.t1 frame:1</td>\n",
       "      <td>1239</td>\n",
       "      <td>KISLRRSSLKYLGCRYSEIKPYGL</td>\n",
       "      <td>ENST00000361833.7 gene_id=ENSG00000152092.16;t...</td>\n",
       "      <td>3</td>\n",
       "      <td>15</td>\n",
       "      <td>0.011583</td>\n",
       "      <td>ASTN1</td>\n",
       "      <td>human</td>\n",
       "      <td>0</td>\n",
       "      <td>ASTN1---Astn1</td>\n",
       "      <td>Chr1:176855118-177164904(-)</td>\n",
       "      <td>False</td>\n",
       "      <td>ENST00000361833.7</td>\n",
       "    </tr>\n",
       "    <tr>\n",
       "      <th>2</th>\n",
       "      <td>152</td>\n",
       "      <td>FTLKDDTGEVVLDQWNKASLVPGK</td>\n",
       "      <td>hphpppphphhhpphpphphhhhp</td>\n",
       "      <td>2563348012698350512</td>\n",
       "      <td>g25414.t1 frame:1</td>\n",
       "      <td>1240</td>\n",
       "      <td>ISLRRSSLKYLGCRYSEIKPYGLD</td>\n",
       "      <td>ENST00000361833.7 gene_id=ENSG00000152092.16;t...</td>\n",
       "      <td>3</td>\n",
       "      <td>15</td>\n",
       "      <td>0.011583</td>\n",
       "      <td>ASTN1</td>\n",
       "      <td>human</td>\n",
       "      <td>0</td>\n",
       "      <td>ASTN1---Astn1</td>\n",
       "      <td>Chr1:176855118-177164904(-)</td>\n",
       "      <td>False</td>\n",
       "      <td>ENST00000361833.7</td>\n",
       "    </tr>\n",
       "    <tr>\n",
       "      <th>3</th>\n",
       "      <td>15</td>\n",
       "      <td>NFHVGVKFVSSPKRGGVSQYLKGI</td>\n",
       "      <td>phphhhphhpphpphhhpphhphh</td>\n",
       "      <td>1046426320533182525</td>\n",
       "      <td>g25414.t1 frame:1</td>\n",
       "      <td>576</td>\n",
       "      <td>SVQPIVKLVSTATTAPPSTAPSGP</td>\n",
       "      <td>ENST00000453269.7 gene_id=ENSG00000106290.15;t...</td>\n",
       "      <td>2</td>\n",
       "      <td>10</td>\n",
       "      <td>0.015038</td>\n",
       "      <td>TAF6</td>\n",
       "      <td>human</td>\n",
       "      <td>1</td>\n",
       "      <td>TAF6---Taf6</td>\n",
       "      <td>Chr7:100107070-100119858(-)</td>\n",
       "      <td>False</td>\n",
       "      <td>ENST00000453269.7</td>\n",
       "    </tr>\n",
       "    <tr>\n",
       "      <th>4</th>\n",
       "      <td>16</td>\n",
       "      <td>FHVGVKFVSSPKRGGVSQYLKGIF</td>\n",
       "      <td>hphhhphhpphpphhhpphhphhh</td>\n",
       "      <td>2154375574397474662</td>\n",
       "      <td>g25414.t1 frame:1</td>\n",
       "      <td>577</td>\n",
       "      <td>VQPIVKLVSTATTAPPSTAPSGPG</td>\n",
       "      <td>ENST00000453269.7 gene_id=ENSG00000106290.15;t...</td>\n",
       "      <td>2</td>\n",
       "      <td>10</td>\n",
       "      <td>0.015038</td>\n",
       "      <td>TAF6</td>\n",
       "      <td>human</td>\n",
       "      <td>1</td>\n",
       "      <td>TAF6---Taf6</td>\n",
       "      <td>Chr7:100107070-100119858(-)</td>\n",
       "      <td>False</td>\n",
       "      <td>ENST00000453269.7</td>\n",
       "    </tr>\n",
       "    <tr>\n",
       "      <th>...</th>\n",
       "      <td>...</td>\n",
       "      <td>...</td>\n",
       "      <td>...</td>\n",
       "      <td>...</td>\n",
       "      <td>...</td>\n",
       "      <td>...</td>\n",
       "      <td>...</td>\n",
       "      <td>...</td>\n",
       "      <td>...</td>\n",
       "      <td>...</td>\n",
       "      <td>...</td>\n",
       "      <td>...</td>\n",
       "      <td>...</td>\n",
       "      <td>...</td>\n",
       "      <td>...</td>\n",
       "      <td>...</td>\n",
       "      <td>...</td>\n",
       "      <td>...</td>\n",
       "    </tr>\n",
       "    <tr>\n",
       "      <th>3</th>\n",
       "      <td>19</td>\n",
       "      <td>NSWIFQDSVVIDTNDIAAWLRNKL</td>\n",
       "      <td>pphhhppphhhpppphhhhhppph</td>\n",
       "      <td>2741191184754143198</td>\n",
       "      <td>g5107.t1 frame:1</td>\n",
       "      <td>355</td>\n",
       "      <td>ETLILDSNPLACDCRLLWVFRRRW</td>\n",
       "      <td>ENST00000561030.5 gene_id=ENSG00000169783.13;t...</td>\n",
       "      <td>3</td>\n",
       "      <td>15</td>\n",
       "      <td>0.015267</td>\n",
       "      <td>LINGO1</td>\n",
       "      <td>human</td>\n",
       "      <td>1</td>\n",
       "      <td>LINGO1---Lingo1</td>\n",
       "      <td>Chr15:77613024-77820900(-)</td>\n",
       "      <td>True</td>\n",
       "      <td>ENST00000561030.5</td>\n",
       "    </tr>\n",
       "    <tr>\n",
       "      <th>4</th>\n",
       "      <td>20</td>\n",
       "      <td>SWIFQDSVVIDTNDIAAWLRNKLN</td>\n",
       "      <td>phhhppphhhpppphhhhhppphp</td>\n",
       "      <td>312706106409923617</td>\n",
       "      <td>g5107.t1 frame:1</td>\n",
       "      <td>356</td>\n",
       "      <td>TLILDSNPLACDCRLLWVFRRRWR</td>\n",
       "      <td>ENST00000561030.5 gene_id=ENSG00000169783.13;t...</td>\n",
       "      <td>3</td>\n",
       "      <td>15</td>\n",
       "      <td>0.015267</td>\n",
       "      <td>LINGO1</td>\n",
       "      <td>human</td>\n",
       "      <td>1</td>\n",
       "      <td>LINGO1---Lingo1</td>\n",
       "      <td>Chr15:77613024-77820900(-)</td>\n",
       "      <td>True</td>\n",
       "      <td>ENST00000561030.5</td>\n",
       "    </tr>\n",
       "    <tr>\n",
       "      <th>5</th>\n",
       "      <td>21</td>\n",
       "      <td>WIFQDSVVIDTNDIAAWLRNKLNV</td>\n",
       "      <td>hhhppphhhpppphhhhhppphph</td>\n",
       "      <td>5902042603803971015</td>\n",
       "      <td>g5107.t1 frame:1</td>\n",
       "      <td>357</td>\n",
       "      <td>LILDSNPLACDCRLLWVFRRRWRL</td>\n",
       "      <td>ENST00000561030.5 gene_id=ENSG00000169783.13;t...</td>\n",
       "      <td>3</td>\n",
       "      <td>15</td>\n",
       "      <td>0.015267</td>\n",
       "      <td>LINGO1</td>\n",
       "      <td>human</td>\n",
       "      <td>1</td>\n",
       "      <td>LINGO1---Lingo1</td>\n",
       "      <td>Chr15:77613024-77820900(-)</td>\n",
       "      <td>True</td>\n",
       "      <td>ENST00000561030.5</td>\n",
       "    </tr>\n",
       "    <tr>\n",
       "      <th>6</th>\n",
       "      <td>57</td>\n",
       "      <td>HLFSDFFRHVRFRSFHDMALSRLR</td>\n",
       "      <td>phhpphhpphphpphpphhhpphp</td>\n",
       "      <td>2353047329972989606</td>\n",
       "      <td>g5107.t1 frame:1</td>\n",
       "      <td>230</td>\n",
       "      <td>KGVDTFLRRPNFTRATTVPLQTLS</td>\n",
       "      <td>ENST00000261584.9 gene_id=ENSG00000083093.10;t...</td>\n",
       "      <td>2</td>\n",
       "      <td>10</td>\n",
       "      <td>0.007519</td>\n",
       "      <td>PALB2</td>\n",
       "      <td>human</td>\n",
       "      <td>2</td>\n",
       "      <td>PALB2---Palb2</td>\n",
       "      <td>Chr16:23603162-23641357(-)</td>\n",
       "      <td>False</td>\n",
       "      <td>ENST00000261584.9</td>\n",
       "    </tr>\n",
       "    <tr>\n",
       "      <th>7</th>\n",
       "      <td>58</td>\n",
       "      <td>LFSDFFRHVRFRSFHDMALSRLRN</td>\n",
       "      <td>hhpphhpphphpphpphhhpphpp</td>\n",
       "      <td>1384586072134841031</td>\n",
       "      <td>g5107.t1 frame:1</td>\n",
       "      <td>231</td>\n",
       "      <td>GVDTFLRRPNFTRATTVPLQTLSD</td>\n",
       "      <td>ENST00000261584.9 gene_id=ENSG00000083093.10;t...</td>\n",
       "      <td>2</td>\n",
       "      <td>10</td>\n",
       "      <td>0.007519</td>\n",
       "      <td>PALB2</td>\n",
       "      <td>human</td>\n",
       "      <td>2</td>\n",
       "      <td>PALB2---Palb2</td>\n",
       "      <td>Chr16:23603162-23641357(-)</td>\n",
       "      <td>False</td>\n",
       "      <td>ENST00000261584.9</td>\n",
       "    </tr>\n",
       "  </tbody>\n",
       "</table>\n",
       "<p>10894207 rows × 18 columns</p>\n",
       "</div>"
      ],
      "text/plain": [
       "    i_query                kmer_query                   kmer_hp  \\\n",
       "0       150  YSFTLKDDTGEVVLDQWNKASLVP  hphphpppphphhhpphpphphhh   \n",
       "1       151  SFTLKDDTGEVVLDQWNKASLVPG  phphpppphphhhpphpphphhhh   \n",
       "2       152  FTLKDDTGEVVLDQWNKASLVPGK  hphpppphphhhpphpphphhhhp   \n",
       "3        15  NFHVGVKFVSSPKRGGVSQYLKGI  phphhhphhpphpphhhpphhphh   \n",
       "4        16  FHVGVKFVSSPKRGGVSQYLKGIF  hphhhphhpphpphhhpphhphhh   \n",
       "..      ...                       ...                       ...   \n",
       "3        19  NSWIFQDSVVIDTNDIAAWLRNKL  pphhhppphhhpppphhhhhppph   \n",
       "4        20  SWIFQDSVVIDTNDIAAWLRNKLN  phhhppphhhpppphhhhhppphp   \n",
       "5        21  WIFQDSVVIDTNDIAAWLRNKLNV  hhhppphhhpppphhhhhppphph   \n",
       "6        57  HLFSDFFRHVRFRSFHDMALSRLR  phhpphhpphphpphpphhhpphp   \n",
       "7        58  LFSDFFRHVRFRSFHDMALSRLRN  hhpphhpphphpphpphhhpphpp   \n",
       "\n",
       "                hashval         name_query  i_found                kmer_found  \\\n",
       "0   3018107519398277786  g25414.t1 frame:1     1238  PKISLRRSSLKYLGCRYSEIKPYG   \n",
       "1   1234479950528962468  g25414.t1 frame:1     1239  KISLRRSSLKYLGCRYSEIKPYGL   \n",
       "2   2563348012698350512  g25414.t1 frame:1     1240  ISLRRSSLKYLGCRYSEIKPYGLD   \n",
       "3   1046426320533182525  g25414.t1 frame:1      576  SVQPIVKLVSTATTAPPSTAPSGP   \n",
       "4   2154375574397474662  g25414.t1 frame:1      577  VQPIVKLVSTATTAPPSTAPSGPG   \n",
       "..                  ...                ...      ...                       ...   \n",
       "3   2741191184754143198   g5107.t1 frame:1      355  ETLILDSNPLACDCRLLWVFRRRW   \n",
       "4    312706106409923617   g5107.t1 frame:1      356  TLILDSNPLACDCRLLWVFRRRWR   \n",
       "5   5902042603803971015   g5107.t1 frame:1      357  LILDSNPLACDCRLLWVFRRRWRL   \n",
       "6   2353047329972989606   g5107.t1 frame:1      230  KGVDTFLRRPNFTRATTVPLQTLS   \n",
       "7   1384586072134841031   g5107.t1 frame:1      231  GVDTFLRRPNFTRATTVPLQTLSD   \n",
       "\n",
       "                                           name_found  n_kmers  intersect_bp  \\\n",
       "0   ENST00000361833.7 gene_id=ENSG00000152092.16;t...        3            15   \n",
       "1   ENST00000361833.7 gene_id=ENSG00000152092.16;t...        3            15   \n",
       "2   ENST00000361833.7 gene_id=ENSG00000152092.16;t...        3            15   \n",
       "3   ENST00000453269.7 gene_id=ENSG00000106290.15;t...        2            10   \n",
       "4   ENST00000453269.7 gene_id=ENSG00000106290.15;t...        2            10   \n",
       "..                                                ...      ...           ...   \n",
       "3   ENST00000561030.5 gene_id=ENSG00000169783.13;t...        3            15   \n",
       "4   ENST00000561030.5 gene_id=ENSG00000169783.13;t...        3            15   \n",
       "5   ENST00000561030.5 gene_id=ENSG00000169783.13;t...        3            15   \n",
       "6   ENST00000261584.9 gene_id=ENSG00000083093.10;t...        2            10   \n",
       "7   ENST00000261584.9 gene_id=ENSG00000083093.10;t...        2            10   \n",
       "\n",
       "    containment  symbol species  found_i    homolog_group  \\\n",
       "0      0.011583   ASTN1   human        0    ASTN1---Astn1   \n",
       "1      0.011583   ASTN1   human        0    ASTN1---Astn1   \n",
       "2      0.011583   ASTN1   human        0    ASTN1---Astn1   \n",
       "3      0.015038    TAF6   human        1      TAF6---Taf6   \n",
       "4      0.015038    TAF6   human        1      TAF6---Taf6   \n",
       "..          ...     ...     ...      ...              ...   \n",
       "3      0.015267  LINGO1   human        1  LINGO1---Lingo1   \n",
       "4      0.015267  LINGO1   human        1  LINGO1---Lingo1   \n",
       "5      0.015267  LINGO1   human        1  LINGO1---Lingo1   \n",
       "6      0.007519   PALB2   human        2    PALB2---Palb2   \n",
       "7      0.007519   PALB2   human        2    PALB2---Palb2   \n",
       "\n",
       "                  genomic_coord all_homologs_found      transcript_id  \n",
       "0   Chr1:176855118-177164904(-)              False  ENST00000361833.7  \n",
       "1   Chr1:176855118-177164904(-)              False  ENST00000361833.7  \n",
       "2   Chr1:176855118-177164904(-)              False  ENST00000361833.7  \n",
       "3   Chr7:100107070-100119858(-)              False  ENST00000453269.7  \n",
       "4   Chr7:100107070-100119858(-)              False  ENST00000453269.7  \n",
       "..                          ...                ...                ...  \n",
       "3    Chr15:77613024-77820900(-)               True  ENST00000561030.5  \n",
       "4    Chr15:77613024-77820900(-)               True  ENST00000561030.5  \n",
       "5    Chr15:77613024-77820900(-)               True  ENST00000561030.5  \n",
       "6    Chr16:23603162-23641357(-)              False  ENST00000261584.9  \n",
       "7    Chr16:23603162-23641357(-)              False  ENST00000261584.9  \n",
       "\n",
       "[10894207 rows x 18 columns]"
      ]
     },
     "execution_count": 5,
     "metadata": {},
     "output_type": "execute_result"
    }
   ],
   "source": [
    "gather_results_human = gather_results.query('species == \"human\"')\n",
    "gather_results_human"
   ]
  },
  {
   "cell_type": "code",
   "execution_count": 6,
   "id": "a5f03d94-089b-44bb-933c-a1fada124263",
   "metadata": {},
   "outputs": [],
   "source": [
    "del gather_results"
   ]
  },
  {
   "cell_type": "markdown",
   "id": "c1c832d2-aa20-451c-8817-70a5e4bcaa64",
   "metadata": {},
   "source": [
    "# Get signature files"
   ]
  },
  {
   "cell_type": "code",
   "execution_count": 8,
   "id": "7514573f-aef7-43b1-a30a-51699e5fb3a8",
   "metadata": {},
   "outputs": [],
   "source": [
    "botryllus_dir = '/Users/olgabot/botryllus/data/botryllus-proteins/'\n",
    "\n",
    "human_gencode_dir = '/Users/olgabot/botryllus/data/gencode/v38/'\n",
    "mouse_gencode_dir = '/Users/olgabot/botryllus/data/gencode/M28/'\n",
    "\n",
    "## set signature files\n",
    "\n",
    "human_sigfile = os.path.join(\n",
    "    human_gencode_dir, \"gencode.v38.basic.annotation.protein.fa.hp.k24.scale5.sig\"\n",
    ")\n",
    "mouse_sigfile = os.path.join(\n",
    "    mouse_gencode_dir, \"gencode.vM28.basic.annotation.protein.fa.hp.k24.scale5.sig\"\n",
    ")\n",
    "\n",
    "botryllus_sigfile = os.path.join(botryllus_dir, 'Bs_proteins.fa.hp.k24.scale5.sig')"
   ]
  },
  {
   "cell_type": "markdown",
   "id": "bd123b1b-041e-4749-9f33-e29e00c18584",
   "metadata": {},
   "source": [
    "## Create non-singleton sourmash sketch"
   ]
  },
  {
   "cell_type": "code",
   "execution_count": 9,
   "id": "3a45d498-1764-482e-9e5f-a41c7bcd5f98",
   "metadata": {},
   "outputs": [],
   "source": [
    "human_fasta = os.path.join(human_gencode_dir, \"gencode.v38.basic.annotation.protein.fa\")\n",
    "human_sigfile_aggregated = os.path.join(\n",
    "    human_gencode_dir,\n",
    "    \"gencode.v38.basic.annotation.protein.fa.hp.k24.scale5.aggregated.sig\",\n",
    ")\n",
    "# ! time sourmash sketch protein --output $human_sigfile_aggregated --hp -p k=24,scaled=5,abund $human_fasta"
   ]
  },
  {
   "cell_type": "code",
   "execution_count": 19,
   "id": "d9859ee6-e1b8-4e21-869f-a23847d0364e",
   "metadata": {},
   "outputs": [],
   "source": [
    "human_sig = sourmash.load_one_signature(human_sigfile_aggregated)"
   ]
  },
  {
   "cell_type": "markdown",
   "id": "1b29e640-7c2c-43bd-b586-265ecaeb49d4",
   "metadata": {},
   "source": [
    "### Read botryllus kmer hashes"
   ]
  },
  {
   "cell_type": "code",
   "execution_count": 10,
   "id": "bb926909-f7ac-4913-bb5d-c57ebcaeaebc",
   "metadata": {},
   "outputs": [],
   "source": [
    "def read_hash_csv(csv):\n",
    "    df = pd.read_csv(csv)\n",
    "    \n",
    "    # Force hashval to be strings to avoid overflow/underflow errors\n",
    "    df['hashval'] = df['hashval'].astype(str)\n",
    "    df = df.set_index(['hashval'])\n",
    "    return df"
   ]
  },
  {
   "cell_type": "code",
   "execution_count": 11,
   "id": "048a5b13-8230-4777-a2dc-5e89e5f961c3",
   "metadata": {},
   "outputs": [
    {
     "data": {
      "text/html": [
       "<div>\n",
       "<style scoped>\n",
       "    .dataframe tbody tr th:only-of-type {\n",
       "        vertical-align: middle;\n",
       "    }\n",
       "\n",
       "    .dataframe tbody tr th {\n",
       "        vertical-align: top;\n",
       "    }\n",
       "\n",
       "    .dataframe thead th {\n",
       "        text-align: right;\n",
       "    }\n",
       "</style>\n",
       "<table border=\"1\" class=\"dataframe\">\n",
       "  <thead>\n",
       "    <tr style=\"text-align: right;\">\n",
       "      <th></th>\n",
       "      <th>kmer_in_sequence</th>\n",
       "      <th>kmer_in_alphabet</th>\n",
       "      <th>read_name</th>\n",
       "      <th>filename</th>\n",
       "    </tr>\n",
       "    <tr>\n",
       "      <th>hashval</th>\n",
       "      <th></th>\n",
       "      <th></th>\n",
       "      <th></th>\n",
       "      <th></th>\n",
       "    </tr>\n",
       "  </thead>\n",
       "  <tbody>\n",
       "    <tr>\n",
       "      <th>1036020595944595459</th>\n",
       "      <td>VHDTEQLLAQGHHEEETECGKYGK</td>\n",
       "      <td>hppppphhhphpppppppphphhp</td>\n",
       "      <td>BHF</td>\n",
       "      <td>Bs_proteins.fa.gz</td>\n",
       "    </tr>\n",
       "    <tr>\n",
       "      <th>2993707203445337902</th>\n",
       "      <td>TEQLLAQGHHEEETECGKYGKLPE</td>\n",
       "      <td>ppphhhphpppppppphphhphhp</td>\n",
       "      <td>BHF</td>\n",
       "      <td>Bs_proteins.fa.gz</td>\n",
       "    </tr>\n",
       "    <tr>\n",
       "      <th>973051056292048589</th>\n",
       "      <td>EQLLAQGHHEEETECGKYGKLPEK</td>\n",
       "      <td>pphhhphpppppppphphhphhpp</td>\n",
       "      <td>BHF</td>\n",
       "      <td>Bs_proteins.fa.gz</td>\n",
       "    </tr>\n",
       "    <tr>\n",
       "      <th>385192726330471768</th>\n",
       "      <td>ETECGKYGKLPEKGSECKKHGIFC</td>\n",
       "      <td>pppphphhphhpphpppppphhhp</td>\n",
       "      <td>BHF</td>\n",
       "      <td>Bs_proteins.fa.gz</td>\n",
       "    </tr>\n",
       "    <tr>\n",
       "      <th>1194029314525711201</th>\n",
       "      <td>KYGKLPEKGSECKKHGIFCRILTA</td>\n",
       "      <td>phhphhpphpppppphhhpphhph</td>\n",
       "      <td>BHF</td>\n",
       "      <td>Bs_proteins.fa.gz</td>\n",
       "    </tr>\n",
       "    <tr>\n",
       "      <th>...</th>\n",
       "      <td>...</td>\n",
       "      <td>...</td>\n",
       "      <td>...</td>\n",
       "      <td>...</td>\n",
       "    </tr>\n",
       "    <tr>\n",
       "      <th>1833930335722081195</th>\n",
       "      <td>LEREIEAQQLVMLEAEIDCLQRRF</td>\n",
       "      <td>hppphphpphhhhphphpphppph</td>\n",
       "      <td>g72096.t1 frame:1</td>\n",
       "      <td>Bs_proteins.fa.gz</td>\n",
       "    </tr>\n",
       "    <tr>\n",
       "      <th>616964295969867237</th>\n",
       "      <td>EREIEAQQLVMLEAEIDCLQRRFE</td>\n",
       "      <td>ppphphpphhhhphphpphppphp</td>\n",
       "      <td>g72096.t1 frame:1</td>\n",
       "      <td>Bs_proteins.fa.gz</td>\n",
       "    </tr>\n",
       "    <tr>\n",
       "      <th>1869927996039995699</th>\n",
       "      <td>MLEAEIDCLQRRFEDMESTWISRI</td>\n",
       "      <td>hhphphpphppphpphppphhpph</td>\n",
       "      <td>g72096.t1 frame:1</td>\n",
       "      <td>Bs_proteins.fa.gz</td>\n",
       "    </tr>\n",
       "    <tr>\n",
       "      <th>995001100309400823</th>\n",
       "      <td>EIDCLQRRFEDMESTWISRIDGTS</td>\n",
       "      <td>phpphppphpphppphhpphphpp</td>\n",
       "      <td>g72096.t1 frame:1</td>\n",
       "      <td>Bs_proteins.fa.gz</td>\n",
       "    </tr>\n",
       "    <tr>\n",
       "      <th>3221805479420536835</th>\n",
       "      <td>QRRFEDMESTWISRIDGTSENCVK</td>\n",
       "      <td>ppphpphppphhpphphppppphp</td>\n",
       "      <td>g72096.t1 frame:1</td>\n",
       "      <td>Bs_proteins.fa.gz</td>\n",
       "    </tr>\n",
       "  </tbody>\n",
       "</table>\n",
       "<p>303191 rows × 4 columns</p>\n",
       "</div>"
      ],
      "text/plain": [
       "                             kmer_in_sequence          kmer_in_alphabet  \\\n",
       "hashval                                                                   \n",
       "1036020595944595459  VHDTEQLLAQGHHEEETECGKYGK  hppppphhhphpppppppphphhp   \n",
       "2993707203445337902  TEQLLAQGHHEEETECGKYGKLPE  ppphhhphpppppppphphhphhp   \n",
       "973051056292048589   EQLLAQGHHEEETECGKYGKLPEK  pphhhphpppppppphphhphhpp   \n",
       "385192726330471768   ETECGKYGKLPEKGSECKKHGIFC  pppphphhphhpphpppppphhhp   \n",
       "1194029314525711201  KYGKLPEKGSECKKHGIFCRILTA  phhphhpphpppppphhhpphhph   \n",
       "...                                       ...                       ...   \n",
       "1833930335722081195  LEREIEAQQLVMLEAEIDCLQRRF  hppphphpphhhhphphpphppph   \n",
       "616964295969867237   EREIEAQQLVMLEAEIDCLQRRFE  ppphphpphhhhphphpphppphp   \n",
       "1869927996039995699  MLEAEIDCLQRRFEDMESTWISRI  hhphphpphppphpphppphhpph   \n",
       "995001100309400823   EIDCLQRRFEDMESTWISRIDGTS  phpphppphpphppphhpphphpp   \n",
       "3221805479420536835  QRRFEDMESTWISRIDGTSENCVK  ppphpphppphhpphphppppphp   \n",
       "\n",
       "                             read_name           filename  \n",
       "hashval                                                    \n",
       "1036020595944595459                BHF  Bs_proteins.fa.gz  \n",
       "2993707203445337902                BHF  Bs_proteins.fa.gz  \n",
       "973051056292048589                 BHF  Bs_proteins.fa.gz  \n",
       "385192726330471768                 BHF  Bs_proteins.fa.gz  \n",
       "1194029314525711201                BHF  Bs_proteins.fa.gz  \n",
       "...                                ...                ...  \n",
       "1833930335722081195  g72096.t1 frame:1  Bs_proteins.fa.gz  \n",
       "616964295969867237   g72096.t1 frame:1  Bs_proteins.fa.gz  \n",
       "1869927996039995699  g72096.t1 frame:1  Bs_proteins.fa.gz  \n",
       "995001100309400823   g72096.t1 frame:1  Bs_proteins.fa.gz  \n",
       "3221805479420536835  g72096.t1 frame:1  Bs_proteins.fa.gz  \n",
       "\n",
       "[303191 rows x 4 columns]"
      ]
     },
     "execution_count": 11,
     "metadata": {},
     "output_type": "execute_result"
    }
   ],
   "source": [
    "csv = os.path.join(botryllus_dir, 'Bs_proteins.fa.hp.k24.scale5.aggregated.kmers.csv')\n",
    "botryllus_kmer_hashes = read_hash_csv(csv)\n",
    "# botryllus_kmer_hashes.index = botryllus_kmer_hashes.index.astype(str)\n",
    "botryllus_kmer_hashes"
   ]
  },
  {
   "cell_type": "code",
   "execution_count": 15,
   "id": "741905c6-27bb-4d8e-92bf-a1dc96cf6fdf",
   "metadata": {},
   "outputs": [
    {
     "data": {
      "text/html": [
       "<div>\n",
       "<style scoped>\n",
       "    .dataframe tbody tr th:only-of-type {\n",
       "        vertical-align: middle;\n",
       "    }\n",
       "\n",
       "    .dataframe tbody tr th {\n",
       "        vertical-align: top;\n",
       "    }\n",
       "\n",
       "    .dataframe thead th {\n",
       "        text-align: right;\n",
       "    }\n",
       "</style>\n",
       "<table border=\"1\" class=\"dataframe\">\n",
       "  <thead>\n",
       "    <tr style=\"text-align: right;\">\n",
       "      <th></th>\n",
       "      <th>kmer_in_sequence</th>\n",
       "      <th>kmer_in_alphabet</th>\n",
       "      <th>read_name</th>\n",
       "      <th>filename</th>\n",
       "    </tr>\n",
       "    <tr>\n",
       "      <th>hashval</th>\n",
       "      <th></th>\n",
       "      <th></th>\n",
       "      <th></th>\n",
       "      <th></th>\n",
       "    </tr>\n",
       "  </thead>\n",
       "  <tbody>\n",
       "    <tr>\n",
       "      <th>3438741737707008236</th>\n",
       "      <td>AEAISWNESTSETNNSMVTEFIFL</td>\n",
       "      <td>hphhphpppppppppphhpphhhh</td>\n",
       "      <td>ENST00000641515.2 gene_id=ENSG00000186092.7;tr...</td>\n",
       "      <td>/Users/olgabot/botryllus/data/gencode/v38/genc...</td>\n",
       "    </tr>\n",
       "    <tr>\n",
       "      <th>2304868333845493775</th>\n",
       "      <td>SWNESTSETNNSMVTEFIFLGLSD</td>\n",
       "      <td>phpppppppppphhpphhhhhhpp</td>\n",
       "      <td>ENST00000641515.2 gene_id=ENSG00000186092.7;tr...</td>\n",
       "      <td>/Users/olgabot/botryllus/data/gencode/v38/genc...</td>\n",
       "    </tr>\n",
       "    <tr>\n",
       "      <th>773785692324772595</th>\n",
       "      <td>ETNNSMVTEFIFLGLSDSQELQTF</td>\n",
       "      <td>ppppphhpphhhhhhppppphpph</td>\n",
       "      <td>ENST00000641515.2 gene_id=ENSG00000186092.7;tr...</td>\n",
       "      <td>/Users/olgabot/botryllus/data/gencode/v38/genc...</td>\n",
       "    </tr>\n",
       "    <tr>\n",
       "      <th>2297609714666314612</th>\n",
       "      <td>TNNSMVTEFIFLGLSDSQELQTFL</td>\n",
       "      <td>pppphhpphhhhhhppppphpphh</td>\n",
       "      <td>ENST00000641515.2 gene_id=ENSG00000186092.7;tr...</td>\n",
       "      <td>/Users/olgabot/botryllus/data/gencode/v38/genc...</td>\n",
       "    </tr>\n",
       "    <tr>\n",
       "      <th>1737326980818371865</th>\n",
       "      <td>NNSMVTEFIFLGLSDSQELQTFLF</td>\n",
       "      <td>ppphhpphhhhhhppppphpphhh</td>\n",
       "      <td>ENST00000641515.2 gene_id=ENSG00000186092.7;tr...</td>\n",
       "      <td>/Users/olgabot/botryllus/data/gencode/v38/genc...</td>\n",
       "    </tr>\n",
       "    <tr>\n",
       "      <th>...</th>\n",
       "      <td>...</td>\n",
       "      <td>...</td>\n",
       "      <td>...</td>\n",
       "      <td>...</td>\n",
       "    </tr>\n",
       "    <tr>\n",
       "      <th>963288537120590718</th>\n",
       "      <td>NIVPIAILVFAACEAAVGLALLVS</td>\n",
       "      <td>phhhhhhhhhhhpphhhhhhhhhp</td>\n",
       "      <td>ENST00000361335.1 gene_id=ENSG00000212907.2;tr...</td>\n",
       "      <td>/Users/olgabot/botryllus/data/gencode/v38/genc...</td>\n",
       "    </tr>\n",
       "    <tr>\n",
       "      <th>1219365156401211377</th>\n",
       "      <td>AACEAAVGLALLVSISNTYGLDYV</td>\n",
       "      <td>hhpphhhhhhhhhphppphhhphh</td>\n",
       "      <td>ENST00000361335.1 gene_id=ENSG00000212907.2;tr...</td>\n",
       "      <td>/Users/olgabot/botryllus/data/gencode/v38/genc...</td>\n",
       "    </tr>\n",
       "    <tr>\n",
       "      <th>3243920481552129892</th>\n",
       "      <td>CEAAVGLALLVSISNTYGLDYVHN</td>\n",
       "      <td>pphhhhhhhhhphppphhhphhpp</td>\n",
       "      <td>ENST00000361335.1 gene_id=ENSG00000212907.2;tr...</td>\n",
       "      <td>/Users/olgabot/botryllus/data/gencode/v38/genc...</td>\n",
       "    </tr>\n",
       "    <tr>\n",
       "      <th>475837712167999996</th>\n",
       "      <td>AAVGLALLVSISNTYGLDYVHNLN</td>\n",
       "      <td>hhhhhhhhhphppphhhphhpphp</td>\n",
       "      <td>ENST00000361335.1 gene_id=ENSG00000212907.2;tr...</td>\n",
       "      <td>/Users/olgabot/botryllus/data/gencode/v38/genc...</td>\n",
       "    </tr>\n",
       "    <tr>\n",
       "      <th>2748744306511125563</th>\n",
       "      <td>GLALLVSISNTYGLDYVHNLNLLQ</td>\n",
       "      <td>hhhhhhphppphhhphhpphphhp</td>\n",
       "      <td>ENST00000361335.1 gene_id=ENSG00000212907.2;tr...</td>\n",
       "      <td>/Users/olgabot/botryllus/data/gencode/v38/genc...</td>\n",
       "    </tr>\n",
       "  </tbody>\n",
       "</table>\n",
       "<p>6189526 rows × 4 columns</p>\n",
       "</div>"
      ],
      "text/plain": [
       "                             kmer_in_sequence          kmer_in_alphabet  \\\n",
       "hashval                                                                   \n",
       "3438741737707008236  AEAISWNESTSETNNSMVTEFIFL  hphhphpppppppppphhpphhhh   \n",
       "2304868333845493775  SWNESTSETNNSMVTEFIFLGLSD  phpppppppppphhpphhhhhhpp   \n",
       "773785692324772595   ETNNSMVTEFIFLGLSDSQELQTF  ppppphhpphhhhhhppppphpph   \n",
       "2297609714666314612  TNNSMVTEFIFLGLSDSQELQTFL  pppphhpphhhhhhppppphpphh   \n",
       "1737326980818371865  NNSMVTEFIFLGLSDSQELQTFLF  ppphhpphhhhhhppppphpphhh   \n",
       "...                                       ...                       ...   \n",
       "963288537120590718   NIVPIAILVFAACEAAVGLALLVS  phhhhhhhhhhhpphhhhhhhhhp   \n",
       "1219365156401211377  AACEAAVGLALLVSISNTYGLDYV  hhpphhhhhhhhhphppphhhphh   \n",
       "3243920481552129892  CEAAVGLALLVSISNTYGLDYVHN  pphhhhhhhhhphppphhhphhpp   \n",
       "475837712167999996   AAVGLALLVSISNTYGLDYVHNLN  hhhhhhhhhphppphhhphhpphp   \n",
       "2748744306511125563  GLALLVSISNTYGLDYVHNLNLLQ  hhhhhhphppphhhphhpphphhp   \n",
       "\n",
       "                                                             read_name  \\\n",
       "hashval                                                                  \n",
       "3438741737707008236  ENST00000641515.2 gene_id=ENSG00000186092.7;tr...   \n",
       "2304868333845493775  ENST00000641515.2 gene_id=ENSG00000186092.7;tr...   \n",
       "773785692324772595   ENST00000641515.2 gene_id=ENSG00000186092.7;tr...   \n",
       "2297609714666314612  ENST00000641515.2 gene_id=ENSG00000186092.7;tr...   \n",
       "1737326980818371865  ENST00000641515.2 gene_id=ENSG00000186092.7;tr...   \n",
       "...                                                                ...   \n",
       "963288537120590718   ENST00000361335.1 gene_id=ENSG00000212907.2;tr...   \n",
       "1219365156401211377  ENST00000361335.1 gene_id=ENSG00000212907.2;tr...   \n",
       "3243920481552129892  ENST00000361335.1 gene_id=ENSG00000212907.2;tr...   \n",
       "475837712167999996   ENST00000361335.1 gene_id=ENSG00000212907.2;tr...   \n",
       "2748744306511125563  ENST00000361335.1 gene_id=ENSG00000212907.2;tr...   \n",
       "\n",
       "                                                              filename  \n",
       "hashval                                                                 \n",
       "3438741737707008236  /Users/olgabot/botryllus/data/gencode/v38/genc...  \n",
       "2304868333845493775  /Users/olgabot/botryllus/data/gencode/v38/genc...  \n",
       "773785692324772595   /Users/olgabot/botryllus/data/gencode/v38/genc...  \n",
       "2297609714666314612  /Users/olgabot/botryllus/data/gencode/v38/genc...  \n",
       "1737326980818371865  /Users/olgabot/botryllus/data/gencode/v38/genc...  \n",
       "...                                                                ...  \n",
       "963288537120590718   /Users/olgabot/botryllus/data/gencode/v38/genc...  \n",
       "1219365156401211377  /Users/olgabot/botryllus/data/gencode/v38/genc...  \n",
       "3243920481552129892  /Users/olgabot/botryllus/data/gencode/v38/genc...  \n",
       "475837712167999996   /Users/olgabot/botryllus/data/gencode/v38/genc...  \n",
       "2748744306511125563  /Users/olgabot/botryllus/data/gencode/v38/genc...  \n",
       "\n",
       "[6189526 rows x 4 columns]"
      ]
     },
     "execution_count": 15,
     "metadata": {},
     "output_type": "execute_result"
    }
   ],
   "source": [
    "human_gencode_dir = '/Users/olgabot/botryllus/data/gencode/v38/'\n",
    "mouse_gencode_dir = '/Users/olgabot/botryllus/data/gencode/M28/'\n",
    "human_kmers_csv = os.path.join(\n",
    "    human_gencode_dir,\n",
    "    \"gencode.v38.basic.annotation.protein.fa.hp.k24.scale5.aggregated.kmers.csv\",\n",
    ")\n",
    "\n",
    "human_kmer_hashes = read_hash_csv(human_kmers_csv)\n",
    "# human_kmer_hashes.index = human_kmer_hashes.index.astype(str)\n",
    "human_kmer_hashes"
   ]
  },
  {
   "cell_type": "markdown",
   "id": "5b3506bc-e9a3-4db5-a4ac-6b0ceed60578",
   "metadata": {},
   "source": [
    "# Make pandas series of hashes"
   ]
  },
  {
   "cell_type": "code",
   "execution_count": 21,
   "id": "f5ae3c81-b587-4c3d-a1dc-238a467bd2a3",
   "metadata": {},
   "outputs": [
    {
     "name": "stdout",
     "output_type": "stream",
     "text": [
      "CPU times: user 2.61 s, sys: 183 ms, total: 2.79 s\n",
      "Wall time: 2.8 s\n"
     ]
    }
   ],
   "source": [
    "%%time\n",
    "human_minhashes = pd.Series(human_sig.minhash.hashes, name='human')\n",
    "human_minhashes.index = human_minhashes.index.astype(str)"
   ]
  },
  {
   "cell_type": "code",
   "execution_count": 22,
   "id": "0b9e0d92-1d45-4960-b883-ac67d05fff95",
   "metadata": {},
   "outputs": [
    {
     "data": {
      "text/plain": [
       "count    1.521355e+06\n",
       "mean     4.074873e+00\n",
       "std      7.673557e+00\n",
       "min      1.000000e+00\n",
       "25%      2.000000e+00\n",
       "50%      3.000000e+00\n",
       "75%      5.000000e+00\n",
       "max      7.222000e+03\n",
       "Name: human, dtype: float64"
      ]
     },
     "execution_count": 22,
     "metadata": {},
     "output_type": "execute_result"
    }
   ],
   "source": [
    "human_minhashes.describe()"
   ]
  },
  {
   "cell_type": "code",
   "execution_count": 23,
   "id": "1e93dc9a-cee9-4ee3-9283-87b80906421f",
   "metadata": {},
   "outputs": [],
   "source": [
    "botryllus_sigfile_aggregated = os.path.join(\n",
    "    botryllus_dir, \"Bs_proteins.fa.hp.k24.scale5.aggregated.sig\"\n",
    ")\n",
    "botryllus_sig = sourmash.load_one_signature(botryllus_sigfile_aggregated)"
   ]
  },
  {
   "cell_type": "code",
   "execution_count": 25,
   "id": "e4fa777b-fa10-4c3d-9b4f-068988d1ae48",
   "metadata": {},
   "outputs": [
    {
     "name": "stdout",
     "output_type": "stream",
     "text": [
      "CPU times: user 2.56 s, sys: 140 ms, total: 2.7 s\n",
      "Wall time: 2.7 s\n"
     ]
    }
   ],
   "source": [
    "%%time\n",
    "botryllus_minhashes = pd.Series(botryllus_sig.minhash.hashes, name='botryllus')\n",
    "botryllus_minhashes.index = botryllus_minhashes.index.astype(str)"
   ]
  },
  {
   "cell_type": "code",
   "execution_count": 26,
   "id": "11376f74-d436-4678-85da-a479b6d3ee53",
   "metadata": {},
   "outputs": [
    {
     "data": {
      "text/plain": [
       "count    1.499641e+06\n",
       "mean     2.041660e+00\n",
       "std      3.646242e+00\n",
       "min      1.000000e+00\n",
       "25%      1.000000e+00\n",
       "50%      1.000000e+00\n",
       "75%      2.000000e+00\n",
       "max      1.535000e+03\n",
       "Name: botryllus, dtype: float64"
      ]
     },
     "execution_count": 26,
     "metadata": {},
     "output_type": "execute_result"
    }
   ],
   "source": [
    "botryllus_minhashes.describe()"
   ]
  },
  {
   "cell_type": "code",
   "execution_count": 27,
   "id": "ae3bbf62-2abf-456b-ba0f-6cd987b73814",
   "metadata": {},
   "outputs": [
    {
     "data": {
      "text/html": [
       "<div>\n",
       "<style scoped>\n",
       "    .dataframe tbody tr th:only-of-type {\n",
       "        vertical-align: middle;\n",
       "    }\n",
       "\n",
       "    .dataframe tbody tr th {\n",
       "        vertical-align: top;\n",
       "    }\n",
       "\n",
       "    .dataframe thead th {\n",
       "        text-align: right;\n",
       "    }\n",
       "</style>\n",
       "<table border=\"1\" class=\"dataframe\">\n",
       "  <thead>\n",
       "    <tr style=\"text-align: right;\">\n",
       "      <th></th>\n",
       "      <th>kmer_in_sequence</th>\n",
       "      <th>kmer_in_alphabet</th>\n",
       "      <th>read_name</th>\n",
       "      <th>filename</th>\n",
       "    </tr>\n",
       "    <tr>\n",
       "      <th>hashval</th>\n",
       "      <th></th>\n",
       "      <th></th>\n",
       "      <th></th>\n",
       "      <th></th>\n",
       "    </tr>\n",
       "  </thead>\n",
       "  <tbody>\n",
       "    <tr>\n",
       "      <th>1036020595944595459</th>\n",
       "      <td>VHDTEQLLAQGHHEEETECGKYGK</td>\n",
       "      <td>hppppphhhphpppppppphphhp</td>\n",
       "      <td>BHF</td>\n",
       "      <td>Bs_proteins.fa.gz</td>\n",
       "    </tr>\n",
       "    <tr>\n",
       "      <th>2993707203445337902</th>\n",
       "      <td>TEQLLAQGHHEEETECGKYGKLPE</td>\n",
       "      <td>ppphhhphpppppppphphhphhp</td>\n",
       "      <td>BHF</td>\n",
       "      <td>Bs_proteins.fa.gz</td>\n",
       "    </tr>\n",
       "    <tr>\n",
       "      <th>973051056292048589</th>\n",
       "      <td>EQLLAQGHHEEETECGKYGKLPEK</td>\n",
       "      <td>pphhhphpppppppphphhphhpp</td>\n",
       "      <td>BHF</td>\n",
       "      <td>Bs_proteins.fa.gz</td>\n",
       "    </tr>\n",
       "    <tr>\n",
       "      <th>385192726330471768</th>\n",
       "      <td>ETECGKYGKLPEKGSECKKHGIFC</td>\n",
       "      <td>pppphphhphhpphpppppphhhp</td>\n",
       "      <td>BHF</td>\n",
       "      <td>Bs_proteins.fa.gz</td>\n",
       "    </tr>\n",
       "    <tr>\n",
       "      <th>1194029314525711201</th>\n",
       "      <td>KYGKLPEKGSECKKHGIFCRILTA</td>\n",
       "      <td>phhphhpphpppppphhhpphhph</td>\n",
       "      <td>BHF</td>\n",
       "      <td>Bs_proteins.fa.gz</td>\n",
       "    </tr>\n",
       "    <tr>\n",
       "      <th>...</th>\n",
       "      <td>...</td>\n",
       "      <td>...</td>\n",
       "      <td>...</td>\n",
       "      <td>...</td>\n",
       "    </tr>\n",
       "    <tr>\n",
       "      <th>1833930335722081195</th>\n",
       "      <td>LEREIEAQQLVMLEAEIDCLQRRF</td>\n",
       "      <td>hppphphpphhhhphphpphppph</td>\n",
       "      <td>g72096.t1 frame:1</td>\n",
       "      <td>Bs_proteins.fa.gz</td>\n",
       "    </tr>\n",
       "    <tr>\n",
       "      <th>616964295969867237</th>\n",
       "      <td>EREIEAQQLVMLEAEIDCLQRRFE</td>\n",
       "      <td>ppphphpphhhhphphpphppphp</td>\n",
       "      <td>g72096.t1 frame:1</td>\n",
       "      <td>Bs_proteins.fa.gz</td>\n",
       "    </tr>\n",
       "    <tr>\n",
       "      <th>1869927996039995699</th>\n",
       "      <td>MLEAEIDCLQRRFEDMESTWISRI</td>\n",
       "      <td>hhphphpphppphpphppphhpph</td>\n",
       "      <td>g72096.t1 frame:1</td>\n",
       "      <td>Bs_proteins.fa.gz</td>\n",
       "    </tr>\n",
       "    <tr>\n",
       "      <th>995001100309400823</th>\n",
       "      <td>EIDCLQRRFEDMESTWISRIDGTS</td>\n",
       "      <td>phpphppphpphppphhpphphpp</td>\n",
       "      <td>g72096.t1 frame:1</td>\n",
       "      <td>Bs_proteins.fa.gz</td>\n",
       "    </tr>\n",
       "    <tr>\n",
       "      <th>3221805479420536835</th>\n",
       "      <td>QRRFEDMESTWISRIDGTSENCVK</td>\n",
       "      <td>ppphpphppphhpphphppppphp</td>\n",
       "      <td>g72096.t1 frame:1</td>\n",
       "      <td>Bs_proteins.fa.gz</td>\n",
       "    </tr>\n",
       "  </tbody>\n",
       "</table>\n",
       "<p>303191 rows × 4 columns</p>\n",
       "</div>"
      ],
      "text/plain": [
       "                             kmer_in_sequence          kmer_in_alphabet  \\\n",
       "hashval                                                                   \n",
       "1036020595944595459  VHDTEQLLAQGHHEEETECGKYGK  hppppphhhphpppppppphphhp   \n",
       "2993707203445337902  TEQLLAQGHHEEETECGKYGKLPE  ppphhhphpppppppphphhphhp   \n",
       "973051056292048589   EQLLAQGHHEEETECGKYGKLPEK  pphhhphpppppppphphhphhpp   \n",
       "385192726330471768   ETECGKYGKLPEKGSECKKHGIFC  pppphphhphhpphpppppphhhp   \n",
       "1194029314525711201  KYGKLPEKGSECKKHGIFCRILTA  phhphhpphpppppphhhpphhph   \n",
       "...                                       ...                       ...   \n",
       "1833930335722081195  LEREIEAQQLVMLEAEIDCLQRRF  hppphphpphhhhphphpphppph   \n",
       "616964295969867237   EREIEAQQLVMLEAEIDCLQRRFE  ppphphpphhhhphphpphppphp   \n",
       "1869927996039995699  MLEAEIDCLQRRFEDMESTWISRI  hhphphpphppphpphppphhpph   \n",
       "995001100309400823   EIDCLQRRFEDMESTWISRIDGTS  phpphppphpphppphhpphphpp   \n",
       "3221805479420536835  QRRFEDMESTWISRIDGTSENCVK  ppphpphppphhpphphppppphp   \n",
       "\n",
       "                             read_name           filename  \n",
       "hashval                                                    \n",
       "1036020595944595459                BHF  Bs_proteins.fa.gz  \n",
       "2993707203445337902                BHF  Bs_proteins.fa.gz  \n",
       "973051056292048589                 BHF  Bs_proteins.fa.gz  \n",
       "385192726330471768                 BHF  Bs_proteins.fa.gz  \n",
       "1194029314525711201                BHF  Bs_proteins.fa.gz  \n",
       "...                                ...                ...  \n",
       "1833930335722081195  g72096.t1 frame:1  Bs_proteins.fa.gz  \n",
       "616964295969867237   g72096.t1 frame:1  Bs_proteins.fa.gz  \n",
       "1869927996039995699  g72096.t1 frame:1  Bs_proteins.fa.gz  \n",
       "995001100309400823   g72096.t1 frame:1  Bs_proteins.fa.gz  \n",
       "3221805479420536835  g72096.t1 frame:1  Bs_proteins.fa.gz  \n",
       "\n",
       "[303191 rows x 4 columns]"
      ]
     },
     "execution_count": 27,
     "metadata": {},
     "output_type": "execute_result"
    }
   ],
   "source": [
    "botryllus_kmer_hashes"
   ]
  },
  {
   "cell_type": "code",
   "execution_count": 28,
   "id": "f843064f-c624-40a6-b3ed-084bc50e08a8",
   "metadata": {},
   "outputs": [],
   "source": [
    "botryllus_minhashes_freq = botryllus_minhashes/botryllus_minhashes.sum()\n",
    "human_minhashes_freq = human_minhashes/human_minhashes.sum()"
   ]
  },
  {
   "cell_type": "code",
   "execution_count": 29,
   "id": "28dc29cb-23a0-4951-80fc-e4caafd50aa6",
   "metadata": {},
   "outputs": [
    {
     "data": {
      "text/plain": [
       "count    1.499641e+06\n",
       "mean     6.668263e-07\n",
       "std      1.190899e-06\n",
       "min      3.266099e-07\n",
       "25%      3.266099e-07\n",
       "50%      3.266099e-07\n",
       "75%      6.532197e-07\n",
       "max      5.013461e-04\n",
       "Name: botryllus, dtype: float64"
      ]
     },
     "execution_count": 29,
     "metadata": {},
     "output_type": "execute_result"
    }
   ],
   "source": [
    "botryllus_minhashes_freq.describe()"
   ]
  },
  {
   "cell_type": "code",
   "execution_count": 30,
   "id": "29d42efc-3c6a-4b55-bed1-8a65d5061ddb",
   "metadata": {},
   "outputs": [
    {
     "data": {
      "text/plain": [
       "count    1.521355e+06\n",
       "mean     6.573088e-07\n",
       "std      1.237804e-06\n",
       "min      1.613078e-07\n",
       "25%      3.226156e-07\n",
       "50%      4.839233e-07\n",
       "75%      8.065389e-07\n",
       "max      1.164965e-03\n",
       "Name: human, dtype: float64"
      ]
     },
     "execution_count": 30,
     "metadata": {},
     "output_type": "execute_result"
    }
   ],
   "source": [
    "human_minhashes_freq.describe()"
   ]
  },
  {
   "cell_type": "code",
   "execution_count": 31,
   "id": "7f0a83be-bb04-4db6-b11a-04f01ceb544d",
   "metadata": {},
   "outputs": [
    {
     "data": {
      "text/plain": [
       "248203946111836632     0.000128\n",
       "853878169790340257     0.001165\n",
       "1176596621400818277    0.000150\n",
       "2621898202634985687    0.000101\n",
       "3640030393541500537    0.000124\n",
       "Name: human, dtype: float64"
      ]
     },
     "execution_count": 31,
     "metadata": {},
     "output_type": "execute_result"
    }
   ],
   "source": [
    "human_minhashes_freq[human_minhashes_freq > 1e-4]"
   ]
  },
  {
   "cell_type": "code",
   "execution_count": 32,
   "id": "c73e7c2b-c5b5-4e48-9886-f34225e750b6",
   "metadata": {},
   "outputs": [
    {
     "data": {
      "text/plain": [
       "Index(['4949352718893', '11590100102600', '13829197037459', '19131220625210',\n",
       "       '26163028921650'],\n",
       "      dtype='object')"
      ]
     },
     "execution_count": 32,
     "metadata": {},
     "output_type": "execute_result"
    }
   ],
   "source": [
    "botryllus_minhashes_freq.head().index"
   ]
  },
  {
   "cell_type": "code",
   "execution_count": 36,
   "id": "5e1c2f78-c22b-4db1-9a20-86b39c2a70b8",
   "metadata": {},
   "outputs": [
    {
     "data": {
      "text/plain": [
       "853878169790340257     0.001165\n",
       "1176596621400818277    0.000150\n",
       "248203946111836632     0.000128\n",
       "3640030393541500537    0.000124\n",
       "2621898202634985687    0.000101\n",
       "2384756448698727573    0.000087\n",
       "2037292660785240141    0.000086\n",
       "2892598906749835812    0.000079\n",
       "952514893579374774     0.000074\n",
       "364208822315268762     0.000073\n",
       "Name: human, dtype: float64"
      ]
     },
     "execution_count": 36,
     "metadata": {},
     "output_type": "execute_result"
    }
   ],
   "source": [
    "human_minhashes_freq_top10 = human_minhashes_freq.nlargest(10)\n",
    "human_minhashes_freq_top10"
   ]
  },
  {
   "cell_type": "code",
   "execution_count": 37,
   "id": "c40cb78c-488a-4a13-abf7-a463d306c8df",
   "metadata": {},
   "outputs": [],
   "source": [
    "# human_kmer_hashes.drop_duplicates?"
   ]
  },
  {
   "cell_type": "code",
   "execution_count": 38,
   "id": "81077c7c-edc6-4ecb-b06d-2c4253393df7",
   "metadata": {},
   "outputs": [
    {
     "data": {
      "text/html": [
       "<div>\n",
       "<style scoped>\n",
       "    .dataframe tbody tr th:only-of-type {\n",
       "        vertical-align: middle;\n",
       "    }\n",
       "\n",
       "    .dataframe tbody tr th {\n",
       "        vertical-align: top;\n",
       "    }\n",
       "\n",
       "    .dataframe thead th {\n",
       "        text-align: right;\n",
       "    }\n",
       "</style>\n",
       "<table border=\"1\" class=\"dataframe\">\n",
       "  <thead>\n",
       "    <tr style=\"text-align: right;\">\n",
       "      <th></th>\n",
       "      <th>kmer_in_sequence</th>\n",
       "      <th>kmer_in_alphabet</th>\n",
       "      <th>read_name</th>\n",
       "      <th>filename</th>\n",
       "    </tr>\n",
       "    <tr>\n",
       "      <th>hashval</th>\n",
       "      <th></th>\n",
       "      <th></th>\n",
       "      <th></th>\n",
       "      <th></th>\n",
       "    </tr>\n",
       "  </thead>\n",
       "  <tbody>\n",
       "    <tr>\n",
       "      <th>853878169790340257</th>\n",
       "      <td>DKDKDKDKEKDRDRDRDREREKRD</td>\n",
       "      <td>pppppppppppppppppppppppp</td>\n",
       "      <td>ENST00000337907.7 gene_id=ENSG00000142599.19;t...</td>\n",
       "      <td>/Users/olgabot/botryllus/data/gencode/v38/genc...</td>\n",
       "    </tr>\n",
       "    <tr>\n",
       "      <th>1176596621400818277</th>\n",
       "      <td>ADKDKDKDKEKDRDRDRDREREKR</td>\n",
       "      <td>hppppppppppppppppppppppp</td>\n",
       "      <td>ENST00000337907.7 gene_id=ENSG00000142599.19;t...</td>\n",
       "      <td>/Users/olgabot/botryllus/data/gencode/v38/genc...</td>\n",
       "    </tr>\n",
       "    <tr>\n",
       "      <th>248203946111836632</th>\n",
       "      <td>KDKDKEKDRDRDRDREREKRDKAR</td>\n",
       "      <td>pppppppppppppppppppppphp</td>\n",
       "      <td>ENST00000337907.7 gene_id=ENSG00000142599.19;t...</td>\n",
       "      <td>/Users/olgabot/botryllus/data/gencode/v38/genc...</td>\n",
       "    </tr>\n",
       "    <tr>\n",
       "      <th>3640030393541500537</th>\n",
       "      <td>HQRIHTGEKPYDCNECGKAFSCSS</td>\n",
       "      <td>ppphpphpphhppppphphhpppp</td>\n",
       "      <td>ENST00000411995.6 gene_id=ENSG00000187801.15;t...</td>\n",
       "      <td>/Users/olgabot/botryllus/data/gencode/v38/genc...</td>\n",
       "    </tr>\n",
       "    <tr>\n",
       "      <th>2621898202634985687</th>\n",
       "      <td>FAKHQRIHTGEKPYDCNECGKAFS</td>\n",
       "      <td>hhpppphpphpphhppppphphhp</td>\n",
       "      <td>ENST00000411995.6 gene_id=ENSG00000187801.15;t...</td>\n",
       "      <td>/Users/olgabot/botryllus/data/gencode/v38/genc...</td>\n",
       "    </tr>\n",
       "    <tr>\n",
       "      <th>2384756448698727573</th>\n",
       "      <td>GGRAVAAILGLGLVLGLLGPLAIL</td>\n",
       "      <td>hhphhhhhhhhhhhhhhhhhhhhh</td>\n",
       "      <td>ENST00000379236.4 gene_id=ENSG00000186827.11;t...</td>\n",
       "      <td>/Users/olgabot/botryllus/data/gencode/v38/genc...</td>\n",
       "    </tr>\n",
       "    <tr>\n",
       "      <th>2037292660785240141</th>\n",
       "      <td>NSDLVRHRRAHTGEKPYHCNECGE</td>\n",
       "      <td>ppphhpppphpphpphhppppphp</td>\n",
       "      <td>ENST00000314011.9 gene_id=ENSG00000125945.15;t...</td>\n",
       "      <td>/Users/olgabot/botryllus/data/gencode/v38/genc...</td>\n",
       "    </tr>\n",
       "    <tr>\n",
       "      <th>2892598906749835812</th>\n",
       "      <td>SEESEEEEEEEEEEEEETGSNSEE</td>\n",
       "      <td>pppppppppppppppppphppppp</td>\n",
       "      <td>ENST00000341832.11 gene_id=ENSG00000248333.9;t...</td>\n",
       "      <td>/Users/olgabot/botryllus/data/gencode/v38/genc...</td>\n",
       "    </tr>\n",
       "    <tr>\n",
       "      <th>952514893579374774</th>\n",
       "      <td>SSFAKHQRIHTGEKPYDCNECGKA</td>\n",
       "      <td>pphhpppphpphpphhppppphph</td>\n",
       "      <td>ENST00000411995.6 gene_id=ENSG00000187801.15;t...</td>\n",
       "      <td>/Users/olgabot/botryllus/data/gencode/v38/genc...</td>\n",
       "    </tr>\n",
       "    <tr>\n",
       "      <th>364208822315268762</th>\n",
       "      <td>EEEEEEEEEEEEGSTSEESEEEEE</td>\n",
       "      <td>pppppppppppphppppppppppp</td>\n",
       "      <td>ENST00000341832.11 gene_id=ENSG00000248333.9;t...</td>\n",
       "      <td>/Users/olgabot/botryllus/data/gencode/v38/genc...</td>\n",
       "    </tr>\n",
       "  </tbody>\n",
       "</table>\n",
       "</div>"
      ],
      "text/plain": [
       "                             kmer_in_sequence          kmer_in_alphabet  \\\n",
       "hashval                                                                   \n",
       "853878169790340257   DKDKDKDKEKDRDRDRDREREKRD  pppppppppppppppppppppppp   \n",
       "1176596621400818277  ADKDKDKDKEKDRDRDRDREREKR  hppppppppppppppppppppppp   \n",
       "248203946111836632   KDKDKEKDRDRDRDREREKRDKAR  pppppppppppppppppppppphp   \n",
       "3640030393541500537  HQRIHTGEKPYDCNECGKAFSCSS  ppphpphpphhppppphphhpppp   \n",
       "2621898202634985687  FAKHQRIHTGEKPYDCNECGKAFS  hhpppphpphpphhppppphphhp   \n",
       "2384756448698727573  GGRAVAAILGLGLVLGLLGPLAIL  hhphhhhhhhhhhhhhhhhhhhhh   \n",
       "2037292660785240141  NSDLVRHRRAHTGEKPYHCNECGE  ppphhpppphpphpphhppppphp   \n",
       "2892598906749835812  SEESEEEEEEEEEEEEETGSNSEE  pppppppppppppppppphppppp   \n",
       "952514893579374774   SSFAKHQRIHTGEKPYDCNECGKA  pphhpppphpphpphhppppphph   \n",
       "364208822315268762   EEEEEEEEEEEEGSTSEESEEEEE  pppppppppppphppppppppppp   \n",
       "\n",
       "                                                             read_name  \\\n",
       "hashval                                                                  \n",
       "853878169790340257   ENST00000337907.7 gene_id=ENSG00000142599.19;t...   \n",
       "1176596621400818277  ENST00000337907.7 gene_id=ENSG00000142599.19;t...   \n",
       "248203946111836632   ENST00000337907.7 gene_id=ENSG00000142599.19;t...   \n",
       "3640030393541500537  ENST00000411995.6 gene_id=ENSG00000187801.15;t...   \n",
       "2621898202634985687  ENST00000411995.6 gene_id=ENSG00000187801.15;t...   \n",
       "2384756448698727573  ENST00000379236.4 gene_id=ENSG00000186827.11;t...   \n",
       "2037292660785240141  ENST00000314011.9 gene_id=ENSG00000125945.15;t...   \n",
       "2892598906749835812  ENST00000341832.11 gene_id=ENSG00000248333.9;t...   \n",
       "952514893579374774   ENST00000411995.6 gene_id=ENSG00000187801.15;t...   \n",
       "364208822315268762   ENST00000341832.11 gene_id=ENSG00000248333.9;t...   \n",
       "\n",
       "                                                              filename  \n",
       "hashval                                                                 \n",
       "853878169790340257   /Users/olgabot/botryllus/data/gencode/v38/genc...  \n",
       "1176596621400818277  /Users/olgabot/botryllus/data/gencode/v38/genc...  \n",
       "248203946111836632   /Users/olgabot/botryllus/data/gencode/v38/genc...  \n",
       "3640030393541500537  /Users/olgabot/botryllus/data/gencode/v38/genc...  \n",
       "2621898202634985687  /Users/olgabot/botryllus/data/gencode/v38/genc...  \n",
       "2384756448698727573  /Users/olgabot/botryllus/data/gencode/v38/genc...  \n",
       "2037292660785240141  /Users/olgabot/botryllus/data/gencode/v38/genc...  \n",
       "2892598906749835812  /Users/olgabot/botryllus/data/gencode/v38/genc...  \n",
       "952514893579374774   /Users/olgabot/botryllus/data/gencode/v38/genc...  \n",
       "364208822315268762   /Users/olgabot/botryllus/data/gencode/v38/genc...  "
      ]
     },
     "execution_count": 38,
     "metadata": {},
     "output_type": "execute_result"
    }
   ],
   "source": [
    "human_kmer_hashes.loc[human_minhashes_freq_top10.index].drop_duplicates(subset=['kmer_in_alphabet'])"
   ]
  },
  {
   "cell_type": "code",
   "execution_count": 39,
   "id": "39ec8f24-8157-485a-acc4-35483735a022",
   "metadata": {},
   "outputs": [
    {
     "data": {
      "text/plain": [
       "853878169790340257     0.000501\n",
       "3408350120326268046    0.000127\n",
       "1832506267497687492    0.000122\n",
       "1083907595478869357    0.000122\n",
       "2382895590170336395    0.000120\n",
       "3538013662285724268    0.000115\n",
       "2451121932896149445    0.000114\n",
       "2591393804842303278    0.000105\n",
       "463972956607222480     0.000105\n",
       "2769326808692211423    0.000103\n",
       "Name: botryllus, dtype: float64"
      ]
     },
     "execution_count": 39,
     "metadata": {},
     "output_type": "execute_result"
    }
   ],
   "source": [
    "botryllus_minhashes_freq_top10 = botryllus_minhashes_freq.nlargest(10)\n",
    "botryllus_minhashes_freq_top10"
   ]
  },
  {
   "cell_type": "code",
   "execution_count": 40,
   "id": "138dc986-b6de-4fe9-8d43-540ed1b89b1b",
   "metadata": {},
   "outputs": [
    {
     "data": {
      "text/html": [
       "<div>\n",
       "<style scoped>\n",
       "    .dataframe tbody tr th:only-of-type {\n",
       "        vertical-align: middle;\n",
       "    }\n",
       "\n",
       "    .dataframe tbody tr th {\n",
       "        vertical-align: top;\n",
       "    }\n",
       "\n",
       "    .dataframe thead th {\n",
       "        text-align: right;\n",
       "    }\n",
       "</style>\n",
       "<table border=\"1\" class=\"dataframe\">\n",
       "  <thead>\n",
       "    <tr style=\"text-align: right;\">\n",
       "      <th></th>\n",
       "      <th>kmer_in_sequence</th>\n",
       "      <th>kmer_in_alphabet</th>\n",
       "      <th>read_name</th>\n",
       "      <th>filename</th>\n",
       "    </tr>\n",
       "    <tr>\n",
       "      <th>hashval</th>\n",
       "      <th></th>\n",
       "      <th></th>\n",
       "      <th></th>\n",
       "      <th></th>\n",
       "    </tr>\n",
       "  </thead>\n",
       "  <tbody>\n",
       "    <tr>\n",
       "      <th>853878169790340257</th>\n",
       "      <td>SRKHQRRRRSRSKKRRRSSSRERR</td>\n",
       "      <td>pppppppppppppppppppppppp</td>\n",
       "      <td>g574.t1 frame:1</td>\n",
       "      <td>Bs_proteins.fa.gz</td>\n",
       "    </tr>\n",
       "    <tr>\n",
       "      <th>3408350120326268046</th>\n",
       "      <td>DFFTSESKAHKYNTRASTSSKYHM</td>\n",
       "      <td>phhppppphpphppphppppphph</td>\n",
       "      <td>g9249.t1 frame:1</td>\n",
       "      <td>Bs_proteins.fa.gz</td>\n",
       "    </tr>\n",
       "    <tr>\n",
       "      <th>1832506267497687492</th>\n",
       "      <td>YHMIDRKDHRSIKYAGPDVWNSIP</td>\n",
       "      <td>hphhppppppphphhhhphhpphh</td>\n",
       "      <td>g9249.t1 frame:1</td>\n",
       "      <td>Bs_proteins.fa.gz</td>\n",
       "    </tr>\n",
       "    <tr>\n",
       "      <th>1083907595478869357</th>\n",
       "      <td>KAHKYNTRASTSSKYHMIDRKDHR</td>\n",
       "      <td>phpphppphppppphphhpppppp</td>\n",
       "      <td>g9249.t1 frame:1</td>\n",
       "      <td>Bs_proteins.fa.gz</td>\n",
       "    </tr>\n",
       "    <tr>\n",
       "      <th>2382895590170336395</th>\n",
       "      <td>HMIDRKDHRSIKYAGPDVWNSIPP</td>\n",
       "      <td>phhppppppphphhhhphhpphhh</td>\n",
       "      <td>g9249.t1 frame:1</td>\n",
       "      <td>Bs_proteins.fa.gz</td>\n",
       "    </tr>\n",
       "    <tr>\n",
       "      <th>3538013662285724268</th>\n",
       "      <td>GRCPEYFNDFFTSESKAHKYNTRA</td>\n",
       "      <td>hpphphhpphhppppphpphppph</td>\n",
       "      <td>g1306.t1 frame:1</td>\n",
       "      <td>Bs_proteins.fa.gz</td>\n",
       "    </tr>\n",
       "    <tr>\n",
       "      <th>2451121932896149445</th>\n",
       "      <td>YFNDFFTSESKAHKYNTRASTSSK</td>\n",
       "      <td>hhpphhppppphpphppphppppp</td>\n",
       "      <td>g9249.t1 frame:1</td>\n",
       "      <td>Bs_proteins.fa.gz</td>\n",
       "    </tr>\n",
       "    <tr>\n",
       "      <th>2591393804842303278</th>\n",
       "      <td>GPDVWNNILPAIRQSTSMSCPRSS</td>\n",
       "      <td>hhphhpphhhhhppppphpphppp</td>\n",
       "      <td>g7520.t1 frame:1</td>\n",
       "      <td>Bs_proteins.fa.gz</td>\n",
       "    </tr>\n",
       "    <tr>\n",
       "      <th>463972956607222480</th>\n",
       "      <td>AGPDVWNNILPAIRQSTSMSCPRS</td>\n",
       "      <td>hhhphhpphhhhhppppphpphpp</td>\n",
       "      <td>g7520.t1 frame:1</td>\n",
       "      <td>Bs_proteins.fa.gz</td>\n",
       "    </tr>\n",
       "    <tr>\n",
       "      <th>2769326808692211423</th>\n",
       "      <td>KFMYQFHCGRCPEYFNDFFTSESK</td>\n",
       "      <td>phhhphpphpphphhpphhppppp</td>\n",
       "      <td>g1306.t1 frame:1</td>\n",
       "      <td>Bs_proteins.fa.gz</td>\n",
       "    </tr>\n",
       "  </tbody>\n",
       "</table>\n",
       "</div>"
      ],
      "text/plain": [
       "                             kmer_in_sequence          kmer_in_alphabet  \\\n",
       "hashval                                                                   \n",
       "853878169790340257   SRKHQRRRRSRSKKRRRSSSRERR  pppppppppppppppppppppppp   \n",
       "3408350120326268046  DFFTSESKAHKYNTRASTSSKYHM  phhppppphpphppphppppphph   \n",
       "1832506267497687492  YHMIDRKDHRSIKYAGPDVWNSIP  hphhppppppphphhhhphhpphh   \n",
       "1083907595478869357  KAHKYNTRASTSSKYHMIDRKDHR  phpphppphppppphphhpppppp   \n",
       "2382895590170336395  HMIDRKDHRSIKYAGPDVWNSIPP  phhppppppphphhhhphhpphhh   \n",
       "3538013662285724268  GRCPEYFNDFFTSESKAHKYNTRA  hpphphhpphhppppphpphppph   \n",
       "2451121932896149445  YFNDFFTSESKAHKYNTRASTSSK  hhpphhppppphpphppphppppp   \n",
       "2591393804842303278  GPDVWNNILPAIRQSTSMSCPRSS  hhphhpphhhhhppppphpphppp   \n",
       "463972956607222480   AGPDVWNNILPAIRQSTSMSCPRS  hhhphhpphhhhhppppphpphpp   \n",
       "2769326808692211423  KFMYQFHCGRCPEYFNDFFTSESK  phhhphpphpphphhpphhppppp   \n",
       "\n",
       "                            read_name           filename  \n",
       "hashval                                                   \n",
       "853878169790340257    g574.t1 frame:1  Bs_proteins.fa.gz  \n",
       "3408350120326268046  g9249.t1 frame:1  Bs_proteins.fa.gz  \n",
       "1832506267497687492  g9249.t1 frame:1  Bs_proteins.fa.gz  \n",
       "1083907595478869357  g9249.t1 frame:1  Bs_proteins.fa.gz  \n",
       "2382895590170336395  g9249.t1 frame:1  Bs_proteins.fa.gz  \n",
       "3538013662285724268  g1306.t1 frame:1  Bs_proteins.fa.gz  \n",
       "2451121932896149445  g9249.t1 frame:1  Bs_proteins.fa.gz  \n",
       "2591393804842303278  g7520.t1 frame:1  Bs_proteins.fa.gz  \n",
       "463972956607222480   g7520.t1 frame:1  Bs_proteins.fa.gz  \n",
       "2769326808692211423  g1306.t1 frame:1  Bs_proteins.fa.gz  "
      ]
     },
     "execution_count": 40,
     "metadata": {},
     "output_type": "execute_result"
    }
   ],
   "source": [
    "botryllus_kmer_hashes.loc[\n",
    "    botryllus_minhashes_freq_top10.index\n",
    "].drop_duplicates(\"kmer_in_alphabet\")"
   ]
  },
  {
   "cell_type": "code",
   "execution_count": 41,
   "id": "c5f8ea08-7344-47b2-8976-21b3ad45c99d",
   "metadata": {},
   "outputs": [
    {
     "name": "stderr",
     "output_type": "stream",
     "text": [
      "/Users/olgabot/opt/miniconda3/envs/botryllus/lib/python3.10/site-packages/seaborn/distributions.py:2619: FutureWarning: `distplot` is a deprecated function and will be removed in a future version. Please adapt your code to use either `displot` (a figure-level function with similar flexibility) or `histplot` (an axes-level function for histograms).\n",
      "  warnings.warn(msg, FutureWarning)\n",
      "/Users/olgabot/opt/miniconda3/envs/botryllus/lib/python3.10/site-packages/seaborn/distributions.py:2619: FutureWarning: `distplot` is a deprecated function and will be removed in a future version. Please adapt your code to use either `displot` (a figure-level function with similar flexibility) or `histplot` (an axes-level function for histograms).\n",
      "  warnings.warn(msg, FutureWarning)\n"
     ]
    },
    {
     "data": {
      "text/plain": [
       "<AxesSubplot:xlabel='human', ylabel='Density'>"
      ]
     },
     "execution_count": 41,
     "metadata": {},
     "output_type": "execute_result"
    },
    {
     "data": {
      "image/png": "[encoded data removed]",
      "text/plain": [
       "<Figure size 432x288 with 1 Axes>"
      ]
     },
     "metadata": {
      "needs_background": "light"
     },
     "output_type": "display_data"
    }
   ],
   "source": [
    "fig, ax = plt.subplots()\n",
    "ax.set_yscale('log')\n",
    "sns.distplot(botryllus_minhashes_freq, label='botryllus', ax=ax)\n",
    "sns.distplot(human_minhashes_freq, label='human', ax=ax)\n"
   ]
  },
  {
   "cell_type": "markdown",
   "id": "7a5b7f0a-c42c-4825-be48-3ef05ddd8368",
   "metadata": {},
   "source": [
    "# Compute probability of overlap given underlying k-mer distribution"
   ]
  },
  {
   "cell_type": "code",
   "execution_count": 43,
   "id": "e681a592-08e8-4ceb-a962-af4056a3696c",
   "metadata": {},
   "outputs": [
    {
     "data": {
      "text/plain": [
       "27"
      ]
     },
     "execution_count": 43,
     "metadata": {},
     "output_type": "execute_result"
    }
   ],
   "source": [
    "gather_results_subset = gather_results_human.head(100)\n",
    "len(gather_results_subset.groupby(['name_query', 'name_found']))"
   ]
  },
  {
   "cell_type": "code",
   "execution_count": 46,
   "id": "05fc6728-efab-425a-a1af-08508cd8921f",
   "metadata": {},
   "outputs": [],
   "source": [
    "botryllus_minhashes_freq_log = np.log(botryllus_minhashes_freq)\n",
    "human_minhashes_freq_log = np.log(botryllus_minhashes_freq)"
   ]
  },
  {
   "cell_type": "code",
   "execution_count": 49,
   "id": "53d01e57-4a82-4357-8ac1-10d32502d34c",
   "metadata": {},
   "outputs": [
    {
     "data": {
      "text/plain": [
       "1.959659155694698e-06"
      ]
     },
     "execution_count": 49,
     "metadata": {},
     "output_type": "execute_result"
    }
   ],
   "source": [
    "np.exp(-13.142740)"
   ]
  },
  {
   "cell_type": "code",
   "execution_count": 75,
   "id": "4f018610-64ff-4b93-b9fe-57f3d42ec1b8",
   "metadata": {},
   "outputs": [
    {
     "data": {
      "text/plain": [
       "name_query         name_found                                                                                                                                                                                                                                                                                                                                                                                                                                       \n",
       "g22187.t1 frame:1  ENST00000263915.8 gene_id=ENSG00000115290.10;transcript_id=ENST00000263915.8;gene_type=protein_coding;gene_name=GRB14;transcript_type=protein_coding;transcript_name=GRB14-201;level=2;protein_id=ENSP00000263915.3;transcript_support_level=1;hgnc_id=HGNC:4565;tag=basic,Ensembl_canonical,MANE_Select,appris_principal_1,CCDS;ccdsid=CCDS2222.1;havana_gene=OTTHUMG00000132135.8;havana_transcript=OTTHUMT00000255180.3                          -12.449593\n",
       "                   ENST00000264057.7 gene_id=ENSG00000077044.11;transcript_id=ENST00000264057.7;gene_type=protein_coding;gene_name=DGKD;transcript_type=protein_coding;transcript_name=DGKD-201;level=2;protein_id=ENSP00000264057.2;transcript_support_level=1;hgnc_id=HGNC:2851;tag=basic,Ensembl_canonical,MANE_Select,appris_principal_4,CCDS;ccdsid=CCDS2504.1;havana_gene=OTTHUMG00000133290.6;havana_transcript=OTTHUMT00000257072.2                              0.000000\n",
       "                   ENST00000372307.7 gene_id=ENSG00000196517.13;transcript_id=ENST00000372307.7;gene_type=protein_coding;gene_name=SLC6A9;transcript_type=protein_coding;transcript_name=SLC6A9-204;level=1;protein_id=ENSP00000361381.3;transcript_support_level=2;hgnc_id=HGNC:11056;tag=basic,exp_conf;havana_gene=OTTHUMG00000008294.4;havana_transcript=OTTHUMT00000386657.1                                                                                      -12.855058\n",
       "                   ENST00000373150.8 gene_id=ENSG00000116871.16;transcript_id=ENST00000373150.8;gene_type=protein_coding;gene_name=MAP7D1;transcript_type=protein_coding;transcript_name=MAP7D1-203;level=2;protein_id=ENSP00000362243.4;transcript_support_level=2;hgnc_id=HGNC:25514;tag=basic,appris_alternative_2,CCDS;ccdsid=CCDS65492.1;havana_gene=OTTHUMG00000007714.6;havana_transcript=OTTHUMT00000020763.2                                                  -11.296913\n",
       "                   ENST00000373151.6 gene_id=ENSG00000116871.16;transcript_id=ENST00000373151.6;gene_type=protein_coding;gene_name=MAP7D1;transcript_type=protein_coding;transcript_name=MAP7D1-204;level=2;protein_id=ENSP00000362244.2;transcript_support_level=1;hgnc_id=HGNC:25514;tag=basic,appris_principal_4,CCDS;ccdsid=CCDS30673.1;havana_gene=OTTHUMG00000007714.6;havana_transcript=OTTHUMT00000382095.1                                                    -11.296913\n",
       "                   ENST00000373765.5 gene_id=ENSG00000162510.6;transcript_id=ENST00000373765.5;gene_type=protein_coding;gene_name=MATN1;transcript_type=protein_coding;transcript_name=MATN1-201;level=2;protein_id=ENSP00000362870.4;transcript_support_level=1;hgnc_id=HGNC:6907;tag=basic,Ensembl_canonical,MANE_Select,appris_principal_1,CCDS;ccdsid=CCDS336.1;havana_gene=OTTHUMG00000003705.3;havana_transcript=OTTHUMT00000010458.2                            -12.161911\n",
       "                   ENST00000409823.7 gene_id=ENSG00000064933.18;transcript_id=ENST00000409823.7;gene_type=protein_coding;gene_name=PMS1;transcript_type=protein_coding;transcript_name=PMS1-204;level=2;protein_id=ENSP00000387125.3;transcript_support_level=5;hgnc_id=HGNC:9121;tag=basic,CCDS;ccdsid=CCDS46474.1;havana_gene=OTTHUMG00000132664.7;havana_transcript=OTTHUMT00000335283.2                                                                            -12.449593\n",
       "                   ENST00000418224.7 gene_id=ENSG00000064933.18;transcript_id=ENST00000418224.7;gene_type=protein_coding;gene_name=PMS1;transcript_type=protein_coding;transcript_name=PMS1-206;level=3;protein_id=ENSP00000404492.4;transcript_support_level=5;hgnc_id=HGNC:9121;tag=basic;havana_gene=OTTHUMG00000132664.7                                                                                                                                           -12.449593\n",
       "                   ENST00000432292.7 gene_id=ENSG00000064933.18;transcript_id=ENST00000432292.7;gene_type=protein_coding;gene_name=PMS1;transcript_type=protein_coding;transcript_name=PMS1-212;level=3;protein_id=ENSP00000398378.3;transcript_support_level=2;hgnc_id=HGNC:9121;tag=basic,CCDS;ccdsid=CCDS74615.1;havana_gene=OTTHUMG00000132664.7                                                                                                                   -12.449593\n",
       "                   ENST00000441310.7 gene_id=ENSG00000064933.18;transcript_id=ENST00000441310.7;gene_type=protein_coding;gene_name=PMS1;transcript_type=protein_coding;transcript_name=PMS1-213;level=2;protein_id=ENSP00000406490.3;transcript_support_level=1;hgnc_id=HGNC:9121;tag=basic,Ensembl_canonical,MANE_Select,appris_principal_1,CCDS;ccdsid=CCDS2302.1;havana_gene=OTTHUMG00000132664.7;havana_transcript=OTTHUMT00000255918.2                            -12.449593\n",
       "                   ENST00000474796.2 gene_id=ENSG00000116871.16;transcript_id=ENST00000474796.2;gene_type=protein_coding;gene_name=MAP7D1;transcript_type=protein_coding;transcript_name=MAP7D1-207;level=2;protein_id=ENSP00000507044.1;transcript_support_level=2;hgnc_id=HGNC:25514;tag=basic,Ensembl_canonical,MANE_Select,appris_alternative_2;havana_gene=OTTHUMG00000007714.6;havana_transcript=OTTHUMT00000020765.1                                            -11.296913\n",
       "                   ENST00000624204.3 gene_id=ENSG00000064933.18;transcript_id=ENST00000624204.3;gene_type=protein_coding;gene_name=PMS1;transcript_type=protein_coding;transcript_name=PMS1-221;level=3;protein_id=ENSP00000485312.1;transcript_support_level=2;hgnc_id=HGNC:9121;tag=basic,CCDS;ccdsid=CCDS74615.1;havana_gene=OTTHUMG00000132664.7                                                                                                                   -12.449593\n",
       "                   ENST00000639501.1 gene_id=ENSG00000064933.18;transcript_id=ENST00000639501.1;gene_type=protein_coding;gene_name=PMS1;transcript_type=protein_coding;transcript_name=PMS1-222;level=3;protein_id=ENSP00000491236.1;transcript_support_level=5;hgnc_id=HGNC:9121;tag=basic;havana_gene=OTTHUMG00000132664.7                                                                                                                                           -12.449593\n",
       "g25414.t1 frame:1  ENST00000238616.10 gene_id=ENSG00000119638.14;transcript_id=ENST00000238616.10;gene_type=protein_coding;gene_name=NEK9;transcript_type=protein_coding;transcript_name=NEK9-201;level=2;protein_id=ENSP00000238616.5;transcript_support_level=1;hgnc_id=HGNC:18591;tag=basic,Ensembl_canonical,MANE_Select,appris_principal_1,CCDS;ccdsid=CCDS9839.1;havana_gene=OTTHUMG00000171768.4;havana_transcript=OTTHUMT00000415021.3                          -8.711923\n",
       "                   ENST00000344095.8 gene_id=ENSG00000106290.15;transcript_id=ENST00000344095.8;gene_type=protein_coding;gene_name=TAF6;transcript_type=protein_coding;transcript_name=TAF6-201;level=2;protein_id=ENSP00000344537.4;transcript_support_level=1;hgnc_id=HGNC:11540;tag=basic,appris_principal_1,CCDS;ccdsid=CCDS5686.1;havana_gene=OTTHUMG00000154771.12;havana_transcript=OTTHUMT00000337024.2                                                         -8.723899\n",
       "                   ENST00000361833.7 gene_id=ENSG00000152092.16;transcript_id=ENST00000361833.7;gene_type=protein_coding;gene_name=ASTN1;transcript_type=protein_coding;transcript_name=ASTN1-202;level=2;protein_id=ENSP00000354536.2;transcript_support_level=1;hgnc_id=HGNC:773;tag=basic,Ensembl_canonical,MANE_Select,appris_principal_1,CCDS;ccdsid=CCDS1319.1;havana_gene=OTTHUMG00000035041.3;havana_transcript=OTTHUMT00000084822.2                            -8.338719\n",
       "                   ENST00000370397.8 gene_id=ENSG00000213341.11;transcript_id=ENST00000370397.8;gene_type=protein_coding;gene_name=CHUK;transcript_type=protein_coding;transcript_name=CHUK-201;level=2;protein_id=ENSP00000359424.6;transcript_support_level=1;hgnc_id=HGNC:1974;tag=basic,Ensembl_canonical,MANE_Select,appris_principal_1,CCDS;ccdsid=CCDS7488.1;havana_gene=OTTHUMG00000018899.2;havana_transcript=OTTHUMT00000049836.2                             -9.741543\n",
       "                   ENST00000437822.6 gene_id=ENSG00000106290.15;transcript_id=ENST00000437822.6;gene_type=protein_coding;gene_name=TAF6;transcript_type=protein_coding;transcript_name=TAF6-205;level=1;protein_id=ENSP00000399982.2;transcript_support_level=2;hgnc_id=HGNC:11540;tag=basic,exp_conf,CCDS;ccdsid=CCDS55135.1;havana_gene=OTTHUMG00000154771.12;havana_transcript=OTTHUMT00000337137.2                                                                  -8.723899\n",
       "                   ENST00000452041.5 gene_id=ENSG00000106290.15;transcript_id=ENST00000452041.5;gene_type=protein_coding;gene_name=TAF6;transcript_type=protein_coding;transcript_name=TAF6-209;level=2;protein_id=ENSP00000416396.1;transcript_support_level=1;hgnc_id=HGNC:11540;tag=alternative_5_UTR,basic,appris_principal_1,CCDS;ccdsid=CCDS5686.1;havana_gene=OTTHUMG00000154771.12;havana_transcript=OTTHUMT00000337212.2                                       -8.723899\n",
       "                   ENST00000452400.7 gene_id=ENSG00000140396.13;transcript_id=ENST00000452400.7;gene_type=protein_coding;gene_name=NCOA2;transcript_type=protein_coding;transcript_name=NCOA2-201;level=2;protein_id=ENSP00000399968.2;transcript_support_level=1;hgnc_id=HGNC:7669;tag=basic,Ensembl_canonical,MANE_Select,appris_principal_1,CCDS;ccdsid=CCDS47872.1;havana_gene=OTTHUMG00000164671.4;havana_transcript=OTTHUMT00000379696.2                          -9.117388\n",
       "                   ENST00000453269.7 gene_id=ENSG00000106290.15;transcript_id=ENST00000453269.7;gene_type=protein_coding;gene_name=TAF6;transcript_type=protein_coding;transcript_name=TAF6-211;level=2;protein_id=ENSP00000389575.2;transcript_support_level=1;hgnc_id=HGNC:11540;tag=alternative_5_UTR,basic,Ensembl_canonical,MANE_Select,appris_principal_1,CCDS;ccdsid=CCDS5686.1;havana_gene=OTTHUMG00000154771.12;havana_transcript=OTTHUMT00000337139.3         -8.723899\n",
       "                   ENST00000472509.5 gene_id=ENSG00000106290.15;transcript_id=ENST00000472509.5;gene_type=protein_coding;gene_name=TAF6;transcript_type=protein_coding;transcript_name=TAF6-213;level=2;protein_id=ENSP00000419760.1;transcript_support_level=1;hgnc_id=HGNC:11540;tag=basic;havana_gene=OTTHUMG00000154771.12;havana_transcript=OTTHUMT00000354214.1                                                                                                   -8.723899\n",
       "                   ENST00000553823.6 gene_id=ENSG00000119638.14;transcript_id=ENST00000553823.6;gene_type=protein_coding;gene_name=NEK9;transcript_type=protein_coding;transcript_name=NEK9-202;level=1;protein_id=ENSP00000452537.2;transcript_support_level=5;hgnc_id=HGNC:18591;tag=inferred_transcript_model,RNA_Seq_supported_only,basic,exp_conf;havana_gene=OTTHUMG00000171768.4                                                                                 -8.711923\n",
       "                   ENST00000678037.1 gene_id=ENSG00000119638.14;transcript_id=ENST00000678037.1;gene_type=protein_coding;gene_name=NEK9;transcript_type=protein_coding;transcript_name=NEK9-216;level=2;protein_id=ENSP00000504620.1;hgnc_id=HGNC:18591;tag=inferred_transcript_model,RNA_Seq_supported_only,basic;havana_gene=OTTHUMG00000171768.4                                                                                                                     -8.711923\n",
       "g36779.t1 frame:1  ENST00000357429.10 gene_id=ENSG00000146540.15;transcript_id=ENST00000357429.10;gene_type=protein_coding;gene_name=C7orf50;transcript_type=protein_coding;transcript_name=C7orf50-201;level=2;protein_id=ENSP00000350011.5;transcript_support_level=1;hgnc_id=HGNC:22421;tag=basic,appris_principal_1,CCDS;ccdsid=CCDS5320.1;havana_gene=OTTHUMG00000151477.7;havana_transcript=OTTHUMT00000322816.2                                                 -12.855058\n",
       "                   ENST00000397098.8 gene_id=ENSG00000146540.15;transcript_id=ENST00000397098.8;gene_type=protein_coding;gene_name=C7orf50;transcript_type=protein_coding;transcript_name=C7orf50-202;level=2;protein_id=ENSP00000380286.3;transcript_support_level=1;hgnc_id=HGNC:22421;tag=alternative_5_UTR,basic,Ensembl_canonical,MANE_Select,appris_principal_1,CCDS;ccdsid=CCDS5320.1;havana_gene=OTTHUMG00000151477.7;havana_transcript=OTTHUMT00000322817.4   -12.855058\n",
       "                   ENST00000397100.6 gene_id=ENSG00000146540.15;transcript_id=ENST00000397100.6;gene_type=protein_coding;gene_name=C7orf50;transcript_type=protein_coding;transcript_name=C7orf50-203;level=3;protein_id=ENSP00000380288.2;transcript_support_level=3;hgnc_id=HGNC:22421;tag=basic,appris_principal_1,CCDS;ccdsid=CCDS5320.1;havana_gene=OTTHUMG00000151477.7                                                                                          -12.855058\n",
       "dtype: float64"
      ]
     },
     "execution_count": 75,
     "metadata": {},
     "output_type": "execute_result"
    }
   ],
   "source": [
    "    def get_prob_overlap(df, freq_a, freq_b, logged=False):\n",
    "        # import pdb; pdb.set_trace()\n",
    "        hashes = df[\"hashval\"].values\n",
    "\n",
    "        # Not all hashes are present for some reason -> take the intersection for now while I figure that bug out\n",
    "        # Was something done at scaled=10 maybe? and then this is scaled=5 which has half the k-mers?\n",
    "        observed_hashes = freq_a.index.intersection(freq_b.index.intersection(hashes))\n",
    "        if observed_hashes.empty:\n",
    "            return 0\n",
    "\n",
    "        freq_a_subset = freq_a[observed_hashes]\n",
    "        freq_b_subset = freq_b[observed_hashes]\n",
    "        if logged:\n",
    "            # Log-probabilities to prevent underflow\n",
    "            log_probabilities = np.logaddexp(freq_a_subset, freq_b_subset)\n",
    "            prob_overlap = logsumexp(log_probabilities)\n",
    "            # import pdb; pdb.set_trace()\n",
    "        else:\n",
    "            # Raw probabilities\n",
    "            prob_overlap = freq_a_subset.multiply(freq_b_subset).sum()\n",
    "\n",
    "        return prob_overlap\n",
    "\n",
    "\n",
    "gather_results_subset.groupby([\"name_query\", \"name_found\"]).apply(\n",
    "    lambda x: get_prob_overlap(\n",
    "        x, botryllus_minhashes_freq_log, human_minhashes_freq_log, logged=True\n",
    "    )\n",
    ")"
   ]
  },
  {
   "cell_type": "code",
   "execution_count": 77,
   "id": "d24be1c1-2e87-4505-9de8-30322dde64c1",
   "metadata": {},
   "outputs": [
    {
     "data": {
      "application/vnd.jupyter.widget-view+json": {
       "model_id": "6a630cdfec5147debb702919e4485454",
       "version_major": 2,
       "version_minor": 0
      },
      "text/plain": [
       "  0%|          | 0/577598 [00:00<?, ?it/s]"
      ]
     },
     "metadata": {},
     "output_type": "display_data"
    },
    {
     "data": {
      "text/plain": [
       "name_query  name_found                                                                                                                                                                                                                                                                                                                                                                                                                                   \n",
       "BHF         ENST00000216832.9 gene_id=ENSG00000100941.9;transcript_id=ENST00000216832.9;gene_type=protein_coding;gene_name=PNN;transcript_type=protein_coding;transcript_name=PNN-201;level=2;protein_id=ENSP00000216832.4;transcript_support_level=1;hgnc_id=HGNC:9162;tag=basic,Ensembl_canonical,MANE_Select,appris_principal_1,CCDS;ccdsid=CCDS9671.1;havana_gene=OTTHUMG00000028821.6;havana_transcript=OTTHUMT00000276776.3                           -12.855058\n",
       "            ENST00000234296.7 gene_id=ENSG00000115942.9;transcript_id=ENST00000234296.7;gene_type=protein_coding;gene_name=ORC2;transcript_type=protein_coding;transcript_name=ORC2-201;level=2;protein_id=ENSP00000234296.2;transcript_support_level=1;hgnc_id=HGNC:8488;tag=basic,Ensembl_canonical,MANE_Select,appris_principal_1,CCDS;ccdsid=CCDS2334.1;havana_gene=OTTHUMG00000132783.25;havana_transcript=OTTHUMT00000256191.3                        -13.548205\n",
       "            ENST00000252519.8 gene_id=ENSG00000130234.13;transcript_id=ENST00000252519.8;gene_type=protein_coding;gene_name=ACE2;transcript_type=protein_coding;transcript_name=ACE2-201;level=2;protein_id=ENSP00000252519.3;transcript_support_level=1;hgnc_id=HGNC:13557;tag=CAGE_supported_TSS,basic,Ensembl_canonical,MANE_Select,appris_principal_2,CCDS;ccdsid=CCDS14169.1;havana_gene=OTTHUMG00000193402.2;havana_transcript=OTTHUMT00000055867.2   -12.161911\n",
       "            ENST00000262173.7 gene_id=ENSG00000101654.18;transcript_id=ENST00000262173.7;gene_type=protein_coding;gene_name=RNMT;transcript_type=protein_coding;transcript_name=RNMT-201;level=3;protein_id=ENSP00000262173.3;transcript_support_level=2;hgnc_id=HGNC:10075;tag=basic,appris_principal_1,CCDS;ccdsid=CCDS11867.1;havana_gene=OTTHUMG00000131718.5                                                                                           -11.676403\n",
       "            ENST00000282701.4 gene_id=ENSG00000152785.8;transcript_id=ENST00000282701.4;gene_type=protein_coding;gene_name=BMP3;transcript_type=protein_coding;transcript_name=BMP3-201;level=2;protein_id=ENSP00000282701.2;transcript_support_level=1;hgnc_id=HGNC:1070;tag=basic,Ensembl_canonical,MANE_Select,appris_principal_1,CCDS;ccdsid=CCDS3588.1;havana_gene=OTTHUMG00000130292.2;havana_transcript=OTTHUMT00000252634.2                         -11.756446\n",
       "                                                                                                                                                                                                                                                                                                                                                                                                                                                               ...    \n",
       "sFuHC       ENST00000562924.5 gene_id=ENSG00000156642.17;transcript_id=ENST00000562924.5;gene_type=protein_coding;gene_name=NPTN;transcript_type=protein_coding;transcript_name=NPTN-204;level=2;protein_id=ENSP00000456349.1;transcript_support_level=1;hgnc_id=HGNC:17867;tag=basic,CCDS;ccdsid=CCDS58379.1;havana_gene=OTTHUMG00000137586.7;havana_transcript=OTTHUMT00000420152.1                                                                       -12.044128\n",
       "            ENST00000563691.5 gene_id=ENSG00000156642.17;transcript_id=ENST00000563691.5;gene_type=protein_coding;gene_name=NPTN;transcript_type=protein_coding;transcript_name=NPTN-205;level=2;protein_id=ENSP00000457028.1;transcript_support_level=1;hgnc_id=HGNC:17867;tag=basic,appris_alternative_2,CCDS;ccdsid=CCDS58380.1;havana_gene=OTTHUMG00000137586.7;havana_transcript=OTTHUMT00000420124.2                                                  -12.044128\n",
       "            ENST00000621106.4 gene_id=ENSG00000067248.10;transcript_id=ENST00000621106.4;gene_type=protein_coding;gene_name=DHX29;transcript_type=protein_coding;transcript_name=DHX29-205;level=3;protein_id=ENSP00000481966.1;transcript_support_level=5;hgnc_id=HGNC:15815;tag=basic,appris_alternative_2;havana_gene=OTTHUMG00000162313.3                                                                                                               -13.142740\n",
       "            ENST00000682385.1 gene_id=ENSG00000134909.19;transcript_id=ENST00000682385.1;gene_type=protein_coding;gene_name=ARHGAP32;transcript_type=protein_coding;transcript_name=ARHGAP32-209;level=2;protein_id=ENSP00000507720.1;hgnc_id=HGNC:17399;tag=inferred_transcript_model,basic,Ensembl_canonical,MANE_Select,appris_alternative_2;havana_gene=OTTHUMG00000165774.4                                                                            -12.044128\n",
       "            ENST00000683543.1 gene_id=ENSG00000167548.17;transcript_id=ENST00000683543.1;gene_type=protein_coding;gene_name=KMT2D;transcript_type=protein_coding;transcript_name=KMT2D-211;level=2;protein_id=ENSP00000506726.1;hgnc_id=HGNC:7133;tag=inferred_transcript_model,RNA_Seq_supported_partial,basic,appris_principal_1;havana_gene=OTTHUMG00000166524.4;havana_transcript=OTTHUMT00000390182.1                                                  -12.631914\n",
       "Length: 577598, dtype: float64"
      ]
     },
     "execution_count": 77,
     "metadata": {},
     "output_type": "execute_result"
    }
   ],
   "source": [
    "human_botryllus_kmer_probs = gather_results_human.groupby(\n",
    "    [\"name_query\", \"name_found\"]\n",
    ").progress_apply(\n",
    "    lambda x: get_prob_overlap(\n",
    "        x, botryllus_minhashes_freq_log, human_minhashes_freq_log, logged=True\n",
    "    )\n",
    ")\n",
    "human_botryllus_kmer_probs"
   ]
  },
  {
   "cell_type": "code",
   "execution_count": 67,
   "id": "45d5f669-a91a-4a5c-82b0-cb234113291a",
   "metadata": {},
   "outputs": [
    {
     "data": {
      "text/plain": [
       "name_query  name_found                                                                                                                                                                                                                                                                                                                                                                                                                                   \n",
       "BHF         ENST00000216832.9 gene_id=ENSG00000100941.9;transcript_id=ENST00000216832.9;gene_type=protein_coding;gene_name=PNN;transcript_type=protein_coding;transcript_name=PNN-201;level=2;protein_id=ENSP00000216832.4;transcript_support_level=1;hgnc_id=HGNC:9162;tag=basic,Ensembl_canonical,MANE_Select,appris_principal_1,CCDS;ccdsid=CCDS9671.1;havana_gene=OTTHUMG00000028821.6;havana_transcript=OTTHUMT00000276776.3                            1.386295\n",
       "            ENST00000234296.7 gene_id=ENSG00000115942.9;transcript_id=ENST00000234296.7;gene_type=protein_coding;gene_name=ORC2;transcript_type=protein_coding;transcript_name=ORC2-201;level=2;protein_id=ENSP00000234296.2;transcript_support_level=1;hgnc_id=HGNC:8488;tag=basic,Ensembl_canonical,MANE_Select,appris_principal_1,CCDS;ccdsid=CCDS2334.1;havana_gene=OTTHUMG00000132783.25;havana_transcript=OTTHUMT00000256191.3                         1.386295\n",
       "            ENST00000252519.8 gene_id=ENSG00000130234.13;transcript_id=ENST00000252519.8;gene_type=protein_coding;gene_name=ACE2;transcript_type=protein_coding;transcript_name=ACE2-201;level=2;protein_id=ENSP00000252519.3;transcript_support_level=1;hgnc_id=HGNC:13557;tag=CAGE_supported_TSS,basic,Ensembl_canonical,MANE_Select,appris_principal_2,CCDS;ccdsid=CCDS14169.1;havana_gene=OTTHUMG00000193402.2;havana_transcript=OTTHUMT00000055867.2    1.386296\n",
       "            ENST00000262173.7 gene_id=ENSG00000101654.18;transcript_id=ENST00000262173.7;gene_type=protein_coding;gene_name=RNMT;transcript_type=protein_coding;transcript_name=RNMT-201;level=3;protein_id=ENSP00000262173.3;transcript_support_level=2;hgnc_id=HGNC:10075;tag=basic,appris_principal_1,CCDS;ccdsid=CCDS11867.1;havana_gene=OTTHUMG00000131718.5                                                                                            1.791761\n",
       "            ENST00000282701.4 gene_id=ENSG00000152785.8;transcript_id=ENST00000282701.4;gene_type=protein_coding;gene_name=BMP3;transcript_type=protein_coding;transcript_name=BMP3-201;level=2;protein_id=ENSP00000282701.2;transcript_support_level=1;hgnc_id=HGNC:1070;tag=basic,Ensembl_canonical,MANE_Select,appris_principal_1,CCDS;ccdsid=CCDS3588.1;havana_gene=OTTHUMG00000130292.2;havana_transcript=OTTHUMT00000252634.2                          1.386296\n",
       "dtype: float64"
      ]
     },
     "execution_count": 67,
     "metadata": {},
     "output_type": "execute_result"
    }
   ],
   "source": [
    "human_botryllus_kmer_probs.head()"
   ]
  },
  {
   "cell_type": "code",
   "execution_count": 74,
   "id": "0b80d7ca-7032-4043-91d9-e89a68735495",
   "metadata": {},
   "outputs": [
    {
     "data": {
      "text/plain": [
       "<seaborn.axisgrid.FacetGrid at 0x22ba86ad0>"
      ]
     },
     "execution_count": 74,
     "metadata": {},
     "output_type": "execute_result"
    },
    {
     "data": {
      "image/png": "[encoded data removed]",
      "text/plain": [
       "<Figure size 360x360 with 1 Axes>"
      ]
     },
     "metadata": {
      "needs_background": "light"
     },
     "output_type": "display_data"
    }
   ],
   "source": [
    "sns.displot(human_botryllus_kmer_probs)"
   ]
  },
  {
   "cell_type": "code",
   "execution_count": 68,
   "id": "b48d61c5-bfb2-4e40-ad74-4006e581d750",
   "metadata": {},
   "outputs": [
    {
     "data": {
      "text/plain": [
       "577598"
      ]
     },
     "execution_count": 68,
     "metadata": {},
     "output_type": "execute_result"
    }
   ],
   "source": [
    "n_comparisons = len(human_botryllus_kmer_probs)\n",
    "n_comparisons"
   ]
  },
  {
   "cell_type": "code",
   "execution_count": 69,
   "id": "2c08310e-a250-4a84-b8ea-8769302d4dff",
   "metadata": {},
   "outputs": [
    {
     "data": {
      "text/plain": [
       "name_query  name_found                                                                                                                                                                                                                                                                                                                                                                                                                                   \n",
       "BHF         ENST00000216832.9 gene_id=ENSG00000100941.9;transcript_id=ENST00000216832.9;gene_type=protein_coding;gene_name=PNN;transcript_type=protein_coding;transcript_name=PNN-201;level=2;protein_id=ENSP00000216832.4;transcript_support_level=1;hgnc_id=HGNC:9162;tag=basic,Ensembl_canonical,MANE_Select,appris_principal_1,CCDS;ccdsid=CCDS9671.1;havana_gene=OTTHUMG00000028821.6;havana_transcript=OTTHUMT00000276776.3                            577599.386295\n",
       "            ENST00000234296.7 gene_id=ENSG00000115942.9;transcript_id=ENST00000234296.7;gene_type=protein_coding;gene_name=ORC2;transcript_type=protein_coding;transcript_name=ORC2-201;level=2;protein_id=ENSP00000234296.2;transcript_support_level=1;hgnc_id=HGNC:8488;tag=basic,Ensembl_canonical,MANE_Select,appris_principal_1,CCDS;ccdsid=CCDS2334.1;havana_gene=OTTHUMG00000132783.25;havana_transcript=OTTHUMT00000256191.3                         577599.386295\n",
       "            ENST00000252519.8 gene_id=ENSG00000130234.13;transcript_id=ENST00000252519.8;gene_type=protein_coding;gene_name=ACE2;transcript_type=protein_coding;transcript_name=ACE2-201;level=2;protein_id=ENSP00000252519.3;transcript_support_level=1;hgnc_id=HGNC:13557;tag=CAGE_supported_TSS,basic,Ensembl_canonical,MANE_Select,appris_principal_2,CCDS;ccdsid=CCDS14169.1;havana_gene=OTTHUMG00000193402.2;havana_transcript=OTTHUMT00000055867.2    577599.386296\n",
       "            ENST00000262173.7 gene_id=ENSG00000101654.18;transcript_id=ENST00000262173.7;gene_type=protein_coding;gene_name=RNMT;transcript_type=protein_coding;transcript_name=RNMT-201;level=3;protein_id=ENSP00000262173.3;transcript_support_level=2;hgnc_id=HGNC:10075;tag=basic,appris_principal_1,CCDS;ccdsid=CCDS11867.1;havana_gene=OTTHUMG00000131718.5                                                                                            577599.791761\n",
       "            ENST00000282701.4 gene_id=ENSG00000152785.8;transcript_id=ENST00000282701.4;gene_type=protein_coding;gene_name=BMP3;transcript_type=protein_coding;transcript_name=BMP3-201;level=2;protein_id=ENSP00000282701.2;transcript_support_level=1;hgnc_id=HGNC:1070;tag=basic,Ensembl_canonical,MANE_Select,appris_principal_1,CCDS;ccdsid=CCDS3588.1;havana_gene=OTTHUMG00000130292.2;havana_transcript=OTTHUMT00000252634.2                          577599.386296\n",
       "                                                                                                                                                                                                                                                                                                                                                                                                                                                                 ...      \n",
       "sFuHC       ENST00000562924.5 gene_id=ENSG00000156642.17;transcript_id=ENST00000562924.5;gene_type=protein_coding;gene_name=NPTN;transcript_type=protein_coding;transcript_name=NPTN-204;level=2;protein_id=ENSP00000456349.1;transcript_support_level=1;hgnc_id=HGNC:17867;tag=basic,CCDS;ccdsid=CCDS58379.1;havana_gene=OTTHUMG00000137586.7;havana_transcript=OTTHUMT00000420152.1                                                                        577599.791761\n",
       "            ENST00000563691.5 gene_id=ENSG00000156642.17;transcript_id=ENST00000563691.5;gene_type=protein_coding;gene_name=NPTN;transcript_type=protein_coding;transcript_name=NPTN-205;level=2;protein_id=ENSP00000457028.1;transcript_support_level=1;hgnc_id=HGNC:17867;tag=basic,appris_alternative_2,CCDS;ccdsid=CCDS58380.1;havana_gene=OTTHUMG00000137586.7;havana_transcript=OTTHUMT00000420124.2                                                   577599.791761\n",
       "            ENST00000621106.4 gene_id=ENSG00000067248.10;transcript_id=ENST00000621106.4;gene_type=protein_coding;gene_name=DHX29;transcript_type=protein_coding;transcript_name=DHX29-205;level=3;protein_id=ENSP00000481966.1;transcript_support_level=5;hgnc_id=HGNC:15815;tag=basic,appris_alternative_2;havana_gene=OTTHUMG00000162313.3                                                                                                                577599.386295\n",
       "            ENST00000682385.1 gene_id=ENSG00000134909.19;transcript_id=ENST00000682385.1;gene_type=protein_coding;gene_name=ARHGAP32;transcript_type=protein_coding;transcript_name=ARHGAP32-209;level=2;protein_id=ENSP00000507720.1;hgnc_id=HGNC:17399;tag=inferred_transcript_model,basic,Ensembl_canonical,MANE_Select,appris_alternative_2;havana_gene=OTTHUMG00000165774.4                                                                             577599.791761\n",
       "            ENST00000683543.1 gene_id=ENSG00000167548.17;transcript_id=ENST00000683543.1;gene_type=protein_coding;gene_name=KMT2D;transcript_type=protein_coding;transcript_name=KMT2D-211;level=2;protein_id=ENSP00000506726.1;hgnc_id=HGNC:7133;tag=inferred_transcript_model,RNA_Seq_supported_partial,basic,appris_principal_1;havana_gene=OTTHUMG00000166524.4;havana_transcript=OTTHUMT00000390182.1                                                   577599.386295\n",
       "Length: 577598, dtype: float64"
      ]
     },
     "execution_count": 69,
     "metadata": {},
     "output_type": "execute_result"
    }
   ],
   "source": [
    "# Log probabilities -> Add the number of comparisions\n",
    "human_botryllus_kmer_probs_adjusted = human_botryllus_kmer_probs+n_comparisons\n",
    "human_botryllus_kmer_probs_adjusted"
   ]
  },
  {
   "cell_type": "code",
   "execution_count": 70,
   "id": "a92a8004-22a4-478e-b3fb-d732e54abaa4",
   "metadata": {},
   "outputs": [
    {
     "data": {
      "text/plain": [
       "count    577598.000000\n",
       "mean     577599.525416\n",
       "std           0.320700\n",
       "min      577598.000000\n",
       "25%      577599.386295\n",
       "50%      577599.386297\n",
       "75%      577599.791760\n",
       "max      577603.463833\n",
       "dtype: float64"
      ]
     },
     "execution_count": 70,
     "metadata": {},
     "output_type": "execute_result"
    }
   ],
   "source": [
    "human_botryllus_kmer_probs_adjusted.describe()"
   ]
  },
  {
   "cell_type": "code",
   "execution_count": 71,
   "id": "3a4ce6c3-f11b-470a-9fe3-c39a7d2f0641",
   "metadata": {},
   "outputs": [
    {
     "data": {
      "text/plain": [
       "count    5.775980e+05\n",
       "mean     5.761627e+00\n",
       "std      2.411325e-07\n",
       "min      5.761626e+00\n",
       "25%      5.761627e+00\n",
       "50%      5.761627e+00\n",
       "75%      5.761627e+00\n",
       "max      5.761630e+00\n",
       "dtype: float64"
      ]
     },
     "execution_count": 71,
     "metadata": {},
     "output_type": "execute_result"
    }
   ],
   "source": [
    "np.log10(human_botryllus_kmer_probs_adjusted).describe()"
   ]
  },
  {
   "cell_type": "code",
   "execution_count": 73,
   "id": "6d2f33f7-577c-44c5-91cf-d924e39aa4e8",
   "metadata": {},
   "outputs": [
    {
     "data": {
      "text/plain": [
       "<seaborn.axisgrid.FacetGrid at 0x22ba852d0>"
      ]
     },
     "execution_count": 73,
     "metadata": {},
     "output_type": "execute_result"
    },
    {
     "data": {
      "image/png": "[encoded data removed]",
      "text/plain": [
       "<Figure size 360x360 with 1 Axes>"
      ]
     },
     "metadata": {
      "needs_background": "light"
     },
     "output_type": "display_data"
    }
   ],
   "source": [
    "sns.displot(human_botryllus_kmer_probs_adjusted)"
   ]
  },
  {
   "cell_type": "code",
   "execution_count": null,
   "id": "ba80b6a4-eb78-4ec5-9ed7-606c1ab97ce1",
   "metadata": {},
   "outputs": [],
   "source": []
  }
 ],
 "metadata": {
  "kernelspec": {
   "display_name": "Python [conda env:botryllus]",
   "language": "python",
   "name": "conda-env-botryllus-py"
  },
  "language_info": {
   "codemirror_mode": {
    "name": "ipython",
    "version": 3
   },
   "file_extension": ".py",
   "mimetype": "text/x-python",
   "name": "python",
   "nbconvert_exporter": "python",
   "pygments_lexer": "ipython3",
   "version": "3.10.8"
  }
 },
 "nbformat": 4,
 "nbformat_minor": 5
}
